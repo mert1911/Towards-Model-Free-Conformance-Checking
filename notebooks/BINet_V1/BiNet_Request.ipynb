{
 "cells": [
  {
   "cell_type": "markdown",
   "metadata": {},
   "source": [
    "# Import Event Log"
   ]
  },
  {
   "cell_type": "code",
   "execution_count": 1,
   "metadata": {},
   "outputs": [
    {
     "name": "stderr",
     "output_type": "stream",
     "text": [
      "/opt/anaconda3/lib/python3.9/site-packages/pm4py/util/dt_parsing/parser.py:76: UserWarning: ISO8601 strings are not fully supported with strpfromiso for Python versions below 3.11\n",
      "  warnings.warn(\n"
     ]
    },
    {
     "data": {
      "application/vnd.jupyter.widget-view+json": {
       "model_id": "8831c9c506bd408496a7b59dcfcbd6dc",
       "version_major": 2,
       "version_minor": 0
      },
      "text/plain": [
       "parsing log, completed traces ::   0%|          | 0/6886 [00:00<?, ?it/s]"
      ]
     },
     "metadata": {},
     "output_type": "display_data"
    },
    {
     "data": {
      "text/html": [
       "<div>\n",
       "<style scoped>\n",
       "    .dataframe tbody tr th:only-of-type {\n",
       "        vertical-align: middle;\n",
       "    }\n",
       "\n",
       "    .dataframe tbody tr th {\n",
       "        vertical-align: top;\n",
       "    }\n",
       "\n",
       "    .dataframe thead th {\n",
       "        text-align: right;\n",
       "    }\n",
       "</style>\n",
       "<table border=\"1\" class=\"dataframe\">\n",
       "  <thead>\n",
       "    <tr style=\"text-align: right;\">\n",
       "      <th></th>\n",
       "      <th>id</th>\n",
       "      <th>org:resource</th>\n",
       "      <th>concept:name</th>\n",
       "      <th>time:timestamp</th>\n",
       "      <th>org:role</th>\n",
       "      <th>case:Rfp_id</th>\n",
       "      <th>case:Project</th>\n",
       "      <th>case:Task</th>\n",
       "      <th>case:concept:name</th>\n",
       "      <th>case:OrganizationalEntity</th>\n",
       "      <th>case:Cost Type</th>\n",
       "      <th>case:RequestedAmount</th>\n",
       "      <th>case:Activity</th>\n",
       "      <th>case:RfpNumber</th>\n",
       "      <th>@@case_index</th>\n",
       "    </tr>\n",
       "  </thead>\n",
       "  <tbody>\n",
       "    <tr>\n",
       "      <th>0</th>\n",
       "      <td>st_step 148220_0</td>\n",
       "      <td>STAFF MEMBER</td>\n",
       "      <td>Request For Payment SUBMITTED by EMPLOYEE</td>\n",
       "      <td>2017-01-09 08:17:18+00:00</td>\n",
       "      <td>EMPLOYEE</td>\n",
       "      <td>request for payment 148214</td>\n",
       "      <td>project 148216</td>\n",
       "      <td>UNKNOWN</td>\n",
       "      <td>request for payment 148214</td>\n",
       "      <td>organizational unit 65463</td>\n",
       "      <td>0</td>\n",
       "      <td>34.336343</td>\n",
       "      <td>UNKNOWN</td>\n",
       "      <td>request for payment number 148215</td>\n",
       "      <td>0</td>\n",
       "    </tr>\n",
       "    <tr>\n",
       "      <th>1</th>\n",
       "      <td>st_step 148221_0</td>\n",
       "      <td>STAFF MEMBER</td>\n",
       "      <td>Request For Payment FINAL_APPROVED by SUPERVISOR</td>\n",
       "      <td>2017-01-09 08:18:00+00:00</td>\n",
       "      <td>SUPERVISOR</td>\n",
       "      <td>request for payment 148214</td>\n",
       "      <td>project 148216</td>\n",
       "      <td>UNKNOWN</td>\n",
       "      <td>request for payment 148214</td>\n",
       "      <td>organizational unit 65463</td>\n",
       "      <td>0</td>\n",
       "      <td>34.336343</td>\n",
       "      <td>UNKNOWN</td>\n",
       "      <td>request for payment number 148215</td>\n",
       "      <td>0</td>\n",
       "    </tr>\n",
       "    <tr>\n",
       "      <th>2</th>\n",
       "      <td>st_step 148222_0</td>\n",
       "      <td>STAFF MEMBER</td>\n",
       "      <td>Request For Payment REJECTED by MISSING</td>\n",
       "      <td>2017-01-10 11:42:32+00:00</td>\n",
       "      <td>MISSING</td>\n",
       "      <td>request for payment 148214</td>\n",
       "      <td>project 148216</td>\n",
       "      <td>UNKNOWN</td>\n",
       "      <td>request for payment 148214</td>\n",
       "      <td>organizational unit 65463</td>\n",
       "      <td>0</td>\n",
       "      <td>34.336343</td>\n",
       "      <td>UNKNOWN</td>\n",
       "      <td>request for payment number 148215</td>\n",
       "      <td>0</td>\n",
       "    </tr>\n",
       "    <tr>\n",
       "      <th>3</th>\n",
       "      <td>st_step 148219_0</td>\n",
       "      <td>STAFF MEMBER</td>\n",
       "      <td>Request For Payment SUBMITTED by EMPLOYEE</td>\n",
       "      <td>2017-03-03 08:51:13+00:00</td>\n",
       "      <td>EMPLOYEE</td>\n",
       "      <td>request for payment 148214</td>\n",
       "      <td>project 148216</td>\n",
       "      <td>UNKNOWN</td>\n",
       "      <td>request for payment 148214</td>\n",
       "      <td>organizational unit 65463</td>\n",
       "      <td>0</td>\n",
       "      <td>34.336343</td>\n",
       "      <td>UNKNOWN</td>\n",
       "      <td>request for payment number 148215</td>\n",
       "      <td>0</td>\n",
       "    </tr>\n",
       "    <tr>\n",
       "      <th>4</th>\n",
       "      <td>st_step 148218_0</td>\n",
       "      <td>STAFF MEMBER</td>\n",
       "      <td>Request For Payment APPROVED by PRE_APPROVER</td>\n",
       "      <td>2017-03-03 08:51:42+00:00</td>\n",
       "      <td>PRE_APPROVER</td>\n",
       "      <td>request for payment 148214</td>\n",
       "      <td>project 148216</td>\n",
       "      <td>UNKNOWN</td>\n",
       "      <td>request for payment 148214</td>\n",
       "      <td>organizational unit 65463</td>\n",
       "      <td>0</td>\n",
       "      <td>34.336343</td>\n",
       "      <td>UNKNOWN</td>\n",
       "      <td>request for payment number 148215</td>\n",
       "      <td>0</td>\n",
       "    </tr>\n",
       "    <tr>\n",
       "      <th>...</th>\n",
       "      <td>...</td>\n",
       "      <td>...</td>\n",
       "      <td>...</td>\n",
       "      <td>...</td>\n",
       "      <td>...</td>\n",
       "      <td>...</td>\n",
       "      <td>...</td>\n",
       "      <td>...</td>\n",
       "      <td>...</td>\n",
       "      <td>...</td>\n",
       "      <td>...</td>\n",
       "      <td>...</td>\n",
       "      <td>...</td>\n",
       "      <td>...</td>\n",
       "      <td>...</td>\n",
       "    </tr>\n",
       "    <tr>\n",
       "      <th>36791</th>\n",
       "      <td>st_step 185004_0</td>\n",
       "      <td>STAFF MEMBER</td>\n",
       "      <td>Request For Payment APPROVED by ADMINISTRATION</td>\n",
       "      <td>2018-12-29 11:35:02+00:00</td>\n",
       "      <td>ADMINISTRATION</td>\n",
       "      <td>request for payment 185000</td>\n",
       "      <td>project 147860</td>\n",
       "      <td>task 152704</td>\n",
       "      <td>request for payment 185000</td>\n",
       "      <td>organizational unit 65468</td>\n",
       "      <td>0</td>\n",
       "      <td>15.409660</td>\n",
       "      <td>activity 505</td>\n",
       "      <td>request for payment number 185001</td>\n",
       "      <td>6885</td>\n",
       "    </tr>\n",
       "    <tr>\n",
       "      <th>36792</th>\n",
       "      <td>st_step 185003_0</td>\n",
       "      <td>STAFF MEMBER</td>\n",
       "      <td>Request For Payment APPROVED by BUDGET OWNER</td>\n",
       "      <td>2019-01-03 08:27:20+00:00</td>\n",
       "      <td>BUDGET OWNER</td>\n",
       "      <td>request for payment 185000</td>\n",
       "      <td>project 147860</td>\n",
       "      <td>task 152704</td>\n",
       "      <td>request for payment 185000</td>\n",
       "      <td>organizational unit 65468</td>\n",
       "      <td>0</td>\n",
       "      <td>15.409660</td>\n",
       "      <td>activity 505</td>\n",
       "      <td>request for payment number 185001</td>\n",
       "      <td>6885</td>\n",
       "    </tr>\n",
       "    <tr>\n",
       "      <th>36793</th>\n",
       "      <td>st_step 185005_0</td>\n",
       "      <td>STAFF MEMBER</td>\n",
       "      <td>Request For Payment FINAL_APPROVED by SUPERVISOR</td>\n",
       "      <td>2019-01-08 08:00:39+00:00</td>\n",
       "      <td>SUPERVISOR</td>\n",
       "      <td>request for payment 185000</td>\n",
       "      <td>project 147860</td>\n",
       "      <td>task 152704</td>\n",
       "      <td>request for payment 185000</td>\n",
       "      <td>organizational unit 65468</td>\n",
       "      <td>0</td>\n",
       "      <td>15.409660</td>\n",
       "      <td>activity 505</td>\n",
       "      <td>request for payment number 185001</td>\n",
       "      <td>6885</td>\n",
       "    </tr>\n",
       "    <tr>\n",
       "      <th>36794</th>\n",
       "      <td>rp_request for payment 185000_15</td>\n",
       "      <td>SYSTEM</td>\n",
       "      <td>Request Payment</td>\n",
       "      <td>2019-01-08 08:29:14+00:00</td>\n",
       "      <td>UNDEFINED</td>\n",
       "      <td>request for payment 185000</td>\n",
       "      <td>project 147860</td>\n",
       "      <td>task 152704</td>\n",
       "      <td>request for payment 185000</td>\n",
       "      <td>organizational unit 65468</td>\n",
       "      <td>0</td>\n",
       "      <td>15.409660</td>\n",
       "      <td>activity 505</td>\n",
       "      <td>request for payment number 185001</td>\n",
       "      <td>6885</td>\n",
       "    </tr>\n",
       "    <tr>\n",
       "      <th>36795</th>\n",
       "      <td>rp_request for payment 185000_16</td>\n",
       "      <td>SYSTEM</td>\n",
       "      <td>Payment Handled</td>\n",
       "      <td>2019-01-10 16:31:09+00:00</td>\n",
       "      <td>UNDEFINED</td>\n",
       "      <td>request for payment 185000</td>\n",
       "      <td>project 147860</td>\n",
       "      <td>task 152704</td>\n",
       "      <td>request for payment 185000</td>\n",
       "      <td>organizational unit 65468</td>\n",
       "      <td>0</td>\n",
       "      <td>15.409660</td>\n",
       "      <td>activity 505</td>\n",
       "      <td>request for payment number 185001</td>\n",
       "      <td>6885</td>\n",
       "    </tr>\n",
       "  </tbody>\n",
       "</table>\n",
       "<p>36796 rows × 15 columns</p>\n",
       "</div>"
      ],
      "text/plain": [
       "                                     id  org:resource  \\\n",
       "0                      st_step 148220_0  STAFF MEMBER   \n",
       "1                      st_step 148221_0  STAFF MEMBER   \n",
       "2                      st_step 148222_0  STAFF MEMBER   \n",
       "3                      st_step 148219_0  STAFF MEMBER   \n",
       "4                      st_step 148218_0  STAFF MEMBER   \n",
       "...                                 ...           ...   \n",
       "36791                  st_step 185004_0  STAFF MEMBER   \n",
       "36792                  st_step 185003_0  STAFF MEMBER   \n",
       "36793                  st_step 185005_0  STAFF MEMBER   \n",
       "36794  rp_request for payment 185000_15        SYSTEM   \n",
       "36795  rp_request for payment 185000_16        SYSTEM   \n",
       "\n",
       "                                           concept:name  \\\n",
       "0             Request For Payment SUBMITTED by EMPLOYEE   \n",
       "1      Request For Payment FINAL_APPROVED by SUPERVISOR   \n",
       "2               Request For Payment REJECTED by MISSING   \n",
       "3             Request For Payment SUBMITTED by EMPLOYEE   \n",
       "4          Request For Payment APPROVED by PRE_APPROVER   \n",
       "...                                                 ...   \n",
       "36791    Request For Payment APPROVED by ADMINISTRATION   \n",
       "36792      Request For Payment APPROVED by BUDGET OWNER   \n",
       "36793  Request For Payment FINAL_APPROVED by SUPERVISOR   \n",
       "36794                                   Request Payment   \n",
       "36795                                   Payment Handled   \n",
       "\n",
       "                 time:timestamp        org:role                 case:Rfp_id  \\\n",
       "0     2017-01-09 08:17:18+00:00        EMPLOYEE  request for payment 148214   \n",
       "1     2017-01-09 08:18:00+00:00      SUPERVISOR  request for payment 148214   \n",
       "2     2017-01-10 11:42:32+00:00         MISSING  request for payment 148214   \n",
       "3     2017-03-03 08:51:13+00:00        EMPLOYEE  request for payment 148214   \n",
       "4     2017-03-03 08:51:42+00:00    PRE_APPROVER  request for payment 148214   \n",
       "...                         ...             ...                         ...   \n",
       "36791 2018-12-29 11:35:02+00:00  ADMINISTRATION  request for payment 185000   \n",
       "36792 2019-01-03 08:27:20+00:00    BUDGET OWNER  request for payment 185000   \n",
       "36793 2019-01-08 08:00:39+00:00      SUPERVISOR  request for payment 185000   \n",
       "36794 2019-01-08 08:29:14+00:00       UNDEFINED  request for payment 185000   \n",
       "36795 2019-01-10 16:31:09+00:00       UNDEFINED  request for payment 185000   \n",
       "\n",
       "         case:Project    case:Task           case:concept:name  \\\n",
       "0      project 148216      UNKNOWN  request for payment 148214   \n",
       "1      project 148216      UNKNOWN  request for payment 148214   \n",
       "2      project 148216      UNKNOWN  request for payment 148214   \n",
       "3      project 148216      UNKNOWN  request for payment 148214   \n",
       "4      project 148216      UNKNOWN  request for payment 148214   \n",
       "...               ...          ...                         ...   \n",
       "36791  project 147860  task 152704  request for payment 185000   \n",
       "36792  project 147860  task 152704  request for payment 185000   \n",
       "36793  project 147860  task 152704  request for payment 185000   \n",
       "36794  project 147860  task 152704  request for payment 185000   \n",
       "36795  project 147860  task 152704  request for payment 185000   \n",
       "\n",
       "       case:OrganizationalEntity  case:Cost Type  case:RequestedAmount  \\\n",
       "0      organizational unit 65463               0             34.336343   \n",
       "1      organizational unit 65463               0             34.336343   \n",
       "2      organizational unit 65463               0             34.336343   \n",
       "3      organizational unit 65463               0             34.336343   \n",
       "4      organizational unit 65463               0             34.336343   \n",
       "...                          ...             ...                   ...   \n",
       "36791  organizational unit 65468               0             15.409660   \n",
       "36792  organizational unit 65468               0             15.409660   \n",
       "36793  organizational unit 65468               0             15.409660   \n",
       "36794  organizational unit 65468               0             15.409660   \n",
       "36795  organizational unit 65468               0             15.409660   \n",
       "\n",
       "      case:Activity                     case:RfpNumber  @@case_index  \n",
       "0           UNKNOWN  request for payment number 148215             0  \n",
       "1           UNKNOWN  request for payment number 148215             0  \n",
       "2           UNKNOWN  request for payment number 148215             0  \n",
       "3           UNKNOWN  request for payment number 148215             0  \n",
       "4           UNKNOWN  request for payment number 148215             0  \n",
       "...             ...                                ...           ...  \n",
       "36791  activity 505  request for payment number 185001          6885  \n",
       "36792  activity 505  request for payment number 185001          6885  \n",
       "36793  activity 505  request for payment number 185001          6885  \n",
       "36794  activity 505  request for payment number 185001          6885  \n",
       "36795  activity 505  request for payment number 185001          6885  \n",
       "\n",
       "[36796 rows x 15 columns]"
      ]
     },
     "execution_count": 1,
     "metadata": {},
     "output_type": "execute_result"
    }
   ],
   "source": [
    "import pandas as pd\n",
    "import numpy as np\n",
    "import pm4py\n",
    "from pm4py.objects.conversion.log import converter as log_converter\n",
    "\n",
    "if __name__ == \"__main__\":\n",
    "    # Read the XES file\n",
    "    dataframe_log = pm4py.read_xes('../../data/logs/RequestForPayment.xes')\n",
    "\n",
    "    # If 'log' is already a DataFrame, add the @@case_index column directly\n",
    "    case_indices = {case_id: idx for idx, case_id in enumerate(dataframe_log['case:concept:name'].unique())}\n",
    "    dataframe_log['@@case_index'] = dataframe_log['case:concept:name'].map(case_indices)\n",
    "    \n",
    "     # Convert the dataframe to event log\n",
    "    log = log_converter.apply(dataframe_log)\n",
    "    \n",
    "dataframe_log"
   ]
  },
  {
   "cell_type": "markdown",
   "metadata": {},
   "source": [
    "# Drop unnessary columns"
   ]
  },
  {
   "cell_type": "code",
   "execution_count": 2,
   "metadata": {},
   "outputs": [],
   "source": [
    "dataframe_log = dataframe_log.drop(columns=['case:Rfp_id'])\n",
    "dataframe_log = dataframe_log.drop(columns=['case:Project'])\n",
    "dataframe_log = dataframe_log.drop(columns=['case:Task'])\n",
    "dataframe_log = dataframe_log.drop(columns=['case:concept:name'])\n",
    "dataframe_log = dataframe_log.drop(columns=['case:OrganizationalEntity'])\n",
    "dataframe_log = dataframe_log.drop(columns=['case:Cost Type'])\n",
    "dataframe_log = dataframe_log.drop(columns=['case:RequestedAmount'])\n",
    "dataframe_log = dataframe_log.drop(columns=['case:Activity'])\n",
    "dataframe_log = dataframe_log.drop(columns=['case:RfpNumber'])"
   ]
  },
  {
   "cell_type": "code",
   "execution_count": 3,
   "metadata": {},
   "outputs": [],
   "source": [
    "from sklearn.preprocessing import StandardScaler\n",
    "\n",
    "# Convert to datetime format\n",
    "dataframe_log['time:timestamp'] = pd.to_datetime(dataframe_log['time:timestamp'])\n",
    "\n",
    "# Calculate elapsed time since the start of each case\n",
    "dataframe_log['start_time'] = dataframe_log.groupby('@@case_index')['time:timestamp'].transform('min')\n",
    "dataframe_log['elapsed_time'] = (dataframe_log['time:timestamp'] - dataframe_log['start_time']).dt.total_seconds()\n",
    "\n",
    "# Normalize the elapsed time in minutes\n",
    "scaler = StandardScaler()\n",
    "dataframe_log['standardized_elapsed_time'] = scaler.fit_transform(dataframe_log[['elapsed_time']])\n",
    "\n",
    "dataframe_log = dataframe_log.drop(columns=['start_time'])\n",
    "dataframe_log = dataframe_log.drop(columns=['elapsed_time'])\n",
    "dataframe_log = dataframe_log.drop(columns=['time:timestamp'])"
   ]
  },
  {
   "cell_type": "markdown",
   "metadata": {},
   "source": [
    "# Preprocess"
   ]
  },
  {
   "cell_type": "code",
   "execution_count": 4,
   "metadata": {},
   "outputs": [],
   "source": [
    "codes, uniques = pd.factorize(dataframe_log['id'])\n",
    "dataframe_log['id'] = codes"
   ]
  },
  {
   "cell_type": "code",
   "execution_count": 5,
   "metadata": {},
   "outputs": [],
   "source": [
    "codes, uniques = pd.factorize(dataframe_log['org:resource'])\n",
    "dataframe_log['org:resource'] = codes + 1"
   ]
  },
  {
   "cell_type": "code",
   "execution_count": 6,
   "metadata": {},
   "outputs": [],
   "source": [
    "codes, uniques = pd.factorize(dataframe_log['concept:name'])\n",
    "dataframe_log['concept:name'] = codes + 1"
   ]
  },
  {
   "cell_type": "code",
   "execution_count": 7,
   "metadata": {},
   "outputs": [],
   "source": [
    "codes, uniques = pd.factorize(dataframe_log['org:role'])\n",
    "dataframe_log['org:role'] = codes + 1"
   ]
  },
  {
   "cell_type": "markdown",
   "metadata": {},
   "source": [
    "# Generate Prefixes"
   ]
  },
  {
   "cell_type": "code",
   "execution_count": 8,
   "metadata": {},
   "outputs": [],
   "source": [
    "df_id = dataframe_log[['id', '@@case_index']]\n",
    "df_resource = dataframe_log[['org:resource', '@@case_index']]\n",
    "df_activity = dataframe_log[['concept:name', '@@case_index']]\n",
    "df_role = dataframe_log[['org:role', '@@case_index']]\n",
    "df_timestamps = dataframe_log[['standardized_elapsed_time', '@@case_index']]"
   ]
  },
  {
   "cell_type": "code",
   "execution_count": 9,
   "metadata": {},
   "outputs": [
    {
     "name": "stderr",
     "output_type": "stream",
     "text": [
      "2024-07-02 14:38:55.716687: I tensorflow/core/platform/cpu_feature_guard.cc:182] This TensorFlow binary is optimized to use available CPU instructions in performance-critical operations.\n",
      "To enable the following instructions: AVX2 FMA, in other operations, rebuild TensorFlow with the appropriate compiler flags.\n"
     ]
    }
   ],
   "source": [
    "import numpy as np\n",
    "from tensorflow.keras.preprocessing.sequence import pad_sequences\n",
    "\n",
    "def generate_prefix_windows(df, case_id_column='@@case_index', max_len=None):\n",
    "    windows = []\n",
    "    targets = []\n",
    "    case_indices = []\n",
    "    \n",
    "    for case_id in df[case_id_column].unique():\n",
    "        case_data = df[df[case_id_column] == case_id].drop(columns=[case_id_column]).to_numpy()\n",
    "        \n",
    "        # Optional: Make sure to sort the case data if there's an implicit order (e.g., by timestamps)\n",
    "        # case_data = case_data.sort_values(by='timestamp_column').to_numpy()  # Uncomment and adjust if needed\n",
    "        \n",
    "        for i in range(1, len(case_data)):\n",
    "            window = case_data[:i]\n",
    "            target = case_data[i]\n",
    "            windows.append(window)\n",
    "            targets.append(target)\n",
    "            case_indices.append(case_id)\n",
    "    \n",
    "    if max_len is None:\n",
    "        max_len = max(len(window) for window in windows)\n",
    "    \n",
    "    # Pad sequences\n",
    "    windows_padded = pad_sequences(windows, maxlen=max_len, padding='post', dtype='float32')\n",
    "    \n",
    "    # Convert targets to numpy array\n",
    "    targets_array = np.array(targets, dtype='float32')\n",
    "    case_indices_array = np.array(case_indices)\n",
    "    \n",
    "    return windows_padded, targets_array, case_indices_array"
   ]
  },
  {
   "cell_type": "code",
   "execution_count": 10,
   "metadata": {},
   "outputs": [],
   "source": [
    "windows_id, targets_id, case_indices = generate_prefix_windows(df_id)\n",
    "windows_resource, targets_resource, case_indices = generate_prefix_windows(df_resource)\n",
    "windows_activity, targets_activity, case_indices = generate_prefix_windows(df_activity)\n",
    "windows_role, targets_role, case_indices = generate_prefix_windows(df_role)\n",
    "windows_timestamps, targets_timestamps, case_indices = generate_prefix_windows(df_timestamps)"
   ]
  },
  {
   "cell_type": "markdown",
   "metadata": {},
   "source": [
    "# GRU"
   ]
  },
  {
   "cell_type": "markdown",
   "metadata": {},
   "source": [
    "### Architecture"
   ]
  },
  {
   "cell_type": "markdown",
   "metadata": {},
   "source": [
    "- Separate Inputs for Each Attribute\n",
    "- Each attribute is passed through an embedding layer\n",
    "- Each attribute has its corresponding GRU encoder\n",
    "- Selective Concatenation: After encoding, the outputs of these GRU layers are concatenated. However, this concatenation is selective, meaning it is structured in a way that prepares the data for effective synthesis without leaking information from the future (next event attributes)\n",
    "- Decoder GRUs: Integrated Decoding: Post-concatenation, the combined attributes are processed through decoder GRU layers. These layers are tasked with integrating the data from different attributes and preparing it for final prediction. This step is where BINet v3 distinguishes itself by effectively using the interdependencies between different attributes to enhance prediction accuracy.\n",
    "- Output Layer: Softmax Output for Each Attribute: For each attribute of the next event, a softmax layer predicts a probability distribution over all possible values. This allows the model to output the most likely next event and its attributes based on the learned dependencies and the history encoded by the GRUs.\n",
    "- E: maximum case length\n",
    "- We train BINet with a GRU size of 2E (two times the maximum case length)\n",
    "- on mini batches of size 500 for 20 epochs"
   ]
  },
  {
   "cell_type": "code",
   "execution_count": 11,
   "metadata": {},
   "outputs": [],
   "source": [
    "# Group by the @@case_index column and count the rows in each group\n",
    "case_lengths = dataframe_log.groupby('@@case_index').size()\n",
    "\n",
    "# Find the maximum value among the case lengths\n",
    "E = case_lengths.max()"
   ]
  },
  {
   "cell_type": "code",
   "execution_count": 12,
   "metadata": {},
   "outputs": [
    {
     "name": "stdout",
     "output_type": "stream",
     "text": [
      "Model: \"model\"\n",
      "__________________________________________________________________________________________________\n",
      " Layer (type)                Output Shape                 Param #   Connected to                  \n",
      "==================================================================================================\n",
      " id_input (InputLayer)       [(None, None)]               0         []                            \n",
      "                                                                                                  \n",
      " resource_input (InputLayer  [(None, None)]               0         []                            \n",
      " )                                                                                                \n",
      "                                                                                                  \n",
      " activity_input (InputLayer  [(None, None)]               0         []                            \n",
      " )                                                                                                \n",
      "                                                                                                  \n",
      " role_input (InputLayer)     [(None, None)]               0         []                            \n",
      "                                                                                                  \n",
      " id_embedding (Embedding)    (None, None, 50)             1839850   ['id_input[0][0]']            \n",
      "                                                                                                  \n",
      " resource_embedding (Embedd  (None, None, 50)             150       ['resource_input[0][0]']      \n",
      " ing)                                                                                             \n",
      "                                                                                                  \n",
      " activity_embedding (Embedd  (None, None, 50)             1000      ['activity_input[0][0]']      \n",
      " ing)                                                                                             \n",
      "                                                                                                  \n",
      " role_embedding (Embedding)  (None, None, 50)             450       ['role_input[0][0]']          \n",
      "                                                                                                  \n",
      " timestamp_input (InputLaye  [(None, None, 1)]            0         []                            \n",
      " r)                                                                                               \n",
      "                                                                                                  \n",
      " id_encoder (GRU)            (None, None, 40)             11040     ['id_embedding[0][0]']        \n",
      "                                                                                                  \n",
      " resource_encoder (GRU)      (None, None, 40)             11040     ['resource_embedding[0][0]']  \n",
      "                                                                                                  \n",
      " activity_encoder (GRU)      (None, None, 40)             11040     ['activity_embedding[0][0]']  \n",
      "                                                                                                  \n",
      " role_encoder (GRU)          (None, None, 40)             11040     ['role_embedding[0][0]']      \n",
      "                                                                                                  \n",
      " timestamp_encoder (GRU)     (None, None, 40)             5160      ['timestamp_input[0][0]']     \n",
      "                                                                                                  \n",
      " bn_id (BatchNormalization)  (None, None, 40)             160       ['id_encoder[0][0]']          \n",
      "                                                                                                  \n",
      " bn_resource (BatchNormaliz  (None, None, 40)             160       ['resource_encoder[0][0]']    \n",
      " ation)                                                                                           \n",
      "                                                                                                  \n",
      " bn_activity (BatchNormaliz  (None, None, 40)             160       ['activity_encoder[0][0]']    \n",
      " ation)                                                                                           \n",
      "                                                                                                  \n",
      " bn_role (BatchNormalizatio  (None, None, 40)             160       ['role_encoder[0][0]']        \n",
      " n)                                                                                               \n",
      "                                                                                                  \n",
      " bn_timestamp (BatchNormali  (None, None, 40)             160       ['timestamp_encoder[0][0]']   \n",
      " zation)                                                                                          \n",
      "                                                                                                  \n",
      " concatenate_encodings (Con  (None, None, 200)            0         ['bn_id[0][0]',               \n",
      " catenate)                                                           'bn_resource[0][0]',         \n",
      "                                                                     'bn_activity[0][0]',         \n",
      "                                                                     'bn_role[0][0]',             \n",
      "                                                                     'bn_timestamp[0][0]']        \n",
      "                                                                                                  \n",
      " decoder_gru (GRU)           (None, 40)                   29040     ['concatenate_encodings[0][0]'\n",
      "                                                                    ]                             \n",
      "                                                                                                  \n",
      " dropout (Dropout)           (None, 40)                   0         ['decoder_gru[0][0]']         \n",
      "                                                                                                  \n",
      " output_id (Dense)           (None, 36797)                1508677   ['dropout[0][0]']             \n",
      "                                                                                                  \n",
      " output_resource (Dense)     (None, 3)                    123       ['dropout[0][0]']             \n",
      "                                                                                                  \n",
      " output_activity (Dense)     (None, 20)                   820       ['dropout[0][0]']             \n",
      "                                                                                                  \n",
      " output_role (Dense)         (None, 9)                    369       ['dropout[0][0]']             \n",
      "                                                                                                  \n",
      " output_timestamp (Dense)    (None, 1)                    41        ['dropout[0][0]']             \n",
      "                                                                                                  \n",
      "==================================================================================================\n",
      "Total params: 3430640 (13.09 MB)\n",
      "Trainable params: 3430240 (13.09 MB)\n",
      "Non-trainable params: 400 (1.56 KB)\n",
      "__________________________________________________________________________________________________\n"
     ]
    }
   ],
   "source": [
    "import tensorflow as tf\n",
    "from tensorflow.keras.models import Model\n",
    "from tensorflow.keras.layers import Input, GRU, Embedding, Dense, Dropout, Concatenate, BatchNormalization\n",
    "\n",
    "def create_binet_v4(num_ids, num_resources, num_activities, num_roles, embedding_dim, gru_units, dropout_rate):\n",
    "    # Input layers for each attribute\n",
    "    input_id = Input(shape=(None,), name='id_input')\n",
    "    input_resource = Input(shape=(None,), name='resource_input')\n",
    "    input_activity = Input(shape=(None,), name='activity_input')\n",
    "    input_role = Input(shape=(None,), name='role_input')\n",
    "    input_timestamp = Input(shape=(None, 1), name='timestamp_input')  # Continuous input\n",
    "\n",
    "    # Embedding layers for categorical attributes\n",
    "    embedding_id = Embedding(input_dim=num_ids + 1, output_dim=embedding_dim, mask_zero=True, name='id_embedding')(input_id)\n",
    "    embedding_resource = Embedding(input_dim=num_resources + 1, output_dim=embedding_dim, mask_zero=True, name='resource_embedding')(input_resource)\n",
    "    embedding_activity = Embedding(input_dim=num_activities + 1, output_dim=embedding_dim, mask_zero=True, name='activity_embedding')(input_activity)\n",
    "    embedding_role = Embedding(input_dim=num_roles + 1, output_dim=embedding_dim, mask_zero=True, name='role_embedding')(input_role)\n",
    "\n",
    "    # Encoder GRUs with Batch Normalization for categorical attributes\n",
    "    encoded_id = GRU(units=gru_units, return_sequences=True, name='id_encoder')(embedding_id)\n",
    "    bn_id = BatchNormalization(name='bn_id')(encoded_id)\n",
    "    encoded_resource = GRU(units=gru_units, return_sequences=True, name='resource_encoder')(embedding_resource)\n",
    "    bn_resource = BatchNormalization(name='bn_resource')(encoded_resource)\n",
    "    encoded_activity = GRU(units=gru_units, return_sequences=True, name='activity_encoder')(embedding_activity)\n",
    "    bn_activity = BatchNormalization(name='bn_activity')(encoded_activity)\n",
    "    encoded_role = GRU(units=gru_units, return_sequences=True, name='role_encoder')(embedding_role)\n",
    "    bn_role = BatchNormalization(name='bn_role')(encoded_role)\n",
    "\n",
    "    # Encoder GRU with Batch Normalization for continuous attribute\n",
    "    encoded_timestamp = GRU(units=gru_units, return_sequences=True, name='timestamp_encoder')(input_timestamp)\n",
    "    bn_timestamp = BatchNormalization(name='bn_timestamp')(encoded_timestamp)\n",
    "\n",
    "    # Concatenation of encoded outputs\n",
    "    concatenated = Concatenate(name='concatenate_encodings')([bn_id, bn_resource, bn_activity, bn_role, bn_timestamp])\n",
    "\n",
    "    # Decoder GRU\n",
    "    decoder_output = GRU(units=gru_units, return_sequences=False, name='decoder_gru')(concatenated)\n",
    "    dropout_layer = Dropout(rate=dropout_rate, name='dropout')(decoder_output)\n",
    "\n",
    "    # Output layers for predicting the next event's attributes\n",
    "    output_id = Dense(num_ids + 1, activation='softmax', name='output_id')(dropout_layer)\n",
    "    output_resource = Dense(num_resources + 1, activation='softmax', name='output_resource')(dropout_layer)\n",
    "    output_activity = Dense(num_activities + 1, activation='softmax', name='output_activity')(dropout_layer)\n",
    "    output_role = Dense(num_roles + 1, activation='softmax', name='output_role')(dropout_layer)\n",
    "    output_timestamp = Dense(1, activation='linear', name='output_timestamp')(dropout_layer)  # Linear activation for continuous output\n",
    "\n",
    "    # Building the model\n",
    "    model = Model(inputs=[input_id, input_resource, input_activity, input_role, input_timestamp], \n",
    "                  outputs=[output_id, output_resource, output_activity, output_role, output_timestamp])\n",
    "    model.compile(\n",
    "        optimizer='adam', \n",
    "        loss={\n",
    "            'output_id': 'categorical_crossentropy', \n",
    "            'output_resource': 'categorical_crossentropy', \n",
    "            'output_activity': 'categorical_crossentropy', \n",
    "            'output_role': 'categorical_crossentropy', \n",
    "            'output_timestamp': 'mean_squared_error'\n",
    "        },\n",
    "        metrics={\n",
    "            'output_id': ['accuracy'], \n",
    "            'output_resource': ['accuracy'], \n",
    "            'output_activity': ['accuracy'], \n",
    "            'output_role': ['accuracy'], \n",
    "            'output_timestamp': ['mean_squared_error']\n",
    "        }\n",
    "    )\n",
    "\n",
    "    return model\n",
    "\n",
    "# Parameters\n",
    "gru_units = int(2 * E)\n",
    "num_ids = dataframe_log['id'].nunique()\n",
    "num_resources = dataframe_log['org:resource'].nunique()\n",
    "num_activities = dataframe_log['concept:name'].nunique()\n",
    "num_roles = dataframe_log['org:role'].nunique()\n",
    "embedding_dim = 50\n",
    "dropout_rate = 0.2\n",
    "model = create_binet_v4(num_ids, num_resources, num_activities, num_roles, embedding_dim, gru_units, dropout_rate)\n",
    "model.summary()"
   ]
  },
  {
   "cell_type": "markdown",
   "metadata": {},
   "source": [
    "### Data Splitting"
   ]
  },
  {
   "cell_type": "code",
   "execution_count": 13,
   "metadata": {},
   "outputs": [],
   "source": [
    "from sklearn.model_selection import train_test_split\n",
    "\n",
    "# Splitting the dataset for the new attributes\n",
    "train_id, test_id, train_targets_id, test_targets_id = train_test_split(\n",
    "    windows_id, targets_id, test_size=0.3, random_state=42)\n",
    "\n",
    "train_resource, test_resource, train_targets_resource, test_targets_resource = train_test_split(\n",
    "    windows_resource, targets_resource, test_size=0.3, random_state=42)\n",
    "\n",
    "train_activity, test_activity, train_targets_activity, test_targets_activity = train_test_split(\n",
    "    windows_activity, targets_activity, test_size=0.3, random_state=42)\n",
    "\n",
    "train_role, test_role, train_targets_role, test_targets_role = train_test_split(\n",
    "    windows_role, targets_role, test_size=0.3, random_state=42)\n",
    "\n",
    "train_timestamp, test_timestamp, train_targets_timestamp, test_targets_timestamp = train_test_split(\n",
    "    windows_timestamps, targets_timestamps, test_size=0.3, random_state=42)"
   ]
  },
  {
   "cell_type": "markdown",
   "metadata": {},
   "source": [
    "### Training"
   ]
  },
  {
   "cell_type": "code",
   "execution_count": 14,
   "metadata": {},
   "outputs": [],
   "source": [
    "from tensorflow.keras.utils import to_categorical\n",
    "\n",
    "# Convert categorical targets to one-hot encoded format\n",
    "train_targets_id_cat = to_categorical(train_targets_id, num_classes=num_ids + 1)\n",
    "test_targets_id_cat = to_categorical(test_targets_id, num_classes=num_ids + 1)\n",
    "\n",
    "train_targets_resource_cat = to_categorical(train_targets_resource, num_classes=num_resources + 1)\n",
    "test_targets_resource_cat = to_categorical(test_targets_resource, num_classes=num_resources + 1)\n",
    "\n",
    "train_targets_activity_cat = to_categorical(train_targets_activity, num_classes=num_activities + 1)\n",
    "test_targets_activity_cat = to_categorical(test_targets_activity, num_classes=num_activities + 1)\n",
    "\n",
    "train_targets_role_cat = to_categorical(train_targets_role, num_classes=num_roles + 1)\n",
    "test_targets_role_cat = to_categorical(test_targets_role, num_classes=num_roles + 1)"
   ]
  },
  {
   "cell_type": "code",
   "execution_count": 15,
   "metadata": {},
   "outputs": [
    {
     "name": "stdout",
     "output_type": "stream",
     "text": [
      "Epoch 1/20\n",
      "42/42 [==============================] - 56s 855ms/step - loss: 14.7278 - output_id_loss: 10.5464 - output_resource_loss: 0.3830 - output_activity_loss: 1.9124 - output_role_loss: 1.2099 - output_timestamp_loss: 0.6759 - output_id_accuracy: 0.0000e+00 - output_resource_accuracy: 0.9160 - output_activity_accuracy: 0.5453 - output_role_accuracy: 0.6842 - output_timestamp_mean_squared_error: 0.6759 - val_loss: 16.8876 - val_output_id_loss: 10.5451 - val_output_resource_loss: 0.8355 - val_output_activity_loss: 2.6003 - val_output_role_loss: 1.7949 - val_output_timestamp_loss: 1.1118 - val_output_id_accuracy: 0.0000e+00 - val_output_resource_accuracy: 0.9738 - val_output_activity_accuracy: 0.6206 - val_output_role_accuracy: 0.6288 - val_output_timestamp_mean_squared_error: 1.1118\n",
      "Epoch 2/20\n",
      "42/42 [==============================] - 35s 834ms/step - loss: 12.3058 - output_id_loss: 10.3189 - output_resource_loss: 0.0736 - output_activity_loss: 0.7840 - output_role_loss: 0.4855 - output_timestamp_loss: 0.6439 - output_id_accuracy: 0.0000e+00 - output_resource_accuracy: 0.9925 - output_activity_accuracy: 0.8122 - output_role_accuracy: 0.8652 - output_timestamp_mean_squared_error: 0.6439 - val_loss: 16.1927 - val_output_id_loss: 10.6479 - val_output_resource_loss: 0.6621 - val_output_activity_loss: 2.2835 - val_output_role_loss: 1.5411 - val_output_timestamp_loss: 1.0581 - val_output_id_accuracy: 0.0000e+00 - val_output_resource_accuracy: 0.9866 - val_output_activity_accuracy: 0.6289 - val_output_role_accuracy: 0.7411 - val_output_timestamp_mean_squared_error: 1.0581\n",
      "Epoch 3/20\n",
      "42/42 [==============================] - 27s 660ms/step - loss: 11.5902 - output_id_loss: 10.0411 - output_resource_loss: 0.0412 - output_activity_loss: 0.5622 - output_role_loss: 0.3398 - output_timestamp_loss: 0.6059 - output_id_accuracy: 2.3881e-04 - output_resource_accuracy: 0.9947 - output_activity_accuracy: 0.8514 - output_role_accuracy: 0.8990 - output_timestamp_mean_squared_error: 0.6059 - val_loss: 15.7052 - val_output_id_loss: 10.7794 - val_output_resource_loss: 0.5388 - val_output_activity_loss: 2.0418 - val_output_role_loss: 1.3480 - val_output_timestamp_loss: 0.9973 - val_output_id_accuracy: 0.0000e+00 - val_output_resource_accuracy: 0.9916 - val_output_activity_accuracy: 0.7932 - val_output_role_accuracy: 0.8376 - val_output_timestamp_mean_squared_error: 0.9973\n",
      "Epoch 4/20\n",
      "42/42 [==============================] - 26s 633ms/step - loss: 11.0670 - output_id_loss: 9.8307 - output_resource_loss: 0.0313 - output_activity_loss: 0.4129 - output_role_loss: 0.2278 - output_timestamp_loss: 0.5644 - output_id_accuracy: 1.9105e-04 - output_resource_accuracy: 0.9957 - output_activity_accuracy: 0.9059 - output_role_accuracy: 0.9464 - output_timestamp_mean_squared_error: 0.5644 - val_loss: 15.1599 - val_output_id_loss: 10.9575 - val_output_resource_loss: 0.3962 - val_output_activity_loss: 1.7435 - val_output_role_loss: 1.1168 - val_output_timestamp_loss: 0.9459 - val_output_id_accuracy: 0.0000e+00 - val_output_resource_accuracy: 0.9952 - val_output_activity_accuracy: 0.8173 - val_output_role_accuracy: 0.8668 - val_output_timestamp_mean_squared_error: 0.9459\n",
      "Epoch 5/20\n",
      "42/42 [==============================] - 28s 663ms/step - loss: 10.6500 - output_id_loss: 9.6553 - output_resource_loss: 0.0217 - output_activity_loss: 0.2944 - output_role_loss: 0.1450 - output_timestamp_loss: 0.5336 - output_id_accuracy: 2.3881e-04 - output_resource_accuracy: 0.9968 - output_activity_accuracy: 0.9250 - output_role_accuracy: 0.9627 - output_timestamp_mean_squared_error: 0.5336 - val_loss: 14.5813 - val_output_id_loss: 11.2396 - val_output_resource_loss: 0.2476 - val_output_activity_loss: 1.3442 - val_output_role_loss: 0.8356 - val_output_timestamp_loss: 0.9143 - val_output_id_accuracy: 0.0000e+00 - val_output_resource_accuracy: 0.9978 - val_output_activity_accuracy: 0.8315 - val_output_role_accuracy: 0.8752 - val_output_timestamp_mean_squared_error: 0.9143\n",
      "Epoch 6/20\n",
      "42/42 [==============================] - 27s 641ms/step - loss: 10.2970 - output_id_loss: 9.4864 - output_resource_loss: 0.0169 - output_activity_loss: 0.2012 - output_role_loss: 0.0894 - output_timestamp_loss: 0.5030 - output_id_accuracy: 3.3434e-04 - output_resource_accuracy: 0.9977 - output_activity_accuracy: 0.9528 - output_role_accuracy: 0.9787 - output_timestamp_mean_squared_error: 0.5030 - val_loss: 14.1667 - val_output_id_loss: 11.5571 - val_output_resource_loss: 0.1374 - val_output_activity_loss: 0.9964 - val_output_role_loss: 0.6215 - val_output_timestamp_loss: 0.8544 - val_output_id_accuracy: 0.0000e+00 - val_output_resource_accuracy: 0.9980 - val_output_activity_accuracy: 0.8322 - val_output_role_accuracy: 0.8699 - val_output_timestamp_mean_squared_error: 0.8544\n",
      "Epoch 7/20\n",
      "42/42 [==============================] - 27s 658ms/step - loss: 10.0309 - output_id_loss: 9.3349 - output_resource_loss: 0.0149 - output_activity_loss: 0.1441 - output_role_loss: 0.0576 - output_timestamp_loss: 0.4794 - output_id_accuracy: 4.7762e-04 - output_resource_accuracy: 0.9978 - output_activity_accuracy: 0.9725 - output_role_accuracy: 0.9924 - output_timestamp_mean_squared_error: 0.4794 - val_loss: 13.9936 - val_output_id_loss: 11.9289 - val_output_resource_loss: 0.0688 - val_output_activity_loss: 0.7191 - val_output_role_loss: 0.4586 - val_output_timestamp_loss: 0.8182 - val_output_id_accuracy: 0.0000e+00 - val_output_resource_accuracy: 0.9981 - val_output_activity_accuracy: 0.8327 - val_output_role_accuracy: 0.8709 - val_output_timestamp_mean_squared_error: 0.8182\n",
      "Epoch 8/20\n",
      "42/42 [==============================] - 27s 647ms/step - loss: 9.8416 - output_id_loss: 9.2091 - output_resource_loss: 0.0121 - output_activity_loss: 0.1121 - output_role_loss: 0.0432 - output_timestamp_loss: 0.4650 - output_id_accuracy: 4.2986e-04 - output_resource_accuracy: 0.9983 - output_activity_accuracy: 0.9801 - output_role_accuracy: 0.9947 - output_timestamp_mean_squared_error: 0.4650 - val_loss: 14.0532 - val_output_id_loss: 12.3034 - val_output_resource_loss: 0.0328 - val_output_activity_loss: 0.5728 - val_output_role_loss: 0.3768 - val_output_timestamp_loss: 0.7673 - val_output_id_accuracy: 0.0000e+00 - val_output_resource_accuracy: 0.9981 - val_output_activity_accuracy: 0.8332 - val_output_role_accuracy: 0.8668 - val_output_timestamp_mean_squared_error: 0.7673\n",
      "Epoch 9/20\n",
      "42/42 [==============================] - 26s 632ms/step - loss: 9.6918 - output_id_loss: 9.0985 - output_resource_loss: 0.0108 - output_activity_loss: 0.0915 - output_role_loss: 0.0356 - output_timestamp_loss: 0.4553 - output_id_accuracy: 9.5525e-04 - output_resource_accuracy: 0.9984 - output_activity_accuracy: 0.9845 - output_role_accuracy: 0.9957 - output_timestamp_mean_squared_error: 0.4553 - val_loss: 14.2268 - val_output_id_loss: 12.6011 - val_output_resource_loss: 0.0190 - val_output_activity_loss: 0.5292 - val_output_role_loss: 0.3618 - val_output_timestamp_loss: 0.7157 - val_output_id_accuracy: 0.0000e+00 - val_output_resource_accuracy: 0.9981 - val_output_activity_accuracy: 0.8304 - val_output_role_accuracy: 0.8652 - val_output_timestamp_mean_squared_error: 0.7157\n",
      "Epoch 10/20\n",
      "42/42 [==============================] - 27s 636ms/step - loss: 9.5521 - output_id_loss: 8.9946 - output_resource_loss: 0.0092 - output_activity_loss: 0.0776 - output_role_loss: 0.0308 - output_timestamp_loss: 0.4399 - output_id_accuracy: 9.5525e-04 - output_resource_accuracy: 0.9988 - output_activity_accuracy: 0.9853 - output_role_accuracy: 0.9969 - output_timestamp_mean_squared_error: 0.4399 - val_loss: 14.4172 - val_output_id_loss: 12.8351 - val_output_resource_loss: 0.0144 - val_output_activity_loss: 0.5353 - val_output_role_loss: 0.3801 - val_output_timestamp_loss: 0.6522 - val_output_id_accuracy: 0.0000e+00 - val_output_resource_accuracy: 0.9980 - val_output_activity_accuracy: 0.8251 - val_output_role_accuracy: 0.8621 - val_output_timestamp_mean_squared_error: 0.6522\n",
      "Epoch 11/20\n",
      "42/42 [==============================] - 26s 630ms/step - loss: 9.4328 - output_id_loss: 8.8950 - output_resource_loss: 0.0086 - output_activity_loss: 0.0671 - output_role_loss: 0.0278 - output_timestamp_loss: 0.4343 - output_id_accuracy: 0.0015 - output_resource_accuracy: 0.9988 - output_activity_accuracy: 0.9880 - output_role_accuracy: 0.9970 - output_timestamp_mean_squared_error: 0.4343 - val_loss: 14.6426 - val_output_id_loss: 13.0714 - val_output_resource_loss: 0.0133 - val_output_activity_loss: 0.5664 - val_output_role_loss: 0.4140 - val_output_timestamp_loss: 0.5775 - val_output_id_accuracy: 0.0000e+00 - val_output_resource_accuracy: 0.9980 - val_output_activity_accuracy: 0.8235 - val_output_role_accuracy: 0.8611 - val_output_timestamp_mean_squared_error: 0.5775\n",
      "Epoch 12/20\n",
      "42/42 [==============================] - 26s 621ms/step - loss: 9.3330 - output_id_loss: 8.8015 - output_resource_loss: 0.0083 - output_activity_loss: 0.0611 - output_role_loss: 0.0265 - output_timestamp_loss: 0.4356 - output_id_accuracy: 0.0021 - output_resource_accuracy: 0.9985 - output_activity_accuracy: 0.9891 - output_role_accuracy: 0.9969 - output_timestamp_mean_squared_error: 0.4356 - val_loss: 14.8504 - val_output_id_loss: 13.2078 - val_output_resource_loss: 0.0136 - val_output_activity_loss: 0.6197 - val_output_role_loss: 0.4607 - val_output_timestamp_loss: 0.5486 - val_output_id_accuracy: 0.0000e+00 - val_output_resource_accuracy: 0.9980 - val_output_activity_accuracy: 0.8187 - val_output_role_accuracy: 0.8589 - val_output_timestamp_mean_squared_error: 0.5486\n",
      "Epoch 13/20\n",
      "42/42 [==============================] - 25s 609ms/step - loss: 9.2390 - output_id_loss: 8.7158 - output_resource_loss: 0.0075 - output_activity_loss: 0.0544 - output_role_loss: 0.0237 - output_timestamp_loss: 0.4376 - output_id_accuracy: 0.0033 - output_resource_accuracy: 0.9988 - output_activity_accuracy: 0.9909 - output_role_accuracy: 0.9972 - output_timestamp_mean_squared_error: 0.4376 - val_loss: 15.0037 - val_output_id_loss: 13.2874 - val_output_resource_loss: 0.0142 - val_output_activity_loss: 0.6651 - val_output_role_loss: 0.4987 - val_output_timestamp_loss: 0.5383 - val_output_id_accuracy: 0.0000e+00 - val_output_resource_accuracy: 0.9980 - val_output_activity_accuracy: 0.8161 - val_output_role_accuracy: 0.8591 - val_output_timestamp_mean_squared_error: 0.5383\n",
      "Epoch 14/20\n",
      "42/42 [==============================] - 28s 678ms/step - loss: 9.1441 - output_id_loss: 8.6279 - output_resource_loss: 0.0074 - output_activity_loss: 0.0505 - output_role_loss: 0.0233 - output_timestamp_loss: 0.4351 - output_id_accuracy: 0.0048 - output_resource_accuracy: 0.9989 - output_activity_accuracy: 0.9907 - output_role_accuracy: 0.9972 - output_timestamp_mean_squared_error: 0.4351 - val_loss: 15.1732 - val_output_id_loss: 13.3851 - val_output_resource_loss: 0.0145 - val_output_activity_loss: 0.7082 - val_output_role_loss: 0.5331 - val_output_timestamp_loss: 0.5323 - val_output_id_accuracy: 0.0000e+00 - val_output_resource_accuracy: 0.9981 - val_output_activity_accuracy: 0.8128 - val_output_role_accuracy: 0.8588 - val_output_timestamp_mean_squared_error: 0.5323\n",
      "Epoch 15/20\n",
      "42/42 [==============================] - 28s 678ms/step - loss: 9.0520 - output_id_loss: 8.5473 - output_resource_loss: 0.0066 - output_activity_loss: 0.0456 - output_role_loss: 0.0222 - output_timestamp_loss: 0.4304 - output_id_accuracy: 0.0054 - output_resource_accuracy: 0.9988 - output_activity_accuracy: 0.9926 - output_role_accuracy: 0.9967 - output_timestamp_mean_squared_error: 0.4304 - val_loss: 15.3919 - val_output_id_loss: 13.5124 - val_output_resource_loss: 0.0149 - val_output_activity_loss: 0.7594 - val_output_role_loss: 0.5738 - val_output_timestamp_loss: 0.5315 - val_output_id_accuracy: 0.0000e+00 - val_output_resource_accuracy: 0.9981 - val_output_activity_accuracy: 0.8111 - val_output_role_accuracy: 0.8553 - val_output_timestamp_mean_squared_error: 0.5315\n",
      "Epoch 16/20\n",
      "42/42 [==============================] - 31s 736ms/step - loss: 8.9615 - output_id_loss: 8.4680 - output_resource_loss: 0.0062 - output_activity_loss: 0.0419 - output_role_loss: 0.0206 - output_timestamp_loss: 0.4249 - output_id_accuracy: 0.0073 - output_resource_accuracy: 0.9989 - output_activity_accuracy: 0.9928 - output_role_accuracy: 0.9970 - output_timestamp_mean_squared_error: 0.4249 - val_loss: 15.5507 - val_output_id_loss: 13.6195 - val_output_resource_loss: 0.0155 - val_output_activity_loss: 0.7929 - val_output_role_loss: 0.5943 - val_output_timestamp_loss: 0.5284 - val_output_id_accuracy: 0.0000e+00 - val_output_resource_accuracy: 0.9982 - val_output_activity_accuracy: 0.8083 - val_output_role_accuracy: 0.8547 - val_output_timestamp_mean_squared_error: 0.5284\n",
      "Epoch 17/20\n",
      "42/42 [==============================] - 30s 711ms/step - loss: 8.8810 - output_id_loss: 8.3911 - output_resource_loss: 0.0063 - output_activity_loss: 0.0414 - output_role_loss: 0.0197 - output_timestamp_loss: 0.4225 - output_id_accuracy: 0.0093 - output_resource_accuracy: 0.9989 - output_activity_accuracy: 0.9923 - output_role_accuracy: 0.9970 - output_timestamp_mean_squared_error: 0.4225 - val_loss: 15.6584 - val_output_id_loss: 13.6731 - val_output_resource_loss: 0.0156 - val_output_activity_loss: 0.8287 - val_output_role_loss: 0.6164 - val_output_timestamp_loss: 0.5244 - val_output_id_accuracy: 0.0000e+00 - val_output_resource_accuracy: 0.9982 - val_output_activity_accuracy: 0.8066 - val_output_role_accuracy: 0.8533 - val_output_timestamp_mean_squared_error: 0.5244\n",
      "Epoch 18/20\n",
      "42/42 [==============================] - 29s 706ms/step - loss: 8.7985 - output_id_loss: 8.3141 - output_resource_loss: 0.0055 - output_activity_loss: 0.0397 - output_role_loss: 0.0189 - output_timestamp_loss: 0.4204 - output_id_accuracy: 0.0102 - output_resource_accuracy: 0.9991 - output_activity_accuracy: 0.9925 - output_role_accuracy: 0.9973 - output_timestamp_mean_squared_error: 0.4204 - val_loss: 15.8253 - val_output_id_loss: 13.7693 - val_output_resource_loss: 0.0160 - val_output_activity_loss: 0.8641 - val_output_role_loss: 0.6510 - val_output_timestamp_loss: 0.5249 - val_output_id_accuracy: 0.0000e+00 - val_output_resource_accuracy: 0.9982 - val_output_activity_accuracy: 0.8050 - val_output_role_accuracy: 0.8541 - val_output_timestamp_mean_squared_error: 0.5249\n",
      "Epoch 19/20\n",
      "42/42 [==============================] - 29s 694ms/step - loss: 8.7326 - output_id_loss: 8.2424 - output_resource_loss: 0.0062 - output_activity_loss: 0.0375 - output_role_loss: 0.0179 - output_timestamp_loss: 0.4285 - output_id_accuracy: 0.0128 - output_resource_accuracy: 0.9986 - output_activity_accuracy: 0.9936 - output_role_accuracy: 0.9974 - output_timestamp_mean_squared_error: 0.4285 - val_loss: 15.9576 - val_output_id_loss: 13.8510 - val_output_resource_loss: 0.0161 - val_output_activity_loss: 0.8911 - val_output_role_loss: 0.6710 - val_output_timestamp_loss: 0.5284 - val_output_id_accuracy: 0.0000e+00 - val_output_resource_accuracy: 0.9982 - val_output_activity_accuracy: 0.8071 - val_output_role_accuracy: 0.8539 - val_output_timestamp_mean_squared_error: 0.5284\n",
      "Epoch 20/20\n",
      "42/42 [==============================] - 28s 681ms/step - loss: 8.6552 - output_id_loss: 8.1699 - output_resource_loss: 0.0055 - output_activity_loss: 0.0359 - output_role_loss: 0.0177 - output_timestamp_loss: 0.4261 - output_id_accuracy: 0.0141 - output_resource_accuracy: 0.9987 - output_activity_accuracy: 0.9934 - output_role_accuracy: 0.9973 - output_timestamp_mean_squared_error: 0.4261 - val_loss: 16.0803 - val_output_id_loss: 13.9230 - val_output_resource_loss: 0.0163 - val_output_activity_loss: 0.9212 - val_output_role_loss: 0.6911 - val_output_timestamp_loss: 0.5287 - val_output_id_accuracy: 0.0000e+00 - val_output_resource_accuracy: 0.9982 - val_output_activity_accuracy: 0.8050 - val_output_role_accuracy: 0.8528 - val_output_timestamp_mean_squared_error: 0.5287\n"
     ]
    }
   ],
   "source": [
    "# Fit the model with the properly shaped targets\n",
    "history = model.fit(\n",
    "    [train_id, train_resource, train_activity, train_role, train_timestamp],\n",
    "    [train_targets_id_cat, train_targets_resource_cat, train_targets_activity_cat, train_targets_role_cat, train_targets_timestamp],\n",
    "    validation_data=(\n",
    "        [test_id, test_resource, test_activity, test_role, test_timestamp],\n",
    "        [test_targets_id_cat, test_targets_resource_cat, test_targets_activity_cat, test_targets_role_cat, test_targets_timestamp]\n",
    "    ),\n",
    "    epochs=20,\n",
    "    batch_size=500\n",
    ")"
   ]
  },
  {
   "cell_type": "code",
   "execution_count": 16,
   "metadata": {},
   "outputs": [
    {
     "name": "stdout",
     "output_type": "stream",
     "text": [
      "141/141 [==============================] - 6s 42ms/step - loss: 16.0802 - output_id_loss: 13.9230 - output_resource_loss: 0.0163 - output_activity_loss: 0.9212 - output_role_loss: 0.6911 - output_timestamp_loss: 0.5287 - output_id_accuracy: 0.0000e+00 - output_resource_accuracy: 0.9982 - output_activity_accuracy: 0.8050 - output_role_accuracy: 0.8528 - output_timestamp_mean_squared_error: 0.5287\n",
      "[16.08024787902832, 13.922996520996094, 0.01633824221789837, 0.9211546182632446, 0.6910616755485535, 0.5287009477615356, 0.0, 0.9982168674468994, 0.8049704432487488, 0.8527805805206299, 0.5287009477615356]\n"
     ]
    }
   ],
   "source": [
    "# Evaluate the model on the validation set\n",
    "evaluation = model.evaluate(\n",
    "    [test_id, test_resource, test_activity, test_role, test_timestamp],\n",
    "    [test_targets_id_cat, test_targets_resource_cat, test_targets_activity_cat, test_targets_role_cat, test_targets_timestamp],\n",
    "    batch_size=64\n",
    ")\n",
    "\n",
    "print(evaluation)"
   ]
  },
  {
   "cell_type": "code",
   "execution_count": 17,
   "metadata": {},
   "outputs": [
    {
     "name": "stderr",
     "output_type": "stream",
     "text": [
      "/opt/anaconda3/lib/python3.9/site-packages/keras/src/engine/training.py:3000: UserWarning: You are saving your model as an HDF5 file via `model.save()`. This file format is considered legacy. We recommend using instead the native Keras format, e.g. `model.save('my_model.keras')`.\n",
      "  saving_api.save_model(\n"
     ]
    }
   ],
   "source": [
    "# Save the model to an H5 file\n",
    "model.save('binetv3_Request.h5')"
   ]
  },
  {
   "cell_type": "markdown",
   "metadata": {},
   "source": [
    "# Anomaly Score Computation"
   ]
  },
  {
   "cell_type": "markdown",
   "metadata": {},
   "source": [
    "- For each event attribute, BINet's softmax layer outputs a probability distribution over possible values\n",
    "- The anomaly score for a specific attribute value v is calculated by summing all the probabilities from the softmax output that are greater than the probability assigned to v"
   ]
  },
  {
   "cell_type": "markdown",
   "metadata": {},
   "source": [
    "- NOTE: Do not include ID because no learning through GRU"
   ]
  },
  {
   "cell_type": "code",
   "execution_count": 18,
   "metadata": {},
   "outputs": [
    {
     "name": "stdout",
     "output_type": "stream",
     "text": [
      "935/935 [==============================] - 20s 13ms/step\n"
     ]
    }
   ],
   "source": [
    "# Generate predictions for all inputs\n",
    "predictions = model.predict([windows_id, windows_resource, windows_activity, windows_role, windows_timestamps])\n",
    "\n",
    "# Extract predictions for each attribute\n",
    "# Assuming the order of outputs in the model is: id, resource, activity, role, timestamp\n",
    "predictions_id = predictions[0]        # ID predictions (categorical)\n",
    "predictions_resource = predictions[1]  # Resource predictions (categorical)\n",
    "predictions_activity = predictions[2]  # Activity predictions (categorical)\n",
    "predictions_role = predictions[3]      # Role predictions (categorical)\n",
    "predictions_timestamp = predictions[4] # Timestamp predictions (continuous)"
   ]
  },
  {
   "cell_type": "code",
   "execution_count": 19,
   "metadata": {},
   "outputs": [],
   "source": [
    "import numpy as np\n",
    "\n",
    "def calculate_anomaly_scores(predictions, targets):\n",
    "    scores = []\n",
    "    # Loop through each example in the predictions\n",
    "    for i in range(predictions.shape[0]):\n",
    "        actual_prob = predictions[i, targets[i]]  # Extract the probability of the true class using target index\n",
    "        # Calculate anomaly score as sum of probabilities greater than the probability of the actual value\n",
    "        anomaly_score = np.sum(predictions[i][predictions[i] > actual_prob])\n",
    "        scores.append(anomaly_score)\n",
    "\n",
    "    return scores"
   ]
  },
  {
   "cell_type": "code",
   "execution_count": 20,
   "metadata": {},
   "outputs": [],
   "source": [
    "anomaly_scores_resource = calculate_anomaly_scores(predictions_resource, targets_resource.astype(int))\n",
    "anomaly_scores_activity = calculate_anomaly_scores(predictions_activity, targets_activity.astype(int))\n",
    "anomaly_scores_role = calculate_anomaly_scores(predictions_role, targets_role.astype(int))"
   ]
  },
  {
   "cell_type": "code",
   "execution_count": 21,
   "metadata": {},
   "outputs": [],
   "source": [
    "def compute_anomaly_scores_continuous(predictions, actuals):\n",
    "    # Calculate absolute differences\n",
    "    differences = np.abs(predictions - actuals)\n",
    "    \n",
    "    # Normalize to [0, 1] range\n",
    "    max_diff = np.max(differences)\n",
    "    normalized_scores = differences / max_diff if max_diff != 0 else differences\n",
    "    \n",
    "    return normalized_scores"
   ]
  },
  {
   "cell_type": "code",
   "execution_count": 22,
   "metadata": {},
   "outputs": [],
   "source": [
    "anomaly_scores_timestamp = compute_anomaly_scores_continuous(predictions_timestamp, targets_timestamps)\n",
    "anomaly_scores_timestamp = anomaly_scores_timestamp.flatten()\n",
    "anomaly_scores_timestamp = anomaly_scores_timestamp.tolist()"
   ]
  },
  {
   "cell_type": "markdown",
   "metadata": {},
   "source": [
    "## Insert missing scores for cases with less than 2 Events"
   ]
  },
  {
   "cell_type": "code",
   "execution_count": 23,
   "metadata": {},
   "outputs": [
    {
     "data": {
      "text/html": [
       "<div>\n",
       "<style scoped>\n",
       "    .dataframe tbody tr th:only-of-type {\n",
       "        vertical-align: middle;\n",
       "    }\n",
       "\n",
       "    .dataframe tbody tr th {\n",
       "        vertical-align: top;\n",
       "    }\n",
       "\n",
       "    .dataframe thead th {\n",
       "        text-align: right;\n",
       "    }\n",
       "</style>\n",
       "<table border=\"1\" class=\"dataframe\">\n",
       "  <thead>\n",
       "    <tr style=\"text-align: right;\">\n",
       "      <th></th>\n",
       "      <th>case</th>\n",
       "      <th>score_resource</th>\n",
       "      <th>score_activity</th>\n",
       "      <th>score_role</th>\n",
       "      <th>score_timestamp</th>\n",
       "    </tr>\n",
       "  </thead>\n",
       "  <tbody>\n",
       "    <tr>\n",
       "      <th>0</th>\n",
       "      <td>0</td>\n",
       "      <td>0.0</td>\n",
       "      <td>0.057080</td>\n",
       "      <td>0.248274</td>\n",
       "      <td>0.031081</td>\n",
       "    </tr>\n",
       "    <tr>\n",
       "      <th>1</th>\n",
       "      <td>0</td>\n",
       "      <td>0.0</td>\n",
       "      <td>0.000000</td>\n",
       "      <td>0.000000</td>\n",
       "      <td>0.006431</td>\n",
       "    </tr>\n",
       "    <tr>\n",
       "      <th>2</th>\n",
       "      <td>0</td>\n",
       "      <td>0.0</td>\n",
       "      <td>0.000000</td>\n",
       "      <td>0.000000</td>\n",
       "      <td>0.012856</td>\n",
       "    </tr>\n",
       "    <tr>\n",
       "      <th>3</th>\n",
       "      <td>0</td>\n",
       "      <td>0.0</td>\n",
       "      <td>0.924599</td>\n",
       "      <td>0.874269</td>\n",
       "      <td>0.051806</td>\n",
       "    </tr>\n",
       "    <tr>\n",
       "      <th>4</th>\n",
       "      <td>0</td>\n",
       "      <td>0.0</td>\n",
       "      <td>0.000000</td>\n",
       "      <td>0.000000</td>\n",
       "      <td>0.006915</td>\n",
       "    </tr>\n",
       "    <tr>\n",
       "      <th>...</th>\n",
       "      <td>...</td>\n",
       "      <td>...</td>\n",
       "      <td>...</td>\n",
       "      <td>...</td>\n",
       "      <td>...</td>\n",
       "    </tr>\n",
       "    <tr>\n",
       "      <th>29905</th>\n",
       "      <td>6885</td>\n",
       "      <td>0.0</td>\n",
       "      <td>0.000000</td>\n",
       "      <td>0.000000</td>\n",
       "      <td>0.002808</td>\n",
       "    </tr>\n",
       "    <tr>\n",
       "      <th>29906</th>\n",
       "      <td>6885</td>\n",
       "      <td>0.0</td>\n",
       "      <td>0.000000</td>\n",
       "      <td>0.000000</td>\n",
       "      <td>0.005321</td>\n",
       "    </tr>\n",
       "    <tr>\n",
       "      <th>29907</th>\n",
       "      <td>6885</td>\n",
       "      <td>0.0</td>\n",
       "      <td>0.000000</td>\n",
       "      <td>0.000000</td>\n",
       "      <td>0.008965</td>\n",
       "    </tr>\n",
       "    <tr>\n",
       "      <th>29908</th>\n",
       "      <td>6885</td>\n",
       "      <td>0.0</td>\n",
       "      <td>0.000000</td>\n",
       "      <td>0.000000</td>\n",
       "      <td>0.005811</td>\n",
       "    </tr>\n",
       "    <tr>\n",
       "      <th>29909</th>\n",
       "      <td>6885</td>\n",
       "      <td>0.0</td>\n",
       "      <td>0.000000</td>\n",
       "      <td>0.000000</td>\n",
       "      <td>0.002529</td>\n",
       "    </tr>\n",
       "  </tbody>\n",
       "</table>\n",
       "<p>29910 rows × 5 columns</p>\n",
       "</div>"
      ],
      "text/plain": [
       "       case  score_resource  score_activity  score_role  score_timestamp\n",
       "0         0             0.0        0.057080    0.248274         0.031081\n",
       "1         0             0.0        0.000000    0.000000         0.006431\n",
       "2         0             0.0        0.000000    0.000000         0.012856\n",
       "3         0             0.0        0.924599    0.874269         0.051806\n",
       "4         0             0.0        0.000000    0.000000         0.006915\n",
       "...     ...             ...             ...         ...              ...\n",
       "29905  6885             0.0        0.000000    0.000000         0.002808\n",
       "29906  6885             0.0        0.000000    0.000000         0.005321\n",
       "29907  6885             0.0        0.000000    0.000000         0.008965\n",
       "29908  6885             0.0        0.000000    0.000000         0.005811\n",
       "29909  6885             0.0        0.000000    0.000000         0.002529\n",
       "\n",
       "[29910 rows x 5 columns]"
      ]
     },
     "execution_count": 23,
     "metadata": {},
     "output_type": "execute_result"
    }
   ],
   "source": [
    "import pandas as pd\n",
    "\n",
    "# Create a DataFrame from the case_indices_array corresponding to case_resource\n",
    "score = pd.DataFrame({'case': case_indices})\n",
    "score['score_resource'] = anomaly_scores_resource\n",
    "score['score_activity'] = anomaly_scores_activity\n",
    "score['score_role'] = anomaly_scores_role\n",
    "score['score_timestamp'] = anomaly_scores_timestamp\n",
    "\n",
    "score['case'] = score['case'].astype(int)\n",
    "\n",
    "score"
   ]
  },
  {
   "cell_type": "code",
   "execution_count": 24,
   "metadata": {},
   "outputs": [
    {
     "name": "stdout",
     "output_type": "stream",
     "text": [
      "Missing values: [179, 181, 188, 354, 387, 450, 529, 545, 601, 765, 835, 974, 1020, 1202, 1273, 1299, 1301, 1324, 1329, 1347, 1390, 1431, 1578, 1601, 1636, 1895, 2022, 2091, 2151, 2152, 2226, 2367, 2466, 2712, 2897, 2983, 3041, 3297, 3440, 3478, 3573, 3652, 3659, 3865, 3960, 4064, 4235, 4279, 4389, 4638, 4865]\n",
      "Does the 'case' column contain all values between 0 and 4999? False\n"
     ]
    }
   ],
   "source": [
    "import pandas as pd\n",
    "\n",
    "def contains_all_values(df, column, end):\n",
    "\n",
    "    # Generate the set of all values in the specified range\n",
    "    required_values = set(range(0, end + 1))\n",
    "    \n",
    "    # Get the unique values in the specified column\n",
    "    column_values = set(df[column].unique())\n",
    "    \n",
    "    # Find missing values\n",
    "    missing_values = required_values - column_values\n",
    "    \n",
    "    # Print missing values if any\n",
    "    if missing_values:\n",
    "        print(f\"Missing values: {sorted(missing_values)}\")\n",
    "    \n",
    "    # Check if all required values are in the column values\n",
    "    return required_values.issubset(column_values)\n",
    "\n",
    "end = 4999\n",
    "\n",
    "result = contains_all_values(score, 'case', end)\n",
    "print(f\"Does the 'case' column contain all values between 0 and {end}? {result}\")"
   ]
  },
  {
   "cell_type": "code",
   "execution_count": 25,
   "metadata": {},
   "outputs": [
    {
     "data": {
      "text/html": [
       "<div>\n",
       "<style scoped>\n",
       "    .dataframe tbody tr th:only-of-type {\n",
       "        vertical-align: middle;\n",
       "    }\n",
       "\n",
       "    .dataframe tbody tr th {\n",
       "        vertical-align: top;\n",
       "    }\n",
       "\n",
       "    .dataframe thead th {\n",
       "        text-align: right;\n",
       "    }\n",
       "</style>\n",
       "<table border=\"1\" class=\"dataframe\">\n",
       "  <thead>\n",
       "    <tr style=\"text-align: right;\">\n",
       "      <th></th>\n",
       "      <th>case</th>\n",
       "      <th>score_resource</th>\n",
       "      <th>score_activity</th>\n",
       "      <th>score_role</th>\n",
       "      <th>score_timestamp</th>\n",
       "    </tr>\n",
       "  </thead>\n",
       "  <tbody>\n",
       "    <tr>\n",
       "      <th>0</th>\n",
       "      <td>0</td>\n",
       "      <td>0.0</td>\n",
       "      <td>0.057080</td>\n",
       "      <td>0.248274</td>\n",
       "      <td>0.031081</td>\n",
       "    </tr>\n",
       "    <tr>\n",
       "      <th>1</th>\n",
       "      <td>0</td>\n",
       "      <td>0.0</td>\n",
       "      <td>0.000000</td>\n",
       "      <td>0.000000</td>\n",
       "      <td>0.006431</td>\n",
       "    </tr>\n",
       "    <tr>\n",
       "      <th>2</th>\n",
       "      <td>0</td>\n",
       "      <td>0.0</td>\n",
       "      <td>0.000000</td>\n",
       "      <td>0.000000</td>\n",
       "      <td>0.012856</td>\n",
       "    </tr>\n",
       "    <tr>\n",
       "      <th>3</th>\n",
       "      <td>0</td>\n",
       "      <td>0.0</td>\n",
       "      <td>0.924599</td>\n",
       "      <td>0.874269</td>\n",
       "      <td>0.051806</td>\n",
       "    </tr>\n",
       "    <tr>\n",
       "      <th>4</th>\n",
       "      <td>0</td>\n",
       "      <td>0.0</td>\n",
       "      <td>0.000000</td>\n",
       "      <td>0.000000</td>\n",
       "      <td>0.006915</td>\n",
       "    </tr>\n",
       "    <tr>\n",
       "      <th>...</th>\n",
       "      <td>...</td>\n",
       "      <td>...</td>\n",
       "      <td>...</td>\n",
       "      <td>...</td>\n",
       "      <td>...</td>\n",
       "    </tr>\n",
       "    <tr>\n",
       "      <th>29977</th>\n",
       "      <td>6885</td>\n",
       "      <td>0.0</td>\n",
       "      <td>0.000000</td>\n",
       "      <td>0.000000</td>\n",
       "      <td>0.002808</td>\n",
       "    </tr>\n",
       "    <tr>\n",
       "      <th>29978</th>\n",
       "      <td>6885</td>\n",
       "      <td>0.0</td>\n",
       "      <td>0.000000</td>\n",
       "      <td>0.000000</td>\n",
       "      <td>0.005321</td>\n",
       "    </tr>\n",
       "    <tr>\n",
       "      <th>29979</th>\n",
       "      <td>6885</td>\n",
       "      <td>0.0</td>\n",
       "      <td>0.000000</td>\n",
       "      <td>0.000000</td>\n",
       "      <td>0.008965</td>\n",
       "    </tr>\n",
       "    <tr>\n",
       "      <th>29980</th>\n",
       "      <td>6885</td>\n",
       "      <td>0.0</td>\n",
       "      <td>0.000000</td>\n",
       "      <td>0.000000</td>\n",
       "      <td>0.005811</td>\n",
       "    </tr>\n",
       "    <tr>\n",
       "      <th>29981</th>\n",
       "      <td>6885</td>\n",
       "      <td>0.0</td>\n",
       "      <td>0.000000</td>\n",
       "      <td>0.000000</td>\n",
       "      <td>0.002529</td>\n",
       "    </tr>\n",
       "  </tbody>\n",
       "</table>\n",
       "<p>29982 rows × 5 columns</p>\n",
       "</div>"
      ],
      "text/plain": [
       "       case  score_resource  score_activity  score_role  score_timestamp\n",
       "0         0             0.0        0.057080    0.248274         0.031081\n",
       "1         0             0.0        0.000000    0.000000         0.006431\n",
       "2         0             0.0        0.000000    0.000000         0.012856\n",
       "3         0             0.0        0.924599    0.874269         0.051806\n",
       "4         0             0.0        0.000000    0.000000         0.006915\n",
       "...     ...             ...             ...         ...              ...\n",
       "29977  6885             0.0        0.000000    0.000000         0.002808\n",
       "29978  6885             0.0        0.000000    0.000000         0.005321\n",
       "29979  6885             0.0        0.000000    0.000000         0.008965\n",
       "29980  6885             0.0        0.000000    0.000000         0.005811\n",
       "29981  6885             0.0        0.000000    0.000000         0.002529\n",
       "\n",
       "[29982 rows x 5 columns]"
      ]
     },
     "execution_count": 25,
     "metadata": {},
     "output_type": "execute_result"
    }
   ],
   "source": [
    "# Generate the full range of values\n",
    "full_range = set(range(6886))\n",
    "\n",
    "# Get the existing 'case' values\n",
    "existing_cases = set(score['case'])\n",
    "\n",
    "# Identify missing values\n",
    "missing_cases = full_range - existing_cases\n",
    "\n",
    "# Create a DataFrame for missing values\n",
    "missing_df = pd.DataFrame({'case': list(missing_cases)})\n",
    "\n",
    "# Add other columns with value 1\n",
    "for col in score.columns:\n",
    "    if col != 'case':\n",
    "        missing_df[col] = 1\n",
    "\n",
    "# Concatenate the original DataFrame with the missing values DataFrame\n",
    "updated_score = pd.concat([score, missing_df])\n",
    "\n",
    "# Sort the DataFrame by 'case'\n",
    "updated_score = updated_score.sort_values(by='case').reset_index(drop=True)\n",
    "\n",
    "updated_score"
   ]
  },
  {
   "cell_type": "code",
   "execution_count": 26,
   "metadata": {},
   "outputs": [],
   "source": [
    "anomaly_scores_resource = updated_score['score_resource']\n",
    "anomaly_scores_activity = updated_score['score_activity']\n",
    "anomaly_scores_role = updated_score['score_role']\n",
    "anomaly_scores_timestamp = updated_score['score_timestamp']"
   ]
  },
  {
   "cell_type": "markdown",
   "metadata": {},
   "source": [
    "### Threshold (lowest plateau)"
   ]
  },
  {
   "cell_type": "code",
   "execution_count": 27,
   "metadata": {},
   "outputs": [],
   "source": [
    "import numpy as np\n",
    "\n",
    "def calculate_anomaly_ratio(scores, threshold):\n",
    "    \"\"\"\n",
    "    Calculate the anomaly ratio for a given threshold.\n",
    "    \"\"\"\n",
    "    return np.mean(scores > threshold)\n",
    "\n",
    "def find_plateaus(scores, epsilon=1e-4, min_plateau_length=10):\n",
    "    \"\"\"\n",
    "    Identify the lowest plateau in the anomaly ratio function and calculate the mean-centered threshold.\n",
    "    \"\"\"\n",
    "    scores = np.array(scores)  # Convert scores to a NumPy array\n",
    "    sorted_scores = np.sort(scores)\n",
    "    \n",
    "    # Remove duplicate values\n",
    "    unique_thresholds, unique_indices = np.unique(sorted_scores, return_index=True)\n",
    "    anomaly_ratios = np.array([calculate_anomaly_ratio(scores, t) for t in unique_thresholds])\n",
    "    \n",
    "    # Calculate first and second derivatives\n",
    "    first_derivatives = np.diff(anomaly_ratios) / np.diff(unique_thresholds)\n",
    "    second_derivatives = np.diff(first_derivatives) / np.diff(unique_thresholds[:-1])\n",
    "    \n",
    "    # Identify plateaus where the first derivative is close to zero\n",
    "    plateau_indices = np.where(np.abs(first_derivatives) < epsilon)[0]\n",
    "    \n",
    "    # Group consecutive indices to identify continuous plateaus\n",
    "    grouped_plateaus = np.split(plateau_indices, np.where(np.diff(plateau_indices) != 1)[0] + 1)\n",
    "    \n",
    "    # Filter plateaus based on minimum length\n",
    "    long_plateaus = [g for g in grouped_plateaus if len(g) >= min_plateau_length]\n",
    "    \n",
    "    if long_plateaus:\n",
    "        # Take the first long plateau and find the mean threshold in this plateau\n",
    "        first_plateau = long_plateaus[0]\n",
    "        plateau_thresholds = unique_thresholds[first_plateau]\n",
    "        return np.mean(plateau_thresholds)\n",
    "    else:\n",
    "        # If no plateau is found, return a default value, e.g., the 90th percentile\n",
    "        percentile_90 = np.percentile(sorted_scores, 90)\n",
    "        if percentile_90 == 1.0:\n",
    "            return 0.4\n",
    "        else:\n",
    "            return percentile_90"
   ]
  },
  {
   "cell_type": "code",
   "execution_count": 28,
   "metadata": {},
   "outputs": [],
   "source": [
    "threshold_activity = find_plateaus(anomaly_scores_activity)\n",
    "threshold_resource = find_plateaus(anomaly_scores_resource)\n",
    "threshold_role = find_plateaus(anomaly_scores_role)\n",
    "threshold_timestamp = find_plateaus(anomaly_scores_timestamp)"
   ]
  },
  {
   "cell_type": "markdown",
   "metadata": {},
   "source": [
    "### Detection"
   ]
  },
  {
   "cell_type": "code",
   "execution_count": 29,
   "metadata": {},
   "outputs": [],
   "source": [
    "def detect_anomalies(anomaly_scores, threshold):\n",
    "    labels = [1 if score > threshold else 0 for score in anomaly_scores]\n",
    "    return labels"
   ]
  },
  {
   "cell_type": "code",
   "execution_count": 30,
   "metadata": {},
   "outputs": [],
   "source": [
    "# Detect anomalies based on the calculated anomaly scores and thresholds\n",
    "labels_resource = detect_anomalies(anomaly_scores_resource, threshold_resource)\n",
    "labels_activity = detect_anomalies(anomaly_scores_activity, threshold_activity)\n",
    "labels_role = detect_anomalies(anomaly_scores_role, threshold_role)\n",
    "labels_timestamp = detect_anomalies(anomaly_scores_timestamp, threshold_timestamp)"
   ]
  },
  {
   "cell_type": "markdown",
   "metadata": {},
   "source": [
    "# Mapping"
   ]
  },
  {
   "cell_type": "code",
   "execution_count": 31,
   "metadata": {},
   "outputs": [],
   "source": [
    "case_indices = updated_score['case']"
   ]
  },
  {
   "cell_type": "code",
   "execution_count": 32,
   "metadata": {},
   "outputs": [
    {
     "data": {
      "text/html": [
       "<div>\n",
       "<style scoped>\n",
       "    .dataframe tbody tr th:only-of-type {\n",
       "        vertical-align: middle;\n",
       "    }\n",
       "\n",
       "    .dataframe tbody tr th {\n",
       "        vertical-align: top;\n",
       "    }\n",
       "\n",
       "    .dataframe thead th {\n",
       "        text-align: right;\n",
       "    }\n",
       "</style>\n",
       "<table border=\"1\" class=\"dataframe\">\n",
       "  <thead>\n",
       "    <tr style=\"text-align: right;\">\n",
       "      <th></th>\n",
       "      <th>case</th>\n",
       "      <th>predicted_resource</th>\n",
       "      <th>predicted_activity</th>\n",
       "      <th>predicted_role</th>\n",
       "      <th>predicted_timestamp</th>\n",
       "    </tr>\n",
       "  </thead>\n",
       "  <tbody>\n",
       "    <tr>\n",
       "      <th>0</th>\n",
       "      <td>0</td>\n",
       "      <td>0</td>\n",
       "      <td>1</td>\n",
       "      <td>1</td>\n",
       "      <td>1</td>\n",
       "    </tr>\n",
       "    <tr>\n",
       "      <th>1</th>\n",
       "      <td>0</td>\n",
       "      <td>0</td>\n",
       "      <td>0</td>\n",
       "      <td>0</td>\n",
       "      <td>0</td>\n",
       "    </tr>\n",
       "    <tr>\n",
       "      <th>2</th>\n",
       "      <td>0</td>\n",
       "      <td>0</td>\n",
       "      <td>0</td>\n",
       "      <td>0</td>\n",
       "      <td>1</td>\n",
       "    </tr>\n",
       "    <tr>\n",
       "      <th>3</th>\n",
       "      <td>0</td>\n",
       "      <td>0</td>\n",
       "      <td>1</td>\n",
       "      <td>1</td>\n",
       "      <td>1</td>\n",
       "    </tr>\n",
       "    <tr>\n",
       "      <th>4</th>\n",
       "      <td>0</td>\n",
       "      <td>0</td>\n",
       "      <td>0</td>\n",
       "      <td>0</td>\n",
       "      <td>0</td>\n",
       "    </tr>\n",
       "    <tr>\n",
       "      <th>...</th>\n",
       "      <td>...</td>\n",
       "      <td>...</td>\n",
       "      <td>...</td>\n",
       "      <td>...</td>\n",
       "      <td>...</td>\n",
       "    </tr>\n",
       "    <tr>\n",
       "      <th>29977</th>\n",
       "      <td>6885</td>\n",
       "      <td>0</td>\n",
       "      <td>0</td>\n",
       "      <td>0</td>\n",
       "      <td>0</td>\n",
       "    </tr>\n",
       "    <tr>\n",
       "      <th>29978</th>\n",
       "      <td>6885</td>\n",
       "      <td>0</td>\n",
       "      <td>0</td>\n",
       "      <td>0</td>\n",
       "      <td>0</td>\n",
       "    </tr>\n",
       "    <tr>\n",
       "      <th>29979</th>\n",
       "      <td>6885</td>\n",
       "      <td>0</td>\n",
       "      <td>0</td>\n",
       "      <td>0</td>\n",
       "      <td>0</td>\n",
       "    </tr>\n",
       "    <tr>\n",
       "      <th>29980</th>\n",
       "      <td>6885</td>\n",
       "      <td>0</td>\n",
       "      <td>0</td>\n",
       "      <td>0</td>\n",
       "      <td>0</td>\n",
       "    </tr>\n",
       "    <tr>\n",
       "      <th>29981</th>\n",
       "      <td>6885</td>\n",
       "      <td>0</td>\n",
       "      <td>0</td>\n",
       "      <td>0</td>\n",
       "      <td>0</td>\n",
       "    </tr>\n",
       "  </tbody>\n",
       "</table>\n",
       "<p>29982 rows × 5 columns</p>\n",
       "</div>"
      ],
      "text/plain": [
       "       case  predicted_resource  predicted_activity  predicted_role  \\\n",
       "0         0                   0                   1               1   \n",
       "1         0                   0                   0               0   \n",
       "2         0                   0                   0               0   \n",
       "3         0                   0                   1               1   \n",
       "4         0                   0                   0               0   \n",
       "...     ...                 ...                 ...             ...   \n",
       "29977  6885                   0                   0               0   \n",
       "29978  6885                   0                   0               0   \n",
       "29979  6885                   0                   0               0   \n",
       "29980  6885                   0                   0               0   \n",
       "29981  6885                   0                   0               0   \n",
       "\n",
       "       predicted_timestamp  \n",
       "0                        1  \n",
       "1                        0  \n",
       "2                        1  \n",
       "3                        1  \n",
       "4                        0  \n",
       "...                    ...  \n",
       "29977                    0  \n",
       "29978                    0  \n",
       "29979                    0  \n",
       "29980                    0  \n",
       "29981                    0  \n",
       "\n",
       "[29982 rows x 5 columns]"
      ]
     },
     "execution_count": 32,
     "metadata": {},
     "output_type": "execute_result"
    }
   ],
   "source": [
    "import pandas as pd\n",
    "\n",
    "# Create a DataFrame from the case_indices_array corresponding to case_resource\n",
    "mapping = pd.DataFrame({'case': case_indices})\n",
    "mapping['predicted_resource'] = labels_resource\n",
    "mapping['predicted_activity'] = labels_activity\n",
    "mapping['predicted_role'] = labels_role\n",
    "mapping['predicted_timestamp'] = labels_timestamp\n",
    "\n",
    "mapping"
   ]
  },
  {
   "cell_type": "code",
   "execution_count": 47,
   "metadata": {},
   "outputs": [
    {
     "data": {
      "text/plain": [
       "case\n",
       "0        True\n",
       "1        True\n",
       "2        True\n",
       "3        True\n",
       "4        True\n",
       "        ...  \n",
       "6881     True\n",
       "6882     True\n",
       "6883    False\n",
       "6884     True\n",
       "6885    False\n",
       "Length: 6886, dtype: bool"
      ]
     },
     "execution_count": 47,
     "metadata": {},
     "output_type": "execute_result"
    }
   ],
   "source": [
    "# Create a boolean DataFrame where each value is True if the value is 1\n",
    "contains_one = (mapping[['predicted_resource', 'predicted_activity', 'predicted_role', 'predicted_timestamp']] == 1)\n",
    "\n",
    "# Group by 'case' and check if there's at least one 'True' in any of the columns\n",
    "case_prediction = contains_one.groupby(mapping['case']).any().any(axis=1)\n",
    "case_prediction"
   ]
  },
  {
   "cell_type": "code",
   "execution_count": 34,
   "metadata": {},
   "outputs": [
    {
     "data": {
      "text/plain": [
       "case\n",
       "0        True\n",
       "1        True\n",
       "2       False\n",
       "3        True\n",
       "4        True\n",
       "        ...  \n",
       "6881    False\n",
       "6882    False\n",
       "6883    False\n",
       "6884     True\n",
       "6885    False\n",
       "Length: 6886, dtype: bool"
      ]
     },
     "execution_count": 34,
     "metadata": {},
     "output_type": "execute_result"
    }
   ],
   "source": [
    "# Create a boolean DataFrame where each value is True if the value is 1\n",
    "contains_one = (mapping[['predicted_activity']] == 1)\n",
    "\n",
    "# Group by 'case' and check if there's at least one 'True' in any of the columns\n",
    "case_prediction = contains_one.groupby(mapping['case']).any().any(axis=1)\n",
    "case_prediction"
   ]
  },
  {
   "cell_type": "markdown",
   "metadata": {},
   "source": [
    "# Ground Truth"
   ]
  },
  {
   "cell_type": "code",
   "execution_count": 48,
   "metadata": {},
   "outputs": [],
   "source": [
    "def generate_alignments_adjusted_tracecost_pkl(log, net, initial_marking, final_marking):\n",
    "    from pm4py.algo.conformance.alignments.petri_net import algorithm as alignments\n",
    "    from pm4py.algo.conformance.alignments.petri_net import variants\n",
    "    from pm4py.objects.petri_net.utils import align_utils\n",
    "    max_events=0\n",
    "    for trace in log:\n",
    "        counter=0\n",
    "        for event in trace:\n",
    "            counter+=1\n",
    "        if counter > max_events:\n",
    "            max_events=counter\n",
    "    parameters={}\n",
    "    parameters[alignments.Variants.VERSION_STATE_EQUATION_A_STAR.value.Parameters.PARAM_SYNC_COST_FUNCTION] = list(map(lambda i: .1*i, range(max_events*2)))\n",
    "    parameters[alignments.Variants.VERSION_STATE_EQUATION_A_STAR.value.Parameters.PARAM_TRACE_COST_FUNCTION]=list(map(lambda i: align_utils.STD_MODEL_LOG_MOVE_COST-.1*i, range(max_events*2)))\n",
    "    aligned_traces = alignments.apply_log(log, net, initial_marking, final_marking, variant=variants.state_equation_a_star, parameters=parameters)\n",
    "    return aligned_traces"
   ]
  },
  {
   "cell_type": "code",
   "execution_count": 49,
   "metadata": {},
   "outputs": [
    {
     "data": {
      "application/vnd.jupyter.widget-view+json": {
       "model_id": "6f66e0ea381641eba00a6af53ad14f23",
       "version_major": 2,
       "version_minor": 0
      },
      "text/plain": [
       "aligning log, completed variants ::   0%|          | 0/89 [00:00<?, ?it/s]"
      ]
     },
     "metadata": {},
     "output_type": "display_data"
    }
   ],
   "source": [
    "import pm4py\n",
    "from pm4py.objects.log.importer.xes import importer as xes_importer\n",
    "from pm4py.objects.bpmn.importer import importer as bpmn_importer\n",
    "from pm4py.algo.conformance.alignments.petri_net import algorithm as alignments_petri\n",
    "\n",
    "# 2. Import the given BPMN model\n",
    "bpmn_graph = bpmn_importer.apply(\"../../data/model/Model_RequestForPayment.bpmn\")\n",
    "\n",
    "# 3. Convert the BPMN to a Petri net\n",
    "net, initial_marking, final_marking = pm4py.convert_to_petri_net(bpmn_graph)\n",
    "\n",
    "aligned_traces = generate_alignments_adjusted_tracecost_pkl(log, net, initial_marking, final_marking)"
   ]
  },
  {
   "cell_type": "code",
   "execution_count": 50,
   "metadata": {},
   "outputs": [],
   "source": [
    "def extract_conformance_status_by_fitness(aligned_traces):\n",
    "    conformance_status = []\n",
    "    for alignment in aligned_traces:\n",
    "        fitness = alignment['fitness']\n",
    "        # If the fitness is 1.0, the trace is conforming\n",
    "        if fitness == 1.0:\n",
    "            conformance_status.append(1)\n",
    "        else:\n",
    "            conformance_status.append(0)\n",
    "    return conformance_status\n",
    "\n",
    "# Get the conformance status list from the aligned traces\n",
    "conformance = extract_conformance_status_by_fitness(aligned_traces)"
   ]
  },
  {
   "cell_type": "code",
   "execution_count": 51,
   "metadata": {},
   "outputs": [
    {
     "data": {
      "text/html": [
       "<div>\n",
       "<style scoped>\n",
       "    .dataframe tbody tr th:only-of-type {\n",
       "        vertical-align: middle;\n",
       "    }\n",
       "\n",
       "    .dataframe tbody tr th {\n",
       "        vertical-align: top;\n",
       "    }\n",
       "\n",
       "    .dataframe thead th {\n",
       "        text-align: right;\n",
       "    }\n",
       "</style>\n",
       "<table border=\"1\" class=\"dataframe\">\n",
       "  <thead>\n",
       "    <tr style=\"text-align: right;\">\n",
       "      <th></th>\n",
       "      <th>conformity</th>\n",
       "      <th>predicted</th>\n",
       "    </tr>\n",
       "  </thead>\n",
       "  <tbody>\n",
       "    <tr>\n",
       "      <th>0</th>\n",
       "      <td>0</td>\n",
       "      <td>0</td>\n",
       "    </tr>\n",
       "    <tr>\n",
       "      <th>1</th>\n",
       "      <td>0</td>\n",
       "      <td>0</td>\n",
       "    </tr>\n",
       "    <tr>\n",
       "      <th>2</th>\n",
       "      <td>0</td>\n",
       "      <td>0</td>\n",
       "    </tr>\n",
       "    <tr>\n",
       "      <th>3</th>\n",
       "      <td>0</td>\n",
       "      <td>0</td>\n",
       "    </tr>\n",
       "    <tr>\n",
       "      <th>4</th>\n",
       "      <td>0</td>\n",
       "      <td>0</td>\n",
       "    </tr>\n",
       "    <tr>\n",
       "      <th>...</th>\n",
       "      <td>...</td>\n",
       "      <td>...</td>\n",
       "    </tr>\n",
       "    <tr>\n",
       "      <th>6881</th>\n",
       "      <td>1</td>\n",
       "      <td>0</td>\n",
       "    </tr>\n",
       "    <tr>\n",
       "      <th>6882</th>\n",
       "      <td>1</td>\n",
       "      <td>0</td>\n",
       "    </tr>\n",
       "    <tr>\n",
       "      <th>6883</th>\n",
       "      <td>1</td>\n",
       "      <td>1</td>\n",
       "    </tr>\n",
       "    <tr>\n",
       "      <th>6884</th>\n",
       "      <td>1</td>\n",
       "      <td>0</td>\n",
       "    </tr>\n",
       "    <tr>\n",
       "      <th>6885</th>\n",
       "      <td>1</td>\n",
       "      <td>1</td>\n",
       "    </tr>\n",
       "  </tbody>\n",
       "</table>\n",
       "<p>6886 rows × 2 columns</p>\n",
       "</div>"
      ],
      "text/plain": [
       "      conformity  predicted\n",
       "0              0          0\n",
       "1              0          0\n",
       "2              0          0\n",
       "3              0          0\n",
       "4              0          0\n",
       "...          ...        ...\n",
       "6881           1          0\n",
       "6882           1          0\n",
       "6883           1          1\n",
       "6884           1          0\n",
       "6885           1          1\n",
       "\n",
       "[6886 rows x 2 columns]"
      ]
     },
     "execution_count": 51,
     "metadata": {},
     "output_type": "execute_result"
    }
   ],
   "source": [
    "ground_truth = pd.DataFrame({'conformity': conformance})\n",
    "ground_truth['predicted'] = case_prediction\n",
    "\n",
    "# Convert False to 0 and True to 1\n",
    "ground_truth['predicted'] = [int(value) for value in ground_truth['predicted']]\n",
    "ground_truth['predicted'] = 1 - ground_truth['predicted']\n",
    "ground_truth"
   ]
  },
  {
   "cell_type": "markdown",
   "metadata": {},
   "source": [
    "# Evaluation"
   ]
  },
  {
   "cell_type": "code",
   "execution_count": 52,
   "metadata": {},
   "outputs": [],
   "source": [
    "# Calculating TP, TN, FP, FN\n",
    "TP = ((ground_truth['conformity'] == 1) & (ground_truth['predicted'] == 1)).sum()\n",
    "TN = ((ground_truth['conformity'] == 0) & (ground_truth['predicted'] == 0)).sum()\n",
    "FP = ((ground_truth['conformity'] == 0) & (ground_truth['predicted'] == 1)).sum()\n",
    "FN = ((ground_truth['conformity'] == 1) & (ground_truth['predicted'] == 0)).sum()"
   ]
  },
  {
   "cell_type": "code",
   "execution_count": 53,
   "metadata": {},
   "outputs": [
    {
     "name": "stdout",
     "output_type": "stream",
     "text": [
      "Accuracy: 0.619\n"
     ]
    }
   ],
   "source": [
    "# Calculate accuracy\n",
    "accuracy = (TP + TN) / (TP + TN + FP + FN)\n",
    "print(f\"Accuracy: {accuracy:.3f}\")"
   ]
  },
  {
   "cell_type": "code",
   "execution_count": 54,
   "metadata": {},
   "outputs": [
    {
     "name": "stdout",
     "output_type": "stream",
     "text": [
      "F1: 0.710\n"
     ]
    }
   ],
   "source": [
    "# Calculate f1\n",
    "\n",
    "precision = TP / (TP + FP)\n",
    "recall = TP / (TP + FN)\n",
    "\n",
    "f1 = 2 * ((precision * recall) / (precision + recall))\n",
    "print(f\"F1: {f1:.3f}\")"
   ]
  },
  {
   "cell_type": "markdown",
   "metadata": {},
   "source": [
    "### Dev (Non Conform Traces)"
   ]
  },
  {
   "cell_type": "code",
   "execution_count": 55,
   "metadata": {},
   "outputs": [
    {
     "name": "stdout",
     "output_type": "stream",
     "text": [
      "Precision: 0.348\n"
     ]
    }
   ],
   "source": [
    "# Calculate precision for Dev\n",
    "precision = TN / (TN + FN)\n",
    "print(f\"Precision: {precision:.3f}\")"
   ]
  },
  {
   "cell_type": "code",
   "execution_count": 56,
   "metadata": {},
   "outputs": [
    {
     "name": "stdout",
     "output_type": "stream",
     "text": [
      "Recall: 0.625\n"
     ]
    }
   ],
   "source": [
    "# Calculate recall for Dev\n",
    "recall = TN / (TN + FP)\n",
    "print(f\"Recall: {recall:.3f}\")"
   ]
  },
  {
   "cell_type": "markdown",
   "metadata": {},
   "source": [
    "### No Dev (Conform Traces)"
   ]
  },
  {
   "cell_type": "code",
   "execution_count": 57,
   "metadata": {},
   "outputs": [
    {
     "name": "stdout",
     "output_type": "stream",
     "text": [
      "Precision: 0.834\n"
     ]
    }
   ],
   "source": [
    "# Calculate precision for No Dev\n",
    "precision = TP / (TP + FP)\n",
    "print(f\"Precision: {precision:.3f}\")"
   ]
  },
  {
   "cell_type": "code",
   "execution_count": 58,
   "metadata": {},
   "outputs": [
    {
     "name": "stdout",
     "output_type": "stream",
     "text": [
      "Recall: 0.617\n"
     ]
    }
   ],
   "source": [
    "# Calculate recall for No Dev\n",
    "recall = TP / (TP + FN)\n",
    "print(f\"Recall: {recall:.3f}\")"
   ]
  },
  {
   "cell_type": "markdown",
   "metadata": {},
   "source": [
    "### AUC-ROC"
   ]
  },
  {
   "cell_type": "code",
   "execution_count": 59,
   "metadata": {},
   "outputs": [
    {
     "data": {
      "text/plain": [
       "0.6213404948798696"
      ]
     },
     "execution_count": 59,
     "metadata": {},
     "output_type": "execute_result"
    }
   ],
   "source": [
    "import pandas as pd\n",
    "from sklearn.metrics import roc_auc_score\n",
    "\n",
    "# Assuming ground_truth is your DataFrame\n",
    "# Make sure 'conformity' contains actual labels (0 or 1)\n",
    "# and 'predicted' contains predicted probabilities or scores\n",
    "auc_roc = roc_auc_score(ground_truth['conformity'], ground_truth['predicted'])\n",
    "auc_roc"
   ]
  },
  {
   "cell_type": "code",
   "execution_count": null,
   "metadata": {},
   "outputs": [],
   "source": []
  }
 ],
 "metadata": {
  "kernelspec": {
   "display_name": "lstm",
   "language": "python",
   "name": "python3"
  },
  "language_info": {
   "codemirror_mode": {
    "name": "ipython",
    "version": 3
   },
   "file_extension": ".py",
   "mimetype": "text/x-python",
   "name": "python",
   "nbconvert_exporter": "python",
   "pygments_lexer": "ipython3",
   "version": "3.9.13"
  }
 },
 "nbformat": 4,
 "nbformat_minor": 2
}

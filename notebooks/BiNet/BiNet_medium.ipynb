{
 "cells": [
  {
   "cell_type": "markdown",
   "metadata": {},
   "source": [
    "# Import Event Log"
   ]
  },
  {
   "cell_type": "code",
   "execution_count": 3,
   "metadata": {},
   "outputs": [
    {
     "name": "stderr",
     "output_type": "stream",
     "text": [
      "/var/folders/s_/ch_w_j2d0sqf6dbdc0_224m40000gq/T/ipykernel_17022/2426251275.py:11: DeprecatedWarning: format_dataframe is deprecated as of 2.3.0 and will be removed in 3.0.0. the format_dataframe function does not need application anymore.\n",
      "  dataframe_log = pm4py.format_dataframe(\n"
     ]
    }
   ],
   "source": [
    "import pandas as pd\n",
    "import numpy as np\n",
    "import pm4py\n",
    "from pm4py.objects.conversion.log import converter as log_converter\n",
    "\n",
    "if __name__ == \"__main__\":\n",
    "    # Read the CSV file\n",
    "    dataframe_log = pd.read_csv('../../data/logs/medium_log.csv', sep=',')\n",
    "\n",
    "    # Format the dataframe\n",
    "    dataframe_log = pm4py.format_dataframe(\n",
    "        dataframe_log,\n",
    "        case_id='case:concept:name',\n",
    "        activity_key='concept:name',\n",
    "        timestamp_key='time:timestamp'\n",
    "    )\n",
    "\n",
    "    # Convert the dataframe to event log\n",
    "    log = log_converter.apply(dataframe_log)"
   ]
  },
  {
   "cell_type": "markdown",
   "metadata": {},
   "source": [
    "# Drop unnessary columns"
   ]
  },
  {
   "cell_type": "code",
   "execution_count": 4,
   "metadata": {},
   "outputs": [],
   "source": [
    "dataframe_log = dataframe_log.drop(columns=['timestamp'])\n",
    "dataframe_log = dataframe_log.drop(columns=['case:concept:name'])\n",
    "dataframe_log = dataframe_log.drop(columns=['@@index'])"
   ]
  },
  {
   "cell_type": "code",
   "execution_count": 5,
   "metadata": {},
   "outputs": [],
   "source": [
    "from sklearn.preprocessing import StandardScaler\n",
    "\n",
    "# Convert to datetime format\n",
    "dataframe_log['time:timestamp'] = pd.to_datetime(dataframe_log['time:timestamp'])\n",
    "\n",
    "# Calculate elapsed time since the start of each case\n",
    "dataframe_log['start_time'] = dataframe_log.groupby('@@case_index')['time:timestamp'].transform('min')\n",
    "dataframe_log['elapsed_time'] = (dataframe_log['time:timestamp'] - dataframe_log['start_time']).dt.total_seconds()\n",
    "\n",
    "# Normalize the elapsed time in minutes\n",
    "scaler = StandardScaler()\n",
    "dataframe_log['standardized_elapsed_time'] = scaler.fit_transform(dataframe_log[['elapsed_time']])\n",
    "\n",
    "dataframe_log = dataframe_log.drop(columns=['start_time'])\n",
    "dataframe_log = dataframe_log.drop(columns=['elapsed_time'])\n",
    "dataframe_log = dataframe_log.drop(columns=['time:timestamp'])"
   ]
  },
  {
   "cell_type": "code",
   "execution_count": 6,
   "metadata": {},
   "outputs": [
    {
     "data": {
      "text/html": [
       "<div>\n",
       "<style scoped>\n",
       "    .dataframe tbody tr th:only-of-type {\n",
       "        vertical-align: middle;\n",
       "    }\n",
       "\n",
       "    .dataframe tbody tr th {\n",
       "        vertical-align: top;\n",
       "    }\n",
       "\n",
       "    .dataframe thead th {\n",
       "        text-align: right;\n",
       "    }\n",
       "</style>\n",
       "<table border=\"1\" class=\"dataframe\">\n",
       "  <thead>\n",
       "    <tr style=\"text-align: right;\">\n",
       "      <th></th>\n",
       "      <th>concept:name</th>\n",
       "      <th>case:label</th>\n",
       "      <th>org:resource</th>\n",
       "      <th>@@case_index</th>\n",
       "      <th>standardized_elapsed_time</th>\n",
       "    </tr>\n",
       "  </thead>\n",
       "  <tbody>\n",
       "    <tr>\n",
       "      <th>0</th>\n",
       "      <td>Activity A</td>\n",
       "      <td>Insert</td>\n",
       "      <td>Doretta</td>\n",
       "      <td>0</td>\n",
       "      <td>-0.021742</td>\n",
       "    </tr>\n",
       "    <tr>\n",
       "      <th>1</th>\n",
       "      <td>Activity C</td>\n",
       "      <td>Insert</td>\n",
       "      <td>Jack</td>\n",
       "      <td>0</td>\n",
       "      <td>-0.021576</td>\n",
       "    </tr>\n",
       "    <tr>\n",
       "      <th>2</th>\n",
       "      <td>Activity F</td>\n",
       "      <td>Insert</td>\n",
       "      <td>Howard</td>\n",
       "      <td>0</td>\n",
       "      <td>-0.021410</td>\n",
       "    </tr>\n",
       "    <tr>\n",
       "      <th>3</th>\n",
       "      <td>Random activity 31</td>\n",
       "      <td>Insert</td>\n",
       "      <td>Random user 69</td>\n",
       "      <td>0</td>\n",
       "      <td>-0.021077</td>\n",
       "    </tr>\n",
       "    <tr>\n",
       "      <th>4</th>\n",
       "      <td>Activity D</td>\n",
       "      <td>Insert</td>\n",
       "      <td>Wilton</td>\n",
       "      <td>0</td>\n",
       "      <td>-0.020910</td>\n",
       "    </tr>\n",
       "    <tr>\n",
       "      <th>...</th>\n",
       "      <td>...</td>\n",
       "      <td>...</td>\n",
       "      <td>...</td>\n",
       "      <td>...</td>\n",
       "      <td>...</td>\n",
       "    </tr>\n",
       "    <tr>\n",
       "      <th>31986</th>\n",
       "      <td>Activity D</td>\n",
       "      <td>normal</td>\n",
       "      <td>Wilton</td>\n",
       "      <td>4999</td>\n",
       "      <td>-0.021077</td>\n",
       "    </tr>\n",
       "    <tr>\n",
       "      <th>31987</th>\n",
       "      <td>Activity I</td>\n",
       "      <td>normal</td>\n",
       "      <td>Alyce</td>\n",
       "      <td>4999</td>\n",
       "      <td>-0.020910</td>\n",
       "    </tr>\n",
       "    <tr>\n",
       "      <th>31988</th>\n",
       "      <td>Activity L</td>\n",
       "      <td>normal</td>\n",
       "      <td>Rossana</td>\n",
       "      <td>4999</td>\n",
       "      <td>-0.020577</td>\n",
       "    </tr>\n",
       "    <tr>\n",
       "      <th>31989</th>\n",
       "      <td>Activity J</td>\n",
       "      <td>normal</td>\n",
       "      <td>Jamika</td>\n",
       "      <td>4999</td>\n",
       "      <td>-0.020411</td>\n",
       "    </tr>\n",
       "    <tr>\n",
       "      <th>31990</th>\n",
       "      <td>Activity B</td>\n",
       "      <td>normal</td>\n",
       "      <td>Michaele</td>\n",
       "      <td>4999</td>\n",
       "      <td>-0.020078</td>\n",
       "    </tr>\n",
       "  </tbody>\n",
       "</table>\n",
       "<p>31991 rows × 5 columns</p>\n",
       "</div>"
      ],
      "text/plain": [
       "             concept:name case:label    org:resource  @@case_index  \\\n",
       "0              Activity A     Insert         Doretta             0   \n",
       "1              Activity C     Insert            Jack             0   \n",
       "2              Activity F     Insert          Howard             0   \n",
       "3      Random activity 31     Insert  Random user 69             0   \n",
       "4              Activity D     Insert          Wilton             0   \n",
       "...                   ...        ...             ...           ...   \n",
       "31986          Activity D     normal          Wilton          4999   \n",
       "31987          Activity I     normal           Alyce          4999   \n",
       "31988          Activity L     normal         Rossana          4999   \n",
       "31989          Activity J     normal          Jamika          4999   \n",
       "31990          Activity B     normal        Michaele          4999   \n",
       "\n",
       "       standardized_elapsed_time  \n",
       "0                      -0.021742  \n",
       "1                      -0.021576  \n",
       "2                      -0.021410  \n",
       "3                      -0.021077  \n",
       "4                      -0.020910  \n",
       "...                          ...  \n",
       "31986                  -0.021077  \n",
       "31987                  -0.020910  \n",
       "31988                  -0.020577  \n",
       "31989                  -0.020411  \n",
       "31990                  -0.020078  \n",
       "\n",
       "[31991 rows x 5 columns]"
      ]
     },
     "execution_count": 6,
     "metadata": {},
     "output_type": "execute_result"
    }
   ],
   "source": [
    "dataframe_log"
   ]
  },
  {
   "cell_type": "markdown",
   "metadata": {},
   "source": [
    "# Preprocess"
   ]
  },
  {
   "cell_type": "code",
   "execution_count": 7,
   "metadata": {},
   "outputs": [],
   "source": [
    "codes, uniques = pd.factorize(dataframe_log['org:resource'])\n",
    "dataframe_log['org:resource'] = codes + 1"
   ]
  },
  {
   "cell_type": "code",
   "execution_count": 8,
   "metadata": {},
   "outputs": [],
   "source": [
    "codes, uniques = pd.factorize(dataframe_log['concept:name'])\n",
    "dataframe_log['concept:name'] = codes + 1"
   ]
  },
  {
   "cell_type": "code",
   "execution_count": 9,
   "metadata": {},
   "outputs": [
    {
     "data": {
      "text/html": [
       "<div>\n",
       "<style scoped>\n",
       "    .dataframe tbody tr th:only-of-type {\n",
       "        vertical-align: middle;\n",
       "    }\n",
       "\n",
       "    .dataframe tbody tr th {\n",
       "        vertical-align: top;\n",
       "    }\n",
       "\n",
       "    .dataframe thead th {\n",
       "        text-align: right;\n",
       "    }\n",
       "</style>\n",
       "<table border=\"1\" class=\"dataframe\">\n",
       "  <thead>\n",
       "    <tr style=\"text-align: right;\">\n",
       "      <th></th>\n",
       "      <th>concept:name</th>\n",
       "      <th>case:label</th>\n",
       "      <th>org:resource</th>\n",
       "      <th>@@case_index</th>\n",
       "      <th>standardized_elapsed_time</th>\n",
       "    </tr>\n",
       "  </thead>\n",
       "  <tbody>\n",
       "    <tr>\n",
       "      <th>0</th>\n",
       "      <td>1</td>\n",
       "      <td>Insert</td>\n",
       "      <td>1</td>\n",
       "      <td>0</td>\n",
       "      <td>-0.021742</td>\n",
       "    </tr>\n",
       "    <tr>\n",
       "      <th>1</th>\n",
       "      <td>2</td>\n",
       "      <td>Insert</td>\n",
       "      <td>2</td>\n",
       "      <td>0</td>\n",
       "      <td>-0.021576</td>\n",
       "    </tr>\n",
       "    <tr>\n",
       "      <th>2</th>\n",
       "      <td>3</td>\n",
       "      <td>Insert</td>\n",
       "      <td>3</td>\n",
       "      <td>0</td>\n",
       "      <td>-0.021410</td>\n",
       "    </tr>\n",
       "    <tr>\n",
       "      <th>3</th>\n",
       "      <td>4</td>\n",
       "      <td>Insert</td>\n",
       "      <td>4</td>\n",
       "      <td>0</td>\n",
       "      <td>-0.021077</td>\n",
       "    </tr>\n",
       "    <tr>\n",
       "      <th>4</th>\n",
       "      <td>5</td>\n",
       "      <td>Insert</td>\n",
       "      <td>5</td>\n",
       "      <td>0</td>\n",
       "      <td>-0.020910</td>\n",
       "    </tr>\n",
       "    <tr>\n",
       "      <th>...</th>\n",
       "      <td>...</td>\n",
       "      <td>...</td>\n",
       "      <td>...</td>\n",
       "      <td>...</td>\n",
       "      <td>...</td>\n",
       "    </tr>\n",
       "    <tr>\n",
       "      <th>31986</th>\n",
       "      <td>5</td>\n",
       "      <td>normal</td>\n",
       "      <td>5</td>\n",
       "      <td>4999</td>\n",
       "      <td>-0.021077</td>\n",
       "    </tr>\n",
       "    <tr>\n",
       "      <th>31987</th>\n",
       "      <td>6</td>\n",
       "      <td>normal</td>\n",
       "      <td>74</td>\n",
       "      <td>4999</td>\n",
       "      <td>-0.020910</td>\n",
       "    </tr>\n",
       "    <tr>\n",
       "      <th>31988</th>\n",
       "      <td>20</td>\n",
       "      <td>normal</td>\n",
       "      <td>28</td>\n",
       "      <td>4999</td>\n",
       "      <td>-0.020577</td>\n",
       "    </tr>\n",
       "    <tr>\n",
       "      <th>31989</th>\n",
       "      <td>9</td>\n",
       "      <td>normal</td>\n",
       "      <td>20</td>\n",
       "      <td>4999</td>\n",
       "      <td>-0.020411</td>\n",
       "    </tr>\n",
       "    <tr>\n",
       "      <th>31990</th>\n",
       "      <td>10</td>\n",
       "      <td>normal</td>\n",
       "      <td>10</td>\n",
       "      <td>4999</td>\n",
       "      <td>-0.020078</td>\n",
       "    </tr>\n",
       "  </tbody>\n",
       "</table>\n",
       "<p>31991 rows × 5 columns</p>\n",
       "</div>"
      ],
      "text/plain": [
       "       concept:name case:label  org:resource  @@case_index  \\\n",
       "0                 1     Insert             1             0   \n",
       "1                 2     Insert             2             0   \n",
       "2                 3     Insert             3             0   \n",
       "3                 4     Insert             4             0   \n",
       "4                 5     Insert             5             0   \n",
       "...             ...        ...           ...           ...   \n",
       "31986             5     normal             5          4999   \n",
       "31987             6     normal            74          4999   \n",
       "31988            20     normal            28          4999   \n",
       "31989             9     normal            20          4999   \n",
       "31990            10     normal            10          4999   \n",
       "\n",
       "       standardized_elapsed_time  \n",
       "0                      -0.021742  \n",
       "1                      -0.021576  \n",
       "2                      -0.021410  \n",
       "3                      -0.021077  \n",
       "4                      -0.020910  \n",
       "...                          ...  \n",
       "31986                  -0.021077  \n",
       "31987                  -0.020910  \n",
       "31988                  -0.020577  \n",
       "31989                  -0.020411  \n",
       "31990                  -0.020078  \n",
       "\n",
       "[31991 rows x 5 columns]"
      ]
     },
     "execution_count": 9,
     "metadata": {},
     "output_type": "execute_result"
    }
   ],
   "source": [
    "dataframe_log"
   ]
  },
  {
   "cell_type": "markdown",
   "metadata": {},
   "source": [
    "# Generate Prefixes"
   ]
  },
  {
   "cell_type": "code",
   "execution_count": 10,
   "metadata": {},
   "outputs": [],
   "source": [
    "df_resource = dataframe_log[['org:resource', '@@case_index']]\n",
    "df_activity = dataframe_log[['concept:name', '@@case_index']]\n",
    "df_timestamp = dataframe_log[['standardized_elapsed_time', '@@case_index']]"
   ]
  },
  {
   "cell_type": "code",
   "execution_count": 11,
   "metadata": {},
   "outputs": [
    {
     "name": "stderr",
     "output_type": "stream",
     "text": [
      "2024-07-02 17:43:07.332617: I tensorflow/core/platform/cpu_feature_guard.cc:182] This TensorFlow binary is optimized to use available CPU instructions in performance-critical operations.\n",
      "To enable the following instructions: AVX2 FMA, in other operations, rebuild TensorFlow with the appropriate compiler flags.\n"
     ]
    }
   ],
   "source": [
    "import numpy as np\n",
    "from tensorflow.keras.preprocessing.sequence import pad_sequences\n",
    "\n",
    "def generate_prefix_windows(df, case_id_column='@@case_index', max_len=None):\n",
    "    windows = []\n",
    "    targets = []\n",
    "    case_indices = []\n",
    "    \n",
    "    for case_id in df[case_id_column].unique():\n",
    "        case_data = df[df[case_id_column] == case_id].drop(columns=[case_id_column]).to_numpy()\n",
    "        \n",
    "        # Optional: Make sure to sort the case data if there's an implicit order (e.g., by timestamps)\n",
    "        # case_data = case_data.sort_values(by='timestamp_column').to_numpy()  # Uncomment and adjust if needed\n",
    "        \n",
    "        for i in range(1, len(case_data)):\n",
    "            window = case_data[:i]\n",
    "            target = case_data[i]\n",
    "            windows.append(window)\n",
    "            targets.append(target)\n",
    "            case_indices.append(case_id)\n",
    "    \n",
    "    if max_len is None:\n",
    "        max_len = max(len(window) for window in windows)\n",
    "    \n",
    "    # Pad sequences\n",
    "    windows_padded = pad_sequences(windows, maxlen=max_len, padding='post', dtype='float32')\n",
    "    \n",
    "    # Convert targets to numpy array\n",
    "    targets_array = np.array(targets, dtype='float32')\n",
    "    case_indices_array = np.array(case_indices)\n",
    "    \n",
    "    return windows_padded, targets_array, case_indices_array\n"
   ]
  },
  {
   "cell_type": "code",
   "execution_count": 12,
   "metadata": {},
   "outputs": [],
   "source": [
    "windows_resource, targets_resource, case_indices = generate_prefix_windows(df_resource)\n",
    "windows_activity, targets_activity, case_indices = generate_prefix_windows(df_activity)\n",
    "windows_timestamp, targets_timestamp, case_indices = generate_prefix_windows(df_timestamp)"
   ]
  },
  {
   "cell_type": "markdown",
   "metadata": {},
   "source": [
    "# GRU"
   ]
  },
  {
   "cell_type": "markdown",
   "metadata": {},
   "source": [
    "### Architecture"
   ]
  },
  {
   "cell_type": "markdown",
   "metadata": {},
   "source": [
    "- Separate Inputs for Each Attribute\n",
    "- Each attribute is passed through an embedding layer\n",
    "- Each attribute has its corresponding GRU encoder\n",
    "- Selective Concatenation: After encoding, the outputs of these GRU layers are concatenated. However, this concatenation is selective, meaning it is structured in a way that prepares the data for effective synthesis without leaking information from the future (next event attributes)\n",
    "- Decoder GRUs: Integrated Decoding: Post-concatenation, the combined attributes are processed through decoder GRU layers. These layers are tasked with integrating the data from different attributes and preparing it for final prediction. This step is where BINet v3 distinguishes itself by effectively using the interdependencies between different attributes to enhance prediction accuracy.\n",
    "- Output Layer: Softmax Output for Each Attribute: For each attribute of the next event, a softmax layer predicts a probability distribution over all possible values. This allows the model to output the most likely next event and its attributes based on the learned dependencies and the history encoded by the GRUs.\n",
    "- E: maximum case length\n",
    "- We train BINet with a GRU size of 2E (two times the maximum case length)\n",
    "- on mini batches of size 500 for 20 epochs"
   ]
  },
  {
   "cell_type": "code",
   "execution_count": 13,
   "metadata": {},
   "outputs": [],
   "source": [
    "# Group by the @@case_index column and count the rows in each group\n",
    "case_lengths = dataframe_log.groupby('@@case_index').size()\n",
    "\n",
    "# Find the maximum value among the case lengths\n",
    "E = case_lengths.max()"
   ]
  },
  {
   "cell_type": "code",
   "execution_count": 14,
   "metadata": {},
   "outputs": [
    {
     "name": "stdout",
     "output_type": "stream",
     "text": [
      "Model: \"model\"\n",
      "__________________________________________________________________________________________________\n",
      " Layer (type)                Output Shape                 Param #   Connected to                  \n",
      "==================================================================================================\n",
      " activity_input (InputLayer  [(None, None)]               0         []                            \n",
      " )                                                                                                \n",
      "                                                                                                  \n",
      " resource_input (InputLayer  [(None, None)]               0         []                            \n",
      " )                                                                                                \n",
      "                                                                                                  \n",
      " activity_embedding (Embedd  (None, None, 50)             3200      ['activity_input[0][0]']      \n",
      " ing)                                                                                             \n",
      "                                                                                                  \n",
      " resource_embedding (Embedd  (None, None, 50)             6950      ['resource_input[0][0]']      \n",
      " ing)                                                                                             \n",
      "                                                                                                  \n",
      " timestamp_input (InputLaye  [(None, None, 1)]            0         []                            \n",
      " r)                                                                                               \n",
      "                                                                                                  \n",
      " activity_encoder (GRU)      (None, None, 22)             4884      ['activity_embedding[0][0]']  \n",
      "                                                                                                  \n",
      " resource_encoder (GRU)      (None, None, 22)             4884      ['resource_embedding[0][0]']  \n",
      "                                                                                                  \n",
      " timestamp_encoder (GRU)     (None, None, 22)             1650      ['timestamp_input[0][0]']     \n",
      "                                                                                                  \n",
      " bn_activity (BatchNormaliz  (None, None, 22)             88        ['activity_encoder[0][0]']    \n",
      " ation)                                                                                           \n",
      "                                                                                                  \n",
      " bn_resource (BatchNormaliz  (None, None, 22)             88        ['resource_encoder[0][0]']    \n",
      " ation)                                                                                           \n",
      "                                                                                                  \n",
      " bn_timestamp (BatchNormali  (None, None, 22)             88        ['timestamp_encoder[0][0]']   \n",
      " zation)                                                                                          \n",
      "                                                                                                  \n",
      " concatenate_encodings (Con  (None, None, 66)             0         ['bn_activity[0][0]',         \n",
      " catenate)                                                           'bn_resource[0][0]',         \n",
      "                                                                     'bn_timestamp[0][0]']        \n",
      "                                                                                                  \n",
      " decoder_gru (GRU)           (None, 22)                   5940      ['concatenate_encodings[0][0]'\n",
      "                                                                    ]                             \n",
      "                                                                                                  \n",
      " dropout (Dropout)           (None, 22)                   0         ['decoder_gru[0][0]']         \n",
      "                                                                                                  \n",
      " output_activity (Dense)     (None, 64)                   1472      ['dropout[0][0]']             \n",
      "                                                                                                  \n",
      " output_resource (Dense)     (None, 139)                  3197      ['dropout[0][0]']             \n",
      "                                                                                                  \n",
      " output_timestamp (Dense)    (None, 1)                    23        ['dropout[0][0]']             \n",
      "                                                                                                  \n",
      "==================================================================================================\n",
      "Total params: 32464 (126.81 KB)\n",
      "Trainable params: 32332 (126.30 KB)\n",
      "Non-trainable params: 132 (528.00 Byte)\n",
      "__________________________________________________________________________________________________\n"
     ]
    }
   ],
   "source": [
    "import tensorflow as tf\n",
    "from tensorflow.keras.models import Model\n",
    "from tensorflow.keras.layers import Input, GRU, Embedding, Dense, Dropout, Concatenate, BatchNormalization\n",
    "\n",
    "def create_binetv3(num_activities, num_resources, embedding_dim, gru_units, dropout_rate):\n",
    "    # Input layers for each attribute\n",
    "    input_activity = Input(shape=(None,), name='activity_input')\n",
    "    input_resource = Input(shape=(None,), name='resource_input')\n",
    "    input_timestamp = Input(shape=(None, 1), name='timestamp_input')\n",
    "\n",
    "    # Embedding layers for categorical attributes\n",
    "    embedding_activity = Embedding(input_dim=num_activities + 1, output_dim=embedding_dim, mask_zero=True, name='activity_embedding')(input_activity)\n",
    "    embedding_resource = Embedding(input_dim=num_resources + 1, output_dim=embedding_dim, mask_zero=True, name='resource_embedding')(input_resource)\n",
    "\n",
    "    # Encoder GRUs with Batch Normalization for categorical attributes\n",
    "    encoded_activity = GRU(units=gru_units, return_sequences=True, name='activity_encoder')(embedding_activity)\n",
    "    bn_activity = BatchNormalization(name='bn_activity')(encoded_activity)\n",
    "    encoded_resource = GRU(units=gru_units, return_sequences=True, name='resource_encoder')(embedding_resource)\n",
    "    bn_resource = BatchNormalization(name='bn_resource')(encoded_resource)\n",
    "\n",
    "    # Encoder GRU with Batch Normalization for continuous attribute\n",
    "    encoded_timestamp = GRU(units=gru_units, return_sequences=True, name='timestamp_encoder')(input_timestamp)\n",
    "    bn_timestamp = BatchNormalization(name='bn_timestamp')(encoded_timestamp)\n",
    "\n",
    "    # Concatenation of encoded outputs\n",
    "    concatenated = Concatenate(name='concatenate_encodings')([bn_activity, bn_resource, bn_timestamp])\n",
    "\n",
    "    # Decoder GRU\n",
    "    decoder_output = GRU(units=gru_units, return_sequences=False, name='decoder_gru')(concatenated)\n",
    "    dropout_layer = Dropout(rate=dropout_rate, name='dropout')(decoder_output)\n",
    "\n",
    "    # Output layers for predicting the next event's attributes\n",
    "    output_activity = Dense(num_activities + 1, activation='softmax', name='output_activity')(dropout_layer)\n",
    "    output_resource = Dense(num_resources + 1, activation='softmax', name='output_resource')(dropout_layer)\n",
    "    output_timestamp = Dense(1, activation='linear', name='output_timestamp')(dropout_layer)\n",
    "\n",
    "    # Building the model\n",
    "    model = Model(inputs=[input_activity, input_resource, input_timestamp], outputs=[output_activity, output_resource, output_timestamp])\n",
    "    model.compile(\n",
    "        optimizer='adam', \n",
    "        loss={\n",
    "            'output_activity': 'categorical_crossentropy', \n",
    "            'output_resource': 'categorical_crossentropy',\n",
    "            'output_timestamp': 'mse'\n",
    "        },\n",
    "        metrics={\n",
    "            'output_activity': ['accuracy'], \n",
    "            'output_resource': ['accuracy'],\n",
    "            'output_timestamp': ['mse']\n",
    "        }\n",
    "    )\n",
    "\n",
    "    return model\n",
    "\n",
    "# Parameters\n",
    "gru_units = int(2 * E) \n",
    "num_activities = dataframe_log['concept:name'].max()\n",
    "num_resources = dataframe_log['org:resource'].max()\n",
    "embedding_dim = 50\n",
    "dropout_rate = 0.2\n",
    "model = create_binetv3(num_activities, num_resources, embedding_dim, gru_units, dropout_rate)\n",
    "model.summary()"
   ]
  },
  {
   "cell_type": "markdown",
   "metadata": {},
   "source": [
    "### Data Splitting"
   ]
  },
  {
   "cell_type": "code",
   "execution_count": 15,
   "metadata": {},
   "outputs": [],
   "source": [
    "from sklearn.model_selection import train_test_split\n",
    "\n",
    "train_resource, test_resource, train_targets_resource, test_targets_resource = train_test_split(\n",
    "    windows_resource, targets_resource, test_size=0.3, random_state=42)\n",
    "\n",
    "train_activity, test_activity, train_targets_activity, test_targets_activity = train_test_split(\n",
    "    windows_activity, targets_activity, test_size=0.3, random_state=42)\n",
    "\n",
    "train_timestamp, test_timestamp, train_targets_timestamp, test_targets_timestamp = train_test_split(\n",
    "    windows_timestamp, targets_timestamp, test_size=0.3, random_state=42)"
   ]
  },
  {
   "cell_type": "markdown",
   "metadata": {},
   "source": [
    "### Training"
   ]
  },
  {
   "cell_type": "code",
   "execution_count": 14,
   "metadata": {},
   "outputs": [],
   "source": [
    "from tensorflow.keras.utils import to_categorical\n",
    "\n",
    "train_targets_resource_cat = to_categorical(train_targets_resource, num_classes=num_resources + 1)\n",
    "test_targets_resource_cat = to_categorical(test_targets_resource, num_classes=num_resources + 1)\n",
    "\n",
    "train_targets_activity_cat = to_categorical(train_targets_activity, num_classes=num_activities + 1)\n",
    "test_targets_activity_cat = to_categorical(test_targets_activity, num_classes=num_activities + 1)"
   ]
  },
  {
   "cell_type": "code",
   "execution_count": 15,
   "metadata": {},
   "outputs": [
    {
     "name": "stdout",
     "output_type": "stream",
     "text": [
      "Epoch 1/20\n",
      "38/38 [==============================] - 21s 171ms/step - loss: 9.2365 - output_activity_loss: 3.7269 - output_resource_loss: 4.7709 - output_timestamp_loss: 0.7387 - output_activity_accuracy: 0.3366 - output_resource_accuracy: 0.0705 - output_timestamp_mse: 0.7387 - val_loss: 11.0703 - val_output_activity_loss: 3.9917 - val_output_resource_loss: 4.8245 - val_output_timestamp_loss: 2.2541 - val_output_activity_accuracy: 0.2662 - val_output_resource_accuracy: 0.0716 - val_output_timestamp_mse: 2.2541\n",
      "Epoch 2/20\n",
      "38/38 [==============================] - 2s 53ms/step - loss: 7.5587 - output_activity_loss: 2.6655 - output_resource_loss: 4.1226 - output_timestamp_loss: 0.7706 - output_activity_accuracy: 0.6044 - output_resource_accuracy: 0.1383 - output_timestamp_mse: 0.7706 - val_loss: 10.4080 - val_output_activity_loss: 3.6119 - val_output_resource_loss: 4.5500 - val_output_timestamp_loss: 2.2461 - val_output_activity_accuracy: 0.3937 - val_output_resource_accuracy: 0.1032 - val_output_timestamp_mse: 2.2461\n",
      "Epoch 3/20\n",
      "38/38 [==============================] - 2s 59ms/step - loss: 6.0569 - output_activity_loss: 1.8125 - output_resource_loss: 3.4380 - output_timestamp_loss: 0.8065 - output_activity_accuracy: 0.6951 - output_resource_accuracy: 0.2681 - output_timestamp_mse: 0.8065 - val_loss: 9.5955 - val_output_activity_loss: 3.1565 - val_output_resource_loss: 4.2024 - val_output_timestamp_loss: 2.2365 - val_output_activity_accuracy: 0.5785 - val_output_resource_accuracy: 0.2570 - val_output_timestamp_mse: 2.2365\n",
      "Epoch 4/20\n",
      "38/38 [==============================] - 3s 71ms/step - loss: 5.1089 - output_activity_loss: 1.3430 - output_resource_loss: 2.9687 - output_timestamp_loss: 0.7972 - output_activity_accuracy: 0.7720 - output_resource_accuracy: 0.3757 - output_timestamp_mse: 0.7972 - val_loss: 8.7432 - val_output_activity_loss: 2.6816 - val_output_resource_loss: 3.8324 - val_output_timestamp_loss: 2.2292 - val_output_activity_accuracy: 0.6698 - val_output_resource_accuracy: 0.3323 - val_output_timestamp_mse: 2.2292\n",
      "Epoch 5/20\n",
      "38/38 [==============================] - 2s 56ms/step - loss: 4.5045 - output_activity_loss: 1.0796 - output_resource_loss: 2.6401 - output_timestamp_loss: 0.7848 - output_activity_accuracy: 0.8218 - output_resource_accuracy: 0.4249 - output_timestamp_mse: 0.7848 - val_loss: 7.8797 - val_output_activity_loss: 2.1985 - val_output_resource_loss: 3.4505 - val_output_timestamp_loss: 2.2307 - val_output_activity_accuracy: 0.7418 - val_output_resource_accuracy: 0.3684 - val_output_timestamp_mse: 2.2307\n",
      "Epoch 6/20\n",
      "38/38 [==============================] - 2s 55ms/step - loss: 4.0914 - output_activity_loss: 0.9196 - output_resource_loss: 2.4062 - output_timestamp_loss: 0.7656 - output_activity_accuracy: 0.8554 - output_resource_accuracy: 0.4543 - output_timestamp_mse: 0.7656 - val_loss: 7.1042 - val_output_activity_loss: 1.7703 - val_output_resource_loss: 3.1065 - val_output_timestamp_loss: 2.2274 - val_output_activity_accuracy: 0.8086 - val_output_resource_accuracy: 0.4284 - val_output_timestamp_mse: 2.2274\n",
      "Epoch 7/20\n",
      "38/38 [==============================] - 2s 61ms/step - loss: 3.8134 - output_activity_loss: 0.8171 - output_resource_loss: 2.2442 - output_timestamp_loss: 0.7521 - output_activity_accuracy: 0.8671 - output_resource_accuracy: 0.4751 - output_timestamp_mse: 0.7521 - val_loss: 6.4108 - val_output_activity_loss: 1.3992 - val_output_resource_loss: 2.7924 - val_output_timestamp_loss: 2.2192 - val_output_activity_accuracy: 0.8450 - val_output_resource_accuracy: 0.4690 - val_output_timestamp_mse: 2.2192\n",
      "Epoch 8/20\n",
      "38/38 [==============================] - 2s 57ms/step - loss: 3.6112 - output_activity_loss: 0.7459 - output_resource_loss: 2.1230 - output_timestamp_loss: 0.7422 - output_activity_accuracy: 0.8791 - output_resource_accuracy: 0.4932 - output_timestamp_mse: 0.7422 - val_loss: 5.8348 - val_output_activity_loss: 1.1123 - val_output_resource_loss: 2.5105 - val_output_timestamp_loss: 2.2120 - val_output_activity_accuracy: 0.8524 - val_output_resource_accuracy: 0.4811 - val_output_timestamp_mse: 2.2120\n",
      "Epoch 9/20\n",
      "38/38 [==============================] - 2s 61ms/step - loss: 3.4451 - output_activity_loss: 0.6901 - output_resource_loss: 2.0245 - output_timestamp_loss: 0.7306 - output_activity_accuracy: 0.8882 - output_resource_accuracy: 0.5096 - output_timestamp_mse: 0.7306 - val_loss: 5.3878 - val_output_activity_loss: 0.9015 - val_output_resource_loss: 2.2820 - val_output_timestamp_loss: 2.2043 - val_output_activity_accuracy: 0.8700 - val_output_resource_accuracy: 0.5086 - val_output_timestamp_mse: 2.2043\n",
      "Epoch 10/20\n",
      "38/38 [==============================] - 2s 53ms/step - loss: 3.3214 - output_activity_loss: 0.6476 - output_resource_loss: 1.9483 - output_timestamp_loss: 0.7255 - output_activity_accuracy: 0.8971 - output_resource_accuracy: 0.5142 - output_timestamp_mse: 0.7255 - val_loss: 5.0533 - val_output_activity_loss: 0.7510 - val_output_resource_loss: 2.0983 - val_output_timestamp_loss: 2.2040 - val_output_activity_accuracy: 0.8817 - val_output_resource_accuracy: 0.5189 - val_output_timestamp_mse: 2.2040\n",
      "Epoch 11/20\n",
      "38/38 [==============================] - 2s 62ms/step - loss: 3.2285 - output_activity_loss: 0.6154 - output_resource_loss: 1.8928 - output_timestamp_loss: 0.7203 - output_activity_accuracy: 0.8996 - output_resource_accuracy: 0.5225 - output_timestamp_mse: 0.7203 - val_loss: 4.8199 - val_output_activity_loss: 0.6537 - val_output_resource_loss: 1.9649 - val_output_timestamp_loss: 2.2013 - val_output_activity_accuracy: 0.8952 - val_output_resource_accuracy: 0.5293 - val_output_timestamp_mse: 2.2013\n",
      "Epoch 12/20\n",
      "38/38 [==============================] - 2s 61ms/step - loss: 3.1320 - output_activity_loss: 0.5842 - output_resource_loss: 1.8309 - output_timestamp_loss: 0.7169 - output_activity_accuracy: 0.9068 - output_resource_accuracy: 0.5307 - output_timestamp_mse: 0.7169 - val_loss: 4.6627 - val_output_activity_loss: 0.5955 - val_output_resource_loss: 1.8668 - val_output_timestamp_loss: 2.2004 - val_output_activity_accuracy: 0.9018 - val_output_resource_accuracy: 0.5331 - val_output_timestamp_mse: 2.2004\n",
      "Epoch 13/20\n",
      "38/38 [==============================] - 2s 55ms/step - loss: 3.0750 - output_activity_loss: 0.5640 - output_resource_loss: 1.7979 - output_timestamp_loss: 0.7130 - output_activity_accuracy: 0.9104 - output_resource_accuracy: 0.5322 - output_timestamp_mse: 0.7130 - val_loss: 4.5510 - val_output_activity_loss: 0.5546 - val_output_resource_loss: 1.7979 - val_output_timestamp_loss: 2.1985 - val_output_activity_accuracy: 0.9121 - val_output_resource_accuracy: 0.5378 - val_output_timestamp_mse: 2.1985\n",
      "Epoch 14/20\n",
      "38/38 [==============================] - 2s 50ms/step - loss: 3.0174 - output_activity_loss: 0.5427 - output_resource_loss: 1.7603 - output_timestamp_loss: 0.7144 - output_activity_accuracy: 0.9140 - output_resource_accuracy: 0.5349 - output_timestamp_mse: 0.7144 - val_loss: 4.4705 - val_output_activity_loss: 0.5257 - val_output_resource_loss: 1.7457 - val_output_timestamp_loss: 2.1990 - val_output_activity_accuracy: 0.9122 - val_output_resource_accuracy: 0.5390 - val_output_timestamp_mse: 2.1990\n",
      "Epoch 15/20\n",
      "38/38 [==============================] - 2s 49ms/step - loss: 2.9594 - output_activity_loss: 0.5250 - output_resource_loss: 1.7225 - output_timestamp_loss: 0.7119 - output_activity_accuracy: 0.9171 - output_resource_accuracy: 0.5431 - output_timestamp_mse: 0.7119 - val_loss: 4.4125 - val_output_activity_loss: 0.5072 - val_output_resource_loss: 1.7074 - val_output_timestamp_loss: 2.1979 - val_output_activity_accuracy: 0.9149 - val_output_resource_accuracy: 0.5431 - val_output_timestamp_mse: 2.1979\n",
      "Epoch 16/20\n",
      "38/38 [==============================] - 2s 48ms/step - loss: 2.9216 - output_activity_loss: 0.5129 - output_resource_loss: 1.6975 - output_timestamp_loss: 0.7112 - output_activity_accuracy: 0.9186 - output_resource_accuracy: 0.5439 - output_timestamp_mse: 0.7112 - val_loss: 4.3699 - val_output_activity_loss: 0.4922 - val_output_resource_loss: 1.6740 - val_output_timestamp_loss: 2.2038 - val_output_activity_accuracy: 0.9170 - val_output_resource_accuracy: 0.5466 - val_output_timestamp_mse: 2.2038\n",
      "Epoch 17/20\n",
      "38/38 [==============================] - 2s 49ms/step - loss: 2.8801 - output_activity_loss: 0.4947 - output_resource_loss: 1.6751 - output_timestamp_loss: 0.7103 - output_activity_accuracy: 0.9212 - output_resource_accuracy: 0.5439 - output_timestamp_mse: 0.7103 - val_loss: 4.3363 - val_output_activity_loss: 0.4820 - val_output_resource_loss: 1.6512 - val_output_timestamp_loss: 2.2030 - val_output_activity_accuracy: 0.9163 - val_output_resource_accuracy: 0.5487 - val_output_timestamp_mse: 2.2030\n",
      "Epoch 18/20\n",
      "38/38 [==============================] - 2s 61ms/step - loss: 2.8416 - output_activity_loss: 0.4833 - output_resource_loss: 1.6509 - output_timestamp_loss: 0.7074 - output_activity_accuracy: 0.9215 - output_resource_accuracy: 0.5500 - output_timestamp_mse: 0.7074 - val_loss: 4.3003 - val_output_activity_loss: 0.4690 - val_output_resource_loss: 1.6285 - val_output_timestamp_loss: 2.2027 - val_output_activity_accuracy: 0.9180 - val_output_resource_accuracy: 0.5526 - val_output_timestamp_mse: 2.2027\n",
      "Epoch 19/20\n",
      "38/38 [==============================] - 4s 93ms/step - loss: 2.8142 - output_activity_loss: 0.4765 - output_resource_loss: 1.6306 - output_timestamp_loss: 0.7071 - output_activity_accuracy: 0.9233 - output_resource_accuracy: 0.5520 - output_timestamp_mse: 0.7071 - val_loss: 4.2765 - val_output_activity_loss: 0.4605 - val_output_resource_loss: 1.6114 - val_output_timestamp_loss: 2.2046 - val_output_activity_accuracy: 0.9189 - val_output_resource_accuracy: 0.5531 - val_output_timestamp_mse: 2.2046\n",
      "Epoch 20/20\n",
      "38/38 [==============================] - 4s 97ms/step - loss: 2.7872 - output_activity_loss: 0.4655 - output_resource_loss: 1.6131 - output_timestamp_loss: 0.7086 - output_activity_accuracy: 0.9238 - output_resource_accuracy: 0.5509 - output_timestamp_mse: 0.7086 - val_loss: 4.2628 - val_output_activity_loss: 0.4569 - val_output_resource_loss: 1.5968 - val_output_timestamp_loss: 2.2091 - val_output_activity_accuracy: 0.9195 - val_output_resource_accuracy: 0.5595 - val_output_timestamp_mse: 2.2091\n"
     ]
    }
   ],
   "source": [
    "history = model.fit(\n",
    "    [train_activity, train_resource, train_timestamp],\n",
    "    [train_targets_activity_cat, train_targets_resource_cat, train_targets_timestamp],\n",
    "    validation_data=(\n",
    "        [test_activity, test_resource, test_timestamp], \n",
    "        [test_targets_activity_cat, test_targets_resource_cat, test_targets_timestamp]\n",
    "    ),\n",
    "    epochs=20,\n",
    "    batch_size=500\n",
    ")"
   ]
  },
  {
   "cell_type": "code",
   "execution_count": 16,
   "metadata": {},
   "outputs": [
    {
     "name": "stdout",
     "output_type": "stream",
     "text": [
      "127/127 [==============================] - 1s 7ms/step - loss: 4.2628 - output_activity_loss: 0.4569 - output_resource_loss: 1.5968 - output_timestamp_loss: 2.2091 - output_activity_accuracy: 0.9195 - output_resource_accuracy: 0.5595 - output_timestamp_mse: 2.2091\n",
      "Validation Loss: 4.262796401977539, Validation Accuracy: 0.4568816125392914\n"
     ]
    }
   ],
   "source": [
    "# Evaluate the model on the validation set\n",
    "results = model.evaluate(\n",
    "    [test_activity, test_resource, test_timestamp],\n",
    "    [test_targets_activity_cat, test_targets_resource_cat, test_targets_timestamp],\n",
    "    batch_size=64\n",
    ")\n",
    "print(f\"Validation Loss: {results[0]}, Validation Accuracy: {results[1]}\")"
   ]
  },
  {
   "cell_type": "code",
   "execution_count": 17,
   "metadata": {},
   "outputs": [
    {
     "name": "stderr",
     "output_type": "stream",
     "text": [
      "/opt/anaconda3/lib/python3.9/site-packages/keras/src/engine/training.py:3000: UserWarning: You are saving your model as an HDF5 file via `model.save()`. This file format is considered legacy. We recommend using instead the native Keras format, e.g. `model.save('my_model.keras')`.\n",
      "  saving_api.save_model(\n"
     ]
    }
   ],
   "source": [
    "# Save the model to an H5 file\n",
    "model.save('binetv3_medium.h5')"
   ]
  },
  {
   "cell_type": "code",
   "execution_count": 16,
   "metadata": {},
   "outputs": [
    {
     "name": "stdout",
     "output_type": "stream",
     "text": [
      "Model: \"model\"\n",
      "__________________________________________________________________________________________________\n",
      " Layer (type)                Output Shape                 Param #   Connected to                  \n",
      "==================================================================================================\n",
      " activity_input (InputLayer  [(None, None)]               0         []                            \n",
      " )                                                                                                \n",
      "                                                                                                  \n",
      " resource_input (InputLayer  [(None, None)]               0         []                            \n",
      " )                                                                                                \n",
      "                                                                                                  \n",
      " activity_embedding (Embedd  (None, None, 50)             3200      ['activity_input[0][0]']      \n",
      " ing)                                                                                             \n",
      "                                                                                                  \n",
      " resource_embedding (Embedd  (None, None, 50)             6950      ['resource_input[0][0]']      \n",
      " ing)                                                                                             \n",
      "                                                                                                  \n",
      " timestamp_input (InputLaye  [(None, None, 1)]            0         []                            \n",
      " r)                                                                                               \n",
      "                                                                                                  \n",
      " activity_encoder (GRU)      (None, None, 22)             4884      ['activity_embedding[0][0]']  \n",
      "                                                                                                  \n",
      " resource_encoder (GRU)      (None, None, 22)             4884      ['resource_embedding[0][0]']  \n",
      "                                                                                                  \n",
      " timestamp_encoder (GRU)     (None, None, 22)             1650      ['timestamp_input[0][0]']     \n",
      "                                                                                                  \n",
      " bn_activity (BatchNormaliz  (None, None, 22)             88        ['activity_encoder[0][0]']    \n",
      " ation)                                                                                           \n",
      "                                                                                                  \n",
      " bn_resource (BatchNormaliz  (None, None, 22)             88        ['resource_encoder[0][0]']    \n",
      " ation)                                                                                           \n",
      "                                                                                                  \n",
      " bn_timestamp (BatchNormali  (None, None, 22)             88        ['timestamp_encoder[0][0]']   \n",
      " zation)                                                                                          \n",
      "                                                                                                  \n",
      " concatenate_encodings (Con  (None, None, 66)             0         ['bn_activity[0][0]',         \n",
      " catenate)                                                           'bn_resource[0][0]',         \n",
      "                                                                     'bn_timestamp[0][0]']        \n",
      "                                                                                                  \n",
      " decoder_gru (GRU)           (None, 22)                   5940      ['concatenate_encodings[0][0]'\n",
      "                                                                    ]                             \n",
      "                                                                                                  \n",
      " dropout (Dropout)           (None, 22)                   0         ['decoder_gru[0][0]']         \n",
      "                                                                                                  \n",
      " output_activity (Dense)     (None, 64)                   1472      ['dropout[0][0]']             \n",
      "                                                                                                  \n",
      " output_resource (Dense)     (None, 139)                  3197      ['dropout[0][0]']             \n",
      "                                                                                                  \n",
      " output_timestamp (Dense)    (None, 1)                    23        ['dropout[0][0]']             \n",
      "                                                                                                  \n",
      "==================================================================================================\n",
      "Total params: 32464 (126.81 KB)\n",
      "Trainable params: 32332 (126.30 KB)\n",
      "Non-trainable params: 132 (528.00 Byte)\n",
      "__________________________________________________________________________________________________\n"
     ]
    }
   ],
   "source": [
    "from tensorflow.keras.models import load_model\n",
    "\n",
    "# Load the model from the H5 file\n",
    "model = load_model('binetv3_medium.h5')\n",
    "\n",
    "# Check the model architecture\n",
    "model.summary()\n"
   ]
  },
  {
   "cell_type": "markdown",
   "metadata": {},
   "source": [
    "# Anomaly Score Computation"
   ]
  },
  {
   "cell_type": "markdown",
   "metadata": {},
   "source": [
    "- For each event attribute, BINet's softmax layer outputs a probability distribution over possible values\n",
    "- The anomaly score for a specific attribute value v is calculated by summing all the probabilities from the softmax output that are greater than the probability assigned to v"
   ]
  },
  {
   "cell_type": "code",
   "execution_count": 17,
   "metadata": {},
   "outputs": [
    {
     "name": "stdout",
     "output_type": "stream",
     "text": [
      "844/844 [==============================] - 6s 3ms/step\n"
     ]
    }
   ],
   "source": [
    "# Generate predictions for all inputs\n",
    "predictions = model.predict([windows_activity, windows_resource, windows_timestamp])\n",
    "\n",
    "\n",
    "# Assuming your model is set to predict resource, activity, and role categories\n",
    "# Extract predictions for categorical attributes (softmax probabilities)\n",
    "predictions_activity = predictions[0]  # Resource predictions\n",
    "predictions_resource = predictions[1]  # Activity predictions\n",
    "\n",
    "# If you had added 'amount' as a target to be predicted, you would extract its predictions like so:\n",
    "predictions_timestamp = predictions[2]  # Assuming 'amount' is a regression target and the model is adjusted accordingly"
   ]
  },
  {
   "cell_type": "code",
   "execution_count": 18,
   "metadata": {},
   "outputs": [],
   "source": [
    "import numpy as np\n",
    "\n",
    "def calculate_anomaly_scores(predictions, targets):\n",
    "    scores = []\n",
    "    # Loop through each example in the predictions\n",
    "    for i in range(predictions.shape[0]):\n",
    "        actual_prob = predictions[i, targets[i]]  # Extract the probability of the true class using target index\n",
    "        # Calculate anomaly score as sum of probabilities greater than the probability of the actual value\n",
    "        anomaly_score = np.sum(predictions[i][predictions[i] > actual_prob])\n",
    "        scores.append(anomaly_score)\n",
    "\n",
    "    return scores"
   ]
  },
  {
   "cell_type": "code",
   "execution_count": 19,
   "metadata": {},
   "outputs": [],
   "source": [
    "anomaly_scores_activity = calculate_anomaly_scores(predictions_activity, targets_activity.astype(int))\n",
    "anomaly_scores_resource = calculate_anomaly_scores(predictions_resource, targets_resource.astype(int))"
   ]
  },
  {
   "cell_type": "code",
   "execution_count": 20,
   "metadata": {},
   "outputs": [],
   "source": [
    "def compute_anomaly_scores_continuous(predictions, actuals):\n",
    "    # Calculate absolute differences\n",
    "    differences = np.abs(predictions - actuals)\n",
    "    \n",
    "    # Normalize to [0, 1] range\n",
    "    max_diff = np.max(differences)\n",
    "    normalized_scores = differences / max_diff if max_diff != 0 else differences\n",
    "    \n",
    "    return normalized_scores"
   ]
  },
  {
   "cell_type": "code",
   "execution_count": 21,
   "metadata": {},
   "outputs": [],
   "source": [
    "anomaly_scores_timestamp = compute_anomaly_scores_continuous(predictions_timestamp, targets_timestamp)\n",
    "anomaly_scores_timestamp = anomaly_scores_timestamp.flatten()\n",
    "anomaly_scores_timestamp = anomaly_scores_timestamp.tolist()"
   ]
  },
  {
   "cell_type": "markdown",
   "metadata": {},
   "source": [
    "## Insert missing scores for cases with less than 2 Events"
   ]
  },
  {
   "cell_type": "code",
   "execution_count": 22,
   "metadata": {},
   "outputs": [
    {
     "data": {
      "text/html": [
       "<div>\n",
       "<style scoped>\n",
       "    .dataframe tbody tr th:only-of-type {\n",
       "        vertical-align: middle;\n",
       "    }\n",
       "\n",
       "    .dataframe tbody tr th {\n",
       "        vertical-align: top;\n",
       "    }\n",
       "\n",
       "    .dataframe thead th {\n",
       "        text-align: right;\n",
       "    }\n",
       "</style>\n",
       "<table border=\"1\" class=\"dataframe\">\n",
       "  <thead>\n",
       "    <tr style=\"text-align: right;\">\n",
       "      <th></th>\n",
       "      <th>case</th>\n",
       "      <th>score_resource</th>\n",
       "      <th>score_activity</th>\n",
       "      <th>score_timestamp</th>\n",
       "    </tr>\n",
       "  </thead>\n",
       "  <tbody>\n",
       "    <tr>\n",
       "      <th>0</th>\n",
       "      <td>0</td>\n",
       "      <td>0.000000</td>\n",
       "      <td>0.000000</td>\n",
       "      <td>0.000466</td>\n",
       "    </tr>\n",
       "    <tr>\n",
       "      <th>1</th>\n",
       "      <td>0</td>\n",
       "      <td>0.000000</td>\n",
       "      <td>0.000000</td>\n",
       "      <td>0.000393</td>\n",
       "    </tr>\n",
       "    <tr>\n",
       "      <th>2</th>\n",
       "      <td>0</td>\n",
       "      <td>0.987664</td>\n",
       "      <td>0.994887</td>\n",
       "      <td>0.000094</td>\n",
       "    </tr>\n",
       "    <tr>\n",
       "      <th>3</th>\n",
       "      <td>0</td>\n",
       "      <td>0.000000</td>\n",
       "      <td>0.000000</td>\n",
       "      <td>0.000658</td>\n",
       "    </tr>\n",
       "    <tr>\n",
       "      <th>4</th>\n",
       "      <td>0</td>\n",
       "      <td>0.107203</td>\n",
       "      <td>0.000000</td>\n",
       "      <td>0.000137</td>\n",
       "    </tr>\n",
       "    <tr>\n",
       "      <th>...</th>\n",
       "      <td>...</td>\n",
       "      <td>...</td>\n",
       "      <td>...</td>\n",
       "      <td>...</td>\n",
       "    </tr>\n",
       "    <tr>\n",
       "      <th>26986</th>\n",
       "      <td>4999</td>\n",
       "      <td>0.377459</td>\n",
       "      <td>0.000000</td>\n",
       "      <td>0.000144</td>\n",
       "    </tr>\n",
       "    <tr>\n",
       "      <th>26987</th>\n",
       "      <td>4999</td>\n",
       "      <td>0.807914</td>\n",
       "      <td>0.000000</td>\n",
       "      <td>0.000348</td>\n",
       "    </tr>\n",
       "    <tr>\n",
       "      <th>26988</th>\n",
       "      <td>4999</td>\n",
       "      <td>0.604893</td>\n",
       "      <td>0.531039</td>\n",
       "      <td>0.001848</td>\n",
       "    </tr>\n",
       "    <tr>\n",
       "      <th>26989</th>\n",
       "      <td>4999</td>\n",
       "      <td>0.442017</td>\n",
       "      <td>0.000000</td>\n",
       "      <td>0.000788</td>\n",
       "    </tr>\n",
       "    <tr>\n",
       "      <th>26990</th>\n",
       "      <td>4999</td>\n",
       "      <td>0.000000</td>\n",
       "      <td>0.000000</td>\n",
       "      <td>0.000837</td>\n",
       "    </tr>\n",
       "  </tbody>\n",
       "</table>\n",
       "<p>26991 rows × 4 columns</p>\n",
       "</div>"
      ],
      "text/plain": [
       "       case  score_resource  score_activity  score_timestamp\n",
       "0         0        0.000000        0.000000         0.000466\n",
       "1         0        0.000000        0.000000         0.000393\n",
       "2         0        0.987664        0.994887         0.000094\n",
       "3         0        0.000000        0.000000         0.000658\n",
       "4         0        0.107203        0.000000         0.000137\n",
       "...     ...             ...             ...              ...\n",
       "26986  4999        0.377459        0.000000         0.000144\n",
       "26987  4999        0.807914        0.000000         0.000348\n",
       "26988  4999        0.604893        0.531039         0.001848\n",
       "26989  4999        0.442017        0.000000         0.000788\n",
       "26990  4999        0.000000        0.000000         0.000837\n",
       "\n",
       "[26991 rows x 4 columns]"
      ]
     },
     "execution_count": 22,
     "metadata": {},
     "output_type": "execute_result"
    }
   ],
   "source": [
    "import pandas as pd\n",
    "\n",
    "# Create a DataFrame from the case_indices_array corresponding to case_resource\n",
    "score = pd.DataFrame({'case': case_indices})\n",
    "score['score_resource'] = anomaly_scores_resource\n",
    "score['score_activity'] = anomaly_scores_activity\n",
    "score['score_timestamp'] = anomaly_scores_timestamp\n",
    "\n",
    "score['case'] = score['case'].astype(int)\n",
    "\n",
    "score"
   ]
  },
  {
   "cell_type": "code",
   "execution_count": 23,
   "metadata": {},
   "outputs": [
    {
     "name": "stdout",
     "output_type": "stream",
     "text": [
      "Missing values: [81, 203, 482, 682, 788, 805, 825, 1135, 1324, 1465, 1806, 2033, 2367, 2419, 2820, 3178, 3328, 3403, 3496, 3647, 4205, 4493, 4818, 4829, 4902, 4916]\n",
      "Does the 'case' column contain all values between 0 and 4999? False\n"
     ]
    }
   ],
   "source": [
    "import pandas as pd\n",
    "\n",
    "def contains_all_values(df, column, end):\n",
    "\n",
    "    # Generate the set of all values in the specified range\n",
    "    required_values = set(range(0, end + 1))\n",
    "    \n",
    "    # Get the unique values in the specified column\n",
    "    column_values = set(df[column].unique())\n",
    "    \n",
    "    # Find missing values\n",
    "    missing_values = required_values - column_values\n",
    "    \n",
    "    # Print missing values if any\n",
    "    if missing_values:\n",
    "        print(f\"Missing values: {sorted(missing_values)}\")\n",
    "    \n",
    "    # Check if all required values are in the column values\n",
    "    return required_values.issubset(column_values)\n",
    "\n",
    "end = 4999\n",
    "\n",
    "result = contains_all_values(score, 'case', end)\n",
    "print(f\"Does the 'case' column contain all values between 0 and {end}? {result}\")\n",
    "\n"
   ]
  },
  {
   "cell_type": "code",
   "execution_count": 24,
   "metadata": {},
   "outputs": [
    {
     "data": {
      "text/html": [
       "<div>\n",
       "<style scoped>\n",
       "    .dataframe tbody tr th:only-of-type {\n",
       "        vertical-align: middle;\n",
       "    }\n",
       "\n",
       "    .dataframe tbody tr th {\n",
       "        vertical-align: top;\n",
       "    }\n",
       "\n",
       "    .dataframe thead th {\n",
       "        text-align: right;\n",
       "    }\n",
       "</style>\n",
       "<table border=\"1\" class=\"dataframe\">\n",
       "  <thead>\n",
       "    <tr style=\"text-align: right;\">\n",
       "      <th></th>\n",
       "      <th>case</th>\n",
       "      <th>score_resource</th>\n",
       "      <th>score_activity</th>\n",
       "      <th>score_timestamp</th>\n",
       "    </tr>\n",
       "  </thead>\n",
       "  <tbody>\n",
       "    <tr>\n",
       "      <th>0</th>\n",
       "      <td>0</td>\n",
       "      <td>0.000000</td>\n",
       "      <td>0.000000</td>\n",
       "      <td>0.000466</td>\n",
       "    </tr>\n",
       "    <tr>\n",
       "      <th>1</th>\n",
       "      <td>0</td>\n",
       "      <td>0.000000</td>\n",
       "      <td>0.000000</td>\n",
       "      <td>0.000393</td>\n",
       "    </tr>\n",
       "    <tr>\n",
       "      <th>2</th>\n",
       "      <td>0</td>\n",
       "      <td>0.987664</td>\n",
       "      <td>0.994887</td>\n",
       "      <td>0.000094</td>\n",
       "    </tr>\n",
       "    <tr>\n",
       "      <th>3</th>\n",
       "      <td>0</td>\n",
       "      <td>0.000000</td>\n",
       "      <td>0.000000</td>\n",
       "      <td>0.000658</td>\n",
       "    </tr>\n",
       "    <tr>\n",
       "      <th>4</th>\n",
       "      <td>0</td>\n",
       "      <td>0.107203</td>\n",
       "      <td>0.000000</td>\n",
       "      <td>0.000137</td>\n",
       "    </tr>\n",
       "    <tr>\n",
       "      <th>...</th>\n",
       "      <td>...</td>\n",
       "      <td>...</td>\n",
       "      <td>...</td>\n",
       "      <td>...</td>\n",
       "    </tr>\n",
       "    <tr>\n",
       "      <th>27012</th>\n",
       "      <td>4999</td>\n",
       "      <td>0.604893</td>\n",
       "      <td>0.531039</td>\n",
       "      <td>0.001848</td>\n",
       "    </tr>\n",
       "    <tr>\n",
       "      <th>27013</th>\n",
       "      <td>4999</td>\n",
       "      <td>0.807914</td>\n",
       "      <td>0.000000</td>\n",
       "      <td>0.000348</td>\n",
       "    </tr>\n",
       "    <tr>\n",
       "      <th>27014</th>\n",
       "      <td>4999</td>\n",
       "      <td>0.000000</td>\n",
       "      <td>0.000000</td>\n",
       "      <td>0.000335</td>\n",
       "    </tr>\n",
       "    <tr>\n",
       "      <th>27015</th>\n",
       "      <td>4999</td>\n",
       "      <td>0.000000</td>\n",
       "      <td>0.000000</td>\n",
       "      <td>0.000543</td>\n",
       "    </tr>\n",
       "    <tr>\n",
       "      <th>27016</th>\n",
       "      <td>4999</td>\n",
       "      <td>0.377459</td>\n",
       "      <td>0.000000</td>\n",
       "      <td>0.000144</td>\n",
       "    </tr>\n",
       "  </tbody>\n",
       "</table>\n",
       "<p>27017 rows × 4 columns</p>\n",
       "</div>"
      ],
      "text/plain": [
       "       case  score_resource  score_activity  score_timestamp\n",
       "0         0        0.000000        0.000000         0.000466\n",
       "1         0        0.000000        0.000000         0.000393\n",
       "2         0        0.987664        0.994887         0.000094\n",
       "3         0        0.000000        0.000000         0.000658\n",
       "4         0        0.107203        0.000000         0.000137\n",
       "...     ...             ...             ...              ...\n",
       "27012  4999        0.604893        0.531039         0.001848\n",
       "27013  4999        0.807914        0.000000         0.000348\n",
       "27014  4999        0.000000        0.000000         0.000335\n",
       "27015  4999        0.000000        0.000000         0.000543\n",
       "27016  4999        0.377459        0.000000         0.000144\n",
       "\n",
       "[27017 rows x 4 columns]"
      ]
     },
     "execution_count": 24,
     "metadata": {},
     "output_type": "execute_result"
    }
   ],
   "source": [
    "# Generate the full range of values\n",
    "full_range = set(range(4999+1))\n",
    "\n",
    "# Get the existing 'case' values\n",
    "existing_cases = set(score['case'])\n",
    "\n",
    "# Identify missing values\n",
    "missing_cases = full_range - existing_cases\n",
    "\n",
    "# Create a DataFrame for missing values\n",
    "missing_df = pd.DataFrame({'case': list(missing_cases)})\n",
    "\n",
    "# Add other columns with value 1\n",
    "for col in score.columns:\n",
    "    if col != 'case':\n",
    "        missing_df[col] = 1\n",
    "\n",
    "# Concatenate the original DataFrame with the missing values DataFrame\n",
    "updated_score = pd.concat([score, missing_df])\n",
    "\n",
    "# Sort the DataFrame by 'case'\n",
    "updated_score = updated_score.sort_values(by='case').reset_index(drop=True)\n",
    "\n",
    "updated_score"
   ]
  },
  {
   "cell_type": "code",
   "execution_count": 25,
   "metadata": {},
   "outputs": [],
   "source": [
    "anomaly_scores_resource = updated_score['score_resource']\n",
    "anomaly_scores_activity = updated_score['score_activity']\n",
    "anomaly_scores_timestamp = updated_score['score_timestamp']"
   ]
  },
  {
   "cell_type": "markdown",
   "metadata": {},
   "source": [
    "### Threshold (lowest plateau)"
   ]
  },
  {
   "cell_type": "code",
   "execution_count": 26,
   "metadata": {},
   "outputs": [],
   "source": [
    "import numpy as np\n",
    "\n",
    "def calculate_anomaly_ratio(scores, threshold):\n",
    "    \"\"\"\n",
    "    Calculate the anomaly ratio for a given threshold.\n",
    "    \"\"\"\n",
    "    return np.mean(scores > threshold)\n",
    "\n",
    "def find_plateaus(scores, epsilon=1e-4, min_plateau_length=10):\n",
    "    \"\"\"\n",
    "    Identify the lowest plateau in the anomaly ratio function and calculate the mean-centered threshold.\n",
    "    \"\"\"\n",
    "    scores = np.array(scores)  # Convert scores to a NumPy array\n",
    "    sorted_scores = np.sort(scores)\n",
    "    \n",
    "    # Remove duplicate values\n",
    "    unique_thresholds, unique_indices = np.unique(sorted_scores, return_index=True)\n",
    "    anomaly_ratios = np.array([calculate_anomaly_ratio(scores, t) for t in unique_thresholds])\n",
    "    \n",
    "    # Calculate first and second derivatives\n",
    "    first_derivatives = np.diff(anomaly_ratios) / np.diff(unique_thresholds)\n",
    "    second_derivatives = np.diff(first_derivatives) / np.diff(unique_thresholds[:-1])\n",
    "    \n",
    "    # Identify plateaus where the first derivative is close to zero\n",
    "    plateau_indices = np.where(np.abs(first_derivatives) < epsilon)[0]\n",
    "    \n",
    "    # Group consecutive indices to identify continuous plateaus\n",
    "    grouped_plateaus = np.split(plateau_indices, np.where(np.diff(plateau_indices) != 1)[0] + 1)\n",
    "    \n",
    "    # Filter plateaus based on minimum length\n",
    "    long_plateaus = [g for g in grouped_plateaus if len(g) >= min_plateau_length]\n",
    "    \n",
    "    if long_plateaus:\n",
    "        # Take the first long plateau and find the mean threshold in this plateau\n",
    "        first_plateau = long_plateaus[0]\n",
    "        plateau_thresholds = unique_thresholds[first_plateau]\n",
    "        return np.mean(plateau_thresholds)\n",
    "    else:\n",
    "        # If no plateau is found, return a default value, e.g., the 90th percentile\n",
    "        percentile_90 = np.percentile(sorted_scores, 90)\n",
    "        if percentile_90 == 1.0:\n",
    "            return 0.4\n",
    "        else:\n",
    "            return percentile_90\n"
   ]
  },
  {
   "cell_type": "code",
   "execution_count": 27,
   "metadata": {},
   "outputs": [],
   "source": [
    "threshold_resource = find_plateaus(anomaly_scores_resource)\n",
    "threshold_activity = find_plateaus(anomaly_scores_activity)\n",
    "threshold_timestamp = find_plateaus(anomaly_scores_timestamp)"
   ]
  },
  {
   "cell_type": "markdown",
   "metadata": {},
   "source": [
    "### Detection"
   ]
  },
  {
   "cell_type": "code",
   "execution_count": 28,
   "metadata": {},
   "outputs": [],
   "source": [
    "def detect_anomalies(anomaly_scores, threshold):\n",
    "    labels = [1 if score > threshold else 0 for score in anomaly_scores]\n",
    "    return labels"
   ]
  },
  {
   "cell_type": "code",
   "execution_count": 29,
   "metadata": {},
   "outputs": [],
   "source": [
    "# Detect anomalies based on the calculated anomaly scores and thresholds\n",
    "labels_resource = detect_anomalies(anomaly_scores_resource, threshold_resource)\n",
    "labels_activity = detect_anomalies(anomaly_scores_activity, threshold_activity)\n",
    "labels_timestamp = detect_anomalies(anomaly_scores_timestamp, threshold_timestamp)"
   ]
  },
  {
   "cell_type": "markdown",
   "metadata": {},
   "source": [
    "# Mapping"
   ]
  },
  {
   "cell_type": "code",
   "execution_count": 30,
   "metadata": {},
   "outputs": [],
   "source": [
    "case_indices = updated_score['case']"
   ]
  },
  {
   "cell_type": "code",
   "execution_count": 31,
   "metadata": {},
   "outputs": [
    {
     "data": {
      "text/html": [
       "<div>\n",
       "<style scoped>\n",
       "    .dataframe tbody tr th:only-of-type {\n",
       "        vertical-align: middle;\n",
       "    }\n",
       "\n",
       "    .dataframe tbody tr th {\n",
       "        vertical-align: top;\n",
       "    }\n",
       "\n",
       "    .dataframe thead th {\n",
       "        text-align: right;\n",
       "    }\n",
       "</style>\n",
       "<table border=\"1\" class=\"dataframe\">\n",
       "  <thead>\n",
       "    <tr style=\"text-align: right;\">\n",
       "      <th></th>\n",
       "      <th>case</th>\n",
       "      <th>predicted_resource</th>\n",
       "      <th>predicted_activity</th>\n",
       "      <th>predicted_timestamp</th>\n",
       "    </tr>\n",
       "  </thead>\n",
       "  <tbody>\n",
       "    <tr>\n",
       "      <th>0</th>\n",
       "      <td>0</td>\n",
       "      <td>0</td>\n",
       "      <td>0</td>\n",
       "      <td>0</td>\n",
       "    </tr>\n",
       "    <tr>\n",
       "      <th>1</th>\n",
       "      <td>0</td>\n",
       "      <td>0</td>\n",
       "      <td>0</td>\n",
       "      <td>0</td>\n",
       "    </tr>\n",
       "    <tr>\n",
       "      <th>2</th>\n",
       "      <td>0</td>\n",
       "      <td>1</td>\n",
       "      <td>1</td>\n",
       "      <td>0</td>\n",
       "    </tr>\n",
       "    <tr>\n",
       "      <th>3</th>\n",
       "      <td>0</td>\n",
       "      <td>0</td>\n",
       "      <td>0</td>\n",
       "      <td>0</td>\n",
       "    </tr>\n",
       "    <tr>\n",
       "      <th>4</th>\n",
       "      <td>0</td>\n",
       "      <td>0</td>\n",
       "      <td>0</td>\n",
       "      <td>0</td>\n",
       "    </tr>\n",
       "    <tr>\n",
       "      <th>...</th>\n",
       "      <td>...</td>\n",
       "      <td>...</td>\n",
       "      <td>...</td>\n",
       "      <td>...</td>\n",
       "    </tr>\n",
       "    <tr>\n",
       "      <th>27012</th>\n",
       "      <td>4999</td>\n",
       "      <td>0</td>\n",
       "      <td>1</td>\n",
       "      <td>1</td>\n",
       "    </tr>\n",
       "    <tr>\n",
       "      <th>27013</th>\n",
       "      <td>4999</td>\n",
       "      <td>1</td>\n",
       "      <td>0</td>\n",
       "      <td>0</td>\n",
       "    </tr>\n",
       "    <tr>\n",
       "      <th>27014</th>\n",
       "      <td>4999</td>\n",
       "      <td>0</td>\n",
       "      <td>0</td>\n",
       "      <td>0</td>\n",
       "    </tr>\n",
       "    <tr>\n",
       "      <th>27015</th>\n",
       "      <td>4999</td>\n",
       "      <td>0</td>\n",
       "      <td>0</td>\n",
       "      <td>0</td>\n",
       "    </tr>\n",
       "    <tr>\n",
       "      <th>27016</th>\n",
       "      <td>4999</td>\n",
       "      <td>0</td>\n",
       "      <td>0</td>\n",
       "      <td>0</td>\n",
       "    </tr>\n",
       "  </tbody>\n",
       "</table>\n",
       "<p>27017 rows × 4 columns</p>\n",
       "</div>"
      ],
      "text/plain": [
       "       case  predicted_resource  predicted_activity  predicted_timestamp\n",
       "0         0                   0                   0                    0\n",
       "1         0                   0                   0                    0\n",
       "2         0                   1                   1                    0\n",
       "3         0                   0                   0                    0\n",
       "4         0                   0                   0                    0\n",
       "...     ...                 ...                 ...                  ...\n",
       "27012  4999                   0                   1                    1\n",
       "27013  4999                   1                   0                    0\n",
       "27014  4999                   0                   0                    0\n",
       "27015  4999                   0                   0                    0\n",
       "27016  4999                   0                   0                    0\n",
       "\n",
       "[27017 rows x 4 columns]"
      ]
     },
     "execution_count": 31,
     "metadata": {},
     "output_type": "execute_result"
    }
   ],
   "source": [
    "import pandas as pd\n",
    "\n",
    "# Create a DataFrame from the case_indices_array corresponding to case_resource\n",
    "mapping = pd.DataFrame({'case': case_indices})\n",
    "mapping['predicted_resource'] = labels_resource\n",
    "mapping['predicted_activity'] = labels_activity\n",
    "mapping['predicted_timestamp'] = labels_timestamp\n",
    "\n",
    "mapping"
   ]
  },
  {
   "cell_type": "code",
   "execution_count": 32,
   "metadata": {},
   "outputs": [
    {
     "data": {
      "text/plain": [
       "case\n",
       "0        True\n",
       "1        True\n",
       "2        True\n",
       "3        True\n",
       "4       False\n",
       "        ...  \n",
       "4995     True\n",
       "4996     True\n",
       "4997     True\n",
       "4998    False\n",
       "4999     True\n",
       "Length: 5000, dtype: bool"
      ]
     },
     "execution_count": 32,
     "metadata": {},
     "output_type": "execute_result"
    }
   ],
   "source": [
    "# Create a boolean DataFrame where each value is True if the value is 1\n",
    "contains_one = (mapping[['predicted_resource', 'predicted_activity', 'predicted_timestamp']] == 1)\n",
    "\n",
    "# Group by 'case' and check if there's at least one 'True' in any of the columns\n",
    "case_prediction = contains_one.groupby(mapping['case']).any().any(axis=1)\n",
    "case_prediction"
   ]
  },
  {
   "cell_type": "code",
   "execution_count": 45,
   "metadata": {},
   "outputs": [
    {
     "data": {
      "text/plain": [
       "case\n",
       "0        True\n",
       "1       False\n",
       "2       False\n",
       "3        True\n",
       "4       False\n",
       "        ...  \n",
       "4995     True\n",
       "4996    False\n",
       "4997     True\n",
       "4998    False\n",
       "4999     True\n",
       "Length: 5000, dtype: bool"
      ]
     },
     "execution_count": 45,
     "metadata": {},
     "output_type": "execute_result"
    }
   ],
   "source": [
    "# Create a boolean DataFrame where each value is True if the value is 1\n",
    "contains_one = (mapping[['predicted_activity']] == 1)\n",
    "\n",
    "# Group by 'case' and check if there's at least one 'True' in any of the columns\n",
    "case_prediction = contains_one.groupby(mapping['case']).any().any(axis=1)\n",
    "case_prediction"
   ]
  },
  {
   "cell_type": "markdown",
   "metadata": {},
   "source": [
    "# Ground Truth"
   ]
  },
  {
   "cell_type": "code",
   "execution_count": 46,
   "metadata": {},
   "outputs": [],
   "source": [
    "def generate_alignments_adjusted_tracecost_pkl(log, net, initial_marking, final_marking):\n",
    "    from pm4py.algo.conformance.alignments.petri_net import algorithm as alignments\n",
    "    from pm4py.algo.conformance.alignments.petri_net import variants\n",
    "    from pm4py.objects.petri_net.utils import align_utils\n",
    "    max_events=0\n",
    "    for trace in log:\n",
    "        counter=0\n",
    "        for event in trace:\n",
    "            counter+=1\n",
    "        if counter > max_events:\n",
    "            max_events=counter\n",
    "    parameters={}\n",
    "    parameters[alignments.Variants.VERSION_STATE_EQUATION_A_STAR.value.Parameters.PARAM_SYNC_COST_FUNCTION] = list(map(lambda i: .1*i, range(max_events*2)))\n",
    "    parameters[alignments.Variants.VERSION_STATE_EQUATION_A_STAR.value.Parameters.PARAM_TRACE_COST_FUNCTION]=list(map(lambda i: align_utils.STD_MODEL_LOG_MOVE_COST-.1*i, range(max_events*2)))\n",
    "    aligned_traces = alignments.apply_log(log, net, initial_marking, final_marking, variant=variants.state_equation_a_star, parameters=parameters)\n",
    "    return aligned_traces"
   ]
  },
  {
   "cell_type": "code",
   "execution_count": 47,
   "metadata": {},
   "outputs": [
    {
     "data": {
      "application/vnd.jupyter.widget-view+json": {
       "model_id": "d6d688ae340c45da801fda908dea2cb4",
       "version_major": 2,
       "version_minor": 0
      },
      "text/plain": [
       "aligning log, completed variants ::   0%|          | 0/689 [00:00<?, ?it/s]"
      ]
     },
     "metadata": {},
     "output_type": "display_data"
    }
   ],
   "source": [
    "import pm4py\n",
    "from pm4py.objects.log.importer.xes import importer as xes_importer\n",
    "from pm4py.objects.bpmn.importer import importer as bpmn_importer\n",
    "from pm4py.algo.conformance.alignments.petri_net import algorithm as alignments_petri\n",
    "\n",
    "# 2. Import the given BPMN model\n",
    "bpmn_graph = bpmn_importer.apply(\"../../data/model/medium.bpmn\")\n",
    "\n",
    "# 3. Convert the BPMN to a Petri net\n",
    "net, initial_marking, final_marking = pm4py.convert_to_petri_net(bpmn_graph)\n",
    "\n",
    "aligned_traces = generate_alignments_adjusted_tracecost_pkl(log, net, initial_marking, final_marking)"
   ]
  },
  {
   "cell_type": "code",
   "execution_count": 48,
   "metadata": {},
   "outputs": [],
   "source": [
    "def extract_conformance_status_by_fitness(aligned_traces):\n",
    "    conformance_status = []\n",
    "    for alignment in aligned_traces:\n",
    "        fitness = alignment['fitness']\n",
    "        # If the fitness is 1.0, the trace is conforming\n",
    "        if fitness == 1.0:\n",
    "            conformance_status.append(1)\n",
    "        else:\n",
    "            conformance_status.append(0)\n",
    "    return conformance_status\n",
    "\n",
    "# Get the conformance status list from the aligned traces\n",
    "conformance = extract_conformance_status_by_fitness(aligned_traces)"
   ]
  },
  {
   "cell_type": "code",
   "execution_count": 49,
   "metadata": {},
   "outputs": [
    {
     "data": {
      "text/html": [
       "<div>\n",
       "<style scoped>\n",
       "    .dataframe tbody tr th:only-of-type {\n",
       "        vertical-align: middle;\n",
       "    }\n",
       "\n",
       "    .dataframe tbody tr th {\n",
       "        vertical-align: top;\n",
       "    }\n",
       "\n",
       "    .dataframe thead th {\n",
       "        text-align: right;\n",
       "    }\n",
       "</style>\n",
       "<table border=\"1\" class=\"dataframe\">\n",
       "  <thead>\n",
       "    <tr style=\"text-align: right;\">\n",
       "      <th></th>\n",
       "      <th>conformity</th>\n",
       "      <th>predicted</th>\n",
       "    </tr>\n",
       "  </thead>\n",
       "  <tbody>\n",
       "    <tr>\n",
       "      <th>0</th>\n",
       "      <td>0</td>\n",
       "      <td>0</td>\n",
       "    </tr>\n",
       "    <tr>\n",
       "      <th>1</th>\n",
       "      <td>1</td>\n",
       "      <td>1</td>\n",
       "    </tr>\n",
       "    <tr>\n",
       "      <th>2</th>\n",
       "      <td>0</td>\n",
       "      <td>1</td>\n",
       "    </tr>\n",
       "    <tr>\n",
       "      <th>3</th>\n",
       "      <td>0</td>\n",
       "      <td>0</td>\n",
       "    </tr>\n",
       "    <tr>\n",
       "      <th>4</th>\n",
       "      <td>1</td>\n",
       "      <td>1</td>\n",
       "    </tr>\n",
       "    <tr>\n",
       "      <th>...</th>\n",
       "      <td>...</td>\n",
       "      <td>...</td>\n",
       "    </tr>\n",
       "    <tr>\n",
       "      <th>4995</th>\n",
       "      <td>0</td>\n",
       "      <td>0</td>\n",
       "    </tr>\n",
       "    <tr>\n",
       "      <th>4996</th>\n",
       "      <td>0</td>\n",
       "      <td>1</td>\n",
       "    </tr>\n",
       "    <tr>\n",
       "      <th>4997</th>\n",
       "      <td>0</td>\n",
       "      <td>0</td>\n",
       "    </tr>\n",
       "    <tr>\n",
       "      <th>4998</th>\n",
       "      <td>1</td>\n",
       "      <td>1</td>\n",
       "    </tr>\n",
       "    <tr>\n",
       "      <th>4999</th>\n",
       "      <td>1</td>\n",
       "      <td>0</td>\n",
       "    </tr>\n",
       "  </tbody>\n",
       "</table>\n",
       "<p>5000 rows × 2 columns</p>\n",
       "</div>"
      ],
      "text/plain": [
       "      conformity  predicted\n",
       "0              0          0\n",
       "1              1          1\n",
       "2              0          1\n",
       "3              0          0\n",
       "4              1          1\n",
       "...          ...        ...\n",
       "4995           0          0\n",
       "4996           0          1\n",
       "4997           0          0\n",
       "4998           1          1\n",
       "4999           1          0\n",
       "\n",
       "[5000 rows x 2 columns]"
      ]
     },
     "execution_count": 49,
     "metadata": {},
     "output_type": "execute_result"
    }
   ],
   "source": [
    "ground_truth = pd.DataFrame({'conformity': conformance})\n",
    "ground_truth['predicted'] = case_prediction\n",
    "\n",
    "# Convert False to 0 and True to 1\n",
    "ground_truth['predicted'] = [int(value) for value in ground_truth['predicted']]\n",
    "ground_truth['predicted'] = 1 - ground_truth['predicted']\n",
    "ground_truth"
   ]
  },
  {
   "cell_type": "markdown",
   "metadata": {},
   "source": [
    "# Evaluation"
   ]
  },
  {
   "cell_type": "code",
   "execution_count": 50,
   "metadata": {},
   "outputs": [],
   "source": [
    "# Calculating TP, TN, FP, FN\n",
    "TP = ((ground_truth['conformity'] == 1) & (ground_truth['predicted'] == 1)).sum()\n",
    "TN = ((ground_truth['conformity'] == 0) & (ground_truth['predicted'] == 0)).sum()\n",
    "FP = ((ground_truth['conformity'] == 0) & (ground_truth['predicted'] == 1)).sum()\n",
    "FN = ((ground_truth['conformity'] == 1) & (ground_truth['predicted'] == 0)).sum()"
   ]
  },
  {
   "cell_type": "code",
   "execution_count": 51,
   "metadata": {},
   "outputs": [
    {
     "name": "stdout",
     "output_type": "stream",
     "text": [
      "Accuracy: 0.874\n"
     ]
    }
   ],
   "source": [
    "# Calculate accuracy\n",
    "accuracy = (TP + TN) / (TP + TN + FP + FN)\n",
    "print(f\"Accuracy: {accuracy:.3f}\")"
   ]
  },
  {
   "cell_type": "code",
   "execution_count": 52,
   "metadata": {},
   "outputs": [
    {
     "name": "stdout",
     "output_type": "stream",
     "text": [
      "F1: 0.917\n"
     ]
    }
   ],
   "source": [
    "# Calculate f1\n",
    "\n",
    "precision = TP / (TP + FP)\n",
    "recall = TP / (TP + FN)\n",
    "\n",
    "f1 = 2 * ((precision * recall) / (precision + recall))\n",
    "print(f\"F1: {f1:.3f}\")"
   ]
  },
  {
   "cell_type": "markdown",
   "metadata": {},
   "source": [
    "### Dev (Non Conform Traces)"
   ]
  },
  {
   "cell_type": "code",
   "execution_count": 53,
   "metadata": {},
   "outputs": [
    {
     "name": "stdout",
     "output_type": "stream",
     "text": [
      "Precision: 0.704\n"
     ]
    }
   ],
   "source": [
    "# Calculate precision for Dev\n",
    "precision = TN / (TN + FN)\n",
    "print(f\"Precision: {precision:.3f}\")"
   ]
  },
  {
   "cell_type": "code",
   "execution_count": 54,
   "metadata": {},
   "outputs": [
    {
     "name": "stdout",
     "output_type": "stream",
     "text": [
      "Recall: 0.777\n"
     ]
    }
   ],
   "source": [
    "# Calculate recall for Dev\n",
    "recall = TN / (TN + FP)\n",
    "print(f\"Recall: {recall:.3f}\")"
   ]
  },
  {
   "cell_type": "markdown",
   "metadata": {},
   "source": [
    "### No Dev (Conform Traces)"
   ]
  },
  {
   "cell_type": "code",
   "execution_count": 55,
   "metadata": {},
   "outputs": [
    {
     "name": "stdout",
     "output_type": "stream",
     "text": [
      "Precision: 0.932\n"
     ]
    }
   ],
   "source": [
    "# Calculate precision for No Dev\n",
    "precision = TP / (TP + FP)\n",
    "print(f\"Precision: {precision:.3f}\")"
   ]
  },
  {
   "cell_type": "code",
   "execution_count": 56,
   "metadata": {},
   "outputs": [
    {
     "name": "stdout",
     "output_type": "stream",
     "text": [
      "Recall: 0.903\n"
     ]
    }
   ],
   "source": [
    "# Calculate recall for No Dev\n",
    "recall = TP / (TP + FN)\n",
    "print(f\"Recall: {recall:.3f}\")"
   ]
  },
  {
   "cell_type": "markdown",
   "metadata": {},
   "source": [
    "### AUC-ROC"
   ]
  },
  {
   "cell_type": "code",
   "execution_count": 57,
   "metadata": {},
   "outputs": [
    {
     "data": {
      "text/plain": [
       "0.8399681664111405"
      ]
     },
     "execution_count": 57,
     "metadata": {},
     "output_type": "execute_result"
    }
   ],
   "source": [
    "import pandas as pd\n",
    "from sklearn.metrics import roc_auc_score\n",
    "\n",
    "# Assuming ground_truth is your DataFrame\n",
    "# Make sure 'conformity' contains actual labels (0 or 1)\n",
    "# and 'predicted' contains predicted probabilities or scores\n",
    "auc_roc = roc_auc_score(ground_truth['conformity'], ground_truth['predicted'])\n",
    "auc_roc"
   ]
  },
  {
   "cell_type": "code",
   "execution_count": null,
   "metadata": {},
   "outputs": [],
   "source": []
  },
  {
   "cell_type": "code",
   "execution_count": null,
   "metadata": {},
   "outputs": [],
   "source": []
  }
 ],
 "metadata": {
  "kernelspec": {
   "display_name": "lstm",
   "language": "python",
   "name": "python3"
  },
  "language_info": {
   "codemirror_mode": {
    "name": "ipython",
    "version": 3
   },
   "file_extension": ".py",
   "mimetype": "text/x-python",
   "name": "python",
   "nbconvert_exporter": "python",
   "pygments_lexer": "ipython3",
   "version": "3.9.13"
  }
 },
 "nbformat": 4,
 "nbformat_minor": 2
}

{
 "cells": [
  {
   "cell_type": "markdown",
   "metadata": {},
   "source": [
    "# Import Event Log"
   ]
  },
  {
   "cell_type": "code",
   "execution_count": 3,
   "metadata": {},
   "outputs": [
    {
     "name": "stderr",
     "output_type": "stream",
     "text": [
      "/var/folders/s_/ch_w_j2d0sqf6dbdc0_224m40000gq/T/ipykernel_16807/765403017.py:11: DeprecatedWarning: format_dataframe is deprecated as of 2.3.0 and will be removed in 3.0.0. the format_dataframe function does not need application anymore.\n",
      "  dataframe_log = pm4py.format_dataframe(\n"
     ]
    }
   ],
   "source": [
    "import pandas as pd\n",
    "import numpy as np\n",
    "import pm4py\n",
    "from pm4py.objects.conversion.log import converter as log_converter\n",
    "\n",
    "if __name__ == \"__main__\":\n",
    "    # Read the CSV file\n",
    "    dataframe_log = pd.read_csv('../../data/logs/wide_log.csv', sep=',')\n",
    "\n",
    "    # Format the dataframe\n",
    "    dataframe_log = pm4py.format_dataframe(\n",
    "        dataframe_log,\n",
    "        case_id='case:concept:name',\n",
    "        activity_key='concept:name',\n",
    "        timestamp_key='time:timestamp'\n",
    "    )\n",
    "\n",
    "    # Convert the dataframe to event log\n",
    "    log = log_converter.apply(dataframe_log)"
   ]
  },
  {
   "cell_type": "markdown",
   "metadata": {},
   "source": [
    "# Drop unnessary columns"
   ]
  },
  {
   "cell_type": "code",
   "execution_count": 4,
   "metadata": {},
   "outputs": [],
   "source": [
    "dataframe_log = dataframe_log.drop(columns=['timestamp'])\n",
    "dataframe_log = dataframe_log.drop(columns=['case:concept:name'])\n",
    "dataframe_log = dataframe_log.drop(columns=['@@index'])"
   ]
  },
  {
   "cell_type": "code",
   "execution_count": 5,
   "metadata": {},
   "outputs": [],
   "source": [
    "from sklearn.preprocessing import StandardScaler\n",
    "\n",
    "# Convert to datetime format\n",
    "dataframe_log['time:timestamp'] = pd.to_datetime(dataframe_log['time:timestamp'])\n",
    "\n",
    "# Calculate elapsed time since the start of each case\n",
    "dataframe_log['start_time'] = dataframe_log.groupby('@@case_index')['time:timestamp'].transform('min')\n",
    "dataframe_log['elapsed_time'] = (dataframe_log['time:timestamp'] - dataframe_log['start_time']).dt.total_seconds()\n",
    "\n",
    "# Normalize the elapsed time in minutes\n",
    "scaler = StandardScaler()\n",
    "dataframe_log['standardized_elapsed_time'] = scaler.fit_transform(dataframe_log[['elapsed_time']])\n",
    "\n",
    "dataframe_log = dataframe_log.drop(columns=['start_time'])\n",
    "dataframe_log = dataframe_log.drop(columns=['elapsed_time'])\n",
    "dataframe_log = dataframe_log.drop(columns=['time:timestamp'])"
   ]
  },
  {
   "cell_type": "code",
   "execution_count": 6,
   "metadata": {},
   "outputs": [
    {
     "data": {
      "text/html": [
       "<div>\n",
       "<style scoped>\n",
       "    .dataframe tbody tr th:only-of-type {\n",
       "        vertical-align: middle;\n",
       "    }\n",
       "\n",
       "    .dataframe tbody tr th {\n",
       "        vertical-align: top;\n",
       "    }\n",
       "\n",
       "    .dataframe thead th {\n",
       "        text-align: right;\n",
       "    }\n",
       "</style>\n",
       "<table border=\"1\" class=\"dataframe\">\n",
       "  <thead>\n",
       "    <tr style=\"text-align: right;\">\n",
       "      <th></th>\n",
       "      <th>concept:name</th>\n",
       "      <th>case:label</th>\n",
       "      <th>org:resource</th>\n",
       "      <th>@@case_index</th>\n",
       "      <th>standardized_elapsed_time</th>\n",
       "    </tr>\n",
       "  </thead>\n",
       "  <tbody>\n",
       "    <tr>\n",
       "      <th>0</th>\n",
       "      <td>Activity N</td>\n",
       "      <td>Early</td>\n",
       "      <td>Roy</td>\n",
       "      <td>0</td>\n",
       "      <td>-0.020378</td>\n",
       "    </tr>\n",
       "    <tr>\n",
       "      <th>1</th>\n",
       "      <td>Activity A</td>\n",
       "      <td>Early</td>\n",
       "      <td>Della</td>\n",
       "      <td>0</td>\n",
       "      <td>-0.020211</td>\n",
       "    </tr>\n",
       "    <tr>\n",
       "      <th>2</th>\n",
       "      <td>Activity AE</td>\n",
       "      <td>Early</td>\n",
       "      <td>Hoyt</td>\n",
       "      <td>0</td>\n",
       "      <td>-0.020044</td>\n",
       "    </tr>\n",
       "    <tr>\n",
       "      <th>3</th>\n",
       "      <td>Activity AF</td>\n",
       "      <td>Early</td>\n",
       "      <td>Rossie</td>\n",
       "      <td>0</td>\n",
       "      <td>-0.019709</td>\n",
       "    </tr>\n",
       "    <tr>\n",
       "      <th>4</th>\n",
       "      <td>Activity O</td>\n",
       "      <td>Early</td>\n",
       "      <td>Junior</td>\n",
       "      <td>0</td>\n",
       "      <td>-0.019542</td>\n",
       "    </tr>\n",
       "    <tr>\n",
       "      <th>...</th>\n",
       "      <td>...</td>\n",
       "      <td>...</td>\n",
       "      <td>...</td>\n",
       "      <td>...</td>\n",
       "      <td>...</td>\n",
       "    </tr>\n",
       "    <tr>\n",
       "      <th>31905</th>\n",
       "      <td>Activity N</td>\n",
       "      <td>normal</td>\n",
       "      <td>Brant</td>\n",
       "      <td>4999</td>\n",
       "      <td>-0.020211</td>\n",
       "    </tr>\n",
       "    <tr>\n",
       "      <th>31906</th>\n",
       "      <td>Activity AG</td>\n",
       "      <td>normal</td>\n",
       "      <td>Sandra</td>\n",
       "      <td>4999</td>\n",
       "      <td>-0.019876</td>\n",
       "    </tr>\n",
       "    <tr>\n",
       "      <th>31907</th>\n",
       "      <td>Activity AH</td>\n",
       "      <td>normal</td>\n",
       "      <td>Jamika</td>\n",
       "      <td>4999</td>\n",
       "      <td>-0.019709</td>\n",
       "    </tr>\n",
       "    <tr>\n",
       "      <th>31908</th>\n",
       "      <td>Activity O</td>\n",
       "      <td>normal</td>\n",
       "      <td>Howard</td>\n",
       "      <td>4999</td>\n",
       "      <td>-0.019375</td>\n",
       "    </tr>\n",
       "    <tr>\n",
       "      <th>31909</th>\n",
       "      <td>Activity B</td>\n",
       "      <td>normal</td>\n",
       "      <td>Deloras</td>\n",
       "      <td>4999</td>\n",
       "      <td>-0.019208</td>\n",
       "    </tr>\n",
       "  </tbody>\n",
       "</table>\n",
       "<p>31910 rows × 5 columns</p>\n",
       "</div>"
      ],
      "text/plain": [
       "      concept:name case:label org:resource  @@case_index  \\\n",
       "0       Activity N      Early          Roy             0   \n",
       "1       Activity A      Early        Della             0   \n",
       "2      Activity AE      Early         Hoyt             0   \n",
       "3      Activity AF      Early       Rossie             0   \n",
       "4       Activity O      Early       Junior             0   \n",
       "...            ...        ...          ...           ...   \n",
       "31905   Activity N     normal        Brant          4999   \n",
       "31906  Activity AG     normal       Sandra          4999   \n",
       "31907  Activity AH     normal       Jamika          4999   \n",
       "31908   Activity O     normal       Howard          4999   \n",
       "31909   Activity B     normal      Deloras          4999   \n",
       "\n",
       "       standardized_elapsed_time  \n",
       "0                      -0.020378  \n",
       "1                      -0.020211  \n",
       "2                      -0.020044  \n",
       "3                      -0.019709  \n",
       "4                      -0.019542  \n",
       "...                          ...  \n",
       "31905                  -0.020211  \n",
       "31906                  -0.019876  \n",
       "31907                  -0.019709  \n",
       "31908                  -0.019375  \n",
       "31909                  -0.019208  \n",
       "\n",
       "[31910 rows x 5 columns]"
      ]
     },
     "execution_count": 6,
     "metadata": {},
     "output_type": "execute_result"
    }
   ],
   "source": [
    "dataframe_log"
   ]
  },
  {
   "cell_type": "markdown",
   "metadata": {},
   "source": [
    "# Preprocess"
   ]
  },
  {
   "cell_type": "code",
   "execution_count": 7,
   "metadata": {},
   "outputs": [],
   "source": [
    "codes, uniques = pd.factorize(dataframe_log['org:resource'])\n",
    "dataframe_log['org:resource'] = codes + 1"
   ]
  },
  {
   "cell_type": "code",
   "execution_count": 8,
   "metadata": {},
   "outputs": [],
   "source": [
    "codes, uniques = pd.factorize(dataframe_log['concept:name'])\n",
    "dataframe_log['concept:name'] = codes + 1"
   ]
  },
  {
   "cell_type": "code",
   "execution_count": 9,
   "metadata": {},
   "outputs": [
    {
     "data": {
      "text/html": [
       "<div>\n",
       "<style scoped>\n",
       "    .dataframe tbody tr th:only-of-type {\n",
       "        vertical-align: middle;\n",
       "    }\n",
       "\n",
       "    .dataframe tbody tr th {\n",
       "        vertical-align: top;\n",
       "    }\n",
       "\n",
       "    .dataframe thead th {\n",
       "        text-align: right;\n",
       "    }\n",
       "</style>\n",
       "<table border=\"1\" class=\"dataframe\">\n",
       "  <thead>\n",
       "    <tr style=\"text-align: right;\">\n",
       "      <th></th>\n",
       "      <th>concept:name</th>\n",
       "      <th>case:label</th>\n",
       "      <th>org:resource</th>\n",
       "      <th>@@case_index</th>\n",
       "      <th>standardized_elapsed_time</th>\n",
       "    </tr>\n",
       "  </thead>\n",
       "  <tbody>\n",
       "    <tr>\n",
       "      <th>0</th>\n",
       "      <td>1</td>\n",
       "      <td>Early</td>\n",
       "      <td>1</td>\n",
       "      <td>0</td>\n",
       "      <td>-0.020378</td>\n",
       "    </tr>\n",
       "    <tr>\n",
       "      <th>1</th>\n",
       "      <td>2</td>\n",
       "      <td>Early</td>\n",
       "      <td>2</td>\n",
       "      <td>0</td>\n",
       "      <td>-0.020211</td>\n",
       "    </tr>\n",
       "    <tr>\n",
       "      <th>2</th>\n",
       "      <td>3</td>\n",
       "      <td>Early</td>\n",
       "      <td>3</td>\n",
       "      <td>0</td>\n",
       "      <td>-0.020044</td>\n",
       "    </tr>\n",
       "    <tr>\n",
       "      <th>3</th>\n",
       "      <td>4</td>\n",
       "      <td>Early</td>\n",
       "      <td>4</td>\n",
       "      <td>0</td>\n",
       "      <td>-0.019709</td>\n",
       "    </tr>\n",
       "    <tr>\n",
       "      <th>4</th>\n",
       "      <td>5</td>\n",
       "      <td>Early</td>\n",
       "      <td>5</td>\n",
       "      <td>0</td>\n",
       "      <td>-0.019542</td>\n",
       "    </tr>\n",
       "    <tr>\n",
       "      <th>...</th>\n",
       "      <td>...</td>\n",
       "      <td>...</td>\n",
       "      <td>...</td>\n",
       "      <td>...</td>\n",
       "      <td>...</td>\n",
       "    </tr>\n",
       "    <tr>\n",
       "      <th>31905</th>\n",
       "      <td>1</td>\n",
       "      <td>normal</td>\n",
       "      <td>11</td>\n",
       "      <td>4999</td>\n",
       "      <td>-0.020211</td>\n",
       "    </tr>\n",
       "    <tr>\n",
       "      <th>31906</th>\n",
       "      <td>15</td>\n",
       "      <td>normal</td>\n",
       "      <td>25</td>\n",
       "      <td>4999</td>\n",
       "      <td>-0.019876</td>\n",
       "    </tr>\n",
       "    <tr>\n",
       "      <th>31907</th>\n",
       "      <td>16</td>\n",
       "      <td>normal</td>\n",
       "      <td>14</td>\n",
       "      <td>4999</td>\n",
       "      <td>-0.019709</td>\n",
       "    </tr>\n",
       "    <tr>\n",
       "      <th>31908</th>\n",
       "      <td>5</td>\n",
       "      <td>normal</td>\n",
       "      <td>26</td>\n",
       "      <td>4999</td>\n",
       "      <td>-0.019375</td>\n",
       "    </tr>\n",
       "    <tr>\n",
       "      <th>31909</th>\n",
       "      <td>6</td>\n",
       "      <td>normal</td>\n",
       "      <td>6</td>\n",
       "      <td>4999</td>\n",
       "      <td>-0.019208</td>\n",
       "    </tr>\n",
       "  </tbody>\n",
       "</table>\n",
       "<p>31910 rows × 5 columns</p>\n",
       "</div>"
      ],
      "text/plain": [
       "       concept:name case:label  org:resource  @@case_index  \\\n",
       "0                 1      Early             1             0   \n",
       "1                 2      Early             2             0   \n",
       "2                 3      Early             3             0   \n",
       "3                 4      Early             4             0   \n",
       "4                 5      Early             5             0   \n",
       "...             ...        ...           ...           ...   \n",
       "31905             1     normal            11          4999   \n",
       "31906            15     normal            25          4999   \n",
       "31907            16     normal            14          4999   \n",
       "31908             5     normal            26          4999   \n",
       "31909             6     normal             6          4999   \n",
       "\n",
       "       standardized_elapsed_time  \n",
       "0                      -0.020378  \n",
       "1                      -0.020211  \n",
       "2                      -0.020044  \n",
       "3                      -0.019709  \n",
       "4                      -0.019542  \n",
       "...                          ...  \n",
       "31905                  -0.020211  \n",
       "31906                  -0.019876  \n",
       "31907                  -0.019709  \n",
       "31908                  -0.019375  \n",
       "31909                  -0.019208  \n",
       "\n",
       "[31910 rows x 5 columns]"
      ]
     },
     "execution_count": 9,
     "metadata": {},
     "output_type": "execute_result"
    }
   ],
   "source": [
    "dataframe_log"
   ]
  },
  {
   "cell_type": "markdown",
   "metadata": {},
   "source": [
    "# Generate Prefixes"
   ]
  },
  {
   "cell_type": "code",
   "execution_count": 10,
   "metadata": {},
   "outputs": [],
   "source": [
    "df_resource = dataframe_log[['org:resource', '@@case_index']]\n",
    "df_activity = dataframe_log[['concept:name', '@@case_index']]\n",
    "df_timestamp = dataframe_log[['standardized_elapsed_time', '@@case_index']]"
   ]
  },
  {
   "cell_type": "code",
   "execution_count": 11,
   "metadata": {},
   "outputs": [
    {
     "name": "stderr",
     "output_type": "stream",
     "text": [
      "2024-07-02 17:46:06.518403: I tensorflow/core/platform/cpu_feature_guard.cc:182] This TensorFlow binary is optimized to use available CPU instructions in performance-critical operations.\n",
      "To enable the following instructions: AVX2 FMA, in other operations, rebuild TensorFlow with the appropriate compiler flags.\n"
     ]
    }
   ],
   "source": [
    "import numpy as np\n",
    "from tensorflow.keras.preprocessing.sequence import pad_sequences\n",
    "\n",
    "def generate_prefix_windows(df, case_id_column='@@case_index', max_len=None):\n",
    "    windows = []\n",
    "    targets = []\n",
    "    case_indices = []\n",
    "    \n",
    "    for case_id in df[case_id_column].unique():\n",
    "        case_data = df[df[case_id_column] == case_id].drop(columns=[case_id_column]).to_numpy()\n",
    "        \n",
    "        # Optional: Make sure to sort the case data if there's an implicit order (e.g., by timestamps)\n",
    "        # case_data = case_data.sort_values(by='timestamp_column').to_numpy()  # Uncomment and adjust if needed\n",
    "        \n",
    "        for i in range(1, len(case_data)):\n",
    "            window = case_data[:i]\n",
    "            target = case_data[i]\n",
    "            windows.append(window)\n",
    "            targets.append(target)\n",
    "            case_indices.append(case_id)\n",
    "    \n",
    "    if max_len is None:\n",
    "        max_len = max(len(window) for window in windows)\n",
    "    \n",
    "    # Pad sequences\n",
    "    windows_padded = pad_sequences(windows, maxlen=max_len, padding='post', dtype='float32')\n",
    "    \n",
    "    # Convert targets to numpy array\n",
    "    targets_array = np.array(targets, dtype='float32')\n",
    "    case_indices_array = np.array(case_indices)\n",
    "    \n",
    "    return windows_padded, targets_array, case_indices_array\n"
   ]
  },
  {
   "cell_type": "code",
   "execution_count": 12,
   "metadata": {},
   "outputs": [],
   "source": [
    "windows_resource, targets_resource, case_indices = generate_prefix_windows(df_resource)\n",
    "windows_activity, targets_activity, case_indices = generate_prefix_windows(df_activity)\n",
    "windows_timestamp, targets_timestamp, case_indices = generate_prefix_windows(df_timestamp)"
   ]
  },
  {
   "cell_type": "markdown",
   "metadata": {},
   "source": [
    "# GRU"
   ]
  },
  {
   "cell_type": "markdown",
   "metadata": {},
   "source": [
    "### Architecture"
   ]
  },
  {
   "cell_type": "markdown",
   "metadata": {},
   "source": [
    "- Separate Inputs for Each Attribute\n",
    "- Each attribute is passed through an embedding layer\n",
    "- Each attribute has its corresponding GRU encoder\n",
    "- Selective Concatenation: After encoding, the outputs of these GRU layers are concatenated. However, this concatenation is selective, meaning it is structured in a way that prepares the data for effective synthesis without leaking information from the future (next event attributes)\n",
    "- Decoder GRUs: Integrated Decoding: Post-concatenation, the combined attributes are processed through decoder GRU layers. These layers are tasked with integrating the data from different attributes and preparing it for final prediction. This step is where BINet v3 distinguishes itself by effectively using the interdependencies between different attributes to enhance prediction accuracy.\n",
    "- Output Layer: Softmax Output for Each Attribute: For each attribute of the next event, a softmax layer predicts a probability distribution over all possible values. This allows the model to output the most likely next event and its attributes based on the learned dependencies and the history encoded by the GRUs.\n",
    "- E: maximum case length\n",
    "- We train BINet with a GRU size of 2E (two times the maximum case length)\n",
    "- on mini batches of size 500 for 20 epochs"
   ]
  },
  {
   "cell_type": "code",
   "execution_count": 13,
   "metadata": {},
   "outputs": [],
   "source": [
    "# Group by the @@case_index column and count the rows in each group\n",
    "case_lengths = dataframe_log.groupby('@@case_index').size()\n",
    "\n",
    "# Find the maximum value among the case lengths\n",
    "E = case_lengths.max()"
   ]
  },
  {
   "cell_type": "code",
   "execution_count": 12,
   "metadata": {},
   "outputs": [
    {
     "name": "stdout",
     "output_type": "stream",
     "text": [
      "Model: \"model\"\n",
      "__________________________________________________________________________________________________\n",
      " Layer (type)                Output Shape                 Param #   Connected to                  \n",
      "==================================================================================================\n",
      " activity_input (InputLayer  [(None, None)]               0         []                            \n",
      " )                                                                                                \n",
      "                                                                                                  \n",
      " resource_input (InputLayer  [(None, None)]               0         []                            \n",
      " )                                                                                                \n",
      "                                                                                                  \n",
      " activity_embedding (Embedd  (None, None, 50)             2850      ['activity_input[0][0]']      \n",
      " ing)                                                                                             \n",
      "                                                                                                  \n",
      " resource_embedding (Embedd  (None, None, 50)             7000      ['resource_input[0][0]']      \n",
      " ing)                                                                                             \n",
      "                                                                                                  \n",
      " timestamp_input (InputLaye  [(None, None, 1)]            0         []                            \n",
      " r)                                                                                               \n",
      "                                                                                                  \n",
      " activity_encoder (GRU)      (None, None, 20)             4320      ['activity_embedding[0][0]']  \n",
      "                                                                                                  \n",
      " resource_encoder (GRU)      (None, None, 20)             4320      ['resource_embedding[0][0]']  \n",
      "                                                                                                  \n",
      " timestamp_encoder (GRU)     (None, None, 20)             1380      ['timestamp_input[0][0]']     \n",
      "                                                                                                  \n",
      " bn_activity (BatchNormaliz  (None, None, 20)             80        ['activity_encoder[0][0]']    \n",
      " ation)                                                                                           \n",
      "                                                                                                  \n",
      " bn_resource (BatchNormaliz  (None, None, 20)             80        ['resource_encoder[0][0]']    \n",
      " ation)                                                                                           \n",
      "                                                                                                  \n",
      " bn_timestamp (BatchNormali  (None, None, 20)             80        ['timestamp_encoder[0][0]']   \n",
      " zation)                                                                                          \n",
      "                                                                                                  \n",
      " concatenate_encodings (Con  (None, None, 60)             0         ['bn_activity[0][0]',         \n",
      " catenate)                                                           'bn_resource[0][0]',         \n",
      "                                                                     'bn_timestamp[0][0]']        \n",
      "                                                                                                  \n",
      " decoder_gru (GRU)           (None, 20)                   4920      ['concatenate_encodings[0][0]'\n",
      "                                                                    ]                             \n",
      "                                                                                                  \n",
      " dropout (Dropout)           (None, 20)                   0         ['decoder_gru[0][0]']         \n",
      "                                                                                                  \n",
      " output_activity (Dense)     (None, 57)                   1197      ['dropout[0][0]']             \n",
      "                                                                                                  \n",
      " output_resource (Dense)     (None, 140)                  2940      ['dropout[0][0]']             \n",
      "                                                                                                  \n",
      " output_timestamp (Dense)    (None, 1)                    21        ['dropout[0][0]']             \n",
      "                                                                                                  \n",
      "==================================================================================================\n",
      "Total params: 29188 (114.02 KB)\n",
      "Trainable params: 29068 (113.55 KB)\n",
      "Non-trainable params: 120 (480.00 Byte)\n",
      "__________________________________________________________________________________________________\n"
     ]
    }
   ],
   "source": [
    "import tensorflow as tf\n",
    "from tensorflow.keras.models import Model\n",
    "from tensorflow.keras.layers import Input, GRU, Embedding, Dense, Dropout, Concatenate, BatchNormalization\n",
    "\n",
    "def create_binetv3(num_activities, num_resources, embedding_dim, gru_units, dropout_rate):\n",
    "    # Input layers for each attribute\n",
    "    input_activity = Input(shape=(None,), name='activity_input')\n",
    "    input_resource = Input(shape=(None,), name='resource_input')\n",
    "    input_timestamp = Input(shape=(None, 1), name='timestamp_input')\n",
    "\n",
    "    # Embedding layers for categorical attributes\n",
    "    embedding_activity = Embedding(input_dim=num_activities + 1, output_dim=embedding_dim, mask_zero=True, name='activity_embedding')(input_activity)\n",
    "    embedding_resource = Embedding(input_dim=num_resources + 1, output_dim=embedding_dim, mask_zero=True, name='resource_embedding')(input_resource)\n",
    "\n",
    "    # Encoder GRUs with Batch Normalization for categorical attributes\n",
    "    encoded_activity = GRU(units=gru_units, return_sequences=True, name='activity_encoder')(embedding_activity)\n",
    "    bn_activity = BatchNormalization(name='bn_activity')(encoded_activity)\n",
    "    encoded_resource = GRU(units=gru_units, return_sequences=True, name='resource_encoder')(embedding_resource)\n",
    "    bn_resource = BatchNormalization(name='bn_resource')(encoded_resource)\n",
    "\n",
    "    # Encoder GRU with Batch Normalization for continuous attribute\n",
    "    encoded_timestamp = GRU(units=gru_units, return_sequences=True, name='timestamp_encoder')(input_timestamp)\n",
    "    bn_timestamp = BatchNormalization(name='bn_timestamp')(encoded_timestamp)\n",
    "\n",
    "    # Concatenation of encoded outputs\n",
    "    concatenated = Concatenate(name='concatenate_encodings')([bn_activity, bn_resource, bn_timestamp])\n",
    "\n",
    "    # Decoder GRU\n",
    "    decoder_output = GRU(units=gru_units, return_sequences=False, name='decoder_gru')(concatenated)\n",
    "    dropout_layer = Dropout(rate=dropout_rate, name='dropout')(decoder_output)\n",
    "\n",
    "    # Output layers for predicting the next event's attributes\n",
    "    output_activity = Dense(num_activities + 1, activation='softmax', name='output_activity')(dropout_layer)\n",
    "    output_resource = Dense(num_resources + 1, activation='softmax', name='output_resource')(dropout_layer)\n",
    "    output_timestamp = Dense(1, activation='linear', name='output_timestamp')(dropout_layer)\n",
    "\n",
    "    # Building the model\n",
    "    model = Model(inputs=[input_activity, input_resource, input_timestamp], outputs=[output_activity, output_resource, output_timestamp])\n",
    "    model.compile(\n",
    "        optimizer='adam', \n",
    "        loss={\n",
    "            'output_activity': 'categorical_crossentropy', \n",
    "            'output_resource': 'categorical_crossentropy',\n",
    "            'output_timestamp': 'mse'\n",
    "        },\n",
    "        metrics={\n",
    "            'output_activity': ['accuracy'], \n",
    "            'output_resource': ['accuracy'],\n",
    "            'output_timestamp': ['mse']\n",
    "        }\n",
    "    )\n",
    "\n",
    "    return model\n",
    "\n",
    "# Parameters\n",
    "gru_units = int(2 * E) \n",
    "num_activities = dataframe_log['concept:name'].max()\n",
    "num_resources = dataframe_log['org:resource'].max()\n",
    "embedding_dim = 50\n",
    "dropout_rate = 0.2\n",
    "model = create_binetv3(num_activities, num_resources, embedding_dim, gru_units, dropout_rate)\n",
    "model.summary()"
   ]
  },
  {
   "cell_type": "markdown",
   "metadata": {},
   "source": [
    "### Data Splitting"
   ]
  },
  {
   "cell_type": "code",
   "execution_count": 13,
   "metadata": {},
   "outputs": [],
   "source": [
    "from sklearn.model_selection import train_test_split\n",
    "\n",
    "train_resource, test_resource, train_targets_resource, test_targets_resource = train_test_split(\n",
    "    windows_resource, targets_resource, test_size=0.3, random_state=42)\n",
    "\n",
    "train_activity, test_activity, train_targets_activity, test_targets_activity = train_test_split(\n",
    "    windows_activity, targets_activity, test_size=0.3, random_state=42)\n",
    "\n",
    "train_timestamp, test_timestamp, train_targets_timestamp, test_targets_timestamp = train_test_split(\n",
    "    windows_timestamp, targets_timestamp, test_size=0.3, random_state=42)"
   ]
  },
  {
   "cell_type": "markdown",
   "metadata": {},
   "source": [
    "### Training"
   ]
  },
  {
   "cell_type": "code",
   "execution_count": 14,
   "metadata": {},
   "outputs": [],
   "source": [
    "from tensorflow.keras.utils import to_categorical\n",
    "\n",
    "train_targets_resource_cat = to_categorical(train_targets_resource, num_classes=num_resources + 1)\n",
    "test_targets_resource_cat = to_categorical(test_targets_resource, num_classes=num_resources + 1)\n",
    "\n",
    "train_targets_activity_cat = to_categorical(train_targets_activity, num_classes=num_activities + 1)\n",
    "test_targets_activity_cat = to_categorical(test_targets_activity, num_classes=num_activities + 1)"
   ]
  },
  {
   "cell_type": "code",
   "execution_count": 15,
   "metadata": {},
   "outputs": [
    {
     "name": "stdout",
     "output_type": "stream",
     "text": [
      "Epoch 1/20\n",
      "38/38 [==============================] - 20s 173ms/step - loss: 9.6104 - output_activity_loss: 3.4657 - output_resource_loss: 4.7444 - output_timestamp_loss: 1.4003 - output_activity_accuracy: 0.4161 - output_resource_accuracy: 0.0735 - output_timestamp_mse: 1.4003 - val_loss: 9.3638 - val_output_activity_loss: 3.7734 - val_output_resource_loss: 4.7859 - val_output_timestamp_loss: 0.8045 - val_output_activity_accuracy: 0.2337 - val_output_resource_accuracy: 0.0831 - val_output_timestamp_mse: 0.8045\n",
      "Epoch 2/20\n",
      "38/38 [==============================] - 2s 45ms/step - loss: 7.8569 - output_activity_loss: 2.3790 - output_resource_loss: 4.0265 - output_timestamp_loss: 1.4514 - output_activity_accuracy: 0.6092 - output_resource_accuracy: 0.1972 - output_timestamp_mse: 1.4514 - val_loss: 8.6409 - val_output_activity_loss: 3.3601 - val_output_resource_loss: 4.4722 - val_output_timestamp_loss: 0.8087 - val_output_activity_accuracy: 0.3530 - val_output_resource_accuracy: 0.0851 - val_output_timestamp_mse: 0.8087\n",
      "Epoch 3/20\n",
      "38/38 [==============================] - 2s 47ms/step - loss: 6.4596 - output_activity_loss: 1.6543 - output_resource_loss: 3.3478 - output_timestamp_loss: 1.4575 - output_activity_accuracy: 0.7407 - output_resource_accuracy: 0.2921 - output_timestamp_mse: 1.4575 - val_loss: 7.9480 - val_output_activity_loss: 2.9810 - val_output_resource_loss: 4.1640 - val_output_timestamp_loss: 0.8030 - val_output_activity_accuracy: 0.4908 - val_output_resource_accuracy: 0.1288 - val_output_timestamp_mse: 0.8030\n",
      "Epoch 4/20\n",
      "38/38 [==============================] - 2s 47ms/step - loss: 5.5528 - output_activity_loss: 1.2458 - output_resource_loss: 2.8893 - output_timestamp_loss: 1.4176 - output_activity_accuracy: 0.8075 - output_resource_accuracy: 0.3935 - output_timestamp_mse: 1.4176 - val_loss: 7.1308 - val_output_activity_loss: 2.5410 - val_output_resource_loss: 3.7931 - val_output_timestamp_loss: 0.7966 - val_output_activity_accuracy: 0.6182 - val_output_resource_accuracy: 0.2498 - val_output_timestamp_mse: 0.7966\n",
      "Epoch 5/20\n",
      "38/38 [==============================] - 2s 53ms/step - loss: 4.9836 - output_activity_loss: 1.0241 - output_resource_loss: 2.5715 - output_timestamp_loss: 1.3880 - output_activity_accuracy: 0.8302 - output_resource_accuracy: 0.4379 - output_timestamp_mse: 1.3880 - val_loss: 6.2701 - val_output_activity_loss: 2.0833 - val_output_resource_loss: 3.3982 - val_output_timestamp_loss: 0.7886 - val_output_activity_accuracy: 0.7609 - val_output_resource_accuracy: 0.3403 - val_output_timestamp_mse: 0.7886\n",
      "Epoch 6/20\n",
      "38/38 [==============================] - 2s 49ms/step - loss: 4.6318 - output_activity_loss: 0.8895 - output_resource_loss: 2.3582 - output_timestamp_loss: 1.3841 - output_activity_accuracy: 0.8500 - output_resource_accuracy: 0.4621 - output_timestamp_mse: 1.3841 - val_loss: 5.4873 - val_output_activity_loss: 1.6681 - val_output_resource_loss: 3.0299 - val_output_timestamp_loss: 0.7893 - val_output_activity_accuracy: 0.7917 - val_output_resource_accuracy: 0.3852 - val_output_timestamp_mse: 0.7893\n",
      "Epoch 7/20\n",
      "38/38 [==============================] - 2s 50ms/step - loss: 4.3964 - output_activity_loss: 0.7983 - output_resource_loss: 2.2068 - output_timestamp_loss: 1.3913 - output_activity_accuracy: 0.8627 - output_resource_accuracy: 0.4770 - output_timestamp_mse: 1.3913 - val_loss: 4.8396 - val_output_activity_loss: 1.3356 - val_output_resource_loss: 2.7206 - val_output_timestamp_loss: 0.7833 - val_output_activity_accuracy: 0.8055 - val_output_resource_accuracy: 0.4500 - val_output_timestamp_mse: 0.7833\n",
      "Epoch 8/20\n",
      "38/38 [==============================] - 2s 53ms/step - loss: 4.2019 - output_activity_loss: 0.7429 - output_resource_loss: 2.0901 - output_timestamp_loss: 1.3689 - output_activity_accuracy: 0.8705 - output_resource_accuracy: 0.4931 - output_timestamp_mse: 1.3689 - val_loss: 4.3018 - val_output_activity_loss: 1.0728 - val_output_resource_loss: 2.4488 - val_output_timestamp_loss: 0.7802 - val_output_activity_accuracy: 0.8381 - val_output_resource_accuracy: 0.4667 - val_output_timestamp_mse: 0.7802\n",
      "Epoch 9/20\n",
      "38/38 [==============================] - 2s 45ms/step - loss: 4.0703 - output_activity_loss: 0.6991 - output_resource_loss: 2.0104 - output_timestamp_loss: 1.3607 - output_activity_accuracy: 0.8758 - output_resource_accuracy: 0.5038 - output_timestamp_mse: 1.3607 - val_loss: 3.9082 - val_output_activity_loss: 0.8888 - val_output_resource_loss: 2.2446 - val_output_timestamp_loss: 0.7748 - val_output_activity_accuracy: 0.8711 - val_output_resource_accuracy: 0.4919 - val_output_timestamp_mse: 0.7748\n",
      "Epoch 10/20\n",
      "38/38 [==============================] - 2s 54ms/step - loss: 3.9506 - output_activity_loss: 0.6597 - output_resource_loss: 1.9390 - output_timestamp_loss: 1.3519 - output_activity_accuracy: 0.8827 - output_resource_accuracy: 0.5140 - output_timestamp_mse: 1.3519 - val_loss: 3.6051 - val_output_activity_loss: 0.7592 - val_output_resource_loss: 2.0743 - val_output_timestamp_loss: 0.7716 - val_output_activity_accuracy: 0.8772 - val_output_resource_accuracy: 0.4975 - val_output_timestamp_mse: 0.7716\n",
      "Epoch 11/20\n",
      "38/38 [==============================] - 2s 50ms/step - loss: 3.8526 - output_activity_loss: 0.6311 - output_resource_loss: 1.8795 - output_timestamp_loss: 1.3420 - output_activity_accuracy: 0.8860 - output_resource_accuracy: 0.5182 - output_timestamp_mse: 1.3420 - val_loss: 3.3514 - val_output_activity_loss: 0.6517 - val_output_resource_loss: 1.9314 - val_output_timestamp_loss: 0.7683 - val_output_activity_accuracy: 0.8853 - val_output_resource_accuracy: 0.5154 - val_output_timestamp_mse: 0.7683\n",
      "Epoch 12/20\n",
      "38/38 [==============================] - 2s 49ms/step - loss: 3.7774 - output_activity_loss: 0.6086 - output_resource_loss: 1.8316 - output_timestamp_loss: 1.3372 - output_activity_accuracy: 0.8884 - output_resource_accuracy: 0.5215 - output_timestamp_mse: 1.3372 - val_loss: 3.2075 - val_output_activity_loss: 0.6002 - val_output_resource_loss: 1.8405 - val_output_timestamp_loss: 0.7669 - val_output_activity_accuracy: 0.8870 - val_output_resource_accuracy: 0.5183 - val_output_timestamp_mse: 0.7669\n",
      "Epoch 13/20\n",
      "38/38 [==============================] - 2s 51ms/step - loss: 3.7103 - output_activity_loss: 0.5833 - output_resource_loss: 1.7898 - output_timestamp_loss: 1.3371 - output_activity_accuracy: 0.8914 - output_resource_accuracy: 0.5280 - output_timestamp_mse: 1.3371 - val_loss: 3.1064 - val_output_activity_loss: 0.5612 - val_output_resource_loss: 1.7784 - val_output_timestamp_loss: 0.7669 - val_output_activity_accuracy: 0.8888 - val_output_resource_accuracy: 0.5252 - val_output_timestamp_mse: 0.7669\n",
      "Epoch 14/20\n",
      "38/38 [==============================] - 2s 57ms/step - loss: 3.6568 - output_activity_loss: 0.5657 - output_resource_loss: 1.7570 - output_timestamp_loss: 1.3340 - output_activity_accuracy: 0.8938 - output_resource_accuracy: 0.5333 - output_timestamp_mse: 1.3340 - val_loss: 3.0094 - val_output_activity_loss: 0.5284 - val_output_resource_loss: 1.7197 - val_output_timestamp_loss: 0.7613 - val_output_activity_accuracy: 0.8929 - val_output_resource_accuracy: 0.5315 - val_output_timestamp_mse: 0.7613\n",
      "Epoch 15/20\n",
      "38/38 [==============================] - 2s 57ms/step - loss: 3.6051 - output_activity_loss: 0.5476 - output_resource_loss: 1.7310 - output_timestamp_loss: 1.3266 - output_activity_accuracy: 0.8982 - output_resource_accuracy: 0.5321 - output_timestamp_mse: 1.3266 - val_loss: 2.9549 - val_output_activity_loss: 0.5082 - val_output_resource_loss: 1.6856 - val_output_timestamp_loss: 0.7612 - val_output_activity_accuracy: 0.8940 - val_output_resource_accuracy: 0.5340 - val_output_timestamp_mse: 0.7612\n",
      "Epoch 16/20\n",
      "38/38 [==============================] - 2s 49ms/step - loss: 3.5734 - output_activity_loss: 0.5388 - output_resource_loss: 1.7015 - output_timestamp_loss: 1.3331 - output_activity_accuracy: 0.8984 - output_resource_accuracy: 0.5394 - output_timestamp_mse: 1.3331 - val_loss: 2.9126 - val_output_activity_loss: 0.4937 - val_output_resource_loss: 1.6580 - val_output_timestamp_loss: 0.7610 - val_output_activity_accuracy: 0.8945 - val_output_resource_accuracy: 0.5375 - val_output_timestamp_mse: 0.7610\n",
      "Epoch 17/20\n",
      "38/38 [==============================] - 2s 49ms/step - loss: 3.5156 - output_activity_loss: 0.5203 - output_resource_loss: 1.6774 - output_timestamp_loss: 1.3179 - output_activity_accuracy: 0.9005 - output_resource_accuracy: 0.5390 - output_timestamp_mse: 1.3179 - val_loss: 2.8719 - val_output_activity_loss: 0.4797 - val_output_resource_loss: 1.6318 - val_output_timestamp_loss: 0.7604 - val_output_activity_accuracy: 0.8986 - val_output_resource_accuracy: 0.5380 - val_output_timestamp_mse: 0.7604\n",
      "Epoch 18/20\n",
      "38/38 [==============================] - 2s 57ms/step - loss: 3.4933 - output_activity_loss: 0.5116 - output_resource_loss: 1.6579 - output_timestamp_loss: 1.3238 - output_activity_accuracy: 0.9010 - output_resource_accuracy: 0.5412 - output_timestamp_mse: 1.3238 - val_loss: 2.8387 - val_output_activity_loss: 0.4676 - val_output_resource_loss: 1.6099 - val_output_timestamp_loss: 0.7613 - val_output_activity_accuracy: 0.9010 - val_output_resource_accuracy: 0.5402 - val_output_timestamp_mse: 0.7613\n",
      "Epoch 19/20\n",
      "38/38 [==============================] - 2s 60ms/step - loss: 3.4658 - output_activity_loss: 0.5019 - output_resource_loss: 1.6458 - output_timestamp_loss: 1.3181 - output_activity_accuracy: 0.9032 - output_resource_accuracy: 0.5427 - output_timestamp_mse: 1.3181 - val_loss: 2.8127 - val_output_activity_loss: 0.4575 - val_output_resource_loss: 1.5937 - val_output_timestamp_loss: 0.7615 - val_output_activity_accuracy: 0.9051 - val_output_resource_accuracy: 0.5418 - val_output_timestamp_mse: 0.7615\n",
      "Epoch 20/20\n",
      "38/38 [==============================] - 3s 83ms/step - loss: 3.4369 - output_activity_loss: 0.4929 - output_resource_loss: 1.6259 - output_timestamp_loss: 1.3182 - output_activity_accuracy: 0.9050 - output_resource_accuracy: 0.5464 - output_timestamp_mse: 1.3182 - val_loss: 2.8115 - val_output_activity_loss: 0.4591 - val_output_resource_loss: 1.5896 - val_output_timestamp_loss: 0.7629 - val_output_activity_accuracy: 0.8984 - val_output_resource_accuracy: 0.5403 - val_output_timestamp_mse: 0.7629\n"
     ]
    }
   ],
   "source": [
    "history = model.fit(\n",
    "    [train_activity, train_resource, train_timestamp],\n",
    "    [train_targets_activity_cat, train_targets_resource_cat, train_targets_timestamp],\n",
    "    validation_data=(\n",
    "        [test_activity, test_resource, test_timestamp], \n",
    "        [test_targets_activity_cat, test_targets_resource_cat, test_targets_timestamp]\n",
    "    ),\n",
    "    epochs=20,\n",
    "    batch_size=500\n",
    ")"
   ]
  },
  {
   "cell_type": "code",
   "execution_count": 16,
   "metadata": {},
   "outputs": [
    {
     "name": "stdout",
     "output_type": "stream",
     "text": [
      "127/127 [==============================] - 1s 8ms/step - loss: 2.8115 - output_activity_loss: 0.4591 - output_resource_loss: 1.5896 - output_timestamp_loss: 0.7629 - output_activity_accuracy: 0.8984 - output_resource_accuracy: 0.5403 - output_timestamp_mse: 0.7629\n",
      "Validation Loss: 2.8114774227142334, Validation Accuracy: 0.45905548334121704\n"
     ]
    }
   ],
   "source": [
    "# Evaluate the model on the validation set\n",
    "results = model.evaluate(\n",
    "    [test_activity, test_resource, test_timestamp],\n",
    "    [test_targets_activity_cat, test_targets_resource_cat, test_targets_timestamp],\n",
    "    batch_size=64\n",
    ")\n",
    "print(f\"Validation Loss: {results[0]}, Validation Accuracy: {results[1]}\")"
   ]
  },
  {
   "cell_type": "code",
   "execution_count": 17,
   "metadata": {},
   "outputs": [
    {
     "name": "stderr",
     "output_type": "stream",
     "text": [
      "/opt/anaconda3/lib/python3.9/site-packages/keras/src/engine/training.py:3000: UserWarning: You are saving your model as an HDF5 file via `model.save()`. This file format is considered legacy. We recommend using instead the native Keras format, e.g. `model.save('my_model.keras')`.\n",
      "  saving_api.save_model(\n"
     ]
    }
   ],
   "source": [
    "# Save the model to an H5 file\n",
    "model.save('binetv3_wide.h5')"
   ]
  },
  {
   "cell_type": "code",
   "execution_count": 14,
   "metadata": {},
   "outputs": [
    {
     "name": "stdout",
     "output_type": "stream",
     "text": [
      "Model: \"model\"\n",
      "__________________________________________________________________________________________________\n",
      " Layer (type)                Output Shape                 Param #   Connected to                  \n",
      "==================================================================================================\n",
      " activity_input (InputLayer  [(None, None)]               0         []                            \n",
      " )                                                                                                \n",
      "                                                                                                  \n",
      " resource_input (InputLayer  [(None, None)]               0         []                            \n",
      " )                                                                                                \n",
      "                                                                                                  \n",
      " activity_embedding (Embedd  (None, None, 50)             2850      ['activity_input[0][0]']      \n",
      " ing)                                                                                             \n",
      "                                                                                                  \n",
      " resource_embedding (Embedd  (None, None, 50)             7000      ['resource_input[0][0]']      \n",
      " ing)                                                                                             \n",
      "                                                                                                  \n",
      " timestamp_input (InputLaye  [(None, None, 1)]            0         []                            \n",
      " r)                                                                                               \n",
      "                                                                                                  \n",
      " activity_encoder (GRU)      (None, None, 20)             4320      ['activity_embedding[0][0]']  \n",
      "                                                                                                  \n",
      " resource_encoder (GRU)      (None, None, 20)             4320      ['resource_embedding[0][0]']  \n",
      "                                                                                                  \n",
      " timestamp_encoder (GRU)     (None, None, 20)             1380      ['timestamp_input[0][0]']     \n",
      "                                                                                                  \n",
      " bn_activity (BatchNormaliz  (None, None, 20)             80        ['activity_encoder[0][0]']    \n",
      " ation)                                                                                           \n",
      "                                                                                                  \n",
      " bn_resource (BatchNormaliz  (None, None, 20)             80        ['resource_encoder[0][0]']    \n",
      " ation)                                                                                           \n",
      "                                                                                                  \n",
      " bn_timestamp (BatchNormali  (None, None, 20)             80        ['timestamp_encoder[0][0]']   \n",
      " zation)                                                                                          \n",
      "                                                                                                  \n",
      " concatenate_encodings (Con  (None, None, 60)             0         ['bn_activity[0][0]',         \n",
      " catenate)                                                           'bn_resource[0][0]',         \n",
      "                                                                     'bn_timestamp[0][0]']        \n",
      "                                                                                                  \n",
      " decoder_gru (GRU)           (None, 20)                   4920      ['concatenate_encodings[0][0]'\n",
      "                                                                    ]                             \n",
      "                                                                                                  \n",
      " dropout (Dropout)           (None, 20)                   0         ['decoder_gru[0][0]']         \n",
      "                                                                                                  \n",
      " output_activity (Dense)     (None, 57)                   1197      ['dropout[0][0]']             \n",
      "                                                                                                  \n",
      " output_resource (Dense)     (None, 140)                  2940      ['dropout[0][0]']             \n",
      "                                                                                                  \n",
      " output_timestamp (Dense)    (None, 1)                    21        ['dropout[0][0]']             \n",
      "                                                                                                  \n",
      "==================================================================================================\n",
      "Total params: 29188 (114.02 KB)\n",
      "Trainable params: 29068 (113.55 KB)\n",
      "Non-trainable params: 120 (480.00 Byte)\n",
      "__________________________________________________________________________________________________\n"
     ]
    }
   ],
   "source": [
    "from tensorflow.keras.models import load_model\n",
    "\n",
    "# Load the model from the H5 file\n",
    "model = load_model('binetv3_wide.h5')\n",
    "\n",
    "# Check the model architecture\n",
    "model.summary()\n"
   ]
  },
  {
   "cell_type": "markdown",
   "metadata": {},
   "source": [
    "# Anomaly Score Computation"
   ]
  },
  {
   "cell_type": "markdown",
   "metadata": {},
   "source": [
    "- For each event attribute, BINet's softmax layer outputs a probability distribution over possible values\n",
    "- The anomaly score for a specific attribute value v is calculated by summing all the probabilities from the softmax output that are greater than the probability assigned to v"
   ]
  },
  {
   "cell_type": "code",
   "execution_count": 15,
   "metadata": {},
   "outputs": [
    {
     "name": "stdout",
     "output_type": "stream",
     "text": [
      "841/841 [==============================] - 6s 3ms/step\n"
     ]
    }
   ],
   "source": [
    "# Generate predictions for all inputs\n",
    "predictions = model.predict([windows_activity, windows_resource, windows_timestamp])\n",
    "\n",
    "\n",
    "# Assuming your model is set to predict resource, activity, and role categories\n",
    "# Extract predictions for categorical attributes (softmax probabilities)\n",
    "predictions_activity = predictions[0]  # Resource predictions\n",
    "predictions_resource = predictions[1]  # Activity predictions\n",
    "\n",
    "# If you had added 'amount' as a target to be predicted, you would extract its predictions like so:\n",
    "predictions_timestamp = predictions[2]  # Assuming 'amount' is a regression target and the model is adjusted accordingly"
   ]
  },
  {
   "cell_type": "code",
   "execution_count": 16,
   "metadata": {},
   "outputs": [],
   "source": [
    "import numpy as np\n",
    "\n",
    "def calculate_anomaly_scores(predictions, targets):\n",
    "    scores = []\n",
    "    # Loop through each example in the predictions\n",
    "    for i in range(predictions.shape[0]):\n",
    "        actual_prob = predictions[i, targets[i]]  # Extract the probability of the true class using target index\n",
    "        # Calculate anomaly score as sum of probabilities greater than the probability of the actual value\n",
    "        anomaly_score = np.sum(predictions[i][predictions[i] > actual_prob])\n",
    "        scores.append(anomaly_score)\n",
    "\n",
    "    return scores"
   ]
  },
  {
   "cell_type": "code",
   "execution_count": 17,
   "metadata": {},
   "outputs": [],
   "source": [
    "anomaly_scores_activity = calculate_anomaly_scores(predictions_activity, targets_activity.astype(int))\n",
    "anomaly_scores_resource = calculate_anomaly_scores(predictions_resource, targets_resource.astype(int))"
   ]
  },
  {
   "cell_type": "code",
   "execution_count": 18,
   "metadata": {},
   "outputs": [],
   "source": [
    "def compute_anomaly_scores_continuous(predictions, actuals):\n",
    "    # Calculate absolute differences\n",
    "    differences = np.abs(predictions - actuals)\n",
    "    \n",
    "    # Normalize to [0, 1] range\n",
    "    max_diff = np.max(differences)\n",
    "    normalized_scores = differences / max_diff if max_diff != 0 else differences\n",
    "    \n",
    "    return normalized_scores"
   ]
  },
  {
   "cell_type": "code",
   "execution_count": 19,
   "metadata": {},
   "outputs": [],
   "source": [
    "anomaly_scores_timestamp = compute_anomaly_scores_continuous(predictions_timestamp, targets_timestamp)\n",
    "anomaly_scores_timestamp = anomaly_scores_timestamp.flatten()\n",
    "anomaly_scores_timestamp = anomaly_scores_timestamp.tolist()"
   ]
  },
  {
   "cell_type": "markdown",
   "metadata": {},
   "source": [
    "## Insert missing scores for cases with less than 2 Events"
   ]
  },
  {
   "cell_type": "code",
   "execution_count": 20,
   "metadata": {},
   "outputs": [
    {
     "data": {
      "text/html": [
       "<div>\n",
       "<style scoped>\n",
       "    .dataframe tbody tr th:only-of-type {\n",
       "        vertical-align: middle;\n",
       "    }\n",
       "\n",
       "    .dataframe tbody tr th {\n",
       "        vertical-align: top;\n",
       "    }\n",
       "\n",
       "    .dataframe thead th {\n",
       "        text-align: right;\n",
       "    }\n",
       "</style>\n",
       "<table border=\"1\" class=\"dataframe\">\n",
       "  <thead>\n",
       "    <tr style=\"text-align: right;\">\n",
       "      <th></th>\n",
       "      <th>case</th>\n",
       "      <th>score_resource</th>\n",
       "      <th>score_activity</th>\n",
       "      <th>score_timestamp</th>\n",
       "    </tr>\n",
       "  </thead>\n",
       "  <tbody>\n",
       "    <tr>\n",
       "      <th>0</th>\n",
       "      <td>0</td>\n",
       "      <td>0.844953</td>\n",
       "      <td>0.907402</td>\n",
       "      <td>0.001344</td>\n",
       "    </tr>\n",
       "    <tr>\n",
       "      <th>1</th>\n",
       "      <td>0</td>\n",
       "      <td>0.000000</td>\n",
       "      <td>0.000000</td>\n",
       "      <td>0.000968</td>\n",
       "    </tr>\n",
       "    <tr>\n",
       "      <th>2</th>\n",
       "      <td>0</td>\n",
       "      <td>0.000000</td>\n",
       "      <td>0.000000</td>\n",
       "      <td>0.000717</td>\n",
       "    </tr>\n",
       "    <tr>\n",
       "      <th>3</th>\n",
       "      <td>0</td>\n",
       "      <td>0.568593</td>\n",
       "      <td>0.000000</td>\n",
       "      <td>0.000228</td>\n",
       "    </tr>\n",
       "    <tr>\n",
       "      <th>4</th>\n",
       "      <td>0</td>\n",
       "      <td>0.343502</td>\n",
       "      <td>0.000000</td>\n",
       "      <td>0.001310</td>\n",
       "    </tr>\n",
       "    <tr>\n",
       "      <th>...</th>\n",
       "      <td>...</td>\n",
       "      <td>...</td>\n",
       "      <td>...</td>\n",
       "      <td>...</td>\n",
       "    </tr>\n",
       "    <tr>\n",
       "      <th>26905</th>\n",
       "      <td>4999</td>\n",
       "      <td>0.000000</td>\n",
       "      <td>0.000000</td>\n",
       "      <td>0.000631</td>\n",
       "    </tr>\n",
       "    <tr>\n",
       "      <th>26906</th>\n",
       "      <td>4999</td>\n",
       "      <td>0.000000</td>\n",
       "      <td>0.582911</td>\n",
       "      <td>0.000193</td>\n",
       "    </tr>\n",
       "    <tr>\n",
       "      <th>26907</th>\n",
       "      <td>4999</td>\n",
       "      <td>0.000000</td>\n",
       "      <td>0.000000</td>\n",
       "      <td>0.001276</td>\n",
       "    </tr>\n",
       "    <tr>\n",
       "      <th>26908</th>\n",
       "      <td>4999</td>\n",
       "      <td>0.000000</td>\n",
       "      <td>0.000000</td>\n",
       "      <td>0.000351</td>\n",
       "    </tr>\n",
       "    <tr>\n",
       "      <th>26909</th>\n",
       "      <td>4999</td>\n",
       "      <td>0.444782</td>\n",
       "      <td>0.000000</td>\n",
       "      <td>0.000535</td>\n",
       "    </tr>\n",
       "  </tbody>\n",
       "</table>\n",
       "<p>26910 rows × 4 columns</p>\n",
       "</div>"
      ],
      "text/plain": [
       "       case  score_resource  score_activity  score_timestamp\n",
       "0         0        0.844953        0.907402         0.001344\n",
       "1         0        0.000000        0.000000         0.000968\n",
       "2         0        0.000000        0.000000         0.000717\n",
       "3         0        0.568593        0.000000         0.000228\n",
       "4         0        0.343502        0.000000         0.001310\n",
       "...     ...             ...             ...              ...\n",
       "26905  4999        0.000000        0.000000         0.000631\n",
       "26906  4999        0.000000        0.582911         0.000193\n",
       "26907  4999        0.000000        0.000000         0.001276\n",
       "26908  4999        0.000000        0.000000         0.000351\n",
       "26909  4999        0.444782        0.000000         0.000535\n",
       "\n",
       "[26910 rows x 4 columns]"
      ]
     },
     "execution_count": 20,
     "metadata": {},
     "output_type": "execute_result"
    }
   ],
   "source": [
    "import pandas as pd\n",
    "\n",
    "# Create a DataFrame from the case_indices_array corresponding to case_resource\n",
    "score = pd.DataFrame({'case': case_indices})\n",
    "score['score_resource'] = anomaly_scores_resource\n",
    "score['score_activity'] = anomaly_scores_activity\n",
    "score['score_timestamp'] = anomaly_scores_timestamp\n",
    "\n",
    "score['case'] = score['case'].astype(int)\n",
    "\n",
    "score"
   ]
  },
  {
   "cell_type": "code",
   "execution_count": 21,
   "metadata": {},
   "outputs": [
    {
     "name": "stdout",
     "output_type": "stream",
     "text": [
      "Does the 'case' column contain all values between 0 and 4999? True\n"
     ]
    }
   ],
   "source": [
    "import pandas as pd\n",
    "\n",
    "def contains_all_values(df, column, end):\n",
    "\n",
    "    # Generate the set of all values in the specified range\n",
    "    required_values = set(range(0, end + 1))\n",
    "    \n",
    "    # Get the unique values in the specified column\n",
    "    column_values = set(df[column].unique())\n",
    "    \n",
    "    # Find missing values\n",
    "    missing_values = required_values - column_values\n",
    "    \n",
    "    # Print missing values if any\n",
    "    if missing_values:\n",
    "        print(f\"Missing values: {sorted(missing_values)}\")\n",
    "    \n",
    "    # Check if all required values are in the column values\n",
    "    return required_values.issubset(column_values)\n",
    "\n",
    "end = 4999\n",
    "\n",
    "result = contains_all_values(score, 'case', end)\n",
    "print(f\"Does the 'case' column contain all values between 0 and {end}? {result}\")\n",
    "\n"
   ]
  },
  {
   "cell_type": "markdown",
   "metadata": {},
   "source": [
    "### Threshold (lowest plateau)"
   ]
  },
  {
   "cell_type": "code",
   "execution_count": 22,
   "metadata": {},
   "outputs": [],
   "source": [
    "import numpy as np\n",
    "\n",
    "def calculate_anomaly_ratio(scores, threshold):\n",
    "    \"\"\"\n",
    "    Calculate the anomaly ratio for a given threshold.\n",
    "    \"\"\"\n",
    "    return np.mean(scores > threshold)\n",
    "\n",
    "def find_plateaus(scores, epsilon=1e-4, min_plateau_length=10):\n",
    "    \"\"\"\n",
    "    Identify the lowest plateau in the anomaly ratio function and calculate the mean-centered threshold.\n",
    "    \"\"\"\n",
    "    scores = np.array(scores)  # Convert scores to a NumPy array\n",
    "    sorted_scores = np.sort(scores)\n",
    "    \n",
    "    # Remove duplicate values\n",
    "    unique_thresholds, unique_indices = np.unique(sorted_scores, return_index=True)\n",
    "    anomaly_ratios = np.array([calculate_anomaly_ratio(scores, t) for t in unique_thresholds])\n",
    "    \n",
    "    # Calculate first and second derivatives\n",
    "    first_derivatives = np.diff(anomaly_ratios) / np.diff(unique_thresholds)\n",
    "    second_derivatives = np.diff(first_derivatives) / np.diff(unique_thresholds[:-1])\n",
    "    \n",
    "    # Identify plateaus where the first derivative is close to zero\n",
    "    plateau_indices = np.where(np.abs(first_derivatives) < epsilon)[0]\n",
    "    \n",
    "    # Group consecutive indices to identify continuous plateaus\n",
    "    grouped_plateaus = np.split(plateau_indices, np.where(np.diff(plateau_indices) != 1)[0] + 1)\n",
    "    \n",
    "    # Filter plateaus based on minimum length\n",
    "    long_plateaus = [g for g in grouped_plateaus if len(g) >= min_plateau_length]\n",
    "    \n",
    "    if long_plateaus:\n",
    "        # Take the first long plateau and find the mean threshold in this plateau\n",
    "        first_plateau = long_plateaus[0]\n",
    "        plateau_thresholds = unique_thresholds[first_plateau]\n",
    "        return np.mean(plateau_thresholds)\n",
    "    else:\n",
    "        # If no plateau is found, return a default value, e.g., the 90th percentile\n",
    "        percentile_90 = np.percentile(sorted_scores, 90)\n",
    "        if percentile_90 == 1.0:\n",
    "            return 0.4\n",
    "        else:\n",
    "            return percentile_90\n"
   ]
  },
  {
   "cell_type": "code",
   "execution_count": 23,
   "metadata": {},
   "outputs": [],
   "source": [
    "threshold_resource = find_plateaus(anomaly_scores_resource)\n",
    "threshold_activity = find_plateaus(anomaly_scores_activity)\n",
    "threshold_timestamp = find_plateaus(anomaly_scores_timestamp)"
   ]
  },
  {
   "cell_type": "markdown",
   "metadata": {},
   "source": [
    "### Detection"
   ]
  },
  {
   "cell_type": "code",
   "execution_count": 24,
   "metadata": {},
   "outputs": [],
   "source": [
    "def detect_anomalies(anomaly_scores, threshold):\n",
    "    labels = [1 if score > threshold else 0 for score in anomaly_scores]\n",
    "    return labels"
   ]
  },
  {
   "cell_type": "code",
   "execution_count": 25,
   "metadata": {},
   "outputs": [],
   "source": [
    "# Detect anomalies based on the calculated anomaly scores and thresholds\n",
    "labels_resource = detect_anomalies(anomaly_scores_resource, threshold_resource)\n",
    "labels_activity = detect_anomalies(anomaly_scores_activity, threshold_activity)\n",
    "labels_timestamp = detect_anomalies(anomaly_scores_timestamp, threshold_timestamp)"
   ]
  },
  {
   "cell_type": "markdown",
   "metadata": {},
   "source": [
    "# Mapping"
   ]
  },
  {
   "cell_type": "code",
   "execution_count": 26,
   "metadata": {},
   "outputs": [
    {
     "data": {
      "text/html": [
       "<div>\n",
       "<style scoped>\n",
       "    .dataframe tbody tr th:only-of-type {\n",
       "        vertical-align: middle;\n",
       "    }\n",
       "\n",
       "    .dataframe tbody tr th {\n",
       "        vertical-align: top;\n",
       "    }\n",
       "\n",
       "    .dataframe thead th {\n",
       "        text-align: right;\n",
       "    }\n",
       "</style>\n",
       "<table border=\"1\" class=\"dataframe\">\n",
       "  <thead>\n",
       "    <tr style=\"text-align: right;\">\n",
       "      <th></th>\n",
       "      <th>case</th>\n",
       "      <th>predicted_resource</th>\n",
       "      <th>predicted_activity</th>\n",
       "      <th>predicted_timestamp</th>\n",
       "    </tr>\n",
       "  </thead>\n",
       "  <tbody>\n",
       "    <tr>\n",
       "      <th>0</th>\n",
       "      <td>0</td>\n",
       "      <td>1</td>\n",
       "      <td>1</td>\n",
       "      <td>0</td>\n",
       "    </tr>\n",
       "    <tr>\n",
       "      <th>1</th>\n",
       "      <td>0</td>\n",
       "      <td>0</td>\n",
       "      <td>0</td>\n",
       "      <td>0</td>\n",
       "    </tr>\n",
       "    <tr>\n",
       "      <th>2</th>\n",
       "      <td>0</td>\n",
       "      <td>0</td>\n",
       "      <td>0</td>\n",
       "      <td>0</td>\n",
       "    </tr>\n",
       "    <tr>\n",
       "      <th>3</th>\n",
       "      <td>0</td>\n",
       "      <td>0</td>\n",
       "      <td>0</td>\n",
       "      <td>0</td>\n",
       "    </tr>\n",
       "    <tr>\n",
       "      <th>4</th>\n",
       "      <td>0</td>\n",
       "      <td>0</td>\n",
       "      <td>0</td>\n",
       "      <td>0</td>\n",
       "    </tr>\n",
       "    <tr>\n",
       "      <th>...</th>\n",
       "      <td>...</td>\n",
       "      <td>...</td>\n",
       "      <td>...</td>\n",
       "      <td>...</td>\n",
       "    </tr>\n",
       "    <tr>\n",
       "      <th>26905</th>\n",
       "      <td>4999</td>\n",
       "      <td>0</td>\n",
       "      <td>0</td>\n",
       "      <td>0</td>\n",
       "    </tr>\n",
       "    <tr>\n",
       "      <th>26906</th>\n",
       "      <td>4999</td>\n",
       "      <td>0</td>\n",
       "      <td>1</td>\n",
       "      <td>0</td>\n",
       "    </tr>\n",
       "    <tr>\n",
       "      <th>26907</th>\n",
       "      <td>4999</td>\n",
       "      <td>0</td>\n",
       "      <td>0</td>\n",
       "      <td>0</td>\n",
       "    </tr>\n",
       "    <tr>\n",
       "      <th>26908</th>\n",
       "      <td>4999</td>\n",
       "      <td>0</td>\n",
       "      <td>0</td>\n",
       "      <td>0</td>\n",
       "    </tr>\n",
       "    <tr>\n",
       "      <th>26909</th>\n",
       "      <td>4999</td>\n",
       "      <td>0</td>\n",
       "      <td>0</td>\n",
       "      <td>0</td>\n",
       "    </tr>\n",
       "  </tbody>\n",
       "</table>\n",
       "<p>26910 rows × 4 columns</p>\n",
       "</div>"
      ],
      "text/plain": [
       "       case  predicted_resource  predicted_activity  predicted_timestamp\n",
       "0         0                   1                   1                    0\n",
       "1         0                   0                   0                    0\n",
       "2         0                   0                   0                    0\n",
       "3         0                   0                   0                    0\n",
       "4         0                   0                   0                    0\n",
       "...     ...                 ...                 ...                  ...\n",
       "26905  4999                   0                   0                    0\n",
       "26906  4999                   0                   1                    0\n",
       "26907  4999                   0                   0                    0\n",
       "26908  4999                   0                   0                    0\n",
       "26909  4999                   0                   0                    0\n",
       "\n",
       "[26910 rows x 4 columns]"
      ]
     },
     "execution_count": 26,
     "metadata": {},
     "output_type": "execute_result"
    }
   ],
   "source": [
    "import pandas as pd\n",
    "\n",
    "# Create a DataFrame from the case_indices_array corresponding to case_resource\n",
    "mapping = pd.DataFrame({'case': case_indices})\n",
    "mapping['predicted_resource'] = labels_resource\n",
    "mapping['predicted_activity'] = labels_activity\n",
    "mapping['predicted_timestamp'] = labels_timestamp\n",
    "\n",
    "mapping"
   ]
  },
  {
   "cell_type": "code",
   "execution_count": 27,
   "metadata": {},
   "outputs": [
    {
     "data": {
      "text/plain": [
       "case\n",
       "0        True\n",
       "1        True\n",
       "2        True\n",
       "3        True\n",
       "4        True\n",
       "        ...  \n",
       "4995     True\n",
       "4996     True\n",
       "4997     True\n",
       "4998    False\n",
       "4999     True\n",
       "Length: 5000, dtype: bool"
      ]
     },
     "execution_count": 27,
     "metadata": {},
     "output_type": "execute_result"
    }
   ],
   "source": [
    "# Create a boolean DataFrame where each value is True if the value is 1\n",
    "contains_one = (mapping[['predicted_resource', 'predicted_activity', 'predicted_timestamp']] == 1)\n",
    "\n",
    "# Group by 'case' and check if there's at least one 'True' in any of the columns\n",
    "case_prediction = contains_one.groupby(mapping['case']).any().any(axis=1)\n",
    "case_prediction"
   ]
  },
  {
   "cell_type": "code",
   "execution_count": 41,
   "metadata": {},
   "outputs": [
    {
     "data": {
      "text/plain": [
       "case\n",
       "0        True\n",
       "1       False\n",
       "2        True\n",
       "3       False\n",
       "4       False\n",
       "        ...  \n",
       "4995     True\n",
       "4996     True\n",
       "4997     True\n",
       "4998    False\n",
       "4999     True\n",
       "Length: 5000, dtype: bool"
      ]
     },
     "execution_count": 41,
     "metadata": {},
     "output_type": "execute_result"
    }
   ],
   "source": [
    "# Create a boolean DataFrame where each value is True if the value is 1\n",
    "contains_one = (mapping[['predicted_activity']] == 1)\n",
    "\n",
    "# Group by 'case' and check if there's at least one 'True' in any of the columns\n",
    "case_prediction = contains_one.groupby(mapping['case']).any().any(axis=1)\n",
    "case_prediction"
   ]
  },
  {
   "cell_type": "markdown",
   "metadata": {},
   "source": [
    "# Ground Truth"
   ]
  },
  {
   "cell_type": "code",
   "execution_count": 42,
   "metadata": {},
   "outputs": [],
   "source": [
    "def generate_alignments_adjusted_tracecost_pkl(log, net, initial_marking, final_marking):\n",
    "    from pm4py.algo.conformance.alignments.petri_net import algorithm as alignments\n",
    "    from pm4py.algo.conformance.alignments.petri_net import variants\n",
    "    from pm4py.objects.petri_net.utils import align_utils\n",
    "    max_events=0\n",
    "    for trace in log:\n",
    "        counter=0\n",
    "        for event in trace:\n",
    "            counter+=1\n",
    "        if counter > max_events:\n",
    "            max_events=counter\n",
    "    parameters={}\n",
    "    parameters[alignments.Variants.VERSION_STATE_EQUATION_A_STAR.value.Parameters.PARAM_SYNC_COST_FUNCTION] = list(map(lambda i: .1*i, range(max_events*2)))\n",
    "    parameters[alignments.Variants.VERSION_STATE_EQUATION_A_STAR.value.Parameters.PARAM_TRACE_COST_FUNCTION]=list(map(lambda i: align_utils.STD_MODEL_LOG_MOVE_COST-.1*i, range(max_events*2)))\n",
    "    aligned_traces = alignments.apply_log(log, net, initial_marking, final_marking, variant=variants.state_equation_a_star, parameters=parameters)\n",
    "    return aligned_traces"
   ]
  },
  {
   "cell_type": "code",
   "execution_count": 43,
   "metadata": {},
   "outputs": [
    {
     "data": {
      "application/vnd.jupyter.widget-view+json": {
       "model_id": "3be860fac4a44dd2a7c3d5938b9f1aeb",
       "version_major": 2,
       "version_minor": 0
      },
      "text/plain": [
       "aligning log, completed variants ::   0%|          | 0/573 [00:00<?, ?it/s]"
      ]
     },
     "metadata": {},
     "output_type": "display_data"
    }
   ],
   "source": [
    "import pm4py\n",
    "from pm4py.objects.log.importer.xes import importer as xes_importer\n",
    "from pm4py.objects.bpmn.importer import importer as bpmn_importer\n",
    "from pm4py.algo.conformance.alignments.petri_net import algorithm as alignments_petri\n",
    "\n",
    "# 2. Import the given BPMN model\n",
    "bpmn_graph = bpmn_importer.apply(\"../../data/model/wide.bpmn\")\n",
    "\n",
    "# 3. Convert the BPMN to a Petri net\n",
    "net, initial_marking, final_marking = pm4py.convert_to_petri_net(bpmn_graph)\n",
    "\n",
    "aligned_traces = generate_alignments_adjusted_tracecost_pkl(log, net, initial_marking, final_marking)"
   ]
  },
  {
   "cell_type": "code",
   "execution_count": 44,
   "metadata": {},
   "outputs": [],
   "source": [
    "def extract_conformance_status_by_fitness(aligned_traces):\n",
    "    conformance_status = []\n",
    "    for alignment in aligned_traces:\n",
    "        fitness = alignment['fitness']\n",
    "        # If the fitness is 1.0, the trace is conforming\n",
    "        if fitness == 1.0:\n",
    "            conformance_status.append(1)\n",
    "        else:\n",
    "            conformance_status.append(0)\n",
    "    return conformance_status\n",
    "\n",
    "# Get the conformance status list from the aligned traces\n",
    "conformance = extract_conformance_status_by_fitness(aligned_traces)"
   ]
  },
  {
   "cell_type": "code",
   "execution_count": 45,
   "metadata": {},
   "outputs": [
    {
     "data": {
      "text/html": [
       "<div>\n",
       "<style scoped>\n",
       "    .dataframe tbody tr th:only-of-type {\n",
       "        vertical-align: middle;\n",
       "    }\n",
       "\n",
       "    .dataframe tbody tr th {\n",
       "        vertical-align: top;\n",
       "    }\n",
       "\n",
       "    .dataframe thead th {\n",
       "        text-align: right;\n",
       "    }\n",
       "</style>\n",
       "<table border=\"1\" class=\"dataframe\">\n",
       "  <thead>\n",
       "    <tr style=\"text-align: right;\">\n",
       "      <th></th>\n",
       "      <th>conformity</th>\n",
       "      <th>predicted</th>\n",
       "    </tr>\n",
       "  </thead>\n",
       "  <tbody>\n",
       "    <tr>\n",
       "      <th>0</th>\n",
       "      <td>0</td>\n",
       "      <td>0</td>\n",
       "    </tr>\n",
       "    <tr>\n",
       "      <th>1</th>\n",
       "      <td>1</td>\n",
       "      <td>1</td>\n",
       "    </tr>\n",
       "    <tr>\n",
       "      <th>2</th>\n",
       "      <td>0</td>\n",
       "      <td>0</td>\n",
       "    </tr>\n",
       "    <tr>\n",
       "      <th>3</th>\n",
       "      <td>1</td>\n",
       "      <td>1</td>\n",
       "    </tr>\n",
       "    <tr>\n",
       "      <th>4</th>\n",
       "      <td>1</td>\n",
       "      <td>1</td>\n",
       "    </tr>\n",
       "    <tr>\n",
       "      <th>...</th>\n",
       "      <td>...</td>\n",
       "      <td>...</td>\n",
       "    </tr>\n",
       "    <tr>\n",
       "      <th>4995</th>\n",
       "      <td>1</td>\n",
       "      <td>0</td>\n",
       "    </tr>\n",
       "    <tr>\n",
       "      <th>4996</th>\n",
       "      <td>1</td>\n",
       "      <td>0</td>\n",
       "    </tr>\n",
       "    <tr>\n",
       "      <th>4997</th>\n",
       "      <td>0</td>\n",
       "      <td>0</td>\n",
       "    </tr>\n",
       "    <tr>\n",
       "      <th>4998</th>\n",
       "      <td>1</td>\n",
       "      <td>1</td>\n",
       "    </tr>\n",
       "    <tr>\n",
       "      <th>4999</th>\n",
       "      <td>1</td>\n",
       "      <td>0</td>\n",
       "    </tr>\n",
       "  </tbody>\n",
       "</table>\n",
       "<p>5000 rows × 2 columns</p>\n",
       "</div>"
      ],
      "text/plain": [
       "      conformity  predicted\n",
       "0              0          0\n",
       "1              1          1\n",
       "2              0          0\n",
       "3              1          1\n",
       "4              1          1\n",
       "...          ...        ...\n",
       "4995           1          0\n",
       "4996           1          0\n",
       "4997           0          0\n",
       "4998           1          1\n",
       "4999           1          0\n",
       "\n",
       "[5000 rows x 2 columns]"
      ]
     },
     "execution_count": 45,
     "metadata": {},
     "output_type": "execute_result"
    }
   ],
   "source": [
    "ground_truth = pd.DataFrame({'conformity': conformance})\n",
    "ground_truth['predicted'] = case_prediction\n",
    "\n",
    "# Convert False to 0 and True to 1\n",
    "ground_truth['predicted'] = [int(value) for value in ground_truth['predicted']]\n",
    "ground_truth['predicted'] = 1 - ground_truth['predicted']\n",
    "ground_truth"
   ]
  },
  {
   "cell_type": "markdown",
   "metadata": {},
   "source": [
    "# Evaluation"
   ]
  },
  {
   "cell_type": "code",
   "execution_count": 46,
   "metadata": {},
   "outputs": [],
   "source": [
    "# Calculating TP, TN, FP, FN\n",
    "TP = ((ground_truth['conformity'] == 1) & (ground_truth['predicted'] == 1)).sum()\n",
    "TN = ((ground_truth['conformity'] == 0) & (ground_truth['predicted'] == 0)).sum()\n",
    "FP = ((ground_truth['conformity'] == 0) & (ground_truth['predicted'] == 1)).sum()\n",
    "FN = ((ground_truth['conformity'] == 1) & (ground_truth['predicted'] == 0)).sum()"
   ]
  },
  {
   "cell_type": "code",
   "execution_count": 47,
   "metadata": {},
   "outputs": [
    {
     "name": "stdout",
     "output_type": "stream",
     "text": [
      "Accuracy: 0.797\n"
     ]
    }
   ],
   "source": [
    "# Calculate accuracy\n",
    "accuracy = (TP + TN) / (TP + TN + FP + FN)\n",
    "print(f\"Accuracy: {accuracy:.3f}\")"
   ]
  },
  {
   "cell_type": "code",
   "execution_count": 48,
   "metadata": {},
   "outputs": [
    {
     "name": "stdout",
     "output_type": "stream",
     "text": [
      "F1: 0.853\n"
     ]
    }
   ],
   "source": [
    "# Calculate f1\n",
    "\n",
    "precision = TP / (TP + FP)\n",
    "recall = TP / (TP + FN)\n",
    "\n",
    "f1 = 2 * ((precision * recall) / (precision + recall))\n",
    "print(f\"F1: {f1:.3f}\")"
   ]
  },
  {
   "cell_type": "markdown",
   "metadata": {},
   "source": [
    "### Dev (Non Conform Traces)"
   ]
  },
  {
   "cell_type": "code",
   "execution_count": 49,
   "metadata": {},
   "outputs": [
    {
     "name": "stdout",
     "output_type": "stream",
     "text": [
      "Precision: 0.534\n"
     ]
    }
   ],
   "source": [
    "# Calculate precision for Dev\n",
    "precision = TN / (TN + FN)\n",
    "print(f\"Precision: {precision:.3f}\")"
   ]
  },
  {
   "cell_type": "code",
   "execution_count": 50,
   "metadata": {},
   "outputs": [
    {
     "name": "stdout",
     "output_type": "stream",
     "text": [
      "Recall: 0.908\n"
     ]
    }
   ],
   "source": [
    "# Calculate recall for Dev\n",
    "recall = TN / (TN + FP)\n",
    "print(f\"Recall: {recall:.3f}\")"
   ]
  },
  {
   "cell_type": "markdown",
   "metadata": {},
   "source": [
    "### No Dev (Conform Traces)"
   ]
  },
  {
   "cell_type": "code",
   "execution_count": 51,
   "metadata": {},
   "outputs": [
    {
     "name": "stdout",
     "output_type": "stream",
     "text": [
      "Precision: 0.966\n"
     ]
    }
   ],
   "source": [
    "# Calculate precision for No Dev\n",
    "precision = TP / (TP + FP)\n",
    "print(f\"Precision: {precision:.3f}\")"
   ]
  },
  {
   "cell_type": "code",
   "execution_count": 52,
   "metadata": {},
   "outputs": [
    {
     "name": "stdout",
     "output_type": "stream",
     "text": [
      "Recall: 0.764\n"
     ]
    }
   ],
   "source": [
    "# Calculate recall for No Dev\n",
    "recall = TP / (TP + FN)\n",
    "print(f\"Recall: {recall:.3f}\")"
   ]
  },
  {
   "cell_type": "markdown",
   "metadata": {},
   "source": [
    "### AUC-ROC"
   ]
  },
  {
   "cell_type": "code",
   "execution_count": 53,
   "metadata": {},
   "outputs": [
    {
     "data": {
      "text/plain": [
       "0.836259057700302"
      ]
     },
     "execution_count": 53,
     "metadata": {},
     "output_type": "execute_result"
    }
   ],
   "source": [
    "import pandas as pd\n",
    "from sklearn.metrics import roc_auc_score\n",
    "\n",
    "# Assuming ground_truth is your DataFrame\n",
    "# Make sure 'conformity' contains actual labels (0 or 1)\n",
    "# and 'predicted' contains predicted probabilities or scores\n",
    "auc_roc = roc_auc_score(ground_truth['conformity'], ground_truth['predicted'])\n",
    "auc_roc"
   ]
  },
  {
   "cell_type": "code",
   "execution_count": null,
   "metadata": {},
   "outputs": [],
   "source": []
  }
 ],
 "metadata": {
  "kernelspec": {
   "display_name": "lstm",
   "language": "python",
   "name": "python3"
  },
  "language_info": {
   "codemirror_mode": {
    "name": "ipython",
    "version": 3
   },
   "file_extension": ".py",
   "mimetype": "text/x-python",
   "name": "python",
   "nbconvert_exporter": "python",
   "pygments_lexer": "ipython3",
   "version": "3.9.13"
  }
 },
 "nbformat": 4,
 "nbformat_minor": 2
}

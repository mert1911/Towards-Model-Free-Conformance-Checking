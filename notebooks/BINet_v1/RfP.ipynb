{
 "cells": [
  {
   "cell_type": "markdown",
   "metadata": {},
   "source": [
    "# Import Event Log"
   ]
  },
  {
   "cell_type": "code",
   "execution_count": 2,
   "metadata": {},
   "outputs": [
    {
     "name": "stderr",
     "output_type": "stream",
     "text": [
      "/opt/anaconda3/lib/python3.9/site-packages/pm4py/util/dt_parsing/parser.py:76: UserWarning: ISO8601 strings are not fully supported with strpfromiso for Python versions below 3.11\n",
      "  warnings.warn(\n"
     ]
    },
    {
     "data": {
      "application/vnd.jupyter.widget-view+json": {
       "model_id": "0d4666a3d4bf421281537d63296cfd30",
       "version_major": 2,
       "version_minor": 0
      },
      "text/plain": [
       "parsing log, completed traces ::   0%|          | 0/6886 [00:00<?, ?it/s]"
      ]
     },
     "metadata": {},
     "output_type": "display_data"
    },
    {
     "data": {
      "text/html": [
       "<div>\n",
       "<style scoped>\n",
       "    .dataframe tbody tr th:only-of-type {\n",
       "        vertical-align: middle;\n",
       "    }\n",
       "\n",
       "    .dataframe tbody tr th {\n",
       "        vertical-align: top;\n",
       "    }\n",
       "\n",
       "    .dataframe thead th {\n",
       "        text-align: right;\n",
       "    }\n",
       "</style>\n",
       "<table border=\"1\" class=\"dataframe\">\n",
       "  <thead>\n",
       "    <tr style=\"text-align: right;\">\n",
       "      <th></th>\n",
       "      <th>id</th>\n",
       "      <th>org:resource</th>\n",
       "      <th>concept:name</th>\n",
       "      <th>time:timestamp</th>\n",
       "      <th>org:role</th>\n",
       "      <th>case:Rfp_id</th>\n",
       "      <th>case:Project</th>\n",
       "      <th>case:Task</th>\n",
       "      <th>case:concept:name</th>\n",
       "      <th>case:OrganizationalEntity</th>\n",
       "      <th>case:Cost Type</th>\n",
       "      <th>case:RequestedAmount</th>\n",
       "      <th>case:Activity</th>\n",
       "      <th>case:RfpNumber</th>\n",
       "      <th>@@case_index</th>\n",
       "    </tr>\n",
       "  </thead>\n",
       "  <tbody>\n",
       "    <tr>\n",
       "      <th>0</th>\n",
       "      <td>st_step 148220_0</td>\n",
       "      <td>STAFF MEMBER</td>\n",
       "      <td>Request For Payment SUBMITTED by EMPLOYEE</td>\n",
       "      <td>2017-01-09 08:17:18+00:00</td>\n",
       "      <td>EMPLOYEE</td>\n",
       "      <td>request for payment 148214</td>\n",
       "      <td>project 148216</td>\n",
       "      <td>UNKNOWN</td>\n",
       "      <td>request for payment 148214</td>\n",
       "      <td>organizational unit 65463</td>\n",
       "      <td>0</td>\n",
       "      <td>34.336343</td>\n",
       "      <td>UNKNOWN</td>\n",
       "      <td>request for payment number 148215</td>\n",
       "      <td>0</td>\n",
       "    </tr>\n",
       "    <tr>\n",
       "      <th>1</th>\n",
       "      <td>st_step 148221_0</td>\n",
       "      <td>STAFF MEMBER</td>\n",
       "      <td>Request For Payment FINAL_APPROVED by SUPERVISOR</td>\n",
       "      <td>2017-01-09 08:18:00+00:00</td>\n",
       "      <td>SUPERVISOR</td>\n",
       "      <td>request for payment 148214</td>\n",
       "      <td>project 148216</td>\n",
       "      <td>UNKNOWN</td>\n",
       "      <td>request for payment 148214</td>\n",
       "      <td>organizational unit 65463</td>\n",
       "      <td>0</td>\n",
       "      <td>34.336343</td>\n",
       "      <td>UNKNOWN</td>\n",
       "      <td>request for payment number 148215</td>\n",
       "      <td>0</td>\n",
       "    </tr>\n",
       "    <tr>\n",
       "      <th>2</th>\n",
       "      <td>st_step 148222_0</td>\n",
       "      <td>STAFF MEMBER</td>\n",
       "      <td>Request For Payment REJECTED by MISSING</td>\n",
       "      <td>2017-01-10 11:42:32+00:00</td>\n",
       "      <td>MISSING</td>\n",
       "      <td>request for payment 148214</td>\n",
       "      <td>project 148216</td>\n",
       "      <td>UNKNOWN</td>\n",
       "      <td>request for payment 148214</td>\n",
       "      <td>organizational unit 65463</td>\n",
       "      <td>0</td>\n",
       "      <td>34.336343</td>\n",
       "      <td>UNKNOWN</td>\n",
       "      <td>request for payment number 148215</td>\n",
       "      <td>0</td>\n",
       "    </tr>\n",
       "    <tr>\n",
       "      <th>3</th>\n",
       "      <td>st_step 148219_0</td>\n",
       "      <td>STAFF MEMBER</td>\n",
       "      <td>Request For Payment SUBMITTED by EMPLOYEE</td>\n",
       "      <td>2017-03-03 08:51:13+00:00</td>\n",
       "      <td>EMPLOYEE</td>\n",
       "      <td>request for payment 148214</td>\n",
       "      <td>project 148216</td>\n",
       "      <td>UNKNOWN</td>\n",
       "      <td>request for payment 148214</td>\n",
       "      <td>organizational unit 65463</td>\n",
       "      <td>0</td>\n",
       "      <td>34.336343</td>\n",
       "      <td>UNKNOWN</td>\n",
       "      <td>request for payment number 148215</td>\n",
       "      <td>0</td>\n",
       "    </tr>\n",
       "    <tr>\n",
       "      <th>4</th>\n",
       "      <td>st_step 148218_0</td>\n",
       "      <td>STAFF MEMBER</td>\n",
       "      <td>Request For Payment APPROVED by PRE_APPROVER</td>\n",
       "      <td>2017-03-03 08:51:42+00:00</td>\n",
       "      <td>PRE_APPROVER</td>\n",
       "      <td>request for payment 148214</td>\n",
       "      <td>project 148216</td>\n",
       "      <td>UNKNOWN</td>\n",
       "      <td>request for payment 148214</td>\n",
       "      <td>organizational unit 65463</td>\n",
       "      <td>0</td>\n",
       "      <td>34.336343</td>\n",
       "      <td>UNKNOWN</td>\n",
       "      <td>request for payment number 148215</td>\n",
       "      <td>0</td>\n",
       "    </tr>\n",
       "    <tr>\n",
       "      <th>...</th>\n",
       "      <td>...</td>\n",
       "      <td>...</td>\n",
       "      <td>...</td>\n",
       "      <td>...</td>\n",
       "      <td>...</td>\n",
       "      <td>...</td>\n",
       "      <td>...</td>\n",
       "      <td>...</td>\n",
       "      <td>...</td>\n",
       "      <td>...</td>\n",
       "      <td>...</td>\n",
       "      <td>...</td>\n",
       "      <td>...</td>\n",
       "      <td>...</td>\n",
       "      <td>...</td>\n",
       "    </tr>\n",
       "    <tr>\n",
       "      <th>36791</th>\n",
       "      <td>st_step 185004_0</td>\n",
       "      <td>STAFF MEMBER</td>\n",
       "      <td>Request For Payment APPROVED by ADMINISTRATION</td>\n",
       "      <td>2018-12-29 11:35:02+00:00</td>\n",
       "      <td>ADMINISTRATION</td>\n",
       "      <td>request for payment 185000</td>\n",
       "      <td>project 147860</td>\n",
       "      <td>task 152704</td>\n",
       "      <td>request for payment 185000</td>\n",
       "      <td>organizational unit 65468</td>\n",
       "      <td>0</td>\n",
       "      <td>15.409660</td>\n",
       "      <td>activity 505</td>\n",
       "      <td>request for payment number 185001</td>\n",
       "      <td>6885</td>\n",
       "    </tr>\n",
       "    <tr>\n",
       "      <th>36792</th>\n",
       "      <td>st_step 185003_0</td>\n",
       "      <td>STAFF MEMBER</td>\n",
       "      <td>Request For Payment APPROVED by BUDGET OWNER</td>\n",
       "      <td>2019-01-03 08:27:20+00:00</td>\n",
       "      <td>BUDGET OWNER</td>\n",
       "      <td>request for payment 185000</td>\n",
       "      <td>project 147860</td>\n",
       "      <td>task 152704</td>\n",
       "      <td>request for payment 185000</td>\n",
       "      <td>organizational unit 65468</td>\n",
       "      <td>0</td>\n",
       "      <td>15.409660</td>\n",
       "      <td>activity 505</td>\n",
       "      <td>request for payment number 185001</td>\n",
       "      <td>6885</td>\n",
       "    </tr>\n",
       "    <tr>\n",
       "      <th>36793</th>\n",
       "      <td>st_step 185005_0</td>\n",
       "      <td>STAFF MEMBER</td>\n",
       "      <td>Request For Payment FINAL_APPROVED by SUPERVISOR</td>\n",
       "      <td>2019-01-08 08:00:39+00:00</td>\n",
       "      <td>SUPERVISOR</td>\n",
       "      <td>request for payment 185000</td>\n",
       "      <td>project 147860</td>\n",
       "      <td>task 152704</td>\n",
       "      <td>request for payment 185000</td>\n",
       "      <td>organizational unit 65468</td>\n",
       "      <td>0</td>\n",
       "      <td>15.409660</td>\n",
       "      <td>activity 505</td>\n",
       "      <td>request for payment number 185001</td>\n",
       "      <td>6885</td>\n",
       "    </tr>\n",
       "    <tr>\n",
       "      <th>36794</th>\n",
       "      <td>rp_request for payment 185000_15</td>\n",
       "      <td>SYSTEM</td>\n",
       "      <td>Request Payment</td>\n",
       "      <td>2019-01-08 08:29:14+00:00</td>\n",
       "      <td>UNDEFINED</td>\n",
       "      <td>request for payment 185000</td>\n",
       "      <td>project 147860</td>\n",
       "      <td>task 152704</td>\n",
       "      <td>request for payment 185000</td>\n",
       "      <td>organizational unit 65468</td>\n",
       "      <td>0</td>\n",
       "      <td>15.409660</td>\n",
       "      <td>activity 505</td>\n",
       "      <td>request for payment number 185001</td>\n",
       "      <td>6885</td>\n",
       "    </tr>\n",
       "    <tr>\n",
       "      <th>36795</th>\n",
       "      <td>rp_request for payment 185000_16</td>\n",
       "      <td>SYSTEM</td>\n",
       "      <td>Payment Handled</td>\n",
       "      <td>2019-01-10 16:31:09+00:00</td>\n",
       "      <td>UNDEFINED</td>\n",
       "      <td>request for payment 185000</td>\n",
       "      <td>project 147860</td>\n",
       "      <td>task 152704</td>\n",
       "      <td>request for payment 185000</td>\n",
       "      <td>organizational unit 65468</td>\n",
       "      <td>0</td>\n",
       "      <td>15.409660</td>\n",
       "      <td>activity 505</td>\n",
       "      <td>request for payment number 185001</td>\n",
       "      <td>6885</td>\n",
       "    </tr>\n",
       "  </tbody>\n",
       "</table>\n",
       "<p>36796 rows × 15 columns</p>\n",
       "</div>"
      ],
      "text/plain": [
       "                                     id  org:resource  \\\n",
       "0                      st_step 148220_0  STAFF MEMBER   \n",
       "1                      st_step 148221_0  STAFF MEMBER   \n",
       "2                      st_step 148222_0  STAFF MEMBER   \n",
       "3                      st_step 148219_0  STAFF MEMBER   \n",
       "4                      st_step 148218_0  STAFF MEMBER   \n",
       "...                                 ...           ...   \n",
       "36791                  st_step 185004_0  STAFF MEMBER   \n",
       "36792                  st_step 185003_0  STAFF MEMBER   \n",
       "36793                  st_step 185005_0  STAFF MEMBER   \n",
       "36794  rp_request for payment 185000_15        SYSTEM   \n",
       "36795  rp_request for payment 185000_16        SYSTEM   \n",
       "\n",
       "                                           concept:name  \\\n",
       "0             Request For Payment SUBMITTED by EMPLOYEE   \n",
       "1      Request For Payment FINAL_APPROVED by SUPERVISOR   \n",
       "2               Request For Payment REJECTED by MISSING   \n",
       "3             Request For Payment SUBMITTED by EMPLOYEE   \n",
       "4          Request For Payment APPROVED by PRE_APPROVER   \n",
       "...                                                 ...   \n",
       "36791    Request For Payment APPROVED by ADMINISTRATION   \n",
       "36792      Request For Payment APPROVED by BUDGET OWNER   \n",
       "36793  Request For Payment FINAL_APPROVED by SUPERVISOR   \n",
       "36794                                   Request Payment   \n",
       "36795                                   Payment Handled   \n",
       "\n",
       "                 time:timestamp        org:role                 case:Rfp_id  \\\n",
       "0     2017-01-09 08:17:18+00:00        EMPLOYEE  request for payment 148214   \n",
       "1     2017-01-09 08:18:00+00:00      SUPERVISOR  request for payment 148214   \n",
       "2     2017-01-10 11:42:32+00:00         MISSING  request for payment 148214   \n",
       "3     2017-03-03 08:51:13+00:00        EMPLOYEE  request for payment 148214   \n",
       "4     2017-03-03 08:51:42+00:00    PRE_APPROVER  request for payment 148214   \n",
       "...                         ...             ...                         ...   \n",
       "36791 2018-12-29 11:35:02+00:00  ADMINISTRATION  request for payment 185000   \n",
       "36792 2019-01-03 08:27:20+00:00    BUDGET OWNER  request for payment 185000   \n",
       "36793 2019-01-08 08:00:39+00:00      SUPERVISOR  request for payment 185000   \n",
       "36794 2019-01-08 08:29:14+00:00       UNDEFINED  request for payment 185000   \n",
       "36795 2019-01-10 16:31:09+00:00       UNDEFINED  request for payment 185000   \n",
       "\n",
       "         case:Project    case:Task           case:concept:name  \\\n",
       "0      project 148216      UNKNOWN  request for payment 148214   \n",
       "1      project 148216      UNKNOWN  request for payment 148214   \n",
       "2      project 148216      UNKNOWN  request for payment 148214   \n",
       "3      project 148216      UNKNOWN  request for payment 148214   \n",
       "4      project 148216      UNKNOWN  request for payment 148214   \n",
       "...               ...          ...                         ...   \n",
       "36791  project 147860  task 152704  request for payment 185000   \n",
       "36792  project 147860  task 152704  request for payment 185000   \n",
       "36793  project 147860  task 152704  request for payment 185000   \n",
       "36794  project 147860  task 152704  request for payment 185000   \n",
       "36795  project 147860  task 152704  request for payment 185000   \n",
       "\n",
       "       case:OrganizationalEntity  case:Cost Type  case:RequestedAmount  \\\n",
       "0      organizational unit 65463               0             34.336343   \n",
       "1      organizational unit 65463               0             34.336343   \n",
       "2      organizational unit 65463               0             34.336343   \n",
       "3      organizational unit 65463               0             34.336343   \n",
       "4      organizational unit 65463               0             34.336343   \n",
       "...                          ...             ...                   ...   \n",
       "36791  organizational unit 65468               0             15.409660   \n",
       "36792  organizational unit 65468               0             15.409660   \n",
       "36793  organizational unit 65468               0             15.409660   \n",
       "36794  organizational unit 65468               0             15.409660   \n",
       "36795  organizational unit 65468               0             15.409660   \n",
       "\n",
       "      case:Activity                     case:RfpNumber  @@case_index  \n",
       "0           UNKNOWN  request for payment number 148215             0  \n",
       "1           UNKNOWN  request for payment number 148215             0  \n",
       "2           UNKNOWN  request for payment number 148215             0  \n",
       "3           UNKNOWN  request for payment number 148215             0  \n",
       "4           UNKNOWN  request for payment number 148215             0  \n",
       "...             ...                                ...           ...  \n",
       "36791  activity 505  request for payment number 185001          6885  \n",
       "36792  activity 505  request for payment number 185001          6885  \n",
       "36793  activity 505  request for payment number 185001          6885  \n",
       "36794  activity 505  request for payment number 185001          6885  \n",
       "36795  activity 505  request for payment number 185001          6885  \n",
       "\n",
       "[36796 rows x 15 columns]"
      ]
     },
     "execution_count": 2,
     "metadata": {},
     "output_type": "execute_result"
    }
   ],
   "source": [
    "import pandas as pd\n",
    "import numpy as np\n",
    "import pm4py\n",
    "from pm4py.objects.conversion.log import converter as log_converter\n",
    "\n",
    "if __name__ == \"__main__\":\n",
    "    # Read the XES file\n",
    "    dataframe_log = pm4py.read_xes('../../data/logs/RequestForPayment.xes')\n",
    "\n",
    "    # If 'log' is already a DataFrame, add the @@case_index column directly\n",
    "    case_indices = {case_id: idx for idx, case_id in enumerate(dataframe_log['case:concept:name'].unique())}\n",
    "    dataframe_log['@@case_index'] = dataframe_log['case:concept:name'].map(case_indices)\n",
    "    \n",
    "     # Convert the dataframe to event log\n",
    "    log = log_converter.apply(dataframe_log)\n",
    "    \n",
    "dataframe_log"
   ]
  },
  {
   "cell_type": "markdown",
   "metadata": {},
   "source": [
    "# Drop unnessary columns"
   ]
  },
  {
   "cell_type": "code",
   "execution_count": 3,
   "metadata": {},
   "outputs": [],
   "source": [
    "dataframe_log = dataframe_log.drop(columns=['case:Rfp_id'])\n",
    "dataframe_log = dataframe_log.drop(columns=['case:Project'])\n",
    "dataframe_log = dataframe_log.drop(columns=['case:Task'])\n",
    "dataframe_log = dataframe_log.drop(columns=['case:concept:name'])\n",
    "dataframe_log = dataframe_log.drop(columns=['case:OrganizationalEntity'])\n",
    "dataframe_log = dataframe_log.drop(columns=['case:Cost Type'])\n",
    "dataframe_log = dataframe_log.drop(columns=['case:RequestedAmount'])\n",
    "dataframe_log = dataframe_log.drop(columns=['case:Activity'])\n",
    "dataframe_log = dataframe_log.drop(columns=['case:RfpNumber'])"
   ]
  },
  {
   "cell_type": "code",
   "execution_count": 4,
   "metadata": {},
   "outputs": [],
   "source": [
    "from sklearn.preprocessing import StandardScaler\n",
    "\n",
    "# Convert to datetime format\n",
    "dataframe_log['time:timestamp'] = pd.to_datetime(dataframe_log['time:timestamp'])\n",
    "\n",
    "# Calculate elapsed time since the start of each case\n",
    "dataframe_log['start_time'] = dataframe_log.groupby('@@case_index')['time:timestamp'].transform('min')\n",
    "dataframe_log['elapsed_time'] = (dataframe_log['time:timestamp'] - dataframe_log['start_time']).dt.total_seconds()\n",
    "\n",
    "# Normalize the elapsed time in minutes\n",
    "scaler = StandardScaler()\n",
    "dataframe_log['standardized_elapsed_time'] = scaler.fit_transform(dataframe_log[['elapsed_time']])\n",
    "\n",
    "dataframe_log = dataframe_log.drop(columns=['start_time'])\n",
    "dataframe_log = dataframe_log.drop(columns=['elapsed_time'])\n",
    "dataframe_log = dataframe_log.drop(columns=['time:timestamp'])"
   ]
  },
  {
   "cell_type": "markdown",
   "metadata": {},
   "source": [
    "# Preprocess"
   ]
  },
  {
   "cell_type": "code",
   "execution_count": 5,
   "metadata": {},
   "outputs": [],
   "source": [
    "codes, uniques = pd.factorize(dataframe_log['id'])\n",
    "dataframe_log['id'] = codes"
   ]
  },
  {
   "cell_type": "code",
   "execution_count": 6,
   "metadata": {},
   "outputs": [],
   "source": [
    "codes, uniques = pd.factorize(dataframe_log['org:resource'])\n",
    "dataframe_log['org:resource'] = codes + 1"
   ]
  },
  {
   "cell_type": "code",
   "execution_count": 7,
   "metadata": {},
   "outputs": [],
   "source": [
    "codes, uniques = pd.factorize(dataframe_log['concept:name'])\n",
    "dataframe_log['concept:name'] = codes + 1"
   ]
  },
  {
   "cell_type": "code",
   "execution_count": 8,
   "metadata": {},
   "outputs": [],
   "source": [
    "codes, uniques = pd.factorize(dataframe_log['org:role'])\n",
    "dataframe_log['org:role'] = codes + 1"
   ]
  },
  {
   "cell_type": "markdown",
   "metadata": {},
   "source": [
    "# Generate Prefixes"
   ]
  },
  {
   "cell_type": "code",
   "execution_count": 9,
   "metadata": {},
   "outputs": [],
   "source": [
    "df_id = dataframe_log[['id', '@@case_index']]\n",
    "df_resource = dataframe_log[['org:resource', '@@case_index']]\n",
    "df_activity = dataframe_log[['concept:name', '@@case_index']]\n",
    "df_role = dataframe_log[['org:role', '@@case_index']]\n",
    "df_timestamps = dataframe_log[['standardized_elapsed_time', '@@case_index']]"
   ]
  },
  {
   "cell_type": "code",
   "execution_count": 10,
   "metadata": {},
   "outputs": [
    {
     "name": "stderr",
     "output_type": "stream",
     "text": [
      "2024-08-18 20:14:00.824710: I tensorflow/core/platform/cpu_feature_guard.cc:182] This TensorFlow binary is optimized to use available CPU instructions in performance-critical operations.\n",
      "To enable the following instructions: AVX2 FMA, in other operations, rebuild TensorFlow with the appropriate compiler flags.\n"
     ]
    }
   ],
   "source": [
    "import numpy as np\n",
    "from tensorflow.keras.preprocessing.sequence import pad_sequences\n",
    "\n",
    "def generate_prefix_windows(df, case_id_column='@@case_index', max_len=None):\n",
    "    windows = []\n",
    "    targets = []\n",
    "    case_indices = []\n",
    "    \n",
    "    for case_id in df[case_id_column].unique():\n",
    "        case_data = df[df[case_id_column] == case_id].drop(columns=[case_id_column]).to_numpy()\n",
    "        \n",
    "        # Optional: Make sure to sort the case data if there's an implicit order (e.g., by timestamps)\n",
    "        # case_data = case_data.sort_values(by='timestamp_column').to_numpy()  # Uncomment and adjust if needed\n",
    "        \n",
    "        for i in range(1, len(case_data)):\n",
    "            window = case_data[:i]\n",
    "            target = case_data[i]\n",
    "            windows.append(window)\n",
    "            targets.append(target)\n",
    "            case_indices.append(case_id)\n",
    "    \n",
    "    if max_len is None:\n",
    "        max_len = max(len(window) for window in windows)\n",
    "    \n",
    "    # Pad sequences\n",
    "    windows_padded = pad_sequences(windows, maxlen=max_len, padding='post', dtype='float32')\n",
    "    \n",
    "    # Convert targets to numpy array\n",
    "    targets_array = np.array(targets, dtype='float32')\n",
    "    case_indices_array = np.array(case_indices)\n",
    "    \n",
    "    return windows_padded, targets_array, case_indices_array"
   ]
  },
  {
   "cell_type": "code",
   "execution_count": 11,
   "metadata": {},
   "outputs": [],
   "source": [
    "windows_id, targets_id, case_indices = generate_prefix_windows(df_id)\n",
    "windows_resource, targets_resource, case_indices = generate_prefix_windows(df_resource)\n",
    "windows_activity, targets_activity, case_indices = generate_prefix_windows(df_activity)\n",
    "windows_role, targets_role, case_indices = generate_prefix_windows(df_role)\n",
    "windows_timestamps, targets_timestamps, case_indices = generate_prefix_windows(df_timestamps)"
   ]
  },
  {
   "cell_type": "markdown",
   "metadata": {},
   "source": [
    "# GRU"
   ]
  },
  {
   "cell_type": "markdown",
   "metadata": {},
   "source": [
    "### Architecture"
   ]
  },
  {
   "cell_type": "markdown",
   "metadata": {},
   "source": [
    "- Separate Inputs for Each Attribute\n",
    "- Each attribute is passed through an embedding layer\n",
    "- Each attribute has its corresponding GRU encoder\n",
    "- Selective Concatenation: After encoding, the outputs of these GRU layers are concatenated. However, this concatenation is selective, meaning it is structured in a way that prepares the data for effective synthesis without leaking information from the future (next event attributes)\n",
    "- Decoder GRUs: Integrated Decoding: Post-concatenation, the combined attributes are processed through decoder GRU layers. These layers are tasked with integrating the data from different attributes and preparing it for final prediction. This step is where BINet v3 distinguishes itself by effectively using the interdependencies between different attributes to enhance prediction accuracy.\n",
    "- Output Layer: Softmax Output for Each Attribute: For each attribute of the next event, a softmax layer predicts a probability distribution over all possible values. This allows the model to output the most likely next event and its attributes based on the learned dependencies and the history encoded by the GRUs.\n",
    "- E: maximum case length\n",
    "- We train BINet with a GRU size of 2E (two times the maximum case length)\n",
    "- on mini batches of size 500 for 20 epochs"
   ]
  },
  {
   "cell_type": "code",
   "execution_count": 12,
   "metadata": {},
   "outputs": [],
   "source": [
    "# Group by the @@case_index column and count the rows in each group\n",
    "case_lengths = dataframe_log.groupby('@@case_index').size()\n",
    "\n",
    "# Find the maximum value among the case lengths\n",
    "E = case_lengths.max()"
   ]
  },
  {
   "cell_type": "code",
   "execution_count": 13,
   "metadata": {},
   "outputs": [
    {
     "name": "stdout",
     "output_type": "stream",
     "text": [
      "Model: \"model\"\n",
      "__________________________________________________________________________________________________\n",
      " Layer (type)                Output Shape                 Param #   Connected to                  \n",
      "==================================================================================================\n",
      " id_input (InputLayer)       [(None, None)]               0         []                            \n",
      "                                                                                                  \n",
      " resource_input (InputLayer  [(None, None)]               0         []                            \n",
      " )                                                                                                \n",
      "                                                                                                  \n",
      " activity_input (InputLayer  [(None, None)]               0         []                            \n",
      " )                                                                                                \n",
      "                                                                                                  \n",
      " role_input (InputLayer)     [(None, None)]               0         []                            \n",
      "                                                                                                  \n",
      " id_embedding (Embedding)    (None, None, 50)             1839850   ['id_input[0][0]']            \n",
      "                                                                                                  \n",
      " resource_embedding (Embedd  (None, None, 50)             150       ['resource_input[0][0]']      \n",
      " ing)                                                                                             \n",
      "                                                                                                  \n",
      " activity_embedding (Embedd  (None, None, 50)             1000      ['activity_input[0][0]']      \n",
      " ing)                                                                                             \n",
      "                                                                                                  \n",
      " role_embedding (Embedding)  (None, None, 50)             450       ['role_input[0][0]']          \n",
      "                                                                                                  \n",
      " timestamp_input (InputLaye  [(None, None, 1)]            0         []                            \n",
      " r)                                                                                               \n",
      "                                                                                                  \n",
      " id_encoder (GRU)            (None, None, 40)             11040     ['id_embedding[0][0]']        \n",
      "                                                                                                  \n",
      " resource_encoder (GRU)      (None, None, 40)             11040     ['resource_embedding[0][0]']  \n",
      "                                                                                                  \n",
      " activity_encoder (GRU)      (None, None, 40)             11040     ['activity_embedding[0][0]']  \n",
      "                                                                                                  \n",
      " role_encoder (GRU)          (None, None, 40)             11040     ['role_embedding[0][0]']      \n",
      "                                                                                                  \n",
      " timestamp_encoder (GRU)     (None, None, 40)             5160      ['timestamp_input[0][0]']     \n",
      "                                                                                                  \n",
      " bn_id (BatchNormalization)  (None, None, 40)             160       ['id_encoder[0][0]']          \n",
      "                                                                                                  \n",
      " bn_resource (BatchNormaliz  (None, None, 40)             160       ['resource_encoder[0][0]']    \n",
      " ation)                                                                                           \n",
      "                                                                                                  \n",
      " bn_activity (BatchNormaliz  (None, None, 40)             160       ['activity_encoder[0][0]']    \n",
      " ation)                                                                                           \n",
      "                                                                                                  \n",
      " bn_role (BatchNormalizatio  (None, None, 40)             160       ['role_encoder[0][0]']        \n",
      " n)                                                                                               \n",
      "                                                                                                  \n",
      " bn_timestamp (BatchNormali  (None, None, 40)             160       ['timestamp_encoder[0][0]']   \n",
      " zation)                                                                                          \n",
      "                                                                                                  \n",
      " concatenate_encodings (Con  (None, None, 200)            0         ['bn_id[0][0]',               \n",
      " catenate)                                                           'bn_resource[0][0]',         \n",
      "                                                                     'bn_activity[0][0]',         \n",
      "                                                                     'bn_role[0][0]',             \n",
      "                                                                     'bn_timestamp[0][0]']        \n",
      "                                                                                                  \n",
      " decoder_gru (GRU)           (None, 40)                   29040     ['concatenate_encodings[0][0]'\n",
      "                                                                    ]                             \n",
      "                                                                                                  \n",
      " dropout (Dropout)           (None, 40)                   0         ['decoder_gru[0][0]']         \n",
      "                                                                                                  \n",
      " output_id (Dense)           (None, 36797)                1508677   ['dropout[0][0]']             \n",
      "                                                                                                  \n",
      " output_resource (Dense)     (None, 3)                    123       ['dropout[0][0]']             \n",
      "                                                                                                  \n",
      " output_activity (Dense)     (None, 20)                   820       ['dropout[0][0]']             \n",
      "                                                                                                  \n",
      " output_role (Dense)         (None, 9)                    369       ['dropout[0][0]']             \n",
      "                                                                                                  \n",
      " output_timestamp (Dense)    (None, 1)                    41        ['dropout[0][0]']             \n",
      "                                                                                                  \n",
      "==================================================================================================\n",
      "Total params: 3430640 (13.09 MB)\n",
      "Trainable params: 3430240 (13.09 MB)\n",
      "Non-trainable params: 400 (1.56 KB)\n",
      "__________________________________________________________________________________________________\n"
     ]
    }
   ],
   "source": [
    "import tensorflow as tf\n",
    "from tensorflow.keras.models import Model\n",
    "from tensorflow.keras.layers import Input, GRU, Embedding, Dense, Dropout, Concatenate, BatchNormalization\n",
    "\n",
    "def create_binet_v4(num_ids, num_resources, num_activities, num_roles, embedding_dim, gru_units, dropout_rate):\n",
    "    # Input layers for each attribute\n",
    "    input_id = Input(shape=(None,), name='id_input')\n",
    "    input_resource = Input(shape=(None,), name='resource_input')\n",
    "    input_activity = Input(shape=(None,), name='activity_input')\n",
    "    input_role = Input(shape=(None,), name='role_input')\n",
    "    input_timestamp = Input(shape=(None, 1), name='timestamp_input')  # Continuous input\n",
    "\n",
    "    # Embedding layers for categorical attributes\n",
    "    embedding_id = Embedding(input_dim=num_ids + 1, output_dim=embedding_dim, mask_zero=True, name='id_embedding')(input_id)\n",
    "    embedding_resource = Embedding(input_dim=num_resources + 1, output_dim=embedding_dim, mask_zero=True, name='resource_embedding')(input_resource)\n",
    "    embedding_activity = Embedding(input_dim=num_activities + 1, output_dim=embedding_dim, mask_zero=True, name='activity_embedding')(input_activity)\n",
    "    embedding_role = Embedding(input_dim=num_roles + 1, output_dim=embedding_dim, mask_zero=True, name='role_embedding')(input_role)\n",
    "\n",
    "    # Encoder GRUs with Batch Normalization for categorical attributes\n",
    "    encoded_id = GRU(units=gru_units, return_sequences=True, name='id_encoder')(embedding_id)\n",
    "    bn_id = BatchNormalization(name='bn_id')(encoded_id)\n",
    "    encoded_resource = GRU(units=gru_units, return_sequences=True, name='resource_encoder')(embedding_resource)\n",
    "    bn_resource = BatchNormalization(name='bn_resource')(encoded_resource)\n",
    "    encoded_activity = GRU(units=gru_units, return_sequences=True, name='activity_encoder')(embedding_activity)\n",
    "    bn_activity = BatchNormalization(name='bn_activity')(encoded_activity)\n",
    "    encoded_role = GRU(units=gru_units, return_sequences=True, name='role_encoder')(embedding_role)\n",
    "    bn_role = BatchNormalization(name='bn_role')(encoded_role)\n",
    "\n",
    "    # Encoder GRU with Batch Normalization for continuous attribute\n",
    "    encoded_timestamp = GRU(units=gru_units, return_sequences=True, name='timestamp_encoder')(input_timestamp)\n",
    "    bn_timestamp = BatchNormalization(name='bn_timestamp')(encoded_timestamp)\n",
    "\n",
    "    # Concatenation of encoded outputs\n",
    "    concatenated = Concatenate(name='concatenate_encodings')([bn_id, bn_resource, bn_activity, bn_role, bn_timestamp])\n",
    "\n",
    "    # Decoder GRU\n",
    "    decoder_output = GRU(units=gru_units, return_sequences=False, name='decoder_gru')(concatenated)\n",
    "    dropout_layer = Dropout(rate=dropout_rate, name='dropout')(decoder_output)\n",
    "\n",
    "    # Output layers for predicting the next event's attributes\n",
    "    output_id = Dense(num_ids + 1, activation='softmax', name='output_id')(dropout_layer)\n",
    "    output_resource = Dense(num_resources + 1, activation='softmax', name='output_resource')(dropout_layer)\n",
    "    output_activity = Dense(num_activities + 1, activation='softmax', name='output_activity')(dropout_layer)\n",
    "    output_role = Dense(num_roles + 1, activation='softmax', name='output_role')(dropout_layer)\n",
    "    output_timestamp = Dense(1, activation='linear', name='output_timestamp')(dropout_layer)  # Linear activation for continuous output\n",
    "\n",
    "    # Building the model\n",
    "    model = Model(inputs=[input_id, input_resource, input_activity, input_role, input_timestamp], \n",
    "                  outputs=[output_id, output_resource, output_activity, output_role, output_timestamp])\n",
    "    model.compile(\n",
    "        optimizer='adam', \n",
    "        loss={\n",
    "            'output_id': 'categorical_crossentropy', \n",
    "            'output_resource': 'categorical_crossentropy', \n",
    "            'output_activity': 'categorical_crossentropy', \n",
    "            'output_role': 'categorical_crossentropy', \n",
    "            'output_timestamp': 'mean_squared_error'\n",
    "        },\n",
    "        metrics={\n",
    "            'output_id': ['accuracy'], \n",
    "            'output_resource': ['accuracy'], \n",
    "            'output_activity': ['accuracy'], \n",
    "            'output_role': ['accuracy'], \n",
    "            'output_timestamp': ['mean_squared_error']\n",
    "        }\n",
    "    )\n",
    "\n",
    "    return model\n",
    "\n",
    "# Parameters\n",
    "gru_units = int(2 * E)\n",
    "num_ids = dataframe_log['id'].nunique()\n",
    "num_resources = dataframe_log['org:resource'].nunique()\n",
    "num_activities = dataframe_log['concept:name'].nunique()\n",
    "num_roles = dataframe_log['org:role'].nunique()\n",
    "embedding_dim = 50\n",
    "dropout_rate = 0.2\n",
    "model = create_binet_v4(num_ids, num_resources, num_activities, num_roles, embedding_dim, gru_units, dropout_rate)\n",
    "model.summary()"
   ]
  },
  {
   "cell_type": "markdown",
   "metadata": {},
   "source": [
    "### Data Splitting"
   ]
  },
  {
   "cell_type": "code",
   "execution_count": 14,
   "metadata": {},
   "outputs": [],
   "source": [
    "from sklearn.model_selection import train_test_split\n",
    "\n",
    "# Splitting the dataset for the new attributes\n",
    "train_id, test_id, train_targets_id, test_targets_id = train_test_split(\n",
    "    windows_id, targets_id, test_size=0.3, random_state=42)\n",
    "\n",
    "train_resource, test_resource, train_targets_resource, test_targets_resource = train_test_split(\n",
    "    windows_resource, targets_resource, test_size=0.3, random_state=42)\n",
    "\n",
    "train_activity, test_activity, train_targets_activity, test_targets_activity = train_test_split(\n",
    "    windows_activity, targets_activity, test_size=0.3, random_state=42)\n",
    "\n",
    "train_role, test_role, train_targets_role, test_targets_role = train_test_split(\n",
    "    windows_role, targets_role, test_size=0.3, random_state=42)\n",
    "\n",
    "train_timestamp, test_timestamp, train_targets_timestamp, test_targets_timestamp = train_test_split(\n",
    "    windows_timestamps, targets_timestamps, test_size=0.3, random_state=42)"
   ]
  },
  {
   "cell_type": "markdown",
   "metadata": {},
   "source": [
    "### Training"
   ]
  },
  {
   "cell_type": "code",
   "execution_count": 15,
   "metadata": {},
   "outputs": [],
   "source": [
    "from tensorflow.keras.utils import to_categorical\n",
    "\n",
    "# Convert categorical targets to one-hot encoded format\n",
    "train_targets_id_cat = to_categorical(train_targets_id, num_classes=num_ids + 1)\n",
    "test_targets_id_cat = to_categorical(test_targets_id, num_classes=num_ids + 1)\n",
    "\n",
    "train_targets_resource_cat = to_categorical(train_targets_resource, num_classes=num_resources + 1)\n",
    "test_targets_resource_cat = to_categorical(test_targets_resource, num_classes=num_resources + 1)\n",
    "\n",
    "train_targets_activity_cat = to_categorical(train_targets_activity, num_classes=num_activities + 1)\n",
    "test_targets_activity_cat = to_categorical(test_targets_activity, num_classes=num_activities + 1)\n",
    "\n",
    "train_targets_role_cat = to_categorical(train_targets_role, num_classes=num_roles + 1)\n",
    "test_targets_role_cat = to_categorical(test_targets_role, num_classes=num_roles + 1)"
   ]
  },
  {
   "cell_type": "code",
   "execution_count": 16,
   "metadata": {},
   "outputs": [
    {
     "name": "stdout",
     "output_type": "stream",
     "text": [
      "Epoch 1/20\n",
      "42/42 [==============================] - 73s 1s/step - loss: 14.7525 - output_id_loss: 10.5496 - output_resource_loss: 0.3961 - output_activity_loss: 1.8659 - output_role_loss: 1.2457 - output_timestamp_loss: 0.6951 - output_id_accuracy: 0.0000e+00 - output_resource_accuracy: 0.8804 - output_activity_accuracy: 0.6211 - output_role_accuracy: 0.6476 - output_timestamp_mean_squared_error: 0.6951 - val_loss: 16.8865 - val_output_id_loss: 10.5458 - val_output_resource_loss: 0.8150 - val_output_activity_loss: 2.6648 - val_output_role_loss: 1.8139 - val_output_timestamp_loss: 1.0470 - val_output_id_accuracy: 0.0000e+00 - val_output_resource_accuracy: 0.9931 - val_output_activity_accuracy: 0.4514 - val_output_role_accuracy: 0.7944 - val_output_timestamp_mean_squared_error: 1.0470\n",
      "Epoch 2/20\n",
      "42/42 [==============================] - 39s 928ms/step - loss: 12.3572 - output_id_loss: 10.3172 - output_resource_loss: 0.0612 - output_activity_loss: 0.8088 - output_role_loss: 0.5225 - output_timestamp_loss: 0.6475 - output_id_accuracy: 0.0000e+00 - output_resource_accuracy: 0.9930 - output_activity_accuracy: 0.8154 - output_role_accuracy: 0.8590 - output_timestamp_mean_squared_error: 0.6475 - val_loss: 16.3330 - val_output_id_loss: 10.6436 - val_output_resource_loss: 0.6789 - val_output_activity_loss: 2.4101 - val_output_role_loss: 1.5856 - val_output_timestamp_loss: 1.0147 - val_output_id_accuracy: 0.0000e+00 - val_output_resource_accuracy: 0.9776 - val_output_activity_accuracy: 0.5800 - val_output_role_accuracy: 0.8249 - val_output_timestamp_mean_squared_error: 1.0147\n",
      "Epoch 3/20\n",
      "42/42 [==============================] - 38s 923ms/step - loss: 11.6217 - output_id_loss: 10.0479 - output_resource_loss: 0.0355 - output_activity_loss: 0.5676 - output_role_loss: 0.3663 - output_timestamp_loss: 0.6043 - output_id_accuracy: 4.7762e-05 - output_resource_accuracy: 0.9957 - output_activity_accuracy: 0.8540 - output_role_accuracy: 0.8941 - output_timestamp_mean_squared_error: 0.6043 - val_loss: 15.8371 - val_output_id_loss: 10.7747 - val_output_resource_loss: 0.5274 - val_output_activity_loss: 2.1729 - val_output_role_loss: 1.3952 - val_output_timestamp_loss: 0.9668 - val_output_id_accuracy: 0.0000e+00 - val_output_resource_accuracy: 0.9775 - val_output_activity_accuracy: 0.6289 - val_output_role_accuracy: 0.8376 - val_output_timestamp_mean_squared_error: 0.9668\n",
      "Epoch 4/20\n",
      "42/42 [==============================] - 41s 994ms/step - loss: 11.0734 - output_id_loss: 9.8442 - output_resource_loss: 0.0250 - output_activity_loss: 0.4144 - output_role_loss: 0.2382 - output_timestamp_loss: 0.5516 - output_id_accuracy: 9.5525e-05 - output_resource_accuracy: 0.9972 - output_activity_accuracy: 0.9046 - output_role_accuracy: 0.9414 - output_timestamp_mean_squared_error: 0.5516 - val_loss: 15.3011 - val_output_id_loss: 10.9770 - val_output_resource_loss: 0.3823 - val_output_activity_loss: 1.8699 - val_output_role_loss: 1.1706 - val_output_timestamp_loss: 0.9013 - val_output_id_accuracy: 0.0000e+00 - val_output_resource_accuracy: 0.9590 - val_output_activity_accuracy: 0.6559 - val_output_role_accuracy: 0.8395 - val_output_timestamp_mean_squared_error: 0.9013\n",
      "Epoch 5/20\n",
      "42/42 [==============================] - 36s 854ms/step - loss: 10.6286 - output_id_loss: 9.6718 - output_resource_loss: 0.0186 - output_activity_loss: 0.2812 - output_role_loss: 0.1328 - output_timestamp_loss: 0.5242 - output_id_accuracy: 2.3881e-04 - output_resource_accuracy: 0.9976 - output_activity_accuracy: 0.9364 - output_role_accuracy: 0.9725 - output_timestamp_mean_squared_error: 0.5242 - val_loss: 14.7847 - val_output_id_loss: 11.2495 - val_output_resource_loss: 0.2583 - val_output_activity_loss: 1.4964 - val_output_role_loss: 0.9064 - val_output_timestamp_loss: 0.8740 - val_output_id_accuracy: 0.0000e+00 - val_output_resource_accuracy: 0.9630 - val_output_activity_accuracy: 0.8110 - val_output_role_accuracy: 0.8683 - val_output_timestamp_mean_squared_error: 0.8740\n",
      "Epoch 6/20\n",
      "42/42 [==============================] - 41s 977ms/step - loss: 10.3340 - output_id_loss: 9.5141 - output_resource_loss: 0.0145 - output_activity_loss: 0.2117 - output_role_loss: 0.0888 - output_timestamp_loss: 0.5048 - output_id_accuracy: 3.8210e-04 - output_resource_accuracy: 0.9985 - output_activity_accuracy: 0.9454 - output_role_accuracy: 0.9807 - output_timestamp_mean_squared_error: 0.5048 - val_loss: 14.3076 - val_output_id_loss: 11.5719 - val_output_resource_loss: 0.1419 - val_output_activity_loss: 1.1081 - val_output_role_loss: 0.6650 - val_output_timestamp_loss: 0.8207 - val_output_id_accuracy: 0.0000e+00 - val_output_resource_accuracy: 0.9843 - val_output_activity_accuracy: 0.8354 - val_output_role_accuracy: 0.8766 - val_output_timestamp_mean_squared_error: 0.8207\n",
      "Epoch 7/20\n",
      "42/42 [==============================] - 38s 914ms/step - loss: 10.0864 - output_id_loss: 9.3742 - output_resource_loss: 0.0127 - output_activity_loss: 0.1631 - output_role_loss: 0.0663 - output_timestamp_loss: 0.4700 - output_id_accuracy: 4.7762e-04 - output_resource_accuracy: 0.9986 - output_activity_accuracy: 0.9598 - output_role_accuracy: 0.9872 - output_timestamp_mean_squared_error: 0.4700 - val_loss: 14.0104 - val_output_id_loss: 11.9074 - val_output_resource_loss: 0.0673 - val_output_activity_loss: 0.7873 - val_output_role_loss: 0.4870 - val_output_timestamp_loss: 0.7613 - val_output_id_accuracy: 0.0000e+00 - val_output_resource_accuracy: 0.9935 - val_output_activity_accuracy: 0.8390 - val_output_role_accuracy: 0.8786 - val_output_timestamp_mean_squared_error: 0.7613\n",
      "Epoch 8/20\n",
      "42/42 [==============================] - 42s 1s/step - loss: 9.8882 - output_id_loss: 9.2483 - output_resource_loss: 0.0107 - output_activity_loss: 0.1294 - output_role_loss: 0.0491 - output_timestamp_loss: 0.4507 - output_id_accuracy: 5.2539e-04 - output_resource_accuracy: 0.9987 - output_activity_accuracy: 0.9722 - output_role_accuracy: 0.9926 - output_timestamp_mean_squared_error: 0.4507 - val_loss: 14.0418 - val_output_id_loss: 12.2822 - val_output_resource_loss: 0.0314 - val_output_activity_loss: 0.6124 - val_output_role_loss: 0.4063 - val_output_timestamp_loss: 0.7095 - val_output_id_accuracy: 0.0000e+00 - val_output_resource_accuracy: 0.9969 - val_output_activity_accuracy: 0.8374 - val_output_role_accuracy: 0.8785 - val_output_timestamp_mean_squared_error: 0.7095\n",
      "Epoch 9/20\n",
      "42/42 [==============================] - 39s 922ms/step - loss: 9.7198 - output_id_loss: 9.1319 - output_resource_loss: 0.0096 - output_activity_loss: 0.1048 - output_role_loss: 0.0402 - output_timestamp_loss: 0.4333 - output_id_accuracy: 0.0012 - output_resource_accuracy: 0.9991 - output_activity_accuracy: 0.9810 - output_role_accuracy: 0.9940 - output_timestamp_mean_squared_error: 0.4333 - val_loss: 14.1910 - val_output_id_loss: 12.5529 - val_output_resource_loss: 0.0172 - val_output_activity_loss: 0.5618 - val_output_role_loss: 0.4022 - val_output_timestamp_loss: 0.6569 - val_output_id_accuracy: 0.0000e+00 - val_output_resource_accuracy: 0.9980 - val_output_activity_accuracy: 0.8278 - val_output_role_accuracy: 0.8767 - val_output_timestamp_mean_squared_error: 0.6569\n",
      "Epoch 10/20\n",
      "42/42 [==============================] - 42s 1s/step - loss: 9.5808 - output_id_loss: 9.0254 - output_resource_loss: 0.0086 - output_activity_loss: 0.0893 - output_role_loss: 0.0352 - output_timestamp_loss: 0.4223 - output_id_accuracy: 0.0013 - output_resource_accuracy: 0.9992 - output_activity_accuracy: 0.9838 - output_role_accuracy: 0.9947 - output_timestamp_mean_squared_error: 0.4223 - val_loss: 14.3948 - val_output_id_loss: 12.7795 - val_output_resource_loss: 0.0135 - val_output_activity_loss: 0.5572 - val_output_role_loss: 0.4213 - val_output_timestamp_loss: 0.6233 - val_output_id_accuracy: 0.0000e+00 - val_output_resource_accuracy: 0.9980 - val_output_activity_accuracy: 0.8122 - val_output_role_accuracy: 0.8684 - val_output_timestamp_mean_squared_error: 0.6233\n",
      "Epoch 11/20\n",
      "42/42 [==============================] - 33s 790ms/step - loss: 9.4533 - output_id_loss: 8.9251 - output_resource_loss: 0.0083 - output_activity_loss: 0.0771 - output_role_loss: 0.0296 - output_timestamp_loss: 0.4132 - output_id_accuracy: 0.0023 - output_resource_accuracy: 0.9988 - output_activity_accuracy: 0.9867 - output_role_accuracy: 0.9955 - output_timestamp_mean_squared_error: 0.4132 - val_loss: 14.6605 - val_output_id_loss: 13.0139 - val_output_resource_loss: 0.0131 - val_output_activity_loss: 0.5931 - val_output_role_loss: 0.4669 - val_output_timestamp_loss: 0.5735 - val_output_id_accuracy: 0.0000e+00 - val_output_resource_accuracy: 0.9975 - val_output_activity_accuracy: 0.7961 - val_output_role_accuracy: 0.8562 - val_output_timestamp_mean_squared_error: 0.5735\n",
      "Epoch 12/20\n",
      "42/42 [==============================] - 46s 1s/step - loss: 9.3428 - output_id_loss: 8.8294 - output_resource_loss: 0.0077 - output_activity_loss: 0.0693 - output_role_loss: 0.0275 - output_timestamp_loss: 0.4089 - output_id_accuracy: 0.0024 - output_resource_accuracy: 0.9990 - output_activity_accuracy: 0.9881 - output_role_accuracy: 0.9955 - output_timestamp_mean_squared_error: 0.4089 - val_loss: 14.8246 - val_output_id_loss: 13.1110 - val_output_resource_loss: 0.0136 - val_output_activity_loss: 0.6422 - val_output_role_loss: 0.5164 - val_output_timestamp_loss: 0.5414 - val_output_id_accuracy: 0.0000e+00 - val_output_resource_accuracy: 0.9974 - val_output_activity_accuracy: 0.7894 - val_output_role_accuracy: 0.8548 - val_output_timestamp_mean_squared_error: 0.5414\n",
      "Epoch 13/20\n",
      "42/42 [==============================] - 33s 786ms/step - loss: 9.2482 - output_id_loss: 8.7393 - output_resource_loss: 0.0073 - output_activity_loss: 0.0638 - output_role_loss: 0.0255 - output_timestamp_loss: 0.4123 - output_id_accuracy: 0.0033 - output_resource_accuracy: 0.9991 - output_activity_accuracy: 0.9888 - output_role_accuracy: 0.9960 - output_timestamp_mean_squared_error: 0.4123 - val_loss: 15.0816 - val_output_id_loss: 13.2725 - val_output_resource_loss: 0.0150 - val_output_activity_loss: 0.7032 - val_output_role_loss: 0.5665 - val_output_timestamp_loss: 0.5244 - val_output_id_accuracy: 0.0000e+00 - val_output_resource_accuracy: 0.9972 - val_output_activity_accuracy: 0.7830 - val_output_role_accuracy: 0.8533 - val_output_timestamp_mean_squared_error: 0.5244\n",
      "Epoch 14/20\n",
      "42/42 [==============================] - 34s 817ms/step - loss: 9.1493 - output_id_loss: 8.6548 - output_resource_loss: 0.0069 - output_activity_loss: 0.0585 - output_role_loss: 0.0230 - output_timestamp_loss: 0.4063 - output_id_accuracy: 0.0045 - output_resource_accuracy: 0.9991 - output_activity_accuracy: 0.9889 - output_role_accuracy: 0.9969 - output_timestamp_mean_squared_error: 0.4063 - val_loss: 15.2778 - val_output_id_loss: 13.3857 - val_output_resource_loss: 0.0155 - val_output_activity_loss: 0.7528 - val_output_role_loss: 0.6107 - val_output_timestamp_loss: 0.5131 - val_output_id_accuracy: 0.0000e+00 - val_output_resource_accuracy: 0.9973 - val_output_activity_accuracy: 0.7815 - val_output_role_accuracy: 0.8462 - val_output_timestamp_mean_squared_error: 0.5131\n",
      "Epoch 15/20\n",
      "42/42 [==============================] - 35s 837ms/step - loss: 9.0539 - output_id_loss: 8.5700 - output_resource_loss: 0.0070 - output_activity_loss: 0.0539 - output_role_loss: 0.0212 - output_timestamp_loss: 0.4019 - output_id_accuracy: 0.0056 - output_resource_accuracy: 0.9986 - output_activity_accuracy: 0.9897 - output_role_accuracy: 0.9966 - output_timestamp_mean_squared_error: 0.4019 - val_loss: 15.4308 - val_output_id_loss: 13.4489 - val_output_resource_loss: 0.0168 - val_output_activity_loss: 0.8072 - val_output_role_loss: 0.6470 - val_output_timestamp_loss: 0.5108 - val_output_id_accuracy: 0.0000e+00 - val_output_resource_accuracy: 0.9973 - val_output_activity_accuracy: 0.7776 - val_output_role_accuracy: 0.8473 - val_output_timestamp_mean_squared_error: 0.5108\n",
      "Epoch 16/20\n",
      "42/42 [==============================] - 43s 1s/step - loss: 8.9718 - output_id_loss: 8.4918 - output_resource_loss: 0.0067 - output_activity_loss: 0.0507 - output_role_loss: 0.0212 - output_timestamp_loss: 0.4013 - output_id_accuracy: 0.0066 - output_resource_accuracy: 0.9986 - output_activity_accuracy: 0.9901 - output_role_accuracy: 0.9966 - output_timestamp_mean_squared_error: 0.4013 - val_loss: 15.5914 - val_output_id_loss: 13.5522 - val_output_resource_loss: 0.0171 - val_output_activity_loss: 0.8320 - val_output_role_loss: 0.6795 - val_output_timestamp_loss: 0.5107 - val_output_id_accuracy: 0.0000e+00 - val_output_resource_accuracy: 0.9974 - val_output_activity_accuracy: 0.7846 - val_output_role_accuracy: 0.8471 - val_output_timestamp_mean_squared_error: 0.5107\n",
      "Epoch 17/20\n",
      "42/42 [==============================] - 35s 827ms/step - loss: 8.8784 - output_id_loss: 8.4143 - output_resource_loss: 0.0061 - output_activity_loss: 0.0453 - output_role_loss: 0.0190 - output_timestamp_loss: 0.3938 - output_id_accuracy: 0.0083 - output_resource_accuracy: 0.9989 - output_activity_accuracy: 0.9920 - output_role_accuracy: 0.9969 - output_timestamp_mean_squared_error: 0.3938 - val_loss: 15.7698 - val_output_id_loss: 13.6661 - val_output_resource_loss: 0.0179 - val_output_activity_loss: 0.8679 - val_output_role_loss: 0.7088 - val_output_timestamp_loss: 0.5090 - val_output_id_accuracy: 0.0000e+00 - val_output_resource_accuracy: 0.9973 - val_output_activity_accuracy: 0.7811 - val_output_role_accuracy: 0.8431 - val_output_timestamp_mean_squared_error: 0.5090\n",
      "Epoch 18/20\n",
      "42/42 [==============================] - 42s 1s/step - loss: 8.8060 - output_id_loss: 8.3399 - output_resource_loss: 0.0057 - output_activity_loss: 0.0438 - output_role_loss: 0.0185 - output_timestamp_loss: 0.3981 - output_id_accuracy: 0.0096 - output_resource_accuracy: 0.9991 - output_activity_accuracy: 0.9916 - output_role_accuracy: 0.9973 - output_timestamp_mean_squared_error: 0.3981 - val_loss: 15.9000 - val_output_id_loss: 13.7450 - val_output_resource_loss: 0.0178 - val_output_activity_loss: 0.8972 - val_output_role_loss: 0.7286 - val_output_timestamp_loss: 0.5114 - val_output_id_accuracy: 0.0000e+00 - val_output_resource_accuracy: 0.9974 - val_output_activity_accuracy: 0.7885 - val_output_role_accuracy: 0.8482 - val_output_timestamp_mean_squared_error: 0.5114\n",
      "Epoch 19/20\n",
      "42/42 [==============================] - 38s 899ms/step - loss: 8.7297 - output_id_loss: 8.2686 - output_resource_loss: 0.0053 - output_activity_loss: 0.0422 - output_role_loss: 0.0175 - output_timestamp_loss: 0.3960 - output_id_accuracy: 0.0113 - output_resource_accuracy: 0.9994 - output_activity_accuracy: 0.9912 - output_role_accuracy: 0.9974 - output_timestamp_mean_squared_error: 0.3960 - val_loss: 16.0243 - val_output_id_loss: 13.8424 - val_output_resource_loss: 0.0180 - val_output_activity_loss: 0.9102 - val_output_role_loss: 0.7453 - val_output_timestamp_loss: 0.5084 - val_output_id_accuracy: 0.0000e+00 - val_output_resource_accuracy: 0.9972 - val_output_activity_accuracy: 0.7855 - val_output_role_accuracy: 0.8455 - val_output_timestamp_mean_squared_error: 0.5084\n",
      "Epoch 20/20\n",
      "42/42 [==============================] - 43s 1s/step - loss: 8.6533 - output_id_loss: 8.2018 - output_resource_loss: 0.0053 - output_activity_loss: 0.0385 - output_role_loss: 0.0172 - output_timestamp_loss: 0.3904 - output_id_accuracy: 0.0119 - output_resource_accuracy: 0.9991 - output_activity_accuracy: 0.9924 - output_role_accuracy: 0.9970 - output_timestamp_mean_squared_error: 0.3904 - val_loss: 16.1591 - val_output_id_loss: 13.9153 - val_output_resource_loss: 0.0182 - val_output_activity_loss: 0.9421 - val_output_role_loss: 0.7718 - val_output_timestamp_loss: 0.5118 - val_output_id_accuracy: 0.0000e+00 - val_output_resource_accuracy: 0.9974 - val_output_activity_accuracy: 0.7858 - val_output_role_accuracy: 0.8450 - val_output_timestamp_mean_squared_error: 0.5118\n"
     ]
    }
   ],
   "source": [
    "# Fit the model with the properly shaped targets\n",
    "history = model.fit(\n",
    "    [train_id, train_resource, train_activity, train_role, train_timestamp],\n",
    "    [train_targets_id_cat, train_targets_resource_cat, train_targets_activity_cat, train_targets_role_cat, train_targets_timestamp],\n",
    "    validation_data=(\n",
    "        [test_id, test_resource, test_activity, test_role, test_timestamp],\n",
    "        [test_targets_id_cat, test_targets_resource_cat, test_targets_activity_cat, test_targets_role_cat, test_targets_timestamp]\n",
    "    ),\n",
    "    epochs=20,\n",
    "    batch_size=500\n",
    ")"
   ]
  },
  {
   "cell_type": "code",
   "execution_count": 17,
   "metadata": {},
   "outputs": [
    {
     "name": "stdout",
     "output_type": "stream",
     "text": [
      "141/141 [==============================] - 8s 56ms/step - loss: 16.1591 - output_id_loss: 13.9153 - output_resource_loss: 0.0182 - output_activity_loss: 0.9421 - output_role_loss: 0.7718 - output_timestamp_loss: 0.5118 - output_id_accuracy: 0.0000e+00 - output_resource_accuracy: 0.9974 - output_activity_accuracy: 0.7858 - output_role_accuracy: 0.8450 - output_timestamp_mean_squared_error: 0.5118\n",
      "[16.159147262573242, 13.915314674377441, 0.018206624314188957, 0.9420536756515503, 0.7717511653900146, 0.5118198394775391, 0.0, 0.9974367618560791, 0.7858018279075623, 0.8449794054031372, 0.5118198394775391]\n"
     ]
    }
   ],
   "source": [
    "# Evaluate the model on the validation set\n",
    "evaluation = model.evaluate(\n",
    "    [test_id, test_resource, test_activity, test_role, test_timestamp],\n",
    "    [test_targets_id_cat, test_targets_resource_cat, test_targets_activity_cat, test_targets_role_cat, test_targets_timestamp],\n",
    "    batch_size=64\n",
    ")\n",
    "\n",
    "print(evaluation)"
   ]
  },
  {
   "cell_type": "markdown",
   "metadata": {},
   "source": [
    "# Anomaly Score Computation"
   ]
  },
  {
   "cell_type": "markdown",
   "metadata": {},
   "source": [
    "- For each event attribute, BINet's softmax layer outputs a probability distribution over possible values\n",
    "- The anomaly score for a specific attribute value v is calculated by summing all the probabilities from the softmax output that are greater than the probability assigned to v"
   ]
  },
  {
   "cell_type": "markdown",
   "metadata": {},
   "source": [
    "- NOTE: Do not include ID because no learning through GRU"
   ]
  },
  {
   "cell_type": "code",
   "execution_count": 18,
   "metadata": {},
   "outputs": [
    {
     "name": "stdout",
     "output_type": "stream",
     "text": [
      "935/935 [==============================] - 31s 20ms/step\n"
     ]
    }
   ],
   "source": [
    "# Generate predictions for all inputs\n",
    "predictions = model.predict([windows_id, windows_resource, windows_activity, windows_role, windows_timestamps])\n",
    "\n",
    "# Extract predictions for each attribute\n",
    "# Assuming the order of outputs in the model is: id, resource, activity, role, timestamp\n",
    "predictions_id = predictions[0]        # ID predictions (categorical)\n",
    "predictions_resource = predictions[1]  # Resource predictions (categorical)\n",
    "predictions_activity = predictions[2]  # Activity predictions (categorical)\n",
    "predictions_role = predictions[3]      # Role predictions (categorical)\n",
    "predictions_timestamp = predictions[4] # Timestamp predictions (continuous)"
   ]
  },
  {
   "cell_type": "code",
   "execution_count": 19,
   "metadata": {},
   "outputs": [],
   "source": [
    "import numpy as np\n",
    "\n",
    "def calculate_anomaly_scores(predictions, targets):\n",
    "    scores = []\n",
    "    # Loop through each example in the predictions\n",
    "    for i in range(predictions.shape[0]):\n",
    "        actual_prob = predictions[i, targets[i]]  # Extract the probability of the true class using target index\n",
    "        # Calculate anomaly score as sum of probabilities greater than the probability of the actual value\n",
    "        anomaly_score = np.sum(predictions[i][predictions[i] > actual_prob])\n",
    "        scores.append(anomaly_score)\n",
    "\n",
    "    return scores"
   ]
  },
  {
   "cell_type": "code",
   "execution_count": 20,
   "metadata": {},
   "outputs": [],
   "source": [
    "anomaly_scores_resource = calculate_anomaly_scores(predictions_resource, targets_resource.astype(int))\n",
    "anomaly_scores_activity = calculate_anomaly_scores(predictions_activity, targets_activity.astype(int))\n",
    "anomaly_scores_role = calculate_anomaly_scores(predictions_role, targets_role.astype(int))"
   ]
  },
  {
   "cell_type": "code",
   "execution_count": 68,
   "metadata": {},
   "outputs": [
    {
     "data": {
      "text/plain": [
       "0        0.056488\n",
       "1        0.000000\n",
       "2        0.000000\n",
       "3        0.927097\n",
       "4        0.000000\n",
       "           ...   \n",
       "29977    0.000000\n",
       "29978    0.000000\n",
       "29979    0.000000\n",
       "29980    0.000000\n",
       "29981    0.000000\n",
       "Name: score_activity, Length: 29982, dtype: float64"
      ]
     },
     "execution_count": 68,
     "metadata": {},
     "output_type": "execute_result"
    }
   ],
   "source": [
    "anomaly_scores_activity"
   ]
  },
  {
   "cell_type": "code",
   "execution_count": 21,
   "metadata": {},
   "outputs": [],
   "source": [
    "def compute_anomaly_scores_continuous(predictions, actuals):\n",
    "    # Calculate absolute differences\n",
    "    differences = np.abs(predictions - actuals)\n",
    "    \n",
    "    # Normalize to [0, 1] range\n",
    "    max_diff = np.max(differences)\n",
    "    normalized_scores = differences / max_diff if max_diff != 0 else differences\n",
    "    \n",
    "    return normalized_scores"
   ]
  },
  {
   "cell_type": "code",
   "execution_count": 22,
   "metadata": {},
   "outputs": [],
   "source": [
    "anomaly_scores_timestamp = compute_anomaly_scores_continuous(predictions_timestamp, targets_timestamps)\n",
    "anomaly_scores_timestamp = anomaly_scores_timestamp.flatten()\n",
    "anomaly_scores_timestamp = anomaly_scores_timestamp.tolist()"
   ]
  },
  {
   "cell_type": "markdown",
   "metadata": {},
   "source": [
    "## Insert missing scores for cases with less than 2 Events"
   ]
  },
  {
   "cell_type": "code",
   "execution_count": 23,
   "metadata": {},
   "outputs": [
    {
     "data": {
      "text/html": [
       "<div>\n",
       "<style scoped>\n",
       "    .dataframe tbody tr th:only-of-type {\n",
       "        vertical-align: middle;\n",
       "    }\n",
       "\n",
       "    .dataframe tbody tr th {\n",
       "        vertical-align: top;\n",
       "    }\n",
       "\n",
       "    .dataframe thead th {\n",
       "        text-align: right;\n",
       "    }\n",
       "</style>\n",
       "<table border=\"1\" class=\"dataframe\">\n",
       "  <thead>\n",
       "    <tr style=\"text-align: right;\">\n",
       "      <th></th>\n",
       "      <th>case</th>\n",
       "      <th>score_resource</th>\n",
       "      <th>score_activity</th>\n",
       "      <th>score_role</th>\n",
       "      <th>score_timestamp</th>\n",
       "    </tr>\n",
       "  </thead>\n",
       "  <tbody>\n",
       "    <tr>\n",
       "      <th>0</th>\n",
       "      <td>0</td>\n",
       "      <td>0.0</td>\n",
       "      <td>0.056488</td>\n",
       "      <td>0.128167</td>\n",
       "      <td>0.029750</td>\n",
       "    </tr>\n",
       "    <tr>\n",
       "      <th>1</th>\n",
       "      <td>0</td>\n",
       "      <td>0.0</td>\n",
       "      <td>0.000000</td>\n",
       "      <td>0.000000</td>\n",
       "      <td>0.009542</td>\n",
       "    </tr>\n",
       "    <tr>\n",
       "      <th>2</th>\n",
       "      <td>0</td>\n",
       "      <td>0.0</td>\n",
       "      <td>0.000000</td>\n",
       "      <td>0.000000</td>\n",
       "      <td>0.010374</td>\n",
       "    </tr>\n",
       "    <tr>\n",
       "      <th>3</th>\n",
       "      <td>0</td>\n",
       "      <td>0.0</td>\n",
       "      <td>0.927097</td>\n",
       "      <td>0.880516</td>\n",
       "      <td>0.030123</td>\n",
       "    </tr>\n",
       "    <tr>\n",
       "      <th>4</th>\n",
       "      <td>0</td>\n",
       "      <td>0.0</td>\n",
       "      <td>0.000000</td>\n",
       "      <td>0.000000</td>\n",
       "      <td>0.006527</td>\n",
       "    </tr>\n",
       "    <tr>\n",
       "      <th>...</th>\n",
       "      <td>...</td>\n",
       "      <td>...</td>\n",
       "      <td>...</td>\n",
       "      <td>...</td>\n",
       "      <td>...</td>\n",
       "    </tr>\n",
       "    <tr>\n",
       "      <th>29905</th>\n",
       "      <td>6885</td>\n",
       "      <td>0.0</td>\n",
       "      <td>0.000000</td>\n",
       "      <td>0.000000</td>\n",
       "      <td>0.009578</td>\n",
       "    </tr>\n",
       "    <tr>\n",
       "      <th>29906</th>\n",
       "      <td>6885</td>\n",
       "      <td>0.0</td>\n",
       "      <td>0.000000</td>\n",
       "      <td>0.000000</td>\n",
       "      <td>0.002501</td>\n",
       "    </tr>\n",
       "    <tr>\n",
       "      <th>29907</th>\n",
       "      <td>6885</td>\n",
       "      <td>0.0</td>\n",
       "      <td>0.000000</td>\n",
       "      <td>0.000000</td>\n",
       "      <td>0.016732</td>\n",
       "    </tr>\n",
       "    <tr>\n",
       "      <th>29908</th>\n",
       "      <td>6885</td>\n",
       "      <td>0.0</td>\n",
       "      <td>0.000000</td>\n",
       "      <td>0.000000</td>\n",
       "      <td>0.006487</td>\n",
       "    </tr>\n",
       "    <tr>\n",
       "      <th>29909</th>\n",
       "      <td>6885</td>\n",
       "      <td>0.0</td>\n",
       "      <td>0.000000</td>\n",
       "      <td>0.000000</td>\n",
       "      <td>0.003792</td>\n",
       "    </tr>\n",
       "  </tbody>\n",
       "</table>\n",
       "<p>29910 rows × 5 columns</p>\n",
       "</div>"
      ],
      "text/plain": [
       "       case  score_resource  score_activity  score_role  score_timestamp\n",
       "0         0             0.0        0.056488    0.128167         0.029750\n",
       "1         0             0.0        0.000000    0.000000         0.009542\n",
       "2         0             0.0        0.000000    0.000000         0.010374\n",
       "3         0             0.0        0.927097    0.880516         0.030123\n",
       "4         0             0.0        0.000000    0.000000         0.006527\n",
       "...     ...             ...             ...         ...              ...\n",
       "29905  6885             0.0        0.000000    0.000000         0.009578\n",
       "29906  6885             0.0        0.000000    0.000000         0.002501\n",
       "29907  6885             0.0        0.000000    0.000000         0.016732\n",
       "29908  6885             0.0        0.000000    0.000000         0.006487\n",
       "29909  6885             0.0        0.000000    0.000000         0.003792\n",
       "\n",
       "[29910 rows x 5 columns]"
      ]
     },
     "execution_count": 23,
     "metadata": {},
     "output_type": "execute_result"
    }
   ],
   "source": [
    "import pandas as pd\n",
    "\n",
    "# Create a DataFrame from the case_indices_array corresponding to case_resource\n",
    "score = pd.DataFrame({'case': case_indices})\n",
    "score['score_resource'] = anomaly_scores_resource\n",
    "score['score_activity'] = anomaly_scores_activity\n",
    "score['score_role'] = anomaly_scores_role\n",
    "score['score_timestamp'] = anomaly_scores_timestamp\n",
    "\n",
    "score['case'] = score['case'].astype(int)\n",
    "\n",
    "score"
   ]
  },
  {
   "cell_type": "code",
   "execution_count": 24,
   "metadata": {},
   "outputs": [
    {
     "name": "stdout",
     "output_type": "stream",
     "text": [
      "Missing values: [179, 181, 188, 354, 387, 450, 529, 545, 601, 765, 835, 974, 1020, 1202, 1273, 1299, 1301, 1324, 1329, 1347, 1390, 1431, 1578, 1601, 1636, 1895, 2022, 2091, 2151, 2152, 2226, 2367, 2466, 2712, 2897, 2983, 3041, 3297, 3440, 3478, 3573, 3652, 3659, 3865, 3960, 4064, 4235, 4279, 4389, 4638, 4865]\n",
      "Does the 'case' column contain all values between 0 and 4999? False\n"
     ]
    }
   ],
   "source": [
    "import pandas as pd\n",
    "\n",
    "def contains_all_values(df, column, end):\n",
    "\n",
    "    # Generate the set of all values in the specified range\n",
    "    required_values = set(range(0, end + 1))\n",
    "    \n",
    "    # Get the unique values in the specified column\n",
    "    column_values = set(df[column].unique())\n",
    "    \n",
    "    # Find missing values\n",
    "    missing_values = required_values - column_values\n",
    "    \n",
    "    # Print missing values if any\n",
    "    if missing_values:\n",
    "        print(f\"Missing values: {sorted(missing_values)}\")\n",
    "    \n",
    "    # Check if all required values are in the column values\n",
    "    return required_values.issubset(column_values)\n",
    "\n",
    "end = 4999\n",
    "\n",
    "result = contains_all_values(score, 'case', end)\n",
    "print(f\"Does the 'case' column contain all values between 0 and {end}? {result}\")"
   ]
  },
  {
   "cell_type": "code",
   "execution_count": 25,
   "metadata": {},
   "outputs": [
    {
     "data": {
      "text/html": [
       "<div>\n",
       "<style scoped>\n",
       "    .dataframe tbody tr th:only-of-type {\n",
       "        vertical-align: middle;\n",
       "    }\n",
       "\n",
       "    .dataframe tbody tr th {\n",
       "        vertical-align: top;\n",
       "    }\n",
       "\n",
       "    .dataframe thead th {\n",
       "        text-align: right;\n",
       "    }\n",
       "</style>\n",
       "<table border=\"1\" class=\"dataframe\">\n",
       "  <thead>\n",
       "    <tr style=\"text-align: right;\">\n",
       "      <th></th>\n",
       "      <th>case</th>\n",
       "      <th>score_resource</th>\n",
       "      <th>score_activity</th>\n",
       "      <th>score_role</th>\n",
       "      <th>score_timestamp</th>\n",
       "    </tr>\n",
       "  </thead>\n",
       "  <tbody>\n",
       "    <tr>\n",
       "      <th>0</th>\n",
       "      <td>0</td>\n",
       "      <td>0.0</td>\n",
       "      <td>0.056488</td>\n",
       "      <td>0.128167</td>\n",
       "      <td>0.029750</td>\n",
       "    </tr>\n",
       "    <tr>\n",
       "      <th>1</th>\n",
       "      <td>0</td>\n",
       "      <td>0.0</td>\n",
       "      <td>0.000000</td>\n",
       "      <td>0.000000</td>\n",
       "      <td>0.009542</td>\n",
       "    </tr>\n",
       "    <tr>\n",
       "      <th>2</th>\n",
       "      <td>0</td>\n",
       "      <td>0.0</td>\n",
       "      <td>0.000000</td>\n",
       "      <td>0.000000</td>\n",
       "      <td>0.010374</td>\n",
       "    </tr>\n",
       "    <tr>\n",
       "      <th>3</th>\n",
       "      <td>0</td>\n",
       "      <td>0.0</td>\n",
       "      <td>0.927097</td>\n",
       "      <td>0.880516</td>\n",
       "      <td>0.030123</td>\n",
       "    </tr>\n",
       "    <tr>\n",
       "      <th>4</th>\n",
       "      <td>0</td>\n",
       "      <td>0.0</td>\n",
       "      <td>0.000000</td>\n",
       "      <td>0.000000</td>\n",
       "      <td>0.006527</td>\n",
       "    </tr>\n",
       "    <tr>\n",
       "      <th>...</th>\n",
       "      <td>...</td>\n",
       "      <td>...</td>\n",
       "      <td>...</td>\n",
       "      <td>...</td>\n",
       "      <td>...</td>\n",
       "    </tr>\n",
       "    <tr>\n",
       "      <th>29977</th>\n",
       "      <td>6885</td>\n",
       "      <td>0.0</td>\n",
       "      <td>0.000000</td>\n",
       "      <td>0.000000</td>\n",
       "      <td>0.009578</td>\n",
       "    </tr>\n",
       "    <tr>\n",
       "      <th>29978</th>\n",
       "      <td>6885</td>\n",
       "      <td>0.0</td>\n",
       "      <td>0.000000</td>\n",
       "      <td>0.000000</td>\n",
       "      <td>0.002501</td>\n",
       "    </tr>\n",
       "    <tr>\n",
       "      <th>29979</th>\n",
       "      <td>6885</td>\n",
       "      <td>0.0</td>\n",
       "      <td>0.000000</td>\n",
       "      <td>0.000000</td>\n",
       "      <td>0.016732</td>\n",
       "    </tr>\n",
       "    <tr>\n",
       "      <th>29980</th>\n",
       "      <td>6885</td>\n",
       "      <td>0.0</td>\n",
       "      <td>0.000000</td>\n",
       "      <td>0.000000</td>\n",
       "      <td>0.006487</td>\n",
       "    </tr>\n",
       "    <tr>\n",
       "      <th>29981</th>\n",
       "      <td>6885</td>\n",
       "      <td>0.0</td>\n",
       "      <td>0.000000</td>\n",
       "      <td>0.000000</td>\n",
       "      <td>0.003792</td>\n",
       "    </tr>\n",
       "  </tbody>\n",
       "</table>\n",
       "<p>29982 rows × 5 columns</p>\n",
       "</div>"
      ],
      "text/plain": [
       "       case  score_resource  score_activity  score_role  score_timestamp\n",
       "0         0             0.0        0.056488    0.128167         0.029750\n",
       "1         0             0.0        0.000000    0.000000         0.009542\n",
       "2         0             0.0        0.000000    0.000000         0.010374\n",
       "3         0             0.0        0.927097    0.880516         0.030123\n",
       "4         0             0.0        0.000000    0.000000         0.006527\n",
       "...     ...             ...             ...         ...              ...\n",
       "29977  6885             0.0        0.000000    0.000000         0.009578\n",
       "29978  6885             0.0        0.000000    0.000000         0.002501\n",
       "29979  6885             0.0        0.000000    0.000000         0.016732\n",
       "29980  6885             0.0        0.000000    0.000000         0.006487\n",
       "29981  6885             0.0        0.000000    0.000000         0.003792\n",
       "\n",
       "[29982 rows x 5 columns]"
      ]
     },
     "execution_count": 25,
     "metadata": {},
     "output_type": "execute_result"
    }
   ],
   "source": [
    "# Generate the full range of values\n",
    "full_range = set(range(6886))\n",
    "\n",
    "# Get the existing 'case' values\n",
    "existing_cases = set(score['case'])\n",
    "\n",
    "# Identify missing values\n",
    "missing_cases = full_range - existing_cases\n",
    "\n",
    "# Create a DataFrame for missing values\n",
    "missing_df = pd.DataFrame({'case': list(missing_cases)})\n",
    "\n",
    "# Add other columns with value 1\n",
    "for col in score.columns:\n",
    "    if col != 'case':\n",
    "        missing_df[col] = 1\n",
    "\n",
    "# Concatenate the original DataFrame with the missing values DataFrame\n",
    "updated_score = pd.concat([score, missing_df])\n",
    "\n",
    "# Sort the DataFrame by 'case'\n",
    "updated_score = updated_score.sort_values(by='case').reset_index(drop=True)\n",
    "\n",
    "updated_score"
   ]
  },
  {
   "cell_type": "code",
   "execution_count": 26,
   "metadata": {},
   "outputs": [],
   "source": [
    "anomaly_scores_resource = updated_score['score_resource']\n",
    "anomaly_scores_activity = updated_score['score_activity']\n",
    "anomaly_scores_role = updated_score['score_role']\n",
    "anomaly_scores_timestamp = updated_score['score_timestamp']"
   ]
  },
  {
   "cell_type": "markdown",
   "metadata": {},
   "source": [
    "### Threshold (lowest plateau)"
   ]
  },
  {
   "cell_type": "code",
   "execution_count": 27,
   "metadata": {},
   "outputs": [],
   "source": [
    "import numpy as np\n",
    "\n",
    "def calculate_anomaly_ratio(scores, threshold):\n",
    "    \"\"\"\n",
    "    Calculate the anomaly ratio for a given threshold.\n",
    "    \"\"\"\n",
    "    return np.mean(scores > threshold)\n",
    "\n",
    "def find_plateaus(scores, epsilon=1e-4, min_plateau_length=10):\n",
    "    \"\"\"\n",
    "    Identify the lowest plateau in the anomaly ratio function and calculate the mean-centered threshold.\n",
    "    \"\"\"\n",
    "    scores = np.array(scores)  # Convert scores to a NumPy array\n",
    "    sorted_scores = np.sort(scores)\n",
    "    \n",
    "    # Remove duplicate values\n",
    "    unique_thresholds, unique_indices = np.unique(sorted_scores, return_index=True)\n",
    "    anomaly_ratios = np.array([calculate_anomaly_ratio(scores, t) for t in unique_thresholds])\n",
    "    \n",
    "    # Calculate first and second derivatives\n",
    "    first_derivatives = np.diff(anomaly_ratios) / np.diff(unique_thresholds)\n",
    "    second_derivatives = np.diff(first_derivatives) / np.diff(unique_thresholds[:-1])\n",
    "    \n",
    "    # Identify plateaus where the first derivative is close to zero\n",
    "    plateau_indices = np.where(np.abs(first_derivatives) < epsilon)[0]\n",
    "    \n",
    "    # Group consecutive indices to identify continuous plateaus\n",
    "    grouped_plateaus = np.split(plateau_indices, np.where(np.diff(plateau_indices) != 1)[0] + 1)\n",
    "    \n",
    "    # Filter plateaus based on minimum length\n",
    "    long_plateaus = [g for g in grouped_plateaus if len(g) >= min_plateau_length]\n",
    "    \n",
    "    if long_plateaus:\n",
    "        # Take the first long plateau and find the mean threshold in this plateau\n",
    "        first_plateau = long_plateaus[0]\n",
    "        plateau_thresholds = unique_thresholds[first_plateau]\n",
    "        return np.mean(plateau_thresholds)\n",
    "    else:\n",
    "        # If no plateau is found, return a default value, e.g., the 90th percentile\n",
    "        percentile_90 = np.percentile(sorted_scores, 90)\n",
    "        if percentile_90 == 1.0:\n",
    "            return 0.4\n",
    "        else:\n",
    "            return percentile_90"
   ]
  },
  {
   "cell_type": "code",
   "execution_count": 28,
   "metadata": {},
   "outputs": [],
   "source": [
    "threshold_activity = find_plateaus(anomaly_scores_activity)\n",
    "threshold_resource = find_plateaus(anomaly_scores_resource)\n",
    "threshold_role = find_plateaus(anomaly_scores_role)\n",
    "threshold_timestamp = find_plateaus(anomaly_scores_timestamp)"
   ]
  },
  {
   "cell_type": "code",
   "execution_count": 56,
   "metadata": {},
   "outputs": [
    {
     "data": {
      "text/plain": [
       "0.0"
      ]
     },
     "execution_count": 56,
     "metadata": {},
     "output_type": "execute_result"
    }
   ],
   "source": [
    "threshold_activity"
   ]
  },
  {
   "cell_type": "markdown",
   "metadata": {},
   "source": [
    "### Detection"
   ]
  },
  {
   "cell_type": "code",
   "execution_count": 29,
   "metadata": {},
   "outputs": [],
   "source": [
    "def detect_anomalies(anomaly_scores, threshold):\n",
    "    labels = [1 if score > threshold else 0 for score in anomaly_scores]\n",
    "    return labels"
   ]
  },
  {
   "cell_type": "code",
   "execution_count": 30,
   "metadata": {},
   "outputs": [],
   "source": [
    "# Detect anomalies based on the calculated anomaly scores and thresholds\n",
    "labels_resource = detect_anomalies(anomaly_scores_resource, threshold_resource)\n",
    "labels_activity = detect_anomalies(anomaly_scores_activity, threshold_activity)\n",
    "labels_role = detect_anomalies(anomaly_scores_role, threshold_role)\n",
    "labels_timestamp = detect_anomalies(anomaly_scores_timestamp, threshold_timestamp)"
   ]
  },
  {
   "cell_type": "markdown",
   "metadata": {},
   "source": [
    "# Mapping"
   ]
  },
  {
   "cell_type": "code",
   "execution_count": 31,
   "metadata": {},
   "outputs": [],
   "source": [
    "case_indices = updated_score['case']"
   ]
  },
  {
   "cell_type": "code",
   "execution_count": 32,
   "metadata": {},
   "outputs": [
    {
     "data": {
      "text/html": [
       "<div>\n",
       "<style scoped>\n",
       "    .dataframe tbody tr th:only-of-type {\n",
       "        vertical-align: middle;\n",
       "    }\n",
       "\n",
       "    .dataframe tbody tr th {\n",
       "        vertical-align: top;\n",
       "    }\n",
       "\n",
       "    .dataframe thead th {\n",
       "        text-align: right;\n",
       "    }\n",
       "</style>\n",
       "<table border=\"1\" class=\"dataframe\">\n",
       "  <thead>\n",
       "    <tr style=\"text-align: right;\">\n",
       "      <th></th>\n",
       "      <th>case</th>\n",
       "      <th>predicted_resource</th>\n",
       "      <th>predicted_activity</th>\n",
       "      <th>predicted_role</th>\n",
       "      <th>predicted_timestamp</th>\n",
       "    </tr>\n",
       "  </thead>\n",
       "  <tbody>\n",
       "    <tr>\n",
       "      <th>0</th>\n",
       "      <td>0</td>\n",
       "      <td>0</td>\n",
       "      <td>1</td>\n",
       "      <td>1</td>\n",
       "      <td>1</td>\n",
       "    </tr>\n",
       "    <tr>\n",
       "      <th>1</th>\n",
       "      <td>0</td>\n",
       "      <td>0</td>\n",
       "      <td>0</td>\n",
       "      <td>0</td>\n",
       "      <td>0</td>\n",
       "    </tr>\n",
       "    <tr>\n",
       "      <th>2</th>\n",
       "      <td>0</td>\n",
       "      <td>0</td>\n",
       "      <td>0</td>\n",
       "      <td>0</td>\n",
       "      <td>0</td>\n",
       "    </tr>\n",
       "    <tr>\n",
       "      <th>3</th>\n",
       "      <td>0</td>\n",
       "      <td>0</td>\n",
       "      <td>1</td>\n",
       "      <td>1</td>\n",
       "      <td>1</td>\n",
       "    </tr>\n",
       "    <tr>\n",
       "      <th>4</th>\n",
       "      <td>0</td>\n",
       "      <td>0</td>\n",
       "      <td>0</td>\n",
       "      <td>0</td>\n",
       "      <td>0</td>\n",
       "    </tr>\n",
       "    <tr>\n",
       "      <th>...</th>\n",
       "      <td>...</td>\n",
       "      <td>...</td>\n",
       "      <td>...</td>\n",
       "      <td>...</td>\n",
       "      <td>...</td>\n",
       "    </tr>\n",
       "    <tr>\n",
       "      <th>29977</th>\n",
       "      <td>6885</td>\n",
       "      <td>0</td>\n",
       "      <td>0</td>\n",
       "      <td>0</td>\n",
       "      <td>0</td>\n",
       "    </tr>\n",
       "    <tr>\n",
       "      <th>29978</th>\n",
       "      <td>6885</td>\n",
       "      <td>0</td>\n",
       "      <td>0</td>\n",
       "      <td>0</td>\n",
       "      <td>0</td>\n",
       "    </tr>\n",
       "    <tr>\n",
       "      <th>29979</th>\n",
       "      <td>6885</td>\n",
       "      <td>0</td>\n",
       "      <td>0</td>\n",
       "      <td>0</td>\n",
       "      <td>1</td>\n",
       "    </tr>\n",
       "    <tr>\n",
       "      <th>29980</th>\n",
       "      <td>6885</td>\n",
       "      <td>0</td>\n",
       "      <td>0</td>\n",
       "      <td>0</td>\n",
       "      <td>0</td>\n",
       "    </tr>\n",
       "    <tr>\n",
       "      <th>29981</th>\n",
       "      <td>6885</td>\n",
       "      <td>0</td>\n",
       "      <td>0</td>\n",
       "      <td>0</td>\n",
       "      <td>0</td>\n",
       "    </tr>\n",
       "  </tbody>\n",
       "</table>\n",
       "<p>29982 rows × 5 columns</p>\n",
       "</div>"
      ],
      "text/plain": [
       "       case  predicted_resource  predicted_activity  predicted_role  \\\n",
       "0         0                   0                   1               1   \n",
       "1         0                   0                   0               0   \n",
       "2         0                   0                   0               0   \n",
       "3         0                   0                   1               1   \n",
       "4         0                   0                   0               0   \n",
       "...     ...                 ...                 ...             ...   \n",
       "29977  6885                   0                   0               0   \n",
       "29978  6885                   0                   0               0   \n",
       "29979  6885                   0                   0               0   \n",
       "29980  6885                   0                   0               0   \n",
       "29981  6885                   0                   0               0   \n",
       "\n",
       "       predicted_timestamp  \n",
       "0                        1  \n",
       "1                        0  \n",
       "2                        0  \n",
       "3                        1  \n",
       "4                        0  \n",
       "...                    ...  \n",
       "29977                    0  \n",
       "29978                    0  \n",
       "29979                    1  \n",
       "29980                    0  \n",
       "29981                    0  \n",
       "\n",
       "[29982 rows x 5 columns]"
      ]
     },
     "execution_count": 32,
     "metadata": {},
     "output_type": "execute_result"
    }
   ],
   "source": [
    "import pandas as pd\n",
    "\n",
    "# Create a DataFrame from the case_indices_array corresponding to case_resource\n",
    "mapping = pd.DataFrame({'case': case_indices})\n",
    "mapping['predicted_resource'] = labels_resource\n",
    "mapping['predicted_activity'] = labels_activity\n",
    "mapping['predicted_role'] = labels_role\n",
    "mapping['predicted_timestamp'] = labels_timestamp\n",
    "\n",
    "mapping"
   ]
  },
  {
   "cell_type": "code",
   "execution_count": 33,
   "metadata": {},
   "outputs": [
    {
     "data": {
      "text/plain": [
       "case\n",
       "0        True\n",
       "1        True\n",
       "2       False\n",
       "3        True\n",
       "4        True\n",
       "        ...  \n",
       "6881     True\n",
       "6882     True\n",
       "6883    False\n",
       "6884    False\n",
       "6885     True\n",
       "Length: 6886, dtype: bool"
      ]
     },
     "execution_count": 33,
     "metadata": {},
     "output_type": "execute_result"
    }
   ],
   "source": [
    "# Create a boolean DataFrame where each value is True if the value is 1\n",
    "contains_one = (mapping[['predicted_resource', 'predicted_activity', 'predicted_role', 'predicted_timestamp']] == 1)\n",
    "\n",
    "# Group by 'case' and check if there's at least one 'True' in any of the columns\n",
    "case_prediction = contains_one.groupby(mapping['case']).any().any(axis=1)\n",
    "case_prediction"
   ]
  },
  {
   "cell_type": "code",
   "execution_count": 57,
   "metadata": {},
   "outputs": [
    {
     "data": {
      "text/plain": [
       "case\n",
       "0        True\n",
       "1        True\n",
       "2       False\n",
       "3        True\n",
       "4        True\n",
       "        ...  \n",
       "6881    False\n",
       "6882    False\n",
       "6883    False\n",
       "6884    False\n",
       "6885    False\n",
       "Length: 6886, dtype: bool"
      ]
     },
     "execution_count": 57,
     "metadata": {},
     "output_type": "execute_result"
    }
   ],
   "source": [
    "# Create a boolean DataFrame where each value is True if the value is 1\n",
    "contains_one = (mapping[['predicted_activity']] == 1)\n",
    "\n",
    "# Group by 'case' and check if there's at least one 'True' in any of the columns\n",
    "case_prediction = contains_one.groupby(mapping['case']).any().any(axis=1)\n",
    "case_prediction"
   ]
  },
  {
   "cell_type": "markdown",
   "metadata": {},
   "source": [
    "# Ground Truth"
   ]
  },
  {
   "cell_type": "code",
   "execution_count": 58,
   "metadata": {},
   "outputs": [],
   "source": [
    "def generate_alignments_adjusted_tracecost_pkl(log, net, initial_marking, final_marking):\n",
    "    from pm4py.algo.conformance.alignments.petri_net import algorithm as alignments\n",
    "    from pm4py.algo.conformance.alignments.petri_net import variants\n",
    "    from pm4py.objects.petri_net.utils import align_utils\n",
    "    max_events=0\n",
    "    for trace in log:\n",
    "        counter=0\n",
    "        for event in trace:\n",
    "            counter+=1\n",
    "        if counter > max_events:\n",
    "            max_events=counter\n",
    "    parameters={}\n",
    "    parameters[alignments.Variants.VERSION_STATE_EQUATION_A_STAR.value.Parameters.PARAM_SYNC_COST_FUNCTION] = list(map(lambda i: .1*i, range(max_events*2)))\n",
    "    parameters[alignments.Variants.VERSION_STATE_EQUATION_A_STAR.value.Parameters.PARAM_TRACE_COST_FUNCTION]=list(map(lambda i: align_utils.STD_MODEL_LOG_MOVE_COST-.1*i, range(max_events*2)))\n",
    "    aligned_traces = alignments.apply_log(log, net, initial_marking, final_marking, variant=variants.state_equation_a_star, parameters=parameters)\n",
    "    return aligned_traces"
   ]
  },
  {
   "cell_type": "code",
   "execution_count": 59,
   "metadata": {},
   "outputs": [
    {
     "data": {
      "application/vnd.jupyter.widget-view+json": {
       "model_id": "d9d4b4f2c5c34bd582957189fa9f2117",
       "version_major": 2,
       "version_minor": 0
      },
      "text/plain": [
       "aligning log, completed variants ::   0%|          | 0/89 [00:00<?, ?it/s]"
      ]
     },
     "metadata": {},
     "output_type": "display_data"
    }
   ],
   "source": [
    "import pm4py\n",
    "from pm4py.objects.log.importer.xes import importer as xes_importer\n",
    "from pm4py.objects.bpmn.importer import importer as bpmn_importer\n",
    "from pm4py.algo.conformance.alignments.petri_net import algorithm as alignments_petri\n",
    "\n",
    "# 2. Import the given BPMN model\n",
    "bpmn_graph = bpmn_importer.apply(\"../../data/model/Model_RequestForPayment.bpmn\")\n",
    "\n",
    "# 3. Convert the BPMN to a Petri net\n",
    "net, initial_marking, final_marking = pm4py.convert_to_petri_net(bpmn_graph)\n",
    "\n",
    "aligned_traces = generate_alignments_adjusted_tracecost_pkl(log, net, initial_marking, final_marking)"
   ]
  },
  {
   "cell_type": "code",
   "execution_count": 60,
   "metadata": {},
   "outputs": [],
   "source": [
    "def extract_conformance_status_by_fitness(aligned_traces):\n",
    "    conformance_status = []\n",
    "    for alignment in aligned_traces:\n",
    "        fitness = alignment['fitness']\n",
    "        # If the fitness is 1.0, the trace is conforming\n",
    "        if fitness == 1.0:\n",
    "            conformance_status.append(0)\n",
    "        else:\n",
    "            conformance_status.append(1)\n",
    "    return conformance_status\n",
    "\n",
    "# Get the conformance status list from the aligned traces\n",
    "conformance = extract_conformance_status_by_fitness(aligned_traces)"
   ]
  },
  {
   "cell_type": "code",
   "execution_count": 61,
   "metadata": {},
   "outputs": [],
   "source": [
    "ground_truth = pd.DataFrame({'conformity': conformance})\n",
    "ground_truth['predicted'] = case_prediction\n",
    "\n",
    "# Convert False to 0 and True to 1\n",
    "ground_truth['predicted'] = [int(value) for value in ground_truth['predicted']]"
   ]
  },
  {
   "cell_type": "markdown",
   "metadata": {},
   "source": [
    "# Evaluation"
   ]
  },
  {
   "cell_type": "code",
   "execution_count": 62,
   "metadata": {},
   "outputs": [],
   "source": [
    "# Calculating TP, TN, FP, FN\n",
    "TP = ((ground_truth['conformity'] == 1) & (ground_truth['predicted'] == 1)).sum()\n",
    "TN = ((ground_truth['conformity'] == 0) & (ground_truth['predicted'] == 0)).sum()\n",
    "FP = ((ground_truth['conformity'] == 0) & (ground_truth['predicted'] == 1)).sum()\n",
    "FN = ((ground_truth['conformity'] == 1) & (ground_truth['predicted'] == 0)).sum()"
   ]
  },
  {
   "cell_type": "code",
   "execution_count": 63,
   "metadata": {},
   "outputs": [
    {
     "name": "stdout",
     "output_type": "stream",
     "text": [
      "Precision Dev: 0.39\n"
     ]
    }
   ],
   "source": [
    "precision_dev = TP / (TP + FP)\n",
    "print(f\"Precision Dev: {precision_dev:.2f}\")"
   ]
  },
  {
   "cell_type": "code",
   "execution_count": 64,
   "metadata": {},
   "outputs": [
    {
     "name": "stdout",
     "output_type": "stream",
     "text": [
      "Recall Dev: 0.45\n"
     ]
    }
   ],
   "source": [
    "recall_dev = TP / (TP + FN)\n",
    "print(f\"Recall Dev: {recall_dev:.2f}\")"
   ]
  },
  {
   "cell_type": "code",
   "execution_count": 65,
   "metadata": {},
   "outputs": [
    {
     "name": "stdout",
     "output_type": "stream",
     "text": [
      "Precision No Dev: 0.81\n"
     ]
    }
   ],
   "source": [
    "precision_no_dev = TN / (TN + FN)\n",
    "print(f\"Precision No Dev: {precision_no_dev:.2f}\")"
   ]
  },
  {
   "cell_type": "code",
   "execution_count": 66,
   "metadata": {},
   "outputs": [
    {
     "name": "stdout",
     "output_type": "stream",
     "text": [
      "Recall No Dev: 0.77\n"
     ]
    }
   ],
   "source": [
    "recall_no_dev = TN / (TN + FP)\n",
    "print(f\"Recall No Dev: {recall_no_dev:.2f}\")"
   ]
  },
  {
   "cell_type": "code",
   "execution_count": 67,
   "metadata": {},
   "outputs": [
    {
     "name": "stdout",
     "output_type": "stream",
     "text": [
      "AUC-ROC: 0.61\n"
     ]
    }
   ],
   "source": [
    "from sklearn.metrics import roc_auc_score\n",
    "\n",
    "auc_roc = roc_auc_score(ground_truth['conformity'], ground_truth['predicted'])\n",
    "print(f\"AUC-ROC: {auc_roc:.2f}\")"
   ]
  }
 ],
 "metadata": {
  "kernelspec": {
   "display_name": "lstm",
   "language": "python",
   "name": "python3"
  },
  "language_info": {
   "codemirror_mode": {
    "name": "ipython",
    "version": 3
   },
   "file_extension": ".py",
   "mimetype": "text/x-python",
   "name": "python",
   "nbconvert_exporter": "python",
   "pygments_lexer": "ipython3",
   "version": "3.9.13"
  }
 },
 "nbformat": 4,
 "nbformat_minor": 2
}

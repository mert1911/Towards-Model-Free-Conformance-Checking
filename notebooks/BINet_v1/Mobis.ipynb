{
 "cells": [
  {
   "cell_type": "markdown",
   "metadata": {},
   "source": [
    "# Import Event Log"
   ]
  },
  {
   "cell_type": "code",
   "execution_count": 1,
   "metadata": {},
   "outputs": [
    {
     "name": "stderr",
     "output_type": "stream",
     "text": [
      "/var/folders/s_/ch_w_j2d0sqf6dbdc0_224m40000gq/T/ipykernel_5551/539992039.py:15: DeprecatedWarning: format_dataframe is deprecated as of 2.3.0 and will be removed in 3.0.0. the format_dataframe function does not need application anymore.\n",
      "  dataframe_log = pm4py.format_dataframe(\n"
     ]
    }
   ],
   "source": [
    "import pandas as pd\n",
    "import numpy as np\n",
    "import pm4py\n",
    "from pm4py.objects.conversion.log import converter as log_converter\n",
    "\n",
    "\n",
    "if __name__ == \"__main__\":\n",
    "    # Read the CSV file\n",
    "    dataframe_log = pd.read_csv('../../data/logs/mobis.csv', sep=',')  \n",
    "\n",
    "    # Drop the first column without knowing its name\n",
    "    dataframe_log = dataframe_log.drop(dataframe_log.columns[0], axis=1)\n",
    "\n",
    "    # Format the dataframe\n",
    "    dataframe_log = pm4py.format_dataframe(\n",
    "        dataframe_log, \n",
    "        case_id='case', \n",
    "        activity_key='activity', \n",
    "        timestamp_key='start'\n",
    "    )\n",
    "\n",
    "    # Convert the dataframe to event log\n",
    "    log = log_converter.apply(dataframe_log)"
   ]
  },
  {
   "cell_type": "markdown",
   "metadata": {},
   "source": [
    "# Drop unnessary columns"
   ]
  },
  {
   "cell_type": "code",
   "execution_count": 2,
   "metadata": {},
   "outputs": [],
   "source": [
    "dataframe_log = dataframe_log.drop(columns=['case'])\n",
    "dataframe_log = dataframe_log.drop(columns=['cost'])\n",
    "dataframe_log = dataframe_log.drop(columns=['case:concept:name'])\n",
    "dataframe_log = dataframe_log.drop(columns=['concept:name'])\n",
    "dataframe_log = dataframe_log.drop(columns=['@@index'])\n",
    "dataframe_log = dataframe_log.drop(columns=['travel_start'])\n",
    "dataframe_log = dataframe_log.drop(columns=['travel_end'])\n",
    "dataframe_log = dataframe_log.drop(columns=['start'])\n",
    "dataframe_log = dataframe_log.drop(columns=['end'])"
   ]
  },
  {
   "cell_type": "markdown",
   "metadata": {},
   "source": [
    "# Preprocess"
   ]
  },
  {
   "cell_type": "code",
   "execution_count": 3,
   "metadata": {},
   "outputs": [],
   "source": [
    "from sklearn.preprocessing import StandardScaler\n",
    "\n",
    "# Convert to datetime format\n",
    "dataframe_log['time:timestamp'] = pd.to_datetime(dataframe_log['time:timestamp'])\n",
    "\n",
    "# Calculate elapsed time since the start of each case\n",
    "dataframe_log['start_time'] = dataframe_log.groupby('@@case_index')['time:timestamp'].transform('min')\n",
    "dataframe_log['elapsed_time'] = (dataframe_log['time:timestamp'] - dataframe_log['start_time']).dt.total_seconds()\n",
    "\n",
    "# Normalize the elapsed time in minutes\n",
    "scaler = StandardScaler()\n",
    "dataframe_log['standardized_elapsed_time'] = scaler.fit_transform(dataframe_log[['elapsed_time']])\n",
    "\n",
    "dataframe_log = dataframe_log.drop(columns=['start_time'])\n",
    "dataframe_log = dataframe_log.drop(columns=['elapsed_time'])\n",
    "dataframe_log = dataframe_log.drop(columns=['time:timestamp'])"
   ]
  },
  {
   "cell_type": "code",
   "execution_count": 4,
   "metadata": {},
   "outputs": [],
   "source": [
    "codes, uniques = pd.factorize(dataframe_log['activity'])\n",
    "dataframe_log['activity'] = codes + 1"
   ]
  },
  {
   "cell_type": "code",
   "execution_count": 5,
   "metadata": {},
   "outputs": [],
   "source": [
    "# Fill NaN values with a placeholder before factorization\n",
    "dataframe_log['type'].fillna('missing', inplace=True)\n",
    "\n",
    "# Factorize the 'type' column\n",
    "codes, uniques = pd.factorize(dataframe_log['type'])\n",
    "dataframe_log['type'] = codes + 1"
   ]
  },
  {
   "cell_type": "code",
   "execution_count": 6,
   "metadata": {},
   "outputs": [],
   "source": [
    "# Fill NaN values with a placeholder before factorization\n",
    "dataframe_log['user'].fillna('missing', inplace=True)\n",
    "\n",
    "# Factorize the 'type' column\n",
    "codes, uniques = pd.factorize(dataframe_log['user'])\n",
    "dataframe_log['user'] = codes + 1"
   ]
  },
  {
   "cell_type": "code",
   "execution_count": 7,
   "metadata": {},
   "outputs": [
    {
     "data": {
      "text/html": [
       "<div>\n",
       "<style scoped>\n",
       "    .dataframe tbody tr th:only-of-type {\n",
       "        vertical-align: middle;\n",
       "    }\n",
       "\n",
       "    .dataframe tbody tr th {\n",
       "        vertical-align: top;\n",
       "    }\n",
       "\n",
       "    .dataframe thead th {\n",
       "        text-align: right;\n",
       "    }\n",
       "</style>\n",
       "<table border=\"1\" class=\"dataframe\">\n",
       "  <thead>\n",
       "    <tr style=\"text-align: right;\">\n",
       "      <th></th>\n",
       "      <th>activity</th>\n",
       "      <th>type</th>\n",
       "      <th>user</th>\n",
       "      <th>@@case_index</th>\n",
       "      <th>standardized_elapsed_time</th>\n",
       "    </tr>\n",
       "  </thead>\n",
       "  <tbody>\n",
       "    <tr>\n",
       "      <th>0</th>\n",
       "      <td>1</td>\n",
       "      <td>1</td>\n",
       "      <td>1</td>\n",
       "      <td>0</td>\n",
       "      <td>-1.160944</td>\n",
       "    </tr>\n",
       "    <tr>\n",
       "      <th>1</th>\n",
       "      <td>2</td>\n",
       "      <td>1</td>\n",
       "      <td>1</td>\n",
       "      <td>0</td>\n",
       "      <td>-1.160857</td>\n",
       "    </tr>\n",
       "    <tr>\n",
       "      <th>2</th>\n",
       "      <td>3</td>\n",
       "      <td>1</td>\n",
       "      <td>1</td>\n",
       "      <td>0</td>\n",
       "      <td>-1.160842</td>\n",
       "    </tr>\n",
       "    <tr>\n",
       "      <th>3</th>\n",
       "      <td>4</td>\n",
       "      <td>2</td>\n",
       "      <td>2</td>\n",
       "      <td>0</td>\n",
       "      <td>-1.160842</td>\n",
       "    </tr>\n",
       "    <tr>\n",
       "      <th>4</th>\n",
       "      <td>5</td>\n",
       "      <td>1</td>\n",
       "      <td>1</td>\n",
       "      <td>0</td>\n",
       "      <td>-1.144594</td>\n",
       "    </tr>\n",
       "    <tr>\n",
       "      <th>...</th>\n",
       "      <td>...</td>\n",
       "      <td>...</td>\n",
       "      <td>...</td>\n",
       "      <td>...</td>\n",
       "      <td>...</td>\n",
       "    </tr>\n",
       "    <tr>\n",
       "      <th>55804</th>\n",
       "      <td>8</td>\n",
       "      <td>1</td>\n",
       "      <td>333</td>\n",
       "      <td>3353</td>\n",
       "      <td>-0.742182</td>\n",
       "    </tr>\n",
       "    <tr>\n",
       "      <th>55805</th>\n",
       "      <td>9</td>\n",
       "      <td>3</td>\n",
       "      <td>53</td>\n",
       "      <td>3353</td>\n",
       "      <td>-0.736776</td>\n",
       "    </tr>\n",
       "    <tr>\n",
       "      <th>55806</th>\n",
       "      <td>10</td>\n",
       "      <td>1</td>\n",
       "      <td>333</td>\n",
       "      <td>3353</td>\n",
       "      <td>-0.583572</td>\n",
       "    </tr>\n",
       "    <tr>\n",
       "      <th>55807</th>\n",
       "      <td>11</td>\n",
       "      <td>4</td>\n",
       "      <td>59</td>\n",
       "      <td>3353</td>\n",
       "      <td>-0.404036</td>\n",
       "    </tr>\n",
       "    <tr>\n",
       "      <th>55808</th>\n",
       "      <td>12</td>\n",
       "      <td>4</td>\n",
       "      <td>59</td>\n",
       "      <td>3353</td>\n",
       "      <td>-0.194961</td>\n",
       "    </tr>\n",
       "  </tbody>\n",
       "</table>\n",
       "<p>55809 rows × 5 columns</p>\n",
       "</div>"
      ],
      "text/plain": [
       "       activity  type  user  @@case_index  standardized_elapsed_time\n",
       "0             1     1     1             0                  -1.160944\n",
       "1             2     1     1             0                  -1.160857\n",
       "2             3     1     1             0                  -1.160842\n",
       "3             4     2     2             0                  -1.160842\n",
       "4             5     1     1             0                  -1.144594\n",
       "...         ...   ...   ...           ...                        ...\n",
       "55804         8     1   333          3353                  -0.742182\n",
       "55805         9     3    53          3353                  -0.736776\n",
       "55806        10     1   333          3353                  -0.583572\n",
       "55807        11     4    59          3353                  -0.404036\n",
       "55808        12     4    59          3353                  -0.194961\n",
       "\n",
       "[55809 rows x 5 columns]"
      ]
     },
     "execution_count": 7,
     "metadata": {},
     "output_type": "execute_result"
    }
   ],
   "source": [
    "dataframe_log"
   ]
  },
  {
   "cell_type": "markdown",
   "metadata": {},
   "source": [
    "# Generate Prefixes"
   ]
  },
  {
   "cell_type": "code",
   "execution_count": 8,
   "metadata": {},
   "outputs": [],
   "source": [
    "df_activity = dataframe_log[['activity', '@@case_index']]\n",
    "df_type = dataframe_log[['type', '@@case_index']]\n",
    "df_user = dataframe_log[['user', '@@case_index']]\n",
    "df_timestamp = dataframe_log[['standardized_elapsed_time', '@@case_index']]"
   ]
  },
  {
   "cell_type": "code",
   "execution_count": 9,
   "metadata": {},
   "outputs": [
    {
     "name": "stderr",
     "output_type": "stream",
     "text": [
      "2024-08-18 18:24:02.139534: I tensorflow/core/platform/cpu_feature_guard.cc:182] This TensorFlow binary is optimized to use available CPU instructions in performance-critical operations.\n",
      "To enable the following instructions: AVX2 FMA, in other operations, rebuild TensorFlow with the appropriate compiler flags.\n"
     ]
    }
   ],
   "source": [
    "import numpy as np\n",
    "from tensorflow.keras.preprocessing.sequence import pad_sequences\n",
    "\n",
    "def generate_prefix_windows(df, case_id_column='@@case_index', max_len=None):\n",
    "    windows = []\n",
    "    targets = []\n",
    "    case_indices = []\n",
    "    \n",
    "    for case_id in df[case_id_column].unique():\n",
    "        case_data = df[df[case_id_column] == case_id].drop(columns=[case_id_column]).to_numpy()\n",
    "        \n",
    "        # Optional: Make sure to sort the case data if there's an implicit order (e.g., by timestamps)\n",
    "        # case_data = case_data.sort_values(by='timestamp_column').to_numpy()  # Uncomment and adjust if needed\n",
    "        \n",
    "        for i in range(1, len(case_data)):\n",
    "            window = case_data[:i]\n",
    "            target = case_data[i]\n",
    "            windows.append(window)\n",
    "            targets.append(target)\n",
    "            case_indices.append(case_id)\n",
    "    \n",
    "    if max_len is None:\n",
    "        max_len = max(len(window) for window in windows)\n",
    "    \n",
    "    # Pad sequences\n",
    "    windows_padded = pad_sequences(windows, maxlen=max_len, padding='post', dtype='float32')\n",
    "    \n",
    "    # Convert targets to numpy array\n",
    "    targets_array = np.array(targets, dtype='float32')\n",
    "    case_indices_array = np.array(case_indices)\n",
    "    \n",
    "    return windows_padded, targets_array, case_indices_array"
   ]
  },
  {
   "cell_type": "code",
   "execution_count": 10,
   "metadata": {},
   "outputs": [],
   "source": [
    "windows_activity, targets_activity, case_indices = generate_prefix_windows(df_activity)\n",
    "windows_type, targets_type, case_indices = generate_prefix_windows(df_type)\n",
    "windows_user, targets_user, case_indices = generate_prefix_windows(df_user)\n",
    "windows_timestamp, targets_timestamp, case_indices = generate_prefix_windows(df_timestamp)"
   ]
  },
  {
   "cell_type": "markdown",
   "metadata": {},
   "source": [
    "# GRU"
   ]
  },
  {
   "cell_type": "markdown",
   "metadata": {},
   "source": [
    "### Architecture"
   ]
  },
  {
   "cell_type": "markdown",
   "metadata": {},
   "source": [
    "- Separate Inputs for Each Attribute\n",
    "- Each attribute is passed through an embedding layer\n",
    "- Each attribute has its corresponding GRU encoder\n",
    "- Selective Concatenation: After encoding, the outputs of these GRU layers are concatenated. However, this concatenation is selective, meaning it is structured in a way that prepares the data for effective synthesis without leaking information from the future (next event attributes)\n",
    "- Decoder GRUs: Integrated Decoding: Post-concatenation, the combined attributes are processed through decoder GRU layers. These layers are tasked with integrating the data from different attributes and preparing it for final prediction. This step is where BINet v3 distinguishes itself by effectively using the interdependencies between different attributes to enhance prediction accuracy.\n",
    "- Output Layer: Softmax Output for Each Attribute: For each attribute of the next event, a softmax layer predicts a probability distribution over all possible values. This allows the model to output the most likely next event and its attributes based on the learned dependencies and the history encoded by the GRUs.\n",
    "- E: maximum case length\n",
    "- We train BINet with a GRU size of 2E (two times the maximum case length)\n",
    "- on mini batches of size 500 for 20 epochs"
   ]
  },
  {
   "cell_type": "code",
   "execution_count": 11,
   "metadata": {},
   "outputs": [],
   "source": [
    "# Group by the @@case_index column and count the rows in each group\n",
    "case_lengths = dataframe_log.groupby('@@case_index').size()\n",
    "\n",
    "# Find the maximum value among the case lengths\n",
    "E = case_lengths.max()"
   ]
  },
  {
   "cell_type": "code",
   "execution_count": 12,
   "metadata": {},
   "outputs": [
    {
     "name": "stdout",
     "output_type": "stream",
     "text": [
      "Model: \"model\"\n",
      "__________________________________________________________________________________________________\n",
      " Layer (type)                Output Shape                 Param #   Connected to                  \n",
      "==================================================================================================\n",
      " activity_input (InputLayer  [(None, None)]               0         []                            \n",
      " )                                                                                                \n",
      "                                                                                                  \n",
      " type_input (InputLayer)     [(None, None)]               0         []                            \n",
      "                                                                                                  \n",
      " user_input (InputLayer)     [(None, None)]               0         []                            \n",
      "                                                                                                  \n",
      " activity_embedding (Embedd  (None, None, 50)             1350      ['activity_input[0][0]']      \n",
      " ing)                                                                                             \n",
      "                                                                                                  \n",
      " type_embedding (Embedding)  (None, None, 50)             300       ['type_input[0][0]']          \n",
      "                                                                                                  \n",
      " user_embedding (Embedding)  (None, None, 50)             16750     ['user_input[0][0]']          \n",
      "                                                                                                  \n",
      " timestamp_input (InputLaye  [(None, None, 1)]            0         []                            \n",
      " r)                                                                                               \n",
      "                                                                                                  \n",
      " activity_encoder (GRU)      (None, None, 98)             44100     ['activity_embedding[0][0]']  \n",
      "                                                                                                  \n",
      " type_encoder (GRU)          (None, None, 98)             44100     ['type_embedding[0][0]']      \n",
      "                                                                                                  \n",
      " user_encoder (GRU)          (None, None, 98)             44100     ['user_embedding[0][0]']      \n",
      "                                                                                                  \n",
      " timestamp_encoder (GRU)     (None, None, 98)             29694     ['timestamp_input[0][0]']     \n",
      "                                                                                                  \n",
      " bn_activity (BatchNormaliz  (None, None, 98)             392       ['activity_encoder[0][0]']    \n",
      " ation)                                                                                           \n",
      "                                                                                                  \n",
      " bn_type (BatchNormalizatio  (None, None, 98)             392       ['type_encoder[0][0]']        \n",
      " n)                                                                                               \n",
      "                                                                                                  \n",
      " bn_user (BatchNormalizatio  (None, None, 98)             392       ['user_encoder[0][0]']        \n",
      " n)                                                                                               \n",
      "                                                                                                  \n",
      " bn_timestamp (BatchNormali  (None, None, 98)             392       ['timestamp_encoder[0][0]']   \n",
      " zation)                                                                                          \n",
      "                                                                                                  \n",
      " concatenate_encodings (Con  (None, None, 392)            0         ['bn_activity[0][0]',         \n",
      " catenate)                                                           'bn_type[0][0]',             \n",
      "                                                                     'bn_user[0][0]',             \n",
      "                                                                     'bn_timestamp[0][0]']        \n",
      "                                                                                                  \n",
      " decoder_gru (GRU)           (None, 98)                   144648    ['concatenate_encodings[0][0]'\n",
      "                                                                    ]                             \n",
      "                                                                                                  \n",
      " dropout (Dropout)           (None, 98)                   0         ['decoder_gru[0][0]']         \n",
      "                                                                                                  \n",
      " output_activity (Dense)     (None, 27)                   2673      ['dropout[0][0]']             \n",
      "                                                                                                  \n",
      " output_type (Dense)         (None, 6)                    594       ['dropout[0][0]']             \n",
      "                                                                                                  \n",
      " output_user (Dense)         (None, 335)                  33165     ['dropout[0][0]']             \n",
      "                                                                                                  \n",
      " output_timestamp (Dense)    (None, 1)                    99        ['dropout[0][0]']             \n",
      "                                                                                                  \n",
      "==================================================================================================\n",
      "Total params: 363141 (1.39 MB)\n",
      "Trainable params: 362357 (1.38 MB)\n",
      "Non-trainable params: 784 (3.06 KB)\n",
      "__________________________________________________________________________________________________\n"
     ]
    }
   ],
   "source": [
    "import tensorflow as tf\n",
    "from tensorflow.keras.models import Model\n",
    "from tensorflow.keras.layers import Input, GRU, Embedding, Dense, Dropout, Concatenate, BatchNormalization\n",
    "\n",
    "def create_binetv3(num_activities, num_types, num_users, embedding_dim, gru_units, dropout_rate):\n",
    "    # Input layers for each attribute\n",
    "    input_activity = Input(shape=(None,), name='activity_input')\n",
    "    input_type = Input(shape=(None,), name='type_input')\n",
    "    input_user = Input(shape=(None,), name='user_input')\n",
    "    input_timestamp = Input(shape=(None, 1), name='timestamp_input')  # Continuous input\n",
    "\n",
    "    # Embedding layers for categorical attributes\n",
    "    embedding_activity = Embedding(input_dim=num_activities + 1, output_dim=embedding_dim, mask_zero=True, name='activity_embedding')(input_activity)\n",
    "    embedding_type = Embedding(input_dim=num_types + 1, output_dim=embedding_dim, mask_zero=True, name='type_embedding')(input_type)\n",
    "    embedding_user = Embedding(input_dim=num_users + 1, output_dim=embedding_dim, mask_zero=True, name='user_embedding')(input_user)\n",
    "\n",
    "    # Encoder GRUs with Batch Normalization for categorical attributes\n",
    "    encoded_activity = GRU(units=gru_units, return_sequences=True, name='activity_encoder')(embedding_activity)\n",
    "    bn_activity = BatchNormalization(name='bn_activity')(encoded_activity)\n",
    "    encoded_type = GRU(units=gru_units, return_sequences=True, name='type_encoder')(embedding_type)\n",
    "    bn_type = BatchNormalization(name='bn_type')(encoded_type)\n",
    "    encoded_user = GRU(units=gru_units, return_sequences=True, name='user_encoder')(embedding_user)\n",
    "    bn_user = BatchNormalization(name='bn_user')(encoded_user)\n",
    "\n",
    "    # Encoder GRU with Batch Normalization for continuous attribute\n",
    "    encoded_timestamp = GRU(units=gru_units, return_sequences=True, name='timestamp_encoder')(input_timestamp)\n",
    "    bn_timestamp = BatchNormalization(name='bn_timestamp')(encoded_timestamp)\n",
    "\n",
    "    # Concatenation of encoded outputs\n",
    "    concatenated = Concatenate(name='concatenate_encodings')([bn_activity, bn_type, bn_user, bn_timestamp])\n",
    "\n",
    "    # Decoder GRU\n",
    "    decoder_output = GRU(units=gru_units, return_sequences=False, name='decoder_gru')(concatenated)\n",
    "    dropout_layer = Dropout(rate=dropout_rate, name='dropout')(decoder_output)\n",
    "\n",
    "    # Output layers for predicting the next event's attributes\n",
    "    output_activity = Dense(num_activities + 1, activation='softmax', name='output_activity')(dropout_layer)\n",
    "    output_type = Dense(num_types + 1, activation='softmax', name='output_type')(dropout_layer)\n",
    "    output_user = Dense(num_users + 1, activation='softmax', name='output_user')(dropout_layer)\n",
    "    output_timestamp = Dense(1, activation='linear', name='output_timestamp')(dropout_layer)  # Linear activation for continuous output\n",
    "\n",
    "    # Building the model\n",
    "    model = Model(inputs=[input_activity, input_type, input_user, input_timestamp], outputs=[output_activity, output_type, output_user, output_timestamp])\n",
    "    model.compile(\n",
    "        optimizer='adam', \n",
    "        loss={\n",
    "            'output_activity': 'categorical_crossentropy', \n",
    "            'output_type': 'categorical_crossentropy', \n",
    "            'output_user': 'categorical_crossentropy', \n",
    "            'output_timestamp': 'mean_squared_error'\n",
    "        },\n",
    "        metrics={\n",
    "            'output_activity': ['accuracy'], \n",
    "            'output_type': ['accuracy'], \n",
    "            'output_user': ['accuracy'], \n",
    "            'output_timestamp': ['mean_squared_error']\n",
    "        }\n",
    "    )\n",
    "\n",
    "    return model\n",
    "\n",
    "# Parameters\n",
    "gru_units = int(2 * E)\n",
    "num_activities = dataframe_log['activity'].max()\n",
    "num_types = dataframe_log['type'].max()\n",
    "num_users = dataframe_log['user'].max()\n",
    "embedding_dim = 50\n",
    "dropout_rate = 0.2\n",
    "model = create_binetv3(num_activities, num_types, num_users, embedding_dim, gru_units, dropout_rate)\n",
    "model.summary()"
   ]
  },
  {
   "cell_type": "markdown",
   "metadata": {},
   "source": [
    "### Data Splitting"
   ]
  },
  {
   "cell_type": "code",
   "execution_count": 13,
   "metadata": {},
   "outputs": [],
   "source": [
    "from sklearn.model_selection import train_test_split\n",
    "\n",
    "# Split the data for each attribute including timestamps\n",
    "train_activity, test_activity, train_targets_activity, test_targets_activity = train_test_split(\n",
    "    windows_activity, targets_activity, test_size=0.3, random_state=42)\n",
    "\n",
    "train_type, test_type, train_targets_type, test_targets_type = train_test_split(\n",
    "    windows_type, targets_type, test_size=0.3, random_state=42)\n",
    "\n",
    "train_user, test_user, train_targets_user, test_targets_user = train_test_split(\n",
    "    windows_user, targets_user, test_size=0.3, random_state=42)\n",
    "\n",
    "train_timestamp, test_timestamp, train_targets_timestamp, test_targets_timestamp = train_test_split(\n",
    "    windows_timestamp, targets_timestamp, test_size=0.3, random_state=42)"
   ]
  },
  {
   "cell_type": "markdown",
   "metadata": {},
   "source": [
    "### Training"
   ]
  },
  {
   "cell_type": "code",
   "execution_count": 14,
   "metadata": {},
   "outputs": [],
   "source": [
    "from tensorflow.keras.utils import to_categorical\n",
    "\n",
    "# Convert categorical targets to one-hot encoding\n",
    "train_targets_activity = to_categorical(train_targets_activity, num_classes=num_activities + 1)\n",
    "test_targets_activity = to_categorical(test_targets_activity, num_classes=num_activities + 1)\n",
    "\n",
    "train_targets_type = to_categorical(train_targets_type, num_classes=num_types + 1)\n",
    "test_targets_type = to_categorical(test_targets_type, num_classes=num_types + 1)\n",
    "\n",
    "train_targets_user = to_categorical(train_targets_user, num_classes=num_users + 1)\n",
    "test_targets_user = to_categorical(test_targets_user, num_classes=num_users + 1)"
   ]
  },
  {
   "cell_type": "code",
   "execution_count": 15,
   "metadata": {},
   "outputs": [
    {
     "name": "stdout",
     "output_type": "stream",
     "text": [
      "Epoch 1/20\n",
      "74/74 [==============================] - 99s 1s/step - loss: 6.9194 - output_activity_loss: 1.3879 - output_type_loss: 0.6028 - output_user_loss: 4.6812 - output_timestamp_loss: 0.2476 - output_activity_accuracy: 0.6344 - output_type_accuracy: 0.7819 - output_user_accuracy: 0.1750 - output_timestamp_mean_squared_error: 0.2476 - val_loss: 9.9723 - val_output_activity_loss: 2.6209 - val_output_type_loss: 1.1899 - val_output_user_loss: 5.3692 - val_output_timestamp_loss: 0.7922 - val_output_activity_accuracy: 0.4707 - val_output_type_accuracy: 0.5363 - val_output_user_accuracy: 0.2158 - val_output_timestamp_mean_squared_error: 0.7922\n",
      "Epoch 2/20\n",
      "74/74 [==============================] - 76s 1s/step - loss: 4.2831 - output_activity_loss: 0.4160 - output_type_loss: 0.2512 - output_user_loss: 3.4212 - output_timestamp_loss: 0.1946 - output_activity_accuracy: 0.8694 - output_type_accuracy: 0.8999 - output_user_accuracy: 0.3319 - output_timestamp_mean_squared_error: 0.1946 - val_loss: 8.8842 - val_output_activity_loss: 2.2540 - val_output_type_loss: 0.9565 - val_output_user_loss: 5.0005 - val_output_timestamp_loss: 0.6732 - val_output_activity_accuracy: 0.7678 - val_output_type_accuracy: 0.6805 - val_output_user_accuracy: 0.3344 - val_output_timestamp_mean_squared_error: 0.6732\n",
      "Epoch 3/20\n",
      "74/74 [==============================] - 77s 1s/step - loss: 3.6236 - output_activity_loss: 0.3574 - output_type_loss: 0.2402 - output_user_loss: 2.8748 - output_timestamp_loss: 0.1512 - output_activity_accuracy: 0.8750 - output_type_accuracy: 0.9005 - output_user_accuracy: 0.4484 - output_timestamp_mean_squared_error: 0.1512 - val_loss: 7.1661 - val_output_activity_loss: 1.6841 - val_output_type_loss: 0.6590 - val_output_user_loss: 4.3273 - val_output_timestamp_loss: 0.4956 - val_output_activity_accuracy: 0.8360 - val_output_type_accuracy: 0.8711 - val_output_user_accuracy: 0.3970 - val_output_timestamp_mean_squared_error: 0.4956\n",
      "Epoch 4/20\n",
      "74/74 [==============================] - 78s 1s/step - loss: 2.9596 - output_activity_loss: 0.3517 - output_type_loss: 0.2433 - output_user_loss: 2.2335 - output_timestamp_loss: 0.1311 - output_activity_accuracy: 0.8747 - output_type_accuracy: 0.9013 - output_user_accuracy: 0.5825 - output_timestamp_mean_squared_error: 0.1311 - val_loss: 5.0543 - val_output_activity_loss: 1.0401 - val_output_type_loss: 0.4164 - val_output_user_loss: 3.2696 - val_output_timestamp_loss: 0.3281 - val_output_activity_accuracy: 0.8544 - val_output_type_accuracy: 0.8934 - val_output_user_accuracy: 0.5355 - val_output_timestamp_mean_squared_error: 0.3281\n",
      "Epoch 5/20\n",
      "74/74 [==============================] - 81s 1s/step - loss: 2.3476 - output_activity_loss: 0.3459 - output_type_loss: 0.2420 - output_user_loss: 1.6437 - output_timestamp_loss: 0.1160 - output_activity_accuracy: 0.8730 - output_type_accuracy: 0.9020 - output_user_accuracy: 0.6835 - output_timestamp_mean_squared_error: 0.1160 - val_loss: 3.2892 - val_output_activity_loss: 0.5992 - val_output_type_loss: 0.2969 - val_output_user_loss: 2.1816 - val_output_timestamp_loss: 0.2115 - val_output_activity_accuracy: 0.8675 - val_output_type_accuracy: 0.8899 - val_output_user_accuracy: 0.6506 - val_output_timestamp_mean_squared_error: 0.2115\n",
      "Epoch 6/20\n",
      "74/74 [==============================] - 84s 1s/step - loss: 1.9251 - output_activity_loss: 0.3318 - output_type_loss: 0.2389 - output_user_loss: 1.2462 - output_timestamp_loss: 0.1083 - output_activity_accuracy: 0.8775 - output_type_accuracy: 0.9033 - output_user_accuracy: 0.7348 - output_timestamp_mean_squared_error: 0.1083 - val_loss: 2.2153 - val_output_activity_loss: 0.3839 - val_output_type_loss: 0.2435 - val_output_user_loss: 1.4357 - val_output_timestamp_loss: 0.1522 - val_output_activity_accuracy: 0.8732 - val_output_type_accuracy: 0.9036 - val_output_user_accuracy: 0.7121 - val_output_timestamp_mean_squared_error: 0.1522\n",
      "Epoch 7/20\n",
      "74/74 [==============================] - 108s 1s/step - loss: 1.6519 - output_activity_loss: 0.3191 - output_type_loss: 0.2332 - output_user_loss: 0.9976 - output_timestamp_loss: 0.1021 - output_activity_accuracy: 0.8770 - output_type_accuracy: 0.9039 - output_user_accuracy: 0.7674 - output_timestamp_mean_squared_error: 0.1021 - val_loss: 1.6980 - val_output_activity_loss: 0.3228 - val_output_type_loss: 0.2284 - val_output_user_loss: 1.0369 - val_output_timestamp_loss: 0.1099 - val_output_activity_accuracy: 0.8836 - val_output_type_accuracy: 0.9093 - val_output_user_accuracy: 0.7637 - val_output_timestamp_mean_squared_error: 0.1099\n",
      "Epoch 8/20\n",
      "74/74 [==============================] - 103s 1s/step - loss: 1.4742 - output_activity_loss: 0.3050 - output_type_loss: 0.2269 - output_user_loss: 0.8458 - output_timestamp_loss: 0.0965 - output_activity_accuracy: 0.8807 - output_type_accuracy: 0.9053 - output_user_accuracy: 0.7856 - output_timestamp_mean_squared_error: 0.0965 - val_loss: 1.4748 - val_output_activity_loss: 0.2985 - val_output_type_loss: 0.2269 - val_output_user_loss: 0.8536 - val_output_timestamp_loss: 0.0958 - val_output_activity_accuracy: 0.8841 - val_output_type_accuracy: 0.9122 - val_output_user_accuracy: 0.7832 - val_output_timestamp_mean_squared_error: 0.0958\n",
      "Epoch 9/20\n",
      "74/74 [==============================] - 116s 2s/step - loss: 1.3611 - output_activity_loss: 0.2938 - output_type_loss: 0.2218 - output_user_loss: 0.7505 - output_timestamp_loss: 0.0950 - output_activity_accuracy: 0.8819 - output_type_accuracy: 0.9071 - output_user_accuracy: 0.7966 - output_timestamp_mean_squared_error: 0.0950 - val_loss: 1.3308 - val_output_activity_loss: 0.2866 - val_output_type_loss: 0.2191 - val_output_user_loss: 0.7478 - val_output_timestamp_loss: 0.0773 - val_output_activity_accuracy: 0.8852 - val_output_type_accuracy: 0.9099 - val_output_user_accuracy: 0.7897 - val_output_timestamp_mean_squared_error: 0.0773\n",
      "Epoch 10/20\n",
      "74/74 [==============================] - 102s 1s/step - loss: 1.2771 - output_activity_loss: 0.2853 - output_type_loss: 0.2166 - output_user_loss: 0.6849 - output_timestamp_loss: 0.0904 - output_activity_accuracy: 0.8836 - output_type_accuracy: 0.9084 - output_user_accuracy: 0.8032 - output_timestamp_mean_squared_error: 0.0904 - val_loss: 1.2440 - val_output_activity_loss: 0.2880 - val_output_type_loss: 0.2191 - val_output_user_loss: 0.6749 - val_output_timestamp_loss: 0.0619 - val_output_activity_accuracy: 0.8807 - val_output_type_accuracy: 0.9070 - val_output_user_accuracy: 0.7934 - val_output_timestamp_mean_squared_error: 0.0619\n",
      "Epoch 11/20\n",
      "74/74 [==============================] - 89s 1s/step - loss: 1.2217 - output_activity_loss: 0.2757 - output_type_loss: 0.2098 - output_user_loss: 0.6485 - output_timestamp_loss: 0.0876 - output_activity_accuracy: 0.8873 - output_type_accuracy: 0.9115 - output_user_accuracy: 0.8070 - output_timestamp_mean_squared_error: 0.0876 - val_loss: 1.2070 - val_output_activity_loss: 0.2807 - val_output_type_loss: 0.2206 - val_output_user_loss: 0.6400 - val_output_timestamp_loss: 0.0657 - val_output_activity_accuracy: 0.8861 - val_output_type_accuracy: 0.9097 - val_output_user_accuracy: 0.7988 - val_output_timestamp_mean_squared_error: 0.0657\n",
      "Epoch 12/20\n",
      "74/74 [==============================] - 90s 1s/step - loss: 1.1805 - output_activity_loss: 0.2705 - output_type_loss: 0.2071 - output_user_loss: 0.6165 - output_timestamp_loss: 0.0863 - output_activity_accuracy: 0.8879 - output_type_accuracy: 0.9119 - output_user_accuracy: 0.8109 - output_timestamp_mean_squared_error: 0.0863 - val_loss: 1.1816 - val_output_activity_loss: 0.2779 - val_output_type_loss: 0.2223 - val_output_user_loss: 0.6202 - val_output_timestamp_loss: 0.0613 - val_output_activity_accuracy: 0.8870 - val_output_type_accuracy: 0.9096 - val_output_user_accuracy: 0.8052 - val_output_timestamp_mean_squared_error: 0.0613\n",
      "Epoch 13/20\n",
      "74/74 [==============================] - 94s 1s/step - loss: 1.1495 - output_activity_loss: 0.2646 - output_type_loss: 0.2058 - output_user_loss: 0.5946 - output_timestamp_loss: 0.0844 - output_activity_accuracy: 0.8901 - output_type_accuracy: 0.9111 - output_user_accuracy: 0.8141 - output_timestamp_mean_squared_error: 0.0844 - val_loss: 1.1623 - val_output_activity_loss: 0.2762 - val_output_type_loss: 0.2187 - val_output_user_loss: 0.6052 - val_output_timestamp_loss: 0.0621 - val_output_activity_accuracy: 0.8852 - val_output_type_accuracy: 0.9101 - val_output_user_accuracy: 0.8040 - val_output_timestamp_mean_squared_error: 0.0621\n",
      "Epoch 14/20\n",
      "74/74 [==============================] - 87s 1s/step - loss: 1.1232 - output_activity_loss: 0.2633 - output_type_loss: 0.2018 - output_user_loss: 0.5749 - output_timestamp_loss: 0.0832 - output_activity_accuracy: 0.8889 - output_type_accuracy: 0.9128 - output_user_accuracy: 0.8172 - output_timestamp_mean_squared_error: 0.0832 - val_loss: 1.1374 - val_output_activity_loss: 0.2763 - val_output_type_loss: 0.2171 - val_output_user_loss: 0.5885 - val_output_timestamp_loss: 0.0555 - val_output_activity_accuracy: 0.8821 - val_output_type_accuracy: 0.9075 - val_output_user_accuracy: 0.8037 - val_output_timestamp_mean_squared_error: 0.0555\n",
      "Epoch 15/20\n",
      "74/74 [==============================] - 81s 1s/step - loss: 1.0989 - output_activity_loss: 0.2549 - output_type_loss: 0.1984 - output_user_loss: 0.5641 - output_timestamp_loss: 0.0815 - output_activity_accuracy: 0.8919 - output_type_accuracy: 0.9134 - output_user_accuracy: 0.8160 - output_timestamp_mean_squared_error: 0.0815 - val_loss: 1.1336 - val_output_activity_loss: 0.2778 - val_output_type_loss: 0.2156 - val_output_user_loss: 0.5828 - val_output_timestamp_loss: 0.0575 - val_output_activity_accuracy: 0.8830 - val_output_type_accuracy: 0.9107 - val_output_user_accuracy: 0.8024 - val_output_timestamp_mean_squared_error: 0.0575\n",
      "Epoch 16/20\n",
      "74/74 [==============================] - 81s 1s/step - loss: 1.0823 - output_activity_loss: 0.2538 - output_type_loss: 0.1975 - output_user_loss: 0.5499 - output_timestamp_loss: 0.0811 - output_activity_accuracy: 0.8914 - output_type_accuracy: 0.9148 - output_user_accuracy: 0.8196 - output_timestamp_mean_squared_error: 0.0811 - val_loss: 1.1252 - val_output_activity_loss: 0.2784 - val_output_type_loss: 0.2194 - val_output_user_loss: 0.5701 - val_output_timestamp_loss: 0.0574 - val_output_activity_accuracy: 0.8859 - val_output_type_accuracy: 0.9094 - val_output_user_accuracy: 0.8046 - val_output_timestamp_mean_squared_error: 0.0574\n",
      "Epoch 17/20\n",
      "74/74 [==============================] - 81s 1s/step - loss: 1.0662 - output_activity_loss: 0.2494 - output_type_loss: 0.1950 - output_user_loss: 0.5420 - output_timestamp_loss: 0.0798 - output_activity_accuracy: 0.8944 - output_type_accuracy: 0.9147 - output_user_accuracy: 0.8193 - output_timestamp_mean_squared_error: 0.0798 - val_loss: 1.1304 - val_output_activity_loss: 0.2800 - val_output_type_loss: 0.2210 - val_output_user_loss: 0.5745 - val_output_timestamp_loss: 0.0550 - val_output_activity_accuracy: 0.8814 - val_output_type_accuracy: 0.9082 - val_output_user_accuracy: 0.8045 - val_output_timestamp_mean_squared_error: 0.0550\n",
      "Epoch 18/20\n",
      "74/74 [==============================] - 84s 1s/step - loss: 1.0476 - output_activity_loss: 0.2466 - output_type_loss: 0.1927 - output_user_loss: 0.5288 - output_timestamp_loss: 0.0795 - output_activity_accuracy: 0.8949 - output_type_accuracy: 0.9164 - output_user_accuracy: 0.8224 - output_timestamp_mean_squared_error: 0.0795 - val_loss: 1.1352 - val_output_activity_loss: 0.2784 - val_output_type_loss: 0.2199 - val_output_user_loss: 0.5803 - val_output_timestamp_loss: 0.0567 - val_output_activity_accuracy: 0.8840 - val_output_type_accuracy: 0.9088 - val_output_user_accuracy: 0.8036 - val_output_timestamp_mean_squared_error: 0.0567\n",
      "Epoch 19/20\n",
      "74/74 [==============================] - 82s 1s/step - loss: 1.0356 - output_activity_loss: 0.2441 - output_type_loss: 0.1897 - output_user_loss: 0.5239 - output_timestamp_loss: 0.0779 - output_activity_accuracy: 0.8955 - output_type_accuracy: 0.9174 - output_user_accuracy: 0.8248 - output_timestamp_mean_squared_error: 0.0779 - val_loss: 1.1274 - val_output_activity_loss: 0.2793 - val_output_type_loss: 0.2222 - val_output_user_loss: 0.5723 - val_output_timestamp_loss: 0.0536 - val_output_activity_accuracy: 0.8802 - val_output_type_accuracy: 0.9053 - val_output_user_accuracy: 0.8022 - val_output_timestamp_mean_squared_error: 0.0536\n",
      "Epoch 20/20\n",
      "74/74 [==============================] - 83s 1s/step - loss: 1.0237 - output_activity_loss: 0.2420 - output_type_loss: 0.1885 - output_user_loss: 0.5162 - output_timestamp_loss: 0.0770 - output_activity_accuracy: 0.8969 - output_type_accuracy: 0.9165 - output_user_accuracy: 0.8254 - output_timestamp_mean_squared_error: 0.0770 - val_loss: 1.1139 - val_output_activity_loss: 0.2781 - val_output_type_loss: 0.2196 - val_output_user_loss: 0.5614 - val_output_timestamp_loss: 0.0548 - val_output_activity_accuracy: 0.8852 - val_output_type_accuracy: 0.9112 - val_output_user_accuracy: 0.8100 - val_output_timestamp_mean_squared_error: 0.0548\n"
     ]
    }
   ],
   "source": [
    "# Train the model\n",
    "history = model.fit(\n",
    "    [train_activity, train_type, train_user, train_timestamp],\n",
    "    [train_targets_activity, train_targets_type, train_targets_user, train_targets_timestamp],\n",
    "    validation_data=([test_activity, test_type, test_user, test_timestamp], [test_targets_activity, test_targets_type, test_targets_user, test_targets_timestamp]),\n",
    "    epochs=20,\n",
    "    batch_size=500\n",
    ")"
   ]
  },
  {
   "cell_type": "code",
   "execution_count": 16,
   "metadata": {},
   "outputs": [
    {
     "name": "stdout",
     "output_type": "stream",
     "text": [
      "246/246 [==============================] - 12s 48ms/step - loss: 1.1139 - output_activity_loss: 0.2781 - output_type_loss: 0.2196 - output_user_loss: 0.5614 - output_timestamp_loss: 0.0548 - output_activity_accuracy: 0.8852 - output_type_accuracy: 0.9112 - output_user_accuracy: 0.8100 - output_timestamp_mean_squared_error: 0.0548\n",
      "Validation Loss: 1.1139329671859741, Validation Accuracy: 0.27813807129859924\n"
     ]
    }
   ],
   "source": [
    "# Evaluate the model on the validation set\n",
    "results = model.evaluate(\n",
    "    [test_activity, test_type, test_user, test_timestamp],\n",
    "    [test_targets_activity, test_targets_type, test_targets_user, test_targets_timestamp],\n",
    "    batch_size=64\n",
    ")\n",
    "print(f\"Validation Loss: {results[0]}, Validation Accuracy: {results[1]}\")\n"
   ]
  },
  {
   "cell_type": "code",
   "execution_count": 17,
   "metadata": {},
   "outputs": [
    {
     "name": "stderr",
     "output_type": "stream",
     "text": [
      "/opt/anaconda3/lib/python3.9/site-packages/keras/src/engine/training.py:3000: UserWarning: You are saving your model as an HDF5 file via `model.save()`. This file format is considered legacy. We recommend using instead the native Keras format, e.g. `model.save('my_model.keras')`.\n",
      "  saving_api.save_model(\n"
     ]
    }
   ],
   "source": [
    "# Save the model to an H5 file\n",
    "model.save('mobis.h5')"
   ]
  },
  {
   "cell_type": "markdown",
   "metadata": {},
   "source": [
    "# Anomaly Score Computation"
   ]
  },
  {
   "cell_type": "markdown",
   "metadata": {},
   "source": [
    "- For each event attribute, BINet's softmax layer outputs a probability distribution over possible values\n",
    "- The anomaly score for a specific attribute value v is calculated by summing all the probabilities from the softmax output that are greater than the probability assigned to v"
   ]
  },
  {
   "cell_type": "code",
   "execution_count": 18,
   "metadata": {},
   "outputs": [
    {
     "name": "stdout",
     "output_type": "stream",
     "text": [
      "1640/1640 [==============================] - 54s 30ms/step\n"
     ]
    }
   ],
   "source": [
    "# Generate predictions for all inputs\n",
    "predictions = model.predict([windows_activity, windows_type, windows_user, windows_timestamp])\n",
    "\n",
    "\n",
    "# Extract predictions for categorical attributes (softmax probabilities)\n",
    "predictions_activity = predictions[0]\n",
    "predictions_type = predictions[1]\n",
    "predictions_user = predictions[2]  \n",
    "predictions_timestamp = predictions[3]  "
   ]
  },
  {
   "cell_type": "code",
   "execution_count": 19,
   "metadata": {},
   "outputs": [],
   "source": [
    "import numpy as np\n",
    "\n",
    "def calculate_anomaly_scores(predictions, targets):\n",
    "    scores = []\n",
    "    # Loop through each example in the predictions\n",
    "    for i in range(predictions.shape[0]):\n",
    "        actual_prob = predictions[i, targets[i]]  # Extract the probability of the true class using target index\n",
    "        # Calculate anomaly score as sum of probabilities greater than the probability of the actual value\n",
    "        anomaly_score = np.sum(predictions[i][predictions[i] > actual_prob])\n",
    "        scores.append(anomaly_score)\n",
    "\n",
    "    return scores"
   ]
  },
  {
   "cell_type": "code",
   "execution_count": 20,
   "metadata": {},
   "outputs": [],
   "source": [
    "anomaly_scores_user = calculate_anomaly_scores(predictions_user, targets_user.astype(int))\n",
    "anomaly_scores_activity = calculate_anomaly_scores(predictions_activity, targets_activity.astype(int))\n",
    "anomaly_scores_type = calculate_anomaly_scores(predictions_type, targets_type.astype(int))"
   ]
  },
  {
   "cell_type": "code",
   "execution_count": 21,
   "metadata": {},
   "outputs": [],
   "source": [
    "def compute_anomaly_scores_continuous(predictions, actuals):\n",
    "    # Calculate absolute differences\n",
    "    differences = np.abs(predictions - actuals)\n",
    "    \n",
    "    # Normalize to [0, 1] range\n",
    "    max_diff = np.max(differences)\n",
    "    normalized_scores = differences / max_diff if max_diff != 0 else differences\n",
    "    \n",
    "    return normalized_scores"
   ]
  },
  {
   "cell_type": "code",
   "execution_count": 22,
   "metadata": {},
   "outputs": [],
   "source": [
    "anomaly_scores_timestamp = compute_anomaly_scores_continuous(predictions_timestamp, targets_timestamp)\n",
    "anomaly_scores_timestamp = anomaly_scores_timestamp.flatten()\n",
    "anomaly_scores_timestamp = anomaly_scores_timestamp.tolist()"
   ]
  },
  {
   "cell_type": "markdown",
   "metadata": {},
   "source": [
    "### Threshold (lowest plateau)"
   ]
  },
  {
   "cell_type": "code",
   "execution_count": 43,
   "metadata": {},
   "outputs": [],
   "source": [
    "import numpy as np\n",
    "\n",
    "def calculate_anomaly_ratio(scores, threshold):\n",
    "    \"\"\"\n",
    "    Calculate the anomaly ratio for a given threshold.\n",
    "    \"\"\"\n",
    "    return np.mean(scores > threshold)\n",
    "\n",
    "def find_plateaus(scores, epsilon=1e-4, min_plateau_length=10):\n",
    "    \"\"\"\n",
    "    Identify the lowest plateau in the anomaly ratio function and calculate the mean-centered threshold.\n",
    "    \"\"\"\n",
    "    scores = np.array(scores)  # Convert scores to a NumPy array\n",
    "    sorted_scores = np.sort(scores)\n",
    "    \n",
    "    # Remove duplicate values\n",
    "    unique_thresholds, unique_indices = np.unique(sorted_scores, return_index=True)\n",
    "    anomaly_ratios = np.array([calculate_anomaly_ratio(scores, t) for t in unique_thresholds])\n",
    "    \n",
    "    # Calculate first and second derivatives\n",
    "    first_derivatives = np.diff(anomaly_ratios) / np.diff(unique_thresholds)\n",
    "    second_derivatives = np.diff(first_derivatives) / np.diff(unique_thresholds[:-1])\n",
    "    \n",
    "    # Identify plateaus where the first derivative is close to zero\n",
    "    plateau_indices = np.where(np.abs(first_derivatives) < epsilon)[0]\n",
    "    \n",
    "    # Group consecutive indices to identify continuous plateaus\n",
    "    grouped_plateaus = np.split(plateau_indices, np.where(np.diff(plateau_indices) != 1)[0] + 1)\n",
    "    \n",
    "    # Filter plateaus based on minimum length\n",
    "    long_plateaus = [g for g in grouped_plateaus if len(g) >= min_plateau_length]\n",
    "    \n",
    "    if long_plateaus:\n",
    "        # Take the first long plateau and find the mean threshold in this plateau\n",
    "        first_plateau = long_plateaus[0]\n",
    "        plateau_thresholds = unique_thresholds[first_plateau]\n",
    "        return np.mean(plateau_thresholds)\n",
    "    else:\n",
    "        # If no plateau is found, return a default value, e.g., the 90th percentile\n",
    "        percentile_90 = np.percentile(sorted_scores, 90)\n",
    "        if percentile_90 == 1.0:\n",
    "            return 0.4\n",
    "        else:\n",
    "            return percentile_90"
   ]
  },
  {
   "cell_type": "code",
   "execution_count": 44,
   "metadata": {},
   "outputs": [],
   "source": [
    "threshold_activity = find_plateaus(anomaly_scores_activity)\n",
    "threshold_user = find_plateaus(anomaly_scores_user)\n",
    "threshold_type = find_plateaus(anomaly_scores_type)\n",
    "threshold_timestamp = find_plateaus(anomaly_scores_timestamp)"
   ]
  },
  {
   "cell_type": "markdown",
   "metadata": {},
   "source": [
    "### Detection"
   ]
  },
  {
   "cell_type": "code",
   "execution_count": 25,
   "metadata": {},
   "outputs": [],
   "source": [
    "def detect_anomalies(anomaly_scores, threshold):\n",
    "    labels = [1 if score > threshold else 0 for score in anomaly_scores]\n",
    "    return labels"
   ]
  },
  {
   "cell_type": "code",
   "execution_count": 26,
   "metadata": {},
   "outputs": [],
   "source": [
    "# Detect anomalies based on the calculated anomaly scores and thresholds\n",
    "labels_activity = detect_anomalies(anomaly_scores_activity, threshold_activity)\n",
    "labels_user = detect_anomalies(anomaly_scores_user, threshold_user)\n",
    "labels_type = detect_anomalies(anomaly_scores_type, threshold_type)\n",
    "labels_timestamp = detect_anomalies(anomaly_scores_timestamp, threshold_timestamp)"
   ]
  },
  {
   "cell_type": "markdown",
   "metadata": {},
   "source": [
    "# Mapping"
   ]
  },
  {
   "cell_type": "code",
   "execution_count": 27,
   "metadata": {},
   "outputs": [
    {
     "data": {
      "text/html": [
       "<div>\n",
       "<style scoped>\n",
       "    .dataframe tbody tr th:only-of-type {\n",
       "        vertical-align: middle;\n",
       "    }\n",
       "\n",
       "    .dataframe tbody tr th {\n",
       "        vertical-align: top;\n",
       "    }\n",
       "\n",
       "    .dataframe thead th {\n",
       "        text-align: right;\n",
       "    }\n",
       "</style>\n",
       "<table border=\"1\" class=\"dataframe\">\n",
       "  <thead>\n",
       "    <tr style=\"text-align: right;\">\n",
       "      <th></th>\n",
       "      <th>case</th>\n",
       "      <th>predicted_activity</th>\n",
       "      <th>predicted_user</th>\n",
       "      <th>predicted_type</th>\n",
       "      <th>predicted_timestamp</th>\n",
       "    </tr>\n",
       "  </thead>\n",
       "  <tbody>\n",
       "    <tr>\n",
       "      <th>0</th>\n",
       "      <td>0</td>\n",
       "      <td>0</td>\n",
       "      <td>1</td>\n",
       "      <td>1</td>\n",
       "      <td>0</td>\n",
       "    </tr>\n",
       "    <tr>\n",
       "      <th>1</th>\n",
       "      <td>0</td>\n",
       "      <td>0</td>\n",
       "      <td>1</td>\n",
       "      <td>1</td>\n",
       "      <td>0</td>\n",
       "    </tr>\n",
       "    <tr>\n",
       "      <th>2</th>\n",
       "      <td>0</td>\n",
       "      <td>0</td>\n",
       "      <td>1</td>\n",
       "      <td>0</td>\n",
       "      <td>0</td>\n",
       "    </tr>\n",
       "    <tr>\n",
       "      <th>3</th>\n",
       "      <td>0</td>\n",
       "      <td>0</td>\n",
       "      <td>0</td>\n",
       "      <td>0</td>\n",
       "      <td>1</td>\n",
       "    </tr>\n",
       "    <tr>\n",
       "      <th>4</th>\n",
       "      <td>0</td>\n",
       "      <td>0</td>\n",
       "      <td>0</td>\n",
       "      <td>0</td>\n",
       "      <td>0</td>\n",
       "    </tr>\n",
       "    <tr>\n",
       "      <th>...</th>\n",
       "      <td>...</td>\n",
       "      <td>...</td>\n",
       "      <td>...</td>\n",
       "      <td>...</td>\n",
       "      <td>...</td>\n",
       "    </tr>\n",
       "    <tr>\n",
       "      <th>52450</th>\n",
       "      <td>3353</td>\n",
       "      <td>0</td>\n",
       "      <td>0</td>\n",
       "      <td>0</td>\n",
       "      <td>0</td>\n",
       "    </tr>\n",
       "    <tr>\n",
       "      <th>52451</th>\n",
       "      <td>3353</td>\n",
       "      <td>0</td>\n",
       "      <td>0</td>\n",
       "      <td>0</td>\n",
       "      <td>0</td>\n",
       "    </tr>\n",
       "    <tr>\n",
       "      <th>52452</th>\n",
       "      <td>3353</td>\n",
       "      <td>0</td>\n",
       "      <td>0</td>\n",
       "      <td>0</td>\n",
       "      <td>0</td>\n",
       "    </tr>\n",
       "    <tr>\n",
       "      <th>52453</th>\n",
       "      <td>3353</td>\n",
       "      <td>0</td>\n",
       "      <td>0</td>\n",
       "      <td>0</td>\n",
       "      <td>0</td>\n",
       "    </tr>\n",
       "    <tr>\n",
       "      <th>52454</th>\n",
       "      <td>3353</td>\n",
       "      <td>0</td>\n",
       "      <td>0</td>\n",
       "      <td>0</td>\n",
       "      <td>0</td>\n",
       "    </tr>\n",
       "  </tbody>\n",
       "</table>\n",
       "<p>52455 rows × 5 columns</p>\n",
       "</div>"
      ],
      "text/plain": [
       "       case  predicted_activity  predicted_user  predicted_type  \\\n",
       "0         0                   0               1               1   \n",
       "1         0                   0               1               1   \n",
       "2         0                   0               1               0   \n",
       "3         0                   0               0               0   \n",
       "4         0                   0               0               0   \n",
       "...     ...                 ...             ...             ...   \n",
       "52450  3353                   0               0               0   \n",
       "52451  3353                   0               0               0   \n",
       "52452  3353                   0               0               0   \n",
       "52453  3353                   0               0               0   \n",
       "52454  3353                   0               0               0   \n",
       "\n",
       "       predicted_timestamp  \n",
       "0                        0  \n",
       "1                        0  \n",
       "2                        0  \n",
       "3                        1  \n",
       "4                        0  \n",
       "...                    ...  \n",
       "52450                    0  \n",
       "52451                    0  \n",
       "52452                    0  \n",
       "52453                    0  \n",
       "52454                    0  \n",
       "\n",
       "[52455 rows x 5 columns]"
      ]
     },
     "execution_count": 27,
     "metadata": {},
     "output_type": "execute_result"
    }
   ],
   "source": [
    "import pandas as pd\n",
    "\n",
    "# Create a DataFrame from the case_indices_array corresponding to case_resource\n",
    "mapping = pd.DataFrame({'case': case_indices})\n",
    "mapping['predicted_activity'] = labels_activity\n",
    "mapping['predicted_user'] = labels_user\n",
    "mapping['predicted_type'] = labels_type\n",
    "mapping['predicted_timestamp'] = labels_timestamp\n",
    "\n",
    "mapping"
   ]
  },
  {
   "cell_type": "code",
   "execution_count": 28,
   "metadata": {},
   "outputs": [
    {
     "data": {
      "text/plain": [
       "case\n",
       "0       True\n",
       "1       True\n",
       "2       True\n",
       "3       True\n",
       "4       True\n",
       "        ... \n",
       "3349    True\n",
       "3350    True\n",
       "3351    True\n",
       "3352    True\n",
       "3353    True\n",
       "Length: 3354, dtype: bool"
      ]
     },
     "execution_count": 28,
     "metadata": {},
     "output_type": "execute_result"
    }
   ],
   "source": [
    "# Create a boolean DataFrame where each value is True if the value is 1\n",
    "contains_one = (mapping[['predicted_activity', 'predicted_user', 'predicted_type', 'predicted_timestamp']] == 1)\n",
    "\n",
    "# Group by 'case' and check if there's at least one 'True' in any of the columns\n",
    "case_prediction = contains_one.groupby(mapping['case']).any().any(axis=1)\n",
    "case_prediction"
   ]
  },
  {
   "cell_type": "markdown",
   "metadata": {},
   "source": [
    "# Ground Truth"
   ]
  },
  {
   "cell_type": "code",
   "execution_count": 29,
   "metadata": {},
   "outputs": [],
   "source": [
    "def generate_alignments_adjusted_tracecost_pkl(log, net, initial_marking, final_marking):\n",
    "    from pm4py.algo.conformance.alignments.petri_net import algorithm as alignments\n",
    "    from pm4py.algo.conformance.alignments.petri_net import variants\n",
    "    from pm4py.objects.petri_net.utils import align_utils\n",
    "    max_events=0\n",
    "    for trace in log:\n",
    "        counter=0\n",
    "        for event in trace:\n",
    "            counter+=1\n",
    "        if counter > max_events:\n",
    "            max_events=counter\n",
    "    parameters={}\n",
    "    parameters[alignments.Variants.VERSION_STATE_EQUATION_A_STAR.value.Parameters.PARAM_SYNC_COST_FUNCTION] = list(map(lambda i: .1*i, range(max_events*2)))\n",
    "    parameters[alignments.Variants.VERSION_STATE_EQUATION_A_STAR.value.Parameters.PARAM_TRACE_COST_FUNCTION]=list(map(lambda i: align_utils.STD_MODEL_LOG_MOVE_COST-.1*i, range(max_events*2)))\n",
    "    aligned_traces = alignments.apply_log(log, net, initial_marking, final_marking, variant=variants.state_equation_a_star, parameters=parameters)\n",
    "    return aligned_traces"
   ]
  },
  {
   "cell_type": "code",
   "execution_count": 30,
   "metadata": {},
   "outputs": [
    {
     "data": {
      "application/vnd.jupyter.widget-view+json": {
       "model_id": "00af05a2dc124f16847cdd169d66d29a",
       "version_major": 2,
       "version_minor": 0
      },
      "text/plain": [
       "aligning log, completed variants ::   0%|          | 0/295 [00:00<?, ?it/s]"
      ]
     },
     "metadata": {},
     "output_type": "display_data"
    }
   ],
   "source": [
    "import pm4py\n",
    "from pm4py.objects.log.importer.xes import importer as xes_importer\n",
    "from pm4py.objects.bpmn.importer import importer as bpmn_importer\n",
    "from pm4py.algo.conformance.alignments.petri_net import algorithm as alignments_petri\n",
    "\n",
    "# 2. Import the given BPMN model\n",
    "bpmn_graph = bpmn_importer.apply(\"../../data/model/MobisToBe.bpmn\")\n",
    "\n",
    "# 3. Convert the BPMN to a Petri net\n",
    "net, initial_marking, final_marking = pm4py.convert_to_petri_net(bpmn_graph)\n",
    "\n",
    "aligned_traces = generate_alignments_adjusted_tracecost_pkl(log, net, initial_marking, final_marking)"
   ]
  },
  {
   "cell_type": "code",
   "execution_count": 31,
   "metadata": {},
   "outputs": [],
   "source": [
    "def extract_conformance_status_by_fitness(aligned_traces):\n",
    "    conformance_status = []\n",
    "    for alignment in aligned_traces:\n",
    "        fitness = alignment['fitness']\n",
    "        # If the fitness is 1.0, the trace is conforming\n",
    "        if fitness == 1.0:\n",
    "            conformance_status.append(1)\n",
    "        else:\n",
    "            conformance_status.append(0)\n",
    "    return conformance_status\n",
    "\n",
    "# Get the conformance status list from the aligned traces\n",
    "conformance = extract_conformance_status_by_fitness(aligned_traces)"
   ]
  },
  {
   "cell_type": "code",
   "execution_count": 32,
   "metadata": {},
   "outputs": [
    {
     "data": {
      "text/html": [
       "<div>\n",
       "<style scoped>\n",
       "    .dataframe tbody tr th:only-of-type {\n",
       "        vertical-align: middle;\n",
       "    }\n",
       "\n",
       "    .dataframe tbody tr th {\n",
       "        vertical-align: top;\n",
       "    }\n",
       "\n",
       "    .dataframe thead th {\n",
       "        text-align: right;\n",
       "    }\n",
       "</style>\n",
       "<table border=\"1\" class=\"dataframe\">\n",
       "  <thead>\n",
       "    <tr style=\"text-align: right;\">\n",
       "      <th></th>\n",
       "      <th>conformity</th>\n",
       "      <th>predicted</th>\n",
       "    </tr>\n",
       "  </thead>\n",
       "  <tbody>\n",
       "    <tr>\n",
       "      <th>0</th>\n",
       "      <td>1</td>\n",
       "      <td>1</td>\n",
       "    </tr>\n",
       "    <tr>\n",
       "      <th>1</th>\n",
       "      <td>0</td>\n",
       "      <td>1</td>\n",
       "    </tr>\n",
       "    <tr>\n",
       "      <th>2</th>\n",
       "      <td>1</td>\n",
       "      <td>1</td>\n",
       "    </tr>\n",
       "    <tr>\n",
       "      <th>3</th>\n",
       "      <td>0</td>\n",
       "      <td>1</td>\n",
       "    </tr>\n",
       "    <tr>\n",
       "      <th>4</th>\n",
       "      <td>0</td>\n",
       "      <td>1</td>\n",
       "    </tr>\n",
       "    <tr>\n",
       "      <th>...</th>\n",
       "      <td>...</td>\n",
       "      <td>...</td>\n",
       "    </tr>\n",
       "    <tr>\n",
       "      <th>3349</th>\n",
       "      <td>1</td>\n",
       "      <td>1</td>\n",
       "    </tr>\n",
       "    <tr>\n",
       "      <th>3350</th>\n",
       "      <td>0</td>\n",
       "      <td>1</td>\n",
       "    </tr>\n",
       "    <tr>\n",
       "      <th>3351</th>\n",
       "      <td>1</td>\n",
       "      <td>1</td>\n",
       "    </tr>\n",
       "    <tr>\n",
       "      <th>3352</th>\n",
       "      <td>1</td>\n",
       "      <td>1</td>\n",
       "    </tr>\n",
       "    <tr>\n",
       "      <th>3353</th>\n",
       "      <td>1</td>\n",
       "      <td>1</td>\n",
       "    </tr>\n",
       "  </tbody>\n",
       "</table>\n",
       "<p>3354 rows × 2 columns</p>\n",
       "</div>"
      ],
      "text/plain": [
       "      conformity  predicted\n",
       "0              1          1\n",
       "1              0          1\n",
       "2              1          1\n",
       "3              0          1\n",
       "4              0          1\n",
       "...          ...        ...\n",
       "3349           1          1\n",
       "3350           0          1\n",
       "3351           1          1\n",
       "3352           1          1\n",
       "3353           1          1\n",
       "\n",
       "[3354 rows x 2 columns]"
      ]
     },
     "execution_count": 32,
     "metadata": {},
     "output_type": "execute_result"
    }
   ],
   "source": [
    "ground_truth = pd.DataFrame({'conformity': conformance})\n",
    "ground_truth['predicted'] = case_prediction\n",
    "\n",
    "# Convert False to 0 and True to 1\n",
    "ground_truth['predicted'] = [int(value) for value in ground_truth['predicted']]\n",
    "ground_truth"
   ]
  },
  {
   "cell_type": "markdown",
   "metadata": {},
   "source": [
    "# Evaluation"
   ]
  },
  {
   "cell_type": "code",
   "execution_count": 33,
   "metadata": {},
   "outputs": [],
   "source": [
    "# Calculating TP, TN, FP, FN\n",
    "TP = ((ground_truth['conformity'] == 1) & (ground_truth['predicted'] == 1)).sum()\n",
    "TN = ((ground_truth['conformity'] == 0) & (ground_truth['predicted'] == 0)).sum()\n",
    "FP = ((ground_truth['conformity'] == 0) & (ground_truth['predicted'] == 1)).sum()\n",
    "FN = ((ground_truth['conformity'] == 1) & (ground_truth['predicted'] == 0)).sum()"
   ]
  },
  {
   "cell_type": "code",
   "execution_count": 34,
   "metadata": {},
   "outputs": [
    {
     "name": "stdout",
     "output_type": "stream",
     "text": [
      "Precision Dev: 0.50\n"
     ]
    }
   ],
   "source": [
    "precision_dev = TP / (TP + FP)\n",
    "print(f\"Precision Dev: {precision_dev:.2f}\")"
   ]
  },
  {
   "cell_type": "code",
   "execution_count": 35,
   "metadata": {},
   "outputs": [
    {
     "name": "stdout",
     "output_type": "stream",
     "text": [
      "Recall Dev: 0.97\n"
     ]
    }
   ],
   "source": [
    "recall_dev = TP / (TP + FN)\n",
    "print(f\"Recall Dev: {recall_dev:.2f}\")"
   ]
  },
  {
   "cell_type": "code",
   "execution_count": 36,
   "metadata": {},
   "outputs": [
    {
     "name": "stdout",
     "output_type": "stream",
     "text": [
      "Precision No Dev: 0.00\n"
     ]
    }
   ],
   "source": [
    "precision_no_dev = TN / (TN + FN)\n",
    "print(f\"Precision No Dev: {precision_no_dev:.2f}\")"
   ]
  },
  {
   "cell_type": "code",
   "execution_count": 37,
   "metadata": {},
   "outputs": [
    {
     "name": "stdout",
     "output_type": "stream",
     "text": [
      "Recall No Dev: 0.00\n"
     ]
    }
   ],
   "source": [
    "recall_no_dev = TN / (TN + FP)\n",
    "print(f\"Recall No Dev: {recall_no_dev:.2f}\")"
   ]
  },
  {
   "cell_type": "code",
   "execution_count": 38,
   "metadata": {},
   "outputs": [
    {
     "name": "stdout",
     "output_type": "stream",
     "text": [
      "AUC-ROC: 0.49\n"
     ]
    }
   ],
   "source": [
    "from sklearn.metrics import roc_auc_score\n",
    "\n",
    "auc_roc = roc_auc_score(ground_truth['conformity'], ground_truth['predicted'])\n",
    "print(f\"AUC-ROC: {auc_roc:.2f}\")"
   ]
  }
 ],
 "metadata": {
  "kernelspec": {
   "display_name": "lstm",
   "language": "python",
   "name": "python3"
  },
  "language_info": {
   "codemirror_mode": {
    "name": "ipython",
    "version": 3
   },
   "file_extension": ".py",
   "mimetype": "text/x-python",
   "name": "python",
   "nbconvert_exporter": "python",
   "pygments_lexer": "ipython3",
   "version": "3.9.13"
  }
 },
 "nbformat": 4,
 "nbformat_minor": 2
}

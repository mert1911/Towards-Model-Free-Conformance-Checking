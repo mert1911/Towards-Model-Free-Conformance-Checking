{
 "cells": [
  {
   "cell_type": "markdown",
   "metadata": {},
   "source": [
    "# Import Event Log"
   ]
  },
  {
   "cell_type": "code",
   "execution_count": 1,
   "metadata": {},
   "outputs": [
    {
     "name": "stderr",
     "output_type": "stream",
     "text": [
      "/opt/anaconda3/lib/python3.9/site-packages/pm4py/util/dt_parsing/parser.py:76: UserWarning: ISO8601 strings are not fully supported with strpfromiso for Python versions below 3.11\n",
      "  warnings.warn(\n"
     ]
    },
    {
     "data": {
      "application/vnd.jupyter.widget-view+json": {
       "model_id": "5d3bcafe90044e0e810f6e3ff2672f8b",
       "version_major": 2,
       "version_minor": 0
      },
      "text/plain": [
       "parsing log, completed traces ::   0%|          | 0/2099 [00:00<?, ?it/s]"
      ]
     },
     "metadata": {},
     "output_type": "display_data"
    },
    {
     "data": {
      "text/html": [
       "<div>\n",
       "<style scoped>\n",
       "    .dataframe tbody tr th:only-of-type {\n",
       "        vertical-align: middle;\n",
       "    }\n",
       "\n",
       "    .dataframe tbody tr th {\n",
       "        vertical-align: top;\n",
       "    }\n",
       "\n",
       "    .dataframe thead th {\n",
       "        text-align: right;\n",
       "    }\n",
       "</style>\n",
       "<table border=\"1\" class=\"dataframe\">\n",
       "  <thead>\n",
       "    <tr style=\"text-align: right;\">\n",
       "      <th></th>\n",
       "      <th>id</th>\n",
       "      <th>org:resource</th>\n",
       "      <th>concept:name</th>\n",
       "      <th>time:timestamp</th>\n",
       "      <th>org:role</th>\n",
       "      <th>case:Rfp_id</th>\n",
       "      <th>case:Permit travel permit number</th>\n",
       "      <th>case:Task</th>\n",
       "      <th>case:OrganizationalEntity</th>\n",
       "      <th>case:RequestedAmount</th>\n",
       "      <th>...</th>\n",
       "      <th>case:Permit ProjectNumber</th>\n",
       "      <th>case:Project</th>\n",
       "      <th>case:concept:name</th>\n",
       "      <th>case:Permit OrganizationalEntity</th>\n",
       "      <th>case:Permit RequestedBudget</th>\n",
       "      <th>case:Cost Type</th>\n",
       "      <th>case:Permit id</th>\n",
       "      <th>case:Permit ActivityNumber</th>\n",
       "      <th>case:RfpNumber</th>\n",
       "      <th>@@case_index</th>\n",
       "    </tr>\n",
       "  </thead>\n",
       "  <tbody>\n",
       "    <tr>\n",
       "      <th>0</th>\n",
       "      <td>st_step 73555_0</td>\n",
       "      <td>STAFF MEMBER</td>\n",
       "      <td>Permit SUBMITTED by EMPLOYEE</td>\n",
       "      <td>2017-01-09 13:48:43+00:00</td>\n",
       "      <td>EMPLOYEE</td>\n",
       "      <td>request for payment 73550</td>\n",
       "      <td>UNKNOWN</td>\n",
       "      <td>task 71977</td>\n",
       "      <td>organizational unit 65463</td>\n",
       "      <td>854.579838</td>\n",
       "      <td>...</td>\n",
       "      <td>UNKNOWN</td>\n",
       "      <td>project 503</td>\n",
       "      <td>request for payment 73550</td>\n",
       "      <td>organizational unit 65455</td>\n",
       "      <td>1979.272104</td>\n",
       "      <td>0</td>\n",
       "      <td>travel permit 73549</td>\n",
       "      <td>UNKNOWN</td>\n",
       "      <td>request for payment number 73551</td>\n",
       "      <td>0</td>\n",
       "    </tr>\n",
       "    <tr>\n",
       "      <th>1</th>\n",
       "      <td>st_step 73554_0</td>\n",
       "      <td>STAFF MEMBER</td>\n",
       "      <td>Permit FINAL_APPROVED by SUPERVISOR</td>\n",
       "      <td>2017-01-09 13:48:55+00:00</td>\n",
       "      <td>SUPERVISOR</td>\n",
       "      <td>request for payment 73550</td>\n",
       "      <td>UNKNOWN</td>\n",
       "      <td>task 71977</td>\n",
       "      <td>organizational unit 65463</td>\n",
       "      <td>854.579838</td>\n",
       "      <td>...</td>\n",
       "      <td>UNKNOWN</td>\n",
       "      <td>project 503</td>\n",
       "      <td>request for payment 73550</td>\n",
       "      <td>organizational unit 65455</td>\n",
       "      <td>1979.272104</td>\n",
       "      <td>0</td>\n",
       "      <td>travel permit 73549</td>\n",
       "      <td>UNKNOWN</td>\n",
       "      <td>request for payment number 73551</td>\n",
       "      <td>0</td>\n",
       "    </tr>\n",
       "    <tr>\n",
       "      <th>2</th>\n",
       "      <td>st_step 73558_0</td>\n",
       "      <td>STAFF MEMBER</td>\n",
       "      <td>Request For Payment SUBMITTED by EMPLOYEE</td>\n",
       "      <td>2017-01-12 10:40:27+00:00</td>\n",
       "      <td>EMPLOYEE</td>\n",
       "      <td>request for payment 73550</td>\n",
       "      <td>UNKNOWN</td>\n",
       "      <td>task 71977</td>\n",
       "      <td>organizational unit 65463</td>\n",
       "      <td>854.579838</td>\n",
       "      <td>...</td>\n",
       "      <td>UNKNOWN</td>\n",
       "      <td>project 503</td>\n",
       "      <td>request for payment 73550</td>\n",
       "      <td>organizational unit 65455</td>\n",
       "      <td>1979.272104</td>\n",
       "      <td>0</td>\n",
       "      <td>travel permit 73549</td>\n",
       "      <td>UNKNOWN</td>\n",
       "      <td>request for payment number 73551</td>\n",
       "      <td>0</td>\n",
       "    </tr>\n",
       "    <tr>\n",
       "      <th>3</th>\n",
       "      <td>st_step 73559_0</td>\n",
       "      <td>STAFF MEMBER</td>\n",
       "      <td>Request For Payment FINAL_APPROVED by SUPERVISOR</td>\n",
       "      <td>2017-01-12 10:41:59+00:00</td>\n",
       "      <td>SUPERVISOR</td>\n",
       "      <td>request for payment 73550</td>\n",
       "      <td>UNKNOWN</td>\n",
       "      <td>task 71977</td>\n",
       "      <td>organizational unit 65463</td>\n",
       "      <td>854.579838</td>\n",
       "      <td>...</td>\n",
       "      <td>UNKNOWN</td>\n",
       "      <td>project 503</td>\n",
       "      <td>request for payment 73550</td>\n",
       "      <td>organizational unit 65455</td>\n",
       "      <td>1979.272104</td>\n",
       "      <td>0</td>\n",
       "      <td>travel permit 73549</td>\n",
       "      <td>UNKNOWN</td>\n",
       "      <td>request for payment number 73551</td>\n",
       "      <td>0</td>\n",
       "    </tr>\n",
       "    <tr>\n",
       "      <th>4</th>\n",
       "      <td>st_step 73557_0</td>\n",
       "      <td>STAFF MEMBER</td>\n",
       "      <td>Request For Payment REJECTED by MISSING</td>\n",
       "      <td>2017-01-12 10:53:07+00:00</td>\n",
       "      <td>MISSING</td>\n",
       "      <td>request for payment 73550</td>\n",
       "      <td>UNKNOWN</td>\n",
       "      <td>task 71977</td>\n",
       "      <td>organizational unit 65463</td>\n",
       "      <td>854.579838</td>\n",
       "      <td>...</td>\n",
       "      <td>UNKNOWN</td>\n",
       "      <td>project 503</td>\n",
       "      <td>request for payment 73550</td>\n",
       "      <td>organizational unit 65455</td>\n",
       "      <td>1979.272104</td>\n",
       "      <td>0</td>\n",
       "      <td>travel permit 73549</td>\n",
       "      <td>UNKNOWN</td>\n",
       "      <td>request for payment number 73551</td>\n",
       "      <td>0</td>\n",
       "    </tr>\n",
       "    <tr>\n",
       "      <th>...</th>\n",
       "      <td>...</td>\n",
       "      <td>...</td>\n",
       "      <td>...</td>\n",
       "      <td>...</td>\n",
       "      <td>...</td>\n",
       "      <td>...</td>\n",
       "      <td>...</td>\n",
       "      <td>...</td>\n",
       "      <td>...</td>\n",
       "      <td>...</td>\n",
       "      <td>...</td>\n",
       "      <td>...</td>\n",
       "      <td>...</td>\n",
       "      <td>...</td>\n",
       "      <td>...</td>\n",
       "      <td>...</td>\n",
       "      <td>...</td>\n",
       "      <td>...</td>\n",
       "      <td>...</td>\n",
       "      <td>...</td>\n",
       "      <td>...</td>\n",
       "    </tr>\n",
       "    <tr>\n",
       "      <th>18241</th>\n",
       "      <td>st_step 186614_0</td>\n",
       "      <td>STAFF MEMBER</td>\n",
       "      <td>Request For Payment SUBMITTED by EMPLOYEE</td>\n",
       "      <td>2018-12-30 19:16:15+00:00</td>\n",
       "      <td>EMPLOYEE</td>\n",
       "      <td>request for payment 186612</td>\n",
       "      <td>UNKNOWN</td>\n",
       "      <td>UNKNOWN</td>\n",
       "      <td>organizational unit 65462</td>\n",
       "      <td>96.739075</td>\n",
       "      <td>...</td>\n",
       "      <td>UNKNOWN</td>\n",
       "      <td>project 147531</td>\n",
       "      <td>request for payment 186612</td>\n",
       "      <td>UNKNOWN</td>\n",
       "      <td>0.000000</td>\n",
       "      <td>0</td>\n",
       "      <td>UNKNOWN</td>\n",
       "      <td>UNKNOWN</td>\n",
       "      <td>request for payment number 186613</td>\n",
       "      <td>2098</td>\n",
       "    </tr>\n",
       "    <tr>\n",
       "      <th>18242</th>\n",
       "      <td>st_step 186616_0</td>\n",
       "      <td>STAFF MEMBER</td>\n",
       "      <td>Request For Payment APPROVED by ADMINISTRATION</td>\n",
       "      <td>2018-12-30 19:16:25+00:00</td>\n",
       "      <td>ADMINISTRATION</td>\n",
       "      <td>request for payment 186612</td>\n",
       "      <td>UNKNOWN</td>\n",
       "      <td>UNKNOWN</td>\n",
       "      <td>organizational unit 65462</td>\n",
       "      <td>96.739075</td>\n",
       "      <td>...</td>\n",
       "      <td>UNKNOWN</td>\n",
       "      <td>project 147531</td>\n",
       "      <td>request for payment 186612</td>\n",
       "      <td>UNKNOWN</td>\n",
       "      <td>0.000000</td>\n",
       "      <td>0</td>\n",
       "      <td>UNKNOWN</td>\n",
       "      <td>UNKNOWN</td>\n",
       "      <td>request for payment number 186613</td>\n",
       "      <td>2098</td>\n",
       "    </tr>\n",
       "    <tr>\n",
       "      <th>18243</th>\n",
       "      <td>st_step 186615_0</td>\n",
       "      <td>STAFF MEMBER</td>\n",
       "      <td>Request For Payment FINAL_APPROVED by SUPERVISOR</td>\n",
       "      <td>2019-01-14 14:09:11+00:00</td>\n",
       "      <td>SUPERVISOR</td>\n",
       "      <td>request for payment 186612</td>\n",
       "      <td>UNKNOWN</td>\n",
       "      <td>UNKNOWN</td>\n",
       "      <td>organizational unit 65462</td>\n",
       "      <td>96.739075</td>\n",
       "      <td>...</td>\n",
       "      <td>UNKNOWN</td>\n",
       "      <td>project 147531</td>\n",
       "      <td>request for payment 186612</td>\n",
       "      <td>UNKNOWN</td>\n",
       "      <td>0.000000</td>\n",
       "      <td>0</td>\n",
       "      <td>UNKNOWN</td>\n",
       "      <td>UNKNOWN</td>\n",
       "      <td>request for payment number 186613</td>\n",
       "      <td>2098</td>\n",
       "    </tr>\n",
       "    <tr>\n",
       "      <th>18244</th>\n",
       "      <td>rp_request for payment 186612_15</td>\n",
       "      <td>SYSTEM</td>\n",
       "      <td>Request Payment</td>\n",
       "      <td>2019-01-15 06:02:45+00:00</td>\n",
       "      <td>UNDEFINED</td>\n",
       "      <td>request for payment 186612</td>\n",
       "      <td>UNKNOWN</td>\n",
       "      <td>UNKNOWN</td>\n",
       "      <td>organizational unit 65462</td>\n",
       "      <td>96.739075</td>\n",
       "      <td>...</td>\n",
       "      <td>UNKNOWN</td>\n",
       "      <td>project 147531</td>\n",
       "      <td>request for payment 186612</td>\n",
       "      <td>UNKNOWN</td>\n",
       "      <td>0.000000</td>\n",
       "      <td>0</td>\n",
       "      <td>UNKNOWN</td>\n",
       "      <td>UNKNOWN</td>\n",
       "      <td>request for payment number 186613</td>\n",
       "      <td>2098</td>\n",
       "    </tr>\n",
       "    <tr>\n",
       "      <th>18245</th>\n",
       "      <td>rp_request for payment 186612_16</td>\n",
       "      <td>SYSTEM</td>\n",
       "      <td>Payment Handled</td>\n",
       "      <td>2019-01-17 16:31:44+00:00</td>\n",
       "      <td>UNDEFINED</td>\n",
       "      <td>request for payment 186612</td>\n",
       "      <td>UNKNOWN</td>\n",
       "      <td>UNKNOWN</td>\n",
       "      <td>organizational unit 65462</td>\n",
       "      <td>96.739075</td>\n",
       "      <td>...</td>\n",
       "      <td>UNKNOWN</td>\n",
       "      <td>project 147531</td>\n",
       "      <td>request for payment 186612</td>\n",
       "      <td>UNKNOWN</td>\n",
       "      <td>0.000000</td>\n",
       "      <td>0</td>\n",
       "      <td>UNKNOWN</td>\n",
       "      <td>UNKNOWN</td>\n",
       "      <td>request for payment number 186613</td>\n",
       "      <td>2098</td>\n",
       "    </tr>\n",
       "  </tbody>\n",
       "</table>\n",
       "<p>18246 rows × 23 columns</p>\n",
       "</div>"
      ],
      "text/plain": [
       "                                     id  org:resource  \\\n",
       "0                       st_step 73555_0  STAFF MEMBER   \n",
       "1                       st_step 73554_0  STAFF MEMBER   \n",
       "2                       st_step 73558_0  STAFF MEMBER   \n",
       "3                       st_step 73559_0  STAFF MEMBER   \n",
       "4                       st_step 73557_0  STAFF MEMBER   \n",
       "...                                 ...           ...   \n",
       "18241                  st_step 186614_0  STAFF MEMBER   \n",
       "18242                  st_step 186616_0  STAFF MEMBER   \n",
       "18243                  st_step 186615_0  STAFF MEMBER   \n",
       "18244  rp_request for payment 186612_15        SYSTEM   \n",
       "18245  rp_request for payment 186612_16        SYSTEM   \n",
       "\n",
       "                                           concept:name  \\\n",
       "0                          Permit SUBMITTED by EMPLOYEE   \n",
       "1                   Permit FINAL_APPROVED by SUPERVISOR   \n",
       "2             Request For Payment SUBMITTED by EMPLOYEE   \n",
       "3      Request For Payment FINAL_APPROVED by SUPERVISOR   \n",
       "4               Request For Payment REJECTED by MISSING   \n",
       "...                                                 ...   \n",
       "18241         Request For Payment SUBMITTED by EMPLOYEE   \n",
       "18242    Request For Payment APPROVED by ADMINISTRATION   \n",
       "18243  Request For Payment FINAL_APPROVED by SUPERVISOR   \n",
       "18244                                   Request Payment   \n",
       "18245                                   Payment Handled   \n",
       "\n",
       "                 time:timestamp        org:role                 case:Rfp_id  \\\n",
       "0     2017-01-09 13:48:43+00:00        EMPLOYEE   request for payment 73550   \n",
       "1     2017-01-09 13:48:55+00:00      SUPERVISOR   request for payment 73550   \n",
       "2     2017-01-12 10:40:27+00:00        EMPLOYEE   request for payment 73550   \n",
       "3     2017-01-12 10:41:59+00:00      SUPERVISOR   request for payment 73550   \n",
       "4     2017-01-12 10:53:07+00:00         MISSING   request for payment 73550   \n",
       "...                         ...             ...                         ...   \n",
       "18241 2018-12-30 19:16:15+00:00        EMPLOYEE  request for payment 186612   \n",
       "18242 2018-12-30 19:16:25+00:00  ADMINISTRATION  request for payment 186612   \n",
       "18243 2019-01-14 14:09:11+00:00      SUPERVISOR  request for payment 186612   \n",
       "18244 2019-01-15 06:02:45+00:00       UNDEFINED  request for payment 186612   \n",
       "18245 2019-01-17 16:31:44+00:00       UNDEFINED  request for payment 186612   \n",
       "\n",
       "      case:Permit travel permit number   case:Task  case:OrganizationalEntity  \\\n",
       "0                              UNKNOWN  task 71977  organizational unit 65463   \n",
       "1                              UNKNOWN  task 71977  organizational unit 65463   \n",
       "2                              UNKNOWN  task 71977  organizational unit 65463   \n",
       "3                              UNKNOWN  task 71977  organizational unit 65463   \n",
       "4                              UNKNOWN  task 71977  organizational unit 65463   \n",
       "...                                ...         ...                        ...   \n",
       "18241                          UNKNOWN     UNKNOWN  organizational unit 65462   \n",
       "18242                          UNKNOWN     UNKNOWN  organizational unit 65462   \n",
       "18243                          UNKNOWN     UNKNOWN  organizational unit 65462   \n",
       "18244                          UNKNOWN     UNKNOWN  organizational unit 65462   \n",
       "18245                          UNKNOWN     UNKNOWN  organizational unit 65462   \n",
       "\n",
       "       case:RequestedAmount  ... case:Permit ProjectNumber    case:Project  \\\n",
       "0                854.579838  ...                   UNKNOWN     project 503   \n",
       "1                854.579838  ...                   UNKNOWN     project 503   \n",
       "2                854.579838  ...                   UNKNOWN     project 503   \n",
       "3                854.579838  ...                   UNKNOWN     project 503   \n",
       "4                854.579838  ...                   UNKNOWN     project 503   \n",
       "...                     ...  ...                       ...             ...   \n",
       "18241             96.739075  ...                   UNKNOWN  project 147531   \n",
       "18242             96.739075  ...                   UNKNOWN  project 147531   \n",
       "18243             96.739075  ...                   UNKNOWN  project 147531   \n",
       "18244             96.739075  ...                   UNKNOWN  project 147531   \n",
       "18245             96.739075  ...                   UNKNOWN  project 147531   \n",
       "\n",
       "                case:concept:name case:Permit OrganizationalEntity  \\\n",
       "0       request for payment 73550        organizational unit 65455   \n",
       "1       request for payment 73550        organizational unit 65455   \n",
       "2       request for payment 73550        organizational unit 65455   \n",
       "3       request for payment 73550        organizational unit 65455   \n",
       "4       request for payment 73550        organizational unit 65455   \n",
       "...                           ...                              ...   \n",
       "18241  request for payment 186612                          UNKNOWN   \n",
       "18242  request for payment 186612                          UNKNOWN   \n",
       "18243  request for payment 186612                          UNKNOWN   \n",
       "18244  request for payment 186612                          UNKNOWN   \n",
       "18245  request for payment 186612                          UNKNOWN   \n",
       "\n",
       "      case:Permit RequestedBudget case:Cost Type       case:Permit id  \\\n",
       "0                     1979.272104              0  travel permit 73549   \n",
       "1                     1979.272104              0  travel permit 73549   \n",
       "2                     1979.272104              0  travel permit 73549   \n",
       "3                     1979.272104              0  travel permit 73549   \n",
       "4                     1979.272104              0  travel permit 73549   \n",
       "...                           ...            ...                  ...   \n",
       "18241                    0.000000              0              UNKNOWN   \n",
       "18242                    0.000000              0              UNKNOWN   \n",
       "18243                    0.000000              0              UNKNOWN   \n",
       "18244                    0.000000              0              UNKNOWN   \n",
       "18245                    0.000000              0              UNKNOWN   \n",
       "\n",
       "       case:Permit ActivityNumber                     case:RfpNumber  \\\n",
       "0                         UNKNOWN   request for payment number 73551   \n",
       "1                         UNKNOWN   request for payment number 73551   \n",
       "2                         UNKNOWN   request for payment number 73551   \n",
       "3                         UNKNOWN   request for payment number 73551   \n",
       "4                         UNKNOWN   request for payment number 73551   \n",
       "...                           ...                                ...   \n",
       "18241                     UNKNOWN  request for payment number 186613   \n",
       "18242                     UNKNOWN  request for payment number 186613   \n",
       "18243                     UNKNOWN  request for payment number 186613   \n",
       "18244                     UNKNOWN  request for payment number 186613   \n",
       "18245                     UNKNOWN  request for payment number 186613   \n",
       "\n",
       "      @@case_index  \n",
       "0                0  \n",
       "1                0  \n",
       "2                0  \n",
       "3                0  \n",
       "4                0  \n",
       "...            ...  \n",
       "18241         2098  \n",
       "18242         2098  \n",
       "18243         2098  \n",
       "18244         2098  \n",
       "18245         2098  \n",
       "\n",
       "[18246 rows x 23 columns]"
      ]
     },
     "execution_count": 1,
     "metadata": {},
     "output_type": "execute_result"
    }
   ],
   "source": [
    "import pandas as pd\n",
    "import numpy as np\n",
    "import pm4py\n",
    "from pm4py.objects.conversion.log import converter as log_converter\n",
    "\n",
    "if __name__ == \"__main__\":\n",
    "    # Read the XES file\n",
    "    dataframe_log = pm4py.read_xes('../../data/logs/PrepaidTravelCost.xes')\n",
    "\n",
    "    # If 'log' is already a DataFrame, add the @@case_index column directly\n",
    "    case_indices = {case_id: idx for idx, case_id in enumerate(dataframe_log['case:concept:name'].unique())}\n",
    "    dataframe_log['@@case_index'] = dataframe_log['case:concept:name'].map(case_indices)\n",
    "    \n",
    "     # Convert the dataframe to event log\n",
    "    log = log_converter.apply(dataframe_log)\n",
    "    \n",
    "dataframe_log"
   ]
  },
  {
   "cell_type": "markdown",
   "metadata": {},
   "source": [
    "# Drop unnessary columns"
   ]
  },
  {
   "cell_type": "code",
   "execution_count": 2,
   "metadata": {},
   "outputs": [],
   "source": [
    "dataframe_log = dataframe_log.drop(columns=['case:Rfp_id'])"
   ]
  },
  {
   "cell_type": "code",
   "execution_count": 3,
   "metadata": {},
   "outputs": [],
   "source": [
    "dataframe_log = dataframe_log.drop(columns=['case:Permit travel permit number'])"
   ]
  },
  {
   "cell_type": "code",
   "execution_count": 4,
   "metadata": {},
   "outputs": [],
   "source": [
    "dataframe_log = dataframe_log.drop(columns=['case:Task'])"
   ]
  },
  {
   "cell_type": "code",
   "execution_count": 5,
   "metadata": {},
   "outputs": [],
   "source": [
    "dataframe_log = dataframe_log.drop(columns=['case:OrganizationalEntity'])"
   ]
  },
  {
   "cell_type": "code",
   "execution_count": 6,
   "metadata": {},
   "outputs": [],
   "source": [
    "dataframe_log = dataframe_log.drop(columns=['case:RequestedAmount'])"
   ]
  },
  {
   "cell_type": "code",
   "execution_count": 7,
   "metadata": {},
   "outputs": [],
   "source": [
    "dataframe_log = dataframe_log.drop(columns=['case:Permit TaskNumber'])"
   ]
  },
  {
   "cell_type": "code",
   "execution_count": 8,
   "metadata": {},
   "outputs": [],
   "source": [
    "dataframe_log = dataframe_log.drop(columns=['case:Activity'])"
   ]
  },
  {
   "cell_type": "code",
   "execution_count": 9,
   "metadata": {},
   "outputs": [],
   "source": [
    "dataframe_log = dataframe_log.drop(columns=['case:Permit BudgetNumber'])"
   ]
  },
  {
   "cell_type": "code",
   "execution_count": 10,
   "metadata": {},
   "outputs": [],
   "source": [
    "dataframe_log = dataframe_log.drop(columns=['case:Permit ProjectNumber'])"
   ]
  },
  {
   "cell_type": "code",
   "execution_count": 11,
   "metadata": {},
   "outputs": [],
   "source": [
    "dataframe_log = dataframe_log.drop(columns=['case:Project'])"
   ]
  },
  {
   "cell_type": "code",
   "execution_count": 12,
   "metadata": {},
   "outputs": [],
   "source": [
    "dataframe_log = dataframe_log.drop(columns=['case:concept:name'])"
   ]
  },
  {
   "cell_type": "code",
   "execution_count": 13,
   "metadata": {},
   "outputs": [],
   "source": [
    "dataframe_log = dataframe_log.drop(columns=['case:Permit OrganizationalEntity'])"
   ]
  },
  {
   "cell_type": "code",
   "execution_count": 14,
   "metadata": {},
   "outputs": [],
   "source": [
    "dataframe_log = dataframe_log.drop(columns=['case:Permit RequestedBudget'])"
   ]
  },
  {
   "cell_type": "code",
   "execution_count": 15,
   "metadata": {},
   "outputs": [],
   "source": [
    "dataframe_log = dataframe_log.drop(columns=['case:Cost Type'])"
   ]
  },
  {
   "cell_type": "code",
   "execution_count": 16,
   "metadata": {},
   "outputs": [],
   "source": [
    "dataframe_log = dataframe_log.drop(columns=['case:Permit id'])"
   ]
  },
  {
   "cell_type": "code",
   "execution_count": 17,
   "metadata": {},
   "outputs": [],
   "source": [
    "dataframe_log = dataframe_log.drop(columns=['case:Permit ActivityNumber'])"
   ]
  },
  {
   "cell_type": "code",
   "execution_count": 18,
   "metadata": {},
   "outputs": [],
   "source": [
    "dataframe_log = dataframe_log.drop(columns=['case:RfpNumber'])"
   ]
  },
  {
   "cell_type": "code",
   "execution_count": 19,
   "metadata": {},
   "outputs": [],
   "source": [
    "from sklearn.preprocessing import StandardScaler\n",
    "\n",
    "# Convert to datetime format\n",
    "dataframe_log['time:timestamp'] = pd.to_datetime(dataframe_log['time:timestamp'])\n",
    "\n",
    "# Calculate elapsed time since the start of each case\n",
    "dataframe_log['start_time'] = dataframe_log.groupby('@@case_index')['time:timestamp'].transform('min')\n",
    "dataframe_log['elapsed_time'] = (dataframe_log['time:timestamp'] - dataframe_log['start_time']).dt.total_seconds()\n",
    "\n",
    "# Normalize the elapsed time in minutes\n",
    "scaler = StandardScaler()\n",
    "dataframe_log['standardized_elapsed_time'] = scaler.fit_transform(dataframe_log[['elapsed_time']])\n",
    "\n",
    "dataframe_log = dataframe_log.drop(columns=['start_time'])\n",
    "dataframe_log = dataframe_log.drop(columns=['elapsed_time'])\n",
    "dataframe_log = dataframe_log.drop(columns=['time:timestamp'])"
   ]
  },
  {
   "cell_type": "code",
   "execution_count": 20,
   "metadata": {},
   "outputs": [
    {
     "data": {
      "text/html": [
       "<div>\n",
       "<style scoped>\n",
       "    .dataframe tbody tr th:only-of-type {\n",
       "        vertical-align: middle;\n",
       "    }\n",
       "\n",
       "    .dataframe tbody tr th {\n",
       "        vertical-align: top;\n",
       "    }\n",
       "\n",
       "    .dataframe thead th {\n",
       "        text-align: right;\n",
       "    }\n",
       "</style>\n",
       "<table border=\"1\" class=\"dataframe\">\n",
       "  <thead>\n",
       "    <tr style=\"text-align: right;\">\n",
       "      <th></th>\n",
       "      <th>id</th>\n",
       "      <th>org:resource</th>\n",
       "      <th>concept:name</th>\n",
       "      <th>org:role</th>\n",
       "      <th>@@case_index</th>\n",
       "      <th>standardized_elapsed_time</th>\n",
       "    </tr>\n",
       "  </thead>\n",
       "  <tbody>\n",
       "    <tr>\n",
       "      <th>0</th>\n",
       "      <td>st_step 73555_0</td>\n",
       "      <td>STAFF MEMBER</td>\n",
       "      <td>Permit SUBMITTED by EMPLOYEE</td>\n",
       "      <td>EMPLOYEE</td>\n",
       "      <td>0</td>\n",
       "      <td>-0.601890</td>\n",
       "    </tr>\n",
       "    <tr>\n",
       "      <th>1</th>\n",
       "      <td>st_step 73554_0</td>\n",
       "      <td>STAFF MEMBER</td>\n",
       "      <td>Permit FINAL_APPROVED by SUPERVISOR</td>\n",
       "      <td>SUPERVISOR</td>\n",
       "      <td>0</td>\n",
       "      <td>-0.601886</td>\n",
       "    </tr>\n",
       "    <tr>\n",
       "      <th>2</th>\n",
       "      <td>st_step 73558_0</td>\n",
       "      <td>STAFF MEMBER</td>\n",
       "      <td>Request For Payment SUBMITTED by EMPLOYEE</td>\n",
       "      <td>EMPLOYEE</td>\n",
       "      <td>0</td>\n",
       "      <td>-0.514864</td>\n",
       "    </tr>\n",
       "    <tr>\n",
       "      <th>3</th>\n",
       "      <td>st_step 73559_0</td>\n",
       "      <td>STAFF MEMBER</td>\n",
       "      <td>Request For Payment FINAL_APPROVED by SUPERVISOR</td>\n",
       "      <td>SUPERVISOR</td>\n",
       "      <td>0</td>\n",
       "      <td>-0.514832</td>\n",
       "    </tr>\n",
       "    <tr>\n",
       "      <th>4</th>\n",
       "      <td>st_step 73557_0</td>\n",
       "      <td>STAFF MEMBER</td>\n",
       "      <td>Request For Payment REJECTED by MISSING</td>\n",
       "      <td>MISSING</td>\n",
       "      <td>0</td>\n",
       "      <td>-0.514598</td>\n",
       "    </tr>\n",
       "    <tr>\n",
       "      <th>...</th>\n",
       "      <td>...</td>\n",
       "      <td>...</td>\n",
       "      <td>...</td>\n",
       "      <td>...</td>\n",
       "      <td>...</td>\n",
       "      <td>...</td>\n",
       "    </tr>\n",
       "    <tr>\n",
       "      <th>18241</th>\n",
       "      <td>st_step 186614_0</td>\n",
       "      <td>STAFF MEMBER</td>\n",
       "      <td>Request For Payment SUBMITTED by EMPLOYEE</td>\n",
       "      <td>EMPLOYEE</td>\n",
       "      <td>2098</td>\n",
       "      <td>-0.601890</td>\n",
       "    </tr>\n",
       "    <tr>\n",
       "      <th>18242</th>\n",
       "      <td>st_step 186616_0</td>\n",
       "      <td>STAFF MEMBER</td>\n",
       "      <td>Request For Payment APPROVED by ADMINISTRATION</td>\n",
       "      <td>ADMINISTRATION</td>\n",
       "      <td>2098</td>\n",
       "      <td>-0.601886</td>\n",
       "    </tr>\n",
       "    <tr>\n",
       "      <th>18243</th>\n",
       "      <td>st_step 186615_0</td>\n",
       "      <td>STAFF MEMBER</td>\n",
       "      <td>Request For Payment FINAL_APPROVED by SUPERVISOR</td>\n",
       "      <td>SUPERVISOR</td>\n",
       "      <td>2098</td>\n",
       "      <td>-0.153403</td>\n",
       "    </tr>\n",
       "    <tr>\n",
       "      <th>18244</th>\n",
       "      <td>rp_request for payment 186612_15</td>\n",
       "      <td>SYSTEM</td>\n",
       "      <td>Request Payment</td>\n",
       "      <td>UNDEFINED</td>\n",
       "      <td>2098</td>\n",
       "      <td>-0.133318</td>\n",
       "    </tr>\n",
       "    <tr>\n",
       "      <th>18245</th>\n",
       "      <td>rp_request for payment 186612_16</td>\n",
       "      <td>SYSTEM</td>\n",
       "      <td>Payment Handled</td>\n",
       "      <td>UNDEFINED</td>\n",
       "      <td>2098</td>\n",
       "      <td>-0.059410</td>\n",
       "    </tr>\n",
       "  </tbody>\n",
       "</table>\n",
       "<p>18246 rows × 6 columns</p>\n",
       "</div>"
      ],
      "text/plain": [
       "                                     id  org:resource  \\\n",
       "0                       st_step 73555_0  STAFF MEMBER   \n",
       "1                       st_step 73554_0  STAFF MEMBER   \n",
       "2                       st_step 73558_0  STAFF MEMBER   \n",
       "3                       st_step 73559_0  STAFF MEMBER   \n",
       "4                       st_step 73557_0  STAFF MEMBER   \n",
       "...                                 ...           ...   \n",
       "18241                  st_step 186614_0  STAFF MEMBER   \n",
       "18242                  st_step 186616_0  STAFF MEMBER   \n",
       "18243                  st_step 186615_0  STAFF MEMBER   \n",
       "18244  rp_request for payment 186612_15        SYSTEM   \n",
       "18245  rp_request for payment 186612_16        SYSTEM   \n",
       "\n",
       "                                           concept:name        org:role  \\\n",
       "0                          Permit SUBMITTED by EMPLOYEE        EMPLOYEE   \n",
       "1                   Permit FINAL_APPROVED by SUPERVISOR      SUPERVISOR   \n",
       "2             Request For Payment SUBMITTED by EMPLOYEE        EMPLOYEE   \n",
       "3      Request For Payment FINAL_APPROVED by SUPERVISOR      SUPERVISOR   \n",
       "4               Request For Payment REJECTED by MISSING         MISSING   \n",
       "...                                                 ...             ...   \n",
       "18241         Request For Payment SUBMITTED by EMPLOYEE        EMPLOYEE   \n",
       "18242    Request For Payment APPROVED by ADMINISTRATION  ADMINISTRATION   \n",
       "18243  Request For Payment FINAL_APPROVED by SUPERVISOR      SUPERVISOR   \n",
       "18244                                   Request Payment       UNDEFINED   \n",
       "18245                                   Payment Handled       UNDEFINED   \n",
       "\n",
       "       @@case_index  standardized_elapsed_time  \n",
       "0                 0                  -0.601890  \n",
       "1                 0                  -0.601886  \n",
       "2                 0                  -0.514864  \n",
       "3                 0                  -0.514832  \n",
       "4                 0                  -0.514598  \n",
       "...             ...                        ...  \n",
       "18241          2098                  -0.601890  \n",
       "18242          2098                  -0.601886  \n",
       "18243          2098                  -0.153403  \n",
       "18244          2098                  -0.133318  \n",
       "18245          2098                  -0.059410  \n",
       "\n",
       "[18246 rows x 6 columns]"
      ]
     },
     "execution_count": 20,
     "metadata": {},
     "output_type": "execute_result"
    }
   ],
   "source": [
    "dataframe_log"
   ]
  },
  {
   "cell_type": "markdown",
   "metadata": {},
   "source": [
    "# Insert Start & End markers"
   ]
  },
  {
   "cell_type": "code",
   "execution_count": 21,
   "metadata": {},
   "outputs": [],
   "source": [
    "# Define a function to insert start and end markers\n",
    "def add_markers(df):\n",
    "    # Identify unique case indices\n",
    "    case_indices = df['@@case_index'].unique()\n",
    "    \n",
    "    # Prepare a container for new DataFrame rows\n",
    "    new_rows = []\n",
    "    \n",
    "    # Iterate over each case index to add start and end markers\n",
    "    for case_index in case_indices:\n",
    "        # Create a start marker row with all columns except @@case_index set to 'Start'\n",
    "        start_row = {col: 'Start' if col != '@@case_index' else case_index for col in df.columns}\n",
    "        \n",
    "        # Create an end marker row with all columns except @@case_index set to 'End'\n",
    "        end_row = {col: 'End' if col != '@@case_index' else case_index for col in df.columns}\n",
    "        \n",
    "        # Append start row, rows for the current case, and end row\n",
    "        new_rows.append(start_row)\n",
    "        new_rows.extend(df[df['@@case_index'] == case_index].to_dict('records'))\n",
    "        new_rows.append(end_row)\n",
    "    \n",
    "    # Convert the list of rows into a DataFrame\n",
    "    return pd.DataFrame(new_rows)\n",
    "\n",
    "# Apply the function to add start and end markers to the dataframe\n",
    "modified_dataframe = add_markers(dataframe_log)"
   ]
  },
  {
   "cell_type": "markdown",
   "metadata": {},
   "source": [
    "# Preprocess"
   ]
  },
  {
   "cell_type": "code",
   "execution_count": 22,
   "metadata": {},
   "outputs": [],
   "source": [
    "modified_dataframe['standardized_elapsed_time'] = modified_dataframe['standardized_elapsed_time'].replace({'Start': 0, 'End': 1})"
   ]
  },
  {
   "cell_type": "code",
   "execution_count": 27,
   "metadata": {},
   "outputs": [],
   "source": [
    "codes, uniques = pd.factorize(modified_dataframe['id'])\n",
    "modified_dataframe['id'] = codes"
   ]
  },
  {
   "cell_type": "code",
   "execution_count": 28,
   "metadata": {},
   "outputs": [],
   "source": [
    "codes, uniques = pd.factorize(modified_dataframe['org:resource'])\n",
    "modified_dataframe['org:resource'] = codes"
   ]
  },
  {
   "cell_type": "code",
   "execution_count": 29,
   "metadata": {},
   "outputs": [],
   "source": [
    "codes, uniques = pd.factorize(modified_dataframe['concept:name'])\n",
    "modified_dataframe['concept:name'] = codes"
   ]
  },
  {
   "cell_type": "code",
   "execution_count": 30,
   "metadata": {},
   "outputs": [],
   "source": [
    "codes, uniques = pd.factorize(modified_dataframe['org:role'])\n",
    "modified_dataframe['org:role'] = codes"
   ]
  },
  {
   "cell_type": "markdown",
   "metadata": {},
   "source": [
    "### Padding for Cases with less then 5 events"
   ]
  },
  {
   "cell_type": "code",
   "execution_count": 31,
   "metadata": {},
   "outputs": [
    {
     "data": {
      "text/plain": [
       "3"
      ]
     },
     "execution_count": 31,
     "metadata": {},
     "output_type": "execute_result"
    }
   ],
   "source": [
    "# Calculating the frequency of each unique value in '@@case_index'\n",
    "frequency = modified_dataframe['@@case_index'].value_counts()\n",
    "\n",
    "# Finding the minimum occurrence\n",
    "min_occurrence = frequency.min()\n",
    "\n",
    "min_occurrence"
   ]
  },
  {
   "cell_type": "code",
   "execution_count": 32,
   "metadata": {},
   "outputs": [],
   "source": [
    "# Assuming your dataframe might have different types, let's create a generic function to add rows\n",
    "def add_rows(group, num_rows, case_index_value):\n",
    "    # For each column, determine the appropriate \"zero\" value (int 0, string '', etc.)\n",
    "    additional_rows = pd.DataFrame({\n",
    "        column: 0 if pd.api.types.is_numeric_dtype(group[column]) else '' for column in group.columns\n",
    "    }, index=range(num_rows))\n",
    "    \n",
    "    # Set the @@case_index column to the current case index value\n",
    "    additional_rows['@@case_index'] = case_index_value\n",
    "    \n",
    "    # Append the additional rows to the group\n",
    "    return pd.concat([group, additional_rows], ignore_index=True)\n",
    "\n",
    "# Function to pad cases with less than 5 events\n",
    "def pad_cases(df):\n",
    "    # Group by @@case_index\n",
    "    groups = df.groupby('@@case_index')\n",
    "    \n",
    "    # Placeholder for modified groups\n",
    "    modified_groups = []\n",
    "    \n",
    "    for name, group in groups:\n",
    "        # Calculate the number of events to add\n",
    "        events_to_add = 5 - len(group)\n",
    "        \n",
    "        if events_to_add > 0:\n",
    "            # Add the required number of rows\n",
    "            group = add_rows(group, events_to_add, name)\n",
    "        \n",
    "        # Append the modified group to the list\n",
    "        modified_groups.append(group)\n",
    "    \n",
    "    # Concatenate all modified groups back into a single DataFrame\n",
    "    return pd.concat(modified_groups, ignore_index=True)"
   ]
  },
  {
   "cell_type": "code",
   "execution_count": 33,
   "metadata": {},
   "outputs": [
    {
     "data": {
      "text/html": [
       "<div>\n",
       "<style scoped>\n",
       "    .dataframe tbody tr th:only-of-type {\n",
       "        vertical-align: middle;\n",
       "    }\n",
       "\n",
       "    .dataframe tbody tr th {\n",
       "        vertical-align: top;\n",
       "    }\n",
       "\n",
       "    .dataframe thead th {\n",
       "        text-align: right;\n",
       "    }\n",
       "</style>\n",
       "<table border=\"1\" class=\"dataframe\">\n",
       "  <thead>\n",
       "    <tr style=\"text-align: right;\">\n",
       "      <th></th>\n",
       "      <th>id</th>\n",
       "      <th>org:resource</th>\n",
       "      <th>concept:name</th>\n",
       "      <th>org:role</th>\n",
       "      <th>@@case_index</th>\n",
       "      <th>standardized_elapsed_time</th>\n",
       "    </tr>\n",
       "  </thead>\n",
       "  <tbody>\n",
       "    <tr>\n",
       "      <th>0</th>\n",
       "      <td>0</td>\n",
       "      <td>0</td>\n",
       "      <td>0</td>\n",
       "      <td>0</td>\n",
       "      <td>0</td>\n",
       "      <td>0.000000</td>\n",
       "    </tr>\n",
       "    <tr>\n",
       "      <th>1</th>\n",
       "      <td>1</td>\n",
       "      <td>1</td>\n",
       "      <td>1</td>\n",
       "      <td>1</td>\n",
       "      <td>0</td>\n",
       "      <td>-0.601890</td>\n",
       "    </tr>\n",
       "    <tr>\n",
       "      <th>2</th>\n",
       "      <td>2</td>\n",
       "      <td>1</td>\n",
       "      <td>2</td>\n",
       "      <td>2</td>\n",
       "      <td>0</td>\n",
       "      <td>-0.601886</td>\n",
       "    </tr>\n",
       "    <tr>\n",
       "      <th>3</th>\n",
       "      <td>3</td>\n",
       "      <td>1</td>\n",
       "      <td>3</td>\n",
       "      <td>1</td>\n",
       "      <td>0</td>\n",
       "      <td>-0.514864</td>\n",
       "    </tr>\n",
       "    <tr>\n",
       "      <th>4</th>\n",
       "      <td>4</td>\n",
       "      <td>1</td>\n",
       "      <td>4</td>\n",
       "      <td>2</td>\n",
       "      <td>0</td>\n",
       "      <td>-0.514832</td>\n",
       "    </tr>\n",
       "    <tr>\n",
       "      <th>...</th>\n",
       "      <td>...</td>\n",
       "      <td>...</td>\n",
       "      <td>...</td>\n",
       "      <td>...</td>\n",
       "      <td>...</td>\n",
       "      <td>...</td>\n",
       "    </tr>\n",
       "    <tr>\n",
       "      <th>22453</th>\n",
       "      <td>16203</td>\n",
       "      <td>1</td>\n",
       "      <td>23</td>\n",
       "      <td>8</td>\n",
       "      <td>2098</td>\n",
       "      <td>-0.601886</td>\n",
       "    </tr>\n",
       "    <tr>\n",
       "      <th>22454</th>\n",
       "      <td>16204</td>\n",
       "      <td>1</td>\n",
       "      <td>4</td>\n",
       "      <td>2</td>\n",
       "      <td>2098</td>\n",
       "      <td>-0.153403</td>\n",
       "    </tr>\n",
       "    <tr>\n",
       "      <th>22455</th>\n",
       "      <td>16205</td>\n",
       "      <td>3</td>\n",
       "      <td>8</td>\n",
       "      <td>5</td>\n",
       "      <td>2098</td>\n",
       "      <td>-0.133318</td>\n",
       "    </tr>\n",
       "    <tr>\n",
       "      <th>22456</th>\n",
       "      <td>16206</td>\n",
       "      <td>3</td>\n",
       "      <td>9</td>\n",
       "      <td>5</td>\n",
       "      <td>2098</td>\n",
       "      <td>-0.059410</td>\n",
       "    </tr>\n",
       "    <tr>\n",
       "      <th>22457</th>\n",
       "      <td>7</td>\n",
       "      <td>2</td>\n",
       "      <td>7</td>\n",
       "      <td>4</td>\n",
       "      <td>2098</td>\n",
       "      <td>1.000000</td>\n",
       "    </tr>\n",
       "  </tbody>\n",
       "</table>\n",
       "<p>22458 rows × 6 columns</p>\n",
       "</div>"
      ],
      "text/plain": [
       "          id  org:resource  concept:name  org:role  @@case_index  \\\n",
       "0          0             0             0         0             0   \n",
       "1          1             1             1         1             0   \n",
       "2          2             1             2         2             0   \n",
       "3          3             1             3         1             0   \n",
       "4          4             1             4         2             0   \n",
       "...      ...           ...           ...       ...           ...   \n",
       "22453  16203             1            23         8          2098   \n",
       "22454  16204             1             4         2          2098   \n",
       "22455  16205             3             8         5          2098   \n",
       "22456  16206             3             9         5          2098   \n",
       "22457      7             2             7         4          2098   \n",
       "\n",
       "       standardized_elapsed_time  \n",
       "0                       0.000000  \n",
       "1                      -0.601890  \n",
       "2                      -0.601886  \n",
       "3                      -0.514864  \n",
       "4                      -0.514832  \n",
       "...                          ...  \n",
       "22453                  -0.601886  \n",
       "22454                  -0.153403  \n",
       "22455                  -0.133318  \n",
       "22456                  -0.059410  \n",
       "22457                   1.000000  \n",
       "\n",
       "[22458 rows x 6 columns]"
      ]
     },
     "execution_count": 33,
     "metadata": {},
     "output_type": "execute_result"
    }
   ],
   "source": [
    "# Apply the padding function\n",
    "modified_dataframe = pad_cases(modified_dataframe)\n",
    "modified_dataframe"
   ]
  },
  {
   "cell_type": "markdown",
   "metadata": {},
   "source": [
    "# Generate sliding windows"
   ]
  },
  {
   "cell_type": "code",
   "execution_count": 34,
   "metadata": {},
   "outputs": [],
   "source": [
    "df_id = modified_dataframe[['id', '@@case_index']]\n",
    "df_resource = modified_dataframe[['org:resource', '@@case_index']]\n",
    "df_activity = modified_dataframe[['concept:name', '@@case_index']]\n",
    "df_role = modified_dataframe[['org:role', '@@case_index']]\n",
    "df_timestamp = modified_dataframe[['standardized_elapsed_time', '@@case_index']]"
   ]
  },
  {
   "cell_type": "code",
   "execution_count": 35,
   "metadata": {},
   "outputs": [],
   "source": [
    "def generate_sliding_windows(df, case_id_column='@@case_index', window_size=5):\n",
    "    windows = []\n",
    "    targets = []\n",
    "    case_indices = []\n",
    "\n",
    "    # Iterate over each unique case\n",
    "    for case_id in df[case_id_column].unique():\n",
    "        # Extract the case\n",
    "        case_data = df[df[case_id_column] == case_id]\n",
    "        \n",
    "        # Convert case_data to a NumPy array and drop the case_id_column\n",
    "        case_data_array = case_data.drop(columns=[case_id_column]).to_numpy()\n",
    "\n",
    "        # Adjusting the condition to correctly reflect window_size without needing an additional +1\n",
    "        # Now it correctly considers window_size as including the target event\n",
    "        if len(case_data_array) >= window_size:\n",
    "            # Adjust the loop to generate sliding windows of size window_size - 1 for the inputs and use the next event as the target\n",
    "            for i in range(len(case_data_array) - window_size + 1):\n",
    "                # window now has window_size - 1 events\n",
    "                window = case_data_array[i:i + window_size - 1]\n",
    "                # The target is the event immediately following the window\n",
    "                target = case_data_array[i + window_size - 1]\n",
    "                windows.append(window)\n",
    "                targets.append(target)\n",
    "                case_indices.append(case_id)  # Store the case_id corresponding to the window\n",
    "\n",
    "    # Convert lists to numpy arrays for easier handling and to ensure they are two-dimensional\n",
    "    windows_array = np.array(windows)\n",
    "    targets_array = np.array(targets)\n",
    "    case_indices_array = np.array(case_indices)\n",
    "    \n",
    "    return windows_array, targets_array, case_indices_array"
   ]
  },
  {
   "cell_type": "code",
   "execution_count": 36,
   "metadata": {},
   "outputs": [],
   "source": [
    "windows_id, targets_id, case_indices = generate_sliding_windows(df_id)\n",
    "windows_resource, targets_resource, case_indices = generate_sliding_windows(df_resource)\n",
    "windows_activity, targets_activity, case_indices = generate_sliding_windows(df_activity)\n",
    "windows_role, targets_role, case_indices = generate_sliding_windows(df_role)\n",
    "windows_timestamp, targets_timestamp, case_indices = generate_sliding_windows(df_timestamp)\n"
   ]
  },
  {
   "cell_type": "markdown",
   "metadata": {},
   "source": [
    "# LSTM"
   ]
  },
  {
   "cell_type": "markdown",
   "metadata": {},
   "source": [
    "### Architecture"
   ]
  },
  {
   "cell_type": "code",
   "execution_count": 37,
   "metadata": {},
   "outputs": [
    {
     "name": "stderr",
     "output_type": "stream",
     "text": [
      "2024-06-29 17:47:51.559266: I tensorflow/core/platform/cpu_feature_guard.cc:182] This TensorFlow binary is optimized to use available CPU instructions in performance-critical operations.\n",
      "To enable the following instructions: AVX2 FMA, in other operations, rebuild TensorFlow with the appropriate compiler flags.\n"
     ]
    },
    {
     "name": "stdout",
     "output_type": "stream",
     "text": [
      "Model: \"model\"\n",
      "__________________________________________________________________________________________________\n",
      " Layer (type)                Output Shape                 Param #   Connected to                  \n",
      "==================================================================================================\n",
      " input_id (InputLayer)       [(None, 4)]                  0         []                            \n",
      "                                                                                                  \n",
      " input_resource (InputLayer  [(None, 4)]                  0         []                            \n",
      " )                                                                                                \n",
      "                                                                                                  \n",
      " input_activity (InputLayer  [(None, 4)]                  0         []                            \n",
      " )                                                                                                \n",
      "                                                                                                  \n",
      " input_role (InputLayer)     [(None, 4)]                  0         []                            \n",
      "                                                                                                  \n",
      " embedding (Embedding)       (None, 4, 50)                810350    ['input_id[0][0]']            \n",
      "                                                                                                  \n",
      " embedding_1 (Embedding)     (None, 4, 50)                200       ['input_resource[0][0]']      \n",
      "                                                                                                  \n",
      " embedding_2 (Embedding)     (None, 4, 50)                1550      ['input_activity[0][0]']      \n",
      "                                                                                                  \n",
      " embedding_3 (Embedding)     (None, 4, 50)                500       ['input_role[0][0]']          \n",
      "                                                                                                  \n",
      " input_timestamp (InputLaye  [(None, 4, 1)]               0         []                            \n",
      " r)                                                                                               \n",
      "                                                                                                  \n",
      " lstm (LSTM)                 (None, 25)                   7600      ['embedding[0][0]']           \n",
      "                                                                                                  \n",
      " lstm_1 (LSTM)               (None, 25)                   7600      ['embedding_1[0][0]']         \n",
      "                                                                                                  \n",
      " lstm_2 (LSTM)               (None, 25)                   7600      ['embedding_2[0][0]']         \n",
      "                                                                                                  \n",
      " lstm_3 (LSTM)               (None, 25)                   7600      ['embedding_3[0][0]']         \n",
      "                                                                                                  \n",
      " lstm_4 (LSTM)               (None, 25)                   2700      ['input_timestamp[0][0]']     \n",
      "                                                                                                  \n",
      " concatenate (Concatenate)   (None, 125)                  0         ['lstm[0][0]',                \n",
      "                                                                     'lstm_1[0][0]',              \n",
      "                                                                     'lstm_2[0][0]',              \n",
      "                                                                     'lstm_3[0][0]',              \n",
      "                                                                     'lstm_4[0][0]']              \n",
      "                                                                                                  \n",
      " output_id (Dense)           (None, 16207)                2042082   ['concatenate[0][0]']         \n",
      "                                                                                                  \n",
      " output_resource (Dense)     (None, 4)                    504       ['concatenate[0][0]']         \n",
      "                                                                                                  \n",
      " output_activity (Dense)     (None, 31)                   3906      ['concatenate[0][0]']         \n",
      "                                                                                                  \n",
      " output_role (Dense)         (None, 10)                   1260      ['concatenate[0][0]']         \n",
      "                                                                                                  \n",
      " output_timestamp (Dense)    (None, 1)                    126       ['concatenate[0][0]']         \n",
      "                                                                                                  \n",
      "==================================================================================================\n",
      "Total params: 2893578 (11.04 MB)\n",
      "Trainable params: 2893578 (11.04 MB)\n",
      "Non-trainable params: 0 (0.00 Byte)\n",
      "__________________________________________________________________________________________________\n"
     ]
    }
   ],
   "source": [
    "from tensorflow.keras.models import Model\n",
    "from tensorflow.keras.layers import Input, LSTM, Dense, Concatenate, Embedding\n",
    "\n",
    "# Assuming these values as placeholders, replace them with actual counts from your data\n",
    "num_ids = modified_dataframe['id'].nunique()\n",
    "num_resources = modified_dataframe['org:resource'].nunique()\n",
    "num_activities = modified_dataframe['concept:name'].nunique()\n",
    "num_roles = modified_dataframe['org:role'].nunique()\n",
    "\n",
    "embedding_dim_id = 50\n",
    "embedding_dim_resource = 50\n",
    "embedding_dim_activity = 50\n",
    "embedding_dim_role = 50\n",
    "\n",
    "time_steps = 4\n",
    "\n",
    "# Input layers\n",
    "input_id = Input(shape=(time_steps,), name='input_id')\n",
    "input_resource = Input(shape=(time_steps,), name='input_resource')\n",
    "input_activity = Input(shape=(time_steps,), name='input_activity')\n",
    "input_role = Input(shape=(time_steps,), name='input_role')\n",
    "input_timestamp = Input(shape=(time_steps, 1), name='input_timestamp')\n",
    "\n",
    "# Embedding layers\n",
    "embedding_id = Embedding(input_dim=num_ids, output_dim=embedding_dim_id, input_length=time_steps)(input_id)\n",
    "embedding_resource = Embedding(input_dim=num_resources, output_dim=embedding_dim_resource, input_length=time_steps)(input_resource)\n",
    "embedding_activity = Embedding(input_dim=num_activities, output_dim=embedding_dim_activity, input_length=time_steps)(input_activity)\n",
    "embedding_role = Embedding(input_dim=num_roles, output_dim=embedding_dim_role, input_length=time_steps)(input_role)\n",
    "\n",
    "# LSTM layers\n",
    "lstm_id = LSTM(25, return_sequences=False)(embedding_id)\n",
    "lstm_resource = LSTM(25, return_sequences=False)(embedding_resource)\n",
    "lstm_activity = LSTM(25, return_sequences=False)(embedding_activity)\n",
    "lstm_role = LSTM(25, return_sequences=False)(embedding_role)\n",
    "lstm_timestamp = LSTM(25, return_sequences=False)(input_timestamp)\n",
    "\n",
    "# Concatenate outputs\n",
    "concatenated = Concatenate(axis=-1)([lstm_id, lstm_resource, lstm_activity, lstm_role, lstm_timestamp])\n",
    "\n",
    "# Output layers\n",
    "output_id = Dense(num_ids, activation='softmax', name='output_id')(concatenated)\n",
    "output_resource = Dense(num_resources, activation='softmax', name='output_resource')(concatenated)\n",
    "output_activity = Dense(num_activities, activation='softmax', name='output_activity')(concatenated)\n",
    "output_role = Dense(num_roles, activation='softmax', name='output_role')(concatenated)\n",
    "output_timestamp = Dense(1, activation='linear', name='output_timestamp')(concatenated)\n",
    "\n",
    "# Create and compile the model\n",
    "model = Model(inputs=[input_id, input_resource, input_activity, input_role, input_timestamp], \n",
    "              outputs=[output_id, output_resource, output_activity, output_role, output_timestamp])\n",
    "\n",
    "model.compile(optimizer='adam', \n",
    "              loss={'output_id': 'categorical_crossentropy', \n",
    "                    'output_resource': 'categorical_crossentropy', \n",
    "                    'output_activity': 'categorical_crossentropy', \n",
    "                    'output_role': 'categorical_crossentropy', \n",
    "                    'output_timestamp': 'mean_squared_error'},\n",
    "              metrics={'output_id': 'accuracy', \n",
    "                       'output_resource': 'accuracy', \n",
    "                       'output_activity': 'accuracy', \n",
    "                       'output_role': 'accuracy', \n",
    "                       'output_timestamp': 'mean_absolute_error'})\n",
    "\n",
    "model.summary()\n"
   ]
  },
  {
   "cell_type": "markdown",
   "metadata": {},
   "source": [
    "# Data Splitting"
   ]
  },
  {
   "cell_type": "code",
   "execution_count": 38,
   "metadata": {},
   "outputs": [],
   "source": [
    "from sklearn.model_selection import train_test_split\n",
    "\n",
    "# Split the id data\n",
    "train_id, test_id, train_targets_id, test_targets_id = train_test_split(\n",
    "    windows_id, targets_id, test_size=0.3, random_state=42)\n",
    "\n",
    "# Split the resource data\n",
    "train_resource, test_resource, train_targets_resource, test_targets_resource = train_test_split(\n",
    "    windows_resource, targets_resource, test_size=0.3, random_state=42)\n",
    "\n",
    "# Split the activity data\n",
    "train_activity, test_activity, train_targets_activity, test_targets_activity = train_test_split(\n",
    "    windows_activity, targets_activity, test_size=0.3, random_state=42)\n",
    "\n",
    "# Split the role data\n",
    "train_role, test_role, train_targets_role, test_targets_role = train_test_split(\n",
    "    windows_role, targets_role, test_size=0.3, random_state=42)\n",
    "\n",
    "# Split the timestamp data\n",
    "train_timestamp, test_timestamp, train_targets_timestamp, test_targets_timestamp = train_test_split(\n",
    "    windows_timestamp, targets_timestamp, test_size=0.3, random_state=42)\n"
   ]
  },
  {
   "cell_type": "markdown",
   "metadata": {},
   "source": [
    "# Training"
   ]
  },
  {
   "cell_type": "code",
   "execution_count": 39,
   "metadata": {},
   "outputs": [],
   "source": [
    "from tensorflow.keras.callbacks import EarlyStopping\n",
    "from tensorflow.keras.callbacks import LearningRateScheduler\n",
    "\n",
    "# EarlyStopping callback\n",
    "early_stopping = EarlyStopping(monitor='val_loss', patience=3, restore_best_weights=True)\n",
    "\n",
    "def cyclic_lr(epoch, lr):\n",
    "    # Example function that modulates LR within a range for each epoch\n",
    "    # Customize this function based on your cyclic learning rate policy\n",
    "    max_lr = 0.01  # Maximum LR\n",
    "    base_lr = 0.001  # Base LR\n",
    "    step_size = 10  # Number of epochs for half a cycle\n",
    "    cycle = np.floor(1 + epoch / (2 * step_size))\n",
    "    x = np.abs(epoch / step_size - 2 * cycle + 1)\n",
    "    lr = base_lr + (max_lr - base_lr) * np.maximum(0, (1 - x))\n",
    "    return lr\n",
    "\n",
    "lr_scheduler = LearningRateScheduler(cyclic_lr)"
   ]
  },
  {
   "cell_type": "code",
   "execution_count": 40,
   "metadata": {},
   "outputs": [
    {
     "name": "stdout",
     "output_type": "stream",
     "text": [
      "Epoch 1/25\n",
      "154/154 [==============================] - 18s 57ms/step - loss: 14.4293 - output_id_loss: 9.3797 - output_resource_loss: 0.6054 - output_activity_loss: 2.2090 - output_role_loss: 1.5163 - output_timestamp_loss: 0.7189 - output_id_accuracy: 0.1419 - output_resource_accuracy: 0.7707 - output_activity_accuracy: 0.4429 - output_role_accuracy: 0.4950 - output_timestamp_mean_absolute_error: 0.5457 - val_loss: 11.6680 - val_output_id_loss: 8.8905 - val_output_resource_loss: 0.1571 - val_output_activity_loss: 1.3046 - val_output_role_loss: 0.8661 - val_output_timestamp_loss: 0.4497 - val_output_id_accuracy: 0.1410 - val_output_resource_accuracy: 0.9753 - val_output_activity_accuracy: 0.7040 - val_output_role_accuracy: 0.7860 - val_output_timestamp_mean_absolute_error: 0.4093 - lr: 0.0010\n",
      "Epoch 2/25\n",
      "154/154 [==============================] - 6s 40ms/step - loss: 9.6686 - output_id_loss: 7.9142 - output_resource_loss: 0.0923 - output_activity_loss: 0.8274 - output_role_loss: 0.5170 - output_timestamp_loss: 0.3178 - output_id_accuracy: 0.1459 - output_resource_accuracy: 0.9812 - output_activity_accuracy: 0.7863 - output_role_accuracy: 0.8328 - output_timestamp_mean_absolute_error: 0.3432 - val_loss: 11.2268 - val_output_id_loss: 9.8661 - val_output_resource_loss: 0.0757 - val_output_activity_loss: 0.5838 - val_output_role_loss: 0.3417 - val_output_timestamp_loss: 0.3594 - val_output_id_accuracy: 0.1415 - val_output_resource_accuracy: 0.9836 - val_output_activity_accuracy: 0.8566 - val_output_role_accuracy: 0.8919 - val_output_timestamp_mean_absolute_error: 0.3878 - lr: 0.0019\n",
      "Epoch 3/25\n",
      "154/154 [==============================] - 7s 43ms/step - loss: 8.1860 - output_id_loss: 7.2437 - output_resource_loss: 0.0575 - output_activity_loss: 0.4316 - output_role_loss: 0.2321 - output_timestamp_loss: 0.2210 - output_id_accuracy: 0.1508 - output_resource_accuracy: 0.9843 - output_activity_accuracy: 0.8848 - output_role_accuracy: 0.9288 - output_timestamp_mean_absolute_error: 0.2869 - val_loss: 11.8780 - val_output_id_loss: 10.8470 - val_output_resource_loss: 0.0629 - val_output_activity_loss: 0.3962 - val_output_role_loss: 0.2212 - val_output_timestamp_loss: 0.3508 - val_output_id_accuracy: 0.1486 - val_output_resource_accuracy: 0.9834 - val_output_activity_accuracy: 0.8922 - val_output_role_accuracy: 0.9332 - val_output_timestamp_mean_absolute_error: 0.3806 - lr: 0.0028\n",
      "Epoch 4/25\n",
      "154/154 [==============================] - 6s 40ms/step - loss: 7.0645 - output_id_loss: 6.4918 - output_resource_loss: 0.0343 - output_activity_loss: 0.2486 - output_role_loss: 0.1148 - output_timestamp_loss: 0.1750 - output_id_accuracy: 0.1546 - output_resource_accuracy: 0.9918 - output_activity_accuracy: 0.9322 - output_role_accuracy: 0.9709 - output_timestamp_mean_absolute_error: 0.2540 - val_loss: 12.5485 - val_output_id_loss: 11.4836 - val_output_resource_loss: 0.0681 - val_output_activity_loss: 0.4057 - val_output_role_loss: 0.2296 - val_output_timestamp_loss: 0.3615 - val_output_id_accuracy: 0.1470 - val_output_resource_accuracy: 0.9822 - val_output_activity_accuracy: 0.8884 - val_output_role_accuracy: 0.9322 - val_output_timestamp_mean_absolute_error: 0.3688 - lr: 0.0037\n",
      "Epoch 5/25\n",
      "154/154 [==============================] - 10s 62ms/step - loss: 6.0666 - output_id_loss: 5.6811 - output_resource_loss: 0.0194 - output_activity_loss: 0.1459 - output_role_loss: 0.0670 - output_timestamp_loss: 0.1532 - output_id_accuracy: 0.1608 - output_resource_accuracy: 0.9954 - output_activity_accuracy: 0.9613 - output_role_accuracy: 0.9823 - output_timestamp_mean_absolute_error: 0.2407 - val_loss: 13.1649 - val_output_id_loss: 11.9763 - val_output_resource_loss: 0.0951 - val_output_activity_loss: 0.4646 - val_output_role_loss: 0.2711 - val_output_timestamp_loss: 0.3579 - val_output_id_accuracy: 0.1472 - val_output_resource_accuracy: 0.9791 - val_output_activity_accuracy: 0.8746 - val_output_role_accuracy: 0.9272 - val_output_timestamp_mean_absolute_error: 0.3831 - lr: 0.0046\n",
      "Epoch 6/25\n",
      "154/154 [==============================] - 10s 65ms/step - loss: 5.1527 - output_id_loss: 4.8685 - output_resource_loss: 0.0135 - output_activity_loss: 0.0964 - output_role_loss: 0.0477 - output_timestamp_loss: 0.1266 - output_id_accuracy: 0.1759 - output_resource_accuracy: 0.9967 - output_activity_accuracy: 0.9763 - output_role_accuracy: 0.9894 - output_timestamp_mean_absolute_error: 0.2328 - val_loss: 13.9915 - val_output_id_loss: 12.6612 - val_output_resource_loss: 0.1080 - val_output_activity_loss: 0.5515 - val_output_role_loss: 0.3065 - val_output_timestamp_loss: 0.3643 - val_output_id_accuracy: 0.1515 - val_output_resource_accuracy: 0.9763 - val_output_activity_accuracy: 0.8682 - val_output_role_accuracy: 0.9265 - val_output_timestamp_mean_absolute_error: 0.3889 - lr: 0.0055\n",
      "Epoch 7/25\n",
      "154/154 [==============================] - 6s 39ms/step - loss: 4.2969 - output_id_loss: 4.0654 - output_resource_loss: 0.0094 - output_activity_loss: 0.0718 - output_role_loss: 0.0345 - output_timestamp_loss: 0.1157 - output_id_accuracy: 0.2106 - output_resource_accuracy: 0.9982 - output_activity_accuracy: 0.9823 - output_role_accuracy: 0.9926 - output_timestamp_mean_absolute_error: 0.2269 - val_loss: 14.3797 - val_output_id_loss: 12.9479 - val_output_resource_loss: 0.1016 - val_output_activity_loss: 0.6185 - val_output_role_loss: 0.3472 - val_output_timestamp_loss: 0.3644 - val_output_id_accuracy: 0.1545 - val_output_resource_accuracy: 0.9775 - val_output_activity_accuracy: 0.8554 - val_output_role_accuracy: 0.9156 - val_output_timestamp_mean_absolute_error: 0.3725 - lr: 0.0064\n",
      "Epoch 8/25\n",
      "154/154 [==============================] - 6s 39ms/step - loss: 3.4890 - output_id_loss: 3.2849 - output_resource_loss: 0.0089 - output_activity_loss: 0.0532 - output_role_loss: 0.0264 - output_timestamp_loss: 0.1156 - output_id_accuracy: 0.2782 - output_resource_accuracy: 0.9984 - output_activity_accuracy: 0.9873 - output_role_accuracy: 0.9939 - output_timestamp_mean_absolute_error: 0.2273 - val_loss: 14.7406 - val_output_id_loss: 13.2643 - val_output_resource_loss: 0.1089 - val_output_activity_loss: 0.6494 - val_output_role_loss: 0.3427 - val_output_timestamp_loss: 0.3752 - val_output_id_accuracy: 0.1555 - val_output_resource_accuracy: 0.9808 - val_output_activity_accuracy: 0.8585 - val_output_role_accuracy: 0.9239 - val_output_timestamp_mean_absolute_error: 0.3985 - lr: 0.0073\n",
      "Epoch 9/25\n",
      "154/154 [==============================] - 7s 45ms/step - loss: 2.6983 - output_id_loss: 2.5189 - output_resource_loss: 0.0070 - output_activity_loss: 0.0410 - output_role_loss: 0.0212 - output_timestamp_loss: 0.1102 - output_id_accuracy: 0.3941 - output_resource_accuracy: 0.9986 - output_activity_accuracy: 0.9912 - output_role_accuracy: 0.9951 - output_timestamp_mean_absolute_error: 0.2234 - val_loss: 15.0111 - val_output_id_loss: 13.5187 - val_output_resource_loss: 0.1053 - val_output_activity_loss: 0.6619 - val_output_role_loss: 0.3601 - val_output_timestamp_loss: 0.3650 - val_output_id_accuracy: 0.1664 - val_output_resource_accuracy: 0.9789 - val_output_activity_accuracy: 0.8611 - val_output_role_accuracy: 0.9182 - val_output_timestamp_mean_absolute_error: 0.3854 - lr: 0.0082\n",
      "Epoch 10/25\n",
      "154/154 [==============================] - 7s 44ms/step - loss: 1.9813 - output_id_loss: 1.8133 - output_resource_loss: 0.0065 - output_activity_loss: 0.0340 - output_role_loss: 0.0173 - output_timestamp_loss: 0.1102 - output_id_accuracy: 0.5480 - output_resource_accuracy: 0.9989 - output_activity_accuracy: 0.9924 - output_role_accuracy: 0.9971 - output_timestamp_mean_absolute_error: 0.2222 - val_loss: 15.1077 - val_output_id_loss: 13.6063 - val_output_resource_loss: 0.1056 - val_output_activity_loss: 0.6740 - val_output_role_loss: 0.3497 - val_output_timestamp_loss: 0.3719 - val_output_id_accuracy: 0.1688 - val_output_resource_accuracy: 0.9761 - val_output_activity_accuracy: 0.8613 - val_output_role_accuracy: 0.9194 - val_output_timestamp_mean_absolute_error: 0.3965 - lr: 0.0091\n",
      "Epoch 11/25\n",
      "154/154 [==============================] - 7s 47ms/step - loss: 1.3809 - output_id_loss: 1.2365 - output_resource_loss: 0.0053 - output_activity_loss: 0.0274 - output_role_loss: 0.0147 - output_timestamp_loss: 0.0970 - output_id_accuracy: 0.7055 - output_resource_accuracy: 0.9994 - output_activity_accuracy: 0.9944 - output_role_accuracy: 0.9973 - output_timestamp_mean_absolute_error: 0.2058 - val_loss: 15.6014 - val_output_id_loss: 14.0158 - val_output_resource_loss: 0.1172 - val_output_activity_loss: 0.7126 - val_output_role_loss: 0.3880 - val_output_timestamp_loss: 0.3678 - val_output_id_accuracy: 0.1726 - val_output_resource_accuracy: 0.9791 - val_output_activity_accuracy: 0.8578 - val_output_role_accuracy: 0.9144 - val_output_timestamp_mean_absolute_error: 0.4060 - lr: 0.0100\n",
      "Epoch 12/25\n",
      "154/154 [==============================] - 7s 43ms/step - loss: 0.8565 - output_id_loss: 0.7375 - output_resource_loss: 0.0036 - output_activity_loss: 0.0176 - output_role_loss: 0.0100 - output_timestamp_loss: 0.0878 - output_id_accuracy: 0.8443 - output_resource_accuracy: 0.9995 - output_activity_accuracy: 0.9974 - output_role_accuracy: 0.9982 - output_timestamp_mean_absolute_error: 0.1948 - val_loss: 16.0032 - val_output_id_loss: 14.3791 - val_output_resource_loss: 0.1294 - val_output_activity_loss: 0.7372 - val_output_role_loss: 0.3926 - val_output_timestamp_loss: 0.3649 - val_output_id_accuracy: 0.1790 - val_output_resource_accuracy: 0.9770 - val_output_activity_accuracy: 0.8618 - val_output_role_accuracy: 0.9251 - val_output_timestamp_mean_absolute_error: 0.3957 - lr: 0.0091\n",
      "Epoch 13/25\n",
      "154/154 [==============================] - 7s 46ms/step - loss: 0.5194 - output_id_loss: 0.4275 - output_resource_loss: 0.0021 - output_activity_loss: 0.0128 - output_role_loss: 0.0075 - output_timestamp_loss: 0.0695 - output_id_accuracy: 0.9160 - output_resource_accuracy: 0.9997 - output_activity_accuracy: 0.9980 - output_role_accuracy: 0.9985 - output_timestamp_mean_absolute_error: 0.1666 - val_loss: 16.1718 - val_output_id_loss: 14.5603 - val_output_resource_loss: 0.1237 - val_output_activity_loss: 0.7334 - val_output_role_loss: 0.3841 - val_output_timestamp_loss: 0.3702 - val_output_id_accuracy: 0.1808 - val_output_resource_accuracy: 0.9806 - val_output_activity_accuracy: 0.8613 - val_output_role_accuracy: 0.9256 - val_output_timestamp_mean_absolute_error: 0.3986 - lr: 0.0082\n",
      "Epoch 14/25\n",
      "154/154 [==============================] - 8s 49ms/step - loss: 0.3529 - output_id_loss: 0.2795 - output_resource_loss: 0.0012 - output_activity_loss: 0.0083 - output_role_loss: 0.0050 - output_timestamp_loss: 0.0590 - output_id_accuracy: 0.9473 - output_resource_accuracy: 1.0000 - output_activity_accuracy: 0.9987 - output_role_accuracy: 0.9990 - output_timestamp_mean_absolute_error: 0.1447 - val_loss: 16.5777 - val_output_id_loss: 14.9123 - val_output_resource_loss: 0.1350 - val_output_activity_loss: 0.7503 - val_output_role_loss: 0.4046 - val_output_timestamp_loss: 0.3754 - val_output_id_accuracy: 0.1804 - val_output_resource_accuracy: 0.9784 - val_output_activity_accuracy: 0.8644 - val_output_role_accuracy: 0.9232 - val_output_timestamp_mean_absolute_error: 0.4053 - lr: 0.0073\n",
      "Epoch 15/25\n",
      "154/154 [==============================] - 7s 47ms/step - loss: 0.2671 - output_id_loss: 0.2086 - output_resource_loss: 8.9806e-04 - output_activity_loss: 0.0064 - output_role_loss: 0.0038 - output_timestamp_loss: 0.0475 - output_id_accuracy: 0.9572 - output_resource_accuracy: 1.0000 - output_activity_accuracy: 0.9991 - output_role_accuracy: 0.9994 - output_timestamp_mean_absolute_error: 0.1261 - val_loss: 16.9096 - val_output_id_loss: 15.2216 - val_output_resource_loss: 0.1425 - val_output_activity_loss: 0.7658 - val_output_role_loss: 0.4154 - val_output_timestamp_loss: 0.3643 - val_output_id_accuracy: 0.1801 - val_output_resource_accuracy: 0.9780 - val_output_activity_accuracy: 0.8637 - val_output_role_accuracy: 0.9232 - val_output_timestamp_mean_absolute_error: 0.3902 - lr: 0.0064\n",
      "Epoch 16/25\n",
      "154/154 [==============================] - 7s 46ms/step - loss: 0.2222 - output_id_loss: 0.1733 - output_resource_loss: 6.4808e-04 - output_activity_loss: 0.0055 - output_role_loss: 0.0034 - output_timestamp_loss: 0.0394 - output_id_accuracy: 0.9609 - output_resource_accuracy: 1.0000 - output_activity_accuracy: 0.9992 - output_role_accuracy: 0.9992 - output_timestamp_mean_absolute_error: 0.1060 - val_loss: 17.0669 - val_output_id_loss: 15.3500 - val_output_resource_loss: 0.1434 - val_output_activity_loss: 0.7850 - val_output_role_loss: 0.4220 - val_output_timestamp_loss: 0.3666 - val_output_id_accuracy: 0.1806 - val_output_resource_accuracy: 0.9789 - val_output_activity_accuracy: 0.8647 - val_output_role_accuracy: 0.9237 - val_output_timestamp_mean_absolute_error: 0.3918 - lr: 0.0055\n",
      "Epoch 17/25\n",
      "154/154 [==============================] - 7s 45ms/step - loss: 0.1881 - output_id_loss: 0.1455 - output_resource_loss: 5.9794e-04 - output_activity_loss: 0.0050 - output_role_loss: 0.0030 - output_timestamp_loss: 0.0340 - output_id_accuracy: 0.9623 - output_resource_accuracy: 1.0000 - output_activity_accuracy: 0.9992 - output_role_accuracy: 0.9993 - output_timestamp_mean_absolute_error: 0.0905 - val_loss: 17.3513 - val_output_id_loss: 15.6042 - val_output_resource_loss: 0.1442 - val_output_activity_loss: 0.7955 - val_output_role_loss: 0.4283 - val_output_timestamp_loss: 0.3791 - val_output_id_accuracy: 0.1808 - val_output_resource_accuracy: 0.9780 - val_output_activity_accuracy: 0.8632 - val_output_role_accuracy: 0.9234 - val_output_timestamp_mean_absolute_error: 0.4006 - lr: 0.0046\n",
      "Epoch 18/25\n",
      "154/154 [==============================] - 7s 44ms/step - loss: 0.1634 - output_id_loss: 0.1265 - output_resource_loss: 4.6855e-04 - output_activity_loss: 0.0041 - output_role_loss: 0.0024 - output_timestamp_loss: 0.0299 - output_id_accuracy: 0.9646 - output_resource_accuracy: 1.0000 - output_activity_accuracy: 0.9992 - output_role_accuracy: 0.9995 - output_timestamp_mean_absolute_error: 0.0778 - val_loss: 17.3892 - val_output_id_loss: 15.6283 - val_output_resource_loss: 0.1446 - val_output_activity_loss: 0.8049 - val_output_role_loss: 0.4322 - val_output_timestamp_loss: 0.3793 - val_output_id_accuracy: 0.1808 - val_output_resource_accuracy: 0.9784 - val_output_activity_accuracy: 0.8649 - val_output_role_accuracy: 0.9227 - val_output_timestamp_mean_absolute_error: 0.4008 - lr: 0.0037\n",
      "Epoch 19/25\n",
      "154/154 [==============================] - 7s 48ms/step - loss: 0.1454 - output_id_loss: 0.1119 - output_resource_loss: 4.1953e-04 - output_activity_loss: 0.0036 - output_role_loss: 0.0022 - output_timestamp_loss: 0.0273 - output_id_accuracy: 0.9632 - output_resource_accuracy: 1.0000 - output_activity_accuracy: 0.9994 - output_role_accuracy: 0.9994 - output_timestamp_mean_absolute_error: 0.0686 - val_loss: 17.5459 - val_output_id_loss: 15.7681 - val_output_resource_loss: 0.1465 - val_output_activity_loss: 0.8109 - val_output_role_loss: 0.4375 - val_output_timestamp_loss: 0.3830 - val_output_id_accuracy: 0.1806 - val_output_resource_accuracy: 0.9780 - val_output_activity_accuracy: 0.8656 - val_output_role_accuracy: 0.9230 - val_output_timestamp_mean_absolute_error: 0.4045 - lr: 0.0028\n",
      "Epoch 20/25\n",
      "154/154 [==============================] - 8s 49ms/step - loss: 0.1302 - output_id_loss: 0.0988 - output_resource_loss: 3.7196e-04 - output_activity_loss: 0.0035 - output_role_loss: 0.0021 - output_timestamp_loss: 0.0254 - output_id_accuracy: 0.9652 - output_resource_accuracy: 1.0000 - output_activity_accuracy: 0.9994 - output_role_accuracy: 0.9995 - output_timestamp_mean_absolute_error: 0.0600 - val_loss: 17.7746 - val_output_id_loss: 15.9738 - val_output_resource_loss: 0.1492 - val_output_activity_loss: 0.8208 - val_output_role_loss: 0.4429 - val_output_timestamp_loss: 0.3878 - val_output_id_accuracy: 0.1804 - val_output_resource_accuracy: 0.9780 - val_output_activity_accuracy: 0.8644 - val_output_role_accuracy: 0.9232 - val_output_timestamp_mean_absolute_error: 0.4075 - lr: 0.0019\n",
      "Epoch 21/25\n",
      "154/154 [==============================] - 7s 46ms/step - loss: 0.1167 - output_id_loss: 0.0879 - output_resource_loss: 3.4004e-04 - output_activity_loss: 0.0031 - output_role_loss: 0.0018 - output_timestamp_loss: 0.0235 - output_id_accuracy: 0.9660 - output_resource_accuracy: 1.0000 - output_activity_accuracy: 0.9993 - output_role_accuracy: 0.9994 - output_timestamp_mean_absolute_error: 0.0503 - val_loss: 17.8815 - val_output_id_loss: 16.0692 - val_output_resource_loss: 0.1515 - val_output_activity_loss: 0.8258 - val_output_role_loss: 0.4455 - val_output_timestamp_loss: 0.3896 - val_output_id_accuracy: 0.1799 - val_output_resource_accuracy: 0.9775 - val_output_activity_accuracy: 0.8642 - val_output_role_accuracy: 0.9223 - val_output_timestamp_mean_absolute_error: 0.4088 - lr: 0.0010\n",
      "Epoch 22/25\n",
      "154/154 [==============================] - 7s 45ms/step - loss: 0.1256 - output_id_loss: 0.0960 - output_resource_loss: 3.2716e-04 - output_activity_loss: 0.0032 - output_role_loss: 0.0019 - output_timestamp_loss: 0.0241 - output_id_accuracy: 0.9642 - output_resource_accuracy: 1.0000 - output_activity_accuracy: 0.9992 - output_role_accuracy: 0.9993 - output_timestamp_mean_absolute_error: 0.0516 - val_loss: 17.9385 - val_output_id_loss: 16.1213 - val_output_resource_loss: 0.1516 - val_output_activity_loss: 0.8289 - val_output_role_loss: 0.4481 - val_output_timestamp_loss: 0.3887 - val_output_id_accuracy: 0.1799 - val_output_resource_accuracy: 0.9777 - val_output_activity_accuracy: 0.8651 - val_output_role_accuracy: 0.9227 - val_output_timestamp_mean_absolute_error: 0.4087 - lr: 0.0019\n",
      "Epoch 23/25\n",
      "154/154 [==============================] - 8s 52ms/step - loss: 0.1345 - output_id_loss: 0.1043 - output_resource_loss: 3.2320e-04 - output_activity_loss: 0.0032 - output_role_loss: 0.0020 - output_timestamp_loss: 0.0247 - output_id_accuracy: 0.9653 - output_resource_accuracy: 1.0000 - output_activity_accuracy: 0.9993 - output_role_accuracy: 0.9995 - output_timestamp_mean_absolute_error: 0.0560 - val_loss: 17.9183 - val_output_id_loss: 16.0815 - val_output_resource_loss: 0.1528 - val_output_activity_loss: 0.8365 - val_output_role_loss: 0.4526 - val_output_timestamp_loss: 0.3949 - val_output_id_accuracy: 0.1801 - val_output_resource_accuracy: 0.9775 - val_output_activity_accuracy: 0.8639 - val_output_role_accuracy: 0.9225 - val_output_timestamp_mean_absolute_error: 0.4133 - lr: 0.0028\n",
      "Epoch 24/25\n",
      "154/154 [==============================] - 8s 54ms/step - loss: 0.1480 - output_id_loss: 0.1147 - output_resource_loss: 3.6300e-04 - output_activity_loss: 0.0034 - output_role_loss: 0.0021 - output_timestamp_loss: 0.0274 - output_id_accuracy: 0.9634 - output_resource_accuracy: 1.0000 - output_activity_accuracy: 0.9994 - output_role_accuracy: 0.9995 - output_timestamp_mean_absolute_error: 0.0706 - val_loss: 17.8593 - val_output_id_loss: 16.0032 - val_output_resource_loss: 0.1579 - val_output_activity_loss: 0.8474 - val_output_role_loss: 0.4590 - val_output_timestamp_loss: 0.3918 - val_output_id_accuracy: 0.1799 - val_output_resource_accuracy: 0.9765 - val_output_activity_accuracy: 0.8637 - val_output_role_accuracy: 0.9220 - val_output_timestamp_mean_absolute_error: 0.4146 - lr: 0.0037\n",
      "Epoch 25/25\n",
      "154/154 [==============================] - 7s 48ms/step - loss: 0.1620 - output_id_loss: 0.1226 - output_resource_loss: 3.7519e-04 - output_activity_loss: 0.0038 - output_role_loss: 0.0024 - output_timestamp_loss: 0.0328 - output_id_accuracy: 0.9641 - output_resource_accuracy: 1.0000 - output_activity_accuracy: 0.9992 - output_role_accuracy: 0.9993 - output_timestamp_mean_absolute_error: 0.0942 - val_loss: 17.8603 - val_output_id_loss: 15.9950 - val_output_resource_loss: 0.1534 - val_output_activity_loss: 0.8517 - val_output_role_loss: 0.4620 - val_output_timestamp_loss: 0.3982 - val_output_id_accuracy: 0.1799 - val_output_resource_accuracy: 0.9772 - val_output_activity_accuracy: 0.8658 - val_output_role_accuracy: 0.9234 - val_output_timestamp_mean_absolute_error: 0.4149 - lr: 0.0046\n"
     ]
    }
   ],
   "source": [
    "import numpy as np\n",
    "from tensorflow.keras.utils import to_categorical\n",
    "\n",
    "# Convert categorical targets to one-hot encoding\n",
    "train_targets_id_cat = to_categorical(train_targets_id, num_classes=num_ids)\n",
    "test_targets_id_cat = to_categorical(test_targets_id, num_classes=num_ids)\n",
    "\n",
    "train_targets_resource_cat = to_categorical(train_targets_resource, num_classes=num_resources)\n",
    "test_targets_resource_cat = to_categorical(test_targets_resource, num_classes=num_resources)\n",
    "\n",
    "train_targets_activity_cat = to_categorical(train_targets_activity, num_classes=num_activities)\n",
    "test_targets_activity_cat = to_categorical(test_targets_activity, num_classes=num_activities)\n",
    "\n",
    "train_targets_role_cat = to_categorical(train_targets_role, num_classes=num_roles)\n",
    "test_targets_role_cat = to_categorical(test_targets_role, num_classes=num_roles)\n",
    "\n",
    "# Note: Assuming timestamp targets are continuous and don't need to be converted to categorical\n",
    "\n",
    "# Train the model\n",
    "history = model.fit([train_id, train_resource, train_activity, train_role, train_timestamp], \n",
    "                    [train_targets_id_cat, train_targets_resource_cat, train_targets_activity_cat, train_targets_role_cat, train_targets_timestamp],\n",
    "                    epochs=25,\n",
    "                    batch_size=64,\n",
    "                    validation_data=([test_id, test_resource, test_activity, test_role, test_timestamp], \n",
    "                                     [test_targets_id_cat, test_targets_resource_cat, test_targets_activity_cat, test_targets_role_cat, test_targets_timestamp]),\n",
    "                    verbose=1,\n",
    "                    callbacks=[lr_scheduler])  # Add other callbacks as needed"
   ]
  },
  {
   "cell_type": "code",
   "execution_count": 41,
   "metadata": {},
   "outputs": [
    {
     "name": "stdout",
     "output_type": "stream",
     "text": [
      "132/132 [==============================] - 1s 9ms/step - loss: 17.8603 - output_id_loss: 15.9950 - output_resource_loss: 0.1534 - output_activity_loss: 0.8517 - output_role_loss: 0.4620 - output_timestamp_loss: 0.3982 - output_id_accuracy: 0.1799 - output_resource_accuracy: 0.9772 - output_activity_accuracy: 0.8658 - output_role_accuracy: 0.9234 - output_timestamp_mean_absolute_error: 0.4149\n",
      "[17.860273361206055, 15.994985580444336, 0.153416246175766, 0.8516929745674133, 0.46195927262306213, 0.3982114791870117, 0.17990045249462128, 0.9772458076477051, 0.8658449649810791, 0.9234415888786316, 0.41488009691238403]\n"
     ]
    }
   ],
   "source": [
    "# Evaluate the model\n",
    "evaluation = model.evaluate(\n",
    "    [test_id, test_resource, test_activity, test_role, test_timestamp],\n",
    "    [test_targets_id_cat, test_targets_resource_cat, test_targets_activity_cat, test_targets_role_cat, test_targets_timestamp]\n",
    ")\n",
    "\n",
    "print(evaluation)"
   ]
  },
  {
   "cell_type": "code",
   "execution_count": 42,
   "metadata": {},
   "outputs": [
    {
     "name": "stderr",
     "output_type": "stream",
     "text": [
      "/opt/anaconda3/lib/python3.9/site-packages/keras/src/engine/training.py:3000: UserWarning: You are saving your model as an HDF5 file via `model.save()`. This file format is considered legacy. We recommend using instead the native Keras format, e.g. `model.save('my_model.keras')`.\n",
      "  saving_api.save_model(\n"
     ]
    }
   ],
   "source": [
    "# Save the model to an H5 file\n",
    "model.save('dapnn_prepaid.h5')"
   ]
  },
  {
   "cell_type": "markdown",
   "metadata": {},
   "source": [
    "# Anomaly Score Computation"
   ]
  },
  {
   "cell_type": "code",
   "execution_count": 43,
   "metadata": {},
   "outputs": [
    {
     "name": "stdout",
     "output_type": "stream",
     "text": [
      "440/440 [==============================] - 4s 5ms/step\n"
     ]
    }
   ],
   "source": [
    "# Generate predictions for all inputs\n",
    "predictions = model.predict([windows_id, windows_resource, windows_activity, windows_role, windows_timestamp])\n",
    "\n",
    "# Extract predictions for categorical attributes (softmax probabilities)\n",
    "predictions_id = predictions[0]         # ID predictions\n",
    "predictions_resource = predictions[1]   # Resource predictions\n",
    "predictions_activity = predictions[2]   # Activity predictions\n",
    "predictions_role = predictions[3]       # Role predictions\n",
    "\n",
    "# Extract predictions for numerical attribute (timestamp)\n",
    "predictions_timestamp = predictions[4]  # Timestamp predictions"
   ]
  },
  {
   "cell_type": "code",
   "execution_count": 44,
   "metadata": {},
   "outputs": [],
   "source": [
    "import numpy as np\n",
    "from tensorflow.keras.utils import to_categorical\n",
    "\n",
    "def compute_anomaly_scores(predictions, actuals):\n",
    "    # For categorical predictions, convert actuals to one-hot for comparison\n",
    "    actuals_one_hot = to_categorical(actuals, num_classes=predictions.shape[-1])\n",
    "    \n",
    "    max_predictions = np.max(predictions, axis=-1)\n",
    "    actual_predictions = np.sum(predictions * actuals_one_hot, axis=-1)  # Extract the probability of the actual class\n",
    "    \n",
    "    anomaly_scores = (max_predictions - actual_predictions) / max_predictions\n",
    "    \n",
    "    return anomaly_scores\n",
    "\n",
    "# Assuming targets_id, targets_resource, targets_activity, targets_role are the true values for these attributes\n",
    "anomaly_scores_id = compute_anomaly_scores(predictions_id, targets_id)\n",
    "anomaly_scores_resource = compute_anomaly_scores(predictions_resource, targets_resource)\n",
    "anomaly_scores_activity = compute_anomaly_scores(predictions_activity, targets_activity)\n",
    "anomaly_scores_role = compute_anomaly_scores(predictions_role, targets_role)"
   ]
  },
  {
   "cell_type": "code",
   "execution_count": 45,
   "metadata": {},
   "outputs": [],
   "source": [
    "def compute_anomaly_scores_continuous(predictions, actuals, normalization_factor):\n",
    "    \"\"\"\n",
    "    Compute anomaly scores for continuous attributes.\n",
    "    \n",
    "    Parameters:\n",
    "    - predictions: numpy array of predicted values.\n",
    "    - actuals: numpy array of actual values.\n",
    "    - normalization_factor: normalization factor (e.g., standard deviation of the attribute).\n",
    "    \n",
    "    Returns:\n",
    "    - numpy array of anomaly scores.\n",
    "    \"\"\"\n",
    "    # Calculate absolute differences\n",
    "    differences = np.abs(predictions - actuals)\n",
    "    \n",
    "    # Normalize the differences\n",
    "    anomaly_scores = differences / normalization_factor\n",
    "    \n",
    "    return anomaly_scores\n",
    "\n",
    "normalization_factor = np.std(targets_timestamp)       # Example normalization factor (standard deviation)\n",
    "anomaly_scores_timestamp = compute_anomaly_scores_continuous(predictions_timestamp, targets_timestamp, normalization_factor)"
   ]
  },
  {
   "cell_type": "code",
   "execution_count": 67,
   "metadata": {},
   "outputs": [],
   "source": [
    "import numpy as np\n",
    "\n",
    "def classify_cases(anomaly_scores_resource, anomaly_scores_activity, anomaly_scores_role, anomaly_scores_timestamp, threshold=0.98):\n",
    "    # Ensure all inputs are numpy arrays of the same shape\n",
    "    anomaly_scores_resource = np.array(anomaly_scores_resource).flatten()\n",
    "    anomaly_scores_activity = np.array(anomaly_scores_activity).flatten()\n",
    "    anomaly_scores_role = np.array(anomaly_scores_role).flatten()\n",
    "    anomaly_scores_timestamp = np.array(anomaly_scores_timestamp).flatten()\n",
    "\n",
    "    # Check if all arrays have the same length\n",
    "    if not (len(anomaly_scores_resource) == len(anomaly_scores_activity) == len(anomaly_scores_role) == len(anomaly_scores_timestamp)):\n",
    "        raise ValueError(\"All input anomaly scores must have the same length.\")\n",
    "\n",
    "    # Find the maximum anomaly score across all attributes for each case\n",
    "    max_scores = np.maximum.reduce([anomaly_scores_id, anomaly_scores_resource, anomaly_scores_activity, anomaly_scores_role, anomaly_scores_timestamp])\n",
    "\n",
    "    # Classify cases as anomalous if the maximum anomaly score exceeds the threshold\n",
    "    anomalous_cases = max_scores > threshold\n",
    "    \n",
    "    return anomalous_cases\n",
    "\n",
    "# Now use the anomaly scores for id, resource, activity, role, and timestamp in the classification\n",
    "anomalous_cases = classify_cases(anomaly_scores_resource, anomaly_scores_activity, anomaly_scores_role, anomaly_scores_timestamp)"
   ]
  },
  {
   "cell_type": "code",
   "execution_count": 100,
   "metadata": {},
   "outputs": [],
   "source": [
    "import numpy as np\n",
    "\n",
    "def classify_cases(anomaly_scores_activity, threshold=0.98):\n",
    "    # Ensure all inputs are numpy arrays of the same shape\n",
    "    anomaly_scores_activity = np.array(anomaly_scores_activity).flatten()\n",
    "\n",
    "    # Find the maximum anomaly score across all attributes for each case\n",
    "    max_scores = np.maximum.reduce([anomaly_scores_activity])\n",
    "\n",
    "    # Classify cases as anomalous if the maximum anomaly score exceeds the threshold\n",
    "    anomalous_cases = max_scores > threshold\n",
    "    \n",
    "    return anomalous_cases\n",
    "\n",
    "# Now use the anomaly scores for id, resource, activity, role, and timestamp in the classification\n",
    "anomalous_cases = classify_cases(anomaly_scores_activity)"
   ]
  },
  {
   "cell_type": "code",
   "execution_count": 101,
   "metadata": {},
   "outputs": [
    {
     "data": {
      "text/plain": [
       "array([False, False, False, ..., False, False, False])"
      ]
     },
     "execution_count": 101,
     "metadata": {},
     "output_type": "execute_result"
    }
   ],
   "source": [
    "anomalous_cases"
   ]
  },
  {
   "cell_type": "markdown",
   "metadata": {},
   "source": [
    "# Mapping"
   ]
  },
  {
   "cell_type": "markdown",
   "metadata": {},
   "source": [
    "### True: anomaly, False: no anomaly"
   ]
  },
  {
   "cell_type": "code",
   "execution_count": 102,
   "metadata": {},
   "outputs": [
    {
     "data": {
      "text/html": [
       "<div>\n",
       "<style scoped>\n",
       "    .dataframe tbody tr th:only-of-type {\n",
       "        vertical-align: middle;\n",
       "    }\n",
       "\n",
       "    .dataframe tbody tr th {\n",
       "        vertical-align: top;\n",
       "    }\n",
       "\n",
       "    .dataframe thead th {\n",
       "        text-align: right;\n",
       "    }\n",
       "</style>\n",
       "<table border=\"1\" class=\"dataframe\">\n",
       "  <thead>\n",
       "    <tr style=\"text-align: right;\">\n",
       "      <th></th>\n",
       "      <th>case</th>\n",
       "      <th>predicted</th>\n",
       "    </tr>\n",
       "  </thead>\n",
       "  <tbody>\n",
       "    <tr>\n",
       "      <th>0</th>\n",
       "      <td>0</td>\n",
       "      <td>False</td>\n",
       "    </tr>\n",
       "    <tr>\n",
       "      <th>1</th>\n",
       "      <td>0</td>\n",
       "      <td>False</td>\n",
       "    </tr>\n",
       "    <tr>\n",
       "      <th>2</th>\n",
       "      <td>0</td>\n",
       "      <td>False</td>\n",
       "    </tr>\n",
       "    <tr>\n",
       "      <th>3</th>\n",
       "      <td>0</td>\n",
       "      <td>False</td>\n",
       "    </tr>\n",
       "    <tr>\n",
       "      <th>4</th>\n",
       "      <td>1</td>\n",
       "      <td>False</td>\n",
       "    </tr>\n",
       "    <tr>\n",
       "      <th>...</th>\n",
       "      <td>...</td>\n",
       "      <td>...</td>\n",
       "    </tr>\n",
       "    <tr>\n",
       "      <th>14057</th>\n",
       "      <td>2097</td>\n",
       "      <td>False</td>\n",
       "    </tr>\n",
       "    <tr>\n",
       "      <th>14058</th>\n",
       "      <td>2097</td>\n",
       "      <td>False</td>\n",
       "    </tr>\n",
       "    <tr>\n",
       "      <th>14059</th>\n",
       "      <td>2098</td>\n",
       "      <td>False</td>\n",
       "    </tr>\n",
       "    <tr>\n",
       "      <th>14060</th>\n",
       "      <td>2098</td>\n",
       "      <td>False</td>\n",
       "    </tr>\n",
       "    <tr>\n",
       "      <th>14061</th>\n",
       "      <td>2098</td>\n",
       "      <td>False</td>\n",
       "    </tr>\n",
       "  </tbody>\n",
       "</table>\n",
       "<p>14062 rows × 2 columns</p>\n",
       "</div>"
      ],
      "text/plain": [
       "       case  predicted\n",
       "0         0      False\n",
       "1         0      False\n",
       "2         0      False\n",
       "3         0      False\n",
       "4         1      False\n",
       "...     ...        ...\n",
       "14057  2097      False\n",
       "14058  2097      False\n",
       "14059  2098      False\n",
       "14060  2098      False\n",
       "14061  2098      False\n",
       "\n",
       "[14062 rows x 2 columns]"
      ]
     },
     "execution_count": 102,
     "metadata": {},
     "output_type": "execute_result"
    }
   ],
   "source": [
    "import pandas as pd\n",
    "\n",
    "# Create a DataFrame from the case_indices_array corresponding to case_resource\n",
    "mapping = pd.DataFrame({'case': case_indices})\n",
    "mapping['predicted'] = anomalous_cases\n",
    "mapping"
   ]
  },
  {
   "cell_type": "code",
   "execution_count": 103,
   "metadata": {},
   "outputs": [
    {
     "data": {
      "text/plain": [
       "case\n",
       "0       False\n",
       "1       False\n",
       "2       False\n",
       "3        True\n",
       "4       False\n",
       "        ...  \n",
       "2094    False\n",
       "2095    False\n",
       "2096    False\n",
       "2097    False\n",
       "2098    False\n",
       "Name: predicted, Length: 2099, dtype: bool"
      ]
     },
     "execution_count": 103,
     "metadata": {},
     "output_type": "execute_result"
    }
   ],
   "source": [
    "case_prediction = mapping.groupby('case')['predicted'].any()\n",
    "case_prediction\n"
   ]
  },
  {
   "cell_type": "markdown",
   "metadata": {},
   "source": [
    "# Ground Truth"
   ]
  },
  {
   "cell_type": "code",
   "execution_count": 104,
   "metadata": {},
   "outputs": [],
   "source": [
    "def generate_alignments_adjusted_tracecost_pkl(log, net, initial_marking, final_marking):\n",
    "    from pm4py.algo.conformance.alignments.petri_net import algorithm as alignments\n",
    "    from pm4py.algo.conformance.alignments.petri_net import variants\n",
    "    from pm4py.objects.petri_net.utils import align_utils\n",
    "    max_events=0\n",
    "    for trace in log:\n",
    "        counter=0\n",
    "        for event in trace:\n",
    "            counter+=1\n",
    "        if counter > max_events:\n",
    "            max_events=counter\n",
    "    parameters={}\n",
    "    parameters[alignments.Variants.VERSION_STATE_EQUATION_A_STAR.value.Parameters.PARAM_SYNC_COST_FUNCTION] = list(map(lambda i: .1*i, range(max_events*2)))\n",
    "    parameters[alignments.Variants.VERSION_STATE_EQUATION_A_STAR.value.Parameters.PARAM_TRACE_COST_FUNCTION]=list(map(lambda i: align_utils.STD_MODEL_LOG_MOVE_COST-.1*i, range(max_events*2)))\n",
    "    aligned_traces = alignments.apply_log(log, net, initial_marking, final_marking, variant=variants.state_equation_a_star, parameters=parameters)\n",
    "    return aligned_traces"
   ]
  },
  {
   "cell_type": "code",
   "execution_count": 105,
   "metadata": {},
   "outputs": [
    {
     "data": {
      "application/vnd.jupyter.widget-view+json": {
       "model_id": "44725a35e74b49b1980600bae15599d7",
       "version_major": 2,
       "version_minor": 0
      },
      "text/plain": [
       "aligning log, completed variants ::   0%|          | 0/202 [00:00<?, ?it/s]"
      ]
     },
     "metadata": {},
     "output_type": "display_data"
    }
   ],
   "source": [
    "import pm4py\n",
    "from pm4py.objects.log.importer.xes import importer as xes_importer\n",
    "from pm4py.objects.bpmn.importer import importer as bpmn_importer\n",
    "from pm4py.algo.conformance.alignments.petri_net import algorithm as alignments_petri\n",
    "\n",
    "# 2. Import the given BPMN model\n",
    "bpmn_graph = bpmn_importer.apply(\"../../data/model/Model_PrepaidTravelCost.bpmn\")\n",
    "\n",
    "# 3. Convert the BPMN to a Petri net\n",
    "net, initial_marking, final_marking = pm4py.convert_to_petri_net(bpmn_graph)\n",
    "\n",
    "aligned_traces = generate_alignments_adjusted_tracecost_pkl(log, net, initial_marking, final_marking)"
   ]
  },
  {
   "cell_type": "code",
   "execution_count": 106,
   "metadata": {},
   "outputs": [],
   "source": [
    "def extract_conformance_status_by_fitness(aligned_traces):\n",
    "    conformance_status = []\n",
    "    for alignment in aligned_traces:\n",
    "        fitness = alignment['fitness']\n",
    "        # If the fitness is 1.0, the trace is conforming\n",
    "        if fitness == 1.0:\n",
    "            conformance_status.append(1)\n",
    "        else:\n",
    "            conformance_status.append(0)\n",
    "    return conformance_status\n",
    "\n",
    "# Get the conformance status list from the aligned traces\n",
    "conformance = extract_conformance_status_by_fitness(aligned_traces)"
   ]
  },
  {
   "cell_type": "code",
   "execution_count": 107,
   "metadata": {},
   "outputs": [
    {
     "data": {
      "text/html": [
       "<div>\n",
       "<style scoped>\n",
       "    .dataframe tbody tr th:only-of-type {\n",
       "        vertical-align: middle;\n",
       "    }\n",
       "\n",
       "    .dataframe tbody tr th {\n",
       "        vertical-align: top;\n",
       "    }\n",
       "\n",
       "    .dataframe thead th {\n",
       "        text-align: right;\n",
       "    }\n",
       "</style>\n",
       "<table border=\"1\" class=\"dataframe\">\n",
       "  <thead>\n",
       "    <tr style=\"text-align: right;\">\n",
       "      <th></th>\n",
       "      <th>conformity</th>\n",
       "      <th>predicted</th>\n",
       "    </tr>\n",
       "  </thead>\n",
       "  <tbody>\n",
       "    <tr>\n",
       "      <th>0</th>\n",
       "      <td>0</td>\n",
       "      <td>1</td>\n",
       "    </tr>\n",
       "    <tr>\n",
       "      <th>1</th>\n",
       "      <td>0</td>\n",
       "      <td>1</td>\n",
       "    </tr>\n",
       "    <tr>\n",
       "      <th>2</th>\n",
       "      <td>0</td>\n",
       "      <td>1</td>\n",
       "    </tr>\n",
       "    <tr>\n",
       "      <th>3</th>\n",
       "      <td>0</td>\n",
       "      <td>0</td>\n",
       "    </tr>\n",
       "    <tr>\n",
       "      <th>4</th>\n",
       "      <td>0</td>\n",
       "      <td>1</td>\n",
       "    </tr>\n",
       "    <tr>\n",
       "      <th>...</th>\n",
       "      <td>...</td>\n",
       "      <td>...</td>\n",
       "    </tr>\n",
       "    <tr>\n",
       "      <th>2094</th>\n",
       "      <td>0</td>\n",
       "      <td>1</td>\n",
       "    </tr>\n",
       "    <tr>\n",
       "      <th>2095</th>\n",
       "      <td>0</td>\n",
       "      <td>1</td>\n",
       "    </tr>\n",
       "    <tr>\n",
       "      <th>2096</th>\n",
       "      <td>0</td>\n",
       "      <td>1</td>\n",
       "    </tr>\n",
       "    <tr>\n",
       "      <th>2097</th>\n",
       "      <td>0</td>\n",
       "      <td>1</td>\n",
       "    </tr>\n",
       "    <tr>\n",
       "      <th>2098</th>\n",
       "      <td>0</td>\n",
       "      <td>1</td>\n",
       "    </tr>\n",
       "  </tbody>\n",
       "</table>\n",
       "<p>2099 rows × 2 columns</p>\n",
       "</div>"
      ],
      "text/plain": [
       "      conformity  predicted\n",
       "0              0          1\n",
       "1              0          1\n",
       "2              0          1\n",
       "3              0          0\n",
       "4              0          1\n",
       "...          ...        ...\n",
       "2094           0          1\n",
       "2095           0          1\n",
       "2096           0          1\n",
       "2097           0          1\n",
       "2098           0          1\n",
       "\n",
       "[2099 rows x 2 columns]"
      ]
     },
     "execution_count": 107,
     "metadata": {},
     "output_type": "execute_result"
    }
   ],
   "source": [
    "ground_truth = pd.DataFrame({'conformity': conformance})\n",
    "ground_truth['predicted'] = case_prediction\n",
    "\n",
    "# Convert False to 0 and True to 1\n",
    "ground_truth['predicted'] = [int(value) for value in ground_truth['predicted']]\n",
    "ground_truth['predicted'] = 1 - ground_truth['predicted']\n",
    "ground_truth"
   ]
  },
  {
   "cell_type": "markdown",
   "metadata": {},
   "source": [
    "# Evaluation"
   ]
  },
  {
   "cell_type": "code",
   "execution_count": 108,
   "metadata": {},
   "outputs": [],
   "source": [
    "# Calculating TP, TN, FP, FN\n",
    "TP = ((ground_truth['conformity'] == 1) & (ground_truth['predicted'] == 1)).sum()\n",
    "TN = ((ground_truth['conformity'] == 0) & (ground_truth['predicted'] == 0)).sum()\n",
    "FP = ((ground_truth['conformity'] == 0) & (ground_truth['predicted'] == 1)).sum()\n",
    "FN = ((ground_truth['conformity'] == 1) & (ground_truth['predicted'] == 0)).sum()"
   ]
  },
  {
   "cell_type": "code",
   "execution_count": 109,
   "metadata": {},
   "outputs": [
    {
     "name": "stdout",
     "output_type": "stream",
     "text": [
      "Accuracy: 0.622\n"
     ]
    }
   ],
   "source": [
    "# Calculate accuracy\n",
    "accuracy = (TP + TN) / (TP + TN + FP + FN)\n",
    "print(f\"Accuracy: {accuracy:.3f}\")"
   ]
  },
  {
   "cell_type": "code",
   "execution_count": 110,
   "metadata": {},
   "outputs": [
    {
     "name": "stdout",
     "output_type": "stream",
     "text": [
      "F1: 0.738\n"
     ]
    }
   ],
   "source": [
    "# Calculate f1\n",
    "\n",
    "precision = TP / (TP + FP)\n",
    "recall = TP / (TP + FN)\n",
    "\n",
    "f1 = 2 * ((precision * recall) / (precision + recall))\n",
    "print(f\"F1: {f1:.3f}\")"
   ]
  },
  {
   "cell_type": "markdown",
   "metadata": {},
   "source": [
    "### Dev (Non Conform Traces)"
   ]
  },
  {
   "cell_type": "code",
   "execution_count": 111,
   "metadata": {},
   "outputs": [
    {
     "name": "stdout",
     "output_type": "stream",
     "text": [
      "Precision: 0.717\n"
     ]
    }
   ],
   "source": [
    "# Calculate precision for Dev\n",
    "precision = TN / (TN + FN)\n",
    "print(f\"Precision: {precision:.3f}\")"
   ]
  },
  {
   "cell_type": "code",
   "execution_count": 112,
   "metadata": {},
   "outputs": [
    {
     "name": "stdout",
     "output_type": "stream",
     "text": [
      "Recall: 0.209\n"
     ]
    }
   ],
   "source": [
    "# Calculate recall for Dev\n",
    "recall = TN / (TN + FP)\n",
    "print(f\"Recall: {recall:.3f}\")"
   ]
  },
  {
   "cell_type": "markdown",
   "metadata": {},
   "source": [
    "### No Dev (Conform Traces)"
   ]
  },
  {
   "cell_type": "code",
   "execution_count": 113,
   "metadata": {},
   "outputs": [
    {
     "name": "stdout",
     "output_type": "stream",
     "text": [
      "Precision: 0.609\n"
     ]
    }
   ],
   "source": [
    "# Calculate precision for No Dev\n",
    "precision = TP / (TP + FP)\n",
    "print(f\"Precision: {precision:.3f}\")"
   ]
  },
  {
   "cell_type": "code",
   "execution_count": 114,
   "metadata": {},
   "outputs": [
    {
     "name": "stdout",
     "output_type": "stream",
     "text": [
      "Recall: 0.937\n"
     ]
    }
   ],
   "source": [
    "# Calculate recall for No Dev\n",
    "recall = TP / (TP + FN)\n",
    "print(f\"Recall: {recall:.3f}\")"
   ]
  },
  {
   "cell_type": "markdown",
   "metadata": {},
   "source": [
    "### AUC"
   ]
  },
  {
   "cell_type": "code",
   "execution_count": 115,
   "metadata": {},
   "outputs": [
    {
     "data": {
      "text/plain": [
       "0.5731394045650751"
      ]
     },
     "execution_count": 115,
     "metadata": {},
     "output_type": "execute_result"
    }
   ],
   "source": [
    "import pandas as pd\n",
    "from sklearn.metrics import roc_auc_score\n",
    "\n",
    "# Assuming ground_truth is your DataFrame\n",
    "# Make sure 'conformity' contains actual labels (0 or 1)\n",
    "# and 'predicted' contains predicted probabilities or scores\n",
    "auc_roc = roc_auc_score(ground_truth['conformity'], ground_truth['predicted'])\n",
    "auc_roc"
   ]
  }
 ],
 "metadata": {
  "kernelspec": {
   "display_name": "lstm",
   "language": "python",
   "name": "python3"
  },
  "language_info": {
   "codemirror_mode": {
    "name": "ipython",
    "version": 3
   },
   "file_extension": ".py",
   "mimetype": "text/x-python",
   "name": "python",
   "nbconvert_exporter": "python",
   "pygments_lexer": "ipython3",
   "version": "3.9.13"
  }
 },
 "nbformat": 4,
 "nbformat_minor": 2
}

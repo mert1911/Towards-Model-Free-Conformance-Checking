{
 "cells": [
  {
   "cell_type": "markdown",
   "metadata": {},
   "source": [
    "# Import Event Log"
   ]
  },
  {
   "cell_type": "code",
   "execution_count": 1,
   "metadata": {},
   "outputs": [
    {
     "name": "stderr",
     "output_type": "stream",
     "text": [
      "/var/folders/s_/ch_w_j2d0sqf6dbdc0_224m40000gq/T/ipykernel_4435/1982556689.py:11: DeprecatedWarning: format_dataframe is deprecated as of 2.3.0 and will be removed in 3.0.0. the format_dataframe function does not need application anymore.\n",
      "  dataframe_log = pm4py.format_dataframe(\n"
     ]
    }
   ],
   "source": [
    "import pandas as pd\n",
    "import numpy as np\n",
    "import pm4py\n",
    "from pm4py.objects.conversion.log import converter as log_converter\n",
    "\n",
    "if __name__ == \"__main__\":\n",
    "    # Read the CSV file\n",
    "    dataframe_log = pd.read_csv('../../data/logs/gigantic_log.csv', sep=',')\n",
    "\n",
    "    # Format the dataframe\n",
    "    dataframe_log = pm4py.format_dataframe(\n",
    "        dataframe_log,\n",
    "        case_id='case:concept:name',\n",
    "        activity_key='concept:name',\n",
    "        timestamp_key='time:timestamp'\n",
    "    )\n",
    "\n",
    "    # Convert the dataframe to event log\n",
    "    log = log_converter.apply(dataframe_log)"
   ]
  },
  {
   "cell_type": "code",
   "execution_count": 3,
   "metadata": {},
   "outputs": [
    {
     "data": {
      "text/html": [
       "<div>\n",
       "<style scoped>\n",
       "    .dataframe tbody tr th:only-of-type {\n",
       "        vertical-align: middle;\n",
       "    }\n",
       "\n",
       "    .dataframe tbody tr th {\n",
       "        vertical-align: top;\n",
       "    }\n",
       "\n",
       "    .dataframe thead th {\n",
       "        text-align: right;\n",
       "    }\n",
       "</style>\n",
       "<table border=\"1\" class=\"dataframe\">\n",
       "  <thead>\n",
       "    <tr style=\"text-align: right;\">\n",
       "      <th></th>\n",
       "      <th>concept:name</th>\n",
       "      <th>timestamp</th>\n",
       "      <th>time:timestamp</th>\n",
       "      <th>case:label</th>\n",
       "      <th>case:concept:name</th>\n",
       "      <th>org:resource</th>\n",
       "      <th>@@index</th>\n",
       "      <th>@@case_index</th>\n",
       "    </tr>\n",
       "  </thead>\n",
       "  <tbody>\n",
       "    <tr>\n",
       "      <th>0</th>\n",
       "      <td>Random activity 47</td>\n",
       "      <td>NaN</td>\n",
       "      <td>2010-01-01 00:00:00+00:00</td>\n",
       "      <td>Insert</td>\n",
       "      <td>1</td>\n",
       "      <td>Random user 44</td>\n",
       "      <td>0</td>\n",
       "      <td>0</td>\n",
       "    </tr>\n",
       "    <tr>\n",
       "      <th>1</th>\n",
       "      <td>Activity A</td>\n",
       "      <td>NaN</td>\n",
       "      <td>2010-01-01 00:01:00+00:00</td>\n",
       "      <td>Insert</td>\n",
       "      <td>1</td>\n",
       "      <td>Micheline</td>\n",
       "      <td>1</td>\n",
       "      <td>0</td>\n",
       "    </tr>\n",
       "    <tr>\n",
       "      <th>2</th>\n",
       "      <td>Activity T</td>\n",
       "      <td>NaN</td>\n",
       "      <td>2010-01-01 00:02:00+00:00</td>\n",
       "      <td>Insert</td>\n",
       "      <td>1</td>\n",
       "      <td>Steve</td>\n",
       "      <td>2</td>\n",
       "      <td>0</td>\n",
       "    </tr>\n",
       "    <tr>\n",
       "      <th>3</th>\n",
       "      <td>Activity AC</td>\n",
       "      <td>NaN</td>\n",
       "      <td>2010-01-01 00:04:00+00:00</td>\n",
       "      <td>Insert</td>\n",
       "      <td>1</td>\n",
       "      <td>Ling</td>\n",
       "      <td>3</td>\n",
       "      <td>0</td>\n",
       "    </tr>\n",
       "    <tr>\n",
       "      <th>4</th>\n",
       "      <td>Activity AE</td>\n",
       "      <td>NaN</td>\n",
       "      <td>2010-01-01 00:05:00+00:00</td>\n",
       "      <td>Insert</td>\n",
       "      <td>1</td>\n",
       "      <td>Amanda</td>\n",
       "      <td>4</td>\n",
       "      <td>0</td>\n",
       "    </tr>\n",
       "    <tr>\n",
       "      <th>...</th>\n",
       "      <td>...</td>\n",
       "      <td>...</td>\n",
       "      <td>...</td>\n",
       "      <td>...</td>\n",
       "      <td>...</td>\n",
       "      <td>...</td>\n",
       "      <td>...</td>\n",
       "      <td>...</td>\n",
       "    </tr>\n",
       "    <tr>\n",
       "      <th>29824</th>\n",
       "      <td>Activity P</td>\n",
       "      <td>NaN</td>\n",
       "      <td>2010-06-01 22:58:00+00:00</td>\n",
       "      <td>normal</td>\n",
       "      <td>999</td>\n",
       "      <td>Hoyt</td>\n",
       "      <td>29824</td>\n",
       "      <td>4999</td>\n",
       "    </tr>\n",
       "    <tr>\n",
       "      <th>29825</th>\n",
       "      <td>Activity M</td>\n",
       "      <td>NaN</td>\n",
       "      <td>2010-06-01 22:59:00+00:00</td>\n",
       "      <td>normal</td>\n",
       "      <td>999</td>\n",
       "      <td>Maryellen</td>\n",
       "      <td>29825</td>\n",
       "      <td>4999</td>\n",
       "    </tr>\n",
       "    <tr>\n",
       "      <th>29826</th>\n",
       "      <td>Activity D</td>\n",
       "      <td>NaN</td>\n",
       "      <td>2010-06-01 23:00:00+00:00</td>\n",
       "      <td>normal</td>\n",
       "      <td>999</td>\n",
       "      <td>Shandi</td>\n",
       "      <td>29826</td>\n",
       "      <td>4999</td>\n",
       "    </tr>\n",
       "    <tr>\n",
       "      <th>29827</th>\n",
       "      <td>Activity S</td>\n",
       "      <td>NaN</td>\n",
       "      <td>2010-06-01 23:02:00+00:00</td>\n",
       "      <td>normal</td>\n",
       "      <td>999</td>\n",
       "      <td>Chan</td>\n",
       "      <td>29827</td>\n",
       "      <td>4999</td>\n",
       "    </tr>\n",
       "    <tr>\n",
       "      <th>29828</th>\n",
       "      <td>Activity B</td>\n",
       "      <td>NaN</td>\n",
       "      <td>2010-06-01 23:03:00+00:00</td>\n",
       "      <td>normal</td>\n",
       "      <td>999</td>\n",
       "      <td>Ronald</td>\n",
       "      <td>29828</td>\n",
       "      <td>4999</td>\n",
       "    </tr>\n",
       "  </tbody>\n",
       "</table>\n",
       "<p>29829 rows × 8 columns</p>\n",
       "</div>"
      ],
      "text/plain": [
       "             concept:name  timestamp            time:timestamp case:label  \\\n",
       "0      Random activity 47        NaN 2010-01-01 00:00:00+00:00     Insert   \n",
       "1              Activity A        NaN 2010-01-01 00:01:00+00:00     Insert   \n",
       "2              Activity T        NaN 2010-01-01 00:02:00+00:00     Insert   \n",
       "3             Activity AC        NaN 2010-01-01 00:04:00+00:00     Insert   \n",
       "4             Activity AE        NaN 2010-01-01 00:05:00+00:00     Insert   \n",
       "...                   ...        ...                       ...        ...   \n",
       "29824          Activity P        NaN 2010-06-01 22:58:00+00:00     normal   \n",
       "29825          Activity M        NaN 2010-06-01 22:59:00+00:00     normal   \n",
       "29826          Activity D        NaN 2010-06-01 23:00:00+00:00     normal   \n",
       "29827          Activity S        NaN 2010-06-01 23:02:00+00:00     normal   \n",
       "29828          Activity B        NaN 2010-06-01 23:03:00+00:00     normal   \n",
       "\n",
       "      case:concept:name    org:resource  @@index  @@case_index  \n",
       "0                     1  Random user 44        0             0  \n",
       "1                     1       Micheline        1             0  \n",
       "2                     1           Steve        2             0  \n",
       "3                     1            Ling        3             0  \n",
       "4                     1          Amanda        4             0  \n",
       "...                 ...             ...      ...           ...  \n",
       "29824               999            Hoyt    29824          4999  \n",
       "29825               999       Maryellen    29825          4999  \n",
       "29826               999          Shandi    29826          4999  \n",
       "29827               999            Chan    29827          4999  \n",
       "29828               999          Ronald    29828          4999  \n",
       "\n",
       "[29829 rows x 8 columns]"
      ]
     },
     "execution_count": 3,
     "metadata": {},
     "output_type": "execute_result"
    }
   ],
   "source": [
    "dataframe_log"
   ]
  },
  {
   "cell_type": "markdown",
   "metadata": {},
   "source": [
    "# Drop unnessary columns"
   ]
  },
  {
   "cell_type": "code",
   "execution_count": 4,
   "metadata": {},
   "outputs": [],
   "source": [
    "dataframe_log = dataframe_log.drop(columns=['timestamp'])"
   ]
  },
  {
   "cell_type": "code",
   "execution_count": 5,
   "metadata": {},
   "outputs": [],
   "source": [
    "dataframe_log = dataframe_log.drop(columns=['case:concept:name'])"
   ]
  },
  {
   "cell_type": "code",
   "execution_count": 6,
   "metadata": {},
   "outputs": [],
   "source": [
    "dataframe_log = dataframe_log.drop(columns=['@@index'])"
   ]
  },
  {
   "cell_type": "code",
   "execution_count": 7,
   "metadata": {},
   "outputs": [],
   "source": [
    "from sklearn.preprocessing import StandardScaler\n",
    "\n",
    "# Convert to datetime format\n",
    "dataframe_log['time:timestamp'] = pd.to_datetime(dataframe_log['time:timestamp'])\n",
    "\n",
    "# Calculate elapsed time since the start of each case\n",
    "dataframe_log['start_time'] = dataframe_log.groupby('@@case_index')['time:timestamp'].transform('min')\n",
    "dataframe_log['elapsed_time'] = (dataframe_log['time:timestamp'] - dataframe_log['start_time']).dt.total_seconds()\n",
    "\n",
    "# Normalize the elapsed time in minutes\n",
    "scaler = StandardScaler()\n",
    "dataframe_log['standardized_elapsed_time'] = scaler.fit_transform(dataframe_log[['elapsed_time']])\n",
    "\n",
    "dataframe_log = dataframe_log.drop(columns=['start_time'])\n",
    "dataframe_log = dataframe_log.drop(columns=['elapsed_time'])\n",
    "dataframe_log = dataframe_log.drop(columns=['time:timestamp'])"
   ]
  },
  {
   "cell_type": "code",
   "execution_count": 8,
   "metadata": {},
   "outputs": [
    {
     "data": {
      "text/html": [
       "<div>\n",
       "<style scoped>\n",
       "    .dataframe tbody tr th:only-of-type {\n",
       "        vertical-align: middle;\n",
       "    }\n",
       "\n",
       "    .dataframe tbody tr th {\n",
       "        vertical-align: top;\n",
       "    }\n",
       "\n",
       "    .dataframe thead th {\n",
       "        text-align: right;\n",
       "    }\n",
       "</style>\n",
       "<table border=\"1\" class=\"dataframe\">\n",
       "  <thead>\n",
       "    <tr style=\"text-align: right;\">\n",
       "      <th></th>\n",
       "      <th>concept:name</th>\n",
       "      <th>case:label</th>\n",
       "      <th>org:resource</th>\n",
       "      <th>@@case_index</th>\n",
       "      <th>standardized_elapsed_time</th>\n",
       "    </tr>\n",
       "  </thead>\n",
       "  <tbody>\n",
       "    <tr>\n",
       "      <th>0</th>\n",
       "      <td>Random activity 47</td>\n",
       "      <td>Insert</td>\n",
       "      <td>Random user 44</td>\n",
       "      <td>0</td>\n",
       "      <td>-0.021690</td>\n",
       "    </tr>\n",
       "    <tr>\n",
       "      <th>1</th>\n",
       "      <td>Activity A</td>\n",
       "      <td>Insert</td>\n",
       "      <td>Micheline</td>\n",
       "      <td>0</td>\n",
       "      <td>-0.021446</td>\n",
       "    </tr>\n",
       "    <tr>\n",
       "      <th>2</th>\n",
       "      <td>Activity T</td>\n",
       "      <td>Insert</td>\n",
       "      <td>Steve</td>\n",
       "      <td>0</td>\n",
       "      <td>-0.021201</td>\n",
       "    </tr>\n",
       "    <tr>\n",
       "      <th>3</th>\n",
       "      <td>Activity AC</td>\n",
       "      <td>Insert</td>\n",
       "      <td>Ling</td>\n",
       "      <td>0</td>\n",
       "      <td>-0.020712</td>\n",
       "    </tr>\n",
       "    <tr>\n",
       "      <th>4</th>\n",
       "      <td>Activity AE</td>\n",
       "      <td>Insert</td>\n",
       "      <td>Amanda</td>\n",
       "      <td>0</td>\n",
       "      <td>-0.020468</td>\n",
       "    </tr>\n",
       "    <tr>\n",
       "      <th>...</th>\n",
       "      <td>...</td>\n",
       "      <td>...</td>\n",
       "      <td>...</td>\n",
       "      <td>...</td>\n",
       "      <td>...</td>\n",
       "    </tr>\n",
       "    <tr>\n",
       "      <th>29824</th>\n",
       "      <td>Activity P</td>\n",
       "      <td>normal</td>\n",
       "      <td>Hoyt</td>\n",
       "      <td>4999</td>\n",
       "      <td>-0.020468</td>\n",
       "    </tr>\n",
       "    <tr>\n",
       "      <th>29825</th>\n",
       "      <td>Activity M</td>\n",
       "      <td>normal</td>\n",
       "      <td>Maryellen</td>\n",
       "      <td>4999</td>\n",
       "      <td>-0.020224</td>\n",
       "    </tr>\n",
       "    <tr>\n",
       "      <th>29826</th>\n",
       "      <td>Activity D</td>\n",
       "      <td>normal</td>\n",
       "      <td>Shandi</td>\n",
       "      <td>4999</td>\n",
       "      <td>-0.019979</td>\n",
       "    </tr>\n",
       "    <tr>\n",
       "      <th>29827</th>\n",
       "      <td>Activity S</td>\n",
       "      <td>normal</td>\n",
       "      <td>Chan</td>\n",
       "      <td>4999</td>\n",
       "      <td>-0.019491</td>\n",
       "    </tr>\n",
       "    <tr>\n",
       "      <th>29828</th>\n",
       "      <td>Activity B</td>\n",
       "      <td>normal</td>\n",
       "      <td>Ronald</td>\n",
       "      <td>4999</td>\n",
       "      <td>-0.019246</td>\n",
       "    </tr>\n",
       "  </tbody>\n",
       "</table>\n",
       "<p>29829 rows × 5 columns</p>\n",
       "</div>"
      ],
      "text/plain": [
       "             concept:name case:label    org:resource  @@case_index  \\\n",
       "0      Random activity 47     Insert  Random user 44             0   \n",
       "1              Activity A     Insert       Micheline             0   \n",
       "2              Activity T     Insert           Steve             0   \n",
       "3             Activity AC     Insert            Ling             0   \n",
       "4             Activity AE     Insert          Amanda             0   \n",
       "...                   ...        ...             ...           ...   \n",
       "29824          Activity P     normal            Hoyt          4999   \n",
       "29825          Activity M     normal       Maryellen          4999   \n",
       "29826          Activity D     normal          Shandi          4999   \n",
       "29827          Activity S     normal            Chan          4999   \n",
       "29828          Activity B     normal          Ronald          4999   \n",
       "\n",
       "       standardized_elapsed_time  \n",
       "0                      -0.021690  \n",
       "1                      -0.021446  \n",
       "2                      -0.021201  \n",
       "3                      -0.020712  \n",
       "4                      -0.020468  \n",
       "...                          ...  \n",
       "29824                  -0.020468  \n",
       "29825                  -0.020224  \n",
       "29826                  -0.019979  \n",
       "29827                  -0.019491  \n",
       "29828                  -0.019246  \n",
       "\n",
       "[29829 rows x 5 columns]"
      ]
     },
     "execution_count": 8,
     "metadata": {},
     "output_type": "execute_result"
    }
   ],
   "source": [
    "dataframe_log"
   ]
  },
  {
   "cell_type": "markdown",
   "metadata": {},
   "source": [
    "# Insert Start & End markers"
   ]
  },
  {
   "cell_type": "code",
   "execution_count": 9,
   "metadata": {},
   "outputs": [],
   "source": [
    "# Define a function to insert start and end markers\n",
    "def add_markers(df):\n",
    "    # Identify unique case indices\n",
    "    case_indices = df['@@case_index'].unique()\n",
    "    \n",
    "    # Prepare a container for new DataFrame rows\n",
    "    new_rows = []\n",
    "    \n",
    "    # Iterate over each case index to add start and end markers\n",
    "    for case_index in case_indices:\n",
    "        # Create a start marker row with all columns except @@case_index set to 'Start'\n",
    "        start_row = {col: 'Start' if col != '@@case_index' else case_index for col in df.columns}\n",
    "        \n",
    "        # Create an end marker row with all columns except @@case_index set to 'End'\n",
    "        end_row = {col: 'End' if col != '@@case_index' else case_index for col in df.columns}\n",
    "        \n",
    "        # Append start row, rows for the current case, and end row\n",
    "        new_rows.append(start_row)\n",
    "        new_rows.extend(df[df['@@case_index'] == case_index].to_dict('records'))\n",
    "        new_rows.append(end_row)\n",
    "    \n",
    "    # Convert the list of rows into a DataFrame\n",
    "    return pd.DataFrame(new_rows)\n",
    "\n",
    "# Apply the function to add start and end markers to the dataframe\n",
    "modified_dataframe = add_markers(dataframe_log)"
   ]
  },
  {
   "cell_type": "markdown",
   "metadata": {},
   "source": [
    "# Preprocess"
   ]
  },
  {
   "cell_type": "code",
   "execution_count": 11,
   "metadata": {},
   "outputs": [],
   "source": [
    "modified_dataframe['standardized_elapsed_time'] = modified_dataframe['standardized_elapsed_time'].replace({'Start': 0, 'End': 1})"
   ]
  },
  {
   "cell_type": "code",
   "execution_count": 12,
   "metadata": {},
   "outputs": [],
   "source": [
    "codes, uniques = pd.factorize(modified_dataframe['org:resource'])\n",
    "modified_dataframe['org:resource'] = codes"
   ]
  },
  {
   "cell_type": "code",
   "execution_count": 13,
   "metadata": {},
   "outputs": [],
   "source": [
    "codes, uniques = pd.factorize(modified_dataframe['concept:name'])\n",
    "modified_dataframe['concept:name'] = codes"
   ]
  },
  {
   "cell_type": "markdown",
   "metadata": {},
   "source": [
    "### Padding for Cases with less then 5 events"
   ]
  },
  {
   "cell_type": "code",
   "execution_count": 14,
   "metadata": {},
   "outputs": [
    {
     "data": {
      "text/plain": [
       "3"
      ]
     },
     "execution_count": 14,
     "metadata": {},
     "output_type": "execute_result"
    }
   ],
   "source": [
    "# Calculating the frequency of each unique value in '@@case_index'\n",
    "frequency = modified_dataframe['@@case_index'].value_counts()\n",
    "\n",
    "# Finding the minimum occurrence\n",
    "min_occurrence = frequency.min()\n",
    "\n",
    "min_occurrence"
   ]
  },
  {
   "cell_type": "code",
   "execution_count": 15,
   "metadata": {},
   "outputs": [],
   "source": [
    "# Assuming your dataframe might have different types, let's create a generic function to add rows\n",
    "def add_rows(group, num_rows, case_index_value):\n",
    "    # For each column, determine the appropriate \"zero\" value (int 0, string '', etc.)\n",
    "    additional_rows = pd.DataFrame({\n",
    "        column: 0 if pd.api.types.is_numeric_dtype(group[column]) else '' for column in group.columns\n",
    "    }, index=range(num_rows))\n",
    "    \n",
    "    # Set the @@case_index column to the current case index value\n",
    "    additional_rows['@@case_index'] = case_index_value\n",
    "    \n",
    "    # Append the additional rows to the group\n",
    "    return pd.concat([group, additional_rows], ignore_index=True)\n",
    "\n",
    "# Function to pad cases with less than 5 events\n",
    "def pad_cases(df):\n",
    "    # Group by @@case_index\n",
    "    groups = df.groupby('@@case_index')\n",
    "    \n",
    "    # Placeholder for modified groups\n",
    "    modified_groups = []\n",
    "    \n",
    "    for name, group in groups:\n",
    "        # Calculate the number of events to add\n",
    "        events_to_add = 5 - len(group)\n",
    "        \n",
    "        if events_to_add > 0:\n",
    "            # Add the required number of rows\n",
    "            group = add_rows(group, events_to_add, name)\n",
    "        \n",
    "        # Append the modified group to the list\n",
    "        modified_groups.append(group)\n",
    "    \n",
    "    # Concatenate all modified groups back into a single DataFrame\n",
    "    return pd.concat(modified_groups, ignore_index=True)"
   ]
  },
  {
   "cell_type": "code",
   "execution_count": 16,
   "metadata": {},
   "outputs": [
    {
     "data": {
      "text/html": [
       "<div>\n",
       "<style scoped>\n",
       "    .dataframe tbody tr th:only-of-type {\n",
       "        vertical-align: middle;\n",
       "    }\n",
       "\n",
       "    .dataframe tbody tr th {\n",
       "        vertical-align: top;\n",
       "    }\n",
       "\n",
       "    .dataframe thead th {\n",
       "        text-align: right;\n",
       "    }\n",
       "</style>\n",
       "<table border=\"1\" class=\"dataframe\">\n",
       "  <thead>\n",
       "    <tr style=\"text-align: right;\">\n",
       "      <th></th>\n",
       "      <th>concept:name</th>\n",
       "      <th>case:label</th>\n",
       "      <th>org:resource</th>\n",
       "      <th>@@case_index</th>\n",
       "      <th>standardized_elapsed_time</th>\n",
       "    </tr>\n",
       "  </thead>\n",
       "  <tbody>\n",
       "    <tr>\n",
       "      <th>0</th>\n",
       "      <td>0</td>\n",
       "      <td>Start</td>\n",
       "      <td>0</td>\n",
       "      <td>0</td>\n",
       "      <td>0.000000</td>\n",
       "    </tr>\n",
       "    <tr>\n",
       "      <th>1</th>\n",
       "      <td>1</td>\n",
       "      <td>Insert</td>\n",
       "      <td>1</td>\n",
       "      <td>0</td>\n",
       "      <td>-0.021690</td>\n",
       "    </tr>\n",
       "    <tr>\n",
       "      <th>2</th>\n",
       "      <td>2</td>\n",
       "      <td>Insert</td>\n",
       "      <td>2</td>\n",
       "      <td>0</td>\n",
       "      <td>-0.021446</td>\n",
       "    </tr>\n",
       "    <tr>\n",
       "      <th>3</th>\n",
       "      <td>3</td>\n",
       "      <td>Insert</td>\n",
       "      <td>3</td>\n",
       "      <td>0</td>\n",
       "      <td>-0.021201</td>\n",
       "    </tr>\n",
       "    <tr>\n",
       "      <th>4</th>\n",
       "      <td>4</td>\n",
       "      <td>Insert</td>\n",
       "      <td>4</td>\n",
       "      <td>0</td>\n",
       "      <td>-0.020712</td>\n",
       "    </tr>\n",
       "    <tr>\n",
       "      <th>...</th>\n",
       "      <td>...</td>\n",
       "      <td>...</td>\n",
       "      <td>...</td>\n",
       "      <td>...</td>\n",
       "      <td>...</td>\n",
       "    </tr>\n",
       "    <tr>\n",
       "      <th>40043</th>\n",
       "      <td>13</td>\n",
       "      <td>normal</td>\n",
       "      <td>18</td>\n",
       "      <td>4999</td>\n",
       "      <td>-0.020224</td>\n",
       "    </tr>\n",
       "    <tr>\n",
       "      <th>40044</th>\n",
       "      <td>14</td>\n",
       "      <td>normal</td>\n",
       "      <td>19</td>\n",
       "      <td>4999</td>\n",
       "      <td>-0.019979</td>\n",
       "    </tr>\n",
       "    <tr>\n",
       "      <th>40045</th>\n",
       "      <td>15</td>\n",
       "      <td>normal</td>\n",
       "      <td>20</td>\n",
       "      <td>4999</td>\n",
       "      <td>-0.019491</td>\n",
       "    </tr>\n",
       "    <tr>\n",
       "      <th>40046</th>\n",
       "      <td>8</td>\n",
       "      <td>normal</td>\n",
       "      <td>17</td>\n",
       "      <td>4999</td>\n",
       "      <td>-0.019246</td>\n",
       "    </tr>\n",
       "    <tr>\n",
       "      <th>40047</th>\n",
       "      <td>9</td>\n",
       "      <td>End</td>\n",
       "      <td>9</td>\n",
       "      <td>4999</td>\n",
       "      <td>1.000000</td>\n",
       "    </tr>\n",
       "  </tbody>\n",
       "</table>\n",
       "<p>40048 rows × 5 columns</p>\n",
       "</div>"
      ],
      "text/plain": [
       "       concept:name case:label  org:resource  @@case_index  \\\n",
       "0                 0      Start             0             0   \n",
       "1                 1     Insert             1             0   \n",
       "2                 2     Insert             2             0   \n",
       "3                 3     Insert             3             0   \n",
       "4                 4     Insert             4             0   \n",
       "...             ...        ...           ...           ...   \n",
       "40043            13     normal            18          4999   \n",
       "40044            14     normal            19          4999   \n",
       "40045            15     normal            20          4999   \n",
       "40046             8     normal            17          4999   \n",
       "40047             9        End             9          4999   \n",
       "\n",
       "       standardized_elapsed_time  \n",
       "0                       0.000000  \n",
       "1                      -0.021690  \n",
       "2                      -0.021446  \n",
       "3                      -0.021201  \n",
       "4                      -0.020712  \n",
       "...                          ...  \n",
       "40043                  -0.020224  \n",
       "40044                  -0.019979  \n",
       "40045                  -0.019491  \n",
       "40046                  -0.019246  \n",
       "40047                   1.000000  \n",
       "\n",
       "[40048 rows x 5 columns]"
      ]
     },
     "execution_count": 16,
     "metadata": {},
     "output_type": "execute_result"
    }
   ],
   "source": [
    "# Apply the padding function\n",
    "modified_dataframe = pad_cases(modified_dataframe)\n",
    "modified_dataframe"
   ]
  },
  {
   "cell_type": "markdown",
   "metadata": {},
   "source": [
    "# Generate sliding windows"
   ]
  },
  {
   "cell_type": "code",
   "execution_count": 17,
   "metadata": {},
   "outputs": [],
   "source": [
    "df_resource = modified_dataframe[['org:resource', '@@case_index']]\n",
    "df_activity = modified_dataframe[['concept:name', '@@case_index']]\n",
    "df_timestamp = modified_dataframe[['standardized_elapsed_time', '@@case_index']]"
   ]
  },
  {
   "cell_type": "code",
   "execution_count": 18,
   "metadata": {},
   "outputs": [],
   "source": [
    "def generate_sliding_windows(df, case_id_column='@@case_index', window_size=5):\n",
    "    windows = []\n",
    "    targets = []\n",
    "    case_indices = []\n",
    "\n",
    "    # Iterate over each unique case\n",
    "    for case_id in df[case_id_column].unique():\n",
    "        # Extract the case\n",
    "        case_data = df[df[case_id_column] == case_id]\n",
    "        \n",
    "        # Convert case_data to a NumPy array and drop the case_id_column\n",
    "        case_data_array = case_data.drop(columns=[case_id_column]).to_numpy()\n",
    "\n",
    "        # Adjusting the condition to correctly reflect window_size without needing an additional +1\n",
    "        # Now it correctly considers window_size as including the target event\n",
    "        if len(case_data_array) >= window_size:\n",
    "            # Adjust the loop to generate sliding windows of size window_size - 1 for the inputs and use the next event as the target\n",
    "            for i in range(len(case_data_array) - window_size + 1):\n",
    "                # window now has window_size - 1 events\n",
    "                window = case_data_array[i:i + window_size - 1]\n",
    "                # The target is the event immediately following the window\n",
    "                target = case_data_array[i + window_size - 1]\n",
    "                windows.append(window)\n",
    "                targets.append(target)\n",
    "                case_indices.append(case_id)  # Store the case_id corresponding to the window\n",
    "\n",
    "    # Convert lists to numpy arrays for easier handling and to ensure they are two-dimensional\n",
    "    windows_array = np.array(windows)\n",
    "    targets_array = np.array(targets)\n",
    "    case_indices_array = np.array(case_indices)\n",
    "    \n",
    "    return windows_array, targets_array, case_indices_array"
   ]
  },
  {
   "cell_type": "code",
   "execution_count": 19,
   "metadata": {},
   "outputs": [],
   "source": [
    "windows_resource, targets_resource, case_indices = generate_sliding_windows(df_resource)\n",
    "windows_activity, targets_activity, case_indices = generate_sliding_windows(df_activity)\n",
    "windows_timestamp, targets_timestamp, case_indices = generate_sliding_windows(df_timestamp)"
   ]
  },
  {
   "cell_type": "markdown",
   "metadata": {},
   "source": [
    "# LSTM"
   ]
  },
  {
   "cell_type": "markdown",
   "metadata": {},
   "source": [
    "### Architecture"
   ]
  },
  {
   "cell_type": "code",
   "execution_count": 20,
   "metadata": {},
   "outputs": [
    {
     "name": "stderr",
     "output_type": "stream",
     "text": [
      "2024-06-29 16:54:08.691571: I tensorflow/core/platform/cpu_feature_guard.cc:182] This TensorFlow binary is optimized to use available CPU instructions in performance-critical operations.\n",
      "To enable the following instructions: AVX2 FMA, in other operations, rebuild TensorFlow with the appropriate compiler flags.\n"
     ]
    },
    {
     "name": "stdout",
     "output_type": "stream",
     "text": [
      "Model: \"model\"\n",
      "__________________________________________________________________________________________________\n",
      " Layer (type)                Output Shape                 Param #   Connected to                  \n",
      "==================================================================================================\n",
      " input_resource (InputLayer  [(None, 4)]                  0         []                            \n",
      " )                                                                                                \n",
      "                                                                                                  \n",
      " input_activity (InputLayer  [(None, 4)]                  0         []                            \n",
      " )                                                                                                \n",
      "                                                                                                  \n",
      " embedding (Embedding)       (None, 4, 50)                7000      ['input_resource[0][0]']      \n",
      "                                                                                                  \n",
      " embedding_1 (Embedding)     (None, 4, 50)                7750      ['input_activity[0][0]']      \n",
      "                                                                                                  \n",
      " input_timestamp (InputLaye  [(None, 4, 1)]               0         []                            \n",
      " r)                                                                                               \n",
      "                                                                                                  \n",
      " lstm (LSTM)                 (None, 25)                   7600      ['embedding[0][0]']           \n",
      "                                                                                                  \n",
      " lstm_1 (LSTM)               (None, 25)                   7600      ['embedding_1[0][0]']         \n",
      "                                                                                                  \n",
      " lstm_2 (LSTM)               (None, 25)                   2700      ['input_timestamp[0][0]']     \n",
      "                                                                                                  \n",
      " concatenate (Concatenate)   (None, 75)                   0         ['lstm[0][0]',                \n",
      "                                                                     'lstm_1[0][0]',              \n",
      "                                                                     'lstm_2[0][0]']              \n",
      "                                                                                                  \n",
      " output_resource (Dense)     (None, 140)                  10640     ['concatenate[0][0]']         \n",
      "                                                                                                  \n",
      " output_activity (Dense)     (None, 155)                  11780     ['concatenate[0][0]']         \n",
      "                                                                                                  \n",
      " output_timestamp (Dense)    (None, 1)                    76        ['concatenate[0][0]']         \n",
      "                                                                                                  \n",
      "==================================================================================================\n",
      "Total params: 55146 (215.41 KB)\n",
      "Trainable params: 55146 (215.41 KB)\n",
      "Non-trainable params: 0 (0.00 Byte)\n",
      "__________________________________________________________________________________________________\n"
     ]
    }
   ],
   "source": [
    "from tensorflow.keras.models import Model\n",
    "from tensorflow.keras.layers import Input, LSTM, Dense, Concatenate, Embedding\n",
    "\n",
    "# Assuming these values as placeholders, replace them with actual counts from your data\n",
    "num_resources = modified_dataframe['org:resource'].nunique()\n",
    "num_activities = modified_dataframe['concept:name'].nunique()\n",
    "\n",
    "embedding_dim_resource = 50\n",
    "embedding_dim_activity = 50\n",
    "\n",
    "time_steps = 4\n",
    "\n",
    "# Input layers\n",
    "input_resource = Input(shape=(time_steps,), name='input_resource')\n",
    "input_activity = Input(shape=(time_steps,), name='input_activity')\n",
    "input_timestamp = Input(shape=(time_steps, 1), name='input_timestamp')\n",
    "\n",
    "# Embedding layers\n",
    "embedding_resource = Embedding(input_dim=num_resources, output_dim=embedding_dim_resource, input_length=time_steps)(input_resource)\n",
    "embedding_activity = Embedding(input_dim=num_activities, output_dim=embedding_dim_activity, input_length=time_steps)(input_activity)\n",
    "\n",
    "# LSTM layers\n",
    "lstm_resource = LSTM(25, return_sequences=False)(embedding_resource)\n",
    "lstm_activity = LSTM(25, return_sequences=False)(embedding_activity)\n",
    "lstm_timestamp = LSTM(25, return_sequences=False)(input_timestamp)\n",
    "\n",
    "# Concatenate outputs\n",
    "concatenated = Concatenate(axis=-1)([lstm_resource, lstm_activity, lstm_timestamp])\n",
    "\n",
    "# Output layers\n",
    "output_resource = Dense(num_resources, activation='softmax', name='output_resource')(concatenated)\n",
    "output_activity = Dense(num_activities, activation='softmax', name='output_activity')(concatenated)\n",
    "output_timestamp = Dense(1, activation='linear', name='output_timestamp')(concatenated)\n",
    "\n",
    "# Create and compile the model\n",
    "model = Model(inputs=[input_resource, input_activity, input_timestamp], \n",
    "              outputs=[output_resource, output_activity, output_timestamp])\n",
    "\n",
    "model.compile(optimizer='adam', \n",
    "              loss={'output_resource': 'categorical_crossentropy', \n",
    "                    'output_activity': 'categorical_crossentropy', \n",
    "                    'output_timestamp': 'mean_squared_error'},\n",
    "              metrics={'output_resource': 'accuracy', \n",
    "                       'output_activity': 'accuracy', \n",
    "                       'output_timestamp': 'mean_absolute_error'})\n",
    "\n",
    "model.summary()\n"
   ]
  },
  {
   "cell_type": "markdown",
   "metadata": {},
   "source": [
    "# Data Splitting"
   ]
  },
  {
   "cell_type": "code",
   "execution_count": 21,
   "metadata": {},
   "outputs": [],
   "source": [
    "from sklearn.model_selection import train_test_split\n",
    "\n",
    "# Split the resource data\n",
    "train_resource, test_resource, train_targets_resource, test_targets_resource = train_test_split(\n",
    "    windows_resource, targets_resource, test_size=0.3, random_state=42)\n",
    "\n",
    "# Split the activity data\n",
    "train_activity, test_activity, train_targets_activity, test_targets_activity = train_test_split(\n",
    "    windows_activity, targets_activity, test_size=0.3, random_state=42)\n",
    "\n",
    "# Split the timestamp data\n",
    "train_timestamp, test_timestamp, train_targets_timestamp, test_targets_timestamp = train_test_split(\n",
    "    windows_timestamp, targets_timestamp, test_size=0.3, random_state=42)\n"
   ]
  },
  {
   "cell_type": "markdown",
   "metadata": {},
   "source": [
    "# Training"
   ]
  },
  {
   "cell_type": "code",
   "execution_count": 22,
   "metadata": {},
   "outputs": [],
   "source": [
    "from tensorflow.keras.callbacks import EarlyStopping\n",
    "from tensorflow.keras.callbacks import LearningRateScheduler\n",
    "\n",
    "# EarlyStopping callback\n",
    "early_stopping = EarlyStopping(monitor='val_loss', patience=3, restore_best_weights=True)\n",
    "\n",
    "def cyclic_lr(epoch, lr):\n",
    "    # Example function that modulates LR within a range for each epoch\n",
    "    # Customize this function based on your cyclic learning rate policy\n",
    "    max_lr = 0.01  # Maximum LR\n",
    "    base_lr = 0.001  # Base LR\n",
    "    step_size = 10  # Number of epochs for half a cycle\n",
    "    cycle = np.floor(1 + epoch / (2 * step_size))\n",
    "    x = np.abs(epoch / step_size - 2 * cycle + 1)\n",
    "    lr = base_lr + (max_lr - base_lr) * np.maximum(0, (1 - x))\n",
    "    return lr\n",
    "\n",
    "lr_scheduler = LearningRateScheduler(cyclic_lr)"
   ]
  },
  {
   "cell_type": "code",
   "execution_count": 23,
   "metadata": {},
   "outputs": [
    {
     "name": "stdout",
     "output_type": "stream",
     "text": [
      "Epoch 1/25\n",
      "220/220 [==============================] - 8s 11ms/step - loss: 7.0792 - output_resource_loss: 3.6633 - output_activity_loss: 3.1809 - output_timestamp_loss: 0.2351 - output_resource_accuracy: 0.2175 - output_activity_accuracy: 0.3100 - output_timestamp_mean_absolute_error: 0.2116 - val_loss: 9.1439 - val_output_resource_loss: 2.8824 - val_output_activity_loss: 1.9086 - val_output_timestamp_loss: 4.3528 - val_output_resource_accuracy: 0.2951 - val_output_activity_accuracy: 0.5719 - val_output_timestamp_mean_absolute_error: 0.1692 - lr: 0.0010\n",
      "Epoch 2/25\n",
      "220/220 [==============================] - 2s 7ms/step - loss: 3.8408 - output_resource_loss: 2.4600 - output_activity_loss: 1.2310 - output_timestamp_loss: 0.1498 - output_resource_accuracy: 0.4288 - output_activity_accuracy: 0.7328 - output_timestamp_mean_absolute_error: 0.1295 - val_loss: 7.3817 - val_output_resource_loss: 2.2197 - val_output_activity_loss: 0.8817 - val_output_timestamp_loss: 4.2803 - val_output_resource_accuracy: 0.4780 - val_output_activity_accuracy: 0.8254 - val_output_timestamp_mean_absolute_error: 0.1568 - lr: 0.0019\n",
      "Epoch 3/25\n",
      "220/220 [==============================] - 1s 6ms/step - loss: 2.8023 - output_resource_loss: 1.9895 - output_activity_loss: 0.6994 - output_timestamp_loss: 0.1133 - output_resource_accuracy: 0.5167 - output_activity_accuracy: 0.8512 - output_timestamp_mean_absolute_error: 0.1160 - val_loss: 6.6987 - val_output_resource_loss: 1.8856 - val_output_activity_loss: 0.6183 - val_output_timestamp_loss: 4.1949 - val_output_resource_accuracy: 0.5401 - val_output_activity_accuracy: 0.8788 - val_output_timestamp_mean_absolute_error: 0.1486 - lr: 0.0028\n",
      "Epoch 4/25\n",
      "220/220 [==============================] - 1s 5ms/step - loss: 2.3235 - output_resource_loss: 1.7061 - output_activity_loss: 0.5145 - output_timestamp_loss: 0.1028 - output_resource_accuracy: 0.5667 - output_activity_accuracy: 0.8982 - output_timestamp_mean_absolute_error: 0.1060 - val_loss: 6.3421 - val_output_resource_loss: 1.6975 - val_output_activity_loss: 0.5076 - val_output_timestamp_loss: 4.1370 - val_output_resource_accuracy: 0.5781 - val_output_activity_accuracy: 0.9054 - val_output_timestamp_mean_absolute_error: 0.1362 - lr: 0.0037\n",
      "Epoch 5/25\n",
      "220/220 [==============================] - 1s 6ms/step - loss: 2.0522 - output_resource_loss: 1.5339 - output_activity_loss: 0.4184 - output_timestamp_loss: 0.1000 - output_resource_accuracy: 0.5995 - output_activity_accuracy: 0.9228 - output_timestamp_mean_absolute_error: 0.1027 - val_loss: 6.1566 - val_output_resource_loss: 1.5687 - val_output_activity_loss: 0.4448 - val_output_timestamp_loss: 4.1432 - val_output_resource_accuracy: 0.6076 - val_output_activity_accuracy: 0.9199 - val_output_timestamp_mean_absolute_error: 0.1439 - lr: 0.0046\n",
      "Epoch 6/25\n",
      "220/220 [==============================] - 1s 5ms/step - loss: 1.8881 - output_resource_loss: 1.4255 - output_activity_loss: 0.3659 - output_timestamp_loss: 0.0968 - output_resource_accuracy: 0.6183 - output_activity_accuracy: 0.9296 - output_timestamp_mean_absolute_error: 0.0927 - val_loss: 6.0540 - val_output_resource_loss: 1.5215 - val_output_activity_loss: 0.4201 - val_output_timestamp_loss: 4.1124 - val_output_resource_accuracy: 0.6070 - val_output_activity_accuracy: 0.9214 - val_output_timestamp_mean_absolute_error: 0.1450 - lr: 0.0055\n",
      "Epoch 7/25\n",
      "220/220 [==============================] - 1s 5ms/step - loss: 1.7772 - output_resource_loss: 1.3442 - output_activity_loss: 0.3365 - output_timestamp_loss: 0.0964 - output_resource_accuracy: 0.6282 - output_activity_accuracy: 0.9350 - output_timestamp_mean_absolute_error: 0.0947 - val_loss: 6.0059 - val_output_resource_loss: 1.4688 - val_output_activity_loss: 0.4055 - val_output_timestamp_loss: 4.1316 - val_output_resource_accuracy: 0.6248 - val_output_activity_accuracy: 0.9277 - val_output_timestamp_mean_absolute_error: 0.1601 - lr: 0.0064\n",
      "Epoch 8/25\n",
      "220/220 [==============================] - 1s 5ms/step - loss: 1.6982 - output_resource_loss: 1.2851 - output_activity_loss: 0.3143 - output_timestamp_loss: 0.0987 - output_resource_accuracy: 0.6379 - output_activity_accuracy: 0.9380 - output_timestamp_mean_absolute_error: 0.0980 - val_loss: 5.9517 - val_output_resource_loss: 1.4548 - val_output_activity_loss: 0.4055 - val_output_timestamp_loss: 4.0913 - val_output_resource_accuracy: 0.6231 - val_output_activity_accuracy: 0.9275 - val_output_timestamp_mean_absolute_error: 0.1150 - lr: 0.0073\n",
      "Epoch 9/25\n",
      "220/220 [==============================] - 1s 5ms/step - loss: 1.6461 - output_resource_loss: 1.2482 - output_activity_loss: 0.3014 - output_timestamp_loss: 0.0965 - output_resource_accuracy: 0.6458 - output_activity_accuracy: 0.9403 - output_timestamp_mean_absolute_error: 0.0964 - val_loss: 5.9706 - val_output_resource_loss: 1.4630 - val_output_activity_loss: 0.3958 - val_output_timestamp_loss: 4.1118 - val_output_resource_accuracy: 0.6138 - val_output_activity_accuracy: 0.9292 - val_output_timestamp_mean_absolute_error: 0.1175 - lr: 0.0082\n",
      "Epoch 10/25\n",
      "220/220 [==============================] - 1s 7ms/step - loss: 1.5993 - output_resource_loss: 1.2123 - output_activity_loss: 0.2899 - output_timestamp_loss: 0.0971 - output_resource_accuracy: 0.6519 - output_activity_accuracy: 0.9415 - output_timestamp_mean_absolute_error: 0.1013 - val_loss: 5.9567 - val_output_resource_loss: 1.4498 - val_output_activity_loss: 0.4107 - val_output_timestamp_loss: 4.0963 - val_output_resource_accuracy: 0.6196 - val_output_activity_accuracy: 0.9277 - val_output_timestamp_mean_absolute_error: 0.1224 - lr: 0.0091\n",
      "Epoch 11/25\n",
      "220/220 [==============================] - 1s 5ms/step - loss: 1.5695 - output_resource_loss: 1.1838 - output_activity_loss: 0.2751 - output_timestamp_loss: 0.1106 - output_resource_accuracy: 0.6537 - output_activity_accuracy: 0.9443 - output_timestamp_mean_absolute_error: 0.0978 - val_loss: 5.9406 - val_output_resource_loss: 1.4426 - val_output_activity_loss: 0.3997 - val_output_timestamp_loss: 4.0983 - val_output_resource_accuracy: 0.6191 - val_output_activity_accuracy: 0.9285 - val_output_timestamp_mean_absolute_error: 0.1557 - lr: 0.0100\n",
      "Epoch 12/25\n",
      "220/220 [==============================] - 1s 5ms/step - loss: 1.4952 - output_resource_loss: 1.1401 - output_activity_loss: 0.2571 - output_timestamp_loss: 0.0980 - output_resource_accuracy: 0.6592 - output_activity_accuracy: 0.9468 - output_timestamp_mean_absolute_error: 0.1028 - val_loss: 5.9801 - val_output_resource_loss: 1.4575 - val_output_activity_loss: 0.4011 - val_output_timestamp_loss: 4.1214 - val_output_resource_accuracy: 0.6131 - val_output_activity_accuracy: 0.9308 - val_output_timestamp_mean_absolute_error: 0.1823 - lr: 0.0091\n",
      "Epoch 13/25\n",
      "220/220 [==============================] - 1s 5ms/step - loss: 1.4350 - output_resource_loss: 1.0948 - output_activity_loss: 0.2432 - output_timestamp_loss: 0.0970 - output_resource_accuracy: 0.6723 - output_activity_accuracy: 0.9485 - output_timestamp_mean_absolute_error: 0.0951 - val_loss: 5.9384 - val_output_resource_loss: 1.4399 - val_output_activity_loss: 0.4026 - val_output_timestamp_loss: 4.0958 - val_output_resource_accuracy: 0.6198 - val_output_activity_accuracy: 0.9287 - val_output_timestamp_mean_absolute_error: 0.1251 - lr: 0.0082\n",
      "Epoch 14/25\n",
      "220/220 [==============================] - 1s 5ms/step - loss: 1.3800 - output_resource_loss: 1.0544 - output_activity_loss: 0.2309 - output_timestamp_loss: 0.0947 - output_resource_accuracy: 0.6760 - output_activity_accuracy: 0.9513 - output_timestamp_mean_absolute_error: 0.0923 - val_loss: 5.9617 - val_output_resource_loss: 1.4477 - val_output_activity_loss: 0.4071 - val_output_timestamp_loss: 4.1070 - val_output_resource_accuracy: 0.6281 - val_output_activity_accuracy: 0.9295 - val_output_timestamp_mean_absolute_error: 0.1270 - lr: 0.0073\n",
      "Epoch 15/25\n",
      "220/220 [==============================] - 1s 6ms/step - loss: 1.3330 - output_resource_loss: 1.0207 - output_activity_loss: 0.2199 - output_timestamp_loss: 0.0924 - output_resource_accuracy: 0.6858 - output_activity_accuracy: 0.9530 - output_timestamp_mean_absolute_error: 0.0872 - val_loss: 5.9810 - val_output_resource_loss: 1.4568 - val_output_activity_loss: 0.4073 - val_output_timestamp_loss: 4.1169 - val_output_resource_accuracy: 0.6156 - val_output_activity_accuracy: 0.9285 - val_output_timestamp_mean_absolute_error: 0.1119 - lr: 0.0064\n",
      "Epoch 16/25\n",
      "220/220 [==============================] - 1s 5ms/step - loss: 1.2869 - output_resource_loss: 0.9865 - output_activity_loss: 0.2086 - output_timestamp_loss: 0.0917 - output_resource_accuracy: 0.6932 - output_activity_accuracy: 0.9557 - output_timestamp_mean_absolute_error: 0.0833 - val_loss: 5.9535 - val_output_resource_loss: 1.4444 - val_output_activity_loss: 0.4084 - val_output_timestamp_loss: 4.1007 - val_output_resource_accuracy: 0.6254 - val_output_activity_accuracy: 0.9283 - val_output_timestamp_mean_absolute_error: 0.1183 - lr: 0.0055\n",
      "Epoch 17/25\n",
      "220/220 [==============================] - 1s 5ms/step - loss: 1.2492 - output_resource_loss: 0.9583 - output_activity_loss: 0.2000 - output_timestamp_loss: 0.0909 - output_resource_accuracy: 0.6983 - output_activity_accuracy: 0.9566 - output_timestamp_mean_absolute_error: 0.0823 - val_loss: 5.9692 - val_output_resource_loss: 1.4454 - val_output_activity_loss: 0.4089 - val_output_timestamp_loss: 4.1149 - val_output_resource_accuracy: 0.6213 - val_output_activity_accuracy: 0.9278 - val_output_timestamp_mean_absolute_error: 0.1426 - lr: 0.0046\n",
      "Epoch 18/25\n",
      "220/220 [==============================] - 1s 6ms/step - loss: 1.2138 - output_resource_loss: 0.9296 - output_activity_loss: 0.1934 - output_timestamp_loss: 0.0907 - output_resource_accuracy: 0.7084 - output_activity_accuracy: 0.9576 - output_timestamp_mean_absolute_error: 0.0818 - val_loss: 5.9629 - val_output_resource_loss: 1.4499 - val_output_activity_loss: 0.4137 - val_output_timestamp_loss: 4.0993 - val_output_resource_accuracy: 0.6249 - val_output_activity_accuracy: 0.9292 - val_output_timestamp_mean_absolute_error: 0.1067 - lr: 0.0037\n",
      "Epoch 19/25\n",
      "220/220 [==============================] - 1s 5ms/step - loss: 1.1811 - output_resource_loss: 0.9050 - output_activity_loss: 0.1869 - output_timestamp_loss: 0.0892 - output_resource_accuracy: 0.7145 - output_activity_accuracy: 0.9590 - output_timestamp_mean_absolute_error: 0.0779 - val_loss: 5.9750 - val_output_resource_loss: 1.4542 - val_output_activity_loss: 0.4134 - val_output_timestamp_loss: 4.1073 - val_output_resource_accuracy: 0.6236 - val_output_activity_accuracy: 0.9293 - val_output_timestamp_mean_absolute_error: 0.1191 - lr: 0.0028\n",
      "Epoch 20/25\n",
      "220/220 [==============================] - 1s 7ms/step - loss: 1.1520 - output_resource_loss: 0.8835 - output_activity_loss: 0.1805 - output_timestamp_loss: 0.0880 - output_resource_accuracy: 0.7198 - output_activity_accuracy: 0.9596 - output_timestamp_mean_absolute_error: 0.0733 - val_loss: 5.9633 - val_output_resource_loss: 1.4522 - val_output_activity_loss: 0.4129 - val_output_timestamp_loss: 4.0982 - val_output_resource_accuracy: 0.6228 - val_output_activity_accuracy: 0.9285 - val_output_timestamp_mean_absolute_error: 0.1107 - lr: 0.0019\n",
      "Epoch 21/25\n",
      "220/220 [==============================] - 1s 5ms/step - loss: 1.1245 - output_resource_loss: 0.8625 - output_activity_loss: 0.1746 - output_timestamp_loss: 0.0873 - output_resource_accuracy: 0.7280 - output_activity_accuracy: 0.9610 - output_timestamp_mean_absolute_error: 0.0714 - val_loss: 5.9628 - val_output_resource_loss: 1.4511 - val_output_activity_loss: 0.4133 - val_output_timestamp_loss: 4.0985 - val_output_resource_accuracy: 0.6291 - val_output_activity_accuracy: 0.9283 - val_output_timestamp_mean_absolute_error: 0.1046 - lr: 0.0010\n",
      "Epoch 22/25\n",
      "220/220 [==============================] - 1s 5ms/step - loss: 1.1380 - output_resource_loss: 0.8724 - output_activity_loss: 0.1773 - output_timestamp_loss: 0.0884 - output_resource_accuracy: 0.7236 - output_activity_accuracy: 0.9606 - output_timestamp_mean_absolute_error: 0.0739 - val_loss: 5.9747 - val_output_resource_loss: 1.4594 - val_output_activity_loss: 0.4135 - val_output_timestamp_loss: 4.1018 - val_output_resource_accuracy: 0.6254 - val_output_activity_accuracy: 0.9285 - val_output_timestamp_mean_absolute_error: 0.1091 - lr: 0.0019\n",
      "Epoch 23/25\n",
      "220/220 [==============================] - 1s 5ms/step - loss: 1.1529 - output_resource_loss: 0.8822 - output_activity_loss: 0.1811 - output_timestamp_loss: 0.0896 - output_resource_accuracy: 0.7172 - output_activity_accuracy: 0.9595 - output_timestamp_mean_absolute_error: 0.0780 - val_loss: 5.9919 - val_output_resource_loss: 1.4692 - val_output_activity_loss: 0.4177 - val_output_timestamp_loss: 4.1050 - val_output_resource_accuracy: 0.6271 - val_output_activity_accuracy: 0.9268 - val_output_timestamp_mean_absolute_error: 0.1116 - lr: 0.0028\n",
      "Epoch 24/25\n",
      "220/220 [==============================] - 1s 6ms/step - loss: 1.1673 - output_resource_loss: 0.8930 - output_activity_loss: 0.1837 - output_timestamp_loss: 0.0905 - output_resource_accuracy: 0.7177 - output_activity_accuracy: 0.9596 - output_timestamp_mean_absolute_error: 0.0806 - val_loss: 5.9921 - val_output_resource_loss: 1.4729 - val_output_activity_loss: 0.4221 - val_output_timestamp_loss: 4.0971 - val_output_resource_accuracy: 0.6274 - val_output_activity_accuracy: 0.9283 - val_output_timestamp_mean_absolute_error: 0.1053 - lr: 0.0037\n",
      "Epoch 25/25\n",
      "220/220 [==============================] - 1s 6ms/step - loss: 1.1789 - output_resource_loss: 0.9023 - output_activity_loss: 0.1862 - output_timestamp_loss: 0.0903 - output_resource_accuracy: 0.7144 - output_activity_accuracy: 0.9590 - output_timestamp_mean_absolute_error: 0.0822 - val_loss: 6.0226 - val_output_resource_loss: 1.4944 - val_output_activity_loss: 0.4229 - val_output_timestamp_loss: 4.1053 - val_output_resource_accuracy: 0.6171 - val_output_activity_accuracy: 0.9285 - val_output_timestamp_mean_absolute_error: 0.1325 - lr: 0.0046\n"
     ]
    }
   ],
   "source": [
    "import numpy as np\n",
    "from tensorflow.keras.utils import to_categorical\n",
    "\n",
    "\n",
    "train_targets_resource_cat = to_categorical(train_targets_resource, num_classes=num_resources)\n",
    "test_targets_resource_cat = to_categorical(test_targets_resource, num_classes=num_resources)\n",
    "\n",
    "train_targets_activity_cat = to_categorical(train_targets_activity, num_classes=num_activities)\n",
    "test_targets_activity_cat = to_categorical(test_targets_activity, num_classes=num_activities)\n",
    "\n",
    "\n",
    "# Note: Assuming timestamp targets are continuous and don't need to be converted to categorical\n",
    "\n",
    "history = model.fit([train_resource, train_activity, train_timestamp], \n",
    "                    [train_targets_resource_cat, train_targets_activity_cat, train_targets_timestamp],\n",
    "                    epochs=25,\n",
    "                    batch_size=64,\n",
    "                    validation_data=([test_resource, test_activity, test_timestamp], \n",
    "                                     [test_targets_resource_cat, test_targets_activity_cat, test_targets_timestamp]),\n",
    "                    verbose=1,\n",
    "                    callbacks=[lr_scheduler])  # Add other callbacks as needed"
   ]
  },
  {
   "cell_type": "code",
   "execution_count": 24,
   "metadata": {},
   "outputs": [
    {
     "name": "stdout",
     "output_type": "stream",
     "text": [
      "188/188 [==============================] - 0s 2ms/step - loss: 6.0226 - output_resource_loss: 1.4944 - output_activity_loss: 0.4229 - output_timestamp_loss: 4.1053 - output_resource_accuracy: 0.6171 - output_activity_accuracy: 0.9285 - output_timestamp_mean_absolute_error: 0.1325\n",
      "[6.0226054191589355, 1.4944453239440918, 0.42287907004356384, 4.105284214019775, 0.6171238422393799, 0.9285120368003845, 0.1325000822544098]\n"
     ]
    }
   ],
   "source": [
    "evaluation = model.evaluate(\n",
    "    [test_resource, test_activity, test_timestamp],\n",
    "    [test_targets_resource_cat, test_targets_activity_cat, test_targets_timestamp]\n",
    ")\n",
    "\n",
    "print(evaluation)"
   ]
  },
  {
   "cell_type": "code",
   "execution_count": 25,
   "metadata": {},
   "outputs": [
    {
     "name": "stderr",
     "output_type": "stream",
     "text": [
      "/opt/anaconda3/lib/python3.9/site-packages/keras/src/engine/training.py:3000: UserWarning: You are saving your model as an HDF5 file via `model.save()`. This file format is considered legacy. We recommend using instead the native Keras format, e.g. `model.save('my_model.keras')`.\n",
      "  saving_api.save_model(\n"
     ]
    }
   ],
   "source": [
    "# Save the model to an H5 file\n",
    "model.save('dapnn_gigantic.h5')"
   ]
  },
  {
   "cell_type": "markdown",
   "metadata": {},
   "source": [
    "# Anomaly Score Computation"
   ]
  },
  {
   "cell_type": "code",
   "execution_count": 26,
   "metadata": {},
   "outputs": [
    {
     "name": "stdout",
     "output_type": "stream",
     "text": [
      "627/627 [==============================] - 2s 2ms/step\n"
     ]
    }
   ],
   "source": [
    "# Generate predictions for all inputs\n",
    "predictions = model.predict([windows_resource, windows_activity, windows_timestamp])\n",
    "\n",
    "# Extract predictions for categorical attributes (softmax probabilities)\n",
    "predictions_resource = predictions[0]        # ID predictions\n",
    "predictions_activity = predictions[1]  # Resource predictions\n",
    "\n",
    "# Extract predictions for numerical attribute (timestamp)\n",
    "predictions_timestamp = predictions[2] # Timestamp predictions"
   ]
  },
  {
   "cell_type": "code",
   "execution_count": 27,
   "metadata": {},
   "outputs": [],
   "source": [
    "import numpy as np\n",
    "from tensorflow.keras.utils import to_categorical\n",
    "\n",
    "def compute_anomaly_scores(predictions, actuals):\n",
    "    # For categorical predictions, convert actuals to one-hot for comparison\n",
    "    actuals_one_hot = to_categorical(actuals, num_classes=predictions.shape[-1])\n",
    "    \n",
    "    max_predictions = np.max(predictions, axis=-1)\n",
    "    actual_predictions = np.sum(predictions * actuals_one_hot, axis=-1)  # Extract the probability of the actual class\n",
    "    \n",
    "    anomaly_scores = (max_predictions - actual_predictions) / max_predictions\n",
    "    \n",
    "    return anomaly_scores\n",
    "\n",
    "# Assuming targets_id, targets_resource, targets_activity, targets_role are the true values for these attributes\n",
    "anomaly_scores_resource = compute_anomaly_scores(predictions_resource, targets_resource)\n",
    "anomaly_scores_activity = compute_anomaly_scores(predictions_activity, targets_activity)"
   ]
  },
  {
   "cell_type": "code",
   "execution_count": 28,
   "metadata": {},
   "outputs": [],
   "source": [
    "def compute_anomaly_scores_continuous(predictions, actuals, normalization_factor):\n",
    "    \"\"\"\n",
    "    Compute anomaly scores for continuous attributes.\n",
    "    \n",
    "    Parameters:\n",
    "    - predictions: numpy array of predicted values.\n",
    "    - actuals: numpy array of actual values.\n",
    "    - normalization_factor: normalization factor (e.g., standard deviation of the attribute).\n",
    "    \n",
    "    Returns:\n",
    "    - numpy array of anomaly scores.\n",
    "    \"\"\"\n",
    "    # Calculate absolute differences\n",
    "    differences = np.abs(predictions - actuals)\n",
    "    \n",
    "    # Normalize the differences\n",
    "    anomaly_scores = differences / normalization_factor\n",
    "    \n",
    "    return anomaly_scores"
   ]
  },
  {
   "cell_type": "code",
   "execution_count": 29,
   "metadata": {},
   "outputs": [],
   "source": [
    "normalization_factor = np.std(targets_timestamp)       # Example normalization factor (standard deviation)\n",
    "anomaly_scores_timestamp = compute_anomaly_scores_continuous(predictions_timestamp, targets_timestamp, normalization_factor)"
   ]
  },
  {
   "cell_type": "code",
   "execution_count": 30,
   "metadata": {},
   "outputs": [],
   "source": [
    "import numpy as np\n",
    "\n",
    "def classify_cases(anomaly_scores_resource, anomaly_scores_activity, anomaly_scores_timestamp, threshold=0.98):\n",
    "    # Ensure all inputs are numpy arrays of the same shape\n",
    "    anomaly_scores_resource = np.array(anomaly_scores_resource).flatten()\n",
    "    anomaly_scores_activity = np.array(anomaly_scores_activity).flatten()\n",
    "    anomaly_scores_timestamp = np.array(anomaly_scores_timestamp).flatten()\n",
    "\n",
    "    # Check if all arrays have the same length\n",
    "    if not (len(anomaly_scores_resource) == len(anomaly_scores_activity) == len(anomaly_scores_timestamp)):\n",
    "        raise ValueError(\"All input anomaly scores must have the same length.\")\n",
    "\n",
    "    # Find the maximum anomaly score across all attributes for each case\n",
    "    max_scores = np.maximum.reduce([anomaly_scores_resource, anomaly_scores_activity, anomaly_scores_timestamp])\n",
    "\n",
    "    # Classify cases as anomalous if the maximum anomaly score exceeds the threshold\n",
    "    anomalous_cases = max_scores > threshold\n",
    "    \n",
    "    return anomalous_cases\n",
    "\n",
    "# Now use the anomaly scores for resource, activity, and timestamp in the classification\n",
    "anomalous_cases = classify_cases(anomaly_scores_resource, anomaly_scores_activity, anomaly_scores_timestamp)"
   ]
  },
  {
   "cell_type": "code",
   "execution_count": 47,
   "metadata": {},
   "outputs": [],
   "source": [
    "import numpy as np\n",
    "\n",
    "def classify_cases(anomaly_scores_activity, threshold=0.98):\n",
    "    # Ensure all inputs are numpy arrays of the same shape\n",
    "    anomaly_scores_activity = np.array(anomaly_scores_activity).flatten()\n",
    "\n",
    "    # Find the maximum anomaly score across all attributes for each case\n",
    "    max_scores = np.maximum.reduce([anomaly_scores_activity])\n",
    "\n",
    "    # Classify cases as anomalous if the maximum anomaly score exceeds the threshold\n",
    "    anomalous_cases = max_scores > threshold\n",
    "    \n",
    "    return anomalous_cases\n",
    "\n",
    "# Now use the anomaly scores for resource, activity, and timestamp in the classification\n",
    "anomalous_cases = classify_cases(anomaly_scores_activity)"
   ]
  },
  {
   "cell_type": "markdown",
   "metadata": {},
   "source": [
    "# Mapping"
   ]
  },
  {
   "cell_type": "markdown",
   "metadata": {},
   "source": [
    "### True: anomaly, False: no anomaly"
   ]
  },
  {
   "cell_type": "code",
   "execution_count": 48,
   "metadata": {},
   "outputs": [
    {
     "data": {
      "text/html": [
       "<div>\n",
       "<style scoped>\n",
       "    .dataframe tbody tr th:only-of-type {\n",
       "        vertical-align: middle;\n",
       "    }\n",
       "\n",
       "    .dataframe tbody tr th {\n",
       "        vertical-align: top;\n",
       "    }\n",
       "\n",
       "    .dataframe thead th {\n",
       "        text-align: right;\n",
       "    }\n",
       "</style>\n",
       "<table border=\"1\" class=\"dataframe\">\n",
       "  <thead>\n",
       "    <tr style=\"text-align: right;\">\n",
       "      <th></th>\n",
       "      <th>case</th>\n",
       "      <th>predicted</th>\n",
       "    </tr>\n",
       "  </thead>\n",
       "  <tbody>\n",
       "    <tr>\n",
       "      <th>0</th>\n",
       "      <td>0</td>\n",
       "      <td>False</td>\n",
       "    </tr>\n",
       "    <tr>\n",
       "      <th>1</th>\n",
       "      <td>0</td>\n",
       "      <td>False</td>\n",
       "    </tr>\n",
       "    <tr>\n",
       "      <th>2</th>\n",
       "      <td>0</td>\n",
       "      <td>False</td>\n",
       "    </tr>\n",
       "    <tr>\n",
       "      <th>3</th>\n",
       "      <td>0</td>\n",
       "      <td>False</td>\n",
       "    </tr>\n",
       "    <tr>\n",
       "      <th>4</th>\n",
       "      <td>0</td>\n",
       "      <td>False</td>\n",
       "    </tr>\n",
       "    <tr>\n",
       "      <th>...</th>\n",
       "      <td>...</td>\n",
       "      <td>...</td>\n",
       "    </tr>\n",
       "    <tr>\n",
       "      <th>20043</th>\n",
       "      <td>4999</td>\n",
       "      <td>False</td>\n",
       "    </tr>\n",
       "    <tr>\n",
       "      <th>20044</th>\n",
       "      <td>4999</td>\n",
       "      <td>False</td>\n",
       "    </tr>\n",
       "    <tr>\n",
       "      <th>20045</th>\n",
       "      <td>4999</td>\n",
       "      <td>False</td>\n",
       "    </tr>\n",
       "    <tr>\n",
       "      <th>20046</th>\n",
       "      <td>4999</td>\n",
       "      <td>False</td>\n",
       "    </tr>\n",
       "    <tr>\n",
       "      <th>20047</th>\n",
       "      <td>4999</td>\n",
       "      <td>False</td>\n",
       "    </tr>\n",
       "  </tbody>\n",
       "</table>\n",
       "<p>20048 rows × 2 columns</p>\n",
       "</div>"
      ],
      "text/plain": [
       "       case  predicted\n",
       "0         0      False\n",
       "1         0      False\n",
       "2         0      False\n",
       "3         0      False\n",
       "4         0      False\n",
       "...     ...        ...\n",
       "20043  4999      False\n",
       "20044  4999      False\n",
       "20045  4999      False\n",
       "20046  4999      False\n",
       "20047  4999      False\n",
       "\n",
       "[20048 rows x 2 columns]"
      ]
     },
     "execution_count": 48,
     "metadata": {},
     "output_type": "execute_result"
    }
   ],
   "source": [
    "import pandas as pd\n",
    "\n",
    "# Create a DataFrame from the case_indices_array corresponding to case_resource\n",
    "mapping = pd.DataFrame({'case': case_indices})\n",
    "mapping['predicted'] = anomalous_cases\n",
    "mapping"
   ]
  },
  {
   "cell_type": "code",
   "execution_count": 49,
   "metadata": {},
   "outputs": [
    {
     "data": {
      "text/plain": [
       "case\n",
       "0       False\n",
       "1       False\n",
       "2       False\n",
       "3       False\n",
       "4       False\n",
       "        ...  \n",
       "4995     True\n",
       "4996    False\n",
       "4997    False\n",
       "4998    False\n",
       "4999    False\n",
       "Name: predicted, Length: 5000, dtype: bool"
      ]
     },
     "execution_count": 49,
     "metadata": {},
     "output_type": "execute_result"
    }
   ],
   "source": [
    "case_prediction = mapping.groupby('case')['predicted'].any()\n",
    "case_prediction\n"
   ]
  },
  {
   "cell_type": "markdown",
   "metadata": {},
   "source": [
    "# Ground Truth"
   ]
  },
  {
   "cell_type": "code",
   "execution_count": 50,
   "metadata": {},
   "outputs": [],
   "source": [
    "def generate_alignments_adjusted_tracecost_pkl(log, net, initial_marking, final_marking):\n",
    "    from pm4py.algo.conformance.alignments.petri_net import algorithm as alignments\n",
    "    from pm4py.algo.conformance.alignments.petri_net import variants\n",
    "    from pm4py.objects.petri_net.utils import align_utils\n",
    "    max_events=0\n",
    "    for trace in log:\n",
    "        counter=0\n",
    "        for event in trace:\n",
    "            counter+=1\n",
    "        if counter > max_events:\n",
    "            max_events=counter\n",
    "    parameters={}\n",
    "    parameters[alignments.Variants.VERSION_STATE_EQUATION_A_STAR.value.Parameters.PARAM_SYNC_COST_FUNCTION] = list(map(lambda i: .1*i, range(max_events*2)))\n",
    "    parameters[alignments.Variants.VERSION_STATE_EQUATION_A_STAR.value.Parameters.PARAM_TRACE_COST_FUNCTION]=list(map(lambda i: align_utils.STD_MODEL_LOG_MOVE_COST-.1*i, range(max_events*2)))\n",
    "    aligned_traces = alignments.apply_log(log, net, initial_marking, final_marking, variant=variants.state_equation_a_star, parameters=parameters)\n",
    "    return aligned_traces"
   ]
  },
  {
   "cell_type": "code",
   "execution_count": 51,
   "metadata": {},
   "outputs": [
    {
     "data": {
      "application/vnd.jupyter.widget-view+json": {
       "model_id": "04c24a51681a450c8646484367f66085",
       "version_major": 2,
       "version_minor": 0
      },
      "text/plain": [
       "aligning log, completed variants ::   0%|          | 0/738 [00:00<?, ?it/s]"
      ]
     },
     "metadata": {},
     "output_type": "display_data"
    }
   ],
   "source": [
    "import pm4py\n",
    "from pm4py.objects.log.importer.xes import importer as xes_importer\n",
    "from pm4py.objects.bpmn.importer import importer as bpmn_importer\n",
    "from pm4py.algo.conformance.alignments.petri_net import algorithm as alignments_petri\n",
    "\n",
    "# 2. Import the given BPMN model\n",
    "bpmn_graph = bpmn_importer.apply(\"../../data/model/gigantic.bpmn\")\n",
    "\n",
    "# 3. Convert the BPMN to a Petri net\n",
    "net, initial_marking, final_marking = pm4py.convert_to_petri_net(bpmn_graph)\n",
    "\n",
    "aligned_traces = generate_alignments_adjusted_tracecost_pkl(log, net, initial_marking, final_marking)"
   ]
  },
  {
   "cell_type": "code",
   "execution_count": 52,
   "metadata": {},
   "outputs": [],
   "source": [
    "def extract_conformance_status_by_fitness(aligned_traces):\n",
    "    conformance_status = []\n",
    "    for alignment in aligned_traces:\n",
    "        fitness = alignment['fitness']\n",
    "        # If the fitness is 1.0, the trace is conforming\n",
    "        if fitness == 1.0:\n",
    "            conformance_status.append(1)\n",
    "        else:\n",
    "            conformance_status.append(0)\n",
    "    return conformance_status\n",
    "\n",
    "# Get the conformance status list from the aligned traces\n",
    "conformance = extract_conformance_status_by_fitness(aligned_traces)"
   ]
  },
  {
   "cell_type": "code",
   "execution_count": 53,
   "metadata": {},
   "outputs": [
    {
     "data": {
      "text/html": [
       "<div>\n",
       "<style scoped>\n",
       "    .dataframe tbody tr th:only-of-type {\n",
       "        vertical-align: middle;\n",
       "    }\n",
       "\n",
       "    .dataframe tbody tr th {\n",
       "        vertical-align: top;\n",
       "    }\n",
       "\n",
       "    .dataframe thead th {\n",
       "        text-align: right;\n",
       "    }\n",
       "</style>\n",
       "<table border=\"1\" class=\"dataframe\">\n",
       "  <thead>\n",
       "    <tr style=\"text-align: right;\">\n",
       "      <th></th>\n",
       "      <th>conformity</th>\n",
       "      <th>predicted</th>\n",
       "    </tr>\n",
       "  </thead>\n",
       "  <tbody>\n",
       "    <tr>\n",
       "      <th>0</th>\n",
       "      <td>0</td>\n",
       "      <td>1</td>\n",
       "    </tr>\n",
       "    <tr>\n",
       "      <th>1</th>\n",
       "      <td>1</td>\n",
       "      <td>1</td>\n",
       "    </tr>\n",
       "    <tr>\n",
       "      <th>2</th>\n",
       "      <td>1</td>\n",
       "      <td>1</td>\n",
       "    </tr>\n",
       "    <tr>\n",
       "      <th>3</th>\n",
       "      <td>1</td>\n",
       "      <td>1</td>\n",
       "    </tr>\n",
       "    <tr>\n",
       "      <th>4</th>\n",
       "      <td>1</td>\n",
       "      <td>1</td>\n",
       "    </tr>\n",
       "    <tr>\n",
       "      <th>...</th>\n",
       "      <td>...</td>\n",
       "      <td>...</td>\n",
       "    </tr>\n",
       "    <tr>\n",
       "      <th>4995</th>\n",
       "      <td>0</td>\n",
       "      <td>0</td>\n",
       "    </tr>\n",
       "    <tr>\n",
       "      <th>4996</th>\n",
       "      <td>0</td>\n",
       "      <td>1</td>\n",
       "    </tr>\n",
       "    <tr>\n",
       "      <th>4997</th>\n",
       "      <td>1</td>\n",
       "      <td>1</td>\n",
       "    </tr>\n",
       "    <tr>\n",
       "      <th>4998</th>\n",
       "      <td>1</td>\n",
       "      <td>1</td>\n",
       "    </tr>\n",
       "    <tr>\n",
       "      <th>4999</th>\n",
       "      <td>1</td>\n",
       "      <td>1</td>\n",
       "    </tr>\n",
       "  </tbody>\n",
       "</table>\n",
       "<p>5000 rows × 2 columns</p>\n",
       "</div>"
      ],
      "text/plain": [
       "      conformity  predicted\n",
       "0              0          1\n",
       "1              1          1\n",
       "2              1          1\n",
       "3              1          1\n",
       "4              1          1\n",
       "...          ...        ...\n",
       "4995           0          0\n",
       "4996           0          1\n",
       "4997           1          1\n",
       "4998           1          1\n",
       "4999           1          1\n",
       "\n",
       "[5000 rows x 2 columns]"
      ]
     },
     "execution_count": 53,
     "metadata": {},
     "output_type": "execute_result"
    }
   ],
   "source": [
    "ground_truth = pd.DataFrame({'conformity': conformance})\n",
    "ground_truth['predicted'] = case_prediction\n",
    "\n",
    "# Convert False to 0 and True to 1\n",
    "ground_truth['predicted'] = [int(value) for value in ground_truth['predicted']]\n",
    "ground_truth['predicted'] = 1 - ground_truth['predicted']\n",
    "ground_truth"
   ]
  },
  {
   "cell_type": "markdown",
   "metadata": {},
   "source": [
    "# Evaluation"
   ]
  },
  {
   "cell_type": "code",
   "execution_count": 54,
   "metadata": {},
   "outputs": [],
   "source": [
    "# Calculating TP, TN, FP, FN\n",
    "TP = ((ground_truth['conformity'] == 1) & (ground_truth['predicted'] == 1)).sum()\n",
    "TN = ((ground_truth['conformity'] == 0) & (ground_truth['predicted'] == 0)).sum()\n",
    "FP = ((ground_truth['conformity'] == 0) & (ground_truth['predicted'] == 1)).sum()\n",
    "FN = ((ground_truth['conformity'] == 1) & (ground_truth['predicted'] == 0)).sum()"
   ]
  },
  {
   "cell_type": "code",
   "execution_count": 55,
   "metadata": {},
   "outputs": [
    {
     "name": "stdout",
     "output_type": "stream",
     "text": [
      "Accuracy: 0.834\n"
     ]
    }
   ],
   "source": [
    "# Calculate accuracy\n",
    "accuracy = (TP + TN) / (TP + TN + FP + FN)\n",
    "print(f\"Accuracy: {accuracy:.3f}\")"
   ]
  },
  {
   "cell_type": "code",
   "execution_count": 56,
   "metadata": {},
   "outputs": [
    {
     "name": "stdout",
     "output_type": "stream",
     "text": [
      "F1: 0.902\n"
     ]
    }
   ],
   "source": [
    "# Calculate f1\n",
    "\n",
    "precision = TP / (TP + FP)\n",
    "recall = TP / (TP + FN)\n",
    "\n",
    "f1 = 2 * ((precision * recall) / (precision + recall))\n",
    "print(f\"F1: {f1:.3f}\")"
   ]
  },
  {
   "cell_type": "markdown",
   "metadata": {},
   "source": [
    "### Dev (Non Conform Traces)"
   ]
  },
  {
   "cell_type": "code",
   "execution_count": 57,
   "metadata": {},
   "outputs": [
    {
     "name": "stdout",
     "output_type": "stream",
     "text": [
      "Precision: 0.924\n"
     ]
    }
   ],
   "source": [
    "# Calculate precision for Dev\n",
    "precision = TN / (TN + FN)\n",
    "print(f\"Precision: {precision:.3f}\")"
   ]
  },
  {
   "cell_type": "code",
   "execution_count": 58,
   "metadata": {},
   "outputs": [
    {
     "name": "stdout",
     "output_type": "stream",
     "text": [
      "Recall: 0.289\n"
     ]
    }
   ],
   "source": [
    "# Calculate recall for Dev\n",
    "recall = TN / (TN + FP)\n",
    "print(f\"Recall: {recall:.3f}\")"
   ]
  },
  {
   "cell_type": "markdown",
   "metadata": {},
   "source": [
    "### No Dev (Conform Traces)"
   ]
  },
  {
   "cell_type": "code",
   "execution_count": 59,
   "metadata": {},
   "outputs": [
    {
     "name": "stdout",
     "output_type": "stream",
     "text": [
      "Precision: 0.827\n"
     ]
    }
   ],
   "source": [
    "# Calculate precision for No Dev\n",
    "precision = TP / (TP + FP)\n",
    "print(f\"Precision: {precision:.3f}\")"
   ]
  },
  {
   "cell_type": "code",
   "execution_count": 60,
   "metadata": {},
   "outputs": [
    {
     "name": "stdout",
     "output_type": "stream",
     "text": [
      "Recall: 0.993\n"
     ]
    }
   ],
   "source": [
    "# Calculate recall for No Dev\n",
    "recall = TP / (TP + FN)\n",
    "print(f\"Recall: {recall:.3f}\")"
   ]
  },
  {
   "cell_type": "markdown",
   "metadata": {},
   "source": [
    "### AUC"
   ]
  },
  {
   "cell_type": "code",
   "execution_count": 61,
   "metadata": {},
   "outputs": [
    {
     "data": {
      "text/plain": [
       "0.6412573770727529"
      ]
     },
     "execution_count": 61,
     "metadata": {},
     "output_type": "execute_result"
    }
   ],
   "source": [
    "import pandas as pd\n",
    "from sklearn.metrics import roc_auc_score\n",
    "\n",
    "# Assuming ground_truth is your DataFrame\n",
    "# Make sure 'conformity' contains actual labels (0 or 1)\n",
    "# and 'predicted' contains predicted probabilities or scores\n",
    "auc_roc = roc_auc_score(ground_truth['conformity'], ground_truth['predicted'])\n",
    "auc_roc"
   ]
  }
 ],
 "metadata": {
  "kernelspec": {
   "display_name": "lstm",
   "language": "python",
   "name": "python3"
  },
  "language_info": {
   "codemirror_mode": {
    "name": "ipython",
    "version": 3
   },
   "file_extension": ".py",
   "mimetype": "text/x-python",
   "name": "python",
   "nbconvert_exporter": "python",
   "pygments_lexer": "ipython3",
   "version": "3.9.-1"
  }
 },
 "nbformat": 4,
 "nbformat_minor": 2
}

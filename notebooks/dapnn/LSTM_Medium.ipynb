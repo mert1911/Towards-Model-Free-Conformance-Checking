{
 "cells": [
  {
   "cell_type": "markdown",
   "metadata": {},
   "source": [
    "# Import Event Log"
   ]
  },
  {
   "cell_type": "code",
   "execution_count": 1,
   "metadata": {},
   "outputs": [
    {
     "name": "stderr",
     "output_type": "stream",
     "text": [
      "/var/folders/s_/ch_w_j2d0sqf6dbdc0_224m40000gq/T/ipykernel_17267/2426251275.py:11: DeprecatedWarning: format_dataframe is deprecated as of 2.3.0 and will be removed in 3.0.0. the format_dataframe function does not need application anymore.\n",
      "  dataframe_log = pm4py.format_dataframe(\n"
     ]
    }
   ],
   "source": [
    "import pandas as pd\n",
    "import numpy as np\n",
    "import pm4py\n",
    "from pm4py.objects.conversion.log import converter as log_converter\n",
    "\n",
    "if __name__ == \"__main__\":\n",
    "    # Read the CSV file\n",
    "    dataframe_log = pd.read_csv('../../data/logs/medium_log.csv', sep=',')\n",
    "\n",
    "    # Format the dataframe\n",
    "    dataframe_log = pm4py.format_dataframe(\n",
    "        dataframe_log,\n",
    "        case_id='case:concept:name',\n",
    "        activity_key='concept:name',\n",
    "        timestamp_key='time:timestamp'\n",
    "    )\n",
    "\n",
    "    # Convert the dataframe to event log\n",
    "    log = log_converter.apply(dataframe_log)"
   ]
  },
  {
   "cell_type": "code",
   "execution_count": 2,
   "metadata": {},
   "outputs": [
    {
     "data": {
      "text/html": [
       "<div>\n",
       "<style scoped>\n",
       "    .dataframe tbody tr th:only-of-type {\n",
       "        vertical-align: middle;\n",
       "    }\n",
       "\n",
       "    .dataframe tbody tr th {\n",
       "        vertical-align: top;\n",
       "    }\n",
       "\n",
       "    .dataframe thead th {\n",
       "        text-align: right;\n",
       "    }\n",
       "</style>\n",
       "<table border=\"1\" class=\"dataframe\">\n",
       "  <thead>\n",
       "    <tr style=\"text-align: right;\">\n",
       "      <th></th>\n",
       "      <th>concept:name</th>\n",
       "      <th>timestamp</th>\n",
       "      <th>time:timestamp</th>\n",
       "      <th>case:label</th>\n",
       "      <th>case:concept:name</th>\n",
       "      <th>org:resource</th>\n",
       "      <th>@@index</th>\n",
       "      <th>@@case_index</th>\n",
       "    </tr>\n",
       "  </thead>\n",
       "  <tbody>\n",
       "    <tr>\n",
       "      <th>0</th>\n",
       "      <td>Activity A</td>\n",
       "      <td>NaN</td>\n",
       "      <td>2010-01-01 00:00:00+00:00</td>\n",
       "      <td>Insert</td>\n",
       "      <td>1</td>\n",
       "      <td>Doretta</td>\n",
       "      <td>0</td>\n",
       "      <td>0</td>\n",
       "    </tr>\n",
       "    <tr>\n",
       "      <th>1</th>\n",
       "      <td>Activity C</td>\n",
       "      <td>NaN</td>\n",
       "      <td>2010-01-01 00:01:00+00:00</td>\n",
       "      <td>Insert</td>\n",
       "      <td>1</td>\n",
       "      <td>Jack</td>\n",
       "      <td>1</td>\n",
       "      <td>0</td>\n",
       "    </tr>\n",
       "    <tr>\n",
       "      <th>2</th>\n",
       "      <td>Activity F</td>\n",
       "      <td>NaN</td>\n",
       "      <td>2010-01-01 00:02:00+00:00</td>\n",
       "      <td>Insert</td>\n",
       "      <td>1</td>\n",
       "      <td>Howard</td>\n",
       "      <td>2</td>\n",
       "      <td>0</td>\n",
       "    </tr>\n",
       "    <tr>\n",
       "      <th>3</th>\n",
       "      <td>Random activity 31</td>\n",
       "      <td>NaN</td>\n",
       "      <td>2010-01-01 00:04:00+00:00</td>\n",
       "      <td>Insert</td>\n",
       "      <td>1</td>\n",
       "      <td>Random user 69</td>\n",
       "      <td>3</td>\n",
       "      <td>0</td>\n",
       "    </tr>\n",
       "    <tr>\n",
       "      <th>4</th>\n",
       "      <td>Activity D</td>\n",
       "      <td>NaN</td>\n",
       "      <td>2010-01-01 00:05:00+00:00</td>\n",
       "      <td>Insert</td>\n",
       "      <td>1</td>\n",
       "      <td>Wilton</td>\n",
       "      <td>4</td>\n",
       "      <td>0</td>\n",
       "    </tr>\n",
       "    <tr>\n",
       "      <th>...</th>\n",
       "      <td>...</td>\n",
       "      <td>...</td>\n",
       "      <td>...</td>\n",
       "      <td>...</td>\n",
       "      <td>...</td>\n",
       "      <td>...</td>\n",
       "      <td>...</td>\n",
       "      <td>...</td>\n",
       "    </tr>\n",
       "    <tr>\n",
       "      <th>31986</th>\n",
       "      <td>Activity D</td>\n",
       "      <td>NaN</td>\n",
       "      <td>2010-07-01 09:37:00+00:00</td>\n",
       "      <td>normal</td>\n",
       "      <td>999</td>\n",
       "      <td>Wilton</td>\n",
       "      <td>31986</td>\n",
       "      <td>4999</td>\n",
       "    </tr>\n",
       "    <tr>\n",
       "      <th>31987</th>\n",
       "      <td>Activity I</td>\n",
       "      <td>NaN</td>\n",
       "      <td>2010-07-01 09:38:00+00:00</td>\n",
       "      <td>normal</td>\n",
       "      <td>999</td>\n",
       "      <td>Alyce</td>\n",
       "      <td>31987</td>\n",
       "      <td>4999</td>\n",
       "    </tr>\n",
       "    <tr>\n",
       "      <th>31988</th>\n",
       "      <td>Activity L</td>\n",
       "      <td>NaN</td>\n",
       "      <td>2010-07-01 09:40:00+00:00</td>\n",
       "      <td>normal</td>\n",
       "      <td>999</td>\n",
       "      <td>Rossana</td>\n",
       "      <td>31988</td>\n",
       "      <td>4999</td>\n",
       "    </tr>\n",
       "    <tr>\n",
       "      <th>31989</th>\n",
       "      <td>Activity J</td>\n",
       "      <td>NaN</td>\n",
       "      <td>2010-07-01 09:41:00+00:00</td>\n",
       "      <td>normal</td>\n",
       "      <td>999</td>\n",
       "      <td>Jamika</td>\n",
       "      <td>31989</td>\n",
       "      <td>4999</td>\n",
       "    </tr>\n",
       "    <tr>\n",
       "      <th>31990</th>\n",
       "      <td>Activity B</td>\n",
       "      <td>NaN</td>\n",
       "      <td>2010-07-01 09:43:00+00:00</td>\n",
       "      <td>normal</td>\n",
       "      <td>999</td>\n",
       "      <td>Michaele</td>\n",
       "      <td>31990</td>\n",
       "      <td>4999</td>\n",
       "    </tr>\n",
       "  </tbody>\n",
       "</table>\n",
       "<p>31991 rows × 8 columns</p>\n",
       "</div>"
      ],
      "text/plain": [
       "             concept:name  timestamp            time:timestamp case:label  \\\n",
       "0              Activity A        NaN 2010-01-01 00:00:00+00:00     Insert   \n",
       "1              Activity C        NaN 2010-01-01 00:01:00+00:00     Insert   \n",
       "2              Activity F        NaN 2010-01-01 00:02:00+00:00     Insert   \n",
       "3      Random activity 31        NaN 2010-01-01 00:04:00+00:00     Insert   \n",
       "4              Activity D        NaN 2010-01-01 00:05:00+00:00     Insert   \n",
       "...                   ...        ...                       ...        ...   \n",
       "31986          Activity D        NaN 2010-07-01 09:37:00+00:00     normal   \n",
       "31987          Activity I        NaN 2010-07-01 09:38:00+00:00     normal   \n",
       "31988          Activity L        NaN 2010-07-01 09:40:00+00:00     normal   \n",
       "31989          Activity J        NaN 2010-07-01 09:41:00+00:00     normal   \n",
       "31990          Activity B        NaN 2010-07-01 09:43:00+00:00     normal   \n",
       "\n",
       "      case:concept:name    org:resource  @@index  @@case_index  \n",
       "0                     1         Doretta        0             0  \n",
       "1                     1            Jack        1             0  \n",
       "2                     1          Howard        2             0  \n",
       "3                     1  Random user 69        3             0  \n",
       "4                     1          Wilton        4             0  \n",
       "...                 ...             ...      ...           ...  \n",
       "31986               999          Wilton    31986          4999  \n",
       "31987               999           Alyce    31987          4999  \n",
       "31988               999         Rossana    31988          4999  \n",
       "31989               999          Jamika    31989          4999  \n",
       "31990               999        Michaele    31990          4999  \n",
       "\n",
       "[31991 rows x 8 columns]"
      ]
     },
     "execution_count": 2,
     "metadata": {},
     "output_type": "execute_result"
    }
   ],
   "source": [
    "dataframe_log"
   ]
  },
  {
   "cell_type": "markdown",
   "metadata": {},
   "source": [
    "# Drop unnessary columns"
   ]
  },
  {
   "cell_type": "code",
   "execution_count": 3,
   "metadata": {},
   "outputs": [],
   "source": [
    "dataframe_log = dataframe_log.drop(columns=['timestamp'])"
   ]
  },
  {
   "cell_type": "code",
   "execution_count": 4,
   "metadata": {},
   "outputs": [],
   "source": [
    "dataframe_log = dataframe_log.drop(columns=['case:concept:name'])"
   ]
  },
  {
   "cell_type": "code",
   "execution_count": 5,
   "metadata": {},
   "outputs": [],
   "source": [
    "dataframe_log = dataframe_log.drop(columns=['@@index'])"
   ]
  },
  {
   "cell_type": "code",
   "execution_count": 6,
   "metadata": {},
   "outputs": [],
   "source": [
    "from sklearn.preprocessing import StandardScaler\n",
    "\n",
    "# Convert to datetime format\n",
    "dataframe_log['time:timestamp'] = pd.to_datetime(dataframe_log['time:timestamp'])\n",
    "\n",
    "# Calculate elapsed time since the start of each case\n",
    "dataframe_log['start_time'] = dataframe_log.groupby('@@case_index')['time:timestamp'].transform('min')\n",
    "dataframe_log['elapsed_time'] = (dataframe_log['time:timestamp'] - dataframe_log['start_time']).dt.total_seconds()\n",
    "\n",
    "# Normalize the elapsed time in minutes\n",
    "scaler = StandardScaler()\n",
    "dataframe_log['standardized_elapsed_time'] = scaler.fit_transform(dataframe_log[['elapsed_time']])\n",
    "\n",
    "dataframe_log = dataframe_log.drop(columns=['start_time'])\n",
    "dataframe_log = dataframe_log.drop(columns=['elapsed_time'])\n",
    "dataframe_log = dataframe_log.drop(columns=['time:timestamp'])"
   ]
  },
  {
   "cell_type": "code",
   "execution_count": 7,
   "metadata": {},
   "outputs": [
    {
     "data": {
      "text/html": [
       "<div>\n",
       "<style scoped>\n",
       "    .dataframe tbody tr th:only-of-type {\n",
       "        vertical-align: middle;\n",
       "    }\n",
       "\n",
       "    .dataframe tbody tr th {\n",
       "        vertical-align: top;\n",
       "    }\n",
       "\n",
       "    .dataframe thead th {\n",
       "        text-align: right;\n",
       "    }\n",
       "</style>\n",
       "<table border=\"1\" class=\"dataframe\">\n",
       "  <thead>\n",
       "    <tr style=\"text-align: right;\">\n",
       "      <th></th>\n",
       "      <th>concept:name</th>\n",
       "      <th>case:label</th>\n",
       "      <th>org:resource</th>\n",
       "      <th>@@case_index</th>\n",
       "      <th>standardized_elapsed_time</th>\n",
       "    </tr>\n",
       "  </thead>\n",
       "  <tbody>\n",
       "    <tr>\n",
       "      <th>0</th>\n",
       "      <td>Activity A</td>\n",
       "      <td>Insert</td>\n",
       "      <td>Doretta</td>\n",
       "      <td>0</td>\n",
       "      <td>-0.021742</td>\n",
       "    </tr>\n",
       "    <tr>\n",
       "      <th>1</th>\n",
       "      <td>Activity C</td>\n",
       "      <td>Insert</td>\n",
       "      <td>Jack</td>\n",
       "      <td>0</td>\n",
       "      <td>-0.021576</td>\n",
       "    </tr>\n",
       "    <tr>\n",
       "      <th>2</th>\n",
       "      <td>Activity F</td>\n",
       "      <td>Insert</td>\n",
       "      <td>Howard</td>\n",
       "      <td>0</td>\n",
       "      <td>-0.021410</td>\n",
       "    </tr>\n",
       "    <tr>\n",
       "      <th>3</th>\n",
       "      <td>Random activity 31</td>\n",
       "      <td>Insert</td>\n",
       "      <td>Random user 69</td>\n",
       "      <td>0</td>\n",
       "      <td>-0.021077</td>\n",
       "    </tr>\n",
       "    <tr>\n",
       "      <th>4</th>\n",
       "      <td>Activity D</td>\n",
       "      <td>Insert</td>\n",
       "      <td>Wilton</td>\n",
       "      <td>0</td>\n",
       "      <td>-0.020910</td>\n",
       "    </tr>\n",
       "    <tr>\n",
       "      <th>...</th>\n",
       "      <td>...</td>\n",
       "      <td>...</td>\n",
       "      <td>...</td>\n",
       "      <td>...</td>\n",
       "      <td>...</td>\n",
       "    </tr>\n",
       "    <tr>\n",
       "      <th>31986</th>\n",
       "      <td>Activity D</td>\n",
       "      <td>normal</td>\n",
       "      <td>Wilton</td>\n",
       "      <td>4999</td>\n",
       "      <td>-0.021077</td>\n",
       "    </tr>\n",
       "    <tr>\n",
       "      <th>31987</th>\n",
       "      <td>Activity I</td>\n",
       "      <td>normal</td>\n",
       "      <td>Alyce</td>\n",
       "      <td>4999</td>\n",
       "      <td>-0.020910</td>\n",
       "    </tr>\n",
       "    <tr>\n",
       "      <th>31988</th>\n",
       "      <td>Activity L</td>\n",
       "      <td>normal</td>\n",
       "      <td>Rossana</td>\n",
       "      <td>4999</td>\n",
       "      <td>-0.020577</td>\n",
       "    </tr>\n",
       "    <tr>\n",
       "      <th>31989</th>\n",
       "      <td>Activity J</td>\n",
       "      <td>normal</td>\n",
       "      <td>Jamika</td>\n",
       "      <td>4999</td>\n",
       "      <td>-0.020411</td>\n",
       "    </tr>\n",
       "    <tr>\n",
       "      <th>31990</th>\n",
       "      <td>Activity B</td>\n",
       "      <td>normal</td>\n",
       "      <td>Michaele</td>\n",
       "      <td>4999</td>\n",
       "      <td>-0.020078</td>\n",
       "    </tr>\n",
       "  </tbody>\n",
       "</table>\n",
       "<p>31991 rows × 5 columns</p>\n",
       "</div>"
      ],
      "text/plain": [
       "             concept:name case:label    org:resource  @@case_index  \\\n",
       "0              Activity A     Insert         Doretta             0   \n",
       "1              Activity C     Insert            Jack             0   \n",
       "2              Activity F     Insert          Howard             0   \n",
       "3      Random activity 31     Insert  Random user 69             0   \n",
       "4              Activity D     Insert          Wilton             0   \n",
       "...                   ...        ...             ...           ...   \n",
       "31986          Activity D     normal          Wilton          4999   \n",
       "31987          Activity I     normal           Alyce          4999   \n",
       "31988          Activity L     normal         Rossana          4999   \n",
       "31989          Activity J     normal          Jamika          4999   \n",
       "31990          Activity B     normal        Michaele          4999   \n",
       "\n",
       "       standardized_elapsed_time  \n",
       "0                      -0.021742  \n",
       "1                      -0.021576  \n",
       "2                      -0.021410  \n",
       "3                      -0.021077  \n",
       "4                      -0.020910  \n",
       "...                          ...  \n",
       "31986                  -0.021077  \n",
       "31987                  -0.020910  \n",
       "31988                  -0.020577  \n",
       "31989                  -0.020411  \n",
       "31990                  -0.020078  \n",
       "\n",
       "[31991 rows x 5 columns]"
      ]
     },
     "execution_count": 7,
     "metadata": {},
     "output_type": "execute_result"
    }
   ],
   "source": [
    "dataframe_log"
   ]
  },
  {
   "cell_type": "markdown",
   "metadata": {},
   "source": [
    "# Insert Start & End markers"
   ]
  },
  {
   "cell_type": "code",
   "execution_count": 8,
   "metadata": {},
   "outputs": [],
   "source": [
    "# Define a function to insert start and end markers\n",
    "def add_markers(df):\n",
    "    # Identify unique case indices\n",
    "    case_indices = df['@@case_index'].unique()\n",
    "    \n",
    "    # Prepare a container for new DataFrame rows\n",
    "    new_rows = []\n",
    "    \n",
    "    # Iterate over each case index to add start and end markers\n",
    "    for case_index in case_indices:\n",
    "        # Create a start marker row with all columns except @@case_index set to 'Start'\n",
    "        start_row = {col: 'Start' if col != '@@case_index' else case_index for col in df.columns}\n",
    "        \n",
    "        # Create an end marker row with all columns except @@case_index set to 'End'\n",
    "        end_row = {col: 'End' if col != '@@case_index' else case_index for col in df.columns}\n",
    "        \n",
    "        # Append start row, rows for the current case, and end row\n",
    "        new_rows.append(start_row)\n",
    "        new_rows.extend(df[df['@@case_index'] == case_index].to_dict('records'))\n",
    "        new_rows.append(end_row)\n",
    "    \n",
    "    # Convert the list of rows into a DataFrame\n",
    "    return pd.DataFrame(new_rows)\n",
    "\n",
    "# Apply the function to add start and end markers to the dataframe\n",
    "modified_dataframe = add_markers(dataframe_log)"
   ]
  },
  {
   "cell_type": "markdown",
   "metadata": {},
   "source": [
    "# Preprocess"
   ]
  },
  {
   "cell_type": "code",
   "execution_count": 9,
   "metadata": {},
   "outputs": [],
   "source": [
    "modified_dataframe['standardized_elapsed_time'] = modified_dataframe['standardized_elapsed_time'].replace({'Start': 0, 'End': 1})"
   ]
  },
  {
   "cell_type": "code",
   "execution_count": 10,
   "metadata": {},
   "outputs": [],
   "source": [
    "codes, uniques = pd.factorize(modified_dataframe['org:resource'])\n",
    "modified_dataframe['org:resource'] = codes"
   ]
  },
  {
   "cell_type": "code",
   "execution_count": 11,
   "metadata": {},
   "outputs": [],
   "source": [
    "codes, uniques = pd.factorize(modified_dataframe['concept:name'])\n",
    "modified_dataframe['concept:name'] = codes"
   ]
  },
  {
   "cell_type": "markdown",
   "metadata": {},
   "source": [
    "### Padding for Cases with less then 5 events"
   ]
  },
  {
   "cell_type": "code",
   "execution_count": 12,
   "metadata": {},
   "outputs": [
    {
     "data": {
      "text/plain": [
       "3"
      ]
     },
     "execution_count": 12,
     "metadata": {},
     "output_type": "execute_result"
    }
   ],
   "source": [
    "# Calculating the frequency of each unique value in '@@case_index'\n",
    "frequency = modified_dataframe['@@case_index'].value_counts()\n",
    "\n",
    "# Finding the minimum occurrence\n",
    "min_occurrence = frequency.min()\n",
    "\n",
    "min_occurrence"
   ]
  },
  {
   "cell_type": "code",
   "execution_count": 13,
   "metadata": {},
   "outputs": [],
   "source": [
    "# Assuming your dataframe might have different types, let's create a generic function to add rows\n",
    "def add_rows(group, num_rows, case_index_value):\n",
    "    # For each column, determine the appropriate \"zero\" value (int 0, string '', etc.)\n",
    "    additional_rows = pd.DataFrame({\n",
    "        column: 0 if pd.api.types.is_numeric_dtype(group[column]) else '' for column in group.columns\n",
    "    }, index=range(num_rows))\n",
    "    \n",
    "    # Set the @@case_index column to the current case index value\n",
    "    additional_rows['@@case_index'] = case_index_value\n",
    "    \n",
    "    # Append the additional rows to the group\n",
    "    return pd.concat([group, additional_rows], ignore_index=True)\n",
    "\n",
    "# Function to pad cases with less than 5 events\n",
    "def pad_cases(df):\n",
    "    # Group by @@case_index\n",
    "    groups = df.groupby('@@case_index')\n",
    "    \n",
    "    # Placeholder for modified groups\n",
    "    modified_groups = []\n",
    "    \n",
    "    for name, group in groups:\n",
    "        # Calculate the number of events to add\n",
    "        events_to_add = 5 - len(group)\n",
    "        \n",
    "        if events_to_add > 0:\n",
    "            # Add the required number of rows\n",
    "            group = add_rows(group, events_to_add, name)\n",
    "        \n",
    "        # Append the modified group to the list\n",
    "        modified_groups.append(group)\n",
    "    \n",
    "    # Concatenate all modified groups back into a single DataFrame\n",
    "    return pd.concat(modified_groups, ignore_index=True)"
   ]
  },
  {
   "cell_type": "code",
   "execution_count": 14,
   "metadata": {},
   "outputs": [
    {
     "data": {
      "text/html": [
       "<div>\n",
       "<style scoped>\n",
       "    .dataframe tbody tr th:only-of-type {\n",
       "        vertical-align: middle;\n",
       "    }\n",
       "\n",
       "    .dataframe tbody tr th {\n",
       "        vertical-align: top;\n",
       "    }\n",
       "\n",
       "    .dataframe thead th {\n",
       "        text-align: right;\n",
       "    }\n",
       "</style>\n",
       "<table border=\"1\" class=\"dataframe\">\n",
       "  <thead>\n",
       "    <tr style=\"text-align: right;\">\n",
       "      <th></th>\n",
       "      <th>concept:name</th>\n",
       "      <th>case:label</th>\n",
       "      <th>org:resource</th>\n",
       "      <th>@@case_index</th>\n",
       "      <th>standardized_elapsed_time</th>\n",
       "    </tr>\n",
       "  </thead>\n",
       "  <tbody>\n",
       "    <tr>\n",
       "      <th>0</th>\n",
       "      <td>0</td>\n",
       "      <td>Start</td>\n",
       "      <td>0</td>\n",
       "      <td>0</td>\n",
       "      <td>0.000000</td>\n",
       "    </tr>\n",
       "    <tr>\n",
       "      <th>1</th>\n",
       "      <td>1</td>\n",
       "      <td>Insert</td>\n",
       "      <td>1</td>\n",
       "      <td>0</td>\n",
       "      <td>-0.021742</td>\n",
       "    </tr>\n",
       "    <tr>\n",
       "      <th>2</th>\n",
       "      <td>2</td>\n",
       "      <td>Insert</td>\n",
       "      <td>2</td>\n",
       "      <td>0</td>\n",
       "      <td>-0.021576</td>\n",
       "    </tr>\n",
       "    <tr>\n",
       "      <th>3</th>\n",
       "      <td>3</td>\n",
       "      <td>Insert</td>\n",
       "      <td>3</td>\n",
       "      <td>0</td>\n",
       "      <td>-0.021410</td>\n",
       "    </tr>\n",
       "    <tr>\n",
       "      <th>4</th>\n",
       "      <td>4</td>\n",
       "      <td>Insert</td>\n",
       "      <td>4</td>\n",
       "      <td>0</td>\n",
       "      <td>-0.021077</td>\n",
       "    </tr>\n",
       "    <tr>\n",
       "      <th>...</th>\n",
       "      <td>...</td>\n",
       "      <td>...</td>\n",
       "      <td>...</td>\n",
       "      <td>...</td>\n",
       "      <td>...</td>\n",
       "    </tr>\n",
       "    <tr>\n",
       "      <th>42067</th>\n",
       "      <td>6</td>\n",
       "      <td>normal</td>\n",
       "      <td>75</td>\n",
       "      <td>4999</td>\n",
       "      <td>-0.020910</td>\n",
       "    </tr>\n",
       "    <tr>\n",
       "      <th>42068</th>\n",
       "      <td>21</td>\n",
       "      <td>normal</td>\n",
       "      <td>29</td>\n",
       "      <td>4999</td>\n",
       "      <td>-0.020577</td>\n",
       "    </tr>\n",
       "    <tr>\n",
       "      <th>42069</th>\n",
       "      <td>9</td>\n",
       "      <td>normal</td>\n",
       "      <td>21</td>\n",
       "      <td>4999</td>\n",
       "      <td>-0.020411</td>\n",
       "    </tr>\n",
       "    <tr>\n",
       "      <th>42070</th>\n",
       "      <td>10</td>\n",
       "      <td>normal</td>\n",
       "      <td>10</td>\n",
       "      <td>4999</td>\n",
       "      <td>-0.020078</td>\n",
       "    </tr>\n",
       "    <tr>\n",
       "      <th>42071</th>\n",
       "      <td>11</td>\n",
       "      <td>End</td>\n",
       "      <td>11</td>\n",
       "      <td>4999</td>\n",
       "      <td>1.000000</td>\n",
       "    </tr>\n",
       "  </tbody>\n",
       "</table>\n",
       "<p>42072 rows × 5 columns</p>\n",
       "</div>"
      ],
      "text/plain": [
       "       concept:name case:label  org:resource  @@case_index  \\\n",
       "0                 0      Start             0             0   \n",
       "1                 1     Insert             1             0   \n",
       "2                 2     Insert             2             0   \n",
       "3                 3     Insert             3             0   \n",
       "4                 4     Insert             4             0   \n",
       "...             ...        ...           ...           ...   \n",
       "42067             6     normal            75          4999   \n",
       "42068            21     normal            29          4999   \n",
       "42069             9     normal            21          4999   \n",
       "42070            10     normal            10          4999   \n",
       "42071            11        End            11          4999   \n",
       "\n",
       "       standardized_elapsed_time  \n",
       "0                       0.000000  \n",
       "1                      -0.021742  \n",
       "2                      -0.021576  \n",
       "3                      -0.021410  \n",
       "4                      -0.021077  \n",
       "...                          ...  \n",
       "42067                  -0.020910  \n",
       "42068                  -0.020577  \n",
       "42069                  -0.020411  \n",
       "42070                  -0.020078  \n",
       "42071                   1.000000  \n",
       "\n",
       "[42072 rows x 5 columns]"
      ]
     },
     "execution_count": 14,
     "metadata": {},
     "output_type": "execute_result"
    }
   ],
   "source": [
    "# Apply the padding function\n",
    "modified_dataframe = pad_cases(modified_dataframe)\n",
    "modified_dataframe"
   ]
  },
  {
   "cell_type": "markdown",
   "metadata": {},
   "source": [
    "# Generate sliding windows"
   ]
  },
  {
   "cell_type": "code",
   "execution_count": 15,
   "metadata": {},
   "outputs": [],
   "source": [
    "df_resource = modified_dataframe[['org:resource', '@@case_index']]\n",
    "df_activity = modified_dataframe[['concept:name', '@@case_index']]\n",
    "df_timestamp = modified_dataframe[['standardized_elapsed_time', '@@case_index']]"
   ]
  },
  {
   "cell_type": "code",
   "execution_count": 16,
   "metadata": {},
   "outputs": [],
   "source": [
    "def generate_sliding_windows(df, case_id_column='@@case_index', window_size=5):\n",
    "    windows = []\n",
    "    targets = []\n",
    "    case_indices = []\n",
    "\n",
    "    # Iterate over each unique case\n",
    "    for case_id in df[case_id_column].unique():\n",
    "        # Extract the case\n",
    "        case_data = df[df[case_id_column] == case_id]\n",
    "        \n",
    "        # Convert case_data to a NumPy array and drop the case_id_column\n",
    "        case_data_array = case_data.drop(columns=[case_id_column]).to_numpy()\n",
    "\n",
    "        # Adjusting the condition to correctly reflect window_size without needing an additional +1\n",
    "        # Now it correctly considers window_size as including the target event\n",
    "        if len(case_data_array) >= window_size:\n",
    "            # Adjust the loop to generate sliding windows of size window_size - 1 for the inputs and use the next event as the target\n",
    "            for i in range(len(case_data_array) - window_size + 1):\n",
    "                # window now has window_size - 1 events\n",
    "                window = case_data_array[i:i + window_size - 1]\n",
    "                # The target is the event immediately following the window\n",
    "                target = case_data_array[i + window_size - 1]\n",
    "                windows.append(window)\n",
    "                targets.append(target)\n",
    "                case_indices.append(case_id)  # Store the case_id corresponding to the window\n",
    "\n",
    "    # Convert lists to numpy arrays for easier handling and to ensure they are two-dimensional\n",
    "    windows_array = np.array(windows)\n",
    "    targets_array = np.array(targets)\n",
    "    case_indices_array = np.array(case_indices)\n",
    "    \n",
    "    return windows_array, targets_array, case_indices_array"
   ]
  },
  {
   "cell_type": "code",
   "execution_count": 17,
   "metadata": {},
   "outputs": [],
   "source": [
    "windows_resource, targets_resource, case_indices = generate_sliding_windows(df_resource)\n",
    "windows_activity, targets_activity, case_indices = generate_sliding_windows(df_activity)\n",
    "windows_timestamp, targets_timestamp, case_indices = generate_sliding_windows(df_timestamp)"
   ]
  },
  {
   "cell_type": "markdown",
   "metadata": {},
   "source": [
    "# LSTM"
   ]
  },
  {
   "cell_type": "markdown",
   "metadata": {},
   "source": [
    "### Architecture"
   ]
  },
  {
   "cell_type": "code",
   "execution_count": 18,
   "metadata": {},
   "outputs": [
    {
     "name": "stderr",
     "output_type": "stream",
     "text": [
      "2024-06-29 17:17:27.331021: I tensorflow/core/platform/cpu_feature_guard.cc:182] This TensorFlow binary is optimized to use available CPU instructions in performance-critical operations.\n",
      "To enable the following instructions: AVX2 FMA, in other operations, rebuild TensorFlow with the appropriate compiler flags.\n"
     ]
    },
    {
     "name": "stdout",
     "output_type": "stream",
     "text": [
      "Model: \"model\"\n",
      "__________________________________________________________________________________________________\n",
      " Layer (type)                Output Shape                 Param #   Connected to                  \n",
      "==================================================================================================\n",
      " input_resource (InputLayer  [(None, 4)]                  0         []                            \n",
      " )                                                                                                \n",
      "                                                                                                  \n",
      " input_activity (InputLayer  [(None, 4)]                  0         []                            \n",
      " )                                                                                                \n",
      "                                                                                                  \n",
      " embedding (Embedding)       (None, 4, 50)                7000      ['input_resource[0][0]']      \n",
      "                                                                                                  \n",
      " embedding_1 (Embedding)     (None, 4, 50)                3250      ['input_activity[0][0]']      \n",
      "                                                                                                  \n",
      " input_timestamp (InputLaye  [(None, 4, 1)]               0         []                            \n",
      " r)                                                                                               \n",
      "                                                                                                  \n",
      " lstm (LSTM)                 (None, 25)                   7600      ['embedding[0][0]']           \n",
      "                                                                                                  \n",
      " lstm_1 (LSTM)               (None, 25)                   7600      ['embedding_1[0][0]']         \n",
      "                                                                                                  \n",
      " lstm_2 (LSTM)               (None, 25)                   2700      ['input_timestamp[0][0]']     \n",
      "                                                                                                  \n",
      " concatenate (Concatenate)   (None, 75)                   0         ['lstm[0][0]',                \n",
      "                                                                     'lstm_1[0][0]',              \n",
      "                                                                     'lstm_2[0][0]']              \n",
      "                                                                                                  \n",
      " output_resource (Dense)     (None, 140)                  10640     ['concatenate[0][0]']         \n",
      "                                                                                                  \n",
      " output_activity (Dense)     (None, 65)                   4940      ['concatenate[0][0]']         \n",
      "                                                                                                  \n",
      " output_timestamp (Dense)    (None, 1)                    76        ['concatenate[0][0]']         \n",
      "                                                                                                  \n",
      "==================================================================================================\n",
      "Total params: 43806 (171.12 KB)\n",
      "Trainable params: 43806 (171.12 KB)\n",
      "Non-trainable params: 0 (0.00 Byte)\n",
      "__________________________________________________________________________________________________\n"
     ]
    }
   ],
   "source": [
    "from tensorflow.keras.models import Model\n",
    "from tensorflow.keras.layers import Input, LSTM, Dense, Concatenate, Embedding\n",
    "\n",
    "# Assuming these values as placeholders, replace them with actual counts from your data\n",
    "num_resources = modified_dataframe['org:resource'].nunique()\n",
    "num_activities = modified_dataframe['concept:name'].nunique()\n",
    "\n",
    "embedding_dim_resource = 50\n",
    "embedding_dim_activity = 50\n",
    "\n",
    "time_steps = 4\n",
    "\n",
    "# Input layers\n",
    "input_resource = Input(shape=(time_steps,), name='input_resource')\n",
    "input_activity = Input(shape=(time_steps,), name='input_activity')\n",
    "input_timestamp = Input(shape=(time_steps, 1), name='input_timestamp')\n",
    "\n",
    "# Embedding layers\n",
    "embedding_resource = Embedding(input_dim=num_resources, output_dim=embedding_dim_resource, input_length=time_steps)(input_resource)\n",
    "embedding_activity = Embedding(input_dim=num_activities, output_dim=embedding_dim_activity, input_length=time_steps)(input_activity)\n",
    "\n",
    "# LSTM layers\n",
    "lstm_resource = LSTM(25, return_sequences=False)(embedding_resource)\n",
    "lstm_activity = LSTM(25, return_sequences=False)(embedding_activity)\n",
    "lstm_timestamp = LSTM(25, return_sequences=False)(input_timestamp)\n",
    "\n",
    "# Concatenate outputs\n",
    "concatenated = Concatenate(axis=-1)([lstm_resource, lstm_activity, lstm_timestamp])\n",
    "\n",
    "# Output layers\n",
    "output_resource = Dense(num_resources, activation='softmax', name='output_resource')(concatenated)\n",
    "output_activity = Dense(num_activities, activation='softmax', name='output_activity')(concatenated)\n",
    "output_timestamp = Dense(1, activation='linear', name='output_timestamp')(concatenated)\n",
    "\n",
    "# Create and compile the model\n",
    "model = Model(inputs=[input_resource, input_activity, input_timestamp], \n",
    "              outputs=[output_resource, output_activity, output_timestamp])\n",
    "\n",
    "model.compile(optimizer='adam', \n",
    "              loss={'output_resource': 'categorical_crossentropy', \n",
    "                    'output_activity': 'categorical_crossentropy', \n",
    "                    'output_timestamp': 'mean_squared_error'},\n",
    "              metrics={'output_resource': 'accuracy', \n",
    "                       'output_activity': 'accuracy', \n",
    "                       'output_timestamp': 'mean_absolute_error'})\n",
    "\n",
    "model.summary()\n"
   ]
  },
  {
   "cell_type": "markdown",
   "metadata": {},
   "source": [
    "# Data Splitting"
   ]
  },
  {
   "cell_type": "code",
   "execution_count": 19,
   "metadata": {},
   "outputs": [],
   "source": [
    "from sklearn.model_selection import train_test_split\n",
    "\n",
    "# Split the resource data\n",
    "train_resource, test_resource, train_targets_resource, test_targets_resource = train_test_split(\n",
    "    windows_resource, targets_resource, test_size=0.3, random_state=42)\n",
    "\n",
    "# Split the activity data\n",
    "train_activity, test_activity, train_targets_activity, test_targets_activity = train_test_split(\n",
    "    windows_activity, targets_activity, test_size=0.3, random_state=42)\n",
    "\n",
    "# Split the timestamp data\n",
    "train_timestamp, test_timestamp, train_targets_timestamp, test_targets_timestamp = train_test_split(\n",
    "    windows_timestamp, targets_timestamp, test_size=0.3, random_state=42)\n"
   ]
  },
  {
   "cell_type": "markdown",
   "metadata": {},
   "source": [
    "# Training"
   ]
  },
  {
   "cell_type": "code",
   "execution_count": 20,
   "metadata": {},
   "outputs": [],
   "source": [
    "from tensorflow.keras.callbacks import EarlyStopping\n",
    "from tensorflow.keras.callbacks import LearningRateScheduler\n",
    "\n",
    "# EarlyStopping callback\n",
    "early_stopping = EarlyStopping(monitor='val_loss', patience=3, restore_best_weights=True)\n",
    "\n",
    "def cyclic_lr(epoch, lr):\n",
    "    # Example function that modulates LR within a range for each epoch\n",
    "    # Customize this function based on your cyclic learning rate policy\n",
    "    max_lr = 0.01  # Maximum LR\n",
    "    base_lr = 0.001  # Base LR\n",
    "    step_size = 10  # Number of epochs for half a cycle\n",
    "    cycle = np.floor(1 + epoch / (2 * step_size))\n",
    "    x = np.abs(epoch / step_size - 2 * cycle + 1)\n",
    "    lr = base_lr + (max_lr - base_lr) * np.maximum(0, (1 - x))\n",
    "    return lr\n",
    "\n",
    "lr_scheduler = LearningRateScheduler(cyclic_lr)"
   ]
  },
  {
   "cell_type": "code",
   "execution_count": 21,
   "metadata": {},
   "outputs": [
    {
     "name": "stdout",
     "output_type": "stream",
     "text": [
      "Epoch 1/25\n",
      "242/242 [==============================] - 8s 9ms/step - loss: 7.1971 - output_resource_loss: 3.3179 - output_activity_loss: 2.2119 - output_timestamp_loss: 1.6673 - output_resource_accuracy: 0.2658 - output_activity_accuracy: 0.5005 - output_timestamp_mean_absolute_error: 0.2534 - val_loss: 4.4842 - val_output_resource_loss: 2.4167 - val_output_activity_loss: 1.1178 - val_output_timestamp_loss: 0.9498 - val_output_resource_accuracy: 0.4175 - val_output_activity_accuracy: 0.7964 - val_output_timestamp_mean_absolute_error: 0.1481 - lr: 0.0010\n",
      "Epoch 2/25\n",
      "242/242 [==============================] - 1s 5ms/step - loss: 4.3268 - output_resource_loss: 1.9942 - output_activity_loss: 0.7911 - output_timestamp_loss: 1.5415 - output_resource_accuracy: 0.5102 - output_activity_accuracy: 0.8328 - output_timestamp_mean_absolute_error: 0.1619 - val_loss: 3.3035 - val_output_resource_loss: 1.7392 - val_output_activity_loss: 0.6185 - val_output_timestamp_loss: 0.9458 - val_output_resource_accuracy: 0.5837 - val_output_activity_accuracy: 0.8722 - val_output_timestamp_mean_absolute_error: 0.1824 - lr: 0.0019\n",
      "Epoch 3/25\n",
      "242/242 [==============================] - 1s 5ms/step - loss: 3.4011 - output_resource_loss: 1.4848 - output_activity_loss: 0.5170 - output_timestamp_loss: 1.3993 - output_resource_accuracy: 0.6282 - output_activity_accuracy: 0.8948 - output_timestamp_mean_absolute_error: 0.1516 - val_loss: 2.7926 - val_output_resource_loss: 1.3813 - val_output_activity_loss: 0.4856 - val_output_timestamp_loss: 0.9257 - val_output_resource_accuracy: 0.6462 - val_output_activity_accuracy: 0.9082 - val_output_timestamp_mean_absolute_error: 0.0956 - lr: 0.0028\n",
      "Epoch 4/25\n",
      "242/242 [==============================] - 1s 4ms/step - loss: 2.9736 - output_resource_loss: 1.2550 - output_activity_loss: 0.4150 - output_timestamp_loss: 1.3036 - output_resource_accuracy: 0.6613 - output_activity_accuracy: 0.9206 - output_timestamp_mean_absolute_error: 0.1519 - val_loss: 2.6184 - val_output_resource_loss: 1.2577 - val_output_activity_loss: 0.4285 - val_output_timestamp_loss: 0.9323 - val_output_resource_accuracy: 0.6629 - val_output_activity_accuracy: 0.9191 - val_output_timestamp_mean_absolute_error: 0.1276 - lr: 0.0037\n",
      "Epoch 5/25\n",
      "242/242 [==============================] - 1s 4ms/step - loss: 2.7108 - output_resource_loss: 1.1602 - output_activity_loss: 0.3638 - output_timestamp_loss: 1.1868 - output_resource_accuracy: 0.6723 - output_activity_accuracy: 0.9286 - output_timestamp_mean_absolute_error: 0.1631 - val_loss: 2.5441 - val_output_resource_loss: 1.2067 - val_output_activity_loss: 0.3962 - val_output_timestamp_loss: 0.9412 - val_output_resource_accuracy: 0.6670 - val_output_activity_accuracy: 0.9262 - val_output_timestamp_mean_absolute_error: 0.1345 - lr: 0.0046\n",
      "Epoch 6/25\n",
      "242/242 [==============================] - 1s 5ms/step - loss: 2.5344 - output_resource_loss: 1.1004 - output_activity_loss: 0.3314 - output_timestamp_loss: 1.1026 - output_resource_accuracy: 0.6811 - output_activity_accuracy: 0.9345 - output_timestamp_mean_absolute_error: 0.1794 - val_loss: 2.5093 - val_output_resource_loss: 1.1767 - val_output_activity_loss: 0.3806 - val_output_timestamp_loss: 0.9520 - val_output_resource_accuracy: 0.6696 - val_output_activity_accuracy: 0.9305 - val_output_timestamp_mean_absolute_error: 0.1544 - lr: 0.0055\n",
      "Epoch 7/25\n",
      "242/242 [==============================] - 1s 5ms/step - loss: 2.4196 - output_resource_loss: 1.0674 - output_activity_loss: 0.3128 - output_timestamp_loss: 1.0394 - output_resource_accuracy: 0.6834 - output_activity_accuracy: 0.9373 - output_timestamp_mean_absolute_error: 0.1977 - val_loss: 2.4905 - val_output_resource_loss: 1.1726 - val_output_activity_loss: 0.3682 - val_output_timestamp_loss: 0.9497 - val_output_resource_accuracy: 0.6703 - val_output_activity_accuracy: 0.9325 - val_output_timestamp_mean_absolute_error: 0.1677 - lr: 0.0064\n",
      "Epoch 8/25\n",
      "242/242 [==============================] - 1s 6ms/step - loss: 2.3147 - output_resource_loss: 1.0467 - output_activity_loss: 0.2988 - output_timestamp_loss: 0.9693 - output_resource_accuracy: 0.6834 - output_activity_accuracy: 0.9395 - output_timestamp_mean_absolute_error: 0.2019 - val_loss: 2.5061 - val_output_resource_loss: 1.1595 - val_output_activity_loss: 0.3635 - val_output_timestamp_loss: 0.9831 - val_output_resource_accuracy: 0.6681 - val_output_activity_accuracy: 0.9325 - val_output_timestamp_mean_absolute_error: 0.2090 - lr: 0.0073\n",
      "Epoch 9/25\n",
      "242/242 [==============================] - 1s 5ms/step - loss: 2.1121 - output_resource_loss: 1.0257 - output_activity_loss: 0.2890 - output_timestamp_loss: 0.7973 - output_resource_accuracy: 0.6858 - output_activity_accuracy: 0.9418 - output_timestamp_mean_absolute_error: 0.2119 - val_loss: 2.5421 - val_output_resource_loss: 1.1616 - val_output_activity_loss: 0.3715 - val_output_timestamp_loss: 1.0090 - val_output_resource_accuracy: 0.6761 - val_output_activity_accuracy: 0.9319 - val_output_timestamp_mean_absolute_error: 0.2523 - lr: 0.0082\n",
      "Epoch 10/25\n",
      "242/242 [==============================] - 1s 5ms/step - loss: 2.0204 - output_resource_loss: 1.0151 - output_activity_loss: 0.2816 - output_timestamp_loss: 0.7237 - output_resource_accuracy: 0.6909 - output_activity_accuracy: 0.9427 - output_timestamp_mean_absolute_error: 0.2408 - val_loss: 2.5036 - val_output_resource_loss: 1.1587 - val_output_activity_loss: 0.3655 - val_output_timestamp_loss: 0.9793 - val_output_resource_accuracy: 0.6803 - val_output_activity_accuracy: 0.9320 - val_output_timestamp_mean_absolute_error: 0.1783 - lr: 0.0091\n",
      "Epoch 11/25\n",
      "242/242 [==============================] - 1s 5ms/step - loss: 1.8792 - output_resource_loss: 1.0007 - output_activity_loss: 0.2759 - output_timestamp_loss: 0.6026 - output_resource_accuracy: 0.6871 - output_activity_accuracy: 0.9419 - output_timestamp_mean_absolute_error: 0.2281 - val_loss: 2.5878 - val_output_resource_loss: 1.1674 - val_output_activity_loss: 0.3636 - val_output_timestamp_loss: 1.0567 - val_output_resource_accuracy: 0.6735 - val_output_activity_accuracy: 0.9320 - val_output_timestamp_mean_absolute_error: 0.2547 - lr: 0.0100\n",
      "Epoch 12/25\n",
      "242/242 [==============================] - 1s 4ms/step - loss: 1.7510 - output_resource_loss: 0.9791 - output_activity_loss: 0.2649 - output_timestamp_loss: 0.5070 - output_resource_accuracy: 0.6917 - output_activity_accuracy: 0.9454 - output_timestamp_mean_absolute_error: 0.2229 - val_loss: 2.5865 - val_output_resource_loss: 1.1625 - val_output_activity_loss: 0.3752 - val_output_timestamp_loss: 1.0487 - val_output_resource_accuracy: 0.6690 - val_output_activity_accuracy: 0.9284 - val_output_timestamp_mean_absolute_error: 0.2578 - lr: 0.0091\n",
      "Epoch 13/25\n",
      "242/242 [==============================] - 1s 4ms/step - loss: 1.6208 - output_resource_loss: 0.9527 - output_activity_loss: 0.2554 - output_timestamp_loss: 0.4127 - output_resource_accuracy: 0.6949 - output_activity_accuracy: 0.9467 - output_timestamp_mean_absolute_error: 0.2165 - val_loss: 2.5591 - val_output_resource_loss: 1.1604 - val_output_activity_loss: 0.3580 - val_output_timestamp_loss: 1.0408 - val_output_resource_accuracy: 0.6583 - val_output_activity_accuracy: 0.9336 - val_output_timestamp_mean_absolute_error: 0.2505 - lr: 0.0082\n",
      "Epoch 14/25\n",
      "242/242 [==============================] - 1s 5ms/step - loss: 1.5296 - output_resource_loss: 0.9314 - output_activity_loss: 0.2438 - output_timestamp_loss: 0.3544 - output_resource_accuracy: 0.7008 - output_activity_accuracy: 0.9480 - output_timestamp_mean_absolute_error: 0.2046 - val_loss: 2.5265 - val_output_resource_loss: 1.1535 - val_output_activity_loss: 0.3618 - val_output_timestamp_loss: 1.0112 - val_output_resource_accuracy: 0.6708 - val_output_activity_accuracy: 0.9326 - val_output_timestamp_mean_absolute_error: 0.1947 - lr: 0.0073\n",
      "Epoch 15/25\n",
      "242/242 [==============================] - 1s 4ms/step - loss: 1.4660 - output_resource_loss: 0.9120 - output_activity_loss: 0.2366 - output_timestamp_loss: 0.3174 - output_resource_accuracy: 0.7051 - output_activity_accuracy: 0.9493 - output_timestamp_mean_absolute_error: 0.1935 - val_loss: 2.5434 - val_output_resource_loss: 1.1494 - val_output_activity_loss: 0.3619 - val_output_timestamp_loss: 1.0321 - val_output_resource_accuracy: 0.6771 - val_output_activity_accuracy: 0.9357 - val_output_timestamp_mean_absolute_error: 0.2071 - lr: 0.0064\n",
      "Epoch 16/25\n",
      "242/242 [==============================] - 1s 5ms/step - loss: 1.3952 - output_resource_loss: 0.8919 - output_activity_loss: 0.2291 - output_timestamp_loss: 0.2742 - output_resource_accuracy: 0.7107 - output_activity_accuracy: 0.9507 - output_timestamp_mean_absolute_error: 0.1805 - val_loss: 2.5515 - val_output_resource_loss: 1.1486 - val_output_activity_loss: 0.3576 - val_output_timestamp_loss: 1.0453 - val_output_resource_accuracy: 0.6635 - val_output_activity_accuracy: 0.9339 - val_output_timestamp_mean_absolute_error: 0.2173 - lr: 0.0055\n",
      "Epoch 17/25\n",
      "242/242 [==============================] - 1s 4ms/step - loss: 1.3516 - output_resource_loss: 0.8778 - output_activity_loss: 0.2228 - output_timestamp_loss: 0.2510 - output_resource_accuracy: 0.7118 - output_activity_accuracy: 0.9518 - output_timestamp_mean_absolute_error: 0.1753 - val_loss: 2.5232 - val_output_resource_loss: 1.1363 - val_output_activity_loss: 0.3543 - val_output_timestamp_loss: 1.0326 - val_output_resource_accuracy: 0.6768 - val_output_activity_accuracy: 0.9331 - val_output_timestamp_mean_absolute_error: 0.2024 - lr: 0.0046\n",
      "Epoch 18/25\n",
      "242/242 [==============================] - 1s 4ms/step - loss: 1.3074 - output_resource_loss: 0.8658 - output_activity_loss: 0.2184 - output_timestamp_loss: 0.2231 - output_resource_accuracy: 0.7162 - output_activity_accuracy: 0.9541 - output_timestamp_mean_absolute_error: 0.1534 - val_loss: 2.5445 - val_output_resource_loss: 1.1389 - val_output_activity_loss: 0.3557 - val_output_timestamp_loss: 1.0500 - val_output_resource_accuracy: 0.6738 - val_output_activity_accuracy: 0.9334 - val_output_timestamp_mean_absolute_error: 0.2100 - lr: 0.0037\n",
      "Epoch 19/25\n",
      "242/242 [==============================] - 1s 5ms/step - loss: 1.2683 - output_resource_loss: 0.8503 - output_activity_loss: 0.2120 - output_timestamp_loss: 0.2060 - output_resource_accuracy: 0.7224 - output_activity_accuracy: 0.9553 - output_timestamp_mean_absolute_error: 0.1450 - val_loss: 2.5214 - val_output_resource_loss: 1.1307 - val_output_activity_loss: 0.3530 - val_output_timestamp_loss: 1.0377 - val_output_resource_accuracy: 0.6820 - val_output_activity_accuracy: 0.9339 - val_output_timestamp_mean_absolute_error: 0.1913 - lr: 0.0028\n",
      "Epoch 20/25\n",
      "242/242 [==============================] - 1s 5ms/step - loss: 1.2359 - output_resource_loss: 0.8387 - output_activity_loss: 0.2073 - output_timestamp_loss: 0.1900 - output_resource_accuracy: 0.7254 - output_activity_accuracy: 0.9563 - output_timestamp_mean_absolute_error: 0.1325 - val_loss: 2.5247 - val_output_resource_loss: 1.1290 - val_output_activity_loss: 0.3519 - val_output_timestamp_loss: 1.0438 - val_output_resource_accuracy: 0.6812 - val_output_activity_accuracy: 0.9361 - val_output_timestamp_mean_absolute_error: 0.1910 - lr: 0.0019\n",
      "Epoch 21/25\n",
      "242/242 [==============================] - 1s 4ms/step - loss: 1.2085 - output_resource_loss: 0.8277 - output_activity_loss: 0.2027 - output_timestamp_loss: 0.1780 - output_resource_accuracy: 0.7282 - output_activity_accuracy: 0.9568 - output_timestamp_mean_absolute_error: 0.1202 - val_loss: 2.5259 - val_output_resource_loss: 1.1267 - val_output_activity_loss: 0.3535 - val_output_timestamp_loss: 1.0457 - val_output_resource_accuracy: 0.6824 - val_output_activity_accuracy: 0.9339 - val_output_timestamp_mean_absolute_error: 0.1841 - lr: 0.0010\n",
      "Epoch 22/25\n",
      "242/242 [==============================] - 1s 4ms/step - loss: 1.2209 - output_resource_loss: 0.8356 - output_activity_loss: 0.2056 - output_timestamp_loss: 0.1797 - output_resource_accuracy: 0.7258 - output_activity_accuracy: 0.9560 - output_timestamp_mean_absolute_error: 0.1320 - val_loss: 2.5419 - val_output_resource_loss: 1.1331 - val_output_activity_loss: 0.3538 - val_output_timestamp_loss: 1.0551 - val_output_resource_accuracy: 0.6815 - val_output_activity_accuracy: 0.9340 - val_output_timestamp_mean_absolute_error: 0.1947 - lr: 0.0019\n",
      "Epoch 23/25\n",
      "242/242 [==============================] - 1s 5ms/step - loss: 1.2359 - output_resource_loss: 0.8411 - output_activity_loss: 0.2076 - output_timestamp_loss: 0.1872 - output_resource_accuracy: 0.7216 - output_activity_accuracy: 0.9559 - output_timestamp_mean_absolute_error: 0.1548 - val_loss: 2.5644 - val_output_resource_loss: 1.1396 - val_output_activity_loss: 0.3573 - val_output_timestamp_loss: 1.0676 - val_output_resource_accuracy: 0.6747 - val_output_activity_accuracy: 0.9331 - val_output_timestamp_mean_absolute_error: 0.2204 - lr: 0.0028\n",
      "Epoch 24/25\n",
      "242/242 [==============================] - 1s 5ms/step - loss: 1.2523 - output_resource_loss: 0.8487 - output_activity_loss: 0.2104 - output_timestamp_loss: 0.1932 - output_resource_accuracy: 0.7212 - output_activity_accuracy: 0.9553 - output_timestamp_mean_absolute_error: 0.1757 - val_loss: 2.5792 - val_output_resource_loss: 1.1474 - val_output_activity_loss: 0.3574 - val_output_timestamp_loss: 1.0743 - val_output_resource_accuracy: 0.6750 - val_output_activity_accuracy: 0.9345 - val_output_timestamp_mean_absolute_error: 0.2168 - lr: 0.0037\n",
      "Epoch 25/25\n",
      "242/242 [==============================] - 1s 4ms/step - loss: 1.2690 - output_resource_loss: 0.8553 - output_activity_loss: 0.2131 - output_timestamp_loss: 0.2006 - output_resource_accuracy: 0.7172 - output_activity_accuracy: 0.9549 - output_timestamp_mean_absolute_error: 0.1873 - val_loss: 2.6064 - val_output_resource_loss: 1.1513 - val_output_activity_loss: 0.3620 - val_output_timestamp_loss: 1.0931 - val_output_resource_accuracy: 0.6717 - val_output_activity_accuracy: 0.9317 - val_output_timestamp_mean_absolute_error: 0.2550 - lr: 0.0046\n"
     ]
    }
   ],
   "source": [
    "import numpy as np\n",
    "from tensorflow.keras.utils import to_categorical\n",
    "\n",
    "\n",
    "train_targets_resource_cat = to_categorical(train_targets_resource, num_classes=num_resources)\n",
    "test_targets_resource_cat = to_categorical(test_targets_resource, num_classes=num_resources)\n",
    "\n",
    "train_targets_activity_cat = to_categorical(train_targets_activity, num_classes=num_activities)\n",
    "test_targets_activity_cat = to_categorical(test_targets_activity, num_classes=num_activities)\n",
    "\n",
    "\n",
    "# Note: Assuming timestamp targets are continuous and don't need to be converted to categorical\n",
    "\n",
    "history = model.fit([train_resource, train_activity, train_timestamp], \n",
    "                    [train_targets_resource_cat, train_targets_activity_cat, train_targets_timestamp],\n",
    "                    epochs=25,\n",
    "                    batch_size=64,\n",
    "                    validation_data=([test_resource, test_activity, test_timestamp], \n",
    "                                     [test_targets_resource_cat, test_targets_activity_cat, test_targets_timestamp]),\n",
    "                    verbose=1,\n",
    "                    callbacks=[lr_scheduler])  # Add other callbacks as needed"
   ]
  },
  {
   "cell_type": "code",
   "execution_count": 22,
   "metadata": {},
   "outputs": [
    {
     "name": "stdout",
     "output_type": "stream",
     "text": [
      "207/207 [==============================] - 0s 2ms/step - loss: 2.6064 - output_resource_loss: 1.1513 - output_activity_loss: 0.3620 - output_timestamp_loss: 1.0931 - output_resource_accuracy: 0.6717 - output_activity_accuracy: 0.9317 - output_timestamp_mean_absolute_error: 0.2550\n",
      "[2.6063976287841797, 1.1513473987579346, 0.3619690537452698, 1.0930798053741455, 0.6717004179954529, 0.9317426681518555, 0.25504404306411743]\n"
     ]
    }
   ],
   "source": [
    "evaluation = model.evaluate(\n",
    "    [test_resource, test_activity, test_timestamp],\n",
    "    [test_targets_resource_cat, test_targets_activity_cat, test_targets_timestamp]\n",
    ")\n",
    "\n",
    "print(evaluation)"
   ]
  },
  {
   "cell_type": "code",
   "execution_count": 23,
   "metadata": {},
   "outputs": [
    {
     "name": "stderr",
     "output_type": "stream",
     "text": [
      "/opt/anaconda3/lib/python3.9/site-packages/keras/src/engine/training.py:3000: UserWarning: You are saving your model as an HDF5 file via `model.save()`. This file format is considered legacy. We recommend using instead the native Keras format, e.g. `model.save('my_model.keras')`.\n",
      "  saving_api.save_model(\n"
     ]
    }
   ],
   "source": [
    "# Save the model to an H5 file\n",
    "model.save('dapnn_medium.h5')"
   ]
  },
  {
   "cell_type": "markdown",
   "metadata": {},
   "source": [
    "# Anomaly Score Computation"
   ]
  },
  {
   "cell_type": "code",
   "execution_count": 24,
   "metadata": {},
   "outputs": [
    {
     "name": "stdout",
     "output_type": "stream",
     "text": [
      "690/690 [==============================] - 3s 3ms/step\n"
     ]
    }
   ],
   "source": [
    "# Generate predictions for all inputs\n",
    "predictions = model.predict([windows_resource, windows_activity, windows_timestamp])\n",
    "\n",
    "# Extract predictions for categorical attributes (softmax probabilities)\n",
    "predictions_resource = predictions[0]        # ID predictions\n",
    "predictions_activity = predictions[1]  # Resource predictions\n",
    "\n",
    "# Extract predictions for numerical attribute (timestamp)\n",
    "predictions_timestamp = predictions[2] # Timestamp predictions"
   ]
  },
  {
   "cell_type": "code",
   "execution_count": 25,
   "metadata": {},
   "outputs": [],
   "source": [
    "import numpy as np\n",
    "from tensorflow.keras.utils import to_categorical\n",
    "\n",
    "def compute_anomaly_scores(predictions, actuals):\n",
    "    # For categorical predictions, convert actuals to one-hot for comparison\n",
    "    actuals_one_hot = to_categorical(actuals, num_classes=predictions.shape[-1])\n",
    "    \n",
    "    max_predictions = np.max(predictions, axis=-1)\n",
    "    actual_predictions = np.sum(predictions * actuals_one_hot, axis=-1)  # Extract the probability of the actual class\n",
    "    \n",
    "    anomaly_scores = (max_predictions - actual_predictions) / max_predictions\n",
    "    \n",
    "    return anomaly_scores\n",
    "\n",
    "# Assuming targets_id, targets_resource, targets_activity, targets_role are the true values for these attributes\n",
    "anomaly_scores_resource = compute_anomaly_scores(predictions_resource, targets_resource)\n",
    "anomaly_scores_activity = compute_anomaly_scores(predictions_activity, targets_activity)"
   ]
  },
  {
   "cell_type": "code",
   "execution_count": 26,
   "metadata": {},
   "outputs": [],
   "source": [
    "def compute_anomaly_scores_continuous(predictions, actuals, normalization_factor):\n",
    "    \"\"\"\n",
    "    Compute anomaly scores for continuous attributes.\n",
    "    \n",
    "    Parameters:\n",
    "    - predictions: numpy array of predicted values.\n",
    "    - actuals: numpy array of actual values.\n",
    "    - normalization_factor: normalization factor (e.g., standard deviation of the attribute).\n",
    "    \n",
    "    Returns:\n",
    "    - numpy array of anomaly scores.\n",
    "    \"\"\"\n",
    "    # Calculate absolute differences\n",
    "    differences = np.abs(predictions - actuals)\n",
    "    \n",
    "    # Normalize the differences\n",
    "    anomaly_scores = differences / normalization_factor\n",
    "    \n",
    "    return anomaly_scores"
   ]
  },
  {
   "cell_type": "code",
   "execution_count": 27,
   "metadata": {},
   "outputs": [],
   "source": [
    "normalization_factor = np.std(targets_timestamp)       # Example normalization factor (standard deviation)\n",
    "anomaly_scores_timestamp = compute_anomaly_scores_continuous(predictions_timestamp, targets_timestamp, normalization_factor)"
   ]
  },
  {
   "cell_type": "code",
   "execution_count": 28,
   "metadata": {},
   "outputs": [],
   "source": [
    "import numpy as np\n",
    "\n",
    "def classify_cases(anomaly_scores_resource, anomaly_scores_activity, anomaly_scores_timestamp, threshold=0.98):\n",
    "    # Ensure all inputs are numpy arrays of the same shape\n",
    "    anomaly_scores_resource = np.array(anomaly_scores_resource).flatten()\n",
    "    anomaly_scores_activity = np.array(anomaly_scores_activity).flatten()\n",
    "    anomaly_scores_timestamp = np.array(anomaly_scores_timestamp).flatten()\n",
    "\n",
    "    # Check if all arrays have the same length\n",
    "    if not (len(anomaly_scores_resource) == len(anomaly_scores_activity) == len(anomaly_scores_timestamp)):\n",
    "        raise ValueError(\"All input anomaly scores must have the same length.\")\n",
    "\n",
    "    # Find the maximum anomaly score across all attributes for each case\n",
    "    max_scores = np.maximum.reduce([anomaly_scores_resource, anomaly_scores_activity, anomaly_scores_timestamp])\n",
    "\n",
    "    # Classify cases as anomalous if the maximum anomaly score exceeds the threshold\n",
    "    anomalous_cases = max_scores > threshold\n",
    "    \n",
    "    return anomalous_cases\n",
    "\n",
    "# Now use the anomaly scores for resource, activity, and timestamp in the classification\n",
    "anomalous_cases = classify_cases(anomaly_scores_resource, anomaly_scores_activity, anomaly_scores_timestamp)"
   ]
  },
  {
   "cell_type": "code",
   "execution_count": 44,
   "metadata": {},
   "outputs": [],
   "source": [
    "import numpy as np\n",
    "\n",
    "def classify_cases(anomaly_scores_activity, threshold=0.98):\n",
    "    # Ensure all inputs are numpy arrays of the same shape\n",
    "    anomaly_scores_activity = np.array(anomaly_scores_activity).flatten()\n",
    "\n",
    "    # Find the maximum anomaly score across all attributes for each case\n",
    "    max_scores = np.maximum.reduce([anomaly_scores_activity])\n",
    "\n",
    "    # Classify cases as anomalous if the maximum anomaly score exceeds the threshold\n",
    "    anomalous_cases = max_scores > threshold\n",
    "    \n",
    "    return anomalous_cases\n",
    "\n",
    "# Now use the anomaly scores for resource, activity, and timestamp in the classification\n",
    "anomalous_cases = classify_cases(anomaly_scores_activity)"
   ]
  },
  {
   "cell_type": "code",
   "execution_count": 45,
   "metadata": {},
   "outputs": [
    {
     "data": {
      "text/plain": [
       "array([ True, False, False, ..., False, False, False])"
      ]
     },
     "execution_count": 45,
     "metadata": {},
     "output_type": "execute_result"
    }
   ],
   "source": [
    "anomalous_cases"
   ]
  },
  {
   "cell_type": "markdown",
   "metadata": {},
   "source": [
    "# Mapping"
   ]
  },
  {
   "cell_type": "markdown",
   "metadata": {},
   "source": [
    "### True: anomaly, False: no anomaly"
   ]
  },
  {
   "cell_type": "code",
   "execution_count": 46,
   "metadata": {},
   "outputs": [
    {
     "data": {
      "text/html": [
       "<div>\n",
       "<style scoped>\n",
       "    .dataframe tbody tr th:only-of-type {\n",
       "        vertical-align: middle;\n",
       "    }\n",
       "\n",
       "    .dataframe tbody tr th {\n",
       "        vertical-align: top;\n",
       "    }\n",
       "\n",
       "    .dataframe thead th {\n",
       "        text-align: right;\n",
       "    }\n",
       "</style>\n",
       "<table border=\"1\" class=\"dataframe\">\n",
       "  <thead>\n",
       "    <tr style=\"text-align: right;\">\n",
       "      <th></th>\n",
       "      <th>case</th>\n",
       "      <th>predicted</th>\n",
       "    </tr>\n",
       "  </thead>\n",
       "  <tbody>\n",
       "    <tr>\n",
       "      <th>0</th>\n",
       "      <td>0</td>\n",
       "      <td>True</td>\n",
       "    </tr>\n",
       "    <tr>\n",
       "      <th>1</th>\n",
       "      <td>0</td>\n",
       "      <td>False</td>\n",
       "    </tr>\n",
       "    <tr>\n",
       "      <th>2</th>\n",
       "      <td>0</td>\n",
       "      <td>False</td>\n",
       "    </tr>\n",
       "    <tr>\n",
       "      <th>3</th>\n",
       "      <td>0</td>\n",
       "      <td>True</td>\n",
       "    </tr>\n",
       "    <tr>\n",
       "      <th>4</th>\n",
       "      <td>0</td>\n",
       "      <td>False</td>\n",
       "    </tr>\n",
       "    <tr>\n",
       "      <th>...</th>\n",
       "      <td>...</td>\n",
       "      <td>...</td>\n",
       "    </tr>\n",
       "    <tr>\n",
       "      <th>22067</th>\n",
       "      <td>4999</td>\n",
       "      <td>False</td>\n",
       "    </tr>\n",
       "    <tr>\n",
       "      <th>22068</th>\n",
       "      <td>4999</td>\n",
       "      <td>False</td>\n",
       "    </tr>\n",
       "    <tr>\n",
       "      <th>22069</th>\n",
       "      <td>4999</td>\n",
       "      <td>False</td>\n",
       "    </tr>\n",
       "    <tr>\n",
       "      <th>22070</th>\n",
       "      <td>4999</td>\n",
       "      <td>False</td>\n",
       "    </tr>\n",
       "    <tr>\n",
       "      <th>22071</th>\n",
       "      <td>4999</td>\n",
       "      <td>False</td>\n",
       "    </tr>\n",
       "  </tbody>\n",
       "</table>\n",
       "<p>22072 rows × 2 columns</p>\n",
       "</div>"
      ],
      "text/plain": [
       "       case  predicted\n",
       "0         0       True\n",
       "1         0      False\n",
       "2         0      False\n",
       "3         0       True\n",
       "4         0      False\n",
       "...     ...        ...\n",
       "22067  4999      False\n",
       "22068  4999      False\n",
       "22069  4999      False\n",
       "22070  4999      False\n",
       "22071  4999      False\n",
       "\n",
       "[22072 rows x 2 columns]"
      ]
     },
     "execution_count": 46,
     "metadata": {},
     "output_type": "execute_result"
    }
   ],
   "source": [
    "import pandas as pd\n",
    "\n",
    "# Create a DataFrame from the case_indices_array corresponding to case_resource\n",
    "mapping = pd.DataFrame({'case': case_indices})\n",
    "mapping['predicted'] = anomalous_cases\n",
    "mapping"
   ]
  },
  {
   "cell_type": "code",
   "execution_count": 47,
   "metadata": {},
   "outputs": [
    {
     "data": {
      "text/plain": [
       "case\n",
       "0        True\n",
       "1       False\n",
       "2       False\n",
       "3       False\n",
       "4       False\n",
       "        ...  \n",
       "4995     True\n",
       "4996    False\n",
       "4997     True\n",
       "4998    False\n",
       "4999    False\n",
       "Name: predicted, Length: 5000, dtype: bool"
      ]
     },
     "execution_count": 47,
     "metadata": {},
     "output_type": "execute_result"
    }
   ],
   "source": [
    "case_prediction = mapping.groupby('case')['predicted'].any()\n",
    "case_prediction\n"
   ]
  },
  {
   "cell_type": "markdown",
   "metadata": {},
   "source": [
    "# Ground Truth"
   ]
  },
  {
   "cell_type": "code",
   "execution_count": 48,
   "metadata": {},
   "outputs": [],
   "source": [
    "def generate_alignments_adjusted_tracecost_pkl(log, net, initial_marking, final_marking):\n",
    "    from pm4py.algo.conformance.alignments.petri_net import algorithm as alignments\n",
    "    from pm4py.algo.conformance.alignments.petri_net import variants\n",
    "    from pm4py.objects.petri_net.utils import align_utils\n",
    "    max_events=0\n",
    "    for trace in log:\n",
    "        counter=0\n",
    "        for event in trace:\n",
    "            counter+=1\n",
    "        if counter > max_events:\n",
    "            max_events=counter\n",
    "    parameters={}\n",
    "    parameters[alignments.Variants.VERSION_STATE_EQUATION_A_STAR.value.Parameters.PARAM_SYNC_COST_FUNCTION] = list(map(lambda i: .1*i, range(max_events*2)))\n",
    "    parameters[alignments.Variants.VERSION_STATE_EQUATION_A_STAR.value.Parameters.PARAM_TRACE_COST_FUNCTION]=list(map(lambda i: align_utils.STD_MODEL_LOG_MOVE_COST-.1*i, range(max_events*2)))\n",
    "    aligned_traces = alignments.apply_log(log, net, initial_marking, final_marking, variant=variants.state_equation_a_star, parameters=parameters)\n",
    "    return aligned_traces"
   ]
  },
  {
   "cell_type": "code",
   "execution_count": 49,
   "metadata": {},
   "outputs": [
    {
     "data": {
      "application/vnd.jupyter.widget-view+json": {
       "model_id": "caa1a92f0dac4be9bcebe761f9de3736",
       "version_major": 2,
       "version_minor": 0
      },
      "text/plain": [
       "aligning log, completed variants ::   0%|          | 0/689 [00:00<?, ?it/s]"
      ]
     },
     "metadata": {},
     "output_type": "display_data"
    }
   ],
   "source": [
    "import pm4py\n",
    "from pm4py.objects.log.importer.xes import importer as xes_importer\n",
    "from pm4py.objects.bpmn.importer import importer as bpmn_importer\n",
    "from pm4py.algo.conformance.alignments.petri_net import algorithm as alignments_petri\n",
    "\n",
    "# 2. Import the given BPMN model\n",
    "bpmn_graph = bpmn_importer.apply(\"../../data/model/medium.bpmn\")\n",
    "\n",
    "# 3. Convert the BPMN to a Petri net\n",
    "net, initial_marking, final_marking = pm4py.convert_to_petri_net(bpmn_graph)\n",
    "\n",
    "aligned_traces = generate_alignments_adjusted_tracecost_pkl(log, net, initial_marking, final_marking)"
   ]
  },
  {
   "cell_type": "code",
   "execution_count": 50,
   "metadata": {},
   "outputs": [],
   "source": [
    "def extract_conformance_status_by_fitness(aligned_traces):\n",
    "    conformance_status = []\n",
    "    for alignment in aligned_traces:\n",
    "        fitness = alignment['fitness']\n",
    "        # If the fitness is 1.0, the trace is conforming\n",
    "        if fitness == 1.0:\n",
    "            conformance_status.append(1)\n",
    "        else:\n",
    "            conformance_status.append(0)\n",
    "    return conformance_status\n",
    "\n",
    "# Get the conformance status list from the aligned traces\n",
    "conformance = extract_conformance_status_by_fitness(aligned_traces)"
   ]
  },
  {
   "cell_type": "code",
   "execution_count": 51,
   "metadata": {},
   "outputs": [
    {
     "data": {
      "text/html": [
       "<div>\n",
       "<style scoped>\n",
       "    .dataframe tbody tr th:only-of-type {\n",
       "        vertical-align: middle;\n",
       "    }\n",
       "\n",
       "    .dataframe tbody tr th {\n",
       "        vertical-align: top;\n",
       "    }\n",
       "\n",
       "    .dataframe thead th {\n",
       "        text-align: right;\n",
       "    }\n",
       "</style>\n",
       "<table border=\"1\" class=\"dataframe\">\n",
       "  <thead>\n",
       "    <tr style=\"text-align: right;\">\n",
       "      <th></th>\n",
       "      <th>conformity</th>\n",
       "      <th>predicted</th>\n",
       "    </tr>\n",
       "  </thead>\n",
       "  <tbody>\n",
       "    <tr>\n",
       "      <th>0</th>\n",
       "      <td>0</td>\n",
       "      <td>0</td>\n",
       "    </tr>\n",
       "    <tr>\n",
       "      <th>1</th>\n",
       "      <td>1</td>\n",
       "      <td>1</td>\n",
       "    </tr>\n",
       "    <tr>\n",
       "      <th>2</th>\n",
       "      <td>0</td>\n",
       "      <td>1</td>\n",
       "    </tr>\n",
       "    <tr>\n",
       "      <th>3</th>\n",
       "      <td>0</td>\n",
       "      <td>1</td>\n",
       "    </tr>\n",
       "    <tr>\n",
       "      <th>4</th>\n",
       "      <td>1</td>\n",
       "      <td>1</td>\n",
       "    </tr>\n",
       "    <tr>\n",
       "      <th>...</th>\n",
       "      <td>...</td>\n",
       "      <td>...</td>\n",
       "    </tr>\n",
       "    <tr>\n",
       "      <th>4995</th>\n",
       "      <td>0</td>\n",
       "      <td>0</td>\n",
       "    </tr>\n",
       "    <tr>\n",
       "      <th>4996</th>\n",
       "      <td>0</td>\n",
       "      <td>1</td>\n",
       "    </tr>\n",
       "    <tr>\n",
       "      <th>4997</th>\n",
       "      <td>0</td>\n",
       "      <td>0</td>\n",
       "    </tr>\n",
       "    <tr>\n",
       "      <th>4998</th>\n",
       "      <td>1</td>\n",
       "      <td>1</td>\n",
       "    </tr>\n",
       "    <tr>\n",
       "      <th>4999</th>\n",
       "      <td>1</td>\n",
       "      <td>1</td>\n",
       "    </tr>\n",
       "  </tbody>\n",
       "</table>\n",
       "<p>5000 rows × 2 columns</p>\n",
       "</div>"
      ],
      "text/plain": [
       "      conformity  predicted\n",
       "0              0          0\n",
       "1              1          1\n",
       "2              0          1\n",
       "3              0          1\n",
       "4              1          1\n",
       "...          ...        ...\n",
       "4995           0          0\n",
       "4996           0          1\n",
       "4997           0          0\n",
       "4998           1          1\n",
       "4999           1          1\n",
       "\n",
       "[5000 rows x 2 columns]"
      ]
     },
     "execution_count": 51,
     "metadata": {},
     "output_type": "execute_result"
    }
   ],
   "source": [
    "ground_truth = pd.DataFrame({'conformity': conformance})\n",
    "ground_truth['predicted'] = case_prediction\n",
    "\n",
    "# Convert False to 0 and True to 1\n",
    "ground_truth['predicted'] = [int(value) for value in ground_truth['predicted']]\n",
    "ground_truth['predicted'] = 1 - ground_truth['predicted']\n",
    "ground_truth"
   ]
  },
  {
   "cell_type": "markdown",
   "metadata": {},
   "source": [
    "# Evaluation"
   ]
  },
  {
   "cell_type": "code",
   "execution_count": 52,
   "metadata": {},
   "outputs": [],
   "source": [
    "# Calculating TP, TN, FP, FN\n",
    "TP = ((ground_truth['conformity'] == 1) & (ground_truth['predicted'] == 1)).sum()\n",
    "TN = ((ground_truth['conformity'] == 0) & (ground_truth['predicted'] == 0)).sum()\n",
    "FP = ((ground_truth['conformity'] == 0) & (ground_truth['predicted'] == 1)).sum()\n",
    "FN = ((ground_truth['conformity'] == 1) & (ground_truth['predicted'] == 0)).sum()"
   ]
  },
  {
   "cell_type": "code",
   "execution_count": 53,
   "metadata": {},
   "outputs": [
    {
     "name": "stdout",
     "output_type": "stream",
     "text": [
      "Accuracy: 0.854\n"
     ]
    }
   ],
   "source": [
    "# Calculate accuracy\n",
    "accuracy = (TP + TN) / (TP + TN + FP + FN)\n",
    "print(f\"Accuracy: {accuracy:.3f}\")"
   ]
  },
  {
   "cell_type": "code",
   "execution_count": 54,
   "metadata": {},
   "outputs": [
    {
     "name": "stdout",
     "output_type": "stream",
     "text": [
      "F1: 0.913\n"
     ]
    }
   ],
   "source": [
    "# Calculate f1\n",
    "\n",
    "precision = TP / (TP + FP)\n",
    "recall = TP / (TP + FN)\n",
    "\n",
    "f1 = 2 * ((precision * recall) / (precision + recall))\n",
    "print(f\"F1: {f1:.3f}\")"
   ]
  },
  {
   "cell_type": "markdown",
   "metadata": {},
   "source": [
    "### Dev (Non Conform Traces)"
   ]
  },
  {
   "cell_type": "code",
   "execution_count": 55,
   "metadata": {},
   "outputs": [
    {
     "name": "stdout",
     "output_type": "stream",
     "text": [
      "Precision: 0.904\n"
     ]
    }
   ],
   "source": [
    "# Calculate precision for Dev\n",
    "precision = TN / (TN + FN)\n",
    "print(f\"Precision: {precision:.3f}\")"
   ]
  },
  {
   "cell_type": "code",
   "execution_count": 56,
   "metadata": {},
   "outputs": [
    {
     "name": "stdout",
     "output_type": "stream",
     "text": [
      "Recall: 0.405\n"
     ]
    }
   ],
   "source": [
    "# Calculate recall for Dev\n",
    "recall = TN / (TN + FP)\n",
    "print(f\"Recall: {recall:.3f}\")"
   ]
  },
  {
   "cell_type": "markdown",
   "metadata": {},
   "source": [
    "### No Dev (Conform Traces)"
   ]
  },
  {
   "cell_type": "code",
   "execution_count": 57,
   "metadata": {},
   "outputs": [
    {
     "name": "stdout",
     "output_type": "stream",
     "text": [
      "Precision: 0.848\n"
     ]
    }
   ],
   "source": [
    "# Calculate precision for No Dev\n",
    "precision = TP / (TP + FP)\n",
    "print(f\"Precision: {precision:.3f}\")"
   ]
  },
  {
   "cell_type": "code",
   "execution_count": 58,
   "metadata": {},
   "outputs": [
    {
     "name": "stdout",
     "output_type": "stream",
     "text": [
      "Recall: 0.987\n"
     ]
    }
   ],
   "source": [
    "# Calculate recall for No Dev\n",
    "recall = TP / (TP + FN)\n",
    "print(f\"Recall: {recall:.3f}\")"
   ]
  },
  {
   "cell_type": "markdown",
   "metadata": {},
   "source": [
    "### AUC"
   ]
  },
  {
   "cell_type": "code",
   "execution_count": 59,
   "metadata": {},
   "outputs": [
    {
     "data": {
      "text/plain": [
       "0.696185095737806"
      ]
     },
     "execution_count": 59,
     "metadata": {},
     "output_type": "execute_result"
    }
   ],
   "source": [
    "import pandas as pd\n",
    "from sklearn.metrics import roc_auc_score\n",
    "\n",
    "# Assuming ground_truth is your DataFrame\n",
    "# Make sure 'conformity' contains actual labels (0 or 1)\n",
    "# and 'predicted' contains predicted probabilities or scores\n",
    "auc_roc = roc_auc_score(ground_truth['conformity'], ground_truth['predicted'])\n",
    "auc_roc"
   ]
  }
 ],
 "metadata": {
  "kernelspec": {
   "display_name": "lstm",
   "language": "python",
   "name": "python3"
  },
  "language_info": {
   "codemirror_mode": {
    "name": "ipython",
    "version": 3
   },
   "file_extension": ".py",
   "mimetype": "text/x-python",
   "name": "python",
   "nbconvert_exporter": "python",
   "pygments_lexer": "ipython3",
   "version": "3.9.13"
  }
 },
 "nbformat": 4,
 "nbformat_minor": 2
}

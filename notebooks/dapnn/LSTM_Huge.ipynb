{
 "cells": [
  {
   "cell_type": "markdown",
   "metadata": {},
   "source": [
    "# Import Event Log"
   ]
  },
  {
   "cell_type": "code",
   "execution_count": 1,
   "metadata": {},
   "outputs": [
    {
     "name": "stderr",
     "output_type": "stream",
     "text": [
      "/var/folders/s_/ch_w_j2d0sqf6dbdc0_224m40000gq/T/ipykernel_14408/3140532738.py:11: DeprecatedWarning: format_dataframe is deprecated as of 2.3.0 and will be removed in 3.0.0. the format_dataframe function does not need application anymore.\n",
      "  dataframe_log = pm4py.format_dataframe(\n"
     ]
    }
   ],
   "source": [
    "import pandas as pd\n",
    "import numpy as np\n",
    "import pm4py\n",
    "from pm4py.objects.conversion.log import converter as log_converter\n",
    "\n",
    "if __name__ == \"__main__\":\n",
    "    # Read the CSV file\n",
    "    dataframe_log = pd.read_csv('../../data/logs/huge_log.csv', sep=',')\n",
    "\n",
    "    # Format the dataframe\n",
    "    dataframe_log = pm4py.format_dataframe(\n",
    "        dataframe_log,\n",
    "        case_id='case:concept:name',\n",
    "        activity_key='concept:name',\n",
    "        timestamp_key='time:timestamp'\n",
    "    )\n",
    "\n",
    "    # Convert the dataframe to event log\n",
    "    log = log_converter.apply(dataframe_log)"
   ]
  },
  {
   "cell_type": "code",
   "execution_count": 2,
   "metadata": {},
   "outputs": [
    {
     "data": {
      "text/html": [
       "<div>\n",
       "<style scoped>\n",
       "    .dataframe tbody tr th:only-of-type {\n",
       "        vertical-align: middle;\n",
       "    }\n",
       "\n",
       "    .dataframe tbody tr th {\n",
       "        vertical-align: top;\n",
       "    }\n",
       "\n",
       "    .dataframe thead th {\n",
       "        text-align: right;\n",
       "    }\n",
       "</style>\n",
       "<table border=\"1\" class=\"dataframe\">\n",
       "  <thead>\n",
       "    <tr style=\"text-align: right;\">\n",
       "      <th></th>\n",
       "      <th>concept:name</th>\n",
       "      <th>timestamp</th>\n",
       "      <th>time:timestamp</th>\n",
       "      <th>case:label</th>\n",
       "      <th>case:concept:name</th>\n",
       "      <th>org:resource</th>\n",
       "      <th>@@index</th>\n",
       "      <th>@@case_index</th>\n",
       "    </tr>\n",
       "  </thead>\n",
       "  <tbody>\n",
       "    <tr>\n",
       "      <th>0</th>\n",
       "      <td>Activity A</td>\n",
       "      <td>NaN</td>\n",
       "      <td>2010-01-01 00:00:00+00:00</td>\n",
       "      <td>Early</td>\n",
       "      <td>1</td>\n",
       "      <td>Velda</td>\n",
       "      <td>0</td>\n",
       "      <td>0</td>\n",
       "    </tr>\n",
       "    <tr>\n",
       "      <th>1</th>\n",
       "      <td>Activity AJ</td>\n",
       "      <td>NaN</td>\n",
       "      <td>2010-01-01 00:01:00+00:00</td>\n",
       "      <td>Early</td>\n",
       "      <td>1</td>\n",
       "      <td>Donald</td>\n",
       "      <td>1</td>\n",
       "      <td>0</td>\n",
       "    </tr>\n",
       "    <tr>\n",
       "      <th>2</th>\n",
       "      <td>Activity AI</td>\n",
       "      <td>NaN</td>\n",
       "      <td>2010-01-01 00:02:00+00:00</td>\n",
       "      <td>Early</td>\n",
       "      <td>1</td>\n",
       "      <td>Sharee</td>\n",
       "      <td>2</td>\n",
       "      <td>0</td>\n",
       "    </tr>\n",
       "    <tr>\n",
       "      <th>3</th>\n",
       "      <td>Activity AL</td>\n",
       "      <td>NaN</td>\n",
       "      <td>2010-01-01 00:04:00+00:00</td>\n",
       "      <td>Early</td>\n",
       "      <td>1</td>\n",
       "      <td>Rossana</td>\n",
       "      <td>3</td>\n",
       "      <td>0</td>\n",
       "    </tr>\n",
       "    <tr>\n",
       "      <th>4</th>\n",
       "      <td>Activity AM</td>\n",
       "      <td>NaN</td>\n",
       "      <td>2010-01-01 00:05:00+00:00</td>\n",
       "      <td>Early</td>\n",
       "      <td>1</td>\n",
       "      <td>Marilyn</td>\n",
       "      <td>4</td>\n",
       "      <td>0</td>\n",
       "    </tr>\n",
       "    <tr>\n",
       "      <th>...</th>\n",
       "      <td>...</td>\n",
       "      <td>...</td>\n",
       "      <td>...</td>\n",
       "      <td>...</td>\n",
       "      <td>...</td>\n",
       "      <td>...</td>\n",
       "      <td>...</td>\n",
       "      <td>...</td>\n",
       "    </tr>\n",
       "    <tr>\n",
       "      <th>43205</th>\n",
       "      <td>Activity H</td>\n",
       "      <td>NaN</td>\n",
       "      <td>2010-09-01 14:52:00+00:00</td>\n",
       "      <td>normal</td>\n",
       "      <td>999</td>\n",
       "      <td>James</td>\n",
       "      <td>43205</td>\n",
       "      <td>4999</td>\n",
       "    </tr>\n",
       "    <tr>\n",
       "      <th>43206</th>\n",
       "      <td>Activity F</td>\n",
       "      <td>NaN</td>\n",
       "      <td>2010-09-01 14:54:00+00:00</td>\n",
       "      <td>normal</td>\n",
       "      <td>999</td>\n",
       "      <td>Ronald</td>\n",
       "      <td>43206</td>\n",
       "      <td>4999</td>\n",
       "    </tr>\n",
       "    <tr>\n",
       "      <th>43207</th>\n",
       "      <td>Activity J</td>\n",
       "      <td>NaN</td>\n",
       "      <td>2010-09-01 14:55:00+00:00</td>\n",
       "      <td>normal</td>\n",
       "      <td>999</td>\n",
       "      <td>Tiffiny</td>\n",
       "      <td>43207</td>\n",
       "      <td>4999</td>\n",
       "    </tr>\n",
       "    <tr>\n",
       "      <th>43208</th>\n",
       "      <td>Activity K</td>\n",
       "      <td>NaN</td>\n",
       "      <td>2010-09-01 14:57:00+00:00</td>\n",
       "      <td>normal</td>\n",
       "      <td>999</td>\n",
       "      <td>Ryan</td>\n",
       "      <td>43208</td>\n",
       "      <td>4999</td>\n",
       "    </tr>\n",
       "    <tr>\n",
       "      <th>43209</th>\n",
       "      <td>Activity B</td>\n",
       "      <td>NaN</td>\n",
       "      <td>2010-09-01 14:58:00+00:00</td>\n",
       "      <td>normal</td>\n",
       "      <td>999</td>\n",
       "      <td>Alyce</td>\n",
       "      <td>43209</td>\n",
       "      <td>4999</td>\n",
       "    </tr>\n",
       "  </tbody>\n",
       "</table>\n",
       "<p>43210 rows × 8 columns</p>\n",
       "</div>"
      ],
      "text/plain": [
       "      concept:name  timestamp            time:timestamp case:label  \\\n",
       "0       Activity A        NaN 2010-01-01 00:00:00+00:00      Early   \n",
       "1      Activity AJ        NaN 2010-01-01 00:01:00+00:00      Early   \n",
       "2      Activity AI        NaN 2010-01-01 00:02:00+00:00      Early   \n",
       "3      Activity AL        NaN 2010-01-01 00:04:00+00:00      Early   \n",
       "4      Activity AM        NaN 2010-01-01 00:05:00+00:00      Early   \n",
       "...            ...        ...                       ...        ...   \n",
       "43205   Activity H        NaN 2010-09-01 14:52:00+00:00     normal   \n",
       "43206   Activity F        NaN 2010-09-01 14:54:00+00:00     normal   \n",
       "43207   Activity J        NaN 2010-09-01 14:55:00+00:00     normal   \n",
       "43208   Activity K        NaN 2010-09-01 14:57:00+00:00     normal   \n",
       "43209   Activity B        NaN 2010-09-01 14:58:00+00:00     normal   \n",
       "\n",
       "      case:concept:name org:resource  @@index  @@case_index  \n",
       "0                     1        Velda        0             0  \n",
       "1                     1       Donald        1             0  \n",
       "2                     1       Sharee        2             0  \n",
       "3                     1      Rossana        3             0  \n",
       "4                     1      Marilyn        4             0  \n",
       "...                 ...          ...      ...           ...  \n",
       "43205               999        James    43205          4999  \n",
       "43206               999       Ronald    43206          4999  \n",
       "43207               999      Tiffiny    43207          4999  \n",
       "43208               999         Ryan    43208          4999  \n",
       "43209               999        Alyce    43209          4999  \n",
       "\n",
       "[43210 rows x 8 columns]"
      ]
     },
     "execution_count": 2,
     "metadata": {},
     "output_type": "execute_result"
    }
   ],
   "source": [
    "dataframe_log"
   ]
  },
  {
   "cell_type": "markdown",
   "metadata": {},
   "source": [
    "# Drop unnessary columns"
   ]
  },
  {
   "cell_type": "code",
   "execution_count": 3,
   "metadata": {},
   "outputs": [],
   "source": [
    "dataframe_log = dataframe_log.drop(columns=['timestamp'])"
   ]
  },
  {
   "cell_type": "code",
   "execution_count": 4,
   "metadata": {},
   "outputs": [],
   "source": [
    "dataframe_log = dataframe_log.drop(columns=['case:concept:name'])"
   ]
  },
  {
   "cell_type": "code",
   "execution_count": 5,
   "metadata": {},
   "outputs": [],
   "source": [
    "dataframe_log = dataframe_log.drop(columns=['@@index'])"
   ]
  },
  {
   "cell_type": "code",
   "execution_count": 6,
   "metadata": {},
   "outputs": [],
   "source": [
    "from sklearn.preprocessing import StandardScaler\n",
    "\n",
    "# Convert to datetime format\n",
    "dataframe_log['time:timestamp'] = pd.to_datetime(dataframe_log['time:timestamp'])\n",
    "\n",
    "# Calculate elapsed time since the start of each case\n",
    "dataframe_log['start_time'] = dataframe_log.groupby('@@case_index')['time:timestamp'].transform('min')\n",
    "dataframe_log['elapsed_time'] = (dataframe_log['time:timestamp'] - dataframe_log['start_time']).dt.total_seconds()\n",
    "\n",
    "# Normalize the elapsed time in minutes\n",
    "scaler = StandardScaler()\n",
    "dataframe_log['standardized_elapsed_time'] = scaler.fit_transform(dataframe_log[['elapsed_time']])\n",
    "\n",
    "dataframe_log = dataframe_log.drop(columns=['start_time'])\n",
    "dataframe_log = dataframe_log.drop(columns=['elapsed_time'])\n",
    "dataframe_log = dataframe_log.drop(columns=['time:timestamp'])"
   ]
  },
  {
   "cell_type": "code",
   "execution_count": 7,
   "metadata": {},
   "outputs": [
    {
     "data": {
      "text/html": [
       "<div>\n",
       "<style scoped>\n",
       "    .dataframe tbody tr th:only-of-type {\n",
       "        vertical-align: middle;\n",
       "    }\n",
       "\n",
       "    .dataframe tbody tr th {\n",
       "        vertical-align: top;\n",
       "    }\n",
       "\n",
       "    .dataframe thead th {\n",
       "        text-align: right;\n",
       "    }\n",
       "</style>\n",
       "<table border=\"1\" class=\"dataframe\">\n",
       "  <thead>\n",
       "    <tr style=\"text-align: right;\">\n",
       "      <th></th>\n",
       "      <th>concept:name</th>\n",
       "      <th>case:label</th>\n",
       "      <th>org:resource</th>\n",
       "      <th>@@case_index</th>\n",
       "      <th>standardized_elapsed_time</th>\n",
       "    </tr>\n",
       "  </thead>\n",
       "  <tbody>\n",
       "    <tr>\n",
       "      <th>0</th>\n",
       "      <td>Activity A</td>\n",
       "      <td>Early</td>\n",
       "      <td>Velda</td>\n",
       "      <td>0</td>\n",
       "      <td>-0.025671</td>\n",
       "    </tr>\n",
       "    <tr>\n",
       "      <th>1</th>\n",
       "      <td>Activity AJ</td>\n",
       "      <td>Early</td>\n",
       "      <td>Donald</td>\n",
       "      <td>0</td>\n",
       "      <td>-0.025519</td>\n",
       "    </tr>\n",
       "    <tr>\n",
       "      <th>2</th>\n",
       "      <td>Activity AI</td>\n",
       "      <td>Early</td>\n",
       "      <td>Sharee</td>\n",
       "      <td>0</td>\n",
       "      <td>-0.025367</td>\n",
       "    </tr>\n",
       "    <tr>\n",
       "      <th>3</th>\n",
       "      <td>Activity AL</td>\n",
       "      <td>Early</td>\n",
       "      <td>Rossana</td>\n",
       "      <td>0</td>\n",
       "      <td>-0.025063</td>\n",
       "    </tr>\n",
       "    <tr>\n",
       "      <th>4</th>\n",
       "      <td>Activity AM</td>\n",
       "      <td>Early</td>\n",
       "      <td>Marilyn</td>\n",
       "      <td>0</td>\n",
       "      <td>-0.024911</td>\n",
       "    </tr>\n",
       "    <tr>\n",
       "      <th>...</th>\n",
       "      <td>...</td>\n",
       "      <td>...</td>\n",
       "      <td>...</td>\n",
       "      <td>...</td>\n",
       "      <td>...</td>\n",
       "    </tr>\n",
       "    <tr>\n",
       "      <th>43205</th>\n",
       "      <td>Activity H</td>\n",
       "      <td>normal</td>\n",
       "      <td>James</td>\n",
       "      <td>4999</td>\n",
       "      <td>-0.024911</td>\n",
       "    </tr>\n",
       "    <tr>\n",
       "      <th>43206</th>\n",
       "      <td>Activity F</td>\n",
       "      <td>normal</td>\n",
       "      <td>Ronald</td>\n",
       "      <td>4999</td>\n",
       "      <td>-0.024607</td>\n",
       "    </tr>\n",
       "    <tr>\n",
       "      <th>43207</th>\n",
       "      <td>Activity J</td>\n",
       "      <td>normal</td>\n",
       "      <td>Tiffiny</td>\n",
       "      <td>4999</td>\n",
       "      <td>-0.024455</td>\n",
       "    </tr>\n",
       "    <tr>\n",
       "      <th>43208</th>\n",
       "      <td>Activity K</td>\n",
       "      <td>normal</td>\n",
       "      <td>Ryan</td>\n",
       "      <td>4999</td>\n",
       "      <td>-0.024151</td>\n",
       "    </tr>\n",
       "    <tr>\n",
       "      <th>43209</th>\n",
       "      <td>Activity B</td>\n",
       "      <td>normal</td>\n",
       "      <td>Alyce</td>\n",
       "      <td>4999</td>\n",
       "      <td>-0.024000</td>\n",
       "    </tr>\n",
       "  </tbody>\n",
       "</table>\n",
       "<p>43210 rows × 5 columns</p>\n",
       "</div>"
      ],
      "text/plain": [
       "      concept:name case:label org:resource  @@case_index  \\\n",
       "0       Activity A      Early        Velda             0   \n",
       "1      Activity AJ      Early       Donald             0   \n",
       "2      Activity AI      Early       Sharee             0   \n",
       "3      Activity AL      Early      Rossana             0   \n",
       "4      Activity AM      Early      Marilyn             0   \n",
       "...            ...        ...          ...           ...   \n",
       "43205   Activity H     normal        James          4999   \n",
       "43206   Activity F     normal       Ronald          4999   \n",
       "43207   Activity J     normal      Tiffiny          4999   \n",
       "43208   Activity K     normal         Ryan          4999   \n",
       "43209   Activity B     normal        Alyce          4999   \n",
       "\n",
       "       standardized_elapsed_time  \n",
       "0                      -0.025671  \n",
       "1                      -0.025519  \n",
       "2                      -0.025367  \n",
       "3                      -0.025063  \n",
       "4                      -0.024911  \n",
       "...                          ...  \n",
       "43205                  -0.024911  \n",
       "43206                  -0.024607  \n",
       "43207                  -0.024455  \n",
       "43208                  -0.024151  \n",
       "43209                  -0.024000  \n",
       "\n",
       "[43210 rows x 5 columns]"
      ]
     },
     "execution_count": 7,
     "metadata": {},
     "output_type": "execute_result"
    }
   ],
   "source": [
    "dataframe_log"
   ]
  },
  {
   "cell_type": "markdown",
   "metadata": {},
   "source": [
    "# Insert Start & End markers"
   ]
  },
  {
   "cell_type": "code",
   "execution_count": 8,
   "metadata": {},
   "outputs": [],
   "source": [
    "# Define a function to insert start and end markers\n",
    "def add_markers(df):\n",
    "    # Identify unique case indices\n",
    "    case_indices = df['@@case_index'].unique()\n",
    "    \n",
    "    # Prepare a container for new DataFrame rows\n",
    "    new_rows = []\n",
    "    \n",
    "    # Iterate over each case index to add start and end markers\n",
    "    for case_index in case_indices:\n",
    "        # Create a start marker row with all columns except @@case_index set to 'Start'\n",
    "        start_row = {col: 'Start' if col != '@@case_index' else case_index for col in df.columns}\n",
    "        \n",
    "        # Create an end marker row with all columns except @@case_index set to 'End'\n",
    "        end_row = {col: 'End' if col != '@@case_index' else case_index for col in df.columns}\n",
    "        \n",
    "        # Append start row, rows for the current case, and end row\n",
    "        new_rows.append(start_row)\n",
    "        new_rows.extend(df[df['@@case_index'] == case_index].to_dict('records'))\n",
    "        new_rows.append(end_row)\n",
    "    \n",
    "    # Convert the list of rows into a DataFrame\n",
    "    return pd.DataFrame(new_rows)\n",
    "\n",
    "# Apply the function to add start and end markers to the dataframe\n",
    "modified_dataframe = add_markers(dataframe_log)"
   ]
  },
  {
   "cell_type": "markdown",
   "metadata": {},
   "source": [
    "# Preprocess"
   ]
  },
  {
   "cell_type": "code",
   "execution_count": 9,
   "metadata": {},
   "outputs": [],
   "source": [
    "modified_dataframe['standardized_elapsed_time'] = modified_dataframe['standardized_elapsed_time'].replace({'Start': 0, 'End': 1})"
   ]
  },
  {
   "cell_type": "code",
   "execution_count": 10,
   "metadata": {},
   "outputs": [],
   "source": [
    "codes, uniques = pd.factorize(modified_dataframe['org:resource'])\n",
    "modified_dataframe['org:resource'] = codes"
   ]
  },
  {
   "cell_type": "code",
   "execution_count": 11,
   "metadata": {},
   "outputs": [],
   "source": [
    "codes, uniques = pd.factorize(modified_dataframe['concept:name'])\n",
    "modified_dataframe['concept:name'] = codes"
   ]
  },
  {
   "cell_type": "markdown",
   "metadata": {},
   "source": [
    "### Padding for Cases with less then 5 events"
   ]
  },
  {
   "cell_type": "code",
   "execution_count": 12,
   "metadata": {},
   "outputs": [
    {
     "data": {
      "text/plain": [
       "5"
      ]
     },
     "execution_count": 12,
     "metadata": {},
     "output_type": "execute_result"
    }
   ],
   "source": [
    "# Calculating the frequency of each unique value in '@@case_index'\n",
    "frequency = modified_dataframe['@@case_index'].value_counts()\n",
    "\n",
    "# Finding the minimum occurrence\n",
    "min_occurrence = frequency.min()\n",
    "\n",
    "min_occurrence"
   ]
  },
  {
   "cell_type": "markdown",
   "metadata": {},
   "source": [
    "# Generate sliding windows"
   ]
  },
  {
   "cell_type": "code",
   "execution_count": 13,
   "metadata": {},
   "outputs": [],
   "source": [
    "df_resource = modified_dataframe[['org:resource', '@@case_index']]\n",
    "df_activity = modified_dataframe[['concept:name', '@@case_index']]\n",
    "df_timestamp = modified_dataframe[['standardized_elapsed_time', '@@case_index']]"
   ]
  },
  {
   "cell_type": "code",
   "execution_count": 14,
   "metadata": {},
   "outputs": [],
   "source": [
    "def generate_sliding_windows(df, case_id_column='@@case_index', window_size=5):\n",
    "    windows = []\n",
    "    targets = []\n",
    "    case_indices = []\n",
    "\n",
    "    # Iterate over each unique case\n",
    "    for case_id in df[case_id_column].unique():\n",
    "        # Extract the case\n",
    "        case_data = df[df[case_id_column] == case_id]\n",
    "        \n",
    "        # Convert case_data to a NumPy array and drop the case_id_column\n",
    "        case_data_array = case_data.drop(columns=[case_id_column]).to_numpy()\n",
    "\n",
    "        # Adjusting the condition to correctly reflect window_size without needing an additional +1\n",
    "        # Now it correctly considers window_size as including the target event\n",
    "        if len(case_data_array) >= window_size:\n",
    "            # Adjust the loop to generate sliding windows of size window_size - 1 for the inputs and use the next event as the target\n",
    "            for i in range(len(case_data_array) - window_size + 1):\n",
    "                # window now has window_size - 1 events\n",
    "                window = case_data_array[i:i + window_size - 1]\n",
    "                # The target is the event immediately following the window\n",
    "                target = case_data_array[i + window_size - 1]\n",
    "                windows.append(window)\n",
    "                targets.append(target)\n",
    "                case_indices.append(case_id)  # Store the case_id corresponding to the window\n",
    "\n",
    "    # Convert lists to numpy arrays for easier handling and to ensure they are two-dimensional\n",
    "    windows_array = np.array(windows)\n",
    "    targets_array = np.array(targets)\n",
    "    case_indices_array = np.array(case_indices)\n",
    "    \n",
    "    return windows_array, targets_array, case_indices_array"
   ]
  },
  {
   "cell_type": "code",
   "execution_count": 15,
   "metadata": {},
   "outputs": [],
   "source": [
    "windows_resource, targets_resource, case_indices = generate_sliding_windows(df_resource)\n",
    "windows_activity, targets_activity, case_indices = generate_sliding_windows(df_activity)\n",
    "windows_timestamp, targets_timestamp, case_indices = generate_sliding_windows(df_timestamp)"
   ]
  },
  {
   "cell_type": "markdown",
   "metadata": {},
   "source": [
    "# LSTM"
   ]
  },
  {
   "cell_type": "markdown",
   "metadata": {},
   "source": [
    "### Architecture"
   ]
  },
  {
   "cell_type": "code",
   "execution_count": 16,
   "metadata": {},
   "outputs": [
    {
     "name": "stderr",
     "output_type": "stream",
     "text": [
      "2024-06-29 17:03:44.015414: I tensorflow/core/platform/cpu_feature_guard.cc:182] This TensorFlow binary is optimized to use available CPU instructions in performance-critical operations.\n",
      "To enable the following instructions: AVX2 FMA, in other operations, rebuild TensorFlow with the appropriate compiler flags.\n"
     ]
    },
    {
     "name": "stdout",
     "output_type": "stream",
     "text": [
      "Model: \"model\"\n",
      "__________________________________________________________________________________________________\n",
      " Layer (type)                Output Shape                 Param #   Connected to                  \n",
      "==================================================================================================\n",
      " input_resource (InputLayer  [(None, 4)]                  0         []                            \n",
      " )                                                                                                \n",
      "                                                                                                  \n",
      " input_activity (InputLayer  [(None, 4)]                  0         []                            \n",
      " )                                                                                                \n",
      "                                                                                                  \n",
      " embedding (Embedding)       (None, 4, 50)                7050      ['input_resource[0][0]']      \n",
      "                                                                                                  \n",
      " embedding_1 (Embedding)     (None, 4, 50)                5450      ['input_activity[0][0]']      \n",
      "                                                                                                  \n",
      " input_timestamp (InputLaye  [(None, 4, 1)]               0         []                            \n",
      " r)                                                                                               \n",
      "                                                                                                  \n",
      " lstm (LSTM)                 (None, 25)                   7600      ['embedding[0][0]']           \n",
      "                                                                                                  \n",
      " lstm_1 (LSTM)               (None, 25)                   7600      ['embedding_1[0][0]']         \n",
      "                                                                                                  \n",
      " lstm_2 (LSTM)               (None, 25)                   2700      ['input_timestamp[0][0]']     \n",
      "                                                                                                  \n",
      " concatenate (Concatenate)   (None, 75)                   0         ['lstm[0][0]',                \n",
      "                                                                     'lstm_1[0][0]',              \n",
      "                                                                     'lstm_2[0][0]']              \n",
      "                                                                                                  \n",
      " output_resource (Dense)     (None, 141)                  10716     ['concatenate[0][0]']         \n",
      "                                                                                                  \n",
      " output_activity (Dense)     (None, 109)                  8284      ['concatenate[0][0]']         \n",
      "                                                                                                  \n",
      " output_timestamp (Dense)    (None, 1)                    76        ['concatenate[0][0]']         \n",
      "                                                                                                  \n",
      "==================================================================================================\n",
      "Total params: 49476 (193.27 KB)\n",
      "Trainable params: 49476 (193.27 KB)\n",
      "Non-trainable params: 0 (0.00 Byte)\n",
      "__________________________________________________________________________________________________\n"
     ]
    }
   ],
   "source": [
    "from tensorflow.keras.models import Model\n",
    "from tensorflow.keras.layers import Input, LSTM, Dense, Concatenate, Embedding\n",
    "\n",
    "# Assuming these values as placeholders, replace them with actual counts from your data\n",
    "num_resources = modified_dataframe['org:resource'].nunique()\n",
    "num_activities = modified_dataframe['concept:name'].nunique()\n",
    "\n",
    "embedding_dim_resource = 50\n",
    "embedding_dim_activity = 50\n",
    "\n",
    "time_steps = 4\n",
    "\n",
    "# Input layers\n",
    "input_resource = Input(shape=(time_steps,), name='input_resource')\n",
    "input_activity = Input(shape=(time_steps,), name='input_activity')\n",
    "input_timestamp = Input(shape=(time_steps, 1), name='input_timestamp')\n",
    "\n",
    "# Embedding layers\n",
    "embedding_resource = Embedding(input_dim=num_resources, output_dim=embedding_dim_resource, input_length=time_steps)(input_resource)\n",
    "embedding_activity = Embedding(input_dim=num_activities, output_dim=embedding_dim_activity, input_length=time_steps)(input_activity)\n",
    "\n",
    "# LSTM layers\n",
    "lstm_resource = LSTM(25, return_sequences=False)(embedding_resource)\n",
    "lstm_activity = LSTM(25, return_sequences=False)(embedding_activity)\n",
    "lstm_timestamp = LSTM(25, return_sequences=False)(input_timestamp)\n",
    "\n",
    "# Concatenate outputs\n",
    "concatenated = Concatenate(axis=-1)([lstm_resource, lstm_activity, lstm_timestamp])\n",
    "\n",
    "# Output layers\n",
    "output_resource = Dense(num_resources, activation='softmax', name='output_resource')(concatenated)\n",
    "output_activity = Dense(num_activities, activation='softmax', name='output_activity')(concatenated)\n",
    "output_timestamp = Dense(1, activation='linear', name='output_timestamp')(concatenated)\n",
    "\n",
    "# Create and compile the model\n",
    "model = Model(inputs=[input_resource, input_activity, input_timestamp], \n",
    "              outputs=[output_resource, output_activity, output_timestamp])\n",
    "\n",
    "model.compile(optimizer='adam', \n",
    "              loss={'output_resource': 'categorical_crossentropy', \n",
    "                    'output_activity': 'categorical_crossentropy', \n",
    "                    'output_timestamp': 'mean_squared_error'},\n",
    "              metrics={'output_resource': 'accuracy', \n",
    "                       'output_activity': 'accuracy', \n",
    "                       'output_timestamp': 'mean_absolute_error'})\n",
    "\n",
    "model.summary()"
   ]
  },
  {
   "cell_type": "markdown",
   "metadata": {},
   "source": [
    "# Data Splitting"
   ]
  },
  {
   "cell_type": "code",
   "execution_count": 17,
   "metadata": {},
   "outputs": [],
   "source": [
    "from sklearn.model_selection import train_test_split\n",
    "\n",
    "# Split the resource data\n",
    "train_resource, test_resource, train_targets_resource, test_targets_resource = train_test_split(\n",
    "    windows_resource, targets_resource, test_size=0.3, random_state=42)\n",
    "\n",
    "# Split the activity data\n",
    "train_activity, test_activity, train_targets_activity, test_targets_activity = train_test_split(\n",
    "    windows_activity, targets_activity, test_size=0.3, random_state=42)\n",
    "\n",
    "# Split the timestamp data\n",
    "train_timestamp, test_timestamp, train_targets_timestamp, test_targets_timestamp = train_test_split(\n",
    "    windows_timestamp, targets_timestamp, test_size=0.3, random_state=42)"
   ]
  },
  {
   "cell_type": "markdown",
   "metadata": {},
   "source": [
    "# Training"
   ]
  },
  {
   "cell_type": "code",
   "execution_count": 18,
   "metadata": {},
   "outputs": [],
   "source": [
    "from tensorflow.keras.callbacks import EarlyStopping\n",
    "from tensorflow.keras.callbacks import LearningRateScheduler\n",
    "\n",
    "# EarlyStopping callback\n",
    "early_stopping = EarlyStopping(monitor='val_loss', patience=3, restore_best_weights=True)\n",
    "\n",
    "def cyclic_lr(epoch, lr):\n",
    "    # Example function that modulates LR within a range for each epoch\n",
    "    # Customize this function based on your cyclic learning rate policy\n",
    "    max_lr = 0.01  # Maximum LR\n",
    "    base_lr = 0.001  # Base LR\n",
    "    step_size = 10  # Number of epochs for half a cycle\n",
    "    cycle = np.floor(1 + epoch / (2 * step_size))\n",
    "    x = np.abs(epoch / step_size - 2 * cycle + 1)\n",
    "    lr = base_lr + (max_lr - base_lr) * np.maximum(0, (1 - x))\n",
    "    return lr\n",
    "\n",
    "lr_scheduler = LearningRateScheduler(cyclic_lr)"
   ]
  },
  {
   "cell_type": "code",
   "execution_count": 19,
   "metadata": {},
   "outputs": [
    {
     "name": "stdout",
     "output_type": "stream",
     "text": [
      "Epoch 1/25\n",
      "364/364 [==============================] - 11s 10ms/step - loss: 6.0318 - output_resource_loss: 3.0044 - output_activity_loss: 2.2596 - output_timestamp_loss: 0.7677 - output_resource_accuracy: 0.3030 - output_activity_accuracy: 0.5069 - output_timestamp_mean_absolute_error: 0.1926 - val_loss: 4.7963 - val_output_resource_loss: 2.1453 - val_output_activity_loss: 1.1402 - val_output_timestamp_loss: 1.5108 - val_output_resource_accuracy: 0.4611 - val_output_activity_accuracy: 0.7807 - val_output_timestamp_mean_absolute_error: 0.1467 - lr: 0.0010\n",
      "Epoch 2/25\n",
      "364/364 [==============================] - 2s 6ms/step - loss: 3.1951 - output_resource_loss: 1.7993 - output_activity_loss: 0.7407 - output_timestamp_loss: 0.6551 - output_resource_accuracy: 0.5361 - output_activity_accuracy: 0.8488 - output_timestamp_mean_absolute_error: 0.1228 - val_loss: 3.4825 - val_output_resource_loss: 1.6013 - val_output_activity_loss: 0.5679 - val_output_timestamp_loss: 1.3133 - val_output_resource_accuracy: 0.5807 - val_output_activity_accuracy: 0.8872 - val_output_timestamp_mean_absolute_error: 0.0939 - lr: 0.0019\n",
      "Epoch 3/25\n",
      "364/364 [==============================] - 2s 6ms/step - loss: 2.4850 - output_resource_loss: 1.4477 - output_activity_loss: 0.4387 - output_timestamp_loss: 0.5986 - output_resource_accuracy: 0.5966 - output_activity_accuracy: 0.9175 - output_timestamp_mean_absolute_error: 0.1023 - val_loss: 3.0605 - val_output_resource_loss: 1.3955 - val_output_activity_loss: 0.4224 - val_output_timestamp_loss: 1.2426 - val_output_resource_accuracy: 0.6149 - val_output_activity_accuracy: 0.9244 - val_output_timestamp_mean_absolute_error: 0.0960 - lr: 0.0028\n",
      "Epoch 4/25\n",
      "364/364 [==============================] - 2s 5ms/step - loss: 2.2202 - output_resource_loss: 1.3035 - output_activity_loss: 0.3581 - output_timestamp_loss: 0.5587 - output_resource_accuracy: 0.6173 - output_activity_accuracy: 0.9341 - output_timestamp_mean_absolute_error: 0.1008 - val_loss: 2.8370 - val_output_resource_loss: 1.3250 - val_output_activity_loss: 0.3790 - val_output_timestamp_loss: 1.1331 - val_output_resource_accuracy: 0.6170 - val_output_activity_accuracy: 0.9349 - val_output_timestamp_mean_absolute_error: 0.0774 - lr: 0.0037\n",
      "Epoch 5/25\n",
      "364/364 [==============================] - 3s 7ms/step - loss: 2.0695 - output_resource_loss: 1.2308 - output_activity_loss: 0.3211 - output_timestamp_loss: 0.5176 - output_resource_accuracy: 0.6287 - output_activity_accuracy: 0.9412 - output_timestamp_mean_absolute_error: 0.1001 - val_loss: 2.7875 - val_output_resource_loss: 1.2728 - val_output_activity_loss: 0.3609 - val_output_timestamp_loss: 1.1538 - val_output_resource_accuracy: 0.6317 - val_output_activity_accuracy: 0.9405 - val_output_timestamp_mean_absolute_error: 0.0986 - lr: 0.0046\n",
      "Epoch 6/25\n",
      "364/364 [==============================] - 2s 7ms/step - loss: 2.0108 - output_resource_loss: 1.1812 - output_activity_loss: 0.2993 - output_timestamp_loss: 0.5303 - output_resource_accuracy: 0.6365 - output_activity_accuracy: 0.9444 - output_timestamp_mean_absolute_error: 0.0992 - val_loss: 2.7231 - val_output_resource_loss: 1.2582 - val_output_activity_loss: 0.3535 - val_output_timestamp_loss: 1.1114 - val_output_resource_accuracy: 0.6352 - val_output_activity_accuracy: 0.9400 - val_output_timestamp_mean_absolute_error: 0.1545 - lr: 0.0055\n",
      "Epoch 7/25\n",
      "364/364 [==============================] - 2s 7ms/step - loss: 1.9211 - output_resource_loss: 1.1520 - output_activity_loss: 0.2831 - output_timestamp_loss: 0.4860 - output_resource_accuracy: 0.6410 - output_activity_accuracy: 0.9486 - output_timestamp_mean_absolute_error: 0.1023 - val_loss: 2.5590 - val_output_resource_loss: 1.2515 - val_output_activity_loss: 0.3404 - val_output_timestamp_loss: 0.9671 - val_output_resource_accuracy: 0.6087 - val_output_activity_accuracy: 0.9447 - val_output_timestamp_mean_absolute_error: 0.0984 - lr: 0.0064\n",
      "Epoch 8/25\n",
      "364/364 [==============================] - 2s 5ms/step - loss: 1.8790 - output_resource_loss: 1.1272 - output_activity_loss: 0.2700 - output_timestamp_loss: 0.4818 - output_resource_accuracy: 0.6426 - output_activity_accuracy: 0.9504 - output_timestamp_mean_absolute_error: 0.1099 - val_loss: 2.5766 - val_output_resource_loss: 1.2263 - val_output_activity_loss: 0.3357 - val_output_timestamp_loss: 1.0145 - val_output_resource_accuracy: 0.6388 - val_output_activity_accuracy: 0.9460 - val_output_timestamp_mean_absolute_error: 0.0961 - lr: 0.0073\n",
      "Epoch 9/25\n",
      "364/364 [==============================] - 2s 6ms/step - loss: 1.8209 - output_resource_loss: 1.1057 - output_activity_loss: 0.2592 - output_timestamp_loss: 0.4560 - output_resource_accuracy: 0.6451 - output_activity_accuracy: 0.9520 - output_timestamp_mean_absolute_error: 0.1103 - val_loss: 2.4185 - val_output_resource_loss: 1.2469 - val_output_activity_loss: 0.3424 - val_output_timestamp_loss: 0.8292 - val_output_resource_accuracy: 0.6188 - val_output_activity_accuracy: 0.9415 - val_output_timestamp_mean_absolute_error: 0.0876 - lr: 0.0082\n",
      "Epoch 10/25\n",
      "364/364 [==============================] - 3s 7ms/step - loss: 1.7908 - output_resource_loss: 1.0944 - output_activity_loss: 0.2533 - output_timestamp_loss: 0.4430 - output_resource_accuracy: 0.6452 - output_activity_accuracy: 0.9528 - output_timestamp_mean_absolute_error: 0.0962 - val_loss: 2.5088 - val_output_resource_loss: 1.2517 - val_output_activity_loss: 0.3410 - val_output_timestamp_loss: 0.9161 - val_output_resource_accuracy: 0.6315 - val_output_activity_accuracy: 0.9438 - val_output_timestamp_mean_absolute_error: 0.3082 - lr: 0.0091\n",
      "Epoch 11/25\n",
      "364/364 [==============================] - 3s 7ms/step - loss: 1.8220 - output_resource_loss: 1.0899 - output_activity_loss: 0.2490 - output_timestamp_loss: 0.4831 - output_resource_accuracy: 0.6492 - output_activity_accuracy: 0.9536 - output_timestamp_mean_absolute_error: 0.1221 - val_loss: 2.5472 - val_output_resource_loss: 1.2612 - val_output_activity_loss: 0.3411 - val_output_timestamp_loss: 0.9449 - val_output_resource_accuracy: 0.6064 - val_output_activity_accuracy: 0.9447 - val_output_timestamp_mean_absolute_error: 0.1882 - lr: 0.0100\n",
      "Epoch 12/25\n",
      "364/364 [==============================] - 2s 6ms/step - loss: 1.7415 - output_resource_loss: 1.0632 - output_activity_loss: 0.2385 - output_timestamp_loss: 0.4398 - output_resource_accuracy: 0.6501 - output_activity_accuracy: 0.9541 - output_timestamp_mean_absolute_error: 0.1275 - val_loss: 2.4780 - val_output_resource_loss: 1.2487 - val_output_activity_loss: 0.3533 - val_output_timestamp_loss: 0.8760 - val_output_resource_accuracy: 0.6232 - val_output_activity_accuracy: 0.9450 - val_output_timestamp_mean_absolute_error: 0.1026 - lr: 0.0091\n",
      "Epoch 13/25\n",
      "364/364 [==============================] - 2s 6ms/step - loss: 1.6775 - output_resource_loss: 1.0351 - output_activity_loss: 0.2287 - output_timestamp_loss: 0.4138 - output_resource_accuracy: 0.6570 - output_activity_accuracy: 0.9563 - output_timestamp_mean_absolute_error: 0.1024 - val_loss: 2.3346 - val_output_resource_loss: 1.2391 - val_output_activity_loss: 0.3378 - val_output_timestamp_loss: 0.7577 - val_output_resource_accuracy: 0.6328 - val_output_activity_accuracy: 0.9458 - val_output_timestamp_mean_absolute_error: 0.1112 - lr: 0.0082\n",
      "Epoch 14/25\n",
      "364/364 [==============================] - 2s 6ms/step - loss: 1.5970 - output_resource_loss: 1.0118 - output_activity_loss: 0.2178 - output_timestamp_loss: 0.3674 - output_resource_accuracy: 0.6630 - output_activity_accuracy: 0.9578 - output_timestamp_mean_absolute_error: 0.1137 - val_loss: 2.2511 - val_output_resource_loss: 1.2358 - val_output_activity_loss: 0.3409 - val_output_timestamp_loss: 0.6745 - val_output_resource_accuracy: 0.6179 - val_output_activity_accuracy: 0.9479 - val_output_timestamp_mean_absolute_error: 0.0907 - lr: 0.0073\n",
      "Epoch 15/25\n",
      "364/364 [==============================] - 2s 6ms/step - loss: 1.5325 - output_resource_loss: 0.9882 - output_activity_loss: 0.2080 - output_timestamp_loss: 0.3363 - output_resource_accuracy: 0.6697 - output_activity_accuracy: 0.9593 - output_timestamp_mean_absolute_error: 0.0967 - val_loss: 2.1682 - val_output_resource_loss: 1.2285 - val_output_activity_loss: 0.3440 - val_output_timestamp_loss: 0.5956 - val_output_resource_accuracy: 0.6431 - val_output_activity_accuracy: 0.9446 - val_output_timestamp_mean_absolute_error: 0.1312 - lr: 0.0064\n",
      "Epoch 16/25\n",
      "364/364 [==============================] - 2s 7ms/step - loss: 1.4993 - output_resource_loss: 0.9682 - output_activity_loss: 0.1999 - output_timestamp_loss: 0.3312 - output_resource_accuracy: 0.6730 - output_activity_accuracy: 0.9616 - output_timestamp_mean_absolute_error: 0.1046 - val_loss: 2.1389 - val_output_resource_loss: 1.2375 - val_output_activity_loss: 0.3518 - val_output_timestamp_loss: 0.5496 - val_output_resource_accuracy: 0.6410 - val_output_activity_accuracy: 0.9466 - val_output_timestamp_mean_absolute_error: 0.0976 - lr: 0.0055\n",
      "Epoch 17/25\n",
      "364/364 [==============================] - 2s 7ms/step - loss: 1.4406 - output_resource_loss: 0.9487 - output_activity_loss: 0.1933 - output_timestamp_loss: 0.2986 - output_resource_accuracy: 0.6797 - output_activity_accuracy: 0.9634 - output_timestamp_mean_absolute_error: 0.0872 - val_loss: 2.0772 - val_output_resource_loss: 1.2333 - val_output_activity_loss: 0.3445 - val_output_timestamp_loss: 0.4995 - val_output_resource_accuracy: 0.6315 - val_output_activity_accuracy: 0.9455 - val_output_timestamp_mean_absolute_error: 0.1053 - lr: 0.0046\n",
      "Epoch 18/25\n",
      "364/364 [==============================] - 3s 8ms/step - loss: 1.3955 - output_resource_loss: 0.9309 - output_activity_loss: 0.1858 - output_timestamp_loss: 0.2787 - output_resource_accuracy: 0.6837 - output_activity_accuracy: 0.9641 - output_timestamp_mean_absolute_error: 0.0919 - val_loss: 2.0690 - val_output_resource_loss: 1.2358 - val_output_activity_loss: 0.3518 - val_output_timestamp_loss: 0.4814 - val_output_resource_accuracy: 0.6382 - val_output_activity_accuracy: 0.9455 - val_output_timestamp_mean_absolute_error: 0.1126 - lr: 0.0037\n",
      "Epoch 19/25\n",
      "364/364 [==============================] - 4s 10ms/step - loss: 1.3629 - output_resource_loss: 0.9128 - output_activity_loss: 0.1803 - output_timestamp_loss: 0.2699 - output_resource_accuracy: 0.6877 - output_activity_accuracy: 0.9652 - output_timestamp_mean_absolute_error: 0.0912 - val_loss: 2.0340 - val_output_resource_loss: 1.2399 - val_output_activity_loss: 0.3485 - val_output_timestamp_loss: 0.4456 - val_output_resource_accuracy: 0.6430 - val_output_activity_accuracy: 0.9462 - val_output_timestamp_mean_absolute_error: 0.0821 - lr: 0.0028\n",
      "Epoch 20/25\n",
      "364/364 [==============================] - 4s 11ms/step - loss: 1.3324 - output_resource_loss: 0.8973 - output_activity_loss: 0.1750 - output_timestamp_loss: 0.2601 - output_resource_accuracy: 0.6945 - output_activity_accuracy: 0.9658 - output_timestamp_mean_absolute_error: 0.0779 - val_loss: 2.0163 - val_output_resource_loss: 1.2311 - val_output_activity_loss: 0.3486 - val_output_timestamp_loss: 0.4366 - val_output_resource_accuracy: 0.6409 - val_output_activity_accuracy: 0.9455 - val_output_timestamp_mean_absolute_error: 0.0996 - lr: 0.0019\n",
      "Epoch 21/25\n",
      "364/364 [==============================] - 3s 8ms/step - loss: 1.3066 - output_resource_loss: 0.8816 - output_activity_loss: 0.1697 - output_timestamp_loss: 0.2553 - output_resource_accuracy: 0.6983 - output_activity_accuracy: 0.9669 - output_timestamp_mean_absolute_error: 0.0786 - val_loss: 2.0040 - val_output_resource_loss: 1.2299 - val_output_activity_loss: 0.3483 - val_output_timestamp_loss: 0.4258 - val_output_resource_accuracy: 0.6421 - val_output_activity_accuracy: 0.9464 - val_output_timestamp_mean_absolute_error: 0.0824 - lr: 0.0010\n",
      "Epoch 22/25\n",
      "364/364 [==============================] - 4s 10ms/step - loss: 1.3168 - output_resource_loss: 0.8904 - output_activity_loss: 0.1725 - output_timestamp_loss: 0.2539 - output_resource_accuracy: 0.6943 - output_activity_accuracy: 0.9665 - output_timestamp_mean_absolute_error: 0.0810 - val_loss: 1.9989 - val_output_resource_loss: 1.2359 - val_output_activity_loss: 0.3514 - val_output_timestamp_loss: 0.4117 - val_output_resource_accuracy: 0.6428 - val_output_activity_accuracy: 0.9453 - val_output_timestamp_mean_absolute_error: 0.0846 - lr: 0.0019\n",
      "Epoch 23/25\n",
      "364/364 [==============================] - 3s 7ms/step - loss: 1.3289 - output_resource_loss: 0.8986 - output_activity_loss: 0.1761 - output_timestamp_loss: 0.2543 - output_resource_accuracy: 0.6902 - output_activity_accuracy: 0.9653 - output_timestamp_mean_absolute_error: 0.0916 - val_loss: 1.9983 - val_output_resource_loss: 1.2492 - val_output_activity_loss: 0.3548 - val_output_timestamp_loss: 0.3943 - val_output_resource_accuracy: 0.6428 - val_output_activity_accuracy: 0.9439 - val_output_timestamp_mean_absolute_error: 0.0831 - lr: 0.0028\n",
      "Epoch 24/25\n",
      "364/364 [==============================] - 2s 6ms/step - loss: 1.3374 - output_resource_loss: 0.9084 - output_activity_loss: 0.1798 - output_timestamp_loss: 0.2492 - output_resource_accuracy: 0.6872 - output_activity_accuracy: 0.9649 - output_timestamp_mean_absolute_error: 0.0930 - val_loss: 1.9831 - val_output_resource_loss: 1.2526 - val_output_activity_loss: 0.3562 - val_output_timestamp_loss: 0.3743 - val_output_resource_accuracy: 0.6375 - val_output_activity_accuracy: 0.9453 - val_output_timestamp_mean_absolute_error: 0.1006 - lr: 0.0037\n",
      "Epoch 25/25\n",
      "364/364 [==============================] - 2s 7ms/step - loss: 1.3426 - output_resource_loss: 0.9159 - output_activity_loss: 0.1821 - output_timestamp_loss: 0.2446 - output_resource_accuracy: 0.6841 - output_activity_accuracy: 0.9641 - output_timestamp_mean_absolute_error: 0.0980 - val_loss: 1.9848 - val_output_resource_loss: 1.2680 - val_output_activity_loss: 0.3664 - val_output_timestamp_loss: 0.3504 - val_output_resource_accuracy: 0.6372 - val_output_activity_accuracy: 0.9424 - val_output_timestamp_mean_absolute_error: 0.0990 - lr: 0.0046\n"
     ]
    }
   ],
   "source": [
    "import numpy as np\n",
    "from tensorflow.keras.utils import to_categorical\n",
    "\n",
    "\n",
    "train_targets_resource_cat = to_categorical(train_targets_resource, num_classes=num_resources)\n",
    "test_targets_resource_cat = to_categorical(test_targets_resource, num_classes=num_resources)\n",
    "\n",
    "train_targets_activity_cat = to_categorical(train_targets_activity, num_classes=num_activities)\n",
    "test_targets_activity_cat = to_categorical(test_targets_activity, num_classes=num_activities)\n",
    "\n",
    "\n",
    "# Note: Assuming timestamp targets are continuous and don't need to be converted to categorical\n",
    "\n",
    "history = model.fit([train_resource, train_activity, train_timestamp], \n",
    "                    [train_targets_resource_cat, train_targets_activity_cat, train_targets_timestamp],\n",
    "                    epochs=25,\n",
    "                    batch_size=64,\n",
    "                    validation_data=([test_resource, test_activity, test_timestamp], \n",
    "                                     [test_targets_resource_cat, test_targets_activity_cat, test_targets_timestamp]),\n",
    "                    verbose=1,\n",
    "                    callbacks=[lr_scheduler])  # Add other callbacks as needed"
   ]
  },
  {
   "cell_type": "code",
   "execution_count": 20,
   "metadata": {},
   "outputs": [
    {
     "name": "stdout",
     "output_type": "stream",
     "text": [
      "312/312 [==============================] - 1s 3ms/step - loss: 1.9848 - output_resource_loss: 1.2680 - output_activity_loss: 0.3664 - output_timestamp_loss: 0.3504 - output_resource_accuracy: 0.6372 - output_activity_accuracy: 0.9424 - output_timestamp_mean_absolute_error: 0.0990\n",
      "[1.9848135709762573, 1.267983078956604, 0.36644965410232544, 0.3503796458244324, 0.6371574997901917, 0.9423868060112, 0.098966084420681]\n"
     ]
    }
   ],
   "source": [
    "evaluation = model.evaluate(\n",
    "    [test_resource, test_activity, test_timestamp],\n",
    "    [test_targets_resource_cat, test_targets_activity_cat, test_targets_timestamp]\n",
    ")\n",
    "\n",
    "print(evaluation)"
   ]
  },
  {
   "cell_type": "code",
   "execution_count": 21,
   "metadata": {},
   "outputs": [
    {
     "name": "stderr",
     "output_type": "stream",
     "text": [
      "/opt/anaconda3/lib/python3.9/site-packages/keras/src/engine/training.py:3000: UserWarning: You are saving your model as an HDF5 file via `model.save()`. This file format is considered legacy. We recommend using instead the native Keras format, e.g. `model.save('my_model.keras')`.\n",
      "  saving_api.save_model(\n"
     ]
    }
   ],
   "source": [
    "# Save the model to an H5 file\n",
    "model.save('dapnn_huge.h5')"
   ]
  },
  {
   "cell_type": "markdown",
   "metadata": {},
   "source": [
    "# Anomaly Score Computation"
   ]
  },
  {
   "cell_type": "code",
   "execution_count": 22,
   "metadata": {},
   "outputs": [
    {
     "name": "stdout",
     "output_type": "stream",
     "text": [
      "1038/1038 [==============================] - 4s 2ms/step\n"
     ]
    }
   ],
   "source": [
    "# Generate predictions for all inputs\n",
    "predictions = model.predict([windows_resource, windows_activity, windows_timestamp])\n",
    "\n",
    "# Extract predictions for categorical attributes (softmax probabilities)\n",
    "predictions_resource = predictions[0]        # ID predictions\n",
    "predictions_activity = predictions[1]  # Resource predictions\n",
    "\n",
    "# Extract predictions for numerical attribute (timestamp)\n",
    "predictions_timestamp = predictions[2] # Timestamp predictions"
   ]
  },
  {
   "cell_type": "code",
   "execution_count": 23,
   "metadata": {},
   "outputs": [],
   "source": [
    "import numpy as np\n",
    "from tensorflow.keras.utils import to_categorical\n",
    "\n",
    "def compute_anomaly_scores(predictions, actuals):\n",
    "    # For categorical predictions, convert actuals to one-hot for comparison\n",
    "    actuals_one_hot = to_categorical(actuals, num_classes=predictions.shape[-1])\n",
    "    \n",
    "    max_predictions = np.max(predictions, axis=-1)\n",
    "    actual_predictions = np.sum(predictions * actuals_one_hot, axis=-1)  # Extract the probability of the actual class\n",
    "    \n",
    "    anomaly_scores = (max_predictions - actual_predictions) / max_predictions\n",
    "    \n",
    "    return anomaly_scores\n",
    "\n",
    "# Assuming targets_id, targets_resource, targets_activity, targets_role are the true values for these attributes\n",
    "anomaly_scores_resource = compute_anomaly_scores(predictions_resource, targets_resource)\n",
    "anomaly_scores_activity = compute_anomaly_scores(predictions_activity, targets_activity)"
   ]
  },
  {
   "cell_type": "code",
   "execution_count": 24,
   "metadata": {},
   "outputs": [],
   "source": [
    "def compute_anomaly_scores_continuous(predictions, actuals, normalization_factor):\n",
    "    \"\"\"\n",
    "    Compute anomaly scores for continuous attributes.\n",
    "    \n",
    "    Parameters:\n",
    "    - predictions: numpy array of predicted values.\n",
    "    - actuals: numpy array of actual values.\n",
    "    - normalization_factor: normalization factor (e.g., standard deviation of the attribute).\n",
    "    \n",
    "    Returns:\n",
    "    - numpy array of anomaly scores.\n",
    "    \"\"\"\n",
    "    # Calculate absolute differences\n",
    "    differences = np.abs(predictions - actuals)\n",
    "    \n",
    "    # Normalize the differences\n",
    "    anomaly_scores = differences / normalization_factor\n",
    "    \n",
    "    return anomaly_scores"
   ]
  },
  {
   "cell_type": "code",
   "execution_count": 25,
   "metadata": {},
   "outputs": [],
   "source": [
    "normalization_factor = np.std(targets_timestamp)       # Example normalization factor (standard deviation)\n",
    "anomaly_scores_timestamp = compute_anomaly_scores_continuous(predictions_timestamp, targets_timestamp, normalization_factor)"
   ]
  },
  {
   "cell_type": "code",
   "execution_count": 26,
   "metadata": {},
   "outputs": [],
   "source": [
    "import numpy as np\n",
    "\n",
    "def classify_cases(anomaly_scores_resource, anomaly_scores_activity, anomaly_scores_timestamp, threshold=0.98):\n",
    "    # Ensure all inputs are numpy arrays of the same shape\n",
    "    anomaly_scores_resource = np.array(anomaly_scores_resource).flatten()\n",
    "    anomaly_scores_activity = np.array(anomaly_scores_activity).flatten()\n",
    "    anomaly_scores_timestamp = np.array(anomaly_scores_timestamp).flatten()\n",
    "\n",
    "    # Check if all arrays have the same length\n",
    "    if not (len(anomaly_scores_resource) == len(anomaly_scores_activity) == len(anomaly_scores_timestamp)):\n",
    "        raise ValueError(\"All input anomaly scores must have the same length.\")\n",
    "\n",
    "    # Find the maximum anomaly score across all attributes for each case\n",
    "    max_scores = np.maximum.reduce([anomaly_scores_resource, anomaly_scores_activity, anomaly_scores_timestamp])\n",
    "\n",
    "    # Classify cases as anomalous if the maximum anomaly score exceeds the threshold\n",
    "    anomalous_cases = max_scores > threshold\n",
    "    \n",
    "    return anomalous_cases\n",
    "\n",
    "# Now use the anomaly scores for resource, activity, and timestamp in the classification\n",
    "anomalous_cases = classify_cases(anomaly_scores_resource, anomaly_scores_activity, anomaly_scores_timestamp)"
   ]
  },
  {
   "cell_type": "code",
   "execution_count": 42,
   "metadata": {},
   "outputs": [],
   "source": [
    "import numpy as np\n",
    "\n",
    "def classify_cases(anomaly_scores_activity, threshold=0.98):\n",
    "    # Ensure all inputs are numpy arrays of the same shape\n",
    "    anomaly_scores_activity = np.array(anomaly_scores_activity).flatten()\n",
    "\n",
    "    # Find the maximum anomaly score across all attributes for each case\n",
    "    max_scores = np.maximum.reduce([anomaly_scores_activity])\n",
    "\n",
    "    # Classify cases as anomalous if the maximum anomaly score exceeds the threshold\n",
    "    anomalous_cases = max_scores > threshold\n",
    "    \n",
    "    return anomalous_cases\n",
    "\n",
    "# Now use the anomaly scores for resource, activity, and timestamp in the classification\n",
    "anomalous_cases = classify_cases(anomaly_scores_activity)"
   ]
  },
  {
   "cell_type": "markdown",
   "metadata": {},
   "source": [
    "# Mapping"
   ]
  },
  {
   "cell_type": "markdown",
   "metadata": {},
   "source": [
    "### True: anomaly, False: no anomaly"
   ]
  },
  {
   "cell_type": "code",
   "execution_count": 43,
   "metadata": {},
   "outputs": [
    {
     "data": {
      "text/html": [
       "<div>\n",
       "<style scoped>\n",
       "    .dataframe tbody tr th:only-of-type {\n",
       "        vertical-align: middle;\n",
       "    }\n",
       "\n",
       "    .dataframe tbody tr th {\n",
       "        vertical-align: top;\n",
       "    }\n",
       "\n",
       "    .dataframe thead th {\n",
       "        text-align: right;\n",
       "    }\n",
       "</style>\n",
       "<table border=\"1\" class=\"dataframe\">\n",
       "  <thead>\n",
       "    <tr style=\"text-align: right;\">\n",
       "      <th></th>\n",
       "      <th>case</th>\n",
       "      <th>predicted</th>\n",
       "    </tr>\n",
       "  </thead>\n",
       "  <tbody>\n",
       "    <tr>\n",
       "      <th>0</th>\n",
       "      <td>0</td>\n",
       "      <td>False</td>\n",
       "    </tr>\n",
       "    <tr>\n",
       "      <th>1</th>\n",
       "      <td>0</td>\n",
       "      <td>False</td>\n",
       "    </tr>\n",
       "    <tr>\n",
       "      <th>2</th>\n",
       "      <td>0</td>\n",
       "      <td>False</td>\n",
       "    </tr>\n",
       "    <tr>\n",
       "      <th>3</th>\n",
       "      <td>0</td>\n",
       "      <td>False</td>\n",
       "    </tr>\n",
       "    <tr>\n",
       "      <th>4</th>\n",
       "      <td>0</td>\n",
       "      <td>True</td>\n",
       "    </tr>\n",
       "    <tr>\n",
       "      <th>...</th>\n",
       "      <td>...</td>\n",
       "      <td>...</td>\n",
       "    </tr>\n",
       "    <tr>\n",
       "      <th>33205</th>\n",
       "      <td>4999</td>\n",
       "      <td>False</td>\n",
       "    </tr>\n",
       "    <tr>\n",
       "      <th>33206</th>\n",
       "      <td>4999</td>\n",
       "      <td>False</td>\n",
       "    </tr>\n",
       "    <tr>\n",
       "      <th>33207</th>\n",
       "      <td>4999</td>\n",
       "      <td>False</td>\n",
       "    </tr>\n",
       "    <tr>\n",
       "      <th>33208</th>\n",
       "      <td>4999</td>\n",
       "      <td>False</td>\n",
       "    </tr>\n",
       "    <tr>\n",
       "      <th>33209</th>\n",
       "      <td>4999</td>\n",
       "      <td>False</td>\n",
       "    </tr>\n",
       "  </tbody>\n",
       "</table>\n",
       "<p>33210 rows × 2 columns</p>\n",
       "</div>"
      ],
      "text/plain": [
       "       case  predicted\n",
       "0         0      False\n",
       "1         0      False\n",
       "2         0      False\n",
       "3         0      False\n",
       "4         0       True\n",
       "...     ...        ...\n",
       "33205  4999      False\n",
       "33206  4999      False\n",
       "33207  4999      False\n",
       "33208  4999      False\n",
       "33209  4999      False\n",
       "\n",
       "[33210 rows x 2 columns]"
      ]
     },
     "execution_count": 43,
     "metadata": {},
     "output_type": "execute_result"
    }
   ],
   "source": [
    "import pandas as pd\n",
    "\n",
    "# Create a DataFrame from the case_indices_array corresponding to case_resource\n",
    "mapping = pd.DataFrame({'case': case_indices})\n",
    "mapping['predicted'] = anomalous_cases\n",
    "mapping"
   ]
  },
  {
   "cell_type": "code",
   "execution_count": 44,
   "metadata": {},
   "outputs": [
    {
     "data": {
      "text/plain": [
       "case\n",
       "0        True\n",
       "1        True\n",
       "2       False\n",
       "3       False\n",
       "4        True\n",
       "        ...  \n",
       "4995     True\n",
       "4996    False\n",
       "4997    False\n",
       "4998    False\n",
       "4999    False\n",
       "Name: predicted, Length: 5000, dtype: bool"
      ]
     },
     "execution_count": 44,
     "metadata": {},
     "output_type": "execute_result"
    }
   ],
   "source": [
    "case_prediction = mapping.groupby('case')['predicted'].any()\n",
    "case_prediction\n"
   ]
  },
  {
   "cell_type": "markdown",
   "metadata": {},
   "source": [
    "# Ground Truth"
   ]
  },
  {
   "cell_type": "code",
   "execution_count": 45,
   "metadata": {},
   "outputs": [],
   "source": [
    "def generate_alignments_adjusted_tracecost_pkl(log, net, initial_marking, final_marking):\n",
    "    from pm4py.algo.conformance.alignments.petri_net import algorithm as alignments\n",
    "    from pm4py.algo.conformance.alignments.petri_net import variants\n",
    "    from pm4py.objects.petri_net.utils import align_utils\n",
    "    max_events=0\n",
    "    for trace in log:\n",
    "        counter=0\n",
    "        for event in trace:\n",
    "            counter+=1\n",
    "        if counter > max_events:\n",
    "            max_events=counter\n",
    "    parameters={}\n",
    "    parameters[alignments.Variants.VERSION_STATE_EQUATION_A_STAR.value.Parameters.PARAM_SYNC_COST_FUNCTION] = list(map(lambda i: .1*i, range(max_events*2)))\n",
    "    parameters[alignments.Variants.VERSION_STATE_EQUATION_A_STAR.value.Parameters.PARAM_TRACE_COST_FUNCTION]=list(map(lambda i: align_utils.STD_MODEL_LOG_MOVE_COST-.1*i, range(max_events*2)))\n",
    "    aligned_traces = alignments.apply_log(log, net, initial_marking, final_marking, variant=variants.state_equation_a_star, parameters=parameters)\n",
    "    return aligned_traces"
   ]
  },
  {
   "cell_type": "code",
   "execution_count": 46,
   "metadata": {},
   "outputs": [
    {
     "data": {
      "application/vnd.jupyter.widget-view+json": {
       "model_id": "c5b8d0b58a834da984eaaebd50943476",
       "version_major": 2,
       "version_minor": 0
      },
      "text/plain": [
       "aligning log, completed variants ::   0%|          | 0/836 [00:00<?, ?it/s]"
      ]
     },
     "metadata": {},
     "output_type": "display_data"
    }
   ],
   "source": [
    "import pm4py\n",
    "from pm4py.objects.log.importer.xes import importer as xes_importer\n",
    "from pm4py.objects.bpmn.importer import importer as bpmn_importer\n",
    "from pm4py.algo.conformance.alignments.petri_net import algorithm as alignments_petri\n",
    "\n",
    "# 2. Import the given BPMN model\n",
    "bpmn_graph = bpmn_importer.apply(\"../../data/model/huge.bpmn\")\n",
    "\n",
    "# 3. Convert the BPMN to a Petri net\n",
    "net, initial_marking, final_marking = pm4py.convert_to_petri_net(bpmn_graph)\n",
    "\n",
    "aligned_traces = generate_alignments_adjusted_tracecost_pkl(log, net, initial_marking, final_marking)"
   ]
  },
  {
   "cell_type": "code",
   "execution_count": 47,
   "metadata": {},
   "outputs": [],
   "source": [
    "def extract_conformance_status_by_fitness(aligned_traces):\n",
    "    conformance_status = []\n",
    "    for alignment in aligned_traces:\n",
    "        fitness = alignment['fitness']\n",
    "        # If the fitness is 1.0, the trace is conforming\n",
    "        if fitness == 1.0:\n",
    "            conformance_status.append(1)\n",
    "        else:\n",
    "            conformance_status.append(0)\n",
    "    return conformance_status\n",
    "\n",
    "# Get the conformance status list from the aligned traces\n",
    "conformance = extract_conformance_status_by_fitness(aligned_traces)"
   ]
  },
  {
   "cell_type": "code",
   "execution_count": 48,
   "metadata": {},
   "outputs": [
    {
     "data": {
      "text/html": [
       "<div>\n",
       "<style scoped>\n",
       "    .dataframe tbody tr th:only-of-type {\n",
       "        vertical-align: middle;\n",
       "    }\n",
       "\n",
       "    .dataframe tbody tr th {\n",
       "        vertical-align: top;\n",
       "    }\n",
       "\n",
       "    .dataframe thead th {\n",
       "        text-align: right;\n",
       "    }\n",
       "</style>\n",
       "<table border=\"1\" class=\"dataframe\">\n",
       "  <thead>\n",
       "    <tr style=\"text-align: right;\">\n",
       "      <th></th>\n",
       "      <th>conformity</th>\n",
       "      <th>predicted</th>\n",
       "    </tr>\n",
       "  </thead>\n",
       "  <tbody>\n",
       "    <tr>\n",
       "      <th>0</th>\n",
       "      <td>0</td>\n",
       "      <td>0</td>\n",
       "    </tr>\n",
       "    <tr>\n",
       "      <th>1</th>\n",
       "      <td>0</td>\n",
       "      <td>0</td>\n",
       "    </tr>\n",
       "    <tr>\n",
       "      <th>2</th>\n",
       "      <td>1</td>\n",
       "      <td>1</td>\n",
       "    </tr>\n",
       "    <tr>\n",
       "      <th>3</th>\n",
       "      <td>1</td>\n",
       "      <td>1</td>\n",
       "    </tr>\n",
       "    <tr>\n",
       "      <th>4</th>\n",
       "      <td>0</td>\n",
       "      <td>0</td>\n",
       "    </tr>\n",
       "    <tr>\n",
       "      <th>...</th>\n",
       "      <td>...</td>\n",
       "      <td>...</td>\n",
       "    </tr>\n",
       "    <tr>\n",
       "      <th>4995</th>\n",
       "      <td>0</td>\n",
       "      <td>0</td>\n",
       "    </tr>\n",
       "    <tr>\n",
       "      <th>4996</th>\n",
       "      <td>1</td>\n",
       "      <td>1</td>\n",
       "    </tr>\n",
       "    <tr>\n",
       "      <th>4997</th>\n",
       "      <td>1</td>\n",
       "      <td>1</td>\n",
       "    </tr>\n",
       "    <tr>\n",
       "      <th>4998</th>\n",
       "      <td>1</td>\n",
       "      <td>1</td>\n",
       "    </tr>\n",
       "    <tr>\n",
       "      <th>4999</th>\n",
       "      <td>1</td>\n",
       "      <td>1</td>\n",
       "    </tr>\n",
       "  </tbody>\n",
       "</table>\n",
       "<p>5000 rows × 2 columns</p>\n",
       "</div>"
      ],
      "text/plain": [
       "      conformity  predicted\n",
       "0              0          0\n",
       "1              0          0\n",
       "2              1          1\n",
       "3              1          1\n",
       "4              0          0\n",
       "...          ...        ...\n",
       "4995           0          0\n",
       "4996           1          1\n",
       "4997           1          1\n",
       "4998           1          1\n",
       "4999           1          1\n",
       "\n",
       "[5000 rows x 2 columns]"
      ]
     },
     "execution_count": 48,
     "metadata": {},
     "output_type": "execute_result"
    }
   ],
   "source": [
    "ground_truth = pd.DataFrame({'conformity': conformance})\n",
    "ground_truth['predicted'] = case_prediction\n",
    "\n",
    "# Convert False to 0 and True to 1\n",
    "ground_truth['predicted'] = [int(value) for value in ground_truth['predicted']]\n",
    "ground_truth['predicted'] = 1 - ground_truth['predicted']\n",
    "ground_truth"
   ]
  },
  {
   "cell_type": "markdown",
   "metadata": {},
   "source": [
    "# Evaluation"
   ]
  },
  {
   "cell_type": "code",
   "execution_count": 49,
   "metadata": {},
   "outputs": [],
   "source": [
    "# Calculating TP, TN, FP, FN\n",
    "TP = ((ground_truth['conformity'] == 1) & (ground_truth['predicted'] == 1)).sum()\n",
    "TN = ((ground_truth['conformity'] == 0) & (ground_truth['predicted'] == 0)).sum()\n",
    "FP = ((ground_truth['conformity'] == 0) & (ground_truth['predicted'] == 1)).sum()\n",
    "FN = ((ground_truth['conformity'] == 1) & (ground_truth['predicted'] == 0)).sum()"
   ]
  },
  {
   "cell_type": "code",
   "execution_count": 50,
   "metadata": {},
   "outputs": [
    {
     "name": "stdout",
     "output_type": "stream",
     "text": [
      "Accuracy: 0.889\n"
     ]
    }
   ],
   "source": [
    "# Calculate accuracy\n",
    "accuracy = (TP + TN) / (TP + TN + FP + FN)\n",
    "print(f\"Accuracy: {accuracy:.3f}\")"
   ]
  },
  {
   "cell_type": "code",
   "execution_count": 51,
   "metadata": {},
   "outputs": [
    {
     "name": "stdout",
     "output_type": "stream",
     "text": [
      "F1: 0.932\n"
     ]
    }
   ],
   "source": [
    "# Calculate f1\n",
    "\n",
    "precision = TP / (TP + FP)\n",
    "recall = TP / (TP + FN)\n",
    "\n",
    "f1 = 2 * ((precision * recall) / (precision + recall))\n",
    "print(f\"F1: {f1:.3f}\")"
   ]
  },
  {
   "cell_type": "markdown",
   "metadata": {},
   "source": [
    "### Dev (Non Conform Traces)"
   ]
  },
  {
   "cell_type": "code",
   "execution_count": 52,
   "metadata": {},
   "outputs": [
    {
     "name": "stdout",
     "output_type": "stream",
     "text": [
      "Precision: 0.918\n"
     ]
    }
   ],
   "source": [
    "# Calculate precision for Dev\n",
    "precision = TN / (TN + FN)\n",
    "print(f\"Precision: {precision:.3f}\")"
   ]
  },
  {
   "cell_type": "code",
   "execution_count": 53,
   "metadata": {},
   "outputs": [
    {
     "name": "stdout",
     "output_type": "stream",
     "text": [
      "Recall: 0.558\n"
     ]
    }
   ],
   "source": [
    "# Calculate recall for Dev\n",
    "recall = TN / (TN + FP)\n",
    "print(f\"Recall: {recall:.3f}\")"
   ]
  },
  {
   "cell_type": "markdown",
   "metadata": {},
   "source": [
    "### No Dev (Conform Traces)"
   ]
  },
  {
   "cell_type": "code",
   "execution_count": 54,
   "metadata": {},
   "outputs": [
    {
     "name": "stdout",
     "output_type": "stream",
     "text": [
      "Precision: 0.885\n"
     ]
    }
   ],
   "source": [
    "# Calculate precision for No Dev\n",
    "precision = TP / (TP + FP)\n",
    "print(f\"Precision: {precision:.3f}\")"
   ]
  },
  {
   "cell_type": "code",
   "execution_count": 55,
   "metadata": {},
   "outputs": [
    {
     "name": "stdout",
     "output_type": "stream",
     "text": [
      "Recall: 0.986\n"
     ]
    }
   ],
   "source": [
    "# Calculate recall for No Dev\n",
    "recall = TP / (TP + FN)\n",
    "print(f\"Recall: {recall:.3f}\")"
   ]
  },
  {
   "cell_type": "markdown",
   "metadata": {},
   "source": [
    "### AUC"
   ]
  },
  {
   "cell_type": "code",
   "execution_count": 56,
   "metadata": {},
   "outputs": [
    {
     "data": {
      "text/plain": [
       "0.7716355610248584"
      ]
     },
     "execution_count": 56,
     "metadata": {},
     "output_type": "execute_result"
    }
   ],
   "source": [
    "import pandas as pd\n",
    "from sklearn.metrics import roc_auc_score\n",
    "\n",
    "# Assuming ground_truth is your DataFrame\n",
    "# Make sure 'conformity' contains actual labels (0 or 1)\n",
    "# and 'predicted' contains predicted probabilities or scores\n",
    "auc_roc = roc_auc_score(ground_truth['conformity'], ground_truth['predicted'])\n",
    "auc_roc"
   ]
  }
 ],
 "metadata": {
  "kernelspec": {
   "display_name": "lstm",
   "language": "python",
   "name": "python3"
  },
  "language_info": {
   "codemirror_mode": {
    "name": "ipython",
    "version": 3
   },
   "file_extension": ".py",
   "mimetype": "text/x-python",
   "name": "python",
   "nbconvert_exporter": "python",
   "pygments_lexer": "ipython3",
   "version": "3.9.-1"
  }
 },
 "nbformat": 4,
 "nbformat_minor": 2
}

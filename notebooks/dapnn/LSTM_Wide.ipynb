{
 "cells": [
  {
   "cell_type": "markdown",
   "metadata": {},
   "source": [
    "# Import Event Log"
   ]
  },
  {
   "cell_type": "code",
   "execution_count": 1,
   "metadata": {},
   "outputs": [
    {
     "name": "stderr",
     "output_type": "stream",
     "text": [
      "/var/folders/s_/ch_w_j2d0sqf6dbdc0_224m40000gq/T/ipykernel_5036/765403017.py:11: DeprecatedWarning: format_dataframe is deprecated as of 2.3.0 and will be removed in 3.0.0. the format_dataframe function does not need application anymore.\n",
      "  dataframe_log = pm4py.format_dataframe(\n"
     ]
    }
   ],
   "source": [
    "import pandas as pd\n",
    "import numpy as np\n",
    "import pm4py\n",
    "from pm4py.objects.conversion.log import converter as log_converter\n",
    "\n",
    "if __name__ == \"__main__\":\n",
    "    # Read the CSV file\n",
    "    dataframe_log = pd.read_csv('../../data/logs/wide_log.csv', sep=',')\n",
    "\n",
    "    # Format the dataframe\n",
    "    dataframe_log = pm4py.format_dataframe(\n",
    "        dataframe_log,\n",
    "        case_id='case:concept:name',\n",
    "        activity_key='concept:name',\n",
    "        timestamp_key='time:timestamp'\n",
    "    )\n",
    "\n",
    "    # Convert the dataframe to event log\n",
    "    log = log_converter.apply(dataframe_log)"
   ]
  },
  {
   "cell_type": "code",
   "execution_count": 2,
   "metadata": {},
   "outputs": [
    {
     "data": {
      "text/html": [
       "<div>\n",
       "<style scoped>\n",
       "    .dataframe tbody tr th:only-of-type {\n",
       "        vertical-align: middle;\n",
       "    }\n",
       "\n",
       "    .dataframe tbody tr th {\n",
       "        vertical-align: top;\n",
       "    }\n",
       "\n",
       "    .dataframe thead th {\n",
       "        text-align: right;\n",
       "    }\n",
       "</style>\n",
       "<table border=\"1\" class=\"dataframe\">\n",
       "  <thead>\n",
       "    <tr style=\"text-align: right;\">\n",
       "      <th></th>\n",
       "      <th>concept:name</th>\n",
       "      <th>timestamp</th>\n",
       "      <th>time:timestamp</th>\n",
       "      <th>case:label</th>\n",
       "      <th>case:concept:name</th>\n",
       "      <th>org:resource</th>\n",
       "      <th>@@index</th>\n",
       "      <th>@@case_index</th>\n",
       "    </tr>\n",
       "  </thead>\n",
       "  <tbody>\n",
       "    <tr>\n",
       "      <th>0</th>\n",
       "      <td>Activity N</td>\n",
       "      <td>NaN</td>\n",
       "      <td>2010-01-01 00:00:00+00:00</td>\n",
       "      <td>Early</td>\n",
       "      <td>1</td>\n",
       "      <td>Roy</td>\n",
       "      <td>0</td>\n",
       "      <td>0</td>\n",
       "    </tr>\n",
       "    <tr>\n",
       "      <th>1</th>\n",
       "      <td>Activity A</td>\n",
       "      <td>NaN</td>\n",
       "      <td>2010-01-01 00:01:00+00:00</td>\n",
       "      <td>Early</td>\n",
       "      <td>1</td>\n",
       "      <td>Della</td>\n",
       "      <td>1</td>\n",
       "      <td>0</td>\n",
       "    </tr>\n",
       "    <tr>\n",
       "      <th>2</th>\n",
       "      <td>Activity AE</td>\n",
       "      <td>NaN</td>\n",
       "      <td>2010-01-01 00:02:00+00:00</td>\n",
       "      <td>Early</td>\n",
       "      <td>1</td>\n",
       "      <td>Hoyt</td>\n",
       "      <td>2</td>\n",
       "      <td>0</td>\n",
       "    </tr>\n",
       "    <tr>\n",
       "      <th>3</th>\n",
       "      <td>Activity AF</td>\n",
       "      <td>NaN</td>\n",
       "      <td>2010-01-01 00:04:00+00:00</td>\n",
       "      <td>Early</td>\n",
       "      <td>1</td>\n",
       "      <td>Rossie</td>\n",
       "      <td>3</td>\n",
       "      <td>0</td>\n",
       "    </tr>\n",
       "    <tr>\n",
       "      <th>4</th>\n",
       "      <td>Activity O</td>\n",
       "      <td>NaN</td>\n",
       "      <td>2010-01-01 00:05:00+00:00</td>\n",
       "      <td>Early</td>\n",
       "      <td>1</td>\n",
       "      <td>Junior</td>\n",
       "      <td>4</td>\n",
       "      <td>0</td>\n",
       "    </tr>\n",
       "    <tr>\n",
       "      <th>...</th>\n",
       "      <td>...</td>\n",
       "      <td>...</td>\n",
       "      <td>...</td>\n",
       "      <td>...</td>\n",
       "      <td>...</td>\n",
       "      <td>...</td>\n",
       "      <td>...</td>\n",
       "      <td>...</td>\n",
       "    </tr>\n",
       "    <tr>\n",
       "      <th>31905</th>\n",
       "      <td>Activity N</td>\n",
       "      <td>NaN</td>\n",
       "      <td>2010-07-01 08:06:00+00:00</td>\n",
       "      <td>normal</td>\n",
       "      <td>999</td>\n",
       "      <td>Brant</td>\n",
       "      <td>31905</td>\n",
       "      <td>4999</td>\n",
       "    </tr>\n",
       "    <tr>\n",
       "      <th>31906</th>\n",
       "      <td>Activity AG</td>\n",
       "      <td>NaN</td>\n",
       "      <td>2010-07-01 08:08:00+00:00</td>\n",
       "      <td>normal</td>\n",
       "      <td>999</td>\n",
       "      <td>Sandra</td>\n",
       "      <td>31906</td>\n",
       "      <td>4999</td>\n",
       "    </tr>\n",
       "    <tr>\n",
       "      <th>31907</th>\n",
       "      <td>Activity AH</td>\n",
       "      <td>NaN</td>\n",
       "      <td>2010-07-01 08:09:00+00:00</td>\n",
       "      <td>normal</td>\n",
       "      <td>999</td>\n",
       "      <td>Jamika</td>\n",
       "      <td>31907</td>\n",
       "      <td>4999</td>\n",
       "    </tr>\n",
       "    <tr>\n",
       "      <th>31908</th>\n",
       "      <td>Activity O</td>\n",
       "      <td>NaN</td>\n",
       "      <td>2010-07-01 08:11:00+00:00</td>\n",
       "      <td>normal</td>\n",
       "      <td>999</td>\n",
       "      <td>Howard</td>\n",
       "      <td>31908</td>\n",
       "      <td>4999</td>\n",
       "    </tr>\n",
       "    <tr>\n",
       "      <th>31909</th>\n",
       "      <td>Activity B</td>\n",
       "      <td>NaN</td>\n",
       "      <td>2010-07-01 08:12:00+00:00</td>\n",
       "      <td>normal</td>\n",
       "      <td>999</td>\n",
       "      <td>Deloras</td>\n",
       "      <td>31909</td>\n",
       "      <td>4999</td>\n",
       "    </tr>\n",
       "  </tbody>\n",
       "</table>\n",
       "<p>31910 rows × 8 columns</p>\n",
       "</div>"
      ],
      "text/plain": [
       "      concept:name  timestamp            time:timestamp case:label  \\\n",
       "0       Activity N        NaN 2010-01-01 00:00:00+00:00      Early   \n",
       "1       Activity A        NaN 2010-01-01 00:01:00+00:00      Early   \n",
       "2      Activity AE        NaN 2010-01-01 00:02:00+00:00      Early   \n",
       "3      Activity AF        NaN 2010-01-01 00:04:00+00:00      Early   \n",
       "4       Activity O        NaN 2010-01-01 00:05:00+00:00      Early   \n",
       "...            ...        ...                       ...        ...   \n",
       "31905   Activity N        NaN 2010-07-01 08:06:00+00:00     normal   \n",
       "31906  Activity AG        NaN 2010-07-01 08:08:00+00:00     normal   \n",
       "31907  Activity AH        NaN 2010-07-01 08:09:00+00:00     normal   \n",
       "31908   Activity O        NaN 2010-07-01 08:11:00+00:00     normal   \n",
       "31909   Activity B        NaN 2010-07-01 08:12:00+00:00     normal   \n",
       "\n",
       "      case:concept:name org:resource  @@index  @@case_index  \n",
       "0                     1          Roy        0             0  \n",
       "1                     1        Della        1             0  \n",
       "2                     1         Hoyt        2             0  \n",
       "3                     1       Rossie        3             0  \n",
       "4                     1       Junior        4             0  \n",
       "...                 ...          ...      ...           ...  \n",
       "31905               999        Brant    31905          4999  \n",
       "31906               999       Sandra    31906          4999  \n",
       "31907               999       Jamika    31907          4999  \n",
       "31908               999       Howard    31908          4999  \n",
       "31909               999      Deloras    31909          4999  \n",
       "\n",
       "[31910 rows x 8 columns]"
      ]
     },
     "execution_count": 2,
     "metadata": {},
     "output_type": "execute_result"
    }
   ],
   "source": [
    "dataframe_log"
   ]
  },
  {
   "cell_type": "markdown",
   "metadata": {},
   "source": [
    "# Drop unnessary columns"
   ]
  },
  {
   "cell_type": "code",
   "execution_count": 3,
   "metadata": {},
   "outputs": [],
   "source": [
    "dataframe_log = dataframe_log.drop(columns=['timestamp'])"
   ]
  },
  {
   "cell_type": "code",
   "execution_count": 4,
   "metadata": {},
   "outputs": [],
   "source": [
    "dataframe_log = dataframe_log.drop(columns=['case:concept:name'])"
   ]
  },
  {
   "cell_type": "code",
   "execution_count": 5,
   "metadata": {},
   "outputs": [],
   "source": [
    "dataframe_log = dataframe_log.drop(columns=['@@index'])"
   ]
  },
  {
   "cell_type": "code",
   "execution_count": 6,
   "metadata": {},
   "outputs": [],
   "source": [
    "from sklearn.preprocessing import StandardScaler\n",
    "\n",
    "# Convert to datetime format\n",
    "dataframe_log['time:timestamp'] = pd.to_datetime(dataframe_log['time:timestamp'])\n",
    "\n",
    "# Calculate elapsed time since the start of each case\n",
    "dataframe_log['start_time'] = dataframe_log.groupby('@@case_index')['time:timestamp'].transform('min')\n",
    "dataframe_log['elapsed_time'] = (dataframe_log['time:timestamp'] - dataframe_log['start_time']).dt.total_seconds()\n",
    "\n",
    "# Normalize the elapsed time in minutes\n",
    "scaler = StandardScaler()\n",
    "dataframe_log['standardized_elapsed_time'] = scaler.fit_transform(dataframe_log[['elapsed_time']])\n",
    "\n",
    "dataframe_log = dataframe_log.drop(columns=['start_time'])\n",
    "dataframe_log = dataframe_log.drop(columns=['elapsed_time'])\n",
    "dataframe_log = dataframe_log.drop(columns=['time:timestamp'])"
   ]
  },
  {
   "cell_type": "code",
   "execution_count": 7,
   "metadata": {},
   "outputs": [
    {
     "data": {
      "text/html": [
       "<div>\n",
       "<style scoped>\n",
       "    .dataframe tbody tr th:only-of-type {\n",
       "        vertical-align: middle;\n",
       "    }\n",
       "\n",
       "    .dataframe tbody tr th {\n",
       "        vertical-align: top;\n",
       "    }\n",
       "\n",
       "    .dataframe thead th {\n",
       "        text-align: right;\n",
       "    }\n",
       "</style>\n",
       "<table border=\"1\" class=\"dataframe\">\n",
       "  <thead>\n",
       "    <tr style=\"text-align: right;\">\n",
       "      <th></th>\n",
       "      <th>concept:name</th>\n",
       "      <th>case:label</th>\n",
       "      <th>org:resource</th>\n",
       "      <th>@@case_index</th>\n",
       "      <th>standardized_elapsed_time</th>\n",
       "    </tr>\n",
       "  </thead>\n",
       "  <tbody>\n",
       "    <tr>\n",
       "      <th>0</th>\n",
       "      <td>Activity N</td>\n",
       "      <td>Early</td>\n",
       "      <td>Roy</td>\n",
       "      <td>0</td>\n",
       "      <td>-0.020378</td>\n",
       "    </tr>\n",
       "    <tr>\n",
       "      <th>1</th>\n",
       "      <td>Activity A</td>\n",
       "      <td>Early</td>\n",
       "      <td>Della</td>\n",
       "      <td>0</td>\n",
       "      <td>-0.020211</td>\n",
       "    </tr>\n",
       "    <tr>\n",
       "      <th>2</th>\n",
       "      <td>Activity AE</td>\n",
       "      <td>Early</td>\n",
       "      <td>Hoyt</td>\n",
       "      <td>0</td>\n",
       "      <td>-0.020044</td>\n",
       "    </tr>\n",
       "    <tr>\n",
       "      <th>3</th>\n",
       "      <td>Activity AF</td>\n",
       "      <td>Early</td>\n",
       "      <td>Rossie</td>\n",
       "      <td>0</td>\n",
       "      <td>-0.019709</td>\n",
       "    </tr>\n",
       "    <tr>\n",
       "      <th>4</th>\n",
       "      <td>Activity O</td>\n",
       "      <td>Early</td>\n",
       "      <td>Junior</td>\n",
       "      <td>0</td>\n",
       "      <td>-0.019542</td>\n",
       "    </tr>\n",
       "    <tr>\n",
       "      <th>...</th>\n",
       "      <td>...</td>\n",
       "      <td>...</td>\n",
       "      <td>...</td>\n",
       "      <td>...</td>\n",
       "      <td>...</td>\n",
       "    </tr>\n",
       "    <tr>\n",
       "      <th>31905</th>\n",
       "      <td>Activity N</td>\n",
       "      <td>normal</td>\n",
       "      <td>Brant</td>\n",
       "      <td>4999</td>\n",
       "      <td>-0.020211</td>\n",
       "    </tr>\n",
       "    <tr>\n",
       "      <th>31906</th>\n",
       "      <td>Activity AG</td>\n",
       "      <td>normal</td>\n",
       "      <td>Sandra</td>\n",
       "      <td>4999</td>\n",
       "      <td>-0.019876</td>\n",
       "    </tr>\n",
       "    <tr>\n",
       "      <th>31907</th>\n",
       "      <td>Activity AH</td>\n",
       "      <td>normal</td>\n",
       "      <td>Jamika</td>\n",
       "      <td>4999</td>\n",
       "      <td>-0.019709</td>\n",
       "    </tr>\n",
       "    <tr>\n",
       "      <th>31908</th>\n",
       "      <td>Activity O</td>\n",
       "      <td>normal</td>\n",
       "      <td>Howard</td>\n",
       "      <td>4999</td>\n",
       "      <td>-0.019375</td>\n",
       "    </tr>\n",
       "    <tr>\n",
       "      <th>31909</th>\n",
       "      <td>Activity B</td>\n",
       "      <td>normal</td>\n",
       "      <td>Deloras</td>\n",
       "      <td>4999</td>\n",
       "      <td>-0.019208</td>\n",
       "    </tr>\n",
       "  </tbody>\n",
       "</table>\n",
       "<p>31910 rows × 5 columns</p>\n",
       "</div>"
      ],
      "text/plain": [
       "      concept:name case:label org:resource  @@case_index  \\\n",
       "0       Activity N      Early          Roy             0   \n",
       "1       Activity A      Early        Della             0   \n",
       "2      Activity AE      Early         Hoyt             0   \n",
       "3      Activity AF      Early       Rossie             0   \n",
       "4       Activity O      Early       Junior             0   \n",
       "...            ...        ...          ...           ...   \n",
       "31905   Activity N     normal        Brant          4999   \n",
       "31906  Activity AG     normal       Sandra          4999   \n",
       "31907  Activity AH     normal       Jamika          4999   \n",
       "31908   Activity O     normal       Howard          4999   \n",
       "31909   Activity B     normal      Deloras          4999   \n",
       "\n",
       "       standardized_elapsed_time  \n",
       "0                      -0.020378  \n",
       "1                      -0.020211  \n",
       "2                      -0.020044  \n",
       "3                      -0.019709  \n",
       "4                      -0.019542  \n",
       "...                          ...  \n",
       "31905                  -0.020211  \n",
       "31906                  -0.019876  \n",
       "31907                  -0.019709  \n",
       "31908                  -0.019375  \n",
       "31909                  -0.019208  \n",
       "\n",
       "[31910 rows x 5 columns]"
      ]
     },
     "execution_count": 7,
     "metadata": {},
     "output_type": "execute_result"
    }
   ],
   "source": [
    "dataframe_log"
   ]
  },
  {
   "cell_type": "markdown",
   "metadata": {},
   "source": [
    "# Insert Start & End markers"
   ]
  },
  {
   "cell_type": "code",
   "execution_count": 8,
   "metadata": {},
   "outputs": [],
   "source": [
    "# Define a function to insert start and end markers\n",
    "def add_markers(df):\n",
    "    # Identify unique case indices\n",
    "    case_indices = df['@@case_index'].unique()\n",
    "    \n",
    "    # Prepare a container for new DataFrame rows\n",
    "    new_rows = []\n",
    "    \n",
    "    # Iterate over each case index to add start and end markers\n",
    "    for case_index in case_indices:\n",
    "        # Create a start marker row with all columns except @@case_index set to 'Start'\n",
    "        start_row = {col: 'Start' if col != '@@case_index' else case_index for col in df.columns}\n",
    "        \n",
    "        # Create an end marker row with all columns except @@case_index set to 'End'\n",
    "        end_row = {col: 'End' if col != '@@case_index' else case_index for col in df.columns}\n",
    "        \n",
    "        # Append start row, rows for the current case, and end row\n",
    "        new_rows.append(start_row)\n",
    "        new_rows.extend(df[df['@@case_index'] == case_index].to_dict('records'))\n",
    "        new_rows.append(end_row)\n",
    "    \n",
    "    # Convert the list of rows into a DataFrame\n",
    "    return pd.DataFrame(new_rows)\n",
    "\n",
    "# Apply the function to add start and end markers to the dataframe\n",
    "modified_dataframe = add_markers(dataframe_log)"
   ]
  },
  {
   "cell_type": "markdown",
   "metadata": {},
   "source": [
    "# Preprocess"
   ]
  },
  {
   "cell_type": "code",
   "execution_count": 10,
   "metadata": {},
   "outputs": [],
   "source": [
    "modified_dataframe['standardized_elapsed_time'] = modified_dataframe['standardized_elapsed_time'].replace({'Start': 0, 'End': 1})"
   ]
  },
  {
   "cell_type": "code",
   "execution_count": 11,
   "metadata": {},
   "outputs": [],
   "source": [
    "codes, uniques = pd.factorize(modified_dataframe['org:resource'])\n",
    "modified_dataframe['org:resource'] = codes"
   ]
  },
  {
   "cell_type": "code",
   "execution_count": 12,
   "metadata": {},
   "outputs": [],
   "source": [
    "codes, uniques = pd.factorize(modified_dataframe['concept:name'])\n",
    "modified_dataframe['concept:name'] = codes"
   ]
  },
  {
   "cell_type": "markdown",
   "metadata": {},
   "source": [
    "### Padding for Cases with less then 5 events"
   ]
  },
  {
   "cell_type": "code",
   "execution_count": 13,
   "metadata": {},
   "outputs": [
    {
     "data": {
      "text/plain": [
       "6"
      ]
     },
     "execution_count": 13,
     "metadata": {},
     "output_type": "execute_result"
    }
   ],
   "source": [
    "# Calculating the frequency of each unique value in '@@case_index'\n",
    "frequency = modified_dataframe['@@case_index'].value_counts()\n",
    "\n",
    "# Finding the minimum occurrence\n",
    "min_occurrence = frequency.min()\n",
    "\n",
    "min_occurrence"
   ]
  },
  {
   "cell_type": "markdown",
   "metadata": {},
   "source": [
    "# Generate sliding windows"
   ]
  },
  {
   "cell_type": "code",
   "execution_count": 14,
   "metadata": {},
   "outputs": [],
   "source": [
    "df_resource = modified_dataframe[['org:resource', '@@case_index']]\n",
    "df_activity = modified_dataframe[['concept:name', '@@case_index']]\n",
    "df_timestamp = modified_dataframe[['standardized_elapsed_time', '@@case_index']]"
   ]
  },
  {
   "cell_type": "code",
   "execution_count": 15,
   "metadata": {},
   "outputs": [],
   "source": [
    "def generate_sliding_windows(df, case_id_column='@@case_index', window_size=5):\n",
    "    windows = []\n",
    "    targets = []\n",
    "    case_indices = []\n",
    "\n",
    "    # Iterate over each unique case\n",
    "    for case_id in df[case_id_column].unique():\n",
    "        # Extract the case\n",
    "        case_data = df[df[case_id_column] == case_id]\n",
    "        \n",
    "        # Convert case_data to a NumPy array and drop the case_id_column\n",
    "        case_data_array = case_data.drop(columns=[case_id_column]).to_numpy()\n",
    "\n",
    "        # Adjusting the condition to correctly reflect window_size without needing an additional +1\n",
    "        # Now it correctly considers window_size as including the target event\n",
    "        if len(case_data_array) >= window_size:\n",
    "            # Adjust the loop to generate sliding windows of size window_size - 1 for the inputs and use the next event as the target\n",
    "            for i in range(len(case_data_array) - window_size + 1):\n",
    "                # window now has window_size - 1 events\n",
    "                window = case_data_array[i:i + window_size - 1]\n",
    "                # The target is the event immediately following the window\n",
    "                target = case_data_array[i + window_size - 1]\n",
    "                windows.append(window)\n",
    "                targets.append(target)\n",
    "                case_indices.append(case_id)  # Store the case_id corresponding to the window\n",
    "\n",
    "    # Convert lists to numpy arrays for easier handling and to ensure they are two-dimensional\n",
    "    windows_array = np.array(windows)\n",
    "    targets_array = np.array(targets)\n",
    "    case_indices_array = np.array(case_indices)\n",
    "    \n",
    "    return windows_array, targets_array, case_indices_array"
   ]
  },
  {
   "cell_type": "code",
   "execution_count": 16,
   "metadata": {},
   "outputs": [],
   "source": [
    "windows_resource, targets_resource, case_indices = generate_sliding_windows(df_resource)\n",
    "windows_activity, targets_activity, case_indices = generate_sliding_windows(df_activity)\n",
    "windows_timestamp, targets_timestamp, case_indices = generate_sliding_windows(df_timestamp)"
   ]
  },
  {
   "cell_type": "markdown",
   "metadata": {},
   "source": [
    "# LSTM"
   ]
  },
  {
   "cell_type": "markdown",
   "metadata": {},
   "source": [
    "### Architecture"
   ]
  },
  {
   "cell_type": "code",
   "execution_count": 17,
   "metadata": {},
   "outputs": [
    {
     "name": "stderr",
     "output_type": "stream",
     "text": [
      "2024-06-29 17:35:28.019295: I tensorflow/core/platform/cpu_feature_guard.cc:182] This TensorFlow binary is optimized to use available CPU instructions in performance-critical operations.\n",
      "To enable the following instructions: AVX2 FMA, in other operations, rebuild TensorFlow with the appropriate compiler flags.\n"
     ]
    },
    {
     "name": "stdout",
     "output_type": "stream",
     "text": [
      "Model: \"model\"\n",
      "__________________________________________________________________________________________________\n",
      " Layer (type)                Output Shape                 Param #   Connected to                  \n",
      "==================================================================================================\n",
      " input_resource (InputLayer  [(None, 4)]                  0         []                            \n",
      " )                                                                                                \n",
      "                                                                                                  \n",
      " input_activity (InputLayer  [(None, 4)]                  0         []                            \n",
      " )                                                                                                \n",
      "                                                                                                  \n",
      " embedding (Embedding)       (None, 4, 50)                7050      ['input_resource[0][0]']      \n",
      "                                                                                                  \n",
      " embedding_1 (Embedding)     (None, 4, 50)                2900      ['input_activity[0][0]']      \n",
      "                                                                                                  \n",
      " input_timestamp (InputLaye  [(None, 4, 1)]               0         []                            \n",
      " r)                                                                                               \n",
      "                                                                                                  \n",
      " lstm (LSTM)                 (None, 25)                   7600      ['embedding[0][0]']           \n",
      "                                                                                                  \n",
      " lstm_1 (LSTM)               (None, 25)                   7600      ['embedding_1[0][0]']         \n",
      "                                                                                                  \n",
      " lstm_2 (LSTM)               (None, 25)                   2700      ['input_timestamp[0][0]']     \n",
      "                                                                                                  \n",
      " concatenate (Concatenate)   (None, 75)                   0         ['lstm[0][0]',                \n",
      "                                                                     'lstm_1[0][0]',              \n",
      "                                                                     'lstm_2[0][0]']              \n",
      "                                                                                                  \n",
      " output_resource (Dense)     (None, 141)                  10716     ['concatenate[0][0]']         \n",
      "                                                                                                  \n",
      " output_activity (Dense)     (None, 58)                   4408      ['concatenate[0][0]']         \n",
      "                                                                                                  \n",
      " output_timestamp (Dense)    (None, 1)                    76        ['concatenate[0][0]']         \n",
      "                                                                                                  \n",
      "==================================================================================================\n",
      "Total params: 43050 (168.16 KB)\n",
      "Trainable params: 43050 (168.16 KB)\n",
      "Non-trainable params: 0 (0.00 Byte)\n",
      "__________________________________________________________________________________________________\n"
     ]
    }
   ],
   "source": [
    "from tensorflow.keras.models import Model\n",
    "from tensorflow.keras.layers import Input, LSTM, Dense, Concatenate, Embedding\n",
    "\n",
    "# Assuming these values as placeholders, replace them with actual counts from your data\n",
    "num_resources = modified_dataframe['org:resource'].nunique()\n",
    "num_activities = modified_dataframe['concept:name'].nunique()\n",
    "\n",
    "embedding_dim_resource = 50\n",
    "embedding_dim_activity = 50\n",
    "\n",
    "time_steps = 4\n",
    "\n",
    "# Input layers\n",
    "input_resource = Input(shape=(time_steps,), name='input_resource')\n",
    "input_activity = Input(shape=(time_steps,), name='input_activity')\n",
    "input_timestamp = Input(shape=(time_steps, 1), name='input_timestamp')\n",
    "\n",
    "# Embedding layers\n",
    "embedding_resource = Embedding(input_dim=num_resources, output_dim=embedding_dim_resource, input_length=time_steps)(input_resource)\n",
    "embedding_activity = Embedding(input_dim=num_activities, output_dim=embedding_dim_activity, input_length=time_steps)(input_activity)\n",
    "\n",
    "# LSTM layers\n",
    "lstm_resource = LSTM(25, return_sequences=False)(embedding_resource)\n",
    "lstm_activity = LSTM(25, return_sequences=False)(embedding_activity)\n",
    "lstm_timestamp = LSTM(25, return_sequences=False)(input_timestamp)\n",
    "\n",
    "# Concatenate outputs\n",
    "concatenated = Concatenate(axis=-1)([lstm_resource, lstm_activity, lstm_timestamp])\n",
    "\n",
    "# Output layers\n",
    "output_resource = Dense(num_resources, activation='softmax', name='output_resource')(concatenated)\n",
    "output_activity = Dense(num_activities, activation='softmax', name='output_activity')(concatenated)\n",
    "output_timestamp = Dense(1, activation='linear', name='output_timestamp')(concatenated)\n",
    "\n",
    "# Create and compile the model\n",
    "model = Model(inputs=[input_resource, input_activity, input_timestamp], \n",
    "              outputs=[output_resource, output_activity, output_timestamp])\n",
    "\n",
    "model.compile(optimizer='adam', \n",
    "              loss={'output_resource': 'categorical_crossentropy', \n",
    "                    'output_activity': 'categorical_crossentropy', \n",
    "                    'output_timestamp': 'mean_squared_error'},\n",
    "              metrics={'output_resource': 'accuracy', \n",
    "                       'output_activity': 'accuracy', \n",
    "                       'output_timestamp': 'mean_absolute_error'})\n",
    "\n",
    "model.summary()\n"
   ]
  },
  {
   "cell_type": "markdown",
   "metadata": {},
   "source": [
    "# Data Splitting"
   ]
  },
  {
   "cell_type": "code",
   "execution_count": 18,
   "metadata": {},
   "outputs": [],
   "source": [
    "from sklearn.model_selection import train_test_split\n",
    "\n",
    "# Split the resource data\n",
    "train_resource, test_resource, train_targets_resource, test_targets_resource = train_test_split(\n",
    "    windows_resource, targets_resource, test_size=0.3, random_state=42)\n",
    "\n",
    "# Split the activity data\n",
    "train_activity, test_activity, train_targets_activity, test_targets_activity = train_test_split(\n",
    "    windows_activity, targets_activity, test_size=0.3, random_state=42)\n",
    "\n",
    "# Split the timestamp data\n",
    "train_timestamp, test_timestamp, train_targets_timestamp, test_targets_timestamp = train_test_split(\n",
    "    windows_timestamp, targets_timestamp, test_size=0.3, random_state=42)\n"
   ]
  },
  {
   "cell_type": "markdown",
   "metadata": {},
   "source": [
    "# Training"
   ]
  },
  {
   "cell_type": "code",
   "execution_count": 19,
   "metadata": {},
   "outputs": [],
   "source": [
    "from tensorflow.keras.callbacks import EarlyStopping\n",
    "from tensorflow.keras.callbacks import LearningRateScheduler\n",
    "\n",
    "# EarlyStopping callback\n",
    "early_stopping = EarlyStopping(monitor='val_loss', patience=3, restore_best_weights=True)\n",
    "\n",
    "def cyclic_lr(epoch, lr):\n",
    "    # Example function that modulates LR within a range for each epoch\n",
    "    # Customize this function based on your cyclic learning rate policy\n",
    "    max_lr = 0.01  # Maximum LR\n",
    "    base_lr = 0.001  # Base LR\n",
    "    step_size = 10  # Number of epochs for half a cycle\n",
    "    cycle = np.floor(1 + epoch / (2 * step_size))\n",
    "    x = np.abs(epoch / step_size - 2 * cycle + 1)\n",
    "    lr = base_lr + (max_lr - base_lr) * np.maximum(0, (1 - x))\n",
    "    return lr\n",
    "\n",
    "lr_scheduler = LearningRateScheduler(cyclic_lr)"
   ]
  },
  {
   "cell_type": "code",
   "execution_count": 20,
   "metadata": {},
   "outputs": [
    {
     "name": "stdout",
     "output_type": "stream",
     "text": [
      "Epoch 1/25\n",
      "240/240 [==============================] - 7s 10ms/step - loss: 6.3369 - output_resource_loss: 3.2443 - output_activity_loss: 2.1787 - output_timestamp_loss: 0.9139 - output_resource_accuracy: 0.2360 - output_activity_accuracy: 0.4762 - output_timestamp_mean_absolute_error: 0.2152 - val_loss: 4.5877 - val_output_resource_loss: 2.3619 - val_output_activity_loss: 1.2438 - val_output_timestamp_loss: 0.9821 - val_output_resource_accuracy: 0.3927 - val_output_activity_accuracy: 0.6728 - val_output_timestamp_mean_absolute_error: 0.1310 - lr: 0.0010\n",
      "Epoch 2/25\n",
      "240/240 [==============================] - 1s 5ms/step - loss: 3.3258 - output_resource_loss: 1.7744 - output_activity_loss: 0.7423 - output_timestamp_loss: 0.8091 - output_resource_accuracy: 0.5450 - output_activity_accuracy: 0.8440 - output_timestamp_mean_absolute_error: 0.1173 - val_loss: 2.8723 - val_output_resource_loss: 1.4252 - val_output_activity_loss: 0.5465 - val_output_timestamp_loss: 0.9006 - val_output_resource_accuracy: 0.6026 - val_output_activity_accuracy: 0.8856 - val_output_timestamp_mean_absolute_error: 0.1037 - lr: 0.0019\n",
      "Epoch 3/25\n",
      "240/240 [==============================] - 1s 5ms/step - loss: 2.4665 - output_resource_loss: 1.2680 - output_activity_loss: 0.4531 - output_timestamp_loss: 0.7453 - output_resource_accuracy: 0.6406 - output_activity_accuracy: 0.9018 - output_timestamp_mean_absolute_error: 0.1122 - val_loss: 2.4495 - val_output_resource_loss: 1.1657 - val_output_activity_loss: 0.4236 - val_output_timestamp_loss: 0.8602 - val_output_resource_accuracy: 0.6598 - val_output_activity_accuracy: 0.9133 - val_output_timestamp_mean_absolute_error: 0.0967 - lr: 0.0028\n",
      "Epoch 4/25\n",
      "240/240 [==============================] - 1s 6ms/step - loss: 2.1688 - output_resource_loss: 1.1013 - output_activity_loss: 0.3648 - output_timestamp_loss: 0.7027 - output_resource_accuracy: 0.6667 - output_activity_accuracy: 0.9227 - output_timestamp_mean_absolute_error: 0.1069 - val_loss: 2.3110 - val_output_resource_loss: 1.0820 - val_output_activity_loss: 0.3722 - val_output_timestamp_loss: 0.8568 - val_output_resource_accuracy: 0.6746 - val_output_activity_accuracy: 0.9233 - val_output_timestamp_mean_absolute_error: 0.1501 - lr: 0.0037\n",
      "Epoch 5/25\n",
      "240/240 [==============================] - 2s 7ms/step - loss: 2.0150 - output_resource_loss: 1.0330 - output_activity_loss: 0.3266 - output_timestamp_loss: 0.6554 - output_resource_accuracy: 0.6758 - output_activity_accuracy: 0.9332 - output_timestamp_mean_absolute_error: 0.1268 - val_loss: 2.2039 - val_output_resource_loss: 1.0417 - val_output_activity_loss: 0.3498 - val_output_timestamp_loss: 0.8124 - val_output_resource_accuracy: 0.6831 - val_output_activity_accuracy: 0.9308 - val_output_timestamp_mean_absolute_error: 0.1042 - lr: 0.0046\n",
      "Epoch 6/25\n",
      "240/240 [==============================] - 1s 5ms/step - loss: 1.9201 - output_resource_loss: 0.9954 - output_activity_loss: 0.3031 - output_timestamp_loss: 0.6217 - output_resource_accuracy: 0.6774 - output_activity_accuracy: 0.9379 - output_timestamp_mean_absolute_error: 0.1320 - val_loss: 2.1566 - val_output_resource_loss: 1.0260 - val_output_activity_loss: 0.3386 - val_output_timestamp_loss: 0.7920 - val_output_resource_accuracy: 0.6855 - val_output_activity_accuracy: 0.9320 - val_output_timestamp_mean_absolute_error: 0.1565 - lr: 0.0055\n",
      "Epoch 7/25\n",
      "240/240 [==============================] - 1s 5ms/step - loss: 1.8363 - output_resource_loss: 0.9688 - output_activity_loss: 0.2898 - output_timestamp_loss: 0.5776 - output_resource_accuracy: 0.6832 - output_activity_accuracy: 0.9395 - output_timestamp_mean_absolute_error: 0.1332 - val_loss: 2.1517 - val_output_resource_loss: 1.0422 - val_output_activity_loss: 0.3301 - val_output_timestamp_loss: 0.7795 - val_output_resource_accuracy: 0.6785 - val_output_activity_accuracy: 0.9334 - val_output_timestamp_mean_absolute_error: 0.1748 - lr: 0.0064\n",
      "Epoch 8/25\n",
      "240/240 [==============================] - 1s 5ms/step - loss: 1.7782 - output_resource_loss: 0.9529 - output_activity_loss: 0.2783 - output_timestamp_loss: 0.5470 - output_resource_accuracy: 0.6823 - output_activity_accuracy: 0.9412 - output_timestamp_mean_absolute_error: 0.1386 - val_loss: 2.1235 - val_output_resource_loss: 1.0211 - val_output_activity_loss: 0.3286 - val_output_timestamp_loss: 0.7738 - val_output_resource_accuracy: 0.6810 - val_output_activity_accuracy: 0.9366 - val_output_timestamp_mean_absolute_error: 0.1688 - lr: 0.0073\n",
      "Epoch 9/25\n",
      "240/240 [==============================] - 1s 5ms/step - loss: 1.7529 - output_resource_loss: 0.9438 - output_activity_loss: 0.2743 - output_timestamp_loss: 0.5348 - output_resource_accuracy: 0.6836 - output_activity_accuracy: 0.9403 - output_timestamp_mean_absolute_error: 0.1851 - val_loss: 2.1289 - val_output_resource_loss: 1.0327 - val_output_activity_loss: 0.3250 - val_output_timestamp_loss: 0.7713 - val_output_resource_accuracy: 0.6775 - val_output_activity_accuracy: 0.9317 - val_output_timestamp_mean_absolute_error: 0.1514 - lr: 0.0082\n",
      "Epoch 10/25\n",
      "240/240 [==============================] - 1s 5ms/step - loss: 1.6674 - output_resource_loss: 0.9272 - output_activity_loss: 0.2668 - output_timestamp_loss: 0.4734 - output_resource_accuracy: 0.6875 - output_activity_accuracy: 0.9426 - output_timestamp_mean_absolute_error: 0.1586 - val_loss: 2.1095 - val_output_resource_loss: 1.0338 - val_output_activity_loss: 0.3315 - val_output_timestamp_loss: 0.7442 - val_output_resource_accuracy: 0.6836 - val_output_activity_accuracy: 0.9347 - val_output_timestamp_mean_absolute_error: 0.1522 - lr: 0.0091\n",
      "Epoch 11/25\n",
      "240/240 [==============================] - 1s 5ms/step - loss: 1.6311 - output_resource_loss: 0.9200 - output_activity_loss: 0.2606 - output_timestamp_loss: 0.4505 - output_resource_accuracy: 0.6875 - output_activity_accuracy: 0.9431 - output_timestamp_mean_absolute_error: 0.1764 - val_loss: 2.1992 - val_output_resource_loss: 1.0686 - val_output_activity_loss: 0.3395 - val_output_timestamp_loss: 0.7910 - val_output_resource_accuracy: 0.6592 - val_output_activity_accuracy: 0.9296 - val_output_timestamp_mean_absolute_error: 0.1836 - lr: 0.0100\n",
      "Epoch 12/25\n",
      "240/240 [==============================] - 1s 5ms/step - loss: 1.5342 - output_resource_loss: 0.9020 - output_activity_loss: 0.2529 - output_timestamp_loss: 0.3793 - output_resource_accuracy: 0.6891 - output_activity_accuracy: 0.9443 - output_timestamp_mean_absolute_error: 0.1851 - val_loss: 2.0829 - val_output_resource_loss: 1.0326 - val_output_activity_loss: 0.3303 - val_output_timestamp_loss: 0.7200 - val_output_resource_accuracy: 0.6682 - val_output_activity_accuracy: 0.9340 - val_output_timestamp_mean_absolute_error: 0.1938 - lr: 0.0091\n",
      "Epoch 13/25\n",
      "240/240 [==============================] - 1s 5ms/step - loss: 1.4956 - output_resource_loss: 0.8811 - output_activity_loss: 0.2440 - output_timestamp_loss: 0.3705 - output_resource_accuracy: 0.6915 - output_activity_accuracy: 0.9453 - output_timestamp_mean_absolute_error: 0.1704 - val_loss: 2.0811 - val_output_resource_loss: 1.0467 - val_output_activity_loss: 0.3321 - val_output_timestamp_loss: 0.7022 - val_output_resource_accuracy: 0.6779 - val_output_activity_accuracy: 0.9334 - val_output_timestamp_mean_absolute_error: 0.1823 - lr: 0.0082\n",
      "Epoch 14/25\n",
      "240/240 [==============================] - 1s 5ms/step - loss: 1.3668 - output_resource_loss: 0.8572 - output_activity_loss: 0.2343 - output_timestamp_loss: 0.2753 - output_resource_accuracy: 0.7009 - output_activity_accuracy: 0.9473 - output_timestamp_mean_absolute_error: 0.1530 - val_loss: 2.0590 - val_output_resource_loss: 1.0371 - val_output_activity_loss: 0.3321 - val_output_timestamp_loss: 0.6897 - val_output_resource_accuracy: 0.6801 - val_output_activity_accuracy: 0.9344 - val_output_timestamp_mean_absolute_error: 0.1856 - lr: 0.0073\n",
      "Epoch 15/25\n",
      "240/240 [==============================] - 2s 7ms/step - loss: 1.3157 - output_resource_loss: 0.8395 - output_activity_loss: 0.2265 - output_timestamp_loss: 0.2498 - output_resource_accuracy: 0.7033 - output_activity_accuracy: 0.9487 - output_timestamp_mean_absolute_error: 0.1491 - val_loss: 2.0532 - val_output_resource_loss: 1.0341 - val_output_activity_loss: 0.3345 - val_output_timestamp_loss: 0.6846 - val_output_resource_accuracy: 0.6916 - val_output_activity_accuracy: 0.9306 - val_output_timestamp_mean_absolute_error: 0.1719 - lr: 0.0064\n",
      "Epoch 16/25\n",
      "240/240 [==============================] - 1s 5ms/step - loss: 1.2368 - output_resource_loss: 0.8228 - output_activity_loss: 0.2203 - output_timestamp_loss: 0.1937 - output_resource_accuracy: 0.7081 - output_activity_accuracy: 0.9503 - output_timestamp_mean_absolute_error: 0.1432 - val_loss: 2.0398 - val_output_resource_loss: 1.0314 - val_output_activity_loss: 0.3333 - val_output_timestamp_loss: 0.6751 - val_output_resource_accuracy: 0.6860 - val_output_activity_accuracy: 0.9321 - val_output_timestamp_mean_absolute_error: 0.1633 - lr: 0.0055\n",
      "Epoch 17/25\n",
      "240/240 [==============================] - 1s 5ms/step - loss: 1.1885 - output_resource_loss: 0.8101 - output_activity_loss: 0.2155 - output_timestamp_loss: 0.1629 - output_resource_accuracy: 0.7102 - output_activity_accuracy: 0.9504 - output_timestamp_mean_absolute_error: 0.1298 - val_loss: 2.0411 - val_output_resource_loss: 1.0289 - val_output_activity_loss: 0.3353 - val_output_timestamp_loss: 0.6768 - val_output_resource_accuracy: 0.6892 - val_output_activity_accuracy: 0.9309 - val_output_timestamp_mean_absolute_error: 0.1671 - lr: 0.0046\n",
      "Epoch 18/25\n",
      "240/240 [==============================] - 1s 5ms/step - loss: 1.1471 - output_resource_loss: 0.7948 - output_activity_loss: 0.2101 - output_timestamp_loss: 0.1422 - output_resource_accuracy: 0.7121 - output_activity_accuracy: 0.9518 - output_timestamp_mean_absolute_error: 0.1217 - val_loss: 2.0400 - val_output_resource_loss: 1.0362 - val_output_activity_loss: 0.3364 - val_output_timestamp_loss: 0.6674 - val_output_resource_accuracy: 0.6866 - val_output_activity_accuracy: 0.9340 - val_output_timestamp_mean_absolute_error: 0.1758 - lr: 0.0037\n",
      "Epoch 19/25\n",
      "240/240 [==============================] - 1s 5ms/step - loss: 1.1143 - output_resource_loss: 0.7827 - output_activity_loss: 0.2046 - output_timestamp_loss: 0.1270 - output_resource_accuracy: 0.7190 - output_activity_accuracy: 0.9531 - output_timestamp_mean_absolute_error: 0.1137 - val_loss: 2.0368 - val_output_resource_loss: 1.0364 - val_output_activity_loss: 0.3359 - val_output_timestamp_loss: 0.6645 - val_output_resource_accuracy: 0.6802 - val_output_activity_accuracy: 0.9318 - val_output_timestamp_mean_absolute_error: 0.1434 - lr: 0.0028\n",
      "Epoch 20/25\n",
      "240/240 [==============================] - 1s 6ms/step - loss: 1.0874 - output_resource_loss: 0.7731 - output_activity_loss: 0.2006 - output_timestamp_loss: 0.1138 - output_resource_accuracy: 0.7191 - output_activity_accuracy: 0.9543 - output_timestamp_mean_absolute_error: 0.0999 - val_loss: 2.0276 - val_output_resource_loss: 1.0363 - val_output_activity_loss: 0.3361 - val_output_timestamp_loss: 0.6552 - val_output_resource_accuracy: 0.6782 - val_output_activity_accuracy: 0.9331 - val_output_timestamp_mean_absolute_error: 0.1444 - lr: 0.0019\n",
      "Epoch 21/25\n",
      "240/240 [==============================] - 1s 5ms/step - loss: 1.0630 - output_resource_loss: 0.7616 - output_activity_loss: 0.1961 - output_timestamp_loss: 0.1054 - output_resource_accuracy: 0.7269 - output_activity_accuracy: 0.9554 - output_timestamp_mean_absolute_error: 0.0888 - val_loss: 2.0249 - val_output_resource_loss: 1.0322 - val_output_activity_loss: 0.3358 - val_output_timestamp_loss: 0.6569 - val_output_resource_accuracy: 0.6820 - val_output_activity_accuracy: 0.9328 - val_output_timestamp_mean_absolute_error: 0.1404 - lr: 0.0010\n",
      "Epoch 22/25\n",
      "240/240 [==============================] - 1s 5ms/step - loss: 1.0710 - output_resource_loss: 0.7673 - output_activity_loss: 0.1980 - output_timestamp_loss: 0.1057 - output_resource_accuracy: 0.7233 - output_activity_accuracy: 0.9553 - output_timestamp_mean_absolute_error: 0.0974 - val_loss: 2.0289 - val_output_resource_loss: 1.0363 - val_output_activity_loss: 0.3371 - val_output_timestamp_loss: 0.6555 - val_output_resource_accuracy: 0.6899 - val_output_activity_accuracy: 0.9346 - val_output_timestamp_mean_absolute_error: 0.1441 - lr: 0.0019\n",
      "Epoch 23/25\n",
      "240/240 [==============================] - 1s 5ms/step - loss: 1.0805 - output_resource_loss: 0.7733 - output_activity_loss: 0.2004 - output_timestamp_loss: 0.1068 - output_resource_accuracy: 0.7213 - output_activity_accuracy: 0.9541 - output_timestamp_mean_absolute_error: 0.1128 - val_loss: 2.0447 - val_output_resource_loss: 1.0428 - val_output_activity_loss: 0.3403 - val_output_timestamp_loss: 0.6615 - val_output_resource_accuracy: 0.6805 - val_output_activity_accuracy: 0.9323 - val_output_timestamp_mean_absolute_error: 0.1719 - lr: 0.0028\n",
      "Epoch 24/25\n",
      "240/240 [==============================] - 1s 6ms/step - loss: 1.0914 - output_resource_loss: 0.7787 - output_activity_loss: 0.2023 - output_timestamp_loss: 0.1103 - output_resource_accuracy: 0.7190 - output_activity_accuracy: 0.9533 - output_timestamp_mean_absolute_error: 0.1342 - val_loss: 2.0546 - val_output_resource_loss: 1.0472 - val_output_activity_loss: 0.3436 - val_output_timestamp_loss: 0.6638 - val_output_resource_accuracy: 0.6753 - val_output_activity_accuracy: 0.9314 - val_output_timestamp_mean_absolute_error: 0.1757 - lr: 0.0037\n",
      "Epoch 25/25\n",
      "240/240 [==============================] - 1s 5ms/step - loss: 1.1084 - output_resource_loss: 0.7831 - output_activity_loss: 0.2055 - output_timestamp_loss: 0.1199 - output_resource_accuracy: 0.7206 - output_activity_accuracy: 0.9518 - output_timestamp_mean_absolute_error: 0.1568 - val_loss: 2.1001 - val_output_resource_loss: 1.0559 - val_output_activity_loss: 0.3448 - val_output_timestamp_loss: 0.6993 - val_output_resource_accuracy: 0.6798 - val_output_activity_accuracy: 0.9309 - val_output_timestamp_mean_absolute_error: 0.2692 - lr: 0.0046\n"
     ]
    }
   ],
   "source": [
    "import numpy as np\n",
    "from tensorflow.keras.utils import to_categorical\n",
    "\n",
    "\n",
    "train_targets_resource_cat = to_categorical(train_targets_resource, num_classes=num_resources)\n",
    "test_targets_resource_cat = to_categorical(test_targets_resource, num_classes=num_resources)\n",
    "\n",
    "train_targets_activity_cat = to_categorical(train_targets_activity, num_classes=num_activities)\n",
    "test_targets_activity_cat = to_categorical(test_targets_activity, num_classes=num_activities)\n",
    "\n",
    "\n",
    "# Note: Assuming timestamp targets are continuous and don't need to be converted to categorical\n",
    "\n",
    "history = model.fit([train_resource, train_activity, train_timestamp], \n",
    "                    [train_targets_resource_cat, train_targets_activity_cat, train_targets_timestamp],\n",
    "                    epochs=25,\n",
    "                    batch_size=64,\n",
    "                    validation_data=([test_resource, test_activity, test_timestamp], \n",
    "                                     [test_targets_resource_cat, test_targets_activity_cat, test_targets_timestamp]),\n",
    "                    verbose=1,\n",
    "                    callbacks=[lr_scheduler])  # Add other callbacks as needed"
   ]
  },
  {
   "cell_type": "code",
   "execution_count": 21,
   "metadata": {},
   "outputs": [
    {
     "name": "stdout",
     "output_type": "stream",
     "text": [
      "206/206 [==============================] - 0s 2ms/step - loss: 2.1001 - output_resource_loss: 1.0559 - output_activity_loss: 0.3448 - output_timestamp_loss: 0.6993 - output_resource_accuracy: 0.6798 - output_activity_accuracy: 0.9309 - output_timestamp_mean_absolute_error: 0.2692\n",
      "[2.100059986114502, 1.0559148788452148, 0.3448486626148224, 0.6992965340614319, 0.6797505021095276, 0.9309295415878296, 0.26917487382888794]\n"
     ]
    }
   ],
   "source": [
    "evaluation = model.evaluate(\n",
    "    [test_resource, test_activity, test_timestamp],\n",
    "    [test_targets_resource_cat, test_targets_activity_cat, test_targets_timestamp]\n",
    ")\n",
    "\n",
    "print(evaluation)"
   ]
  },
  {
   "cell_type": "code",
   "execution_count": 22,
   "metadata": {},
   "outputs": [
    {
     "name": "stderr",
     "output_type": "stream",
     "text": [
      "/opt/anaconda3/lib/python3.9/site-packages/keras/src/engine/training.py:3000: UserWarning: You are saving your model as an HDF5 file via `model.save()`. This file format is considered legacy. We recommend using instead the native Keras format, e.g. `model.save('my_model.keras')`.\n",
      "  saving_api.save_model(\n"
     ]
    }
   ],
   "source": [
    "# Save the model to an H5 file\n",
    "model.save('dapnn_wide.h5')"
   ]
  },
  {
   "cell_type": "markdown",
   "metadata": {},
   "source": [
    "# Anomaly Score Computation"
   ]
  },
  {
   "cell_type": "code",
   "execution_count": 23,
   "metadata": {},
   "outputs": [
    {
     "name": "stdout",
     "output_type": "stream",
     "text": [
      "685/685 [==============================] - 3s 2ms/step\n"
     ]
    }
   ],
   "source": [
    "# Generate predictions for all inputs\n",
    "predictions = model.predict([windows_resource, windows_activity, windows_timestamp])\n",
    "\n",
    "# Extract predictions for categorical attributes (softmax probabilities)\n",
    "predictions_resource = predictions[0]        # ID predictions\n",
    "predictions_activity = predictions[1]  # Resource predictions\n",
    "\n",
    "# Extract predictions for numerical attribute (timestamp)\n",
    "predictions_timestamp = predictions[2] # Timestamp predictions"
   ]
  },
  {
   "cell_type": "code",
   "execution_count": 24,
   "metadata": {},
   "outputs": [],
   "source": [
    "import numpy as np\n",
    "from tensorflow.keras.utils import to_categorical\n",
    "\n",
    "def compute_anomaly_scores(predictions, actuals):\n",
    "    # For categorical predictions, convert actuals to one-hot for comparison\n",
    "    actuals_one_hot = to_categorical(actuals, num_classes=predictions.shape[-1])\n",
    "    \n",
    "    max_predictions = np.max(predictions, axis=-1)\n",
    "    actual_predictions = np.sum(predictions * actuals_one_hot, axis=-1)  # Extract the probability of the actual class\n",
    "    \n",
    "    anomaly_scores = (max_predictions - actual_predictions) / max_predictions\n",
    "    \n",
    "    return anomaly_scores\n",
    "\n",
    "# Assuming targets_id, targets_resource, targets_activity, targets_role are the true values for these attributes\n",
    "anomaly_scores_resource = compute_anomaly_scores(predictions_resource, targets_resource)\n",
    "anomaly_scores_activity = compute_anomaly_scores(predictions_activity, targets_activity)"
   ]
  },
  {
   "cell_type": "code",
   "execution_count": 25,
   "metadata": {},
   "outputs": [],
   "source": [
    "def compute_anomaly_scores_continuous(predictions, actuals, normalization_factor):\n",
    "    \"\"\"\n",
    "    Compute anomaly scores for continuous attributes.\n",
    "    \n",
    "    Parameters:\n",
    "    - predictions: numpy array of predicted values.\n",
    "    - actuals: numpy array of actual values.\n",
    "    - normalization_factor: normalization factor (e.g., standard deviation of the attribute).\n",
    "    \n",
    "    Returns:\n",
    "    - numpy array of anomaly scores.\n",
    "    \"\"\"\n",
    "    # Calculate absolute differences\n",
    "    differences = np.abs(predictions - actuals)\n",
    "    \n",
    "    # Normalize the differences\n",
    "    anomaly_scores = differences / normalization_factor\n",
    "    \n",
    "    return anomaly_scores"
   ]
  },
  {
   "cell_type": "code",
   "execution_count": 26,
   "metadata": {},
   "outputs": [],
   "source": [
    "normalization_factor = np.std(targets_timestamp)       # Example normalization factor (standard deviation)\n",
    "anomaly_scores_timestamp = compute_anomaly_scores_continuous(predictions_timestamp, targets_timestamp, normalization_factor)"
   ]
  },
  {
   "cell_type": "code",
   "execution_count": 27,
   "metadata": {},
   "outputs": [],
   "source": [
    "import numpy as np\n",
    "\n",
    "def classify_cases(anomaly_scores_resource, anomaly_scores_activity, anomaly_scores_timestamp, threshold=0.98):\n",
    "    # Ensure all inputs are numpy arrays of the same shape\n",
    "    anomaly_scores_resource = np.array(anomaly_scores_resource).flatten()\n",
    "    anomaly_scores_activity = np.array(anomaly_scores_activity).flatten()\n",
    "    anomaly_scores_timestamp = np.array(anomaly_scores_timestamp).flatten()\n",
    "\n",
    "    # Check if all arrays have the same length\n",
    "    if not (len(anomaly_scores_resource) == len(anomaly_scores_activity) == len(anomaly_scores_timestamp)):\n",
    "        raise ValueError(\"All input anomaly scores must have the same length.\")\n",
    "\n",
    "    # Find the maximum anomaly score across all attributes for each case\n",
    "    max_scores = np.maximum.reduce([anomaly_scores_resource, anomaly_scores_activity, anomaly_scores_timestamp])\n",
    "\n",
    "    # Classify cases as anomalous if the maximum anomaly score exceeds the threshold\n",
    "    anomalous_cases = max_scores > threshold\n",
    "    \n",
    "    return anomalous_cases\n",
    "\n",
    "# Now use the anomaly scores for resource, activity, and timestamp in the classification\n",
    "anomalous_cases = classify_cases(anomaly_scores_resource, anomaly_scores_activity, anomaly_scores_timestamp)"
   ]
  },
  {
   "cell_type": "code",
   "execution_count": 43,
   "metadata": {},
   "outputs": [],
   "source": [
    "import numpy as np\n",
    "\n",
    "def classify_cases(anomaly_scores_activity, threshold=0.98):\n",
    "    # Ensure all inputs are numpy arrays of the same shape\n",
    "    anomaly_scores_activity = np.array(anomaly_scores_activity).flatten()\n",
    "\n",
    "    # Find the maximum anomaly score across all attributes for each case\n",
    "    max_scores = np.maximum.reduce([anomaly_scores_activity])\n",
    "\n",
    "    # Classify cases as anomalous if the maximum anomaly score exceeds the threshold\n",
    "    anomalous_cases = max_scores > threshold\n",
    "    \n",
    "    return anomalous_cases\n",
    "\n",
    "# Now use the anomaly scores for resource, activity, and timestamp in the classification\n",
    "anomalous_cases = classify_cases(anomaly_scores_activity)"
   ]
  },
  {
   "cell_type": "code",
   "execution_count": 44,
   "metadata": {},
   "outputs": [
    {
     "data": {
      "text/plain": [
       "array([False, False, False, ..., False, False, False])"
      ]
     },
     "execution_count": 44,
     "metadata": {},
     "output_type": "execute_result"
    }
   ],
   "source": [
    "anomalous_cases"
   ]
  },
  {
   "cell_type": "markdown",
   "metadata": {},
   "source": [
    "# Mapping"
   ]
  },
  {
   "cell_type": "markdown",
   "metadata": {},
   "source": [
    "### True: anomaly, False: no anomaly"
   ]
  },
  {
   "cell_type": "code",
   "execution_count": 45,
   "metadata": {},
   "outputs": [
    {
     "data": {
      "text/html": [
       "<div>\n",
       "<style scoped>\n",
       "    .dataframe tbody tr th:only-of-type {\n",
       "        vertical-align: middle;\n",
       "    }\n",
       "\n",
       "    .dataframe tbody tr th {\n",
       "        vertical-align: top;\n",
       "    }\n",
       "\n",
       "    .dataframe thead th {\n",
       "        text-align: right;\n",
       "    }\n",
       "</style>\n",
       "<table border=\"1\" class=\"dataframe\">\n",
       "  <thead>\n",
       "    <tr style=\"text-align: right;\">\n",
       "      <th></th>\n",
       "      <th>case</th>\n",
       "      <th>predicted</th>\n",
       "    </tr>\n",
       "  </thead>\n",
       "  <tbody>\n",
       "    <tr>\n",
       "      <th>0</th>\n",
       "      <td>0</td>\n",
       "      <td>False</td>\n",
       "    </tr>\n",
       "    <tr>\n",
       "      <th>1</th>\n",
       "      <td>0</td>\n",
       "      <td>False</td>\n",
       "    </tr>\n",
       "    <tr>\n",
       "      <th>2</th>\n",
       "      <td>0</td>\n",
       "      <td>False</td>\n",
       "    </tr>\n",
       "    <tr>\n",
       "      <th>3</th>\n",
       "      <td>0</td>\n",
       "      <td>False</td>\n",
       "    </tr>\n",
       "    <tr>\n",
       "      <th>4</th>\n",
       "      <td>1</td>\n",
       "      <td>False</td>\n",
       "    </tr>\n",
       "    <tr>\n",
       "      <th>...</th>\n",
       "      <td>...</td>\n",
       "      <td>...</td>\n",
       "    </tr>\n",
       "    <tr>\n",
       "      <th>21905</th>\n",
       "      <td>4998</td>\n",
       "      <td>False</td>\n",
       "    </tr>\n",
       "    <tr>\n",
       "      <th>21906</th>\n",
       "      <td>4999</td>\n",
       "      <td>False</td>\n",
       "    </tr>\n",
       "    <tr>\n",
       "      <th>21907</th>\n",
       "      <td>4999</td>\n",
       "      <td>False</td>\n",
       "    </tr>\n",
       "    <tr>\n",
       "      <th>21908</th>\n",
       "      <td>4999</td>\n",
       "      <td>False</td>\n",
       "    </tr>\n",
       "    <tr>\n",
       "      <th>21909</th>\n",
       "      <td>4999</td>\n",
       "      <td>False</td>\n",
       "    </tr>\n",
       "  </tbody>\n",
       "</table>\n",
       "<p>21910 rows × 2 columns</p>\n",
       "</div>"
      ],
      "text/plain": [
       "       case  predicted\n",
       "0         0      False\n",
       "1         0      False\n",
       "2         0      False\n",
       "3         0      False\n",
       "4         1      False\n",
       "...     ...        ...\n",
       "21905  4998      False\n",
       "21906  4999      False\n",
       "21907  4999      False\n",
       "21908  4999      False\n",
       "21909  4999      False\n",
       "\n",
       "[21910 rows x 2 columns]"
      ]
     },
     "execution_count": 45,
     "metadata": {},
     "output_type": "execute_result"
    }
   ],
   "source": [
    "import pandas as pd\n",
    "\n",
    "# Create a DataFrame from the case_indices_array corresponding to case_resource\n",
    "mapping = pd.DataFrame({'case': case_indices})\n",
    "mapping['predicted'] = anomalous_cases\n",
    "mapping"
   ]
  },
  {
   "cell_type": "code",
   "execution_count": 46,
   "metadata": {},
   "outputs": [
    {
     "data": {
      "text/plain": [
       "case\n",
       "0       False\n",
       "1       False\n",
       "2       False\n",
       "3       False\n",
       "4       False\n",
       "        ...  \n",
       "4995    False\n",
       "4996    False\n",
       "4997     True\n",
       "4998    False\n",
       "4999    False\n",
       "Name: predicted, Length: 5000, dtype: bool"
      ]
     },
     "execution_count": 46,
     "metadata": {},
     "output_type": "execute_result"
    }
   ],
   "source": [
    "case_prediction = mapping.groupby('case')['predicted'].any()\n",
    "case_prediction\n"
   ]
  },
  {
   "cell_type": "markdown",
   "metadata": {},
   "source": [
    "# Ground Truth"
   ]
  },
  {
   "cell_type": "code",
   "execution_count": 47,
   "metadata": {},
   "outputs": [],
   "source": [
    "def generate_alignments_adjusted_tracecost_pkl(log, net, initial_marking, final_marking):\n",
    "    from pm4py.algo.conformance.alignments.petri_net import algorithm as alignments\n",
    "    from pm4py.algo.conformance.alignments.petri_net import variants\n",
    "    from pm4py.objects.petri_net.utils import align_utils\n",
    "    max_events=0\n",
    "    for trace in log:\n",
    "        counter=0\n",
    "        for event in trace:\n",
    "            counter+=1\n",
    "        if counter > max_events:\n",
    "            max_events=counter\n",
    "    parameters={}\n",
    "    parameters[alignments.Variants.VERSION_STATE_EQUATION_A_STAR.value.Parameters.PARAM_SYNC_COST_FUNCTION] = list(map(lambda i: .1*i, range(max_events*2)))\n",
    "    parameters[alignments.Variants.VERSION_STATE_EQUATION_A_STAR.value.Parameters.PARAM_TRACE_COST_FUNCTION]=list(map(lambda i: align_utils.STD_MODEL_LOG_MOVE_COST-.1*i, range(max_events*2)))\n",
    "    aligned_traces = alignments.apply_log(log, net, initial_marking, final_marking, variant=variants.state_equation_a_star, parameters=parameters)\n",
    "    return aligned_traces"
   ]
  },
  {
   "cell_type": "code",
   "execution_count": 48,
   "metadata": {},
   "outputs": [
    {
     "data": {
      "application/vnd.jupyter.widget-view+json": {
       "model_id": "cc0d0e7a8ee24c2c977395c48cec9733",
       "version_major": 2,
       "version_minor": 0
      },
      "text/plain": [
       "aligning log, completed variants ::   0%|          | 0/573 [00:00<?, ?it/s]"
      ]
     },
     "metadata": {},
     "output_type": "display_data"
    }
   ],
   "source": [
    "import pm4py\n",
    "from pm4py.objects.log.importer.xes import importer as xes_importer\n",
    "from pm4py.objects.bpmn.importer import importer as bpmn_importer\n",
    "from pm4py.algo.conformance.alignments.petri_net import algorithm as alignments_petri\n",
    "\n",
    "# 2. Import the given BPMN model\n",
    "bpmn_graph = bpmn_importer.apply(\"../../data/model/wide.bpmn\")\n",
    "\n",
    "# 3. Convert the BPMN to a Petri net\n",
    "net, initial_marking, final_marking = pm4py.convert_to_petri_net(bpmn_graph)\n",
    "\n",
    "aligned_traces = generate_alignments_adjusted_tracecost_pkl(log, net, initial_marking, final_marking)"
   ]
  },
  {
   "cell_type": "code",
   "execution_count": 49,
   "metadata": {},
   "outputs": [],
   "source": [
    "def extract_conformance_status_by_fitness(aligned_traces):\n",
    "    conformance_status = []\n",
    "    for alignment in aligned_traces:\n",
    "        fitness = alignment['fitness']\n",
    "        # If the fitness is 1.0, the trace is conforming\n",
    "        if fitness == 1.0:\n",
    "            conformance_status.append(1)\n",
    "        else:\n",
    "            conformance_status.append(0)\n",
    "    return conformance_status\n",
    "\n",
    "# Get the conformance status list from the aligned traces\n",
    "conformance = extract_conformance_status_by_fitness(aligned_traces)"
   ]
  },
  {
   "cell_type": "code",
   "execution_count": 50,
   "metadata": {},
   "outputs": [
    {
     "data": {
      "text/html": [
       "<div>\n",
       "<style scoped>\n",
       "    .dataframe tbody tr th:only-of-type {\n",
       "        vertical-align: middle;\n",
       "    }\n",
       "\n",
       "    .dataframe tbody tr th {\n",
       "        vertical-align: top;\n",
       "    }\n",
       "\n",
       "    .dataframe thead th {\n",
       "        text-align: right;\n",
       "    }\n",
       "</style>\n",
       "<table border=\"1\" class=\"dataframe\">\n",
       "  <thead>\n",
       "    <tr style=\"text-align: right;\">\n",
       "      <th></th>\n",
       "      <th>conformity</th>\n",
       "      <th>predicted</th>\n",
       "    </tr>\n",
       "  </thead>\n",
       "  <tbody>\n",
       "    <tr>\n",
       "      <th>0</th>\n",
       "      <td>0</td>\n",
       "      <td>1</td>\n",
       "    </tr>\n",
       "    <tr>\n",
       "      <th>1</th>\n",
       "      <td>1</td>\n",
       "      <td>1</td>\n",
       "    </tr>\n",
       "    <tr>\n",
       "      <th>2</th>\n",
       "      <td>0</td>\n",
       "      <td>1</td>\n",
       "    </tr>\n",
       "    <tr>\n",
       "      <th>3</th>\n",
       "      <td>1</td>\n",
       "      <td>1</td>\n",
       "    </tr>\n",
       "    <tr>\n",
       "      <th>4</th>\n",
       "      <td>1</td>\n",
       "      <td>1</td>\n",
       "    </tr>\n",
       "    <tr>\n",
       "      <th>...</th>\n",
       "      <td>...</td>\n",
       "      <td>...</td>\n",
       "    </tr>\n",
       "    <tr>\n",
       "      <th>4995</th>\n",
       "      <td>1</td>\n",
       "      <td>1</td>\n",
       "    </tr>\n",
       "    <tr>\n",
       "      <th>4996</th>\n",
       "      <td>1</td>\n",
       "      <td>1</td>\n",
       "    </tr>\n",
       "    <tr>\n",
       "      <th>4997</th>\n",
       "      <td>0</td>\n",
       "      <td>0</td>\n",
       "    </tr>\n",
       "    <tr>\n",
       "      <th>4998</th>\n",
       "      <td>1</td>\n",
       "      <td>1</td>\n",
       "    </tr>\n",
       "    <tr>\n",
       "      <th>4999</th>\n",
       "      <td>1</td>\n",
       "      <td>1</td>\n",
       "    </tr>\n",
       "  </tbody>\n",
       "</table>\n",
       "<p>5000 rows × 2 columns</p>\n",
       "</div>"
      ],
      "text/plain": [
       "      conformity  predicted\n",
       "0              0          1\n",
       "1              1          1\n",
       "2              0          1\n",
       "3              1          1\n",
       "4              1          1\n",
       "...          ...        ...\n",
       "4995           1          1\n",
       "4996           1          1\n",
       "4997           0          0\n",
       "4998           1          1\n",
       "4999           1          1\n",
       "\n",
       "[5000 rows x 2 columns]"
      ]
     },
     "execution_count": 50,
     "metadata": {},
     "output_type": "execute_result"
    }
   ],
   "source": [
    "ground_truth = pd.DataFrame({'conformity': conformance})\n",
    "ground_truth['predicted'] = case_prediction\n",
    "\n",
    "# Convert False to 0 and True to 1\n",
    "ground_truth['predicted'] = [int(value) for value in ground_truth['predicted']]\n",
    "ground_truth['predicted'] = 1 - ground_truth['predicted']\n",
    "ground_truth"
   ]
  },
  {
   "cell_type": "markdown",
   "metadata": {},
   "source": [
    "# Evaluation"
   ]
  },
  {
   "cell_type": "code",
   "execution_count": 51,
   "metadata": {},
   "outputs": [],
   "source": [
    "# Calculating TP, TN, FP, FN\n",
    "TP = ((ground_truth['conformity'] == 1) & (ground_truth['predicted'] == 1)).sum()\n",
    "TN = ((ground_truth['conformity'] == 0) & (ground_truth['predicted'] == 0)).sum()\n",
    "FP = ((ground_truth['conformity'] == 0) & (ground_truth['predicted'] == 1)).sum()\n",
    "FN = ((ground_truth['conformity'] == 1) & (ground_truth['predicted'] == 0)).sum()"
   ]
  },
  {
   "cell_type": "code",
   "execution_count": 52,
   "metadata": {},
   "outputs": [
    {
     "name": "stdout",
     "output_type": "stream",
     "text": [
      "Accuracy: 0.854\n"
     ]
    }
   ],
   "source": [
    "# Calculate accuracy\n",
    "accuracy = (TP + TN) / (TP + TN + FP + FN)\n",
    "print(f\"Accuracy: {accuracy:.3f}\")"
   ]
  },
  {
   "cell_type": "code",
   "execution_count": 53,
   "metadata": {},
   "outputs": [
    {
     "name": "stdout",
     "output_type": "stream",
     "text": [
      "F1: 0.913\n"
     ]
    }
   ],
   "source": [
    "# Calculate f1\n",
    "\n",
    "precision = TP / (TP + FP)\n",
    "recall = TP / (TP + FN)\n",
    "\n",
    "f1 = 2 * ((precision * recall) / (precision + recall))\n",
    "print(f\"F1: {f1:.3f}\")"
   ]
  },
  {
   "cell_type": "markdown",
   "metadata": {},
   "source": [
    "### Dev (Non Conform Traces)"
   ]
  },
  {
   "cell_type": "code",
   "execution_count": 54,
   "metadata": {},
   "outputs": [
    {
     "name": "stdout",
     "output_type": "stream",
     "text": [
      "Precision: 0.915\n"
     ]
    }
   ],
   "source": [
    "# Calculate precision for Dev\n",
    "precision = TN / (TN + FN)\n",
    "print(f\"Precision: {precision:.3f}\")"
   ]
  },
  {
   "cell_type": "code",
   "execution_count": 55,
   "metadata": {},
   "outputs": [
    {
     "name": "stdout",
     "output_type": "stream",
     "text": [
      "Recall: 0.401\n"
     ]
    }
   ],
   "source": [
    "# Calculate recall for Dev\n",
    "recall = TN / (TN + FP)\n",
    "print(f\"Recall: {recall:.3f}\")"
   ]
  },
  {
   "cell_type": "markdown",
   "metadata": {},
   "source": [
    "### No Dev (Conform Traces)"
   ]
  },
  {
   "cell_type": "code",
   "execution_count": 56,
   "metadata": {},
   "outputs": [
    {
     "name": "stdout",
     "output_type": "stream",
     "text": [
      "Precision: 0.847\n"
     ]
    }
   ],
   "source": [
    "# Calculate precision for No Dev\n",
    "precision = TP / (TP + FP)\n",
    "print(f\"Precision: {precision:.3f}\")"
   ]
  },
  {
   "cell_type": "code",
   "execution_count": 57,
   "metadata": {},
   "outputs": [
    {
     "name": "stdout",
     "output_type": "stream",
     "text": [
      "Recall: 0.989\n"
     ]
    }
   ],
   "source": [
    "# Calculate recall for No Dev\n",
    "recall = TP / (TP + FN)\n",
    "print(f\"Recall: {recall:.3f}\")"
   ]
  },
  {
   "cell_type": "markdown",
   "metadata": {},
   "source": [
    "### AUC"
   ]
  },
  {
   "cell_type": "code",
   "execution_count": 58,
   "metadata": {},
   "outputs": [
    {
     "data": {
      "text/plain": [
       "0.6951194606632487"
      ]
     },
     "execution_count": 58,
     "metadata": {},
     "output_type": "execute_result"
    }
   ],
   "source": [
    "import pandas as pd\n",
    "from sklearn.metrics import roc_auc_score\n",
    "\n",
    "# Assuming ground_truth is your DataFrame\n",
    "# Make sure 'conformity' contains actual labels (0 or 1)\n",
    "# and 'predicted' contains predicted probabilities or scores\n",
    "auc_roc = roc_auc_score(ground_truth['conformity'], ground_truth['predicted'])\n",
    "auc_roc"
   ]
  }
 ],
 "metadata": {
  "kernelspec": {
   "display_name": "lstm",
   "language": "python",
   "name": "python3"
  },
  "language_info": {
   "codemirror_mode": {
    "name": "ipython",
    "version": 3
   },
   "file_extension": ".py",
   "mimetype": "text/x-python",
   "name": "python",
   "nbconvert_exporter": "python",
   "pygments_lexer": "ipython3",
   "version": "3.9.-1"
  }
 },
 "nbformat": 4,
 "nbformat_minor": 2
}

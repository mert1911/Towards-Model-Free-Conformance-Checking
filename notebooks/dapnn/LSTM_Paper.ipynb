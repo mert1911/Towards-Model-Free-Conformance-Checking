{
 "cells": [
  {
   "cell_type": "markdown",
   "metadata": {},
   "source": [
    "# Import Event Log"
   ]
  },
  {
   "cell_type": "code",
   "execution_count": 1,
   "metadata": {},
   "outputs": [
    {
     "name": "stderr",
     "output_type": "stream",
     "text": [
      "/var/folders/s_/ch_w_j2d0sqf6dbdc0_224m40000gq/T/ipykernel_5912/3645535663.py:11: DeprecatedWarning: format_dataframe is deprecated as of 2.3.0 and will be removed in 3.0.0. the format_dataframe function does not need application anymore.\n",
      "  dataframe_log = pm4py.format_dataframe(\n"
     ]
    }
   ],
   "source": [
    "import pandas as pd\n",
    "import numpy as np\n",
    "import pm4py\n",
    "from pm4py.objects.conversion.log import converter as log_converter\n",
    "\n",
    "if __name__ == \"__main__\":\n",
    "    # Read the CSV file\n",
    "    dataframe_log = pd.read_csv('../../data/logs/binet_paper_log.csv', sep=',')\n",
    "\n",
    "    # Format the dataframe\n",
    "    dataframe_log = pm4py.format_dataframe(\n",
    "        dataframe_log,\n",
    "        case_id='case:concept:name',\n",
    "        activity_key='concept:name',\n",
    "        timestamp_key='time:timestamp'\n",
    "    )\n",
    "\n",
    "    # Convert the dataframe to event log\n",
    "    log = log_converter.apply(dataframe_log)"
   ]
  },
  {
   "cell_type": "code",
   "execution_count": 7,
   "metadata": {},
   "outputs": [
    {
     "data": {
      "text/html": [
       "<div>\n",
       "<style scoped>\n",
       "    .dataframe tbody tr th:only-of-type {\n",
       "        vertical-align: middle;\n",
       "    }\n",
       "\n",
       "    .dataframe tbody tr th {\n",
       "        vertical-align: top;\n",
       "    }\n",
       "\n",
       "    .dataframe thead th {\n",
       "        text-align: right;\n",
       "    }\n",
       "</style>\n",
       "<table border=\"1\" class=\"dataframe\">\n",
       "  <thead>\n",
       "    <tr style=\"text-align: right;\">\n",
       "      <th></th>\n",
       "      <th>concept:name</th>\n",
       "      <th>time:timestamp</th>\n",
       "      <th>org:resource</th>\n",
       "      <th>@@index</th>\n",
       "      <th>@@case_index</th>\n",
       "    </tr>\n",
       "  </thead>\n",
       "  <tbody>\n",
       "    <tr>\n",
       "      <th>0</th>\n",
       "      <td>Identify Problem</td>\n",
       "      <td>2010-01-01 00:00:00+00:00</td>\n",
       "      <td>Supervisor</td>\n",
       "      <td>0</td>\n",
       "      <td>0</td>\n",
       "    </tr>\n",
       "    <tr>\n",
       "      <th>1</th>\n",
       "      <td>Research Related Work</td>\n",
       "      <td>2010-01-01 00:14:00+00:00</td>\n",
       "      <td>Student</td>\n",
       "      <td>1</td>\n",
       "      <td>0</td>\n",
       "    </tr>\n",
       "    <tr>\n",
       "      <th>2</th>\n",
       "      <td>Develop Method</td>\n",
       "      <td>2010-02-01 00:00:00+00:00</td>\n",
       "      <td>Main Author</td>\n",
       "      <td>2</td>\n",
       "      <td>0</td>\n",
       "    </tr>\n",
       "    <tr>\n",
       "      <th>3</th>\n",
       "      <td>Experiment</td>\n",
       "      <td>2010-02-01 00:14:00+00:00</td>\n",
       "      <td>Student</td>\n",
       "      <td>3</td>\n",
       "      <td>0</td>\n",
       "    </tr>\n",
       "    <tr>\n",
       "      <th>4</th>\n",
       "      <td>Evaluate</td>\n",
       "      <td>2010-03-01 00:00:00+00:00</td>\n",
       "      <td>Main Author</td>\n",
       "      <td>4</td>\n",
       "      <td>0</td>\n",
       "    </tr>\n",
       "    <tr>\n",
       "      <th>...</th>\n",
       "      <td>...</td>\n",
       "      <td>...</td>\n",
       "      <td>...</td>\n",
       "      <td>...</td>\n",
       "      <td>...</td>\n",
       "    </tr>\n",
       "    <tr>\n",
       "      <th>56809</th>\n",
       "      <td>Research Related Work</td>\n",
       "      <td>2025-07-29 00:14:00+00:00</td>\n",
       "      <td>Student</td>\n",
       "      <td>56809</td>\n",
       "      <td>4999</td>\n",
       "    </tr>\n",
       "    <tr>\n",
       "      <th>56810</th>\n",
       "      <td>Develop Method</td>\n",
       "      <td>2025-07-30 00:00:00+00:00</td>\n",
       "      <td>Author</td>\n",
       "      <td>56810</td>\n",
       "      <td>4999</td>\n",
       "    </tr>\n",
       "    <tr>\n",
       "      <th>56811</th>\n",
       "      <td>Experiment</td>\n",
       "      <td>2025-07-30 00:14:00+00:00</td>\n",
       "      <td>Main Author</td>\n",
       "      <td>56811</td>\n",
       "      <td>4999</td>\n",
       "    </tr>\n",
       "    <tr>\n",
       "      <th>56812</th>\n",
       "      <td>Evaluate</td>\n",
       "      <td>2025-07-31 00:00:00+00:00</td>\n",
       "      <td>Main Author</td>\n",
       "      <td>56812</td>\n",
       "      <td>4999</td>\n",
       "    </tr>\n",
       "    <tr>\n",
       "      <th>56813</th>\n",
       "      <td>Conclude</td>\n",
       "      <td>2025-07-31 00:14:00+00:00</td>\n",
       "      <td>Main Author</td>\n",
       "      <td>56813</td>\n",
       "      <td>4999</td>\n",
       "    </tr>\n",
       "  </tbody>\n",
       "</table>\n",
       "<p>56814 rows × 5 columns</p>\n",
       "</div>"
      ],
      "text/plain": [
       "                concept:name            time:timestamp org:resource  @@index  \\\n",
       "0           Identify Problem 2010-01-01 00:00:00+00:00   Supervisor        0   \n",
       "1      Research Related Work 2010-01-01 00:14:00+00:00      Student        1   \n",
       "2             Develop Method 2010-02-01 00:00:00+00:00  Main Author        2   \n",
       "3                 Experiment 2010-02-01 00:14:00+00:00      Student        3   \n",
       "4                   Evaluate 2010-03-01 00:00:00+00:00  Main Author        4   \n",
       "...                      ...                       ...          ...      ...   \n",
       "56809  Research Related Work 2025-07-29 00:14:00+00:00      Student    56809   \n",
       "56810         Develop Method 2025-07-30 00:00:00+00:00       Author    56810   \n",
       "56811             Experiment 2025-07-30 00:14:00+00:00  Main Author    56811   \n",
       "56812               Evaluate 2025-07-31 00:00:00+00:00  Main Author    56812   \n",
       "56813               Conclude 2025-07-31 00:14:00+00:00  Main Author    56813   \n",
       "\n",
       "       @@case_index  \n",
       "0                 0  \n",
       "1                 0  \n",
       "2                 0  \n",
       "3                 0  \n",
       "4                 0  \n",
       "...             ...  \n",
       "56809          4999  \n",
       "56810          4999  \n",
       "56811          4999  \n",
       "56812          4999  \n",
       "56813          4999  \n",
       "\n",
       "[56814 rows x 5 columns]"
      ]
     },
     "execution_count": 7,
     "metadata": {},
     "output_type": "execute_result"
    }
   ],
   "source": [
    "dataframe_log"
   ]
  },
  {
   "cell_type": "markdown",
   "metadata": {},
   "source": [
    "# Drop unnessary columns"
   ]
  },
  {
   "cell_type": "code",
   "execution_count": 4,
   "metadata": {},
   "outputs": [],
   "source": [
    "dataframe_log = dataframe_log.drop(columns=['case:concept:name'])"
   ]
  },
  {
   "cell_type": "code",
   "execution_count": 6,
   "metadata": {},
   "outputs": [],
   "source": [
    "dataframe_log = dataframe_log.drop(columns=['case:label'])"
   ]
  },
  {
   "cell_type": "code",
   "execution_count": 8,
   "metadata": {},
   "outputs": [],
   "source": [
    "dataframe_log = dataframe_log.drop(columns=['@@index'])"
   ]
  },
  {
   "cell_type": "code",
   "execution_count": 9,
   "metadata": {},
   "outputs": [],
   "source": [
    "from sklearn.preprocessing import StandardScaler\n",
    "\n",
    "# Convert to datetime format\n",
    "dataframe_log['time:timestamp'] = pd.to_datetime(dataframe_log['time:timestamp'])\n",
    "\n",
    "# Calculate elapsed time since the start of each case\n",
    "dataframe_log['start_time'] = dataframe_log.groupby('@@case_index')['time:timestamp'].transform('min')\n",
    "dataframe_log['elapsed_time'] = (dataframe_log['time:timestamp'] - dataframe_log['start_time']).dt.total_seconds()\n",
    "\n",
    "# Normalize the elapsed time in minutes\n",
    "scaler = StandardScaler()\n",
    "dataframe_log['standardized_elapsed_time'] = scaler.fit_transform(dataframe_log[['elapsed_time']])\n",
    "\n",
    "dataframe_log = dataframe_log.drop(columns=['start_time'])\n",
    "dataframe_log = dataframe_log.drop(columns=['elapsed_time'])\n",
    "dataframe_log = dataframe_log.drop(columns=['time:timestamp'])"
   ]
  },
  {
   "cell_type": "code",
   "execution_count": 10,
   "metadata": {},
   "outputs": [
    {
     "data": {
      "text/html": [
       "<div>\n",
       "<style scoped>\n",
       "    .dataframe tbody tr th:only-of-type {\n",
       "        vertical-align: middle;\n",
       "    }\n",
       "\n",
       "    .dataframe tbody tr th {\n",
       "        vertical-align: top;\n",
       "    }\n",
       "\n",
       "    .dataframe thead th {\n",
       "        text-align: right;\n",
       "    }\n",
       "</style>\n",
       "<table border=\"1\" class=\"dataframe\">\n",
       "  <thead>\n",
       "    <tr style=\"text-align: right;\">\n",
       "      <th></th>\n",
       "      <th>concept:name</th>\n",
       "      <th>org:resource</th>\n",
       "      <th>@@case_index</th>\n",
       "      <th>standardized_elapsed_time</th>\n",
       "    </tr>\n",
       "  </thead>\n",
       "  <tbody>\n",
       "    <tr>\n",
       "      <th>0</th>\n",
       "      <td>Identify Problem</td>\n",
       "      <td>Supervisor</td>\n",
       "      <td>0</td>\n",
       "      <td>-0.287727</td>\n",
       "    </tr>\n",
       "    <tr>\n",
       "      <th>1</th>\n",
       "      <td>Research Related Work</td>\n",
       "      <td>Student</td>\n",
       "      <td>0</td>\n",
       "      <td>-0.287670</td>\n",
       "    </tr>\n",
       "    <tr>\n",
       "      <th>2</th>\n",
       "      <td>Develop Method</td>\n",
       "      <td>Main Author</td>\n",
       "      <td>0</td>\n",
       "      <td>-0.104643</td>\n",
       "    </tr>\n",
       "    <tr>\n",
       "      <th>3</th>\n",
       "      <td>Experiment</td>\n",
       "      <td>Student</td>\n",
       "      <td>0</td>\n",
       "      <td>-0.104585</td>\n",
       "    </tr>\n",
       "    <tr>\n",
       "      <th>4</th>\n",
       "      <td>Evaluate</td>\n",
       "      <td>Main Author</td>\n",
       "      <td>0</td>\n",
       "      <td>0.060724</td>\n",
       "    </tr>\n",
       "    <tr>\n",
       "      <th>...</th>\n",
       "      <td>...</td>\n",
       "      <td>...</td>\n",
       "      <td>...</td>\n",
       "      <td>...</td>\n",
       "    </tr>\n",
       "    <tr>\n",
       "      <th>56809</th>\n",
       "      <td>Research Related Work</td>\n",
       "      <td>Student</td>\n",
       "      <td>4999</td>\n",
       "      <td>0.905333</td>\n",
       "    </tr>\n",
       "    <tr>\n",
       "      <th>56810</th>\n",
       "      <td>Develop Method</td>\n",
       "      <td>Author</td>\n",
       "      <td>4999</td>\n",
       "      <td>0.911181</td>\n",
       "    </tr>\n",
       "    <tr>\n",
       "      <th>56811</th>\n",
       "      <td>Experiment</td>\n",
       "      <td>Main Author</td>\n",
       "      <td>4999</td>\n",
       "      <td>0.911239</td>\n",
       "    </tr>\n",
       "    <tr>\n",
       "      <th>56812</th>\n",
       "      <td>Evaluate</td>\n",
       "      <td>Main Author</td>\n",
       "      <td>4999</td>\n",
       "      <td>0.917087</td>\n",
       "    </tr>\n",
       "    <tr>\n",
       "      <th>56813</th>\n",
       "      <td>Conclude</td>\n",
       "      <td>Main Author</td>\n",
       "      <td>4999</td>\n",
       "      <td>0.917145</td>\n",
       "    </tr>\n",
       "  </tbody>\n",
       "</table>\n",
       "<p>56814 rows × 4 columns</p>\n",
       "</div>"
      ],
      "text/plain": [
       "                concept:name org:resource  @@case_index  \\\n",
       "0           Identify Problem   Supervisor             0   \n",
       "1      Research Related Work      Student             0   \n",
       "2             Develop Method  Main Author             0   \n",
       "3                 Experiment      Student             0   \n",
       "4                   Evaluate  Main Author             0   \n",
       "...                      ...          ...           ...   \n",
       "56809  Research Related Work      Student          4999   \n",
       "56810         Develop Method       Author          4999   \n",
       "56811             Experiment  Main Author          4999   \n",
       "56812               Evaluate  Main Author          4999   \n",
       "56813               Conclude  Main Author          4999   \n",
       "\n",
       "       standardized_elapsed_time  \n",
       "0                      -0.287727  \n",
       "1                      -0.287670  \n",
       "2                      -0.104643  \n",
       "3                      -0.104585  \n",
       "4                       0.060724  \n",
       "...                          ...  \n",
       "56809                   0.905333  \n",
       "56810                   0.911181  \n",
       "56811                   0.911239  \n",
       "56812                   0.917087  \n",
       "56813                   0.917145  \n",
       "\n",
       "[56814 rows x 4 columns]"
      ]
     },
     "execution_count": 10,
     "metadata": {},
     "output_type": "execute_result"
    }
   ],
   "source": [
    "dataframe_log"
   ]
  },
  {
   "cell_type": "markdown",
   "metadata": {},
   "source": [
    "# Insert Start & End markers"
   ]
  },
  {
   "cell_type": "code",
   "execution_count": 11,
   "metadata": {},
   "outputs": [],
   "source": [
    "# Define a function to insert start and end markers\n",
    "def add_markers(df):\n",
    "    # Identify unique case indices\n",
    "    case_indices = df['@@case_index'].unique()\n",
    "    \n",
    "    # Prepare a container for new DataFrame rows\n",
    "    new_rows = []\n",
    "    \n",
    "    # Iterate over each case index to add start and end markers\n",
    "    for case_index in case_indices:\n",
    "        # Create a start marker row with all columns except @@case_index set to 'Start'\n",
    "        start_row = {col: 'Start' if col != '@@case_index' else case_index for col in df.columns}\n",
    "        \n",
    "        # Create an end marker row with all columns except @@case_index set to 'End'\n",
    "        end_row = {col: 'End' if col != '@@case_index' else case_index for col in df.columns}\n",
    "        \n",
    "        # Append start row, rows for the current case, and end row\n",
    "        new_rows.append(start_row)\n",
    "        new_rows.extend(df[df['@@case_index'] == case_index].to_dict('records'))\n",
    "        new_rows.append(end_row)\n",
    "    \n",
    "    # Convert the list of rows into a DataFrame\n",
    "    return pd.DataFrame(new_rows)\n",
    "\n",
    "# Apply the function to add start and end markers to the dataframe\n",
    "modified_dataframe = add_markers(dataframe_log)"
   ]
  },
  {
   "cell_type": "markdown",
   "metadata": {},
   "source": [
    "# Preprocess"
   ]
  },
  {
   "cell_type": "code",
   "execution_count": 12,
   "metadata": {},
   "outputs": [],
   "source": [
    "modified_dataframe['standardized_elapsed_time'] = modified_dataframe['standardized_elapsed_time'].replace({'Start': 0, 'End': 1})"
   ]
  },
  {
   "cell_type": "code",
   "execution_count": 14,
   "metadata": {},
   "outputs": [],
   "source": [
    "codes, uniques = pd.factorize(modified_dataframe['org:resource'])\n",
    "modified_dataframe['org:resource'] = codes"
   ]
  },
  {
   "cell_type": "code",
   "execution_count": 15,
   "metadata": {},
   "outputs": [],
   "source": [
    "codes, uniques = pd.factorize(modified_dataframe['concept:name'])\n",
    "modified_dataframe['concept:name'] = codes"
   ]
  },
  {
   "cell_type": "markdown",
   "metadata": {},
   "source": [
    "### Padding for Cases with less then 5 events"
   ]
  },
  {
   "cell_type": "code",
   "execution_count": 18,
   "metadata": {},
   "outputs": [
    {
     "data": {
      "text/plain": [
       "9"
      ]
     },
     "execution_count": 18,
     "metadata": {},
     "output_type": "execute_result"
    }
   ],
   "source": [
    "# Calculating the frequency of each unique value in '@@case_index'\n",
    "frequency = modified_dataframe['@@case_index'].value_counts()\n",
    "\n",
    "# Finding the minimum occurrence\n",
    "min_occurrence = frequency.min()\n",
    "\n",
    "min_occurrence"
   ]
  },
  {
   "cell_type": "code",
   "execution_count": 13,
   "metadata": {},
   "outputs": [],
   "source": [
    "\"\"\" # Assuming your dataframe might have different types, let's create a generic function to add rows\n",
    "def add_rows(group, num_rows, case_index_value):\n",
    "    # For each column, determine the appropriate \"zero\" value (int 0, string '', etc.)\n",
    "    additional_rows = pd.DataFrame({\n",
    "        column: 0 if pd.api.types.is_numeric_dtype(group[column]) else '' for column in group.columns\n",
    "    }, index=range(num_rows))\n",
    "    \n",
    "    # Set the @@case_index column to the current case index value\n",
    "    additional_rows['@@case_index'] = case_index_value\n",
    "    \n",
    "    # Append the additional rows to the group\n",
    "    return pd.concat([group, additional_rows], ignore_index=True)\n",
    "\n",
    "# Function to pad cases with less than 5 events\n",
    "def pad_cases(df):\n",
    "    # Group by @@case_index\n",
    "    groups = df.groupby('@@case_index')\n",
    "    \n",
    "    # Placeholder for modified groups\n",
    "    modified_groups = []\n",
    "    \n",
    "    for name, group in groups:\n",
    "        # Calculate the number of events to add\n",
    "        events_to_add = 5 - len(group)\n",
    "        \n",
    "        if events_to_add > 0:\n",
    "            # Add the required number of rows\n",
    "            group = add_rows(group, events_to_add, name)\n",
    "        \n",
    "        # Append the modified group to the list\n",
    "        modified_groups.append(group)\n",
    "    \n",
    "    # Concatenate all modified groups back into a single DataFrame\n",
    "    return pd.concat(modified_groups, ignore_index=True) \"\"\""
   ]
  },
  {
   "cell_type": "code",
   "execution_count": 14,
   "metadata": {},
   "outputs": [
    {
     "data": {
      "text/html": [
       "<div>\n",
       "<style scoped>\n",
       "    .dataframe tbody tr th:only-of-type {\n",
       "        vertical-align: middle;\n",
       "    }\n",
       "\n",
       "    .dataframe tbody tr th {\n",
       "        vertical-align: top;\n",
       "    }\n",
       "\n",
       "    .dataframe thead th {\n",
       "        text-align: right;\n",
       "    }\n",
       "</style>\n",
       "<table border=\"1\" class=\"dataframe\">\n",
       "  <thead>\n",
       "    <tr style=\"text-align: right;\">\n",
       "      <th></th>\n",
       "      <th>concept:name</th>\n",
       "      <th>case:label</th>\n",
       "      <th>org:resource</th>\n",
       "      <th>@@case_index</th>\n",
       "      <th>standardized_elapsed_time</th>\n",
       "    </tr>\n",
       "  </thead>\n",
       "  <tbody>\n",
       "    <tr>\n",
       "      <th>0</th>\n",
       "      <td>0</td>\n",
       "      <td>Start</td>\n",
       "      <td>0</td>\n",
       "      <td>0</td>\n",
       "      <td>0.000000</td>\n",
       "    </tr>\n",
       "    <tr>\n",
       "      <th>1</th>\n",
       "      <td>1</td>\n",
       "      <td>Insert</td>\n",
       "      <td>1</td>\n",
       "      <td>0</td>\n",
       "      <td>-0.021742</td>\n",
       "    </tr>\n",
       "    <tr>\n",
       "      <th>2</th>\n",
       "      <td>2</td>\n",
       "      <td>Insert</td>\n",
       "      <td>2</td>\n",
       "      <td>0</td>\n",
       "      <td>-0.021576</td>\n",
       "    </tr>\n",
       "    <tr>\n",
       "      <th>3</th>\n",
       "      <td>3</td>\n",
       "      <td>Insert</td>\n",
       "      <td>3</td>\n",
       "      <td>0</td>\n",
       "      <td>-0.021410</td>\n",
       "    </tr>\n",
       "    <tr>\n",
       "      <th>4</th>\n",
       "      <td>4</td>\n",
       "      <td>Insert</td>\n",
       "      <td>4</td>\n",
       "      <td>0</td>\n",
       "      <td>-0.021077</td>\n",
       "    </tr>\n",
       "    <tr>\n",
       "      <th>...</th>\n",
       "      <td>...</td>\n",
       "      <td>...</td>\n",
       "      <td>...</td>\n",
       "      <td>...</td>\n",
       "      <td>...</td>\n",
       "    </tr>\n",
       "    <tr>\n",
       "      <th>42067</th>\n",
       "      <td>6</td>\n",
       "      <td>normal</td>\n",
       "      <td>75</td>\n",
       "      <td>4999</td>\n",
       "      <td>-0.020910</td>\n",
       "    </tr>\n",
       "    <tr>\n",
       "      <th>42068</th>\n",
       "      <td>21</td>\n",
       "      <td>normal</td>\n",
       "      <td>29</td>\n",
       "      <td>4999</td>\n",
       "      <td>-0.020577</td>\n",
       "    </tr>\n",
       "    <tr>\n",
       "      <th>42069</th>\n",
       "      <td>9</td>\n",
       "      <td>normal</td>\n",
       "      <td>21</td>\n",
       "      <td>4999</td>\n",
       "      <td>-0.020411</td>\n",
       "    </tr>\n",
       "    <tr>\n",
       "      <th>42070</th>\n",
       "      <td>10</td>\n",
       "      <td>normal</td>\n",
       "      <td>10</td>\n",
       "      <td>4999</td>\n",
       "      <td>-0.020078</td>\n",
       "    </tr>\n",
       "    <tr>\n",
       "      <th>42071</th>\n",
       "      <td>11</td>\n",
       "      <td>End</td>\n",
       "      <td>11</td>\n",
       "      <td>4999</td>\n",
       "      <td>1.000000</td>\n",
       "    </tr>\n",
       "  </tbody>\n",
       "</table>\n",
       "<p>42072 rows × 5 columns</p>\n",
       "</div>"
      ],
      "text/plain": [
       "       concept:name case:label  org:resource  @@case_index  \\\n",
       "0                 0      Start             0             0   \n",
       "1                 1     Insert             1             0   \n",
       "2                 2     Insert             2             0   \n",
       "3                 3     Insert             3             0   \n",
       "4                 4     Insert             4             0   \n",
       "...             ...        ...           ...           ...   \n",
       "42067             6     normal            75          4999   \n",
       "42068            21     normal            29          4999   \n",
       "42069             9     normal            21          4999   \n",
       "42070            10     normal            10          4999   \n",
       "42071            11        End            11          4999   \n",
       "\n",
       "       standardized_elapsed_time  \n",
       "0                       0.000000  \n",
       "1                      -0.021742  \n",
       "2                      -0.021576  \n",
       "3                      -0.021410  \n",
       "4                      -0.021077  \n",
       "...                          ...  \n",
       "42067                  -0.020910  \n",
       "42068                  -0.020577  \n",
       "42069                  -0.020411  \n",
       "42070                  -0.020078  \n",
       "42071                   1.000000  \n",
       "\n",
       "[42072 rows x 5 columns]"
      ]
     },
     "execution_count": 14,
     "metadata": {},
     "output_type": "execute_result"
    }
   ],
   "source": [
    "\"\"\" # Apply the padding function\n",
    "modified_dataframe = pad_cases(modified_dataframe)\n",
    "modified_dataframe \"\"\""
   ]
  },
  {
   "cell_type": "markdown",
   "metadata": {},
   "source": [
    "# Generate sliding windows"
   ]
  },
  {
   "cell_type": "code",
   "execution_count": 20,
   "metadata": {},
   "outputs": [],
   "source": [
    "df_resource = modified_dataframe[['org:resource', '@@case_index']]\n",
    "df_activity = modified_dataframe[['concept:name', '@@case_index']]\n",
    "df_timestamp = modified_dataframe[['standardized_elapsed_time', '@@case_index']]"
   ]
  },
  {
   "cell_type": "code",
   "execution_count": 21,
   "metadata": {},
   "outputs": [],
   "source": [
    "def generate_sliding_windows(df, case_id_column='@@case_index', window_size=5):\n",
    "    windows = []\n",
    "    targets = []\n",
    "    case_indices = []\n",
    "\n",
    "    # Iterate over each unique case\n",
    "    for case_id in df[case_id_column].unique():\n",
    "        # Extract the case\n",
    "        case_data = df[df[case_id_column] == case_id]\n",
    "        \n",
    "        # Convert case_data to a NumPy array and drop the case_id_column\n",
    "        case_data_array = case_data.drop(columns=[case_id_column]).to_numpy()\n",
    "\n",
    "        # Adjusting the condition to correctly reflect window_size without needing an additional +1\n",
    "        # Now it correctly considers window_size as including the target event\n",
    "        if len(case_data_array) >= window_size:\n",
    "            # Adjust the loop to generate sliding windows of size window_size - 1 for the inputs and use the next event as the target\n",
    "            for i in range(len(case_data_array) - window_size + 1):\n",
    "                # window now has window_size - 1 events\n",
    "                window = case_data_array[i:i + window_size - 1]\n",
    "                # The target is the event immediately following the window\n",
    "                target = case_data_array[i + window_size - 1]\n",
    "                windows.append(window)\n",
    "                targets.append(target)\n",
    "                case_indices.append(case_id)  # Store the case_id corresponding to the window\n",
    "\n",
    "    # Convert lists to numpy arrays for easier handling and to ensure they are two-dimensional\n",
    "    windows_array = np.array(windows)\n",
    "    targets_array = np.array(targets)\n",
    "    case_indices_array = np.array(case_indices)\n",
    "    \n",
    "    return windows_array, targets_array, case_indices_array"
   ]
  },
  {
   "cell_type": "code",
   "execution_count": 22,
   "metadata": {},
   "outputs": [],
   "source": [
    "windows_resource, targets_resource, case_indices = generate_sliding_windows(df_resource)\n",
    "windows_activity, targets_activity, case_indices = generate_sliding_windows(df_activity)\n",
    "windows_timestamp, targets_timestamp, case_indices = generate_sliding_windows(df_timestamp)"
   ]
  },
  {
   "cell_type": "markdown",
   "metadata": {},
   "source": [
    "# LSTM"
   ]
  },
  {
   "cell_type": "markdown",
   "metadata": {},
   "source": [
    "### Architecture"
   ]
  },
  {
   "cell_type": "code",
   "execution_count": 23,
   "metadata": {},
   "outputs": [
    {
     "name": "stderr",
     "output_type": "stream",
     "text": [
      "2024-08-09 17:09:19.363612: I tensorflow/core/platform/cpu_feature_guard.cc:182] This TensorFlow binary is optimized to use available CPU instructions in performance-critical operations.\n",
      "To enable the following instructions: AVX2 FMA, in other operations, rebuild TensorFlow with the appropriate compiler flags.\n"
     ]
    },
    {
     "name": "stdout",
     "output_type": "stream",
     "text": [
      "Model: \"model\"\n",
      "__________________________________________________________________________________________________\n",
      " Layer (type)                Output Shape                 Param #   Connected to                  \n",
      "==================================================================================================\n",
      " input_resource (InputLayer  [(None, 4)]                  0         []                            \n",
      " )                                                                                                \n",
      "                                                                                                  \n",
      " input_activity (InputLayer  [(None, 4)]                  0         []                            \n",
      " )                                                                                                \n",
      "                                                                                                  \n",
      " embedding (Embedding)       (None, 4, 50)                650       ['input_resource[0][0]']      \n",
      "                                                                                                  \n",
      " embedding_1 (Embedding)     (None, 4, 50)                1350      ['input_activity[0][0]']      \n",
      "                                                                                                  \n",
      " input_timestamp (InputLaye  [(None, 4, 1)]               0         []                            \n",
      " r)                                                                                               \n",
      "                                                                                                  \n",
      " lstm (LSTM)                 (None, 25)                   7600      ['embedding[0][0]']           \n",
      "                                                                                                  \n",
      " lstm_1 (LSTM)               (None, 25)                   7600      ['embedding_1[0][0]']         \n",
      "                                                                                                  \n",
      " lstm_2 (LSTM)               (None, 25)                   2700      ['input_timestamp[0][0]']     \n",
      "                                                                                                  \n",
      " concatenate (Concatenate)   (None, 75)                   0         ['lstm[0][0]',                \n",
      "                                                                     'lstm_1[0][0]',              \n",
      "                                                                     'lstm_2[0][0]']              \n",
      "                                                                                                  \n",
      " output_resource (Dense)     (None, 13)                   988       ['concatenate[0][0]']         \n",
      "                                                                                                  \n",
      " output_activity (Dense)     (None, 27)                   2052      ['concatenate[0][0]']         \n",
      "                                                                                                  \n",
      " output_timestamp (Dense)    (None, 1)                    76        ['concatenate[0][0]']         \n",
      "                                                                                                  \n",
      "==================================================================================================\n",
      "Total params: 23016 (89.91 KB)\n",
      "Trainable params: 23016 (89.91 KB)\n",
      "Non-trainable params: 0 (0.00 Byte)\n",
      "__________________________________________________________________________________________________\n"
     ]
    }
   ],
   "source": [
    "from tensorflow.keras.models import Model\n",
    "from tensorflow.keras.layers import Input, LSTM, Dense, Concatenate, Embedding\n",
    "\n",
    "# Assuming these values as placeholders, replace them with actual counts from your data\n",
    "num_resources = modified_dataframe['org:resource'].nunique()\n",
    "num_activities = modified_dataframe['concept:name'].nunique()\n",
    "\n",
    "embedding_dim_resource = 50\n",
    "embedding_dim_activity = 50\n",
    "\n",
    "time_steps = 4\n",
    "\n",
    "# Input layers\n",
    "input_resource = Input(shape=(time_steps,), name='input_resource')\n",
    "input_activity = Input(shape=(time_steps,), name='input_activity')\n",
    "input_timestamp = Input(shape=(time_steps, 1), name='input_timestamp')\n",
    "\n",
    "# Embedding layers\n",
    "embedding_resource = Embedding(input_dim=num_resources, output_dim=embedding_dim_resource, input_length=time_steps)(input_resource)\n",
    "embedding_activity = Embedding(input_dim=num_activities, output_dim=embedding_dim_activity, input_length=time_steps)(input_activity)\n",
    "\n",
    "# LSTM layers\n",
    "lstm_resource = LSTM(25, return_sequences=False)(embedding_resource)\n",
    "lstm_activity = LSTM(25, return_sequences=False)(embedding_activity)\n",
    "lstm_timestamp = LSTM(25, return_sequences=False)(input_timestamp)\n",
    "\n",
    "# Concatenate outputs\n",
    "concatenated = Concatenate(axis=-1)([lstm_resource, lstm_activity, lstm_timestamp])\n",
    "\n",
    "# Output layers\n",
    "output_resource = Dense(num_resources, activation='softmax', name='output_resource')(concatenated)\n",
    "output_activity = Dense(num_activities, activation='softmax', name='output_activity')(concatenated)\n",
    "output_timestamp = Dense(1, activation='linear', name='output_timestamp')(concatenated)\n",
    "\n",
    "# Create and compile the model\n",
    "model = Model(inputs=[input_resource, input_activity, input_timestamp], \n",
    "              outputs=[output_resource, output_activity, output_timestamp])\n",
    "\n",
    "model.compile(optimizer='adam', \n",
    "              loss={'output_resource': 'categorical_crossentropy', \n",
    "                    'output_activity': 'categorical_crossentropy', \n",
    "                    'output_timestamp': 'mean_squared_error'},\n",
    "              metrics={'output_resource': 'accuracy', \n",
    "                       'output_activity': 'accuracy', \n",
    "                       'output_timestamp': 'mean_absolute_error'})\n",
    "\n",
    "model.summary()\n"
   ]
  },
  {
   "cell_type": "markdown",
   "metadata": {},
   "source": [
    "# Data Splitting"
   ]
  },
  {
   "cell_type": "code",
   "execution_count": 24,
   "metadata": {},
   "outputs": [],
   "source": [
    "from sklearn.model_selection import train_test_split\n",
    "\n",
    "# Split the resource data\n",
    "train_resource, test_resource, train_targets_resource, test_targets_resource = train_test_split(\n",
    "    windows_resource, targets_resource, test_size=0.3, random_state=42)\n",
    "\n",
    "# Split the activity data\n",
    "train_activity, test_activity, train_targets_activity, test_targets_activity = train_test_split(\n",
    "    windows_activity, targets_activity, test_size=0.3, random_state=42)\n",
    "\n",
    "# Split the timestamp data\n",
    "train_timestamp, test_timestamp, train_targets_timestamp, test_targets_timestamp = train_test_split(\n",
    "    windows_timestamp, targets_timestamp, test_size=0.3, random_state=42)\n"
   ]
  },
  {
   "cell_type": "markdown",
   "metadata": {},
   "source": [
    "# Training"
   ]
  },
  {
   "cell_type": "code",
   "execution_count": 25,
   "metadata": {},
   "outputs": [],
   "source": [
    "from tensorflow.keras.callbacks import EarlyStopping\n",
    "from tensorflow.keras.callbacks import LearningRateScheduler\n",
    "\n",
    "# EarlyStopping callback\n",
    "early_stopping = EarlyStopping(monitor='val_loss', patience=3, restore_best_weights=True)\n",
    "\n",
    "def cyclic_lr(epoch, lr):\n",
    "    # Example function that modulates LR within a range for each epoch\n",
    "    # Customize this function based on your cyclic learning rate policy\n",
    "    max_lr = 0.01  # Maximum LR\n",
    "    base_lr = 0.001  # Base LR\n",
    "    step_size = 10  # Number of epochs for half a cycle\n",
    "    cycle = np.floor(1 + epoch / (2 * step_size))\n",
    "    x = np.abs(epoch / step_size - 2 * cycle + 1)\n",
    "    lr = base_lr + (max_lr - base_lr) * np.maximum(0, (1 - x))\n",
    "    return lr\n",
    "\n",
    "lr_scheduler = LearningRateScheduler(cyclic_lr)"
   ]
  },
  {
   "cell_type": "code",
   "execution_count": 26,
   "metadata": {},
   "outputs": [
    {
     "name": "stdout",
     "output_type": "stream",
     "text": [
      "Epoch 1/25\n",
      "513/513 [==============================] - 9s 7ms/step - loss: 3.9350 - output_resource_loss: 0.9887 - output_activity_loss: 1.4784 - output_timestamp_loss: 1.4680 - output_resource_accuracy: 0.7146 - output_activity_accuracy: 0.6045 - output_timestamp_mean_absolute_error: 0.1952 - val_loss: 1.3470 - val_output_resource_loss: 0.5924 - val_output_activity_loss: 0.7149 - val_output_timestamp_loss: 0.0397 - val_output_resource_accuracy: 0.8252 - val_output_activity_accuracy: 0.8297 - val_output_timestamp_mean_absolute_error: 0.1369 - lr: 0.0010\n",
      "Epoch 2/25\n",
      "513/513 [==============================] - 2s 5ms/step - loss: 2.6357 - output_resource_loss: 0.5767 - output_activity_loss: 0.6151 - output_timestamp_loss: 1.4439 - output_resource_accuracy: 0.8261 - output_activity_accuracy: 0.8478 - output_timestamp_mean_absolute_error: 0.1453 - val_loss: 1.1268 - val_output_resource_loss: 0.5463 - val_output_activity_loss: 0.5454 - val_output_timestamp_loss: 0.0350 - val_output_resource_accuracy: 0.8325 - val_output_activity_accuracy: 0.8592 - val_output_timestamp_mean_absolute_error: 0.1216 - lr: 0.0019\n",
      "Epoch 3/25\n",
      "513/513 [==============================] - 2s 5ms/step - loss: 2.5418 - output_resource_loss: 0.5553 - output_activity_loss: 0.5454 - output_timestamp_loss: 1.4411 - output_resource_accuracy: 0.8302 - output_activity_accuracy: 0.8616 - output_timestamp_mean_absolute_error: 0.1354 - val_loss: 1.0660 - val_output_resource_loss: 0.5298 - val_output_activity_loss: 0.5049 - val_output_timestamp_loss: 0.0313 - val_output_resource_accuracy: 0.8379 - val_output_activity_accuracy: 0.8721 - val_output_timestamp_mean_absolute_error: 0.1114 - lr: 0.0028\n",
      "Epoch 4/25\n",
      "513/513 [==============================] - 2s 5ms/step - loss: 2.4959 - output_resource_loss: 0.5418 - output_activity_loss: 0.5147 - output_timestamp_loss: 1.4393 - output_resource_accuracy: 0.8344 - output_activity_accuracy: 0.8669 - output_timestamp_mean_absolute_error: 0.1304 - val_loss: 1.0506 - val_output_resource_loss: 0.5286 - val_output_activity_loss: 0.4891 - val_output_timestamp_loss: 0.0329 - val_output_resource_accuracy: 0.8397 - val_output_activity_accuracy: 0.8740 - val_output_timestamp_mean_absolute_error: 0.1060 - lr: 0.0037\n",
      "Epoch 5/25\n",
      "513/513 [==============================] - 2s 5ms/step - loss: 2.4736 - output_resource_loss: 0.5368 - output_activity_loss: 0.4975 - output_timestamp_loss: 1.4392 - output_resource_accuracy: 0.8350 - output_activity_accuracy: 0.8691 - output_timestamp_mean_absolute_error: 0.1312 - val_loss: 1.0282 - val_output_resource_loss: 0.5210 - val_output_activity_loss: 0.4766 - val_output_timestamp_loss: 0.0306 - val_output_resource_accuracy: 0.8411 - val_output_activity_accuracy: 0.8765 - val_output_timestamp_mean_absolute_error: 0.1108 - lr: 0.0046\n",
      "Epoch 6/25\n",
      "513/513 [==============================] - 2s 5ms/step - loss: 2.4559 - output_resource_loss: 0.5335 - output_activity_loss: 0.4871 - output_timestamp_loss: 1.4353 - output_resource_accuracy: 0.8344 - output_activity_accuracy: 0.8717 - output_timestamp_mean_absolute_error: 0.1255 - val_loss: 1.0280 - val_output_resource_loss: 0.5223 - val_output_activity_loss: 0.4753 - val_output_timestamp_loss: 0.0304 - val_output_resource_accuracy: 0.8381 - val_output_activity_accuracy: 0.8788 - val_output_timestamp_mean_absolute_error: 0.1015 - lr: 0.0055\n",
      "Epoch 7/25\n",
      "513/513 [==============================] - 3s 5ms/step - loss: 2.4528 - output_resource_loss: 0.5314 - output_activity_loss: 0.4835 - output_timestamp_loss: 1.4379 - output_resource_accuracy: 0.8335 - output_activity_accuracy: 0.8708 - output_timestamp_mean_absolute_error: 0.1311 - val_loss: 1.0129 - val_output_resource_loss: 0.5171 - val_output_activity_loss: 0.4652 - val_output_timestamp_loss: 0.0306 - val_output_resource_accuracy: 0.8417 - val_output_activity_accuracy: 0.8796 - val_output_timestamp_mean_absolute_error: 0.1115 - lr: 0.0064\n",
      "Epoch 8/25\n",
      "513/513 [==============================] - 3s 5ms/step - loss: 2.4422 - output_resource_loss: 0.5280 - output_activity_loss: 0.4773 - output_timestamp_loss: 1.4369 - output_resource_accuracy: 0.8364 - output_activity_accuracy: 0.8738 - output_timestamp_mean_absolute_error: 0.1270 - val_loss: 1.0285 - val_output_resource_loss: 0.5230 - val_output_activity_loss: 0.4718 - val_output_timestamp_loss: 0.0337 - val_output_resource_accuracy: 0.8437 - val_output_activity_accuracy: 0.8782 - val_output_timestamp_mean_absolute_error: 0.1234 - lr: 0.0073\n",
      "Epoch 9/25\n",
      "513/513 [==============================] - 2s 5ms/step - loss: 2.4348 - output_resource_loss: 0.5242 - output_activity_loss: 0.4723 - output_timestamp_loss: 1.4383 - output_resource_accuracy: 0.8369 - output_activity_accuracy: 0.8730 - output_timestamp_mean_absolute_error: 0.1288 - val_loss: 1.0253 - val_output_resource_loss: 0.5194 - val_output_activity_loss: 0.4737 - val_output_timestamp_loss: 0.0322 - val_output_resource_accuracy: 0.8380 - val_output_activity_accuracy: 0.8753 - val_output_timestamp_mean_absolute_error: 0.1299 - lr: 0.0082\n",
      "Epoch 10/25\n",
      "513/513 [==============================] - 2s 5ms/step - loss: 2.4286 - output_resource_loss: 0.5216 - output_activity_loss: 0.4691 - output_timestamp_loss: 1.4379 - output_resource_accuracy: 0.8365 - output_activity_accuracy: 0.8738 - output_timestamp_mean_absolute_error: 0.1262 - val_loss: 1.0076 - val_output_resource_loss: 0.5104 - val_output_activity_loss: 0.4654 - val_output_timestamp_loss: 0.0318 - val_output_resource_accuracy: 0.8416 - val_output_activity_accuracy: 0.8778 - val_output_timestamp_mean_absolute_error: 0.1101 - lr: 0.0091\n",
      "Epoch 11/25\n",
      "513/513 [==============================] - 3s 5ms/step - loss: 2.4254 - output_resource_loss: 0.5223 - output_activity_loss: 0.4681 - output_timestamp_loss: 1.4349 - output_resource_accuracy: 0.8377 - output_activity_accuracy: 0.8751 - output_timestamp_mean_absolute_error: 0.1208 - val_loss: 1.0276 - val_output_resource_loss: 0.5189 - val_output_activity_loss: 0.4725 - val_output_timestamp_loss: 0.0362 - val_output_resource_accuracy: 0.8423 - val_output_activity_accuracy: 0.8779 - val_output_timestamp_mean_absolute_error: 0.1150 - lr: 0.0100\n",
      "Epoch 12/25\n",
      "513/513 [==============================] - 2s 5ms/step - loss: 2.4251 - output_resource_loss: 0.5209 - output_activity_loss: 0.4665 - output_timestamp_loss: 1.4377 - output_resource_accuracy: 0.8380 - output_activity_accuracy: 0.8749 - output_timestamp_mean_absolute_error: 0.1225 - val_loss: 1.0281 - val_output_resource_loss: 0.5204 - val_output_activity_loss: 0.4750 - val_output_timestamp_loss: 0.0326 - val_output_resource_accuracy: 0.8176 - val_output_activity_accuracy: 0.8576 - val_output_timestamp_mean_absolute_error: 0.1198 - lr: 0.0091\n",
      "Epoch 13/25\n",
      "513/513 [==============================] - 3s 6ms/step - loss: 2.4086 - output_resource_loss: 0.5141 - output_activity_loss: 0.4586 - output_timestamp_loss: 1.4360 - output_resource_accuracy: 0.8387 - output_activity_accuracy: 0.8767 - output_timestamp_mean_absolute_error: 0.1165 - val_loss: 1.0004 - val_output_resource_loss: 0.5096 - val_output_activity_loss: 0.4607 - val_output_timestamp_loss: 0.0301 - val_output_resource_accuracy: 0.8418 - val_output_activity_accuracy: 0.8788 - val_output_timestamp_mean_absolute_error: 0.0971 - lr: 0.0082\n",
      "Epoch 14/25\n",
      "513/513 [==============================] - 3s 5ms/step - loss: 2.3894 - output_resource_loss: 0.5091 - output_activity_loss: 0.4484 - output_timestamp_loss: 1.4319 - output_resource_accuracy: 0.8401 - output_activity_accuracy: 0.8777 - output_timestamp_mean_absolute_error: 0.1174 - val_loss: 1.0075 - val_output_resource_loss: 0.5123 - val_output_activity_loss: 0.4665 - val_output_timestamp_loss: 0.0286 - val_output_resource_accuracy: 0.8430 - val_output_activity_accuracy: 0.8770 - val_output_timestamp_mean_absolute_error: 0.1082 - lr: 0.0073\n",
      "Epoch 15/25\n",
      "513/513 [==============================] - 3s 5ms/step - loss: 2.3762 - output_resource_loss: 0.5029 - output_activity_loss: 0.4426 - output_timestamp_loss: 1.4306 - output_resource_accuracy: 0.8421 - output_activity_accuracy: 0.8781 - output_timestamp_mean_absolute_error: 0.1148 - val_loss: 0.9894 - val_output_resource_loss: 0.5085 - val_output_activity_loss: 0.4525 - val_output_timestamp_loss: 0.0285 - val_output_resource_accuracy: 0.8439 - val_output_activity_accuracy: 0.8837 - val_output_timestamp_mean_absolute_error: 0.0963 - lr: 0.0064\n",
      "Epoch 16/25\n",
      "513/513 [==============================] - 3s 6ms/step - loss: 2.3626 - output_resource_loss: 0.4989 - output_activity_loss: 0.4336 - output_timestamp_loss: 1.4302 - output_resource_accuracy: 0.8421 - output_activity_accuracy: 0.8814 - output_timestamp_mean_absolute_error: 0.1128 - val_loss: 0.9794 - val_output_resource_loss: 0.5028 - val_output_activity_loss: 0.4478 - val_output_timestamp_loss: 0.0288 - val_output_resource_accuracy: 0.8414 - val_output_activity_accuracy: 0.8805 - val_output_timestamp_mean_absolute_error: 0.0993 - lr: 0.0055\n",
      "Epoch 17/25\n",
      "513/513 [==============================] - 3s 6ms/step - loss: 2.3508 - output_resource_loss: 0.4934 - output_activity_loss: 0.4284 - output_timestamp_loss: 1.4290 - output_resource_accuracy: 0.8449 - output_activity_accuracy: 0.8835 - output_timestamp_mean_absolute_error: 0.1125 - val_loss: 0.9719 - val_output_resource_loss: 0.4999 - val_output_activity_loss: 0.4434 - val_output_timestamp_loss: 0.0285 - val_output_resource_accuracy: 0.8444 - val_output_activity_accuracy: 0.8831 - val_output_timestamp_mean_absolute_error: 0.1066 - lr: 0.0046\n",
      "Epoch 18/25\n",
      "513/513 [==============================] - 3s 5ms/step - loss: 2.3392 - output_resource_loss: 0.4889 - output_activity_loss: 0.4223 - output_timestamp_loss: 1.4280 - output_resource_accuracy: 0.8452 - output_activity_accuracy: 0.8839 - output_timestamp_mean_absolute_error: 0.1086 - val_loss: 0.9719 - val_output_resource_loss: 0.5008 - val_output_activity_loss: 0.4415 - val_output_timestamp_loss: 0.0296 - val_output_resource_accuracy: 0.8446 - val_output_activity_accuracy: 0.8844 - val_output_timestamp_mean_absolute_error: 0.0928 - lr: 0.0037\n",
      "Epoch 19/25\n",
      "513/513 [==============================] - 3s 6ms/step - loss: 2.3275 - output_resource_loss: 0.4841 - output_activity_loss: 0.4167 - output_timestamp_loss: 1.4267 - output_resource_accuracy: 0.8463 - output_activity_accuracy: 0.8843 - output_timestamp_mean_absolute_error: 0.1065 - val_loss: 0.9707 - val_output_resource_loss: 0.5008 - val_output_activity_loss: 0.4409 - val_output_timestamp_loss: 0.0290 - val_output_resource_accuracy: 0.8444 - val_output_activity_accuracy: 0.8830 - val_output_timestamp_mean_absolute_error: 0.0935 - lr: 0.0028\n",
      "Epoch 20/25\n",
      "513/513 [==============================] - 3s 5ms/step - loss: 2.3183 - output_resource_loss: 0.4811 - output_activity_loss: 0.4126 - output_timestamp_loss: 1.4247 - output_resource_accuracy: 0.8474 - output_activity_accuracy: 0.8861 - output_timestamp_mean_absolute_error: 0.1043 - val_loss: 0.9687 - val_output_resource_loss: 0.4991 - val_output_activity_loss: 0.4411 - val_output_timestamp_loss: 0.0285 - val_output_resource_accuracy: 0.8438 - val_output_activity_accuracy: 0.8826 - val_output_timestamp_mean_absolute_error: 0.1023 - lr: 0.0019\n",
      "Epoch 21/25\n",
      "513/513 [==============================] - 3s 5ms/step - loss: 2.3064 - output_resource_loss: 0.4764 - output_activity_loss: 0.4063 - output_timestamp_loss: 1.4238 - output_resource_accuracy: 0.8481 - output_activity_accuracy: 0.8864 - output_timestamp_mean_absolute_error: 0.1015 - val_loss: 0.9647 - val_output_resource_loss: 0.4982 - val_output_activity_loss: 0.4384 - val_output_timestamp_loss: 0.0281 - val_output_resource_accuracy: 0.8440 - val_output_activity_accuracy: 0.8837 - val_output_timestamp_mean_absolute_error: 0.0969 - lr: 0.0010\n",
      "Epoch 22/25\n",
      "513/513 [==============================] - 3s 5ms/step - loss: 2.3104 - output_resource_loss: 0.4777 - output_activity_loss: 0.4092 - output_timestamp_loss: 1.4235 - output_resource_accuracy: 0.8473 - output_activity_accuracy: 0.8860 - output_timestamp_mean_absolute_error: 0.1034 - val_loss: 0.9828 - val_output_resource_loss: 0.5000 - val_output_activity_loss: 0.4408 - val_output_timestamp_loss: 0.0420 - val_output_resource_accuracy: 0.8440 - val_output_activity_accuracy: 0.8837 - val_output_timestamp_mean_absolute_error: 0.1304 - lr: 0.0019\n",
      "Epoch 23/25\n",
      "513/513 [==============================] - 3s 5ms/step - loss: 2.3176 - output_resource_loss: 0.4795 - output_activity_loss: 0.4107 - output_timestamp_loss: 1.4273 - output_resource_accuracy: 0.8466 - output_activity_accuracy: 0.8864 - output_timestamp_mean_absolute_error: 0.1077 - val_loss: 0.9685 - val_output_resource_loss: 0.5003 - val_output_activity_loss: 0.4403 - val_output_timestamp_loss: 0.0280 - val_output_resource_accuracy: 0.8428 - val_output_activity_accuracy: 0.8824 - val_output_timestamp_mean_absolute_error: 0.0955 - lr: 0.0028\n",
      "Epoch 24/25\n",
      "513/513 [==============================] - 3s 5ms/step - loss: 2.3193 - output_resource_loss: 0.4797 - output_activity_loss: 0.4122 - output_timestamp_loss: 1.4275 - output_resource_accuracy: 0.8471 - output_activity_accuracy: 0.8853 - output_timestamp_mean_absolute_error: 0.1088 - val_loss: 0.9701 - val_output_resource_loss: 0.5000 - val_output_activity_loss: 0.4393 - val_output_timestamp_loss: 0.0307 - val_output_resource_accuracy: 0.8436 - val_output_activity_accuracy: 0.8849 - val_output_timestamp_mean_absolute_error: 0.0970 - lr: 0.0037\n",
      "Epoch 25/25\n",
      "513/513 [==============================] - 3s 6ms/step - loss: 2.3218 - output_resource_loss: 0.4807 - output_activity_loss: 0.4133 - output_timestamp_loss: 1.4278 - output_resource_accuracy: 0.8474 - output_activity_accuracy: 0.8854 - output_timestamp_mean_absolute_error: 0.1143 - val_loss: 0.9616 - val_output_resource_loss: 0.4968 - val_output_activity_loss: 0.4369 - val_output_timestamp_loss: 0.0278 - val_output_resource_accuracy: 0.8454 - val_output_activity_accuracy: 0.8868 - val_output_timestamp_mean_absolute_error: 0.0982 - lr: 0.0046\n"
     ]
    }
   ],
   "source": [
    "import numpy as np\n",
    "from tensorflow.keras.utils import to_categorical\n",
    "\n",
    "\n",
    "train_targets_resource_cat = to_categorical(train_targets_resource, num_classes=num_resources)\n",
    "test_targets_resource_cat = to_categorical(test_targets_resource, num_classes=num_resources)\n",
    "\n",
    "train_targets_activity_cat = to_categorical(train_targets_activity, num_classes=num_activities)\n",
    "test_targets_activity_cat = to_categorical(test_targets_activity, num_classes=num_activities)\n",
    "\n",
    "\n",
    "# Note: Assuming timestamp targets are continuous and don't need to be converted to categorical\n",
    "\n",
    "history = model.fit([train_resource, train_activity, train_timestamp], \n",
    "                    [train_targets_resource_cat, train_targets_activity_cat, train_targets_timestamp],\n",
    "                    epochs=25,\n",
    "                    batch_size=64,\n",
    "                    validation_data=([test_resource, test_activity, test_timestamp], \n",
    "                                     [test_targets_resource_cat, test_targets_activity_cat, test_targets_timestamp]),\n",
    "                    verbose=1,\n",
    "                    callbacks=[lr_scheduler])  # Add other callbacks as needed"
   ]
  },
  {
   "cell_type": "code",
   "execution_count": 27,
   "metadata": {},
   "outputs": [
    {
     "name": "stdout",
     "output_type": "stream",
     "text": [
      "439/439 [==============================] - 1s 2ms/step - loss: 0.9616 - output_resource_loss: 0.4968 - output_activity_loss: 0.4369 - output_timestamp_loss: 0.0278 - output_resource_accuracy: 0.8454 - output_activity_accuracy: 0.8868 - output_timestamp_mean_absolute_error: 0.0982\n",
      "[0.9616248607635498, 0.4968496561050415, 0.4369276165962219, 0.027847396209836006, 0.8453541994094849, 0.8867924809455872, 0.09817521274089813]\n"
     ]
    }
   ],
   "source": [
    "evaluation = model.evaluate(\n",
    "    [test_resource, test_activity, test_timestamp],\n",
    "    [test_targets_resource_cat, test_targets_activity_cat, test_targets_timestamp]\n",
    ")\n",
    "\n",
    "print(evaluation)"
   ]
  },
  {
   "cell_type": "code",
   "execution_count": 28,
   "metadata": {},
   "outputs": [
    {
     "name": "stderr",
     "output_type": "stream",
     "text": [
      "/opt/anaconda3/lib/python3.9/site-packages/keras/src/engine/training.py:3000: UserWarning: You are saving your model as an HDF5 file via `model.save()`. This file format is considered legacy. We recommend using instead the native Keras format, e.g. `model.save('my_model.keras')`.\n",
      "  saving_api.save_model(\n"
     ]
    }
   ],
   "source": [
    "# Save the model to an H5 file\n",
    "model.save('dapnn_paper.h5')"
   ]
  },
  {
   "cell_type": "markdown",
   "metadata": {},
   "source": [
    "# Anomaly Score Computation"
   ]
  },
  {
   "cell_type": "code",
   "execution_count": 29,
   "metadata": {},
   "outputs": [
    {
     "name": "stdout",
     "output_type": "stream",
     "text": [
      "1463/1463 [==============================] - 4s 2ms/step\n"
     ]
    }
   ],
   "source": [
    "# Generate predictions for all inputs\n",
    "predictions = model.predict([windows_resource, windows_activity, windows_timestamp])\n",
    "\n",
    "# Extract predictions for categorical attributes (softmax probabilities)\n",
    "predictions_resource = predictions[0]        # ID predictions\n",
    "predictions_activity = predictions[1]  # Resource predictions\n",
    "\n",
    "# Extract predictions for numerical attribute (timestamp)\n",
    "predictions_timestamp = predictions[2] # Timestamp predictions"
   ]
  },
  {
   "cell_type": "code",
   "execution_count": 30,
   "metadata": {},
   "outputs": [],
   "source": [
    "import numpy as np\n",
    "from tensorflow.keras.utils import to_categorical\n",
    "\n",
    "def compute_anomaly_scores(predictions, actuals):\n",
    "    # For categorical predictions, convert actuals to one-hot for comparison\n",
    "    actuals_one_hot = to_categorical(actuals, num_classes=predictions.shape[-1])\n",
    "    \n",
    "    max_predictions = np.max(predictions, axis=-1)\n",
    "    actual_predictions = np.sum(predictions * actuals_one_hot, axis=-1)  # Extract the probability of the actual class\n",
    "    \n",
    "    anomaly_scores = (max_predictions - actual_predictions) / max_predictions\n",
    "    \n",
    "    return anomaly_scores\n",
    "\n",
    "# Assuming targets_id, targets_resource, targets_activity, targets_role are the true values for these attributes\n",
    "anomaly_scores_resource = compute_anomaly_scores(predictions_resource, targets_resource)\n",
    "anomaly_scores_activity = compute_anomaly_scores(predictions_activity, targets_activity)"
   ]
  },
  {
   "cell_type": "code",
   "execution_count": 31,
   "metadata": {},
   "outputs": [],
   "source": [
    "def compute_anomaly_scores_continuous(predictions, actuals, normalization_factor):\n",
    "    \"\"\"\n",
    "    Compute anomaly scores for continuous attributes.\n",
    "    \n",
    "    Parameters:\n",
    "    - predictions: numpy array of predicted values.\n",
    "    - actuals: numpy array of actual values.\n",
    "    - normalization_factor: normalization factor (e.g., standard deviation of the attribute).\n",
    "    \n",
    "    Returns:\n",
    "    - numpy array of anomaly scores.\n",
    "    \"\"\"\n",
    "    # Calculate absolute differences\n",
    "    differences = np.abs(predictions - actuals)\n",
    "    \n",
    "    # Normalize the differences\n",
    "    anomaly_scores = differences / normalization_factor\n",
    "    \n",
    "    return anomaly_scores"
   ]
  },
  {
   "cell_type": "code",
   "execution_count": 32,
   "metadata": {},
   "outputs": [],
   "source": [
    "normalization_factor = np.std(targets_timestamp)       # Example normalization factor (standard deviation)\n",
    "anomaly_scores_timestamp = compute_anomaly_scores_continuous(predictions_timestamp, targets_timestamp, normalization_factor)"
   ]
  },
  {
   "cell_type": "code",
   "execution_count": 33,
   "metadata": {},
   "outputs": [],
   "source": [
    "import numpy as np\n",
    "\n",
    "def classify_cases(anomaly_scores_resource, anomaly_scores_activity, anomaly_scores_timestamp, threshold=0.98):\n",
    "    # Ensure all inputs are numpy arrays of the same shape\n",
    "    anomaly_scores_resource = np.array(anomaly_scores_resource).flatten()\n",
    "    anomaly_scores_activity = np.array(anomaly_scores_activity).flatten()\n",
    "    anomaly_scores_timestamp = np.array(anomaly_scores_timestamp).flatten()\n",
    "\n",
    "    # Check if all arrays have the same length\n",
    "    if not (len(anomaly_scores_resource) == len(anomaly_scores_activity) == len(anomaly_scores_timestamp)):\n",
    "        raise ValueError(\"All input anomaly scores must have the same length.\")\n",
    "\n",
    "    # Find the maximum anomaly score across all attributes for each case\n",
    "    max_scores = np.maximum.reduce([anomaly_scores_resource, anomaly_scores_activity, anomaly_scores_timestamp])\n",
    "\n",
    "    # Classify cases as anomalous if the maximum anomaly score exceeds the threshold\n",
    "    anomalous_cases = max_scores > threshold\n",
    "    \n",
    "    return anomalous_cases\n",
    "\n",
    "# Now use the anomaly scores for resource, activity, and timestamp in the classification\n",
    "anomalous_cases = classify_cases(anomaly_scores_resource, anomaly_scores_activity, anomaly_scores_timestamp)"
   ]
  },
  {
   "cell_type": "code",
   "execution_count": 50,
   "metadata": {},
   "outputs": [],
   "source": [
    "import numpy as np\n",
    "\n",
    "def classify_cases(anomaly_scores_activity, threshold=0.98):\n",
    "    # Ensure all inputs are numpy arrays of the same shape\n",
    "    anomaly_scores_activity = np.array(anomaly_scores_activity).flatten()\n",
    "\n",
    "    # Find the maximum anomaly score across all attributes for each case\n",
    "    max_scores = np.maximum.reduce([anomaly_scores_activity])\n",
    "\n",
    "    # Classify cases as anomalous if the maximum anomaly score exceeds the threshold\n",
    "    anomalous_cases = max_scores > threshold\n",
    "    \n",
    "    return anomalous_cases\n",
    "\n",
    "# Now use the anomaly scores for resource, activity, and timestamp in the classification\n",
    "anomalous_cases = classify_cases(anomaly_scores_activity)"
   ]
  },
  {
   "cell_type": "code",
   "execution_count": 51,
   "metadata": {},
   "outputs": [
    {
     "data": {
      "text/plain": [
       "array([False, False, False, ..., False, False, False])"
      ]
     },
     "execution_count": 51,
     "metadata": {},
     "output_type": "execute_result"
    }
   ],
   "source": [
    "anomalous_cases"
   ]
  },
  {
   "cell_type": "markdown",
   "metadata": {},
   "source": [
    "# Mapping"
   ]
  },
  {
   "cell_type": "markdown",
   "metadata": {},
   "source": [
    "### True: anomaly, False: no anomaly"
   ]
  },
  {
   "cell_type": "code",
   "execution_count": 52,
   "metadata": {},
   "outputs": [
    {
     "data": {
      "text/html": [
       "<div>\n",
       "<style scoped>\n",
       "    .dataframe tbody tr th:only-of-type {\n",
       "        vertical-align: middle;\n",
       "    }\n",
       "\n",
       "    .dataframe tbody tr th {\n",
       "        vertical-align: top;\n",
       "    }\n",
       "\n",
       "    .dataframe thead th {\n",
       "        text-align: right;\n",
       "    }\n",
       "</style>\n",
       "<table border=\"1\" class=\"dataframe\">\n",
       "  <thead>\n",
       "    <tr style=\"text-align: right;\">\n",
       "      <th></th>\n",
       "      <th>case</th>\n",
       "      <th>predicted</th>\n",
       "    </tr>\n",
       "  </thead>\n",
       "  <tbody>\n",
       "    <tr>\n",
       "      <th>0</th>\n",
       "      <td>0</td>\n",
       "      <td>False</td>\n",
       "    </tr>\n",
       "    <tr>\n",
       "      <th>1</th>\n",
       "      <td>0</td>\n",
       "      <td>False</td>\n",
       "    </tr>\n",
       "    <tr>\n",
       "      <th>2</th>\n",
       "      <td>0</td>\n",
       "      <td>False</td>\n",
       "    </tr>\n",
       "    <tr>\n",
       "      <th>3</th>\n",
       "      <td>0</td>\n",
       "      <td>False</td>\n",
       "    </tr>\n",
       "    <tr>\n",
       "      <th>4</th>\n",
       "      <td>0</td>\n",
       "      <td>False</td>\n",
       "    </tr>\n",
       "    <tr>\n",
       "      <th>...</th>\n",
       "      <td>...</td>\n",
       "      <td>...</td>\n",
       "    </tr>\n",
       "    <tr>\n",
       "      <th>46809</th>\n",
       "      <td>4999</td>\n",
       "      <td>False</td>\n",
       "    </tr>\n",
       "    <tr>\n",
       "      <th>46810</th>\n",
       "      <td>4999</td>\n",
       "      <td>False</td>\n",
       "    </tr>\n",
       "    <tr>\n",
       "      <th>46811</th>\n",
       "      <td>4999</td>\n",
       "      <td>False</td>\n",
       "    </tr>\n",
       "    <tr>\n",
       "      <th>46812</th>\n",
       "      <td>4999</td>\n",
       "      <td>False</td>\n",
       "    </tr>\n",
       "    <tr>\n",
       "      <th>46813</th>\n",
       "      <td>4999</td>\n",
       "      <td>False</td>\n",
       "    </tr>\n",
       "  </tbody>\n",
       "</table>\n",
       "<p>46814 rows × 2 columns</p>\n",
       "</div>"
      ],
      "text/plain": [
       "       case  predicted\n",
       "0         0      False\n",
       "1         0      False\n",
       "2         0      False\n",
       "3         0      False\n",
       "4         0      False\n",
       "...     ...        ...\n",
       "46809  4999      False\n",
       "46810  4999      False\n",
       "46811  4999      False\n",
       "46812  4999      False\n",
       "46813  4999      False\n",
       "\n",
       "[46814 rows x 2 columns]"
      ]
     },
     "execution_count": 52,
     "metadata": {},
     "output_type": "execute_result"
    }
   ],
   "source": [
    "import pandas as pd\n",
    "\n",
    "# Create a DataFrame from the case_indices_array corresponding to case_resource\n",
    "mapping = pd.DataFrame({'case': case_indices})\n",
    "mapping['predicted'] = anomalous_cases\n",
    "mapping"
   ]
  },
  {
   "cell_type": "code",
   "execution_count": 53,
   "metadata": {},
   "outputs": [
    {
     "data": {
      "text/plain": [
       "case\n",
       "0       False\n",
       "1       False\n",
       "2       False\n",
       "3       False\n",
       "4       False\n",
       "        ...  \n",
       "4995     True\n",
       "4996    False\n",
       "4997    False\n",
       "4998    False\n",
       "4999     True\n",
       "Name: predicted, Length: 5000, dtype: bool"
      ]
     },
     "execution_count": 53,
     "metadata": {},
     "output_type": "execute_result"
    }
   ],
   "source": [
    "case_prediction = mapping.groupby('case')['predicted'].any()\n",
    "case_prediction\n"
   ]
  },
  {
   "cell_type": "markdown",
   "metadata": {},
   "source": [
    "# Ground Truth"
   ]
  },
  {
   "cell_type": "code",
   "execution_count": 54,
   "metadata": {},
   "outputs": [],
   "source": [
    "def generate_alignments_adjusted_tracecost_pkl(log, net, initial_marking, final_marking):\n",
    "    from pm4py.algo.conformance.alignments.petri_net import algorithm as alignments\n",
    "    from pm4py.algo.conformance.alignments.petri_net import variants\n",
    "    from pm4py.objects.petri_net.utils import align_utils\n",
    "    max_events=0\n",
    "    for trace in log:\n",
    "        counter=0\n",
    "        for event in trace:\n",
    "            counter+=1\n",
    "        if counter > max_events:\n",
    "            max_events=counter\n",
    "    parameters={}\n",
    "    parameters[alignments.Variants.VERSION_STATE_EQUATION_A_STAR.value.Parameters.PARAM_SYNC_COST_FUNCTION] = list(map(lambda i: .1*i, range(max_events*2)))\n",
    "    parameters[alignments.Variants.VERSION_STATE_EQUATION_A_STAR.value.Parameters.PARAM_TRACE_COST_FUNCTION]=list(map(lambda i: align_utils.STD_MODEL_LOG_MOVE_COST-.1*i, range(max_events*2)))\n",
    "    aligned_traces = alignments.apply_log(log, net, initial_marking, final_marking, variant=variants.state_equation_a_star, parameters=parameters)\n",
    "    return aligned_traces"
   ]
  },
  {
   "cell_type": "code",
   "execution_count": 55,
   "metadata": {},
   "outputs": [
    {
     "data": {
      "application/vnd.jupyter.widget-view+json": {
       "model_id": "730616460ff447ffae321317786089b2",
       "version_major": 2,
       "version_minor": 0
      },
      "text/plain": [
       "aligning log, completed variants ::   0%|          | 0/998 [00:00<?, ?it/s]"
      ]
     },
     "metadata": {},
     "output_type": "display_data"
    }
   ],
   "source": [
    "import pm4py\n",
    "from pm4py.objects.log.importer.xes import importer as xes_importer\n",
    "from pm4py.objects.bpmn.importer import importer as bpmn_importer\n",
    "from pm4py.algo.conformance.alignments.petri_net import algorithm as alignments_petri\n",
    "\n",
    "# 2. Import the given BPMN model\n",
    "bpmn_graph = bpmn_importer.apply(\"../../data/model/binet_paper.bpmn\")\n",
    "\n",
    "# 3. Convert the BPMN to a Petri net\n",
    "net, initial_marking, final_marking = pm4py.convert_to_petri_net(bpmn_graph)\n",
    "\n",
    "aligned_traces = generate_alignments_adjusted_tracecost_pkl(log, net, initial_marking, final_marking)"
   ]
  },
  {
   "cell_type": "code",
   "execution_count": 56,
   "metadata": {},
   "outputs": [],
   "source": [
    "def extract_conformance_status_by_fitness(aligned_traces):\n",
    "    conformance_status = []\n",
    "    for alignment in aligned_traces:\n",
    "        fitness = alignment['fitness']\n",
    "        # If the fitness is 1.0, the trace is conforming\n",
    "        if fitness == 1.0:\n",
    "            conformance_status.append(1)\n",
    "        else:\n",
    "            conformance_status.append(0)\n",
    "    return conformance_status\n",
    "\n",
    "# Get the conformance status list from the aligned traces\n",
    "conformance = extract_conformance_status_by_fitness(aligned_traces)"
   ]
  },
  {
   "cell_type": "code",
   "execution_count": 57,
   "metadata": {},
   "outputs": [
    {
     "data": {
      "text/html": [
       "<div>\n",
       "<style scoped>\n",
       "    .dataframe tbody tr th:only-of-type {\n",
       "        vertical-align: middle;\n",
       "    }\n",
       "\n",
       "    .dataframe tbody tr th {\n",
       "        vertical-align: top;\n",
       "    }\n",
       "\n",
       "    .dataframe thead th {\n",
       "        text-align: right;\n",
       "    }\n",
       "</style>\n",
       "<table border=\"1\" class=\"dataframe\">\n",
       "  <thead>\n",
       "    <tr style=\"text-align: right;\">\n",
       "      <th></th>\n",
       "      <th>conformity</th>\n",
       "      <th>predicted</th>\n",
       "    </tr>\n",
       "  </thead>\n",
       "  <tbody>\n",
       "    <tr>\n",
       "      <th>0</th>\n",
       "      <td>1</td>\n",
       "      <td>1</td>\n",
       "    </tr>\n",
       "    <tr>\n",
       "      <th>1</th>\n",
       "      <td>1</td>\n",
       "      <td>1</td>\n",
       "    </tr>\n",
       "    <tr>\n",
       "      <th>2</th>\n",
       "      <td>1</td>\n",
       "      <td>1</td>\n",
       "    </tr>\n",
       "    <tr>\n",
       "      <th>3</th>\n",
       "      <td>1</td>\n",
       "      <td>1</td>\n",
       "    </tr>\n",
       "    <tr>\n",
       "      <th>4</th>\n",
       "      <td>0</td>\n",
       "      <td>1</td>\n",
       "    </tr>\n",
       "    <tr>\n",
       "      <th>...</th>\n",
       "      <td>...</td>\n",
       "      <td>...</td>\n",
       "    </tr>\n",
       "    <tr>\n",
       "      <th>4995</th>\n",
       "      <td>0</td>\n",
       "      <td>0</td>\n",
       "    </tr>\n",
       "    <tr>\n",
       "      <th>4996</th>\n",
       "      <td>0</td>\n",
       "      <td>1</td>\n",
       "    </tr>\n",
       "    <tr>\n",
       "      <th>4997</th>\n",
       "      <td>0</td>\n",
       "      <td>1</td>\n",
       "    </tr>\n",
       "    <tr>\n",
       "      <th>4998</th>\n",
       "      <td>0</td>\n",
       "      <td>1</td>\n",
       "    </tr>\n",
       "    <tr>\n",
       "      <th>4999</th>\n",
       "      <td>0</td>\n",
       "      <td>0</td>\n",
       "    </tr>\n",
       "  </tbody>\n",
       "</table>\n",
       "<p>5000 rows × 2 columns</p>\n",
       "</div>"
      ],
      "text/plain": [
       "      conformity  predicted\n",
       "0              1          1\n",
       "1              1          1\n",
       "2              1          1\n",
       "3              1          1\n",
       "4              0          1\n",
       "...          ...        ...\n",
       "4995           0          0\n",
       "4996           0          1\n",
       "4997           0          1\n",
       "4998           0          1\n",
       "4999           0          0\n",
       "\n",
       "[5000 rows x 2 columns]"
      ]
     },
     "execution_count": 57,
     "metadata": {},
     "output_type": "execute_result"
    }
   ],
   "source": [
    "ground_truth = pd.DataFrame({'conformity': conformance})\n",
    "ground_truth['predicted'] = case_prediction\n",
    "\n",
    "# Convert False to 0 and True to 1\n",
    "ground_truth['predicted'] = [int(value) for value in ground_truth['predicted']]\n",
    "ground_truth['predicted'] = 1 - ground_truth['predicted']\n",
    "ground_truth"
   ]
  },
  {
   "cell_type": "markdown",
   "metadata": {},
   "source": [
    "# Evaluation"
   ]
  },
  {
   "cell_type": "code",
   "execution_count": 58,
   "metadata": {},
   "outputs": [],
   "source": [
    "# Calculating TP, TN, FP, FN\n",
    "TP = ((ground_truth['conformity'] == 1) & (ground_truth['predicted'] == 1)).sum()\n",
    "TN = ((ground_truth['conformity'] == 0) & (ground_truth['predicted'] == 0)).sum()\n",
    "FP = ((ground_truth['conformity'] == 0) & (ground_truth['predicted'] == 1)).sum()\n",
    "FN = ((ground_truth['conformity'] == 1) & (ground_truth['predicted'] == 0)).sum()"
   ]
  },
  {
   "cell_type": "code",
   "execution_count": 59,
   "metadata": {},
   "outputs": [
    {
     "name": "stdout",
     "output_type": "stream",
     "text": [
      "Accuracy: 0.751\n"
     ]
    }
   ],
   "source": [
    "# Calculate accuracy\n",
    "accuracy = (TP + TN) / (TP + TN + FP + FN)\n",
    "print(f\"Accuracy: {accuracy:.3f}\")"
   ]
  },
  {
   "cell_type": "code",
   "execution_count": 60,
   "metadata": {},
   "outputs": [
    {
     "name": "stdout",
     "output_type": "stream",
     "text": [
      "F1: 0.809\n"
     ]
    }
   ],
   "source": [
    "# Calculate f1\n",
    "\n",
    "precision = TP / (TP + FP)\n",
    "recall = TP / (TP + FN)\n",
    "\n",
    "f1 = 2 * ((precision * recall) / (precision + recall))\n",
    "print(f\"F1: {f1:.3f}\")"
   ]
  },
  {
   "cell_type": "markdown",
   "metadata": {},
   "source": [
    "### Dev (Non Conform Traces)"
   ]
  },
  {
   "cell_type": "code",
   "execution_count": 61,
   "metadata": {},
   "outputs": [
    {
     "name": "stdout",
     "output_type": "stream",
     "text": [
      "Precision: 0.960\n"
     ]
    }
   ],
   "source": [
    "# Calculate precision for Dev\n",
    "precision = TN / (TN + FN)\n",
    "print(f\"Precision: {precision:.3f}\")"
   ]
  },
  {
   "cell_type": "code",
   "execution_count": 62,
   "metadata": {},
   "outputs": [
    {
     "name": "stdout",
     "output_type": "stream",
     "text": [
      "Recall: 0.483\n"
     ]
    }
   ],
   "source": [
    "# Calculate recall for Dev\n",
    "recall = TN / (TN + FP)\n",
    "print(f\"Recall: {recall:.3f}\")"
   ]
  },
  {
   "cell_type": "markdown",
   "metadata": {},
   "source": [
    "### No Dev (Conform Traces)"
   ]
  },
  {
   "cell_type": "code",
   "execution_count": 63,
   "metadata": {},
   "outputs": [
    {
     "name": "stdout",
     "output_type": "stream",
     "text": [
      "Precision: 0.687\n"
     ]
    }
   ],
   "source": [
    "# Calculate precision for No Dev\n",
    "precision = TP / (TP + FP)\n",
    "print(f\"Precision: {precision:.3f}\")"
   ]
  },
  {
   "cell_type": "code",
   "execution_count": 64,
   "metadata": {},
   "outputs": [
    {
     "name": "stdout",
     "output_type": "stream",
     "text": [
      "Recall: 0.982\n"
     ]
    }
   ],
   "source": [
    "# Calculate recall for No Dev\n",
    "recall = TP / (TP + FN)\n",
    "print(f\"Recall: {recall:.3f}\")"
   ]
  },
  {
   "cell_type": "markdown",
   "metadata": {},
   "source": [
    "### AUC"
   ]
  },
  {
   "cell_type": "code",
   "execution_count": 65,
   "metadata": {},
   "outputs": [
    {
     "data": {
      "text/plain": [
       "0.7325013982923863"
      ]
     },
     "execution_count": 65,
     "metadata": {},
     "output_type": "execute_result"
    }
   ],
   "source": [
    "import pandas as pd\n",
    "from sklearn.metrics import roc_auc_score\n",
    "\n",
    "# Assuming ground_truth is your DataFrame\n",
    "# Make sure 'conformity' contains actual labels (0 or 1)\n",
    "# and 'predicted' contains predicted probabilities or scores\n",
    "auc_roc = roc_auc_score(ground_truth['conformity'], ground_truth['predicted'])\n",
    "auc_roc"
   ]
  }
 ],
 "metadata": {
  "kernelspec": {
   "display_name": "lstm",
   "language": "python",
   "name": "python3"
  },
  "language_info": {
   "codemirror_mode": {
    "name": "ipython",
    "version": 3
   },
   "file_extension": ".py",
   "mimetype": "text/x-python",
   "name": "python",
   "nbconvert_exporter": "python",
   "pygments_lexer": "ipython3",
   "version": "3.9.13"
  }
 },
 "nbformat": 4,
 "nbformat_minor": 2
}

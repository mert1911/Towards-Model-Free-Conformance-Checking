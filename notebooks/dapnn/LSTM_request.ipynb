{
 "cells": [
  {
   "cell_type": "markdown",
   "metadata": {},
   "source": [
    "# Import Event Log"
   ]
  },
  {
   "cell_type": "code",
   "execution_count": 1,
   "metadata": {},
   "outputs": [
    {
     "name": "stderr",
     "output_type": "stream",
     "text": [
      "/opt/anaconda3/lib/python3.9/site-packages/pm4py/util/dt_parsing/parser.py:76: UserWarning: ISO8601 strings are not fully supported with strpfromiso for Python versions below 3.11\n",
      "  warnings.warn(\n"
     ]
    },
    {
     "data": {
      "application/vnd.jupyter.widget-view+json": {
       "model_id": "bd90077928564a93924d1d6af5ab8211",
       "version_major": 2,
       "version_minor": 0
      },
      "text/plain": [
       "parsing log, completed traces ::   0%|          | 0/6886 [00:00<?, ?it/s]"
      ]
     },
     "metadata": {},
     "output_type": "display_data"
    },
    {
     "data": {
      "text/html": [
       "<div>\n",
       "<style scoped>\n",
       "    .dataframe tbody tr th:only-of-type {\n",
       "        vertical-align: middle;\n",
       "    }\n",
       "\n",
       "    .dataframe tbody tr th {\n",
       "        vertical-align: top;\n",
       "    }\n",
       "\n",
       "    .dataframe thead th {\n",
       "        text-align: right;\n",
       "    }\n",
       "</style>\n",
       "<table border=\"1\" class=\"dataframe\">\n",
       "  <thead>\n",
       "    <tr style=\"text-align: right;\">\n",
       "      <th></th>\n",
       "      <th>id</th>\n",
       "      <th>org:resource</th>\n",
       "      <th>concept:name</th>\n",
       "      <th>time:timestamp</th>\n",
       "      <th>org:role</th>\n",
       "      <th>case:Rfp_id</th>\n",
       "      <th>case:Project</th>\n",
       "      <th>case:Task</th>\n",
       "      <th>case:concept:name</th>\n",
       "      <th>case:OrganizationalEntity</th>\n",
       "      <th>case:Cost Type</th>\n",
       "      <th>case:RequestedAmount</th>\n",
       "      <th>case:Activity</th>\n",
       "      <th>case:RfpNumber</th>\n",
       "      <th>@@case_index</th>\n",
       "    </tr>\n",
       "  </thead>\n",
       "  <tbody>\n",
       "    <tr>\n",
       "      <th>0</th>\n",
       "      <td>st_step 148220_0</td>\n",
       "      <td>STAFF MEMBER</td>\n",
       "      <td>Request For Payment SUBMITTED by EMPLOYEE</td>\n",
       "      <td>2017-01-09 08:17:18+00:00</td>\n",
       "      <td>EMPLOYEE</td>\n",
       "      <td>request for payment 148214</td>\n",
       "      <td>project 148216</td>\n",
       "      <td>UNKNOWN</td>\n",
       "      <td>request for payment 148214</td>\n",
       "      <td>organizational unit 65463</td>\n",
       "      <td>0</td>\n",
       "      <td>34.336343</td>\n",
       "      <td>UNKNOWN</td>\n",
       "      <td>request for payment number 148215</td>\n",
       "      <td>0</td>\n",
       "    </tr>\n",
       "    <tr>\n",
       "      <th>1</th>\n",
       "      <td>st_step 148221_0</td>\n",
       "      <td>STAFF MEMBER</td>\n",
       "      <td>Request For Payment FINAL_APPROVED by SUPERVISOR</td>\n",
       "      <td>2017-01-09 08:18:00+00:00</td>\n",
       "      <td>SUPERVISOR</td>\n",
       "      <td>request for payment 148214</td>\n",
       "      <td>project 148216</td>\n",
       "      <td>UNKNOWN</td>\n",
       "      <td>request for payment 148214</td>\n",
       "      <td>organizational unit 65463</td>\n",
       "      <td>0</td>\n",
       "      <td>34.336343</td>\n",
       "      <td>UNKNOWN</td>\n",
       "      <td>request for payment number 148215</td>\n",
       "      <td>0</td>\n",
       "    </tr>\n",
       "    <tr>\n",
       "      <th>2</th>\n",
       "      <td>st_step 148222_0</td>\n",
       "      <td>STAFF MEMBER</td>\n",
       "      <td>Request For Payment REJECTED by MISSING</td>\n",
       "      <td>2017-01-10 11:42:32+00:00</td>\n",
       "      <td>MISSING</td>\n",
       "      <td>request for payment 148214</td>\n",
       "      <td>project 148216</td>\n",
       "      <td>UNKNOWN</td>\n",
       "      <td>request for payment 148214</td>\n",
       "      <td>organizational unit 65463</td>\n",
       "      <td>0</td>\n",
       "      <td>34.336343</td>\n",
       "      <td>UNKNOWN</td>\n",
       "      <td>request for payment number 148215</td>\n",
       "      <td>0</td>\n",
       "    </tr>\n",
       "    <tr>\n",
       "      <th>3</th>\n",
       "      <td>st_step 148219_0</td>\n",
       "      <td>STAFF MEMBER</td>\n",
       "      <td>Request For Payment SUBMITTED by EMPLOYEE</td>\n",
       "      <td>2017-03-03 08:51:13+00:00</td>\n",
       "      <td>EMPLOYEE</td>\n",
       "      <td>request for payment 148214</td>\n",
       "      <td>project 148216</td>\n",
       "      <td>UNKNOWN</td>\n",
       "      <td>request for payment 148214</td>\n",
       "      <td>organizational unit 65463</td>\n",
       "      <td>0</td>\n",
       "      <td>34.336343</td>\n",
       "      <td>UNKNOWN</td>\n",
       "      <td>request for payment number 148215</td>\n",
       "      <td>0</td>\n",
       "    </tr>\n",
       "    <tr>\n",
       "      <th>4</th>\n",
       "      <td>st_step 148218_0</td>\n",
       "      <td>STAFF MEMBER</td>\n",
       "      <td>Request For Payment APPROVED by PRE_APPROVER</td>\n",
       "      <td>2017-03-03 08:51:42+00:00</td>\n",
       "      <td>PRE_APPROVER</td>\n",
       "      <td>request for payment 148214</td>\n",
       "      <td>project 148216</td>\n",
       "      <td>UNKNOWN</td>\n",
       "      <td>request for payment 148214</td>\n",
       "      <td>organizational unit 65463</td>\n",
       "      <td>0</td>\n",
       "      <td>34.336343</td>\n",
       "      <td>UNKNOWN</td>\n",
       "      <td>request for payment number 148215</td>\n",
       "      <td>0</td>\n",
       "    </tr>\n",
       "    <tr>\n",
       "      <th>...</th>\n",
       "      <td>...</td>\n",
       "      <td>...</td>\n",
       "      <td>...</td>\n",
       "      <td>...</td>\n",
       "      <td>...</td>\n",
       "      <td>...</td>\n",
       "      <td>...</td>\n",
       "      <td>...</td>\n",
       "      <td>...</td>\n",
       "      <td>...</td>\n",
       "      <td>...</td>\n",
       "      <td>...</td>\n",
       "      <td>...</td>\n",
       "      <td>...</td>\n",
       "      <td>...</td>\n",
       "    </tr>\n",
       "    <tr>\n",
       "      <th>36791</th>\n",
       "      <td>st_step 185004_0</td>\n",
       "      <td>STAFF MEMBER</td>\n",
       "      <td>Request For Payment APPROVED by ADMINISTRATION</td>\n",
       "      <td>2018-12-29 11:35:02+00:00</td>\n",
       "      <td>ADMINISTRATION</td>\n",
       "      <td>request for payment 185000</td>\n",
       "      <td>project 147860</td>\n",
       "      <td>task 152704</td>\n",
       "      <td>request for payment 185000</td>\n",
       "      <td>organizational unit 65468</td>\n",
       "      <td>0</td>\n",
       "      <td>15.409660</td>\n",
       "      <td>activity 505</td>\n",
       "      <td>request for payment number 185001</td>\n",
       "      <td>6885</td>\n",
       "    </tr>\n",
       "    <tr>\n",
       "      <th>36792</th>\n",
       "      <td>st_step 185003_0</td>\n",
       "      <td>STAFF MEMBER</td>\n",
       "      <td>Request For Payment APPROVED by BUDGET OWNER</td>\n",
       "      <td>2019-01-03 08:27:20+00:00</td>\n",
       "      <td>BUDGET OWNER</td>\n",
       "      <td>request for payment 185000</td>\n",
       "      <td>project 147860</td>\n",
       "      <td>task 152704</td>\n",
       "      <td>request for payment 185000</td>\n",
       "      <td>organizational unit 65468</td>\n",
       "      <td>0</td>\n",
       "      <td>15.409660</td>\n",
       "      <td>activity 505</td>\n",
       "      <td>request for payment number 185001</td>\n",
       "      <td>6885</td>\n",
       "    </tr>\n",
       "    <tr>\n",
       "      <th>36793</th>\n",
       "      <td>st_step 185005_0</td>\n",
       "      <td>STAFF MEMBER</td>\n",
       "      <td>Request For Payment FINAL_APPROVED by SUPERVISOR</td>\n",
       "      <td>2019-01-08 08:00:39+00:00</td>\n",
       "      <td>SUPERVISOR</td>\n",
       "      <td>request for payment 185000</td>\n",
       "      <td>project 147860</td>\n",
       "      <td>task 152704</td>\n",
       "      <td>request for payment 185000</td>\n",
       "      <td>organizational unit 65468</td>\n",
       "      <td>0</td>\n",
       "      <td>15.409660</td>\n",
       "      <td>activity 505</td>\n",
       "      <td>request for payment number 185001</td>\n",
       "      <td>6885</td>\n",
       "    </tr>\n",
       "    <tr>\n",
       "      <th>36794</th>\n",
       "      <td>rp_request for payment 185000_15</td>\n",
       "      <td>SYSTEM</td>\n",
       "      <td>Request Payment</td>\n",
       "      <td>2019-01-08 08:29:14+00:00</td>\n",
       "      <td>UNDEFINED</td>\n",
       "      <td>request for payment 185000</td>\n",
       "      <td>project 147860</td>\n",
       "      <td>task 152704</td>\n",
       "      <td>request for payment 185000</td>\n",
       "      <td>organizational unit 65468</td>\n",
       "      <td>0</td>\n",
       "      <td>15.409660</td>\n",
       "      <td>activity 505</td>\n",
       "      <td>request for payment number 185001</td>\n",
       "      <td>6885</td>\n",
       "    </tr>\n",
       "    <tr>\n",
       "      <th>36795</th>\n",
       "      <td>rp_request for payment 185000_16</td>\n",
       "      <td>SYSTEM</td>\n",
       "      <td>Payment Handled</td>\n",
       "      <td>2019-01-10 16:31:09+00:00</td>\n",
       "      <td>UNDEFINED</td>\n",
       "      <td>request for payment 185000</td>\n",
       "      <td>project 147860</td>\n",
       "      <td>task 152704</td>\n",
       "      <td>request for payment 185000</td>\n",
       "      <td>organizational unit 65468</td>\n",
       "      <td>0</td>\n",
       "      <td>15.409660</td>\n",
       "      <td>activity 505</td>\n",
       "      <td>request for payment number 185001</td>\n",
       "      <td>6885</td>\n",
       "    </tr>\n",
       "  </tbody>\n",
       "</table>\n",
       "<p>36796 rows × 15 columns</p>\n",
       "</div>"
      ],
      "text/plain": [
       "                                     id  org:resource  \\\n",
       "0                      st_step 148220_0  STAFF MEMBER   \n",
       "1                      st_step 148221_0  STAFF MEMBER   \n",
       "2                      st_step 148222_0  STAFF MEMBER   \n",
       "3                      st_step 148219_0  STAFF MEMBER   \n",
       "4                      st_step 148218_0  STAFF MEMBER   \n",
       "...                                 ...           ...   \n",
       "36791                  st_step 185004_0  STAFF MEMBER   \n",
       "36792                  st_step 185003_0  STAFF MEMBER   \n",
       "36793                  st_step 185005_0  STAFF MEMBER   \n",
       "36794  rp_request for payment 185000_15        SYSTEM   \n",
       "36795  rp_request for payment 185000_16        SYSTEM   \n",
       "\n",
       "                                           concept:name  \\\n",
       "0             Request For Payment SUBMITTED by EMPLOYEE   \n",
       "1      Request For Payment FINAL_APPROVED by SUPERVISOR   \n",
       "2               Request For Payment REJECTED by MISSING   \n",
       "3             Request For Payment SUBMITTED by EMPLOYEE   \n",
       "4          Request For Payment APPROVED by PRE_APPROVER   \n",
       "...                                                 ...   \n",
       "36791    Request For Payment APPROVED by ADMINISTRATION   \n",
       "36792      Request For Payment APPROVED by BUDGET OWNER   \n",
       "36793  Request For Payment FINAL_APPROVED by SUPERVISOR   \n",
       "36794                                   Request Payment   \n",
       "36795                                   Payment Handled   \n",
       "\n",
       "                 time:timestamp        org:role                 case:Rfp_id  \\\n",
       "0     2017-01-09 08:17:18+00:00        EMPLOYEE  request for payment 148214   \n",
       "1     2017-01-09 08:18:00+00:00      SUPERVISOR  request for payment 148214   \n",
       "2     2017-01-10 11:42:32+00:00         MISSING  request for payment 148214   \n",
       "3     2017-03-03 08:51:13+00:00        EMPLOYEE  request for payment 148214   \n",
       "4     2017-03-03 08:51:42+00:00    PRE_APPROVER  request for payment 148214   \n",
       "...                         ...             ...                         ...   \n",
       "36791 2018-12-29 11:35:02+00:00  ADMINISTRATION  request for payment 185000   \n",
       "36792 2019-01-03 08:27:20+00:00    BUDGET OWNER  request for payment 185000   \n",
       "36793 2019-01-08 08:00:39+00:00      SUPERVISOR  request for payment 185000   \n",
       "36794 2019-01-08 08:29:14+00:00       UNDEFINED  request for payment 185000   \n",
       "36795 2019-01-10 16:31:09+00:00       UNDEFINED  request for payment 185000   \n",
       "\n",
       "         case:Project    case:Task           case:concept:name  \\\n",
       "0      project 148216      UNKNOWN  request for payment 148214   \n",
       "1      project 148216      UNKNOWN  request for payment 148214   \n",
       "2      project 148216      UNKNOWN  request for payment 148214   \n",
       "3      project 148216      UNKNOWN  request for payment 148214   \n",
       "4      project 148216      UNKNOWN  request for payment 148214   \n",
       "...               ...          ...                         ...   \n",
       "36791  project 147860  task 152704  request for payment 185000   \n",
       "36792  project 147860  task 152704  request for payment 185000   \n",
       "36793  project 147860  task 152704  request for payment 185000   \n",
       "36794  project 147860  task 152704  request for payment 185000   \n",
       "36795  project 147860  task 152704  request for payment 185000   \n",
       "\n",
       "       case:OrganizationalEntity  case:Cost Type  case:RequestedAmount  \\\n",
       "0      organizational unit 65463               0             34.336343   \n",
       "1      organizational unit 65463               0             34.336343   \n",
       "2      organizational unit 65463               0             34.336343   \n",
       "3      organizational unit 65463               0             34.336343   \n",
       "4      organizational unit 65463               0             34.336343   \n",
       "...                          ...             ...                   ...   \n",
       "36791  organizational unit 65468               0             15.409660   \n",
       "36792  organizational unit 65468               0             15.409660   \n",
       "36793  organizational unit 65468               0             15.409660   \n",
       "36794  organizational unit 65468               0             15.409660   \n",
       "36795  organizational unit 65468               0             15.409660   \n",
       "\n",
       "      case:Activity                     case:RfpNumber  @@case_index  \n",
       "0           UNKNOWN  request for payment number 148215             0  \n",
       "1           UNKNOWN  request for payment number 148215             0  \n",
       "2           UNKNOWN  request for payment number 148215             0  \n",
       "3           UNKNOWN  request for payment number 148215             0  \n",
       "4           UNKNOWN  request for payment number 148215             0  \n",
       "...             ...                                ...           ...  \n",
       "36791  activity 505  request for payment number 185001          6885  \n",
       "36792  activity 505  request for payment number 185001          6885  \n",
       "36793  activity 505  request for payment number 185001          6885  \n",
       "36794  activity 505  request for payment number 185001          6885  \n",
       "36795  activity 505  request for payment number 185001          6885  \n",
       "\n",
       "[36796 rows x 15 columns]"
      ]
     },
     "execution_count": 1,
     "metadata": {},
     "output_type": "execute_result"
    }
   ],
   "source": [
    "import pandas as pd\n",
    "import numpy as np\n",
    "import pm4py\n",
    "from pm4py.objects.conversion.log import converter as log_converter\n",
    "\n",
    "if __name__ == \"__main__\":\n",
    "    # Read the XES file\n",
    "    dataframe_log = pm4py.read_xes('../../data/logs/RequestForPayment.xes')\n",
    "\n",
    "    # If 'log' is already a DataFrame, add the @@case_index column directly\n",
    "    case_indices = {case_id: idx for idx, case_id in enumerate(dataframe_log['case:concept:name'].unique())}\n",
    "    dataframe_log['@@case_index'] = dataframe_log['case:concept:name'].map(case_indices)\n",
    "    \n",
    "     # Convert the dataframe to event log\n",
    "    log = log_converter.apply(dataframe_log)\n",
    "    \n",
    "dataframe_log"
   ]
  },
  {
   "cell_type": "markdown",
   "metadata": {},
   "source": [
    "# Drop unnessary columns"
   ]
  },
  {
   "cell_type": "code",
   "execution_count": 2,
   "metadata": {},
   "outputs": [],
   "source": [
    "dataframe_log = dataframe_log.drop(columns=['case:Rfp_id'])"
   ]
  },
  {
   "cell_type": "code",
   "execution_count": 3,
   "metadata": {},
   "outputs": [],
   "source": [
    "dataframe_log = dataframe_log.drop(columns=['case:Project'])"
   ]
  },
  {
   "cell_type": "code",
   "execution_count": 4,
   "metadata": {},
   "outputs": [],
   "source": [
    "dataframe_log = dataframe_log.drop(columns=['case:Task'])"
   ]
  },
  {
   "cell_type": "code",
   "execution_count": 5,
   "metadata": {},
   "outputs": [],
   "source": [
    "dataframe_log = dataframe_log.drop(columns=['case:concept:name'])"
   ]
  },
  {
   "cell_type": "code",
   "execution_count": 6,
   "metadata": {},
   "outputs": [],
   "source": [
    "dataframe_log = dataframe_log.drop(columns=['case:OrganizationalEntity'])"
   ]
  },
  {
   "cell_type": "code",
   "execution_count": 7,
   "metadata": {},
   "outputs": [],
   "source": [
    "dataframe_log = dataframe_log.drop(columns=['case:Cost Type'])"
   ]
  },
  {
   "cell_type": "code",
   "execution_count": 8,
   "metadata": {},
   "outputs": [],
   "source": [
    "dataframe_log = dataframe_log.drop(columns=['case:RequestedAmount'])"
   ]
  },
  {
   "cell_type": "code",
   "execution_count": 9,
   "metadata": {},
   "outputs": [],
   "source": [
    "dataframe_log = dataframe_log.drop(columns=['case:Activity'])"
   ]
  },
  {
   "cell_type": "code",
   "execution_count": 10,
   "metadata": {},
   "outputs": [],
   "source": [
    "dataframe_log = dataframe_log.drop(columns=['case:RfpNumber'])"
   ]
  },
  {
   "cell_type": "code",
   "execution_count": 11,
   "metadata": {},
   "outputs": [],
   "source": [
    "from sklearn.preprocessing import StandardScaler\n",
    "\n",
    "# Convert to datetime format\n",
    "dataframe_log['time:timestamp'] = pd.to_datetime(dataframe_log['time:timestamp'])\n",
    "\n",
    "# Calculate elapsed time since the start of each case\n",
    "dataframe_log['start_time'] = dataframe_log.groupby('@@case_index')['time:timestamp'].transform('min')\n",
    "dataframe_log['elapsed_time'] = (dataframe_log['time:timestamp'] - dataframe_log['start_time']).dt.total_seconds()\n",
    "\n",
    "# Normalize the elapsed time in minutes\n",
    "scaler = StandardScaler()\n",
    "dataframe_log['standardized_elapsed_time'] = scaler.fit_transform(dataframe_log[['elapsed_time']])\n",
    "\n",
    "dataframe_log = dataframe_log.drop(columns=['start_time'])\n",
    "dataframe_log = dataframe_log.drop(columns=['elapsed_time'])\n",
    "dataframe_log = dataframe_log.drop(columns=['time:timestamp'])"
   ]
  },
  {
   "cell_type": "markdown",
   "metadata": {},
   "source": [
    "# Insert Start & End markers"
   ]
  },
  {
   "cell_type": "code",
   "execution_count": 12,
   "metadata": {},
   "outputs": [],
   "source": [
    "# Define a function to insert start and end markers\n",
    "def add_markers(df):\n",
    "    # Identify unique case indices\n",
    "    case_indices = df['@@case_index'].unique()\n",
    "    \n",
    "    # Prepare a container for new DataFrame rows\n",
    "    new_rows = []\n",
    "    \n",
    "    # Iterate over each case index to add start and end markers\n",
    "    for case_index in case_indices:\n",
    "        # Create a start marker row with all columns except @@case_index set to 'Start'\n",
    "        start_row = {col: 'Start' if col != '@@case_index' else case_index for col in df.columns}\n",
    "        \n",
    "        # Create an end marker row with all columns except @@case_index set to 'End'\n",
    "        end_row = {col: 'End' if col != '@@case_index' else case_index for col in df.columns}\n",
    "        \n",
    "        # Append start row, rows for the current case, and end row\n",
    "        new_rows.append(start_row)\n",
    "        new_rows.extend(df[df['@@case_index'] == case_index].to_dict('records'))\n",
    "        new_rows.append(end_row)\n",
    "    \n",
    "    # Convert the list of rows into a DataFrame\n",
    "    return pd.DataFrame(new_rows)\n",
    "\n",
    "# Apply the function to add start and end markers to the dataframe\n",
    "modified_dataframe = add_markers(dataframe_log)"
   ]
  },
  {
   "cell_type": "code",
   "execution_count": 13,
   "metadata": {},
   "outputs": [
    {
     "data": {
      "text/html": [
       "<div>\n",
       "<style scoped>\n",
       "    .dataframe tbody tr th:only-of-type {\n",
       "        vertical-align: middle;\n",
       "    }\n",
       "\n",
       "    .dataframe tbody tr th {\n",
       "        vertical-align: top;\n",
       "    }\n",
       "\n",
       "    .dataframe thead th {\n",
       "        text-align: right;\n",
       "    }\n",
       "</style>\n",
       "<table border=\"1\" class=\"dataframe\">\n",
       "  <thead>\n",
       "    <tr style=\"text-align: right;\">\n",
       "      <th></th>\n",
       "      <th>id</th>\n",
       "      <th>org:resource</th>\n",
       "      <th>concept:name</th>\n",
       "      <th>org:role</th>\n",
       "      <th>@@case_index</th>\n",
       "      <th>standardized_elapsed_time</th>\n",
       "    </tr>\n",
       "  </thead>\n",
       "  <tbody>\n",
       "    <tr>\n",
       "      <th>0</th>\n",
       "      <td>Start</td>\n",
       "      <td>Start</td>\n",
       "      <td>Start</td>\n",
       "      <td>Start</td>\n",
       "      <td>0</td>\n",
       "      <td>Start</td>\n",
       "    </tr>\n",
       "    <tr>\n",
       "      <th>1</th>\n",
       "      <td>st_step 148220_0</td>\n",
       "      <td>STAFF MEMBER</td>\n",
       "      <td>Request For Payment SUBMITTED by EMPLOYEE</td>\n",
       "      <td>EMPLOYEE</td>\n",
       "      <td>0</td>\n",
       "      <td>-0.411261</td>\n",
       "    </tr>\n",
       "    <tr>\n",
       "      <th>2</th>\n",
       "      <td>st_step 148221_0</td>\n",
       "      <td>STAFF MEMBER</td>\n",
       "      <td>Request For Payment FINAL_APPROVED by SUPERVISOR</td>\n",
       "      <td>SUPERVISOR</td>\n",
       "      <td>0</td>\n",
       "      <td>-0.411227</td>\n",
       "    </tr>\n",
       "    <tr>\n",
       "      <th>3</th>\n",
       "      <td>st_step 148222_0</td>\n",
       "      <td>STAFF MEMBER</td>\n",
       "      <td>Request For Payment REJECTED by MISSING</td>\n",
       "      <td>MISSING</td>\n",
       "      <td>0</td>\n",
       "      <td>-0.330864</td>\n",
       "    </tr>\n",
       "    <tr>\n",
       "      <th>4</th>\n",
       "      <td>st_step 148219_0</td>\n",
       "      <td>STAFF MEMBER</td>\n",
       "      <td>Request For Payment SUBMITTED by EMPLOYEE</td>\n",
       "      <td>EMPLOYEE</td>\n",
       "      <td>0</td>\n",
       "      <td>3.319916</td>\n",
       "    </tr>\n",
       "    <tr>\n",
       "      <th>...</th>\n",
       "      <td>...</td>\n",
       "      <td>...</td>\n",
       "      <td>...</td>\n",
       "      <td>...</td>\n",
       "      <td>...</td>\n",
       "      <td>...</td>\n",
       "    </tr>\n",
       "    <tr>\n",
       "      <th>50563</th>\n",
       "      <td>st_step 185003_0</td>\n",
       "      <td>STAFF MEMBER</td>\n",
       "      <td>Request For Payment APPROVED by BUDGET OWNER</td>\n",
       "      <td>BUDGET OWNER</td>\n",
       "      <td>6885</td>\n",
       "      <td>-0.068584</td>\n",
       "    </tr>\n",
       "    <tr>\n",
       "      <th>50564</th>\n",
       "      <td>st_step 185005_0</td>\n",
       "      <td>STAFF MEMBER</td>\n",
       "      <td>Request For Payment FINAL_APPROVED by SUPERVISOR</td>\n",
       "      <td>SUPERVISOR</td>\n",
       "      <td>6885</td>\n",
       "      <td>0.281954</td>\n",
       "    </tr>\n",
       "    <tr>\n",
       "      <th>50565</th>\n",
       "      <td>rp_request for payment 185000_15</td>\n",
       "      <td>SYSTEM</td>\n",
       "      <td>Request Payment</td>\n",
       "      <td>UNDEFINED</td>\n",
       "      <td>6885</td>\n",
       "      <td>0.283351</td>\n",
       "    </tr>\n",
       "    <tr>\n",
       "      <th>50566</th>\n",
       "      <td>rp_request for payment 185000_16</td>\n",
       "      <td>SYSTEM</td>\n",
       "      <td>Payment Handled</td>\n",
       "      <td>UNDEFINED</td>\n",
       "      <td>6885</td>\n",
       "      <td>0.447637</td>\n",
       "    </tr>\n",
       "    <tr>\n",
       "      <th>50567</th>\n",
       "      <td>End</td>\n",
       "      <td>End</td>\n",
       "      <td>End</td>\n",
       "      <td>End</td>\n",
       "      <td>6885</td>\n",
       "      <td>End</td>\n",
       "    </tr>\n",
       "  </tbody>\n",
       "</table>\n",
       "<p>50568 rows × 6 columns</p>\n",
       "</div>"
      ],
      "text/plain": [
       "                                     id  org:resource  \\\n",
       "0                                 Start         Start   \n",
       "1                      st_step 148220_0  STAFF MEMBER   \n",
       "2                      st_step 148221_0  STAFF MEMBER   \n",
       "3                      st_step 148222_0  STAFF MEMBER   \n",
       "4                      st_step 148219_0  STAFF MEMBER   \n",
       "...                                 ...           ...   \n",
       "50563                  st_step 185003_0  STAFF MEMBER   \n",
       "50564                  st_step 185005_0  STAFF MEMBER   \n",
       "50565  rp_request for payment 185000_15        SYSTEM   \n",
       "50566  rp_request for payment 185000_16        SYSTEM   \n",
       "50567                               End           End   \n",
       "\n",
       "                                           concept:name      org:role  \\\n",
       "0                                                 Start         Start   \n",
       "1             Request For Payment SUBMITTED by EMPLOYEE      EMPLOYEE   \n",
       "2      Request For Payment FINAL_APPROVED by SUPERVISOR    SUPERVISOR   \n",
       "3               Request For Payment REJECTED by MISSING       MISSING   \n",
       "4             Request For Payment SUBMITTED by EMPLOYEE      EMPLOYEE   \n",
       "...                                                 ...           ...   \n",
       "50563      Request For Payment APPROVED by BUDGET OWNER  BUDGET OWNER   \n",
       "50564  Request For Payment FINAL_APPROVED by SUPERVISOR    SUPERVISOR   \n",
       "50565                                   Request Payment     UNDEFINED   \n",
       "50566                                   Payment Handled     UNDEFINED   \n",
       "50567                                               End           End   \n",
       "\n",
       "       @@case_index standardized_elapsed_time  \n",
       "0                 0                     Start  \n",
       "1                 0                 -0.411261  \n",
       "2                 0                 -0.411227  \n",
       "3                 0                 -0.330864  \n",
       "4                 0                  3.319916  \n",
       "...             ...                       ...  \n",
       "50563          6885                 -0.068584  \n",
       "50564          6885                  0.281954  \n",
       "50565          6885                  0.283351  \n",
       "50566          6885                  0.447637  \n",
       "50567          6885                       End  \n",
       "\n",
       "[50568 rows x 6 columns]"
      ]
     },
     "execution_count": 13,
     "metadata": {},
     "output_type": "execute_result"
    }
   ],
   "source": [
    "modified_dataframe"
   ]
  },
  {
   "cell_type": "markdown",
   "metadata": {},
   "source": [
    "# Preprocess"
   ]
  },
  {
   "cell_type": "code",
   "execution_count": 14,
   "metadata": {},
   "outputs": [],
   "source": [
    "modified_dataframe['standardized_elapsed_time'] = modified_dataframe['standardized_elapsed_time'].replace({'Start': 0, 'End': 1})"
   ]
  },
  {
   "cell_type": "code",
   "execution_count": 15,
   "metadata": {},
   "outputs": [],
   "source": [
    "codes, uniques = pd.factorize(modified_dataframe['id'])\n",
    "modified_dataframe['id'] = codes"
   ]
  },
  {
   "cell_type": "code",
   "execution_count": 16,
   "metadata": {},
   "outputs": [],
   "source": [
    "codes, uniques = pd.factorize(modified_dataframe['org:resource'])\n",
    "modified_dataframe['org:resource'] = codes"
   ]
  },
  {
   "cell_type": "code",
   "execution_count": 17,
   "metadata": {},
   "outputs": [],
   "source": [
    "codes, uniques = pd.factorize(modified_dataframe['concept:name'])\n",
    "modified_dataframe['concept:name'] = codes"
   ]
  },
  {
   "cell_type": "code",
   "execution_count": 18,
   "metadata": {},
   "outputs": [],
   "source": [
    "codes, uniques = pd.factorize(modified_dataframe['org:role'])\n",
    "modified_dataframe['org:role'] = codes"
   ]
  },
  {
   "cell_type": "code",
   "execution_count": 19,
   "metadata": {},
   "outputs": [
    {
     "data": {
      "text/html": [
       "<div>\n",
       "<style scoped>\n",
       "    .dataframe tbody tr th:only-of-type {\n",
       "        vertical-align: middle;\n",
       "    }\n",
       "\n",
       "    .dataframe tbody tr th {\n",
       "        vertical-align: top;\n",
       "    }\n",
       "\n",
       "    .dataframe thead th {\n",
       "        text-align: right;\n",
       "    }\n",
       "</style>\n",
       "<table border=\"1\" class=\"dataframe\">\n",
       "  <thead>\n",
       "    <tr style=\"text-align: right;\">\n",
       "      <th></th>\n",
       "      <th>id</th>\n",
       "      <th>org:resource</th>\n",
       "      <th>concept:name</th>\n",
       "      <th>org:role</th>\n",
       "      <th>@@case_index</th>\n",
       "      <th>standardized_elapsed_time</th>\n",
       "    </tr>\n",
       "  </thead>\n",
       "  <tbody>\n",
       "    <tr>\n",
       "      <th>0</th>\n",
       "      <td>0</td>\n",
       "      <td>0</td>\n",
       "      <td>0</td>\n",
       "      <td>0</td>\n",
       "      <td>0</td>\n",
       "      <td>0.000000</td>\n",
       "    </tr>\n",
       "    <tr>\n",
       "      <th>1</th>\n",
       "      <td>1</td>\n",
       "      <td>1</td>\n",
       "      <td>1</td>\n",
       "      <td>1</td>\n",
       "      <td>0</td>\n",
       "      <td>-0.411261</td>\n",
       "    </tr>\n",
       "    <tr>\n",
       "      <th>2</th>\n",
       "      <td>2</td>\n",
       "      <td>1</td>\n",
       "      <td>2</td>\n",
       "      <td>2</td>\n",
       "      <td>0</td>\n",
       "      <td>-0.411227</td>\n",
       "    </tr>\n",
       "    <tr>\n",
       "      <th>3</th>\n",
       "      <td>3</td>\n",
       "      <td>1</td>\n",
       "      <td>3</td>\n",
       "      <td>3</td>\n",
       "      <td>0</td>\n",
       "      <td>-0.330864</td>\n",
       "    </tr>\n",
       "    <tr>\n",
       "      <th>4</th>\n",
       "      <td>4</td>\n",
       "      <td>1</td>\n",
       "      <td>1</td>\n",
       "      <td>1</td>\n",
       "      <td>0</td>\n",
       "      <td>3.319916</td>\n",
       "    </tr>\n",
       "    <tr>\n",
       "      <th>...</th>\n",
       "      <td>...</td>\n",
       "      <td>...</td>\n",
       "      <td>...</td>\n",
       "      <td>...</td>\n",
       "      <td>...</td>\n",
       "      <td>...</td>\n",
       "    </tr>\n",
       "    <tr>\n",
       "      <th>50563</th>\n",
       "      <td>36794</td>\n",
       "      <td>1</td>\n",
       "      <td>16</td>\n",
       "      <td>9</td>\n",
       "      <td>6885</td>\n",
       "      <td>-0.068584</td>\n",
       "    </tr>\n",
       "    <tr>\n",
       "      <th>50564</th>\n",
       "      <td>36795</td>\n",
       "      <td>1</td>\n",
       "      <td>2</td>\n",
       "      <td>2</td>\n",
       "      <td>6885</td>\n",
       "      <td>0.281954</td>\n",
       "    </tr>\n",
       "    <tr>\n",
       "      <th>50565</th>\n",
       "      <td>36796</td>\n",
       "      <td>2</td>\n",
       "      <td>5</td>\n",
       "      <td>5</td>\n",
       "      <td>6885</td>\n",
       "      <td>0.283351</td>\n",
       "    </tr>\n",
       "    <tr>\n",
       "      <th>50566</th>\n",
       "      <td>36797</td>\n",
       "      <td>2</td>\n",
       "      <td>6</td>\n",
       "      <td>5</td>\n",
       "      <td>6885</td>\n",
       "      <td>0.447637</td>\n",
       "    </tr>\n",
       "    <tr>\n",
       "      <th>50567</th>\n",
       "      <td>9</td>\n",
       "      <td>3</td>\n",
       "      <td>7</td>\n",
       "      <td>6</td>\n",
       "      <td>6885</td>\n",
       "      <td>1.000000</td>\n",
       "    </tr>\n",
       "  </tbody>\n",
       "</table>\n",
       "<p>50568 rows × 6 columns</p>\n",
       "</div>"
      ],
      "text/plain": [
       "          id  org:resource  concept:name  org:role  @@case_index  \\\n",
       "0          0             0             0         0             0   \n",
       "1          1             1             1         1             0   \n",
       "2          2             1             2         2             0   \n",
       "3          3             1             3         3             0   \n",
       "4          4             1             1         1             0   \n",
       "...      ...           ...           ...       ...           ...   \n",
       "50563  36794             1            16         9          6885   \n",
       "50564  36795             1             2         2          6885   \n",
       "50565  36796             2             5         5          6885   \n",
       "50566  36797             2             6         5          6885   \n",
       "50567      9             3             7         6          6885   \n",
       "\n",
       "       standardized_elapsed_time  \n",
       "0                       0.000000  \n",
       "1                      -0.411261  \n",
       "2                      -0.411227  \n",
       "3                      -0.330864  \n",
       "4                       3.319916  \n",
       "...                          ...  \n",
       "50563                  -0.068584  \n",
       "50564                   0.281954  \n",
       "50565                   0.283351  \n",
       "50566                   0.447637  \n",
       "50567                   1.000000  \n",
       "\n",
       "[50568 rows x 6 columns]"
      ]
     },
     "execution_count": 19,
     "metadata": {},
     "output_type": "execute_result"
    }
   ],
   "source": [
    "modified_dataframe"
   ]
  },
  {
   "cell_type": "markdown",
   "metadata": {},
   "source": [
    "### Padding for Cases with less then 5 events"
   ]
  },
  {
   "cell_type": "code",
   "execution_count": 23,
   "metadata": {},
   "outputs": [
    {
     "data": {
      "text/plain": [
       "5"
      ]
     },
     "execution_count": 23,
     "metadata": {},
     "output_type": "execute_result"
    }
   ],
   "source": [
    "# Calculating the frequency of each unique value in '@@case_index'\n",
    "frequency = modified_dataframe['@@case_index'].value_counts()\n",
    "\n",
    "# Finding the minimum occurrence\n",
    "min_occurrence = frequency.min()\n",
    "\n",
    "min_occurrence"
   ]
  },
  {
   "cell_type": "code",
   "execution_count": 21,
   "metadata": {},
   "outputs": [],
   "source": [
    "# Assuming your dataframe might have different types, let's create a generic function to add rows\n",
    "def add_rows(group, num_rows, case_index_value):\n",
    "    # For each column, determine the appropriate \"zero\" value (int 0, string '', etc.)\n",
    "    additional_rows = pd.DataFrame({\n",
    "        column: 0 if pd.api.types.is_numeric_dtype(group[column]) else '' for column in group.columns\n",
    "    }, index=range(num_rows))\n",
    "    \n",
    "    # Set the @@case_index column to the current case index value\n",
    "    additional_rows['@@case_index'] = case_index_value\n",
    "    \n",
    "    # Append the additional rows to the group\n",
    "    return pd.concat([group, additional_rows], ignore_index=True)\n",
    "\n",
    "# Function to pad cases with less than 5 events\n",
    "def pad_cases(df):\n",
    "    # Group by @@case_index\n",
    "    groups = df.groupby('@@case_index')\n",
    "    \n",
    "    # Placeholder for modified groups\n",
    "    modified_groups = []\n",
    "    \n",
    "    for name, group in groups:\n",
    "        # Calculate the number of events to add\n",
    "        events_to_add = 5 - len(group)\n",
    "        \n",
    "        if events_to_add > 0:\n",
    "            # Add the required number of rows\n",
    "            group = add_rows(group, events_to_add, name)\n",
    "        \n",
    "        # Append the modified group to the list\n",
    "        modified_groups.append(group)\n",
    "    \n",
    "    # Concatenate all modified groups back into a single DataFrame\n",
    "    return pd.concat(modified_groups, ignore_index=True) "
   ]
  },
  {
   "cell_type": "code",
   "execution_count": 22,
   "metadata": {},
   "outputs": [
    {
     "data": {
      "text/html": [
       "<div>\n",
       "<style scoped>\n",
       "    .dataframe tbody tr th:only-of-type {\n",
       "        vertical-align: middle;\n",
       "    }\n",
       "\n",
       "    .dataframe tbody tr th {\n",
       "        vertical-align: top;\n",
       "    }\n",
       "\n",
       "    .dataframe thead th {\n",
       "        text-align: right;\n",
       "    }\n",
       "</style>\n",
       "<table border=\"1\" class=\"dataframe\">\n",
       "  <thead>\n",
       "    <tr style=\"text-align: right;\">\n",
       "      <th></th>\n",
       "      <th>id</th>\n",
       "      <th>org:resource</th>\n",
       "      <th>concept:name</th>\n",
       "      <th>org:role</th>\n",
       "      <th>@@case_index</th>\n",
       "      <th>standardized_elapsed_time</th>\n",
       "    </tr>\n",
       "  </thead>\n",
       "  <tbody>\n",
       "    <tr>\n",
       "      <th>0</th>\n",
       "      <td>0</td>\n",
       "      <td>0</td>\n",
       "      <td>0</td>\n",
       "      <td>0</td>\n",
       "      <td>0</td>\n",
       "      <td>0.000000</td>\n",
       "    </tr>\n",
       "    <tr>\n",
       "      <th>1</th>\n",
       "      <td>1</td>\n",
       "      <td>1</td>\n",
       "      <td>1</td>\n",
       "      <td>1</td>\n",
       "      <td>0</td>\n",
       "      <td>-0.411261</td>\n",
       "    </tr>\n",
       "    <tr>\n",
       "      <th>2</th>\n",
       "      <td>2</td>\n",
       "      <td>1</td>\n",
       "      <td>2</td>\n",
       "      <td>2</td>\n",
       "      <td>0</td>\n",
       "      <td>-0.411227</td>\n",
       "    </tr>\n",
       "    <tr>\n",
       "      <th>3</th>\n",
       "      <td>3</td>\n",
       "      <td>1</td>\n",
       "      <td>3</td>\n",
       "      <td>3</td>\n",
       "      <td>0</td>\n",
       "      <td>-0.330864</td>\n",
       "    </tr>\n",
       "    <tr>\n",
       "      <th>4</th>\n",
       "      <td>4</td>\n",
       "      <td>1</td>\n",
       "      <td>1</td>\n",
       "      <td>1</td>\n",
       "      <td>0</td>\n",
       "      <td>3.319916</td>\n",
       "    </tr>\n",
       "    <tr>\n",
       "      <th>...</th>\n",
       "      <td>...</td>\n",
       "      <td>...</td>\n",
       "      <td>...</td>\n",
       "      <td>...</td>\n",
       "      <td>...</td>\n",
       "      <td>...</td>\n",
       "    </tr>\n",
       "    <tr>\n",
       "      <th>50715</th>\n",
       "      <td>36794</td>\n",
       "      <td>1</td>\n",
       "      <td>16</td>\n",
       "      <td>9</td>\n",
       "      <td>6885</td>\n",
       "      <td>-0.068584</td>\n",
       "    </tr>\n",
       "    <tr>\n",
       "      <th>50716</th>\n",
       "      <td>36795</td>\n",
       "      <td>1</td>\n",
       "      <td>2</td>\n",
       "      <td>2</td>\n",
       "      <td>6885</td>\n",
       "      <td>0.281954</td>\n",
       "    </tr>\n",
       "    <tr>\n",
       "      <th>50717</th>\n",
       "      <td>36796</td>\n",
       "      <td>2</td>\n",
       "      <td>5</td>\n",
       "      <td>5</td>\n",
       "      <td>6885</td>\n",
       "      <td>0.283351</td>\n",
       "    </tr>\n",
       "    <tr>\n",
       "      <th>50718</th>\n",
       "      <td>36797</td>\n",
       "      <td>2</td>\n",
       "      <td>6</td>\n",
       "      <td>5</td>\n",
       "      <td>6885</td>\n",
       "      <td>0.447637</td>\n",
       "    </tr>\n",
       "    <tr>\n",
       "      <th>50719</th>\n",
       "      <td>9</td>\n",
       "      <td>3</td>\n",
       "      <td>7</td>\n",
       "      <td>6</td>\n",
       "      <td>6885</td>\n",
       "      <td>1.000000</td>\n",
       "    </tr>\n",
       "  </tbody>\n",
       "</table>\n",
       "<p>50720 rows × 6 columns</p>\n",
       "</div>"
      ],
      "text/plain": [
       "          id  org:resource  concept:name  org:role  @@case_index  \\\n",
       "0          0             0             0         0             0   \n",
       "1          1             1             1         1             0   \n",
       "2          2             1             2         2             0   \n",
       "3          3             1             3         3             0   \n",
       "4          4             1             1         1             0   \n",
       "...      ...           ...           ...       ...           ...   \n",
       "50715  36794             1            16         9          6885   \n",
       "50716  36795             1             2         2          6885   \n",
       "50717  36796             2             5         5          6885   \n",
       "50718  36797             2             6         5          6885   \n",
       "50719      9             3             7         6          6885   \n",
       "\n",
       "       standardized_elapsed_time  \n",
       "0                       0.000000  \n",
       "1                      -0.411261  \n",
       "2                      -0.411227  \n",
       "3                      -0.330864  \n",
       "4                       3.319916  \n",
       "...                          ...  \n",
       "50715                  -0.068584  \n",
       "50716                   0.281954  \n",
       "50717                   0.283351  \n",
       "50718                   0.447637  \n",
       "50719                   1.000000  \n",
       "\n",
       "[50720 rows x 6 columns]"
      ]
     },
     "execution_count": 22,
     "metadata": {},
     "output_type": "execute_result"
    }
   ],
   "source": [
    "# Apply the padding function\n",
    "modified_dataframe = pad_cases(modified_dataframe)\n",
    "modified_dataframe"
   ]
  },
  {
   "cell_type": "markdown",
   "metadata": {},
   "source": [
    "# Generate sliding windows"
   ]
  },
  {
   "cell_type": "code",
   "execution_count": 24,
   "metadata": {},
   "outputs": [],
   "source": [
    "df_id = modified_dataframe[['id', '@@case_index']]\n",
    "df_resource = modified_dataframe[['org:resource', '@@case_index']]\n",
    "df_activity = modified_dataframe[['concept:name', '@@case_index']]\n",
    "df_role = modified_dataframe[['org:role', '@@case_index']]\n",
    "df_timestamps = modified_dataframe[['standardized_elapsed_time', '@@case_index']]"
   ]
  },
  {
   "cell_type": "code",
   "execution_count": 25,
   "metadata": {},
   "outputs": [],
   "source": [
    "def generate_sliding_windows(df, case_id_column='@@case_index', window_size=5):\n",
    "    windows = []\n",
    "    targets = []\n",
    "    case_indices = []\n",
    "\n",
    "    # Iterate over each unique case\n",
    "    for case_id in df[case_id_column].unique():\n",
    "        # Extract the case\n",
    "        case_data = df[df[case_id_column] == case_id]\n",
    "        \n",
    "        # Convert case_data to a NumPy array and drop the case_id_column\n",
    "        case_data_array = case_data.drop(columns=[case_id_column]).to_numpy()\n",
    "\n",
    "        # Adjusting the condition to correctly reflect window_size without needing an additional +1\n",
    "        # Now it correctly considers window_size as including the target event\n",
    "        if len(case_data_array) >= window_size:\n",
    "            # Adjust the loop to generate sliding windows of size window_size - 1 for the inputs and use the next event as the target\n",
    "            for i in range(len(case_data_array) - window_size + 1):\n",
    "                # window now has window_size - 1 events\n",
    "                window = case_data_array[i:i + window_size - 1]\n",
    "                # The target is the event immediately following the window\n",
    "                target = case_data_array[i + window_size - 1]\n",
    "                windows.append(window)\n",
    "                targets.append(target)\n",
    "                case_indices.append(case_id)  # Store the case_id corresponding to the window\n",
    "\n",
    "    # Convert lists to numpy arrays for easier handling and to ensure they are two-dimensional\n",
    "    windows_array = np.array(windows)\n",
    "    targets_array = np.array(targets)\n",
    "    case_indices_array = np.array(case_indices)\n",
    "    \n",
    "    return windows_array, targets_array, case_indices_array"
   ]
  },
  {
   "cell_type": "code",
   "execution_count": 26,
   "metadata": {},
   "outputs": [],
   "source": [
    "windows_id, targets_id, case_indices = generate_sliding_windows(df_id)\n",
    "windows_resource, targets_resource, case_indices = generate_sliding_windows(df_resource)\n",
    "windows_activity, targets_activity, case_indices = generate_sliding_windows(df_activity)\n",
    "windows_role, targets_role, case_indices = generate_sliding_windows(df_role)\n",
    "windows_timestamps, targets_timestamps, case_indices = generate_sliding_windows(df_timestamps)"
   ]
  },
  {
   "cell_type": "markdown",
   "metadata": {},
   "source": [
    "# LSTM"
   ]
  },
  {
   "cell_type": "markdown",
   "metadata": {},
   "source": [
    "### Architecture"
   ]
  },
  {
   "cell_type": "markdown",
   "metadata": {},
   "source": [
    "- id not included because bad learning through LSTM"
   ]
  },
  {
   "cell_type": "code",
   "execution_count": 27,
   "metadata": {},
   "outputs": [
    {
     "name": "stderr",
     "output_type": "stream",
     "text": [
      "2024-06-29 14:20:50.536037: I tensorflow/core/platform/cpu_feature_guard.cc:182] This TensorFlow binary is optimized to use available CPU instructions in performance-critical operations.\n",
      "To enable the following instructions: AVX2 FMA, in other operations, rebuild TensorFlow with the appropriate compiler flags.\n"
     ]
    },
    {
     "name": "stdout",
     "output_type": "stream",
     "text": [
      "Model: \"model\"\n",
      "__________________________________________________________________________________________________\n",
      " Layer (type)                Output Shape                 Param #   Connected to                  \n",
      "==================================================================================================\n",
      " input_resource (InputLayer  [(None, 4)]                  0         []                            \n",
      " )                                                                                                \n",
      "                                                                                                  \n",
      " input_activity (InputLayer  [(None, 4)]                  0         []                            \n",
      " )                                                                                                \n",
      "                                                                                                  \n",
      " input_role (InputLayer)     [(None, 4)]                  0         []                            \n",
      "                                                                                                  \n",
      " input_timestamps (InputLay  [(None, 4, 1)]               0         []                            \n",
      " er)                                                                                              \n",
      "                                                                                                  \n",
      " embedding (Embedding)       (None, 4, 50)                200       ['input_resource[0][0]']      \n",
      "                                                                                                  \n",
      " embedding_1 (Embedding)     (None, 4, 50)                1050      ['input_activity[0][0]']      \n",
      "                                                                                                  \n",
      " embedding_2 (Embedding)     (None, 4, 50)                500       ['input_role[0][0]']          \n",
      "                                                                                                  \n",
      " batch_normalization (Batch  (None, 4, 1)                 4         ['input_timestamps[0][0]']    \n",
      " Normalization)                                                                                   \n",
      "                                                                                                  \n",
      " lstm (LSTM)                 (None, 25)                   7600      ['embedding[0][0]']           \n",
      "                                                                                                  \n",
      " lstm_1 (LSTM)               (None, 25)                   7600      ['embedding_1[0][0]']         \n",
      "                                                                                                  \n",
      " lstm_2 (LSTM)               (None, 25)                   7600      ['embedding_2[0][0]']         \n",
      "                                                                                                  \n",
      " lstm_3 (LSTM)               (None, 25)                   2700      ['batch_normalization[0][0]'] \n",
      "                                                                                                  \n",
      " concatenate (Concatenate)   (None, 100)                  0         ['lstm[0][0]',                \n",
      "                                                                     'lstm_1[0][0]',              \n",
      "                                                                     'lstm_2[0][0]',              \n",
      "                                                                     'lstm_3[0][0]']              \n",
      "                                                                                                  \n",
      " output_resource (Dense)     (None, 4)                    404       ['concatenate[0][0]']         \n",
      "                                                                                                  \n",
      " output_activity (Dense)     (None, 21)                   2121      ['concatenate[0][0]']         \n",
      "                                                                                                  \n",
      " output_role (Dense)         (None, 10)                   1010      ['concatenate[0][0]']         \n",
      "                                                                                                  \n",
      " output_timestamps (Dense)   (None, 1)                    101       ['concatenate[0][0]']         \n",
      "                                                                                                  \n",
      "==================================================================================================\n",
      "Total params: 30890 (120.66 KB)\n",
      "Trainable params: 30888 (120.66 KB)\n",
      "Non-trainable params: 2 (8.00 Byte)\n",
      "__________________________________________________________________________________________________\n"
     ]
    }
   ],
   "source": [
    "from tensorflow.keras.models import Model\n",
    "from tensorflow.keras.layers import Input, LSTM, Dense, Concatenate, Embedding, BatchNormalization\n",
    "\n",
    "# Assuming these values as placeholders, replace them with actual counts from your data\n",
    "num_resources = modified_dataframe['org:resource'].nunique()\n",
    "num_activities = modified_dataframe['concept:name'].nunique()\n",
    "num_roles = modified_dataframe['org:role'].nunique()\n",
    "\n",
    "embedding_dim_resource = 50\n",
    "embedding_dim_activity = 50\n",
    "embedding_dim_role = 50\n",
    "\n",
    "time_steps = 4\n",
    "\n",
    "# Input layers\n",
    "input_resource = Input(shape=(time_steps,), name='input_resource')\n",
    "input_activity = Input(shape=(time_steps,), name='input_activity')\n",
    "input_role = Input(shape=(time_steps,), name='input_role')\n",
    "input_timestamps = Input(shape=(time_steps, 1), name='input_timestamps')  # Assuming timestamps are continuous\n",
    "\n",
    "# Embedding layers for categorical attributes\n",
    "embedding_resource = Embedding(input_dim=num_resources, output_dim=embedding_dim_resource, input_length=time_steps)(input_resource)\n",
    "embedding_activity = Embedding(input_dim=num_activities, output_dim=embedding_dim_activity, input_length=time_steps)(input_activity)\n",
    "embedding_role = Embedding(input_dim=num_roles, output_dim=embedding_dim_role, input_length=time_steps)(input_role)\n",
    "\n",
    "# LSTM layers for the embeddings\n",
    "lstm_resource = LSTM(25, return_sequences=False)(embedding_resource)\n",
    "lstm_activity = LSTM(25, return_sequences=False)(embedding_activity)\n",
    "lstm_role = LSTM(25, return_sequences=False)(embedding_role)\n",
    "\n",
    "# Normalize the numeric input for better performance\n",
    "batch_norm_timestamps = BatchNormalization()(input_timestamps)\n",
    "lstm_timestamps = LSTM(25, return_sequences=False)(batch_norm_timestamps)\n",
    "\n",
    "# Concatenate outputs\n",
    "concatenated = Concatenate(axis=-1)([lstm_resource, lstm_activity, lstm_role, lstm_timestamps])\n",
    "\n",
    "# Output layers for classification\n",
    "output_resource = Dense(num_resources, activation='softmax', name='output_resource')(concatenated)\n",
    "output_activity = Dense(num_activities, activation='softmax', name='output_activity')(concatenated)\n",
    "output_role = Dense(num_roles, activation='softmax', name='output_role')(concatenated)\n",
    "\n",
    "# Additional output layer for the amount (regression)\n",
    "output_timestamps = Dense(1, activation='linear', name='output_timestamps')(concatenated)  # For predicting timestamps as a continuous variable\n",
    "\n",
    "# Create and compile the model\n",
    "model = Model(inputs=[input_resource, input_activity, input_role, input_timestamps], \n",
    "              outputs=[output_resource, output_activity, output_role, output_timestamps])\n",
    "\n",
    "model.compile(optimizer='adam', \n",
    "              loss={'output_resource': 'categorical_crossentropy',\n",
    "                    'output_activity': 'categorical_crossentropy',\n",
    "                    'output_role': 'categorical_crossentropy',\n",
    "                    'output_timestamps': 'mean_squared_error'},  # Adding MSE loss for the timestamps\n",
    "              metrics={'output_resource': 'accuracy', \n",
    "                       'output_activity': 'accuracy',\n",
    "                       'output_role': 'accuracy',\n",
    "                       'output_timestamps': 'mean_absolute_error'})  # Metrics for regression\n",
    "model.summary()"
   ]
  },
  {
   "cell_type": "markdown",
   "metadata": {},
   "source": [
    "# Data Splitting"
   ]
  },
  {
   "cell_type": "code",
   "execution_count": 28,
   "metadata": {},
   "outputs": [],
   "source": [
    "from sklearn.model_selection import train_test_split\n",
    "\n",
    "train_resource, test_resource, train_targets_resource, test_targets_resource = train_test_split(\n",
    "    windows_resource, targets_resource, test_size=0.3, random_state=42)\n",
    "\n",
    "train_activity, test_activity, train_targets_activity, test_targets_activity = train_test_split(\n",
    "    windows_activity, targets_activity, test_size=0.3, random_state=42)\n",
    "\n",
    "train_role, test_role, train_targets_role, test_targets_role = train_test_split(\n",
    "    windows_role, targets_role, test_size=0.3, random_state=42)\n",
    "\n",
    "train_timestamps, test_timestamps, train_targets_timestamps, test_targets_timestamps = train_test_split(\n",
    "    windows_timestamps, targets_timestamps, test_size=0.3, random_state=42)"
   ]
  },
  {
   "cell_type": "markdown",
   "metadata": {},
   "source": [
    "# Training"
   ]
  },
  {
   "cell_type": "code",
   "execution_count": 29,
   "metadata": {},
   "outputs": [],
   "source": [
    "from tensorflow.keras.callbacks import EarlyStopping\n",
    "from tensorflow.keras.callbacks import LearningRateScheduler\n",
    "\n",
    "# EarlyStopping callback\n",
    "early_stopping = EarlyStopping(monitor='val_loss', patience=3, restore_best_weights=True)\n",
    "\n",
    "def cyclic_lr(epoch, lr):\n",
    "    # Example function that modulates LR within a range for each epoch\n",
    "    # Customize this function based on your cyclic learning rate policy\n",
    "    max_lr = 0.01  # Maximum LR\n",
    "    base_lr = 0.001  # Base LR\n",
    "    step_size = 10  # Number of epochs for half a cycle\n",
    "    cycle = np.floor(1 + epoch / (2 * step_size))\n",
    "    x = np.abs(epoch / step_size - 2 * cycle + 1)\n",
    "    lr = base_lr + (max_lr - base_lr) * np.maximum(0, (1 - x))\n",
    "    return lr\n",
    "\n",
    "lr_scheduler = LearningRateScheduler(cyclic_lr)"
   ]
  },
  {
   "cell_type": "code",
   "execution_count": 30,
   "metadata": {},
   "outputs": [
    {
     "name": "stdout",
     "output_type": "stream",
     "text": [
      "Epoch 1/25\n",
      "254/254 [==============================] - 11s 12ms/step - loss: 3.3865 - output_resource_loss: 0.5170 - output_activity_loss: 1.1914 - output_role_loss: 0.8184 - output_timestamps_loss: 0.8597 - output_resource_accuracy: 0.8062 - output_activity_accuracy: 0.6861 - output_role_accuracy: 0.7656 - output_timestamps_mean_absolute_error: 0.4451 - val_loss: 1.3580 - val_output_resource_loss: 0.0938 - val_output_activity_loss: 0.3522 - val_output_role_loss: 0.2345 - val_output_timestamps_loss: 0.6776 - val_output_resource_accuracy: 0.9748 - val_output_activity_accuracy: 0.9177 - val_output_role_accuracy: 0.9249 - val_output_timestamps_mean_absolute_error: 0.3733 - lr: 0.0010\n",
      "Epoch 2/25\n",
      "254/254 [==============================] - 1s 5ms/step - loss: 1.1097 - output_resource_loss: 0.0623 - output_activity_loss: 0.2242 - output_role_loss: 0.1556 - output_timestamps_loss: 0.6676 - output_resource_accuracy: 0.9737 - output_activity_accuracy: 0.9423 - output_role_accuracy: 0.9512 - output_timestamps_mean_absolute_error: 0.3845 - val_loss: 0.8662 - val_output_resource_loss: 0.0466 - val_output_activity_loss: 0.1414 - val_output_role_loss: 0.0976 - val_output_timestamps_loss: 0.5806 - val_output_resource_accuracy: 0.9740 - val_output_activity_accuracy: 0.9544 - val_output_role_accuracy: 0.9643 - val_output_timestamps_mean_absolute_error: 0.3508 - lr: 0.0019\n",
      "Epoch 3/25\n",
      "254/254 [==============================] - 2s 6ms/step - loss: 0.8804 - output_resource_loss: 0.0486 - output_activity_loss: 0.1322 - output_role_loss: 0.0892 - output_timestamps_loss: 0.6104 - output_resource_accuracy: 0.9749 - output_activity_accuracy: 0.9516 - output_role_accuracy: 0.9603 - output_timestamps_mean_absolute_error: 0.3696 - val_loss: 0.7930 - val_output_resource_loss: 0.0420 - val_output_activity_loss: 0.1052 - val_output_role_loss: 0.0724 - val_output_timestamps_loss: 0.5733 - val_output_resource_accuracy: 0.9796 - val_output_activity_accuracy: 0.9573 - val_output_role_accuracy: 0.9643 - val_output_timestamps_mean_absolute_error: 0.3579 - lr: 0.0028\n",
      "Epoch 4/25\n",
      "254/254 [==============================] - 1s 5ms/step - loss: 0.7975 - output_resource_loss: 0.0460 - output_activity_loss: 0.1130 - output_role_loss: 0.0761 - output_timestamps_loss: 0.5625 - output_resource_accuracy: 0.9763 - output_activity_accuracy: 0.9543 - output_role_accuracy: 0.9620 - output_timestamps_mean_absolute_error: 0.3540 - val_loss: 0.7858 - val_output_resource_loss: 0.0416 - val_output_activity_loss: 0.0961 - val_output_role_loss: 0.0653 - val_output_timestamps_loss: 0.5827 - val_output_resource_accuracy: 0.9781 - val_output_activity_accuracy: 0.9612 - val_output_role_accuracy: 0.9666 - val_output_timestamps_mean_absolute_error: 0.3593 - lr: 0.0037\n",
      "Epoch 5/25\n",
      "254/254 [==============================] - 1s 6ms/step - loss: 0.7652 - output_resource_loss: 0.0444 - output_activity_loss: 0.1018 - output_role_loss: 0.0673 - output_timestamps_loss: 0.5518 - output_resource_accuracy: 0.9784 - output_activity_accuracy: 0.9581 - output_role_accuracy: 0.9658 - output_timestamps_mean_absolute_error: 0.3552 - val_loss: 0.7332 - val_output_resource_loss: 0.0408 - val_output_activity_loss: 0.0946 - val_output_role_loss: 0.0611 - val_output_timestamps_loss: 0.5367 - val_output_resource_accuracy: 0.9790 - val_output_activity_accuracy: 0.9604 - val_output_role_accuracy: 0.9685 - val_output_timestamps_mean_absolute_error: 0.3383 - lr: 0.0046\n",
      "Epoch 6/25\n",
      "254/254 [==============================] - 1s 6ms/step - loss: 0.7522 - output_resource_loss: 0.0443 - output_activity_loss: 0.0991 - output_role_loss: 0.0644 - output_timestamps_loss: 0.5443 - output_resource_accuracy: 0.9757 - output_activity_accuracy: 0.9582 - output_role_accuracy: 0.9640 - output_timestamps_mean_absolute_error: 0.3552 - val_loss: 0.7735 - val_output_resource_loss: 0.0403 - val_output_activity_loss: 0.0883 - val_output_role_loss: 0.0594 - val_output_timestamps_loss: 0.5855 - val_output_resource_accuracy: 0.9796 - val_output_activity_accuracy: 0.9635 - val_output_role_accuracy: 0.9691 - val_output_timestamps_mean_absolute_error: 0.3200 - lr: 0.0055\n",
      "Epoch 7/25\n",
      "254/254 [==============================] - 2s 7ms/step - loss: 0.7426 - output_resource_loss: 0.0440 - output_activity_loss: 0.0973 - output_role_loss: 0.0642 - output_timestamps_loss: 0.5371 - output_resource_accuracy: 0.9762 - output_activity_accuracy: 0.9563 - output_role_accuracy: 0.9643 - output_timestamps_mean_absolute_error: 0.3478 - val_loss: 0.7410 - val_output_resource_loss: 0.0408 - val_output_activity_loss: 0.0914 - val_output_role_loss: 0.0623 - val_output_timestamps_loss: 0.5466 - val_output_resource_accuracy: 0.9796 - val_output_activity_accuracy: 0.9629 - val_output_role_accuracy: 0.9692 - val_output_timestamps_mean_absolute_error: 0.3186 - lr: 0.0064\n",
      "Epoch 8/25\n",
      "254/254 [==============================] - 2s 6ms/step - loss: 0.7305 - output_resource_loss: 0.0426 - output_activity_loss: 0.0942 - output_role_loss: 0.0622 - output_timestamps_loss: 0.5315 - output_resource_accuracy: 0.9776 - output_activity_accuracy: 0.9598 - output_role_accuracy: 0.9666 - output_timestamps_mean_absolute_error: 0.3517 - val_loss: 0.9023 - val_output_resource_loss: 0.0444 - val_output_activity_loss: 0.0916 - val_output_role_loss: 0.0626 - val_output_timestamps_loss: 0.7038 - val_output_resource_accuracy: 0.9748 - val_output_activity_accuracy: 0.9574 - val_output_role_accuracy: 0.9649 - val_output_timestamps_mean_absolute_error: 0.3317 - lr: 0.0073\n",
      "Epoch 9/25\n",
      "254/254 [==============================] - 1s 6ms/step - loss: 0.7344 - output_resource_loss: 0.0430 - output_activity_loss: 0.0938 - output_role_loss: 0.0610 - output_timestamps_loss: 0.5367 - output_resource_accuracy: 0.9765 - output_activity_accuracy: 0.9598 - output_role_accuracy: 0.9667 - output_timestamps_mean_absolute_error: 0.3462 - val_loss: 0.8456 - val_output_resource_loss: 0.0405 - val_output_activity_loss: 0.0872 - val_output_role_loss: 0.0595 - val_output_timestamps_loss: 0.6584 - val_output_resource_accuracy: 0.9797 - val_output_activity_accuracy: 0.9636 - val_output_role_accuracy: 0.9698 - val_output_timestamps_mean_absolute_error: 0.4190 - lr: 0.0082\n",
      "Epoch 10/25\n",
      "254/254 [==============================] - 2s 6ms/step - loss: 0.7228 - output_resource_loss: 0.0424 - output_activity_loss: 0.0925 - output_role_loss: 0.0610 - output_timestamps_loss: 0.5269 - output_resource_accuracy: 0.9765 - output_activity_accuracy: 0.9587 - output_role_accuracy: 0.9657 - output_timestamps_mean_absolute_error: 0.3416 - val_loss: 0.7586 - val_output_resource_loss: 0.0418 - val_output_activity_loss: 0.0910 - val_output_role_loss: 0.0630 - val_output_timestamps_loss: 0.5627 - val_output_resource_accuracy: 0.9791 - val_output_activity_accuracy: 0.9606 - val_output_role_accuracy: 0.9697 - val_output_timestamps_mean_absolute_error: 0.3134 - lr: 0.0091\n",
      "Epoch 11/25\n",
      "254/254 [==============================] - 2s 7ms/step - loss: 0.7034 - output_resource_loss: 0.0427 - output_activity_loss: 0.0927 - output_role_loss: 0.0605 - output_timestamps_loss: 0.5075 - output_resource_accuracy: 0.9769 - output_activity_accuracy: 0.9599 - output_role_accuracy: 0.9665 - output_timestamps_mean_absolute_error: 0.3446 - val_loss: 0.7733 - val_output_resource_loss: 0.0402 - val_output_activity_loss: 0.0944 - val_output_role_loss: 0.0603 - val_output_timestamps_loss: 0.5784 - val_output_resource_accuracy: 0.9796 - val_output_activity_accuracy: 0.9632 - val_output_role_accuracy: 0.9689 - val_output_timestamps_mean_absolute_error: 0.3881 - lr: 0.0100\n",
      "Epoch 12/25\n",
      "254/254 [==============================] - 1s 6ms/step - loss: 0.7217 - output_resource_loss: 0.0420 - output_activity_loss: 0.0906 - output_role_loss: 0.0591 - output_timestamps_loss: 0.5300 - output_resource_accuracy: 0.9767 - output_activity_accuracy: 0.9601 - output_role_accuracy: 0.9676 - output_timestamps_mean_absolute_error: 0.3492 - val_loss: 0.7976 - val_output_resource_loss: 0.0403 - val_output_activity_loss: 0.0925 - val_output_role_loss: 0.0603 - val_output_timestamps_loss: 0.6045 - val_output_resource_accuracy: 0.9796 - val_output_activity_accuracy: 0.9604 - val_output_role_accuracy: 0.9701 - val_output_timestamps_mean_absolute_error: 0.3459 - lr: 0.0091\n",
      "Epoch 13/25\n",
      "254/254 [==============================] - 2s 6ms/step - loss: 0.6803 - output_resource_loss: 0.0414 - output_activity_loss: 0.0893 - output_role_loss: 0.0582 - output_timestamps_loss: 0.4914 - output_resource_accuracy: 0.9782 - output_activity_accuracy: 0.9616 - output_role_accuracy: 0.9690 - output_timestamps_mean_absolute_error: 0.3320 - val_loss: 0.7302 - val_output_resource_loss: 0.0416 - val_output_activity_loss: 0.0896 - val_output_role_loss: 0.0622 - val_output_timestamps_loss: 0.5368 - val_output_resource_accuracy: 0.9796 - val_output_activity_accuracy: 0.9636 - val_output_role_accuracy: 0.9694 - val_output_timestamps_mean_absolute_error: 0.3250 - lr: 0.0082\n",
      "Epoch 14/25\n",
      "254/254 [==============================] - 1s 6ms/step - loss: 0.6960 - output_resource_loss: 0.0409 - output_activity_loss: 0.0881 - output_role_loss: 0.0584 - output_timestamps_loss: 0.5086 - output_resource_accuracy: 0.9769 - output_activity_accuracy: 0.9599 - output_role_accuracy: 0.9673 - output_timestamps_mean_absolute_error: 0.3282 - val_loss: 0.7552 - val_output_resource_loss: 0.0402 - val_output_activity_loss: 0.0870 - val_output_role_loss: 0.0599 - val_output_timestamps_loss: 0.5681 - val_output_resource_accuracy: 0.9773 - val_output_activity_accuracy: 0.9630 - val_output_role_accuracy: 0.9695 - val_output_timestamps_mean_absolute_error: 0.3515 - lr: 0.0073\n",
      "Epoch 15/25\n",
      "254/254 [==============================] - 2s 6ms/step - loss: 0.6655 - output_resource_loss: 0.0414 - output_activity_loss: 0.0879 - output_role_loss: 0.0584 - output_timestamps_loss: 0.4778 - output_resource_accuracy: 0.9765 - output_activity_accuracy: 0.9604 - output_role_accuracy: 0.9670 - output_timestamps_mean_absolute_error: 0.3218 - val_loss: 0.7686 - val_output_resource_loss: 0.0395 - val_output_activity_loss: 0.0890 - val_output_role_loss: 0.0600 - val_output_timestamps_loss: 0.5802 - val_output_resource_accuracy: 0.9794 - val_output_activity_accuracy: 0.9643 - val_output_role_accuracy: 0.9709 - val_output_timestamps_mean_absolute_error: 0.3445 - lr: 0.0064\n",
      "Epoch 16/25\n",
      "254/254 [==============================] - 1s 6ms/step - loss: 0.6678 - output_resource_loss: 0.0402 - output_activity_loss: 0.0866 - output_role_loss: 0.0570 - output_timestamps_loss: 0.4839 - output_resource_accuracy: 0.9777 - output_activity_accuracy: 0.9602 - output_role_accuracy: 0.9672 - output_timestamps_mean_absolute_error: 0.3171 - val_loss: 0.7551 - val_output_resource_loss: 0.0399 - val_output_activity_loss: 0.0869 - val_output_role_loss: 0.0605 - val_output_timestamps_loss: 0.5677 - val_output_resource_accuracy: 0.9789 - val_output_activity_accuracy: 0.9623 - val_output_role_accuracy: 0.9681 - val_output_timestamps_mean_absolute_error: 0.3138 - lr: 0.0055\n",
      "Epoch 17/25\n",
      "254/254 [==============================] - 2s 6ms/step - loss: 0.6470 - output_resource_loss: 0.0398 - output_activity_loss: 0.0848 - output_role_loss: 0.0564 - output_timestamps_loss: 0.4660 - output_resource_accuracy: 0.9776 - output_activity_accuracy: 0.9617 - output_role_accuracy: 0.9686 - output_timestamps_mean_absolute_error: 0.3179 - val_loss: 0.7330 - val_output_resource_loss: 0.0397 - val_output_activity_loss: 0.0875 - val_output_role_loss: 0.0601 - val_output_timestamps_loss: 0.5458 - val_output_resource_accuracy: 0.9790 - val_output_activity_accuracy: 0.9625 - val_output_role_accuracy: 0.9689 - val_output_timestamps_mean_absolute_error: 0.3187 - lr: 0.0046\n",
      "Epoch 18/25\n",
      "254/254 [==============================] - 2s 6ms/step - loss: 0.6500 - output_resource_loss: 0.0401 - output_activity_loss: 0.0844 - output_role_loss: 0.0561 - output_timestamps_loss: 0.4694 - output_resource_accuracy: 0.9772 - output_activity_accuracy: 0.9606 - output_role_accuracy: 0.9684 - output_timestamps_mean_absolute_error: 0.3138 - val_loss: 0.8098 - val_output_resource_loss: 0.0408 - val_output_activity_loss: 0.0879 - val_output_role_loss: 0.0609 - val_output_timestamps_loss: 0.6202 - val_output_resource_accuracy: 0.9783 - val_output_activity_accuracy: 0.9630 - val_output_role_accuracy: 0.9699 - val_output_timestamps_mean_absolute_error: 0.2904 - lr: 0.0037\n",
      "Epoch 19/25\n",
      "254/254 [==============================] - 2s 6ms/step - loss: 0.6382 - output_resource_loss: 0.0400 - output_activity_loss: 0.0840 - output_role_loss: 0.0559 - output_timestamps_loss: 0.4584 - output_resource_accuracy: 0.9766 - output_activity_accuracy: 0.9607 - output_role_accuracy: 0.9677 - output_timestamps_mean_absolute_error: 0.3084 - val_loss: 0.7887 - val_output_resource_loss: 0.0403 - val_output_activity_loss: 0.0870 - val_output_role_loss: 0.0603 - val_output_timestamps_loss: 0.6012 - val_output_resource_accuracy: 0.9797 - val_output_activity_accuracy: 0.9643 - val_output_role_accuracy: 0.9701 - val_output_timestamps_mean_absolute_error: 0.3054 - lr: 0.0028\n",
      "Epoch 20/25\n",
      "254/254 [==============================] - 2s 6ms/step - loss: 0.6073 - output_resource_loss: 0.0396 - output_activity_loss: 0.0828 - output_role_loss: 0.0553 - output_timestamps_loss: 0.4295 - output_resource_accuracy: 0.9777 - output_activity_accuracy: 0.9623 - output_role_accuracy: 0.9687 - output_timestamps_mean_absolute_error: 0.3035 - val_loss: 0.7599 - val_output_resource_loss: 0.0401 - val_output_activity_loss: 0.0884 - val_output_role_loss: 0.0600 - val_output_timestamps_loss: 0.5715 - val_output_resource_accuracy: 0.9793 - val_output_activity_accuracy: 0.9645 - val_output_role_accuracy: 0.9717 - val_output_timestamps_mean_absolute_error: 0.3108 - lr: 0.0019\n",
      "Epoch 21/25\n",
      "254/254 [==============================] - 2s 6ms/step - loss: 0.6101 - output_resource_loss: 0.0394 - output_activity_loss: 0.0825 - output_role_loss: 0.0549 - output_timestamps_loss: 0.4333 - output_resource_accuracy: 0.9781 - output_activity_accuracy: 0.9622 - output_role_accuracy: 0.9694 - output_timestamps_mean_absolute_error: 0.3051 - val_loss: 0.7965 - val_output_resource_loss: 0.0403 - val_output_activity_loss: 0.0876 - val_output_role_loss: 0.0605 - val_output_timestamps_loss: 0.6081 - val_output_resource_accuracy: 0.9796 - val_output_activity_accuracy: 0.9635 - val_output_role_accuracy: 0.9691 - val_output_timestamps_mean_absolute_error: 0.3018 - lr: 0.0010\n",
      "Epoch 22/25\n",
      "254/254 [==============================] - 2s 6ms/step - loss: 0.6265 - output_resource_loss: 0.0396 - output_activity_loss: 0.0828 - output_role_loss: 0.0553 - output_timestamps_loss: 0.4488 - output_resource_accuracy: 0.9768 - output_activity_accuracy: 0.9610 - output_role_accuracy: 0.9679 - output_timestamps_mean_absolute_error: 0.3084 - val_loss: 0.7843 - val_output_resource_loss: 0.0401 - val_output_activity_loss: 0.0882 - val_output_role_loss: 0.0609 - val_output_timestamps_loss: 0.5951 - val_output_resource_accuracy: 0.9790 - val_output_activity_accuracy: 0.9640 - val_output_role_accuracy: 0.9686 - val_output_timestamps_mean_absolute_error: 0.3100 - lr: 0.0019\n",
      "Epoch 23/25\n",
      "254/254 [==============================] - 2s 7ms/step - loss: 0.6129 - output_resource_loss: 0.0396 - output_activity_loss: 0.0834 - output_role_loss: 0.0553 - output_timestamps_loss: 0.4346 - output_resource_accuracy: 0.9765 - output_activity_accuracy: 0.9607 - output_role_accuracy: 0.9680 - output_timestamps_mean_absolute_error: 0.3067 - val_loss: 0.8266 - val_output_resource_loss: 0.0400 - val_output_activity_loss: 0.0874 - val_output_role_loss: 0.0603 - val_output_timestamps_loss: 0.6390 - val_output_resource_accuracy: 0.9786 - val_output_activity_accuracy: 0.9633 - val_output_role_accuracy: 0.9701 - val_output_timestamps_mean_absolute_error: 0.3156 - lr: 0.0028\n",
      "Epoch 24/25\n",
      "254/254 [==============================] - 2s 8ms/step - loss: 0.6341 - output_resource_loss: 0.0399 - output_activity_loss: 0.0840 - output_role_loss: 0.0556 - output_timestamps_loss: 0.4546 - output_resource_accuracy: 0.9762 - output_activity_accuracy: 0.9598 - output_role_accuracy: 0.9666 - output_timestamps_mean_absolute_error: 0.3125 - val_loss: 0.8113 - val_output_resource_loss: 0.0422 - val_output_activity_loss: 0.0896 - val_output_role_loss: 0.0618 - val_output_timestamps_loss: 0.6176 - val_output_resource_accuracy: 0.9794 - val_output_activity_accuracy: 0.9642 - val_output_role_accuracy: 0.9701 - val_output_timestamps_mean_absolute_error: 0.3046 - lr: 0.0037\n",
      "Epoch 25/25\n",
      "254/254 [==============================] - 2s 8ms/step - loss: 0.6253 - output_resource_loss: 0.0406 - output_activity_loss: 0.0847 - output_role_loss: 0.0564 - output_timestamps_loss: 0.4437 - output_resource_accuracy: 0.9760 - output_activity_accuracy: 0.9608 - output_role_accuracy: 0.9672 - output_timestamps_mean_absolute_error: 0.3136 - val_loss: 0.7517 - val_output_resource_loss: 0.0402 - val_output_activity_loss: 0.0879 - val_output_role_loss: 0.0610 - val_output_timestamps_loss: 0.5626 - val_output_resource_accuracy: 0.9791 - val_output_activity_accuracy: 0.9636 - val_output_role_accuracy: 0.9692 - val_output_timestamps_mean_absolute_error: 0.3241 - lr: 0.0046\n"
     ]
    }
   ],
   "source": [
    "import numpy as np\n",
    "from tensorflow.keras.utils import to_categorical\n",
    "\n",
    "# Converting targets to categorical format for softmax output\n",
    "train_targets_resource_cat = to_categorical(train_targets_resource, num_classes=num_resources)\n",
    "test_targets_resource_cat = to_categorical(test_targets_resource, num_classes=num_resources)\n",
    "\n",
    "train_targets_activity_cat = to_categorical(train_targets_activity, num_classes=num_activities)\n",
    "test_targets_activity_cat = to_categorical(test_targets_activity, num_classes=num_activities)\n",
    "\n",
    "train_targets_role_cat = to_categorical(train_targets_role, num_classes=num_roles)\n",
    "test_targets_role_cat = to_categorical(test_targets_role, num_classes=num_roles)\n",
    "\n",
    "\n",
    "# Ensure `train_targets_timestamps` and `test_targets_timestamps` are properly scaled if needed\n",
    "\n",
    "# Adjusting the `model.fit` call to include the new variables\n",
    "history = model.fit(\n",
    "    [train_resource, train_activity, train_role, train_timestamps], \n",
    "    [train_targets_resource_cat, train_targets_activity_cat, train_targets_role_cat, train_targets_timestamps],\n",
    "    epochs=25,\n",
    "    batch_size=64,\n",
    "    validation_data=(\n",
    "        [test_resource, test_activity, test_role, test_timestamps], \n",
    "        [test_targets_resource_cat, test_targets_activity_cat, test_targets_role_cat, test_targets_timestamps]\n",
    "    ),\n",
    "    verbose=1,\n",
    "    callbacks=[lr_scheduler]  # Assuming lr_scheduler is defined, add other callbacks as needed\n",
    ")"
   ]
  },
  {
   "cell_type": "code",
   "execution_count": 31,
   "metadata": {},
   "outputs": [
    {
     "name": "stdout",
     "output_type": "stream",
     "text": [
      "218/218 [==============================] - 1s 4ms/step - loss: 0.7517 - output_resource_loss: 0.0402 - output_activity_loss: 0.0879 - output_role_loss: 0.0610 - output_timestamps_loss: 0.5626 - output_resource_accuracy: 0.9791 - output_activity_accuracy: 0.9636 - output_role_accuracy: 0.9692 - output_timestamps_mean_absolute_error: 0.3241\n",
      "[0.751746654510498, 0.04022461175918579, 0.08790940046310425, 0.06097213178873062, 0.5626407861709595, 0.9791457056999207, 0.9636128544807434, 0.9692218899726868, 0.3241468369960785]\n"
     ]
    }
   ],
   "source": [
    "evaluation = model.evaluate(\n",
    "    [test_resource, test_activity, test_role, test_timestamps],\n",
    "    [test_targets_resource_cat, test_targets_activity_cat, test_targets_role_cat, test_targets_timestamps]\n",
    ")\n",
    "\n",
    "print(evaluation)"
   ]
  },
  {
   "cell_type": "markdown",
   "metadata": {},
   "source": [
    "# Anomaly Score Computation"
   ]
  },
  {
   "cell_type": "code",
   "execution_count": 32,
   "metadata": {},
   "outputs": [
    {
     "name": "stdout",
     "output_type": "stream",
     "text": [
      "725/725 [==============================] - 6s 5ms/step\n"
     ]
    }
   ],
   "source": [
    "# Generate predictions for all inputs\n",
    "predictions = model.predict([windows_resource, windows_activity, windows_role, windows_timestamps])\n",
    "\n",
    "# Extract predictions for each output\n",
    "predictions_resource = predictions[0]   # Resource predictions (categorical)\n",
    "predictions_activity = predictions[1]   # Activity predictions (categorical)\n",
    "predictions_role = predictions[2]       # Role predictions (categorical)\n",
    "predictions_timestamps = predictions[3] # Timestamps predictions (regression)"
   ]
  },
  {
   "cell_type": "code",
   "execution_count": 33,
   "metadata": {},
   "outputs": [],
   "source": [
    "# Step 2: Compute Anomaly Scores for categorical variables (Resources and Activities)\n",
    "\n",
    "def compute_anomaly_scores(predictions, actuals):\n",
    "    # For categorical predictions, convert actuals to one-hot for comparison\n",
    "    actuals_one_hot = to_categorical(actuals, num_classes=predictions.shape[-1])\n",
    "    \n",
    "    max_predictions = np.max(predictions, axis=-1)\n",
    "    actual_predictions = np.sum(predictions * actuals_one_hot, axis=-1)  # Extract the probability of the actual class\n",
    "    \n",
    "    anomaly_scores = (max_predictions - actual_predictions) / max_predictions\n",
    "    \n",
    "    return anomaly_scores\n",
    "\n",
    "anomaly_scores_resource = compute_anomaly_scores(predictions_resource, targets_resource)\n",
    "anomaly_scores_activity = compute_anomaly_scores(predictions_activity, targets_activity)\n",
    "anomaly_scores_role = compute_anomaly_scores(predictions_role, targets_role)"
   ]
  },
  {
   "cell_type": "code",
   "execution_count": 34,
   "metadata": {},
   "outputs": [],
   "source": [
    "def compute_anomaly_scores_continuous(predictions, actuals, normalization_factor):\n",
    "    \"\"\"\n",
    "    Compute anomaly scores for continuous attributes.\n",
    "    \n",
    "    Parameters:\n",
    "    - predictions: numpy array of predicted values.\n",
    "    - actuals: numpy array of actual values.\n",
    "    - normalization_factor: normalization factor (e.g., standard deviation of the attribute).\n",
    "    \n",
    "    Returns:\n",
    "    - numpy array of anomaly scores.\n",
    "    \"\"\"\n",
    "    # Calculate absolute differences\n",
    "    differences = np.abs(predictions - actuals)\n",
    "    \n",
    "    # Normalize the differences\n",
    "    anomaly_scores = differences / normalization_factor\n",
    "    \n",
    "    return anomaly_scores"
   ]
  },
  {
   "cell_type": "code",
   "execution_count": 35,
   "metadata": {},
   "outputs": [],
   "source": [
    "normalization_factor = np.std(targets_timestamps)       # Example normalization factor (standard deviation)\n",
    "anomaly_scores_timestamp = compute_anomaly_scores_continuous(predictions_timestamps, targets_timestamps, normalization_factor)"
   ]
  },
  {
   "cell_type": "code",
   "execution_count": 86,
   "metadata": {},
   "outputs": [],
   "source": [
    "def classify_cases(anomaly_scores_resource, anomaly_scores_activity, anomaly_scores_role, anomaly_scores_timestamps, threshold=0.98):\n",
    "    # Ensure all inputs are numpy arrays of the same shape\n",
    "    anomaly_scores_resource = np.array(anomaly_scores_resource).flatten()\n",
    "    anomaly_scores_activity = np.array(anomaly_scores_activity).flatten()\n",
    "    anomaly_scores_role = np.array(anomaly_scores_role).flatten()\n",
    "    anomaly_scores_timestamps = np.array(anomaly_scores_timestamps).flatten()\n",
    "\n",
    "    # Check if all arrays have the same length\n",
    "    if not (len(anomaly_scores_resource) == len(anomaly_scores_activity) == len(anomaly_scores_role) == len(anomaly_scores_timestamps)):\n",
    "        raise ValueError(\"All input anomaly scores must have the same length.\")\n",
    "\n",
    "    # Find the maximum anomaly score across all attributes for each case\n",
    "    max_scores = np.maximum.reduce([anomaly_scores_resource, anomaly_scores_activity, anomaly_scores_role, anomaly_scores_timestamps])\n",
    "\n",
    "    # Classify cases as anomalous if the maximum anomaly score exceeds the threshold\n",
    "    anomalous_cases = max_scores > threshold\n",
    "    \n",
    "    return anomalous_cases\n",
    "\n",
    "# Now use the anomaly scores for id, resource, activity, role, and timestamps in the classification\n",
    "anomalous_cases = classify_cases(anomaly_scores_resource, anomaly_scores_activity, anomaly_scores_role, anomaly_scores_timestamp)"
   ]
  },
  {
   "cell_type": "code",
   "execution_count": 67,
   "metadata": {},
   "outputs": [],
   "source": [
    "def classify_cases(anomaly_scores_activity, threshold=0.98):\n",
    "    # Ensure all inputs are numpy arrays of the same shape\n",
    "    anomaly_scores_activity = np.array(anomaly_scores_activity).flatten()\n",
    "\n",
    "\n",
    "    # Find the maximum anomaly score across all attributes for each case\n",
    "    max_scores = np.maximum.reduce([anomaly_scores_activity])\n",
    "\n",
    "    # Classify cases as anomalous if the maximum anomaly score exceeds the threshold\n",
    "    anomalous_cases = max_scores > threshold\n",
    "    \n",
    "    return anomalous_cases\n",
    "\n",
    "# Now use the anomaly scores for id, resource, activity, role, and timestamps in the classification\n",
    "anomalous_cases = classify_cases(anomaly_scores_activity)"
   ]
  },
  {
   "cell_type": "code",
   "execution_count": 70,
   "metadata": {},
   "outputs": [
    {
     "data": {
      "text/plain": [
       "(23176,)"
      ]
     },
     "execution_count": 70,
     "metadata": {},
     "output_type": "execute_result"
    }
   ],
   "source": [
    "anomaly_scores_activity.shape"
   ]
  },
  {
   "cell_type": "code",
   "execution_count": 71,
   "metadata": {},
   "outputs": [
    {
     "data": {
      "text/plain": [
       "(23176,)"
      ]
     },
     "execution_count": 71,
     "metadata": {},
     "output_type": "execute_result"
    }
   ],
   "source": [
    "anomalous_cases.shape"
   ]
  },
  {
   "cell_type": "markdown",
   "metadata": {},
   "source": [
    "# Mapping"
   ]
  },
  {
   "cell_type": "markdown",
   "metadata": {},
   "source": [
    "### True: anomaly, False: no anomaly"
   ]
  },
  {
   "cell_type": "code",
   "execution_count": 87,
   "metadata": {},
   "outputs": [
    {
     "data": {
      "text/html": [
       "<div>\n",
       "<style scoped>\n",
       "    .dataframe tbody tr th:only-of-type {\n",
       "        vertical-align: middle;\n",
       "    }\n",
       "\n",
       "    .dataframe tbody tr th {\n",
       "        vertical-align: top;\n",
       "    }\n",
       "\n",
       "    .dataframe thead th {\n",
       "        text-align: right;\n",
       "    }\n",
       "</style>\n",
       "<table border=\"1\" class=\"dataframe\">\n",
       "  <thead>\n",
       "    <tr style=\"text-align: right;\">\n",
       "      <th></th>\n",
       "      <th>case</th>\n",
       "      <th>predicted</th>\n",
       "    </tr>\n",
       "  </thead>\n",
       "  <tbody>\n",
       "    <tr>\n",
       "      <th>0</th>\n",
       "      <td>0</td>\n",
       "      <td>True</td>\n",
       "    </tr>\n",
       "    <tr>\n",
       "      <th>1</th>\n",
       "      <td>0</td>\n",
       "      <td>False</td>\n",
       "    </tr>\n",
       "    <tr>\n",
       "      <th>2</th>\n",
       "      <td>0</td>\n",
       "      <td>True</td>\n",
       "    </tr>\n",
       "    <tr>\n",
       "      <th>3</th>\n",
       "      <td>0</td>\n",
       "      <td>False</td>\n",
       "    </tr>\n",
       "    <tr>\n",
       "      <th>4</th>\n",
       "      <td>0</td>\n",
       "      <td>True</td>\n",
       "    </tr>\n",
       "    <tr>\n",
       "      <th>...</th>\n",
       "      <td>...</td>\n",
       "      <td>...</td>\n",
       "    </tr>\n",
       "    <tr>\n",
       "      <th>23171</th>\n",
       "      <td>6884</td>\n",
       "      <td>False</td>\n",
       "    </tr>\n",
       "    <tr>\n",
       "      <th>23172</th>\n",
       "      <td>6885</td>\n",
       "      <td>False</td>\n",
       "    </tr>\n",
       "    <tr>\n",
       "      <th>23173</th>\n",
       "      <td>6885</td>\n",
       "      <td>False</td>\n",
       "    </tr>\n",
       "    <tr>\n",
       "      <th>23174</th>\n",
       "      <td>6885</td>\n",
       "      <td>False</td>\n",
       "    </tr>\n",
       "    <tr>\n",
       "      <th>23175</th>\n",
       "      <td>6885</td>\n",
       "      <td>False</td>\n",
       "    </tr>\n",
       "  </tbody>\n",
       "</table>\n",
       "<p>23176 rows × 2 columns</p>\n",
       "</div>"
      ],
      "text/plain": [
       "       case  predicted\n",
       "0         0       True\n",
       "1         0      False\n",
       "2         0       True\n",
       "3         0      False\n",
       "4         0       True\n",
       "...     ...        ...\n",
       "23171  6884      False\n",
       "23172  6885      False\n",
       "23173  6885      False\n",
       "23174  6885      False\n",
       "23175  6885      False\n",
       "\n",
       "[23176 rows x 2 columns]"
      ]
     },
     "execution_count": 87,
     "metadata": {},
     "output_type": "execute_result"
    }
   ],
   "source": [
    "# Create a DataFrame from the case_indices_array corresponding to case_resource\n",
    "mapping = pd.DataFrame({'case': case_indices})\n",
    "mapping['predicted'] = anomalous_cases\n",
    "mapping"
   ]
  },
  {
   "cell_type": "code",
   "execution_count": 88,
   "metadata": {},
   "outputs": [
    {
     "data": {
      "text/plain": [
       "case\n",
       "0        True\n",
       "1       False\n",
       "2        True\n",
       "3        True\n",
       "4        True\n",
       "        ...  \n",
       "6881    False\n",
       "6882    False\n",
       "6883    False\n",
       "6884    False\n",
       "6885    False\n",
       "Name: predicted, Length: 6886, dtype: bool"
      ]
     },
     "execution_count": 88,
     "metadata": {},
     "output_type": "execute_result"
    }
   ],
   "source": [
    "case_prediction = mapping.groupby('case')['predicted'].any()\n",
    "case_prediction\n"
   ]
  },
  {
   "cell_type": "markdown",
   "metadata": {},
   "source": [
    "# Ground Truth"
   ]
  },
  {
   "cell_type": "code",
   "execution_count": 89,
   "metadata": {},
   "outputs": [],
   "source": [
    "def generate_alignments_adjusted_tracecost_pkl(log, net, initial_marking, final_marking):\n",
    "    from pm4py.algo.conformance.alignments.petri_net import algorithm as alignments\n",
    "    from pm4py.algo.conformance.alignments.petri_net import variants\n",
    "    from pm4py.objects.petri_net.utils import align_utils\n",
    "    max_events=0\n",
    "    for trace in log:\n",
    "        counter=0\n",
    "        for event in trace:\n",
    "            counter+=1\n",
    "        if counter > max_events:\n",
    "            max_events=counter\n",
    "    parameters={}\n",
    "    parameters[alignments.Variants.VERSION_STATE_EQUATION_A_STAR.value.Parameters.PARAM_SYNC_COST_FUNCTION] = list(map(lambda i: .1*i, range(max_events*2)))\n",
    "    parameters[alignments.Variants.VERSION_STATE_EQUATION_A_STAR.value.Parameters.PARAM_TRACE_COST_FUNCTION]=list(map(lambda i: align_utils.STD_MODEL_LOG_MOVE_COST-.1*i, range(max_events*2)))\n",
    "    aligned_traces = alignments.apply_log(log, net, initial_marking, final_marking, variant=variants.state_equation_a_star, parameters=parameters)\n",
    "    return aligned_traces"
   ]
  },
  {
   "cell_type": "code",
   "execution_count": 90,
   "metadata": {},
   "outputs": [
    {
     "data": {
      "application/vnd.jupyter.widget-view+json": {
       "model_id": "b2100a9995a540ea83a0042d259203ed",
       "version_major": 2,
       "version_minor": 0
      },
      "text/plain": [
       "aligning log, completed variants ::   0%|          | 0/89 [00:00<?, ?it/s]"
      ]
     },
     "metadata": {},
     "output_type": "display_data"
    }
   ],
   "source": [
    "import pm4py\n",
    "from pm4py.objects.log.importer.xes import importer as xes_importer\n",
    "from pm4py.objects.bpmn.importer import importer as bpmn_importer\n",
    "from pm4py.algo.conformance.alignments.petri_net import algorithm as alignments_petri\n",
    "\n",
    "# 2. Import the given BPMN model\n",
    "bpmn_graph = bpmn_importer.apply(\"../../data/model/Model_RequestForPayment.bpmn\")\n",
    "\n",
    "# 3. Convert the BPMN to a Petri net\n",
    "net, initial_marking, final_marking = pm4py.convert_to_petri_net(bpmn_graph)\n",
    "\n",
    "aligned_traces = generate_alignments_adjusted_tracecost_pkl(log, net, initial_marking, final_marking)"
   ]
  },
  {
   "cell_type": "code",
   "execution_count": 91,
   "metadata": {},
   "outputs": [],
   "source": [
    "def extract_conformance_status_by_fitness(aligned_traces):\n",
    "    conformance_status = []\n",
    "    for alignment in aligned_traces:\n",
    "        fitness = alignment['fitness']\n",
    "        # If the fitness is 1.0, the trace is conforming\n",
    "        if fitness == 1.0:\n",
    "            conformance_status.append(1)\n",
    "        else:\n",
    "            conformance_status.append(0)\n",
    "    return conformance_status\n",
    "\n",
    "# Get the conformance status list from the aligned traces\n",
    "conformance = extract_conformance_status_by_fitness(aligned_traces)"
   ]
  },
  {
   "cell_type": "code",
   "execution_count": 92,
   "metadata": {},
   "outputs": [
    {
     "data": {
      "text/html": [
       "<div>\n",
       "<style scoped>\n",
       "    .dataframe tbody tr th:only-of-type {\n",
       "        vertical-align: middle;\n",
       "    }\n",
       "\n",
       "    .dataframe tbody tr th {\n",
       "        vertical-align: top;\n",
       "    }\n",
       "\n",
       "    .dataframe thead th {\n",
       "        text-align: right;\n",
       "    }\n",
       "</style>\n",
       "<table border=\"1\" class=\"dataframe\">\n",
       "  <thead>\n",
       "    <tr style=\"text-align: right;\">\n",
       "      <th></th>\n",
       "      <th>conformity</th>\n",
       "      <th>predicted</th>\n",
       "    </tr>\n",
       "  </thead>\n",
       "  <tbody>\n",
       "    <tr>\n",
       "      <th>0</th>\n",
       "      <td>0</td>\n",
       "      <td>0</td>\n",
       "    </tr>\n",
       "    <tr>\n",
       "      <th>1</th>\n",
       "      <td>0</td>\n",
       "      <td>1</td>\n",
       "    </tr>\n",
       "    <tr>\n",
       "      <th>2</th>\n",
       "      <td>0</td>\n",
       "      <td>0</td>\n",
       "    </tr>\n",
       "    <tr>\n",
       "      <th>3</th>\n",
       "      <td>0</td>\n",
       "      <td>0</td>\n",
       "    </tr>\n",
       "    <tr>\n",
       "      <th>4</th>\n",
       "      <td>0</td>\n",
       "      <td>0</td>\n",
       "    </tr>\n",
       "    <tr>\n",
       "      <th>...</th>\n",
       "      <td>...</td>\n",
       "      <td>...</td>\n",
       "    </tr>\n",
       "    <tr>\n",
       "      <th>6881</th>\n",
       "      <td>1</td>\n",
       "      <td>1</td>\n",
       "    </tr>\n",
       "    <tr>\n",
       "      <th>6882</th>\n",
       "      <td>1</td>\n",
       "      <td>1</td>\n",
       "    </tr>\n",
       "    <tr>\n",
       "      <th>6883</th>\n",
       "      <td>1</td>\n",
       "      <td>1</td>\n",
       "    </tr>\n",
       "    <tr>\n",
       "      <th>6884</th>\n",
       "      <td>1</td>\n",
       "      <td>1</td>\n",
       "    </tr>\n",
       "    <tr>\n",
       "      <th>6885</th>\n",
       "      <td>1</td>\n",
       "      <td>1</td>\n",
       "    </tr>\n",
       "  </tbody>\n",
       "</table>\n",
       "<p>6886 rows × 2 columns</p>\n",
       "</div>"
      ],
      "text/plain": [
       "      conformity  predicted\n",
       "0              0          0\n",
       "1              0          1\n",
       "2              0          0\n",
       "3              0          0\n",
       "4              0          0\n",
       "...          ...        ...\n",
       "6881           1          1\n",
       "6882           1          1\n",
       "6883           1          1\n",
       "6884           1          1\n",
       "6885           1          1\n",
       "\n",
       "[6886 rows x 2 columns]"
      ]
     },
     "execution_count": 92,
     "metadata": {},
     "output_type": "execute_result"
    }
   ],
   "source": [
    "ground_truth = pd.DataFrame({'conformity': conformance})\n",
    "ground_truth['predicted'] = case_prediction\n",
    "\n",
    "# Convert False to 0 and True to 1\n",
    "ground_truth['predicted'] = [int(value) for value in ground_truth['predicted']]\n",
    "ground_truth['predicted'] = 1 - ground_truth['predicted']\n",
    "ground_truth"
   ]
  },
  {
   "cell_type": "markdown",
   "metadata": {},
   "source": [
    "# Evaluation"
   ]
  },
  {
   "cell_type": "code",
   "execution_count": 93,
   "metadata": {},
   "outputs": [],
   "source": [
    "# Calculating TP, TN, FP, FN\n",
    "TP = ((ground_truth['conformity'] == 1) & (ground_truth['predicted'] == 1)).sum()\n",
    "TN = ((ground_truth['conformity'] == 0) & (ground_truth['predicted'] == 0)).sum()\n",
    "FP = ((ground_truth['conformity'] == 0) & (ground_truth['predicted'] == 1)).sum()\n",
    "FN = ((ground_truth['conformity'] == 1) & (ground_truth['predicted'] == 0)).sum()"
   ]
  },
  {
   "cell_type": "code",
   "execution_count": 94,
   "metadata": {},
   "outputs": [
    {
     "name": "stdout",
     "output_type": "stream",
     "text": [
      "Accuracy: 0.756\n"
     ]
    }
   ],
   "source": [
    "# Calculate accuracy\n",
    "accuracy = (TP + TN) / (TP + TN + FP + FN)\n",
    "print(f\"Accuracy: {accuracy:.3f}\")"
   ]
  },
  {
   "cell_type": "code",
   "execution_count": 95,
   "metadata": {},
   "outputs": [
    {
     "name": "stdout",
     "output_type": "stream",
     "text": [
      "F1: 0.856\n"
     ]
    }
   ],
   "source": [
    "# Calculate f1\n",
    "\n",
    "precision = TP / (TP + FP)\n",
    "recall = TP / (TP + FN)\n",
    "\n",
    "f1 = 2 * ((precision * recall) / (precision + recall))\n",
    "print(f\"F1: {f1:.3f}\")"
   ]
  },
  {
   "cell_type": "markdown",
   "metadata": {},
   "source": [
    "### Dev (Non Conform Traces)"
   ]
  },
  {
   "cell_type": "code",
   "execution_count": 96,
   "metadata": {},
   "outputs": [
    {
     "name": "stdout",
     "output_type": "stream",
     "text": [
      "Precision: 0.517\n"
     ]
    }
   ],
   "source": [
    "# Calculate precision for Dev\n",
    "precision = TN / (TN + FN)\n",
    "print(f\"Precision: {precision:.3f}\")"
   ]
  },
  {
   "cell_type": "code",
   "execution_count": 97,
   "metadata": {},
   "outputs": [
    {
     "name": "stdout",
     "output_type": "stream",
     "text": [
      "Recall: 0.124\n"
     ]
    }
   ],
   "source": [
    "# Calculate recall for Dev\n",
    "recall = TN / (TN + FP)\n",
    "print(f\"Recall: {recall:.3f}\")"
   ]
  },
  {
   "cell_type": "markdown",
   "metadata": {},
   "source": [
    "### No Dev (Conform Traces)"
   ]
  },
  {
   "cell_type": "code",
   "execution_count": 98,
   "metadata": {},
   "outputs": [
    {
     "name": "stdout",
     "output_type": "stream",
     "text": [
      "Precision: 0.771\n"
     ]
    }
   ],
   "source": [
    "# Calculate precision for No Dev\n",
    "precision = TP / (TP + FP)\n",
    "print(f\"Precision: {precision:.3f}\")"
   ]
  },
  {
   "cell_type": "code",
   "execution_count": 99,
   "metadata": {},
   "outputs": [
    {
     "name": "stdout",
     "output_type": "stream",
     "text": [
      "Recall: 0.962\n"
     ]
    }
   ],
   "source": [
    "# Calculate recall for No Dev\n",
    "recall = TP / (TP + FN)\n",
    "print(f\"Recall: {recall:.3f}\")"
   ]
  },
  {
   "cell_type": "markdown",
   "metadata": {},
   "source": [
    "### AUC"
   ]
  },
  {
   "cell_type": "code",
   "execution_count": 100,
   "metadata": {},
   "outputs": [
    {
     "data": {
      "text/plain": [
       "0.5431860698024797"
      ]
     },
     "execution_count": 100,
     "metadata": {},
     "output_type": "execute_result"
    }
   ],
   "source": [
    "import pandas as pd\n",
    "from sklearn.metrics import roc_auc_score\n",
    "\n",
    "# Assuming ground_truth is your DataFrame\n",
    "# Make sure 'conformity' contains actual labels (0 or 1)\n",
    "# and 'predicted' contains predicted probabilities or scores\n",
    "auc_roc = roc_auc_score(ground_truth['conformity'], ground_truth['predicted'])\n",
    "auc_roc"
   ]
  }
 ],
 "metadata": {
  "kernelspec": {
   "display_name": "lstm",
   "language": "python",
   "name": "python3"
  },
  "language_info": {
   "codemirror_mode": {
    "name": "ipython",
    "version": 3
   },
   "file_extension": ".py",
   "mimetype": "text/x-python",
   "name": "python",
   "nbconvert_exporter": "python",
   "pygments_lexer": "ipython3",
   "version": "3.9.13"
  }
 },
 "nbformat": 4,
 "nbformat_minor": 2
}

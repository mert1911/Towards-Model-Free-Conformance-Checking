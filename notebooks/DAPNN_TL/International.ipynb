{
 "cells": [
  {
   "cell_type": "markdown",
   "metadata": {},
   "source": [
    "# Import Event Log"
   ]
  },
  {
   "cell_type": "code",
   "execution_count": 1,
   "metadata": {},
   "outputs": [
    {
     "name": "stderr",
     "output_type": "stream",
     "text": [
      "/opt/anaconda3/lib/python3.9/site-packages/pm4py/util/dt_parsing/parser.py:76: UserWarning: ISO8601 strings are not fully supported with strpfromiso for Python versions below 3.11\n",
      "  warnings.warn(\n"
     ]
    },
    {
     "data": {
      "application/vnd.jupyter.widget-view+json": {
       "model_id": "1b274c9747d74108ba86e4050ce402d5",
       "version_major": 2,
       "version_minor": 0
      },
      "text/plain": [
       "parsing log, completed traces ::   0%|          | 0/6449 [00:00<?, ?it/s]"
      ]
     },
     "metadata": {},
     "output_type": "display_data"
    },
    {
     "data": {
      "text/html": [
       "<div>\n",
       "<style scoped>\n",
       "    .dataframe tbody tr th:only-of-type {\n",
       "        vertical-align: middle;\n",
       "    }\n",
       "\n",
       "    .dataframe tbody tr th {\n",
       "        vertical-align: top;\n",
       "    }\n",
       "\n",
       "    .dataframe thead th {\n",
       "        text-align: right;\n",
       "    }\n",
       "</style>\n",
       "<table border=\"1\" class=\"dataframe\">\n",
       "  <thead>\n",
       "    <tr style=\"text-align: right;\">\n",
       "      <th></th>\n",
       "      <th>id</th>\n",
       "      <th>org:resource</th>\n",
       "      <th>concept:name</th>\n",
       "      <th>time:timestamp</th>\n",
       "      <th>org:role</th>\n",
       "      <th>case:Permit travel permit number</th>\n",
       "      <th>case:DeclarationNumber</th>\n",
       "      <th>case:Amount</th>\n",
       "      <th>case:RequestedAmount</th>\n",
       "      <th>case:Permit TaskNumber</th>\n",
       "      <th>...</th>\n",
       "      <th>case:Permit OrganizationalEntity</th>\n",
       "      <th>case:travel permit number</th>\n",
       "      <th>case:Permit RequestedBudget</th>\n",
       "      <th>case:id</th>\n",
       "      <th>case:Permit ID</th>\n",
       "      <th>case:Permit id</th>\n",
       "      <th>case:BudgetNumber</th>\n",
       "      <th>case:Permit ActivityNumber</th>\n",
       "      <th>case:AdjustedAmount</th>\n",
       "      <th>@@case_index</th>\n",
       "    </tr>\n",
       "  </thead>\n",
       "  <tbody>\n",
       "    <tr>\n",
       "      <th>0</th>\n",
       "      <td>rv_travel permit 76455_6</td>\n",
       "      <td>STAFF MEMBER</td>\n",
       "      <td>Start trip</td>\n",
       "      <td>2016-10-04 22:00:00+00:00</td>\n",
       "      <td>EMPLOYEE</td>\n",
       "      <td>travel permit number 76456</td>\n",
       "      <td>declaration number 76458</td>\n",
       "      <td>39.664561</td>\n",
       "      <td>39.664561</td>\n",
       "      <td>UNKNOWN</td>\n",
       "      <td>...</td>\n",
       "      <td>organizational unit 65458</td>\n",
       "      <td>travel permit number 76456</td>\n",
       "      <td>41.613445</td>\n",
       "      <td>declaration 76457</td>\n",
       "      <td>travel permit 76455</td>\n",
       "      <td>travel permit 76455</td>\n",
       "      <td>budget 144133</td>\n",
       "      <td>activity 46005</td>\n",
       "      <td>39.664561</td>\n",
       "      <td>0</td>\n",
       "    </tr>\n",
       "    <tr>\n",
       "      <th>1</th>\n",
       "      <td>rv_travel permit 76455_7</td>\n",
       "      <td>STAFF MEMBER</td>\n",
       "      <td>End trip</td>\n",
       "      <td>2016-10-04 22:00:00+00:00</td>\n",
       "      <td>EMPLOYEE</td>\n",
       "      <td>travel permit number 76456</td>\n",
       "      <td>declaration number 76458</td>\n",
       "      <td>39.664561</td>\n",
       "      <td>39.664561</td>\n",
       "      <td>UNKNOWN</td>\n",
       "      <td>...</td>\n",
       "      <td>organizational unit 65458</td>\n",
       "      <td>travel permit number 76456</td>\n",
       "      <td>41.613445</td>\n",
       "      <td>declaration 76457</td>\n",
       "      <td>travel permit 76455</td>\n",
       "      <td>travel permit 76455</td>\n",
       "      <td>budget 144133</td>\n",
       "      <td>activity 46005</td>\n",
       "      <td>39.664561</td>\n",
       "      <td>0</td>\n",
       "    </tr>\n",
       "    <tr>\n",
       "      <th>2</th>\n",
       "      <td>st_step 76459_0</td>\n",
       "      <td>STAFF MEMBER</td>\n",
       "      <td>Permit SUBMITTED by EMPLOYEE</td>\n",
       "      <td>2017-04-06 11:32:10+00:00</td>\n",
       "      <td>EMPLOYEE</td>\n",
       "      <td>travel permit number 76456</td>\n",
       "      <td>declaration number 76458</td>\n",
       "      <td>39.664561</td>\n",
       "      <td>39.664561</td>\n",
       "      <td>UNKNOWN</td>\n",
       "      <td>...</td>\n",
       "      <td>organizational unit 65458</td>\n",
       "      <td>travel permit number 76456</td>\n",
       "      <td>41.613445</td>\n",
       "      <td>declaration 76457</td>\n",
       "      <td>travel permit 76455</td>\n",
       "      <td>travel permit 76455</td>\n",
       "      <td>budget 144133</td>\n",
       "      <td>activity 46005</td>\n",
       "      <td>39.664561</td>\n",
       "      <td>0</td>\n",
       "    </tr>\n",
       "    <tr>\n",
       "      <th>3</th>\n",
       "      <td>st_step 76460_0</td>\n",
       "      <td>STAFF MEMBER</td>\n",
       "      <td>Permit FINAL_APPROVED by SUPERVISOR</td>\n",
       "      <td>2017-04-06 11:32:28+00:00</td>\n",
       "      <td>SUPERVISOR</td>\n",
       "      <td>travel permit number 76456</td>\n",
       "      <td>declaration number 76458</td>\n",
       "      <td>39.664561</td>\n",
       "      <td>39.664561</td>\n",
       "      <td>UNKNOWN</td>\n",
       "      <td>...</td>\n",
       "      <td>organizational unit 65458</td>\n",
       "      <td>travel permit number 76456</td>\n",
       "      <td>41.613445</td>\n",
       "      <td>declaration 76457</td>\n",
       "      <td>travel permit 76455</td>\n",
       "      <td>travel permit 76455</td>\n",
       "      <td>budget 144133</td>\n",
       "      <td>activity 46005</td>\n",
       "      <td>39.664561</td>\n",
       "      <td>0</td>\n",
       "    </tr>\n",
       "    <tr>\n",
       "      <th>4</th>\n",
       "      <td>st_step 76461_0</td>\n",
       "      <td>STAFF MEMBER</td>\n",
       "      <td>Declaration SUBMITTED by EMPLOYEE</td>\n",
       "      <td>2017-04-07 11:38:14+00:00</td>\n",
       "      <td>EMPLOYEE</td>\n",
       "      <td>travel permit number 76456</td>\n",
       "      <td>declaration number 76458</td>\n",
       "      <td>39.664561</td>\n",
       "      <td>39.664561</td>\n",
       "      <td>UNKNOWN</td>\n",
       "      <td>...</td>\n",
       "      <td>organizational unit 65458</td>\n",
       "      <td>travel permit number 76456</td>\n",
       "      <td>41.613445</td>\n",
       "      <td>declaration 76457</td>\n",
       "      <td>travel permit 76455</td>\n",
       "      <td>travel permit 76455</td>\n",
       "      <td>budget 144133</td>\n",
       "      <td>activity 46005</td>\n",
       "      <td>39.664561</td>\n",
       "      <td>0</td>\n",
       "    </tr>\n",
       "    <tr>\n",
       "      <th>...</th>\n",
       "      <td>...</td>\n",
       "      <td>...</td>\n",
       "      <td>...</td>\n",
       "      <td>...</td>\n",
       "      <td>...</td>\n",
       "      <td>...</td>\n",
       "      <td>...</td>\n",
       "      <td>...</td>\n",
       "      <td>...</td>\n",
       "      <td>...</td>\n",
       "      <td>...</td>\n",
       "      <td>...</td>\n",
       "      <td>...</td>\n",
       "      <td>...</td>\n",
       "      <td>...</td>\n",
       "      <td>...</td>\n",
       "      <td>...</td>\n",
       "      <td>...</td>\n",
       "      <td>...</td>\n",
       "      <td>...</td>\n",
       "      <td>...</td>\n",
       "    </tr>\n",
       "    <tr>\n",
       "      <th>72146</th>\n",
       "      <td>st_step 13239_0</td>\n",
       "      <td>STAFF MEMBER</td>\n",
       "      <td>Declaration SUBMITTED by EMPLOYEE</td>\n",
       "      <td>2018-12-18 14:06:50+00:00</td>\n",
       "      <td>EMPLOYEE</td>\n",
       "      <td>travel permit number 13227</td>\n",
       "      <td>UNKNOWN</td>\n",
       "      <td>0.000000</td>\n",
       "      <td>0.000000</td>\n",
       "      <td>task 427</td>\n",
       "      <td>...</td>\n",
       "      <td>organizational unit 65455</td>\n",
       "      <td>travel permit number 13227</td>\n",
       "      <td>1727.559756</td>\n",
       "      <td>declaration 13232</td>\n",
       "      <td>travel permit 13226</td>\n",
       "      <td>travel permit 13226</td>\n",
       "      <td>budget 147449</td>\n",
       "      <td>UNKNOWN</td>\n",
       "      <td>0.000000</td>\n",
       "      <td>6448</td>\n",
       "    </tr>\n",
       "    <tr>\n",
       "      <th>72147</th>\n",
       "      <td>st_step 13241_0</td>\n",
       "      <td>STAFF MEMBER</td>\n",
       "      <td>Declaration REJECTED by ADMINISTRATION</td>\n",
       "      <td>2018-12-18 14:06:57+00:00</td>\n",
       "      <td>ADMINISTRATION</td>\n",
       "      <td>travel permit number 13227</td>\n",
       "      <td>UNKNOWN</td>\n",
       "      <td>0.000000</td>\n",
       "      <td>0.000000</td>\n",
       "      <td>task 427</td>\n",
       "      <td>...</td>\n",
       "      <td>organizational unit 65455</td>\n",
       "      <td>travel permit number 13227</td>\n",
       "      <td>1727.559756</td>\n",
       "      <td>declaration 13232</td>\n",
       "      <td>travel permit 13226</td>\n",
       "      <td>travel permit 13226</td>\n",
       "      <td>budget 147449</td>\n",
       "      <td>UNKNOWN</td>\n",
       "      <td>0.000000</td>\n",
       "      <td>6448</td>\n",
       "    </tr>\n",
       "    <tr>\n",
       "      <th>72148</th>\n",
       "      <td>st_step 13240_0</td>\n",
       "      <td>STAFF MEMBER</td>\n",
       "      <td>Declaration REJECTED by EMPLOYEE</td>\n",
       "      <td>2018-12-19 13:05:36+00:00</td>\n",
       "      <td>EMPLOYEE</td>\n",
       "      <td>travel permit number 13227</td>\n",
       "      <td>UNKNOWN</td>\n",
       "      <td>0.000000</td>\n",
       "      <td>0.000000</td>\n",
       "      <td>task 427</td>\n",
       "      <td>...</td>\n",
       "      <td>organizational unit 65455</td>\n",
       "      <td>travel permit number 13227</td>\n",
       "      <td>1727.559756</td>\n",
       "      <td>declaration 13232</td>\n",
       "      <td>travel permit 13226</td>\n",
       "      <td>travel permit 13226</td>\n",
       "      <td>budget 147449</td>\n",
       "      <td>UNKNOWN</td>\n",
       "      <td>0.000000</td>\n",
       "      <td>6448</td>\n",
       "    </tr>\n",
       "    <tr>\n",
       "      <th>72149</th>\n",
       "      <td>rv_travel permit 13226_6</td>\n",
       "      <td>STAFF MEMBER</td>\n",
       "      <td>Start trip</td>\n",
       "      <td>2019-02-18 23:00:00+00:00</td>\n",
       "      <td>EMPLOYEE</td>\n",
       "      <td>travel permit number 13227</td>\n",
       "      <td>UNKNOWN</td>\n",
       "      <td>0.000000</td>\n",
       "      <td>0.000000</td>\n",
       "      <td>task 427</td>\n",
       "      <td>...</td>\n",
       "      <td>organizational unit 65455</td>\n",
       "      <td>travel permit number 13227</td>\n",
       "      <td>1727.559756</td>\n",
       "      <td>declaration 13232</td>\n",
       "      <td>travel permit 13226</td>\n",
       "      <td>travel permit 13226</td>\n",
       "      <td>budget 147449</td>\n",
       "      <td>UNKNOWN</td>\n",
       "      <td>0.000000</td>\n",
       "      <td>6448</td>\n",
       "    </tr>\n",
       "    <tr>\n",
       "      <th>72150</th>\n",
       "      <td>rv_travel permit 13226_7</td>\n",
       "      <td>STAFF MEMBER</td>\n",
       "      <td>End trip</td>\n",
       "      <td>2019-02-23 23:00:00+00:00</td>\n",
       "      <td>EMPLOYEE</td>\n",
       "      <td>travel permit number 13227</td>\n",
       "      <td>UNKNOWN</td>\n",
       "      <td>0.000000</td>\n",
       "      <td>0.000000</td>\n",
       "      <td>task 427</td>\n",
       "      <td>...</td>\n",
       "      <td>organizational unit 65455</td>\n",
       "      <td>travel permit number 13227</td>\n",
       "      <td>1727.559756</td>\n",
       "      <td>declaration 13232</td>\n",
       "      <td>travel permit 13226</td>\n",
       "      <td>travel permit 13226</td>\n",
       "      <td>budget 147449</td>\n",
       "      <td>UNKNOWN</td>\n",
       "      <td>0.000000</td>\n",
       "      <td>6448</td>\n",
       "    </tr>\n",
       "  </tbody>\n",
       "</table>\n",
       "<p>72151 rows × 24 columns</p>\n",
       "</div>"
      ],
      "text/plain": [
       "                             id  org:resource  \\\n",
       "0      rv_travel permit 76455_6  STAFF MEMBER   \n",
       "1      rv_travel permit 76455_7  STAFF MEMBER   \n",
       "2               st_step 76459_0  STAFF MEMBER   \n",
       "3               st_step 76460_0  STAFF MEMBER   \n",
       "4               st_step 76461_0  STAFF MEMBER   \n",
       "...                         ...           ...   \n",
       "72146           st_step 13239_0  STAFF MEMBER   \n",
       "72147           st_step 13241_0  STAFF MEMBER   \n",
       "72148           st_step 13240_0  STAFF MEMBER   \n",
       "72149  rv_travel permit 13226_6  STAFF MEMBER   \n",
       "72150  rv_travel permit 13226_7  STAFF MEMBER   \n",
       "\n",
       "                                 concept:name            time:timestamp  \\\n",
       "0                                  Start trip 2016-10-04 22:00:00+00:00   \n",
       "1                                    End trip 2016-10-04 22:00:00+00:00   \n",
       "2                Permit SUBMITTED by EMPLOYEE 2017-04-06 11:32:10+00:00   \n",
       "3         Permit FINAL_APPROVED by SUPERVISOR 2017-04-06 11:32:28+00:00   \n",
       "4           Declaration SUBMITTED by EMPLOYEE 2017-04-07 11:38:14+00:00   \n",
       "...                                       ...                       ...   \n",
       "72146       Declaration SUBMITTED by EMPLOYEE 2018-12-18 14:06:50+00:00   \n",
       "72147  Declaration REJECTED by ADMINISTRATION 2018-12-18 14:06:57+00:00   \n",
       "72148        Declaration REJECTED by EMPLOYEE 2018-12-19 13:05:36+00:00   \n",
       "72149                              Start trip 2019-02-18 23:00:00+00:00   \n",
       "72150                                End trip 2019-02-23 23:00:00+00:00   \n",
       "\n",
       "             org:role case:Permit travel permit number  \\\n",
       "0            EMPLOYEE       travel permit number 76456   \n",
       "1            EMPLOYEE       travel permit number 76456   \n",
       "2            EMPLOYEE       travel permit number 76456   \n",
       "3          SUPERVISOR       travel permit number 76456   \n",
       "4            EMPLOYEE       travel permit number 76456   \n",
       "...               ...                              ...   \n",
       "72146        EMPLOYEE       travel permit number 13227   \n",
       "72147  ADMINISTRATION       travel permit number 13227   \n",
       "72148        EMPLOYEE       travel permit number 13227   \n",
       "72149        EMPLOYEE       travel permit number 13227   \n",
       "72150        EMPLOYEE       travel permit number 13227   \n",
       "\n",
       "         case:DeclarationNumber  case:Amount  case:RequestedAmount  \\\n",
       "0      declaration number 76458    39.664561             39.664561   \n",
       "1      declaration number 76458    39.664561             39.664561   \n",
       "2      declaration number 76458    39.664561             39.664561   \n",
       "3      declaration number 76458    39.664561             39.664561   \n",
       "4      declaration number 76458    39.664561             39.664561   \n",
       "...                         ...          ...                   ...   \n",
       "72146                   UNKNOWN     0.000000              0.000000   \n",
       "72147                   UNKNOWN     0.000000              0.000000   \n",
       "72148                   UNKNOWN     0.000000              0.000000   \n",
       "72149                   UNKNOWN     0.000000              0.000000   \n",
       "72150                   UNKNOWN     0.000000              0.000000   \n",
       "\n",
       "      case:Permit TaskNumber  ... case:Permit OrganizationalEntity  \\\n",
       "0                    UNKNOWN  ...        organizational unit 65458   \n",
       "1                    UNKNOWN  ...        organizational unit 65458   \n",
       "2                    UNKNOWN  ...        organizational unit 65458   \n",
       "3                    UNKNOWN  ...        organizational unit 65458   \n",
       "4                    UNKNOWN  ...        organizational unit 65458   \n",
       "...                      ...  ...                              ...   \n",
       "72146               task 427  ...        organizational unit 65455   \n",
       "72147               task 427  ...        organizational unit 65455   \n",
       "72148               task 427  ...        organizational unit 65455   \n",
       "72149               task 427  ...        organizational unit 65455   \n",
       "72150               task 427  ...        organizational unit 65455   \n",
       "\n",
       "        case:travel permit number case:Permit RequestedBudget  \\\n",
       "0      travel permit number 76456                   41.613445   \n",
       "1      travel permit number 76456                   41.613445   \n",
       "2      travel permit number 76456                   41.613445   \n",
       "3      travel permit number 76456                   41.613445   \n",
       "4      travel permit number 76456                   41.613445   \n",
       "...                           ...                         ...   \n",
       "72146  travel permit number 13227                 1727.559756   \n",
       "72147  travel permit number 13227                 1727.559756   \n",
       "72148  travel permit number 13227                 1727.559756   \n",
       "72149  travel permit number 13227                 1727.559756   \n",
       "72150  travel permit number 13227                 1727.559756   \n",
       "\n",
       "                 case:id       case:Permit ID       case:Permit id  \\\n",
       "0      declaration 76457  travel permit 76455  travel permit 76455   \n",
       "1      declaration 76457  travel permit 76455  travel permit 76455   \n",
       "2      declaration 76457  travel permit 76455  travel permit 76455   \n",
       "3      declaration 76457  travel permit 76455  travel permit 76455   \n",
       "4      declaration 76457  travel permit 76455  travel permit 76455   \n",
       "...                  ...                  ...                  ...   \n",
       "72146  declaration 13232  travel permit 13226  travel permit 13226   \n",
       "72147  declaration 13232  travel permit 13226  travel permit 13226   \n",
       "72148  declaration 13232  travel permit 13226  travel permit 13226   \n",
       "72149  declaration 13232  travel permit 13226  travel permit 13226   \n",
       "72150  declaration 13232  travel permit 13226  travel permit 13226   \n",
       "\n",
       "       case:BudgetNumber case:Permit ActivityNumber case:AdjustedAmount  \\\n",
       "0          budget 144133             activity 46005           39.664561   \n",
       "1          budget 144133             activity 46005           39.664561   \n",
       "2          budget 144133             activity 46005           39.664561   \n",
       "3          budget 144133             activity 46005           39.664561   \n",
       "4          budget 144133             activity 46005           39.664561   \n",
       "...                  ...                        ...                 ...   \n",
       "72146      budget 147449                    UNKNOWN            0.000000   \n",
       "72147      budget 147449                    UNKNOWN            0.000000   \n",
       "72148      budget 147449                    UNKNOWN            0.000000   \n",
       "72149      budget 147449                    UNKNOWN            0.000000   \n",
       "72150      budget 147449                    UNKNOWN            0.000000   \n",
       "\n",
       "      @@case_index  \n",
       "0                0  \n",
       "1                0  \n",
       "2                0  \n",
       "3                0  \n",
       "4                0  \n",
       "...            ...  \n",
       "72146         6448  \n",
       "72147         6448  \n",
       "72148         6448  \n",
       "72149         6448  \n",
       "72150         6448  \n",
       "\n",
       "[72151 rows x 24 columns]"
      ]
     },
     "execution_count": 1,
     "metadata": {},
     "output_type": "execute_result"
    }
   ],
   "source": [
    "import pandas as pd\n",
    "import numpy as np\n",
    "import pm4py\n",
    "from pm4py.objects.conversion.log import converter as log_converter\n",
    "\n",
    "if __name__ == \"__main__\":\n",
    "    # Read the XES file\n",
    "    dataframe_log = pm4py.read_xes('../../data/logs/InternationalDeclarations.xes')\n",
    "\n",
    "    # If 'log' is already a DataFrame, add the @@case_index column directly\n",
    "    case_indices = {case_id: idx for idx, case_id in enumerate(dataframe_log['case:concept:name'].unique())}\n",
    "    dataframe_log['@@case_index'] = dataframe_log['case:concept:name'].map(case_indices)\n",
    "    \n",
    "     # Convert the dataframe to event log\n",
    "    log = log_converter.apply(dataframe_log)\n",
    "    \n",
    "dataframe_log"
   ]
  },
  {
   "cell_type": "markdown",
   "metadata": {},
   "source": [
    "# Insert Start & End markers"
   ]
  },
  {
   "cell_type": "code",
   "execution_count": 2,
   "metadata": {},
   "outputs": [],
   "source": [
    "# Define a function to insert start and end markers\n",
    "def add_markers(df):\n",
    "    # Identify unique case indices\n",
    "    case_indices = df['@@case_index'].unique()\n",
    "    \n",
    "    # Prepare a container for new DataFrame rows\n",
    "    new_rows = []\n",
    "    \n",
    "    # Iterate over each case index to add start and end markers\n",
    "    for case_index in case_indices:\n",
    "        # Create a start marker row with all columns except @@case_index set to 'Start'\n",
    "        start_row = {col: 'Start' if col != '@@case_index' else case_index for col in df.columns}\n",
    "        \n",
    "        # Create an end marker row with all columns except @@case_index set to 'End'\n",
    "        end_row = {col: 'End' if col != '@@case_index' else case_index for col in df.columns}\n",
    "        \n",
    "        # Append start row, rows for the current case, and end row\n",
    "        new_rows.append(start_row)\n",
    "        new_rows.extend(df[df['@@case_index'] == case_index].to_dict('records'))\n",
    "        new_rows.append(end_row)\n",
    "    \n",
    "    # Convert the list of rows into a DataFrame\n",
    "    return pd.DataFrame(new_rows)\n",
    "\n",
    "# Apply the function to add start and end markers to the dataframe\n",
    "modified_dataframe = add_markers(dataframe_log)"
   ]
  },
  {
   "cell_type": "markdown",
   "metadata": {},
   "source": [
    "# Preprocess"
   ]
  },
  {
   "cell_type": "code",
   "execution_count": 3,
   "metadata": {},
   "outputs": [],
   "source": [
    "codes, uniques = pd.factorize(modified_dataframe['concept:name'])\n",
    "modified_dataframe['concept:name'] = codes"
   ]
  },
  {
   "cell_type": "markdown",
   "metadata": {},
   "source": [
    "### Padding for Cases with less then 5 events"
   ]
  },
  {
   "cell_type": "code",
   "execution_count": 4,
   "metadata": {},
   "outputs": [
    {
     "data": {
      "text/plain": [
       "5"
      ]
     },
     "execution_count": 4,
     "metadata": {},
     "output_type": "execute_result"
    }
   ],
   "source": [
    "# Calculating the frequency of each unique value in '@@case_index'\n",
    "frequency = modified_dataframe['@@case_index'].value_counts()\n",
    "\n",
    "# Finding the minimum occurrence\n",
    "min_occurrence = frequency.min()\n",
    "\n",
    "min_occurrence"
   ]
  },
  {
   "cell_type": "markdown",
   "metadata": {},
   "source": [
    "# Generate sliding windows"
   ]
  },
  {
   "cell_type": "code",
   "execution_count": 5,
   "metadata": {},
   "outputs": [],
   "source": [
    "df_activity = modified_dataframe[['concept:name', '@@case_index']]"
   ]
  },
  {
   "cell_type": "code",
   "execution_count": 6,
   "metadata": {},
   "outputs": [],
   "source": [
    "def generate_sliding_windows(df, case_id_column='@@case_index', window_size=5):\n",
    "    windows = []\n",
    "    targets = []\n",
    "    case_indices = []\n",
    "\n",
    "    # Iterate over each unique case\n",
    "    for case_id in df[case_id_column].unique():\n",
    "        # Extract the case\n",
    "        case_data = df[df[case_id_column] == case_id]\n",
    "        \n",
    "        # Convert case_data to a NumPy array and drop the case_id_column\n",
    "        case_data_array = case_data.drop(columns=[case_id_column]).to_numpy()\n",
    "\n",
    "        # Adjusting the condition to correctly reflect window_size without needing an additional +1\n",
    "        # Now it correctly considers window_size as including the target event\n",
    "        if len(case_data_array) >= window_size:\n",
    "            # Adjust the loop to generate sliding windows of size window_size - 1 for the inputs and use the next event as the target\n",
    "            for i in range(len(case_data_array) - window_size + 1):\n",
    "                # window now has window_size - 1 events\n",
    "                window = case_data_array[i:i + window_size - 1]\n",
    "                # The target is the event immediately following the window\n",
    "                target = case_data_array[i + window_size - 1]\n",
    "                windows.append(window)\n",
    "                targets.append(target)\n",
    "                case_indices.append(case_id)  # Store the case_id corresponding to the window\n",
    "\n",
    "    # Convert lists to numpy arrays for easier handling and to ensure they are two-dimensional\n",
    "    windows_array = np.array(windows)\n",
    "    targets_array = np.array(targets)\n",
    "    case_indices_array = np.array(case_indices)\n",
    "    \n",
    "    return windows_array, targets_array, case_indices_array"
   ]
  },
  {
   "cell_type": "code",
   "execution_count": 7,
   "metadata": {},
   "outputs": [],
   "source": [
    "windows_activity, targets_activity, case_indices = generate_sliding_windows(df_activity)"
   ]
  },
  {
   "cell_type": "markdown",
   "metadata": {},
   "source": [
    "# LSTM"
   ]
  },
  {
   "cell_type": "markdown",
   "metadata": {},
   "source": [
    "### Architecture"
   ]
  },
  {
   "cell_type": "markdown",
   "metadata": {},
   "source": [
    "- id not included because LSTm could not learn"
   ]
  },
  {
   "cell_type": "code",
   "execution_count": 8,
   "metadata": {},
   "outputs": [
    {
     "name": "stderr",
     "output_type": "stream",
     "text": [
      "2024-08-19 21:48:28.781288: I tensorflow/core/platform/cpu_feature_guard.cc:182] This TensorFlow binary is optimized to use available CPU instructions in performance-critical operations.\n",
      "To enable the following instructions: AVX2 FMA, in other operations, rebuild TensorFlow with the appropriate compiler flags.\n"
     ]
    },
    {
     "name": "stdout",
     "output_type": "stream",
     "text": [
      "Model: \"model\"\n",
      "_________________________________________________________________\n",
      " Layer (type)                Output Shape              Param #   \n",
      "=================================================================\n",
      " input_activity (InputLayer  [(None, 4)]               0         \n",
      " )                                                               \n",
      "                                                                 \n",
      " embedding (Embedding)       (None, 4, 50)             1800      \n",
      "                                                                 \n",
      " lstm (LSTM)                 (None, 25)                7600      \n",
      "                                                                 \n",
      " output_activity (Dense)     (None, 36)                936       \n",
      "                                                                 \n",
      "=================================================================\n",
      "Total params: 10336 (40.38 KB)\n",
      "Trainable params: 10336 (40.38 KB)\n",
      "Non-trainable params: 0 (0.00 Byte)\n",
      "_________________________________________________________________\n"
     ]
    }
   ],
   "source": [
    "from tensorflow.keras.models import Model\n",
    "from tensorflow.keras.layers import Input, LSTM, Dense, Embedding\n",
    "\n",
    "# Assuming these values as placeholders, replace them with actual counts from your data\n",
    "num_activities = modified_dataframe['concept:name'].nunique()\n",
    "\n",
    "embedding_dim_activity = 50\n",
    "time_steps = 4\n",
    "\n",
    "# Input layer for activities\n",
    "input_activity = Input(shape=(time_steps,), name='input_activity')\n",
    "\n",
    "# Embedding layer for activities\n",
    "embedding_activity = Embedding(input_dim=num_activities, output_dim=embedding_dim_activity, input_length=time_steps)(input_activity)\n",
    "\n",
    "# LSTM layer for activities\n",
    "lstm_activity = LSTM(25, return_sequences=False)(embedding_activity)\n",
    "\n",
    "# Output layer for predicting the next activity\n",
    "output_activity = Dense(num_activities, activation='softmax', name='output_activity')(lstm_activity)\n",
    "\n",
    "# Create and compile the model\n",
    "model = Model(inputs=input_activity, outputs=output_activity)\n",
    "\n",
    "model.compile(optimizer='adam', \n",
    "              loss='categorical_crossentropy',\n",
    "              metrics=['accuracy'])\n",
    "\n",
    "model.summary()"
   ]
  },
  {
   "cell_type": "markdown",
   "metadata": {},
   "source": [
    "# Data Splitting"
   ]
  },
  {
   "cell_type": "code",
   "execution_count": 9,
   "metadata": {},
   "outputs": [],
   "source": [
    "from sklearn.model_selection import train_test_split\n",
    "\n",
    "# Split the activity data\n",
    "train_activity, test_activity, train_targets_activity, test_targets_activity = train_test_split(\n",
    "    windows_activity, targets_activity, test_size=0.3, random_state=42)"
   ]
  },
  {
   "cell_type": "markdown",
   "metadata": {},
   "source": [
    "# Training"
   ]
  },
  {
   "cell_type": "code",
   "execution_count": 10,
   "metadata": {},
   "outputs": [],
   "source": [
    "from tensorflow.keras.callbacks import EarlyStopping\n",
    "from tensorflow.keras.callbacks import LearningRateScheduler\n",
    "\n",
    "# EarlyStopping callback\n",
    "early_stopping = EarlyStopping(monitor='val_loss', patience=3, restore_best_weights=True)\n",
    "\n",
    "def cyclic_lr(epoch, lr):\n",
    "    # Example function that modulates LR within a range for each epoch\n",
    "    # Customize this function based on your cyclic learning rate policy\n",
    "    max_lr = 0.01  # Maximum LR\n",
    "    base_lr = 0.001  # Base LR\n",
    "    step_size = 10  # Number of epochs for half a cycle\n",
    "    cycle = np.floor(1 + epoch / (2 * step_size))\n",
    "    x = np.abs(epoch / step_size - 2 * cycle + 1)\n",
    "    lr = base_lr + (max_lr - base_lr) * np.maximum(0, (1 - x))\n",
    "    return lr\n",
    "\n",
    "lr_scheduler = LearningRateScheduler(cyclic_lr)"
   ]
  },
  {
   "cell_type": "code",
   "execution_count": 11,
   "metadata": {},
   "outputs": [
    {
     "name": "stdout",
     "output_type": "stream",
     "text": [
      "Epoch 1/25\n",
      "649/649 [==============================] - 5s 4ms/step - loss: 1.3487 - accuracy: 0.6855 - val_loss: 0.6314 - val_accuracy: 0.8257 - lr: 0.0010\n",
      "Epoch 2/25\n",
      "649/649 [==============================] - 2s 3ms/step - loss: 0.5375 - accuracy: 0.8464 - val_loss: 0.4794 - val_accuracy: 0.8537 - lr: 0.0019\n",
      "Epoch 3/25\n",
      "649/649 [==============================] - 2s 3ms/step - loss: 0.4646 - accuracy: 0.8565 - val_loss: 0.4415 - val_accuracy: 0.8604 - lr: 0.0028\n",
      "Epoch 4/25\n",
      "649/649 [==============================] - 2s 3ms/step - loss: 0.4386 - accuracy: 0.8613 - val_loss: 0.4269 - val_accuracy: 0.8647 - lr: 0.0037\n",
      "Epoch 5/25\n",
      "649/649 [==============================] - 2s 3ms/step - loss: 0.4240 - accuracy: 0.8634 - val_loss: 0.4132 - val_accuracy: 0.8655 - lr: 0.0046\n",
      "Epoch 6/25\n",
      "649/649 [==============================] - 2s 3ms/step - loss: 0.4157 - accuracy: 0.8651 - val_loss: 0.4069 - val_accuracy: 0.8675 - lr: 0.0055\n",
      "Epoch 7/25\n",
      "649/649 [==============================] - 2s 3ms/step - loss: 0.4110 - accuracy: 0.8656 - val_loss: 0.4044 - val_accuracy: 0.8666 - lr: 0.0064\n",
      "Epoch 8/25\n",
      "649/649 [==============================] - 2s 3ms/step - loss: 0.4083 - accuracy: 0.8655 - val_loss: 0.3995 - val_accuracy: 0.8672 - lr: 0.0073\n",
      "Epoch 9/25\n",
      "649/649 [==============================] - 2s 3ms/step - loss: 0.4072 - accuracy: 0.8662 - val_loss: 0.4024 - val_accuracy: 0.8656 - lr: 0.0082\n",
      "Epoch 10/25\n",
      "649/649 [==============================] - 2s 3ms/step - loss: 0.4098 - accuracy: 0.8651 - val_loss: 0.4067 - val_accuracy: 0.8666 - lr: 0.0091\n",
      "Epoch 11/25\n",
      "649/649 [==============================] - 2s 3ms/step - loss: 0.4085 - accuracy: 0.8653 - val_loss: 0.4065 - val_accuracy: 0.8663 - lr: 0.0100\n",
      "Epoch 12/25\n",
      "649/649 [==============================] - 2s 3ms/step - loss: 0.4022 - accuracy: 0.8654 - val_loss: 0.4052 - val_accuracy: 0.8664 - lr: 0.0091\n",
      "Epoch 13/25\n",
      "649/649 [==============================] - 2s 3ms/step - loss: 0.4001 - accuracy: 0.8668 - val_loss: 0.4050 - val_accuracy: 0.8631 - lr: 0.0082\n",
      "Epoch 14/25\n",
      "649/649 [==============================] - 2s 3ms/step - loss: 0.3979 - accuracy: 0.8664 - val_loss: 0.3997 - val_accuracy: 0.8657 - lr: 0.0073\n",
      "Epoch 15/25\n",
      "649/649 [==============================] - 2s 3ms/step - loss: 0.3940 - accuracy: 0.8675 - val_loss: 0.3979 - val_accuracy: 0.8669 - lr: 0.0064\n",
      "Epoch 16/25\n",
      "649/649 [==============================] - 2s 3ms/step - loss: 0.3913 - accuracy: 0.8672 - val_loss: 0.3960 - val_accuracy: 0.8672 - lr: 0.0055\n",
      "Epoch 17/25\n",
      "649/649 [==============================] - 2s 3ms/step - loss: 0.3882 - accuracy: 0.8680 - val_loss: 0.3946 - val_accuracy: 0.8679 - lr: 0.0046\n",
      "Epoch 18/25\n",
      "649/649 [==============================] - 2s 3ms/step - loss: 0.3863 - accuracy: 0.8688 - val_loss: 0.3954 - val_accuracy: 0.8670 - lr: 0.0037\n",
      "Epoch 19/25\n",
      "649/649 [==============================] - 2s 3ms/step - loss: 0.3844 - accuracy: 0.8693 - val_loss: 0.3927 - val_accuracy: 0.8682 - lr: 0.0028\n",
      "Epoch 20/25\n",
      "649/649 [==============================] - 2s 3ms/step - loss: 0.3821 - accuracy: 0.8698 - val_loss: 0.3929 - val_accuracy: 0.8675 - lr: 0.0019\n",
      "Epoch 21/25\n",
      "649/649 [==============================] - 2s 3ms/step - loss: 0.3798 - accuracy: 0.8696 - val_loss: 0.3910 - val_accuracy: 0.8668 - lr: 0.0010\n",
      "Epoch 22/25\n",
      "649/649 [==============================] - 2s 3ms/step - loss: 0.3814 - accuracy: 0.8698 - val_loss: 0.3923 - val_accuracy: 0.8658 - lr: 0.0019\n",
      "Epoch 23/25\n",
      "649/649 [==============================] - 2s 3ms/step - loss: 0.3832 - accuracy: 0.8691 - val_loss: 0.3934 - val_accuracy: 0.8662 - lr: 0.0028\n",
      "Epoch 24/25\n",
      "649/649 [==============================] - 2s 3ms/step - loss: 0.3853 - accuracy: 0.8687 - val_loss: 0.3931 - val_accuracy: 0.8685 - lr: 0.0037\n",
      "Epoch 25/25\n",
      "649/649 [==============================] - 2s 3ms/step - loss: 0.3875 - accuracy: 0.8686 - val_loss: 0.3946 - val_accuracy: 0.8668 - lr: 0.0046\n"
     ]
    }
   ],
   "source": [
    "import numpy as np\n",
    "from tensorflow.keras.utils import to_categorical\n",
    "\n",
    "# Convert activity targets to categorical\n",
    "train_targets_activity_cat = to_categorical(train_targets_activity, num_classes=num_activities)\n",
    "test_targets_activity_cat = to_categorical(test_targets_activity, num_classes=num_activities)\n",
    "\n",
    "# Train the model\n",
    "history = model.fit(train_activity, \n",
    "                    train_targets_activity_cat,\n",
    "                    epochs=25,\n",
    "                    batch_size=64,\n",
    "                    validation_data=(test_activity, test_targets_activity_cat),\n",
    "                    verbose=1,\n",
    "                    callbacks=[lr_scheduler])  # Add other callbacks as needed"
   ]
  },
  {
   "cell_type": "code",
   "execution_count": 12,
   "metadata": {},
   "outputs": [
    {
     "name": "stdout",
     "output_type": "stream",
     "text": [
      "556/556 [==============================] - 1s 1ms/step - loss: 0.3946 - accuracy: 0.8668\n",
      "[0.39464473724365234, 0.8668429255485535]\n"
     ]
    }
   ],
   "source": [
    "# Evaluate the model using only the activity-related data\n",
    "evaluation = model.evaluate(\n",
    "    test_activity,\n",
    "    test_targets_activity_cat\n",
    ")\n",
    "\n",
    "print(evaluation)"
   ]
  },
  {
   "cell_type": "code",
   "execution_count": 13,
   "metadata": {},
   "outputs": [
    {
     "name": "stderr",
     "output_type": "stream",
     "text": [
      "/opt/anaconda3/lib/python3.9/site-packages/keras/src/engine/training.py:3000: UserWarning: You are saving your model as an HDF5 file via `model.save()`. This file format is considered legacy. We recommend using instead the native Keras format, e.g. `model.save('my_model.keras')`.\n",
      "  saving_api.save_model(\n"
     ]
    }
   ],
   "source": [
    "# Save the model to an H5 file\n",
    "model.save('international.h5')"
   ]
  },
  {
   "cell_type": "markdown",
   "metadata": {},
   "source": [
    "# Anomaly Score Computation"
   ]
  },
  {
   "cell_type": "code",
   "execution_count": 14,
   "metadata": {},
   "outputs": [
    {
     "name": "stdout",
     "output_type": "stream",
     "text": [
      "1852/1852 [==============================] - 2s 1ms/step\n"
     ]
    }
   ],
   "source": [
    "# Generate predictions for all inputs\n",
    "predictions_activity = model.predict([windows_activity])"
   ]
  },
  {
   "cell_type": "code",
   "execution_count": 15,
   "metadata": {},
   "outputs": [],
   "source": [
    "import numpy as np\n",
    "from tensorflow.keras.utils import to_categorical\n",
    "\n",
    "def compute_anomaly_scores(predictions, actuals):\n",
    "    # For categorical predictions, convert actuals to one-hot for comparison\n",
    "    actuals_one_hot = to_categorical(actuals, num_classes=predictions.shape[-1])\n",
    "    \n",
    "    max_predictions = np.max(predictions, axis=-1)\n",
    "    actual_predictions = np.sum(predictions * actuals_one_hot, axis=-1)  # Extract the probability of the actual class\n",
    "    \n",
    "    anomaly_scores = (max_predictions - actual_predictions) / max_predictions\n",
    "    \n",
    "    return anomaly_scores\n",
    "\n",
    "# Assuming targets_id, targets_resource, targets_activity, targets_role are the true values for these attributes\n",
    "anomaly_scores_activity = compute_anomaly_scores(predictions_activity, targets_activity)"
   ]
  },
  {
   "cell_type": "code",
   "execution_count": 16,
   "metadata": {},
   "outputs": [],
   "source": [
    "def classify_cases(anomaly_scores_activity, threshold=0.98):\n",
    "    # Ensure all inputs are numpy arrays of the same shape\n",
    "    anomaly_scores_activity = np.array(anomaly_scores_activity).flatten()\n",
    "\n",
    "    # Find the maximum anomaly score across all attributes for each case\n",
    "    max_scores = np.maximum.reduce([anomaly_scores_activity])\n",
    "\n",
    "    # Classify cases as anomalous if the maximum anomaly score exceeds the threshold\n",
    "    anomalous_cases = max_scores > threshold\n",
    "    \n",
    "    return anomalous_cases\n",
    "\n",
    "# Now use the anomaly scores for id, resource, activity, role, and timestamp in the classification\n",
    "anomalous_cases = classify_cases(anomaly_scores_activity)"
   ]
  },
  {
   "cell_type": "markdown",
   "metadata": {},
   "source": [
    "# Mapping"
   ]
  },
  {
   "cell_type": "markdown",
   "metadata": {},
   "source": [
    "### True: anomaly, False: no anomaly"
   ]
  },
  {
   "cell_type": "code",
   "execution_count": 17,
   "metadata": {},
   "outputs": [
    {
     "data": {
      "text/html": [
       "<div>\n",
       "<style scoped>\n",
       "    .dataframe tbody tr th:only-of-type {\n",
       "        vertical-align: middle;\n",
       "    }\n",
       "\n",
       "    .dataframe tbody tr th {\n",
       "        vertical-align: top;\n",
       "    }\n",
       "\n",
       "    .dataframe thead th {\n",
       "        text-align: right;\n",
       "    }\n",
       "</style>\n",
       "<table border=\"1\" class=\"dataframe\">\n",
       "  <thead>\n",
       "    <tr style=\"text-align: right;\">\n",
       "      <th></th>\n",
       "      <th>case</th>\n",
       "      <th>predicted</th>\n",
       "    </tr>\n",
       "  </thead>\n",
       "  <tbody>\n",
       "    <tr>\n",
       "      <th>0</th>\n",
       "      <td>0</td>\n",
       "      <td>False</td>\n",
       "    </tr>\n",
       "    <tr>\n",
       "      <th>1</th>\n",
       "      <td>0</td>\n",
       "      <td>False</td>\n",
       "    </tr>\n",
       "    <tr>\n",
       "      <th>2</th>\n",
       "      <td>0</td>\n",
       "      <td>False</td>\n",
       "    </tr>\n",
       "    <tr>\n",
       "      <th>3</th>\n",
       "      <td>0</td>\n",
       "      <td>False</td>\n",
       "    </tr>\n",
       "    <tr>\n",
       "      <th>4</th>\n",
       "      <td>0</td>\n",
       "      <td>False</td>\n",
       "    </tr>\n",
       "    <tr>\n",
       "      <th>...</th>\n",
       "      <td>...</td>\n",
       "      <td>...</td>\n",
       "    </tr>\n",
       "    <tr>\n",
       "      <th>59248</th>\n",
       "      <td>6448</td>\n",
       "      <td>False</td>\n",
       "    </tr>\n",
       "    <tr>\n",
       "      <th>59249</th>\n",
       "      <td>6448</td>\n",
       "      <td>False</td>\n",
       "    </tr>\n",
       "    <tr>\n",
       "      <th>59250</th>\n",
       "      <td>6448</td>\n",
       "      <td>False</td>\n",
       "    </tr>\n",
       "    <tr>\n",
       "      <th>59251</th>\n",
       "      <td>6448</td>\n",
       "      <td>False</td>\n",
       "    </tr>\n",
       "    <tr>\n",
       "      <th>59252</th>\n",
       "      <td>6448</td>\n",
       "      <td>False</td>\n",
       "    </tr>\n",
       "  </tbody>\n",
       "</table>\n",
       "<p>59253 rows × 2 columns</p>\n",
       "</div>"
      ],
      "text/plain": [
       "       case  predicted\n",
       "0         0      False\n",
       "1         0      False\n",
       "2         0      False\n",
       "3         0      False\n",
       "4         0      False\n",
       "...     ...        ...\n",
       "59248  6448      False\n",
       "59249  6448      False\n",
       "59250  6448      False\n",
       "59251  6448      False\n",
       "59252  6448      False\n",
       "\n",
       "[59253 rows x 2 columns]"
      ]
     },
     "execution_count": 17,
     "metadata": {},
     "output_type": "execute_result"
    }
   ],
   "source": [
    "import pandas as pd\n",
    "\n",
    "# Create a DataFrame from the case_indices_array corresponding to case_resource\n",
    "mapping = pd.DataFrame({'case': case_indices})\n",
    "mapping['predicted'] = anomalous_cases\n",
    "mapping"
   ]
  },
  {
   "cell_type": "code",
   "execution_count": 18,
   "metadata": {},
   "outputs": [
    {
     "data": {
      "text/plain": [
       "case\n",
       "0       False\n",
       "1       False\n",
       "2       False\n",
       "3       False\n",
       "4       False\n",
       "        ...  \n",
       "6444    False\n",
       "6445    False\n",
       "6446    False\n",
       "6447    False\n",
       "6448    False\n",
       "Name: predicted, Length: 6449, dtype: bool"
      ]
     },
     "execution_count": 18,
     "metadata": {},
     "output_type": "execute_result"
    }
   ],
   "source": [
    "case_prediction = mapping.groupby('case')['predicted'].any()\n",
    "case_prediction\n"
   ]
  },
  {
   "cell_type": "markdown",
   "metadata": {},
   "source": [
    "# Ground Truth"
   ]
  },
  {
   "cell_type": "code",
   "execution_count": 19,
   "metadata": {},
   "outputs": [],
   "source": [
    "def generate_alignments_adjusted_tracecost_pkl(log, net, initial_marking, final_marking):\n",
    "    from pm4py.algo.conformance.alignments.petri_net import algorithm as alignments\n",
    "    from pm4py.algo.conformance.alignments.petri_net import variants\n",
    "    from pm4py.objects.petri_net.utils import align_utils\n",
    "    max_events=0\n",
    "    for trace in log:\n",
    "        counter=0\n",
    "        for event in trace:\n",
    "            counter+=1\n",
    "        if counter > max_events:\n",
    "            max_events=counter\n",
    "    parameters={}\n",
    "    parameters[alignments.Variants.VERSION_STATE_EQUATION_A_STAR.value.Parameters.PARAM_SYNC_COST_FUNCTION] = list(map(lambda i: .1*i, range(max_events*2)))\n",
    "    parameters[alignments.Variants.VERSION_STATE_EQUATION_A_STAR.value.Parameters.PARAM_TRACE_COST_FUNCTION]=list(map(lambda i: align_utils.STD_MODEL_LOG_MOVE_COST-.1*i, range(max_events*2)))\n",
    "    aligned_traces = alignments.apply_log(log, net, initial_marking, final_marking, variant=variants.state_equation_a_star, parameters=parameters)\n",
    "    return aligned_traces"
   ]
  },
  {
   "cell_type": "code",
   "execution_count": 20,
   "metadata": {},
   "outputs": [
    {
     "data": {
      "application/vnd.jupyter.widget-view+json": {
       "model_id": "4b7346ff82ac456186111173371be891",
       "version_major": 2,
       "version_minor": 0
      },
      "text/plain": [
       "aligning log, completed variants ::   0%|          | 0/753 [00:00<?, ?it/s]"
      ]
     },
     "metadata": {},
     "output_type": "display_data"
    }
   ],
   "source": [
    "import pm4py\n",
    "from pm4py.objects.log.importer.xes import importer as xes_importer\n",
    "from pm4py.objects.bpmn.importer import importer as bpmn_importer\n",
    "from pm4py.algo.conformance.alignments.petri_net import algorithm as alignments_petri\n",
    "\n",
    "# 2. Import the given BPMN model\n",
    "bpmn_graph = bpmn_importer.apply(\"../../data/model/Model_InternationalDeclarations.bpmn\")\n",
    "\n",
    "# 3. Convert the BPMN to a Petri net\n",
    "net, initial_marking, final_marking = pm4py.convert_to_petri_net(bpmn_graph)\n",
    "\n",
    "aligned_traces = generate_alignments_adjusted_tracecost_pkl(log, net, initial_marking, final_marking)"
   ]
  },
  {
   "cell_type": "code",
   "execution_count": 21,
   "metadata": {},
   "outputs": [],
   "source": [
    "def extract_conformance_status_by_fitness(aligned_traces):\n",
    "    conformance_status = []\n",
    "    for alignment in aligned_traces:\n",
    "        fitness = alignment['fitness']\n",
    "        # If the fitness is 1.0, the trace is conforming\n",
    "        if fitness == 1.0:\n",
    "            conformance_status.append(0)\n",
    "        else:\n",
    "            conformance_status.append(1)\n",
    "    return conformance_status\n",
    "\n",
    "# Get the conformance status list from the aligned traces\n",
    "conformance = extract_conformance_status_by_fitness(aligned_traces)"
   ]
  },
  {
   "cell_type": "code",
   "execution_count": 22,
   "metadata": {},
   "outputs": [
    {
     "data": {
      "text/html": [
       "<div>\n",
       "<style scoped>\n",
       "    .dataframe tbody tr th:only-of-type {\n",
       "        vertical-align: middle;\n",
       "    }\n",
       "\n",
       "    .dataframe tbody tr th {\n",
       "        vertical-align: top;\n",
       "    }\n",
       "\n",
       "    .dataframe thead th {\n",
       "        text-align: right;\n",
       "    }\n",
       "</style>\n",
       "<table border=\"1\" class=\"dataframe\">\n",
       "  <thead>\n",
       "    <tr style=\"text-align: right;\">\n",
       "      <th></th>\n",
       "      <th>conformity</th>\n",
       "      <th>predicted</th>\n",
       "    </tr>\n",
       "  </thead>\n",
       "  <tbody>\n",
       "    <tr>\n",
       "      <th>0</th>\n",
       "      <td>1</td>\n",
       "      <td>0</td>\n",
       "    </tr>\n",
       "    <tr>\n",
       "      <th>1</th>\n",
       "      <td>1</td>\n",
       "      <td>0</td>\n",
       "    </tr>\n",
       "    <tr>\n",
       "      <th>2</th>\n",
       "      <td>1</td>\n",
       "      <td>0</td>\n",
       "    </tr>\n",
       "    <tr>\n",
       "      <th>3</th>\n",
       "      <td>1</td>\n",
       "      <td>0</td>\n",
       "    </tr>\n",
       "    <tr>\n",
       "      <th>4</th>\n",
       "      <td>1</td>\n",
       "      <td>0</td>\n",
       "    </tr>\n",
       "    <tr>\n",
       "      <th>...</th>\n",
       "      <td>...</td>\n",
       "      <td>...</td>\n",
       "    </tr>\n",
       "    <tr>\n",
       "      <th>6444</th>\n",
       "      <td>0</td>\n",
       "      <td>0</td>\n",
       "    </tr>\n",
       "    <tr>\n",
       "      <th>6445</th>\n",
       "      <td>1</td>\n",
       "      <td>0</td>\n",
       "    </tr>\n",
       "    <tr>\n",
       "      <th>6446</th>\n",
       "      <td>0</td>\n",
       "      <td>0</td>\n",
       "    </tr>\n",
       "    <tr>\n",
       "      <th>6447</th>\n",
       "      <td>1</td>\n",
       "      <td>0</td>\n",
       "    </tr>\n",
       "    <tr>\n",
       "      <th>6448</th>\n",
       "      <td>1</td>\n",
       "      <td>0</td>\n",
       "    </tr>\n",
       "  </tbody>\n",
       "</table>\n",
       "<p>6449 rows × 2 columns</p>\n",
       "</div>"
      ],
      "text/plain": [
       "      conformity  predicted\n",
       "0              1          0\n",
       "1              1          0\n",
       "2              1          0\n",
       "3              1          0\n",
       "4              1          0\n",
       "...          ...        ...\n",
       "6444           0          0\n",
       "6445           1          0\n",
       "6446           0          0\n",
       "6447           1          0\n",
       "6448           1          0\n",
       "\n",
       "[6449 rows x 2 columns]"
      ]
     },
     "execution_count": 22,
     "metadata": {},
     "output_type": "execute_result"
    }
   ],
   "source": [
    "ground_truth = pd.DataFrame({'conformity': conformance})\n",
    "ground_truth['predicted'] = case_prediction\n",
    "\n",
    "# Convert False to 0 and True to 1\n",
    "ground_truth['predicted'] = [int(value) for value in ground_truth['predicted']]\n",
    "ground_truth"
   ]
  },
  {
   "cell_type": "markdown",
   "metadata": {},
   "source": [
    "# Evaluation"
   ]
  },
  {
   "cell_type": "code",
   "execution_count": 23,
   "metadata": {},
   "outputs": [],
   "source": [
    "# Calculating TP, TN, FP, FN\n",
    "TP = ((ground_truth['conformity'] == 1) & (ground_truth['predicted'] == 1)).sum()\n",
    "TN = ((ground_truth['conformity'] == 0) & (ground_truth['predicted'] == 0)).sum()\n",
    "FP = ((ground_truth['conformity'] == 0) & (ground_truth['predicted'] == 1)).sum()\n",
    "FN = ((ground_truth['conformity'] == 1) & (ground_truth['predicted'] == 0)).sum()"
   ]
  },
  {
   "cell_type": "code",
   "execution_count": 24,
   "metadata": {},
   "outputs": [
    {
     "name": "stdout",
     "output_type": "stream",
     "text": [
      "Precision Dev: 0.95\n"
     ]
    }
   ],
   "source": [
    "precision_dev = TP / (TP + FP)\n",
    "print(f\"Precision Dev: {precision_dev:.2f}\")"
   ]
  },
  {
   "cell_type": "code",
   "execution_count": 25,
   "metadata": {},
   "outputs": [
    {
     "name": "stdout",
     "output_type": "stream",
     "text": [
      "Recall Dev: 0.11\n"
     ]
    }
   ],
   "source": [
    "recall_dev = TP / (TP + FN)\n",
    "print(f\"Recall Dev: {recall_dev:.2f}\")"
   ]
  },
  {
   "cell_type": "code",
   "execution_count": 26,
   "metadata": {},
   "outputs": [
    {
     "name": "stdout",
     "output_type": "stream",
     "text": [
      "Precision No Dev: 0.42\n"
     ]
    }
   ],
   "source": [
    "precision_no_dev = TN / (TN + FN)\n",
    "print(f\"Precision No Dev: {precision_no_dev:.2f}\")"
   ]
  },
  {
   "cell_type": "code",
   "execution_count": 27,
   "metadata": {},
   "outputs": [
    {
     "name": "stdout",
     "output_type": "stream",
     "text": [
      "Recall No Dev: 0.99\n"
     ]
    }
   ],
   "source": [
    "recall_no_dev = TN / (TN + FP)\n",
    "print(f\"Recall No Dev: {recall_no_dev:.2f}\")"
   ]
  },
  {
   "cell_type": "code",
   "execution_count": 28,
   "metadata": {},
   "outputs": [
    {
     "name": "stdout",
     "output_type": "stream",
     "text": [
      "AUC-ROC: 0.55\n"
     ]
    }
   ],
   "source": [
    "from sklearn.metrics import roc_auc_score\n",
    "\n",
    "auc_roc = roc_auc_score(ground_truth['conformity'], ground_truth['predicted'])\n",
    "print(f\"AUC-ROC: {auc_roc:.2f}\")"
   ]
  }
 ],
 "metadata": {
  "kernelspec": {
   "display_name": "lstm",
   "language": "python",
   "name": "python3"
  },
  "language_info": {
   "codemirror_mode": {
    "name": "ipython",
    "version": 3
   },
   "file_extension": ".py",
   "mimetype": "text/x-python",
   "name": "python",
   "nbconvert_exporter": "python",
   "pygments_lexer": "ipython3",
   "version": "3.9.13"
  }
 },
 "nbformat": 4,
 "nbformat_minor": 2
}

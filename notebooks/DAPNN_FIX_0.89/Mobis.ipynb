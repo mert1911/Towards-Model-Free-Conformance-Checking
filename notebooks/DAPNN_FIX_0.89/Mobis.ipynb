{
 "cells": [
  {
   "cell_type": "markdown",
   "metadata": {},
   "source": [
    "# Import Event Log"
   ]
  },
  {
   "cell_type": "code",
   "execution_count": 1,
   "metadata": {},
   "outputs": [
    {
     "name": "stderr",
     "output_type": "stream",
     "text": [
      "/var/folders/s_/ch_w_j2d0sqf6dbdc0_224m40000gq/T/ipykernel_12235/1672979557.py:15: DeprecatedWarning: format_dataframe is deprecated as of 2.3.0 and will be removed in 3.0.0. the format_dataframe function does not need application anymore.\n",
      "  dataframe_log = pm4py.format_dataframe(\n"
     ]
    },
    {
     "data": {
      "text/html": [
       "<div>\n",
       "<style scoped>\n",
       "    .dataframe tbody tr th:only-of-type {\n",
       "        vertical-align: middle;\n",
       "    }\n",
       "\n",
       "    .dataframe tbody tr th {\n",
       "        vertical-align: top;\n",
       "    }\n",
       "\n",
       "    .dataframe thead th {\n",
       "        text-align: right;\n",
       "    }\n",
       "</style>\n",
       "<table border=\"1\" class=\"dataframe\">\n",
       "  <thead>\n",
       "    <tr style=\"text-align: right;\">\n",
       "      <th></th>\n",
       "      <th>activity</th>\n",
       "      <th>start</th>\n",
       "      <th>end</th>\n",
       "      <th>type</th>\n",
       "      <th>user</th>\n",
       "      <th>travel_start</th>\n",
       "      <th>travel_end</th>\n",
       "      <th>case</th>\n",
       "      <th>cost</th>\n",
       "      <th>case:concept:name</th>\n",
       "      <th>concept:name</th>\n",
       "      <th>time:timestamp</th>\n",
       "      <th>@@index</th>\n",
       "      <th>@@case_index</th>\n",
       "    </tr>\n",
       "  </thead>\n",
       "  <tbody>\n",
       "    <tr>\n",
       "      <th>0</th>\n",
       "      <td>file travel request</td>\n",
       "      <td>2017-01-17 11:17:00+00:00</td>\n",
       "      <td>2017-01-17 11:23:00+00:00</td>\n",
       "      <td>Employee</td>\n",
       "      <td>JB8510</td>\n",
       "      <td>2017-10-01 00:00:00+00:00</td>\n",
       "      <td>2017-01-15 00:00:00+00:00</td>\n",
       "      <td>105</td>\n",
       "      <td>NaN</td>\n",
       "      <td>105</td>\n",
       "      <td>file travel request</td>\n",
       "      <td>2017-01-17 11:17:00+00:00</td>\n",
       "      <td>0</td>\n",
       "      <td>0</td>\n",
       "    </tr>\n",
       "    <tr>\n",
       "      <th>1</th>\n",
       "      <td>check if travel request needs preliminary pric...</td>\n",
       "      <td>2017-01-17 11:23:00+00:00</td>\n",
       "      <td>2017-01-17 11:24:00+00:00</td>\n",
       "      <td>Employee</td>\n",
       "      <td>JB8510</td>\n",
       "      <td>2017-10-01 00:00:00+00:00</td>\n",
       "      <td>2017-01-15 00:00:00+00:00</td>\n",
       "      <td>105</td>\n",
       "      <td>NaN</td>\n",
       "      <td>105</td>\n",
       "      <td>check if travel request needs preliminary pric...</td>\n",
       "      <td>2017-01-17 11:23:00+00:00</td>\n",
       "      <td>1</td>\n",
       "      <td>0</td>\n",
       "    </tr>\n",
       "    <tr>\n",
       "      <th>2</th>\n",
       "      <td>decide on approval requirements</td>\n",
       "      <td>2017-01-17 11:24:00+00:00</td>\n",
       "      <td>2017-01-17 11:24:00+00:00</td>\n",
       "      <td>Employee</td>\n",
       "      <td>JB8510</td>\n",
       "      <td>2017-10-01 00:00:00+00:00</td>\n",
       "      <td>2017-01-15 00:00:00+00:00</td>\n",
       "      <td>105</td>\n",
       "      <td>NaN</td>\n",
       "      <td>105</td>\n",
       "      <td>decide on approval requirements</td>\n",
       "      <td>2017-01-17 11:24:00+00:00</td>\n",
       "      <td>2</td>\n",
       "      <td>0</td>\n",
       "    </tr>\n",
       "    <tr>\n",
       "      <th>3</th>\n",
       "      <td>check if booking is necessary</td>\n",
       "      <td>2017-01-17 11:24:00+00:00</td>\n",
       "      <td>2017-01-17 11:40:00+00:00</td>\n",
       "      <td>Travel Department</td>\n",
       "      <td>KS9688</td>\n",
       "      <td>2017-10-01 00:00:00+00:00</td>\n",
       "      <td>2017-01-15 00:00:00+00:00</td>\n",
       "      <td>105</td>\n",
       "      <td>NaN</td>\n",
       "      <td>105</td>\n",
       "      <td>check if booking is necessary</td>\n",
       "      <td>2017-01-17 11:24:00+00:00</td>\n",
       "      <td>3</td>\n",
       "      <td>0</td>\n",
       "    </tr>\n",
       "    <tr>\n",
       "      <th>4</th>\n",
       "      <td>check if expense documents exist</td>\n",
       "      <td>2017-01-18 05:59:00+00:00</td>\n",
       "      <td>2017-01-18 06:31:00+00:00</td>\n",
       "      <td>Employee</td>\n",
       "      <td>JB8510</td>\n",
       "      <td>2017-10-01 00:00:00+00:00</td>\n",
       "      <td>2017-01-15 00:00:00+00:00</td>\n",
       "      <td>105</td>\n",
       "      <td>NaN</td>\n",
       "      <td>105</td>\n",
       "      <td>check if expense documents exist</td>\n",
       "      <td>2017-01-18 05:59:00+00:00</td>\n",
       "      <td>4</td>\n",
       "      <td>0</td>\n",
       "    </tr>\n",
       "    <tr>\n",
       "      <th>...</th>\n",
       "      <td>...</td>\n",
       "      <td>...</td>\n",
       "      <td>...</td>\n",
       "      <td>...</td>\n",
       "      <td>...</td>\n",
       "      <td>...</td>\n",
       "      <td>...</td>\n",
       "      <td>...</td>\n",
       "      <td>...</td>\n",
       "      <td>...</td>\n",
       "      <td>...</td>\n",
       "      <td>...</td>\n",
       "      <td>...</td>\n",
       "      <td>...</td>\n",
       "    </tr>\n",
       "    <tr>\n",
       "      <th>55804</th>\n",
       "      <td>confirm travel expense report</td>\n",
       "      <td>2017-11-22 06:48:00+00:00</td>\n",
       "      <td>2017-11-22 06:50:00+00:00</td>\n",
       "      <td>Employee</td>\n",
       "      <td>KI9211</td>\n",
       "      <td>2017-11-19 00:00:00+00:00</td>\n",
       "      <td>2017-11-20 00:00:00+00:00</td>\n",
       "      <td>6348</td>\n",
       "      <td>NaN</td>\n",
       "      <td>6348</td>\n",
       "      <td>confirm travel expense report</td>\n",
       "      <td>2017-11-22 06:48:00+00:00</td>\n",
       "      <td>55804</td>\n",
       "      <td>3353</td>\n",
       "    </tr>\n",
       "    <tr>\n",
       "      <th>55805</th>\n",
       "      <td>decide on travel expense approval</td>\n",
       "      <td>2017-11-22 12:59:00+00:00</td>\n",
       "      <td>2017-11-22 13:06:00+00:00</td>\n",
       "      <td>Manager</td>\n",
       "      <td>AK7488</td>\n",
       "      <td>2017-11-19 00:00:00+00:00</td>\n",
       "      <td>2017-11-20 00:00:00+00:00</td>\n",
       "      <td>6348</td>\n",
       "      <td>NaN</td>\n",
       "      <td>6348</td>\n",
       "      <td>decide on travel expense approval</td>\n",
       "      <td>2017-11-22 12:59:00+00:00</td>\n",
       "      <td>55805</td>\n",
       "      <td>3353</td>\n",
       "    </tr>\n",
       "    <tr>\n",
       "      <th>55806</th>\n",
       "      <td>send original documents to archive</td>\n",
       "      <td>2017-11-29 20:12:00+00:00</td>\n",
       "      <td>2017-11-29 20:24:00+00:00</td>\n",
       "      <td>Employee</td>\n",
       "      <td>KI9211</td>\n",
       "      <td>2017-11-19 00:00:00+00:00</td>\n",
       "      <td>2017-11-20 00:00:00+00:00</td>\n",
       "      <td>6348</td>\n",
       "      <td>NaN</td>\n",
       "      <td>6348</td>\n",
       "      <td>send original documents to archive</td>\n",
       "      <td>2017-11-29 20:12:00+00:00</td>\n",
       "      <td>55806</td>\n",
       "      <td>3353</td>\n",
       "    </tr>\n",
       "    <tr>\n",
       "      <th>55807</th>\n",
       "      <td>calculate payments</td>\n",
       "      <td>2017-12-08 09:32:00+00:00</td>\n",
       "      <td>2017-12-08 09:55:00+00:00</td>\n",
       "      <td>Accounting</td>\n",
       "      <td>FQ3758</td>\n",
       "      <td>2017-11-19 00:00:00+00:00</td>\n",
       "      <td>2017-11-20 00:00:00+00:00</td>\n",
       "      <td>6348</td>\n",
       "      <td>NaN</td>\n",
       "      <td>6348</td>\n",
       "      <td>calculate payments</td>\n",
       "      <td>2017-12-08 09:32:00+00:00</td>\n",
       "      <td>55807</td>\n",
       "      <td>3353</td>\n",
       "    </tr>\n",
       "    <tr>\n",
       "      <th>55808</th>\n",
       "      <td>pay expenses</td>\n",
       "      <td>2017-12-18 08:39:00+00:00</td>\n",
       "      <td>2017-12-18 08:52:00+00:00</td>\n",
       "      <td>Accounting</td>\n",
       "      <td>FQ3758</td>\n",
       "      <td>2017-11-19 00:00:00+00:00</td>\n",
       "      <td>2017-11-20 00:00:00+00:00</td>\n",
       "      <td>6348</td>\n",
       "      <td>NaN</td>\n",
       "      <td>6348</td>\n",
       "      <td>pay expenses</td>\n",
       "      <td>2017-12-18 08:39:00+00:00</td>\n",
       "      <td>55808</td>\n",
       "      <td>3353</td>\n",
       "    </tr>\n",
       "  </tbody>\n",
       "</table>\n",
       "<p>55809 rows × 14 columns</p>\n",
       "</div>"
      ],
      "text/plain": [
       "                                                activity  \\\n",
       "0                                    file travel request   \n",
       "1      check if travel request needs preliminary pric...   \n",
       "2                        decide on approval requirements   \n",
       "3                          check if booking is necessary   \n",
       "4                       check if expense documents exist   \n",
       "...                                                  ...   \n",
       "55804                      confirm travel expense report   \n",
       "55805                  decide on travel expense approval   \n",
       "55806                 send original documents to archive   \n",
       "55807                                 calculate payments   \n",
       "55808                                       pay expenses   \n",
       "\n",
       "                          start                       end               type  \\\n",
       "0     2017-01-17 11:17:00+00:00 2017-01-17 11:23:00+00:00           Employee   \n",
       "1     2017-01-17 11:23:00+00:00 2017-01-17 11:24:00+00:00           Employee   \n",
       "2     2017-01-17 11:24:00+00:00 2017-01-17 11:24:00+00:00           Employee   \n",
       "3     2017-01-17 11:24:00+00:00 2017-01-17 11:40:00+00:00  Travel Department   \n",
       "4     2017-01-18 05:59:00+00:00 2017-01-18 06:31:00+00:00           Employee   \n",
       "...                         ...                       ...                ...   \n",
       "55804 2017-11-22 06:48:00+00:00 2017-11-22 06:50:00+00:00           Employee   \n",
       "55805 2017-11-22 12:59:00+00:00 2017-11-22 13:06:00+00:00            Manager   \n",
       "55806 2017-11-29 20:12:00+00:00 2017-11-29 20:24:00+00:00           Employee   \n",
       "55807 2017-12-08 09:32:00+00:00 2017-12-08 09:55:00+00:00         Accounting   \n",
       "55808 2017-12-18 08:39:00+00:00 2017-12-18 08:52:00+00:00         Accounting   \n",
       "\n",
       "         user              travel_start                travel_end  case  cost  \\\n",
       "0      JB8510 2017-10-01 00:00:00+00:00 2017-01-15 00:00:00+00:00   105   NaN   \n",
       "1      JB8510 2017-10-01 00:00:00+00:00 2017-01-15 00:00:00+00:00   105   NaN   \n",
       "2      JB8510 2017-10-01 00:00:00+00:00 2017-01-15 00:00:00+00:00   105   NaN   \n",
       "3      KS9688 2017-10-01 00:00:00+00:00 2017-01-15 00:00:00+00:00   105   NaN   \n",
       "4      JB8510 2017-10-01 00:00:00+00:00 2017-01-15 00:00:00+00:00   105   NaN   \n",
       "...       ...                       ...                       ...   ...   ...   \n",
       "55804  KI9211 2017-11-19 00:00:00+00:00 2017-11-20 00:00:00+00:00  6348   NaN   \n",
       "55805  AK7488 2017-11-19 00:00:00+00:00 2017-11-20 00:00:00+00:00  6348   NaN   \n",
       "55806  KI9211 2017-11-19 00:00:00+00:00 2017-11-20 00:00:00+00:00  6348   NaN   \n",
       "55807  FQ3758 2017-11-19 00:00:00+00:00 2017-11-20 00:00:00+00:00  6348   NaN   \n",
       "55808  FQ3758 2017-11-19 00:00:00+00:00 2017-11-20 00:00:00+00:00  6348   NaN   \n",
       "\n",
       "      case:concept:name                                       concept:name  \\\n",
       "0                   105                                file travel request   \n",
       "1                   105  check if travel request needs preliminary pric...   \n",
       "2                   105                    decide on approval requirements   \n",
       "3                   105                      check if booking is necessary   \n",
       "4                   105                   check if expense documents exist   \n",
       "...                 ...                                                ...   \n",
       "55804              6348                      confirm travel expense report   \n",
       "55805              6348                  decide on travel expense approval   \n",
       "55806              6348                 send original documents to archive   \n",
       "55807              6348                                 calculate payments   \n",
       "55808              6348                                       pay expenses   \n",
       "\n",
       "                 time:timestamp  @@index  @@case_index  \n",
       "0     2017-01-17 11:17:00+00:00        0             0  \n",
       "1     2017-01-17 11:23:00+00:00        1             0  \n",
       "2     2017-01-17 11:24:00+00:00        2             0  \n",
       "3     2017-01-17 11:24:00+00:00        3             0  \n",
       "4     2017-01-18 05:59:00+00:00        4             0  \n",
       "...                         ...      ...           ...  \n",
       "55804 2017-11-22 06:48:00+00:00    55804          3353  \n",
       "55805 2017-11-22 12:59:00+00:00    55805          3353  \n",
       "55806 2017-11-29 20:12:00+00:00    55806          3353  \n",
       "55807 2017-12-08 09:32:00+00:00    55807          3353  \n",
       "55808 2017-12-18 08:39:00+00:00    55808          3353  \n",
       "\n",
       "[55809 rows x 14 columns]"
      ]
     },
     "execution_count": 1,
     "metadata": {},
     "output_type": "execute_result"
    }
   ],
   "source": [
    "import pandas as pd\n",
    "import numpy as np\n",
    "import pm4py\n",
    "from pm4py.objects.conversion.log import converter as log_converter\n",
    "\n",
    "\n",
    "if __name__ == \"__main__\":\n",
    "    # Read the CSV file\n",
    "    dataframe_log = pd.read_csv('../../data/logs/mobis.csv', sep=',')  \n",
    "\n",
    "    # Drop the first column without knowing its name\n",
    "    dataframe_log = dataframe_log.drop(dataframe_log.columns[0], axis=1)\n",
    "\n",
    "    # Format the dataframe\n",
    "    dataframe_log = pm4py.format_dataframe(\n",
    "        dataframe_log, \n",
    "        case_id='case', \n",
    "        activity_key='activity', \n",
    "        timestamp_key='start'\n",
    "    )\n",
    "\n",
    "    # Convert the dataframe to event log\n",
    "    log = log_converter.apply(dataframe_log)\n",
    "    \n",
    "dataframe_log"
   ]
  },
  {
   "cell_type": "markdown",
   "metadata": {},
   "source": [
    "# Drop unnessary columns"
   ]
  },
  {
   "cell_type": "code",
   "execution_count": 2,
   "metadata": {},
   "outputs": [],
   "source": [
    "dataframe_log = dataframe_log.drop(columns=['case'])"
   ]
  },
  {
   "cell_type": "code",
   "execution_count": 3,
   "metadata": {},
   "outputs": [],
   "source": [
    "dataframe_log = dataframe_log.drop(columns=['cost'])"
   ]
  },
  {
   "cell_type": "code",
   "execution_count": 4,
   "metadata": {},
   "outputs": [],
   "source": [
    "dataframe_log = dataframe_log.drop(columns=['case:concept:name'])"
   ]
  },
  {
   "cell_type": "code",
   "execution_count": 5,
   "metadata": {},
   "outputs": [],
   "source": [
    "dataframe_log = dataframe_log.drop(columns=['concept:name'])"
   ]
  },
  {
   "cell_type": "code",
   "execution_count": 6,
   "metadata": {},
   "outputs": [],
   "source": [
    "dataframe_log = dataframe_log.drop(columns=['@@index'])"
   ]
  },
  {
   "cell_type": "code",
   "execution_count": 7,
   "metadata": {},
   "outputs": [],
   "source": [
    "dataframe_log = dataframe_log.drop(columns=['travel_start'])"
   ]
  },
  {
   "cell_type": "code",
   "execution_count": 8,
   "metadata": {},
   "outputs": [],
   "source": [
    "dataframe_log = dataframe_log.drop(columns=['travel_end'])"
   ]
  },
  {
   "cell_type": "code",
   "execution_count": 9,
   "metadata": {},
   "outputs": [],
   "source": [
    "dataframe_log = dataframe_log.drop(columns=['start'])"
   ]
  },
  {
   "cell_type": "code",
   "execution_count": 10,
   "metadata": {},
   "outputs": [],
   "source": [
    "dataframe_log = dataframe_log.drop(columns=['end'])"
   ]
  },
  {
   "cell_type": "code",
   "execution_count": 11,
   "metadata": {},
   "outputs": [],
   "source": [
    "from sklearn.preprocessing import StandardScaler\n",
    "\n",
    "# Convert to datetime format\n",
    "dataframe_log['time:timestamp'] = pd.to_datetime(dataframe_log['time:timestamp'])\n",
    "\n",
    "# Calculate elapsed time since the start of each case\n",
    "dataframe_log['start_time'] = dataframe_log.groupby('@@case_index')['time:timestamp'].transform('min')\n",
    "dataframe_log['elapsed_time'] = (dataframe_log['time:timestamp'] - dataframe_log['start_time']).dt.total_seconds()\n",
    "\n",
    "# Normalize the elapsed time in minutes\n",
    "scaler = StandardScaler()\n",
    "dataframe_log['standardized_elapsed_time'] = scaler.fit_transform(dataframe_log[['elapsed_time']])\n",
    "\n",
    "dataframe_log = dataframe_log.drop(columns=['start_time'])\n",
    "dataframe_log = dataframe_log.drop(columns=['elapsed_time'])\n",
    "dataframe_log = dataframe_log.drop(columns=['time:timestamp'])"
   ]
  },
  {
   "cell_type": "code",
   "execution_count": 12,
   "metadata": {},
   "outputs": [
    {
     "data": {
      "text/html": [
       "<div>\n",
       "<style scoped>\n",
       "    .dataframe tbody tr th:only-of-type {\n",
       "        vertical-align: middle;\n",
       "    }\n",
       "\n",
       "    .dataframe tbody tr th {\n",
       "        vertical-align: top;\n",
       "    }\n",
       "\n",
       "    .dataframe thead th {\n",
       "        text-align: right;\n",
       "    }\n",
       "</style>\n",
       "<table border=\"1\" class=\"dataframe\">\n",
       "  <thead>\n",
       "    <tr style=\"text-align: right;\">\n",
       "      <th></th>\n",
       "      <th>activity</th>\n",
       "      <th>type</th>\n",
       "      <th>user</th>\n",
       "      <th>@@case_index</th>\n",
       "      <th>standardized_elapsed_time</th>\n",
       "    </tr>\n",
       "  </thead>\n",
       "  <tbody>\n",
       "    <tr>\n",
       "      <th>0</th>\n",
       "      <td>file travel request</td>\n",
       "      <td>Employee</td>\n",
       "      <td>JB8510</td>\n",
       "      <td>0</td>\n",
       "      <td>-1.160944</td>\n",
       "    </tr>\n",
       "    <tr>\n",
       "      <th>1</th>\n",
       "      <td>check if travel request needs preliminary pric...</td>\n",
       "      <td>Employee</td>\n",
       "      <td>JB8510</td>\n",
       "      <td>0</td>\n",
       "      <td>-1.160857</td>\n",
       "    </tr>\n",
       "    <tr>\n",
       "      <th>2</th>\n",
       "      <td>decide on approval requirements</td>\n",
       "      <td>Employee</td>\n",
       "      <td>JB8510</td>\n",
       "      <td>0</td>\n",
       "      <td>-1.160842</td>\n",
       "    </tr>\n",
       "    <tr>\n",
       "      <th>3</th>\n",
       "      <td>check if booking is necessary</td>\n",
       "      <td>Travel Department</td>\n",
       "      <td>KS9688</td>\n",
       "      <td>0</td>\n",
       "      <td>-1.160842</td>\n",
       "    </tr>\n",
       "    <tr>\n",
       "      <th>4</th>\n",
       "      <td>check if expense documents exist</td>\n",
       "      <td>Employee</td>\n",
       "      <td>JB8510</td>\n",
       "      <td>0</td>\n",
       "      <td>-1.144594</td>\n",
       "    </tr>\n",
       "    <tr>\n",
       "      <th>...</th>\n",
       "      <td>...</td>\n",
       "      <td>...</td>\n",
       "      <td>...</td>\n",
       "      <td>...</td>\n",
       "      <td>...</td>\n",
       "    </tr>\n",
       "    <tr>\n",
       "      <th>55804</th>\n",
       "      <td>confirm travel expense report</td>\n",
       "      <td>Employee</td>\n",
       "      <td>KI9211</td>\n",
       "      <td>3353</td>\n",
       "      <td>-0.742182</td>\n",
       "    </tr>\n",
       "    <tr>\n",
       "      <th>55805</th>\n",
       "      <td>decide on travel expense approval</td>\n",
       "      <td>Manager</td>\n",
       "      <td>AK7488</td>\n",
       "      <td>3353</td>\n",
       "      <td>-0.736776</td>\n",
       "    </tr>\n",
       "    <tr>\n",
       "      <th>55806</th>\n",
       "      <td>send original documents to archive</td>\n",
       "      <td>Employee</td>\n",
       "      <td>KI9211</td>\n",
       "      <td>3353</td>\n",
       "      <td>-0.583572</td>\n",
       "    </tr>\n",
       "    <tr>\n",
       "      <th>55807</th>\n",
       "      <td>calculate payments</td>\n",
       "      <td>Accounting</td>\n",
       "      <td>FQ3758</td>\n",
       "      <td>3353</td>\n",
       "      <td>-0.404036</td>\n",
       "    </tr>\n",
       "    <tr>\n",
       "      <th>55808</th>\n",
       "      <td>pay expenses</td>\n",
       "      <td>Accounting</td>\n",
       "      <td>FQ3758</td>\n",
       "      <td>3353</td>\n",
       "      <td>-0.194961</td>\n",
       "    </tr>\n",
       "  </tbody>\n",
       "</table>\n",
       "<p>55809 rows × 5 columns</p>\n",
       "</div>"
      ],
      "text/plain": [
       "                                                activity               type  \\\n",
       "0                                    file travel request           Employee   \n",
       "1      check if travel request needs preliminary pric...           Employee   \n",
       "2                        decide on approval requirements           Employee   \n",
       "3                          check if booking is necessary  Travel Department   \n",
       "4                       check if expense documents exist           Employee   \n",
       "...                                                  ...                ...   \n",
       "55804                      confirm travel expense report           Employee   \n",
       "55805                  decide on travel expense approval            Manager   \n",
       "55806                 send original documents to archive           Employee   \n",
       "55807                                 calculate payments         Accounting   \n",
       "55808                                       pay expenses         Accounting   \n",
       "\n",
       "         user  @@case_index  standardized_elapsed_time  \n",
       "0      JB8510             0                  -1.160944  \n",
       "1      JB8510             0                  -1.160857  \n",
       "2      JB8510             0                  -1.160842  \n",
       "3      KS9688             0                  -1.160842  \n",
       "4      JB8510             0                  -1.144594  \n",
       "...       ...           ...                        ...  \n",
       "55804  KI9211          3353                  -0.742182  \n",
       "55805  AK7488          3353                  -0.736776  \n",
       "55806  KI9211          3353                  -0.583572  \n",
       "55807  FQ3758          3353                  -0.404036  \n",
       "55808  FQ3758          3353                  -0.194961  \n",
       "\n",
       "[55809 rows x 5 columns]"
      ]
     },
     "execution_count": 12,
     "metadata": {},
     "output_type": "execute_result"
    }
   ],
   "source": [
    "dataframe_log"
   ]
  },
  {
   "cell_type": "markdown",
   "metadata": {},
   "source": [
    "# Insert Start & End markers"
   ]
  },
  {
   "cell_type": "code",
   "execution_count": 13,
   "metadata": {},
   "outputs": [],
   "source": [
    "# Define a function to insert start and end markers\n",
    "def add_markers(df):\n",
    "    # Identify unique case indices\n",
    "    case_indices = df['@@case_index'].unique()\n",
    "    \n",
    "    # Prepare a container for new DataFrame rows\n",
    "    new_rows = []\n",
    "    \n",
    "    # Iterate over each case index to add start and end markers\n",
    "    for case_index in case_indices:\n",
    "        # Create a start marker row with all columns except @@case_index set to 'Start'\n",
    "        start_row = {col: 'Start' if col != '@@case_index' else case_index for col in df.columns}\n",
    "        \n",
    "        # Create an end marker row with all columns except @@case_index set to 'End'\n",
    "        end_row = {col: 'End' if col != '@@case_index' else case_index for col in df.columns}\n",
    "        \n",
    "        # Append start row, rows for the current case, and end row\n",
    "        new_rows.append(start_row)\n",
    "        new_rows.extend(df[df['@@case_index'] == case_index].to_dict('records'))\n",
    "        new_rows.append(end_row)\n",
    "    \n",
    "    # Convert the list of rows into a DataFrame\n",
    "    return pd.DataFrame(new_rows)\n",
    "\n",
    "# Apply the function to add start and end markers to the dataframe\n",
    "modified_dataframe = add_markers(dataframe_log)"
   ]
  },
  {
   "cell_type": "markdown",
   "metadata": {},
   "source": [
    "# Preprocess"
   ]
  },
  {
   "cell_type": "code",
   "execution_count": 14,
   "metadata": {},
   "outputs": [],
   "source": [
    "modified_dataframe['standardized_elapsed_time'] = modified_dataframe['standardized_elapsed_time'].replace({'Start': 0, 'End': 1})"
   ]
  },
  {
   "cell_type": "code",
   "execution_count": 15,
   "metadata": {},
   "outputs": [],
   "source": [
    "codes, uniques = pd.factorize(modified_dataframe['activity'])\n",
    "modified_dataframe['activity'] = codes"
   ]
  },
  {
   "cell_type": "code",
   "execution_count": 16,
   "metadata": {},
   "outputs": [],
   "source": [
    "# Fill NaN values with a placeholder before factorization\n",
    "modified_dataframe['type'].fillna('missing', inplace=True)\n",
    "\n",
    "# Factorize the 'type' column\n",
    "codes, uniques = pd.factorize(modified_dataframe['type'])\n",
    "modified_dataframe['type'] = codes"
   ]
  },
  {
   "cell_type": "code",
   "execution_count": 17,
   "metadata": {},
   "outputs": [],
   "source": [
    "# Fill NaN values with a placeholder before factorization\n",
    "modified_dataframe['user'].fillna('missing', inplace=True)\n",
    "\n",
    "# Factorize the 'type' column\n",
    "codes, uniques = pd.factorize(modified_dataframe['user'])\n",
    "modified_dataframe['user'] = codes"
   ]
  },
  {
   "cell_type": "code",
   "execution_count": 18,
   "metadata": {},
   "outputs": [
    {
     "data": {
      "text/html": [
       "<div>\n",
       "<style scoped>\n",
       "    .dataframe tbody tr th:only-of-type {\n",
       "        vertical-align: middle;\n",
       "    }\n",
       "\n",
       "    .dataframe tbody tr th {\n",
       "        vertical-align: top;\n",
       "    }\n",
       "\n",
       "    .dataframe thead th {\n",
       "        text-align: right;\n",
       "    }\n",
       "</style>\n",
       "<table border=\"1\" class=\"dataframe\">\n",
       "  <thead>\n",
       "    <tr style=\"text-align: right;\">\n",
       "      <th></th>\n",
       "      <th>activity</th>\n",
       "      <th>type</th>\n",
       "      <th>user</th>\n",
       "      <th>@@case_index</th>\n",
       "      <th>standardized_elapsed_time</th>\n",
       "    </tr>\n",
       "  </thead>\n",
       "  <tbody>\n",
       "    <tr>\n",
       "      <th>0</th>\n",
       "      <td>0</td>\n",
       "      <td>0</td>\n",
       "      <td>0</td>\n",
       "      <td>0</td>\n",
       "      <td>0.000000</td>\n",
       "    </tr>\n",
       "    <tr>\n",
       "      <th>1</th>\n",
       "      <td>1</td>\n",
       "      <td>1</td>\n",
       "      <td>1</td>\n",
       "      <td>0</td>\n",
       "      <td>-1.160944</td>\n",
       "    </tr>\n",
       "    <tr>\n",
       "      <th>2</th>\n",
       "      <td>2</td>\n",
       "      <td>1</td>\n",
       "      <td>1</td>\n",
       "      <td>0</td>\n",
       "      <td>-1.160857</td>\n",
       "    </tr>\n",
       "    <tr>\n",
       "      <th>3</th>\n",
       "      <td>3</td>\n",
       "      <td>1</td>\n",
       "      <td>1</td>\n",
       "      <td>0</td>\n",
       "      <td>-1.160842</td>\n",
       "    </tr>\n",
       "    <tr>\n",
       "      <th>4</th>\n",
       "      <td>4</td>\n",
       "      <td>2</td>\n",
       "      <td>2</td>\n",
       "      <td>0</td>\n",
       "      <td>-1.160842</td>\n",
       "    </tr>\n",
       "    <tr>\n",
       "      <th>...</th>\n",
       "      <td>...</td>\n",
       "      <td>...</td>\n",
       "      <td>...</td>\n",
       "      <td>...</td>\n",
       "      <td>...</td>\n",
       "    </tr>\n",
       "    <tr>\n",
       "      <th>62512</th>\n",
       "      <td>9</td>\n",
       "      <td>3</td>\n",
       "      <td>54</td>\n",
       "      <td>3353</td>\n",
       "      <td>-0.736776</td>\n",
       "    </tr>\n",
       "    <tr>\n",
       "      <th>62513</th>\n",
       "      <td>10</td>\n",
       "      <td>1</td>\n",
       "      <td>334</td>\n",
       "      <td>3353</td>\n",
       "      <td>-0.583572</td>\n",
       "    </tr>\n",
       "    <tr>\n",
       "      <th>62514</th>\n",
       "      <td>11</td>\n",
       "      <td>4</td>\n",
       "      <td>60</td>\n",
       "      <td>3353</td>\n",
       "      <td>-0.404036</td>\n",
       "    </tr>\n",
       "    <tr>\n",
       "      <th>62515</th>\n",
       "      <td>12</td>\n",
       "      <td>4</td>\n",
       "      <td>60</td>\n",
       "      <td>3353</td>\n",
       "      <td>-0.194961</td>\n",
       "    </tr>\n",
       "    <tr>\n",
       "      <th>62516</th>\n",
       "      <td>13</td>\n",
       "      <td>5</td>\n",
       "      <td>5</td>\n",
       "      <td>3353</td>\n",
       "      <td>1.000000</td>\n",
       "    </tr>\n",
       "  </tbody>\n",
       "</table>\n",
       "<p>62517 rows × 5 columns</p>\n",
       "</div>"
      ],
      "text/plain": [
       "       activity  type  user  @@case_index  standardized_elapsed_time\n",
       "0             0     0     0             0                   0.000000\n",
       "1             1     1     1             0                  -1.160944\n",
       "2             2     1     1             0                  -1.160857\n",
       "3             3     1     1             0                  -1.160842\n",
       "4             4     2     2             0                  -1.160842\n",
       "...         ...   ...   ...           ...                        ...\n",
       "62512         9     3    54          3353                  -0.736776\n",
       "62513        10     1   334          3353                  -0.583572\n",
       "62514        11     4    60          3353                  -0.404036\n",
       "62515        12     4    60          3353                  -0.194961\n",
       "62516        13     5     5          3353                   1.000000\n",
       "\n",
       "[62517 rows x 5 columns]"
      ]
     },
     "execution_count": 18,
     "metadata": {},
     "output_type": "execute_result"
    }
   ],
   "source": [
    "modified_dataframe"
   ]
  },
  {
   "cell_type": "markdown",
   "metadata": {},
   "source": [
    "### Padding for Cases with less then 5 events"
   ]
  },
  {
   "cell_type": "code",
   "execution_count": 19,
   "metadata": {},
   "outputs": [
    {
     "data": {
      "text/plain": [
       "13"
      ]
     },
     "execution_count": 19,
     "metadata": {},
     "output_type": "execute_result"
    }
   ],
   "source": [
    "# Calculating the frequency of each unique value in '@@case_index'\n",
    "frequency = modified_dataframe['@@case_index'].value_counts()\n",
    "\n",
    "# Finding the minimum occurrence\n",
    "min_occurrence = frequency.min()\n",
    "\n",
    "min_occurrence"
   ]
  },
  {
   "cell_type": "code",
   "execution_count": 20,
   "metadata": {},
   "outputs": [
    {
     "data": {
      "text/plain": [
       "' # Assuming your dataframe might have different types, let\\'s create a generic function to add rows\\ndef add_rows(group, num_rows, case_index_value):\\n    # For each column, determine the appropriate \"zero\" value (int 0, string \\'\\', etc.)\\n    additional_rows = pd.DataFrame({\\n        column: 0 if pd.api.types.is_numeric_dtype(group[column]) else \\'\\' for column in group.columns\\n    }, index=range(num_rows))\\n    \\n    # Set the @@case_index column to the current case index value\\n    additional_rows[\\'@@case_index\\'] = case_index_value\\n    \\n    # Append the additional rows to the group\\n    return pd.concat([group, additional_rows], ignore_index=True)\\n\\n# Function to pad cases with less than 5 events\\ndef pad_cases(df):\\n    # Group by @@case_index\\n    groups = df.groupby(\\'@@case_index\\')\\n    \\n    # Placeholder for modified groups\\n    modified_groups = []\\n    \\n    for name, group in groups:\\n        # Calculate the number of events to add\\n        events_to_add = 5 - len(group)\\n        \\n        if events_to_add > 0:\\n            # Add the required number of rows\\n            group = add_rows(group, events_to_add, name)\\n        \\n        # Append the modified group to the list\\n        modified_groups.append(group)\\n    \\n    # Concatenate all modified groups back into a single DataFrame\\n    return pd.concat(modified_groups, ignore_index=True)  '"
      ]
     },
     "execution_count": 20,
     "metadata": {},
     "output_type": "execute_result"
    }
   ],
   "source": [
    "\"\"\" # Assuming your dataframe might have different types, let's create a generic function to add rows\n",
    "def add_rows(group, num_rows, case_index_value):\n",
    "    # For each column, determine the appropriate \"zero\" value (int 0, string '', etc.)\n",
    "    additional_rows = pd.DataFrame({\n",
    "        column: 0 if pd.api.types.is_numeric_dtype(group[column]) else '' for column in group.columns\n",
    "    }, index=range(num_rows))\n",
    "    \n",
    "    # Set the @@case_index column to the current case index value\n",
    "    additional_rows['@@case_index'] = case_index_value\n",
    "    \n",
    "    # Append the additional rows to the group\n",
    "    return pd.concat([group, additional_rows], ignore_index=True)\n",
    "\n",
    "# Function to pad cases with less than 5 events\n",
    "def pad_cases(df):\n",
    "    # Group by @@case_index\n",
    "    groups = df.groupby('@@case_index')\n",
    "    \n",
    "    # Placeholder for modified groups\n",
    "    modified_groups = []\n",
    "    \n",
    "    for name, group in groups:\n",
    "        # Calculate the number of events to add\n",
    "        events_to_add = 5 - len(group)\n",
    "        \n",
    "        if events_to_add > 0:\n",
    "            # Add the required number of rows\n",
    "            group = add_rows(group, events_to_add, name)\n",
    "        \n",
    "        # Append the modified group to the list\n",
    "        modified_groups.append(group)\n",
    "    \n",
    "    # Concatenate all modified groups back into a single DataFrame\n",
    "    return pd.concat(modified_groups, ignore_index=True)  \"\"\""
   ]
  },
  {
   "cell_type": "code",
   "execution_count": 21,
   "metadata": {},
   "outputs": [
    {
     "data": {
      "text/plain": [
       "' # Apply the padding function\\nmodified_dataframe = pad_cases(modified_dataframe)\\nmodified_dataframe '"
      ]
     },
     "execution_count": 21,
     "metadata": {},
     "output_type": "execute_result"
    }
   ],
   "source": [
    "\"\"\" # Apply the padding function\n",
    "modified_dataframe = pad_cases(modified_dataframe)\n",
    "modified_dataframe \"\"\""
   ]
  },
  {
   "cell_type": "markdown",
   "metadata": {},
   "source": [
    "# Generate sliding windows"
   ]
  },
  {
   "cell_type": "code",
   "execution_count": 22,
   "metadata": {},
   "outputs": [],
   "source": [
    "df_activity = modified_dataframe[['activity', '@@case_index']]\n",
    "df_type = modified_dataframe[['type', '@@case_index']]\n",
    "df_user = modified_dataframe[['user', '@@case_index']]\n",
    "df_timestamp = modified_dataframe[['standardized_elapsed_time', '@@case_index']]"
   ]
  },
  {
   "cell_type": "code",
   "execution_count": 23,
   "metadata": {},
   "outputs": [],
   "source": [
    "def generate_sliding_windows(df, case_id_column='@@case_index', window_size=5):\n",
    "    windows = []\n",
    "    targets = []\n",
    "    case_indices = []\n",
    "\n",
    "    # Iterate over each unique case\n",
    "    for case_id in df[case_id_column].unique():\n",
    "        # Extract the case\n",
    "        case_data = df[df[case_id_column] == case_id]\n",
    "        \n",
    "        # Convert case_data to a NumPy array and drop the case_id_column\n",
    "        case_data_array = case_data.drop(columns=[case_id_column]).to_numpy()\n",
    "\n",
    "        # Adjusting the condition to correctly reflect window_size without needing an additional +1\n",
    "        # Now it correctly considers window_size as including the target event\n",
    "        if len(case_data_array) >= window_size:\n",
    "            # Adjust the loop to generate sliding windows of size window_size - 1 for the inputs and use the next event as the target\n",
    "            for i in range(len(case_data_array) - window_size + 1):\n",
    "                # window now has window_size - 1 events\n",
    "                window = case_data_array[i:i + window_size - 1]\n",
    "                # The target is the event immediately following the window\n",
    "                target = case_data_array[i + window_size - 1]\n",
    "                windows.append(window)\n",
    "                targets.append(target)\n",
    "                case_indices.append(case_id)  # Store the case_id corresponding to the window\n",
    "\n",
    "    # Convert lists to numpy arrays for easier handling and to ensure they are two-dimensional\n",
    "    windows_array = np.array(windows)\n",
    "    targets_array = np.array(targets)\n",
    "    case_indices_array = np.array(case_indices)\n",
    "    \n",
    "    return windows_array, targets_array, case_indices_array"
   ]
  },
  {
   "cell_type": "code",
   "execution_count": 24,
   "metadata": {},
   "outputs": [],
   "source": [
    "windows_activity, targets_activity, case_indices = generate_sliding_windows(df_activity)\n",
    "windows_type, targets_type, case_indices = generate_sliding_windows(df_type)\n",
    "windows_user, targets_user, case_indices = generate_sliding_windows(df_user)\n",
    "windows_timestamp, targets_timestamp, case_indices = generate_sliding_windows(df_timestamp)"
   ]
  },
  {
   "cell_type": "markdown",
   "metadata": {},
   "source": [
    "# LSTM"
   ]
  },
  {
   "cell_type": "markdown",
   "metadata": {},
   "source": [
    "### Architecture"
   ]
  },
  {
   "cell_type": "code",
   "execution_count": 25,
   "metadata": {},
   "outputs": [
    {
     "name": "stderr",
     "output_type": "stream",
     "text": [
      "2024-08-19 22:12:39.444306: I tensorflow/core/platform/cpu_feature_guard.cc:182] This TensorFlow binary is optimized to use available CPU instructions in performance-critical operations.\n",
      "To enable the following instructions: AVX2 FMA, in other operations, rebuild TensorFlow with the appropriate compiler flags.\n"
     ]
    },
    {
     "name": "stdout",
     "output_type": "stream",
     "text": [
      "Model: \"model\"\n",
      "__________________________________________________________________________________________________\n",
      " Layer (type)                Output Shape                 Param #   Connected to                  \n",
      "==================================================================================================\n",
      " input_user (InputLayer)     [(None, 4)]                  0         []                            \n",
      "                                                                                                  \n",
      " input_activity (InputLayer  [(None, 4)]                  0         []                            \n",
      " )                                                                                                \n",
      "                                                                                                  \n",
      " input_type (InputLayer)     [(None, 4)]                  0         []                            \n",
      "                                                                                                  \n",
      " embedding (Embedding)       (None, 4, 50)                16800     ['input_user[0][0]']          \n",
      "                                                                                                  \n",
      " embedding_1 (Embedding)     (None, 4, 50)                1400      ['input_activity[0][0]']      \n",
      "                                                                                                  \n",
      " embedding_2 (Embedding)     (None, 4, 50)                350       ['input_type[0][0]']          \n",
      "                                                                                                  \n",
      " input_timestamp (InputLaye  [(None, 4, 1)]               0         []                            \n",
      " r)                                                                                               \n",
      "                                                                                                  \n",
      " lstm (LSTM)                 (None, 25)                   7600      ['embedding[0][0]']           \n",
      "                                                                                                  \n",
      " lstm_1 (LSTM)               (None, 25)                   7600      ['embedding_1[0][0]']         \n",
      "                                                                                                  \n",
      " lstm_2 (LSTM)               (None, 25)                   7600      ['embedding_2[0][0]']         \n",
      "                                                                                                  \n",
      " lstm_3 (LSTM)               (None, 25)                   2700      ['input_timestamp[0][0]']     \n",
      "                                                                                                  \n",
      " concatenate (Concatenate)   (None, 100)                  0         ['lstm[0][0]',                \n",
      "                                                                     'lstm_1[0][0]',              \n",
      "                                                                     'lstm_2[0][0]',              \n",
      "                                                                     'lstm_3[0][0]']              \n",
      "                                                                                                  \n",
      " output_user (Dense)         (None, 336)                  33936     ['concatenate[0][0]']         \n",
      "                                                                                                  \n",
      " output_activity (Dense)     (None, 28)                   2828      ['concatenate[0][0]']         \n",
      "                                                                                                  \n",
      " output_type (Dense)         (None, 7)                    707       ['concatenate[0][0]']         \n",
      "                                                                                                  \n",
      " output_timestamp (Dense)    (None, 1)                    101       ['concatenate[0][0]']         \n",
      "                                                                                                  \n",
      "==================================================================================================\n",
      "Total params: 81622 (318.84 KB)\n",
      "Trainable params: 81622 (318.84 KB)\n",
      "Non-trainable params: 0 (0.00 Byte)\n",
      "__________________________________________________________________________________________________\n"
     ]
    }
   ],
   "source": [
    "from tensorflow.keras.models import Model\n",
    "from tensorflow.keras.layers import Input, LSTM, Dense, Concatenate, Embedding\n",
    "\n",
    "# Assuming these values as placeholders, replace them with actual counts from your data\n",
    "num_users = modified_dataframe['user'].nunique()\n",
    "num_activities = modified_dataframe['activity'].nunique()\n",
    "num_types = modified_dataframe['type'].nunique()\n",
    "\n",
    "embedding_dim_user = 50\n",
    "embedding_dim_activity = 50\n",
    "embedding_dim_type = 50\n",
    "\n",
    "time_steps = 4\n",
    "\n",
    "# Input layers\n",
    "input_user = Input(shape=(time_steps,), name='input_user')\n",
    "input_activity = Input(shape=(time_steps,), name='input_activity')\n",
    "input_type = Input(shape=(time_steps,), name='input_type')\n",
    "input_timestamp = Input(shape=(time_steps, 1), name='input_timestamp')\n",
    "\n",
    "# Embedding layers\n",
    "embedding_user = Embedding(input_dim=num_users, output_dim=embedding_dim_user, input_length=time_steps)(input_user)\n",
    "embedding_activity = Embedding(input_dim=num_activities, output_dim=embedding_dim_activity, input_length=time_steps)(input_activity)\n",
    "embedding_type = Embedding(input_dim=num_types, output_dim=embedding_dim_type, input_length=time_steps)(input_type)\n",
    "\n",
    "# LSTM layers\n",
    "lstm_user = LSTM(25, return_sequences=False)(embedding_user)\n",
    "lstm_activity = LSTM(25, return_sequences=False)(embedding_activity)\n",
    "lstm_type = LSTM(25, return_sequences=False)(embedding_type)\n",
    "lstm_timestamp = LSTM(25, return_sequences=False)(input_timestamp)\n",
    "\n",
    "# Concatenate outputs\n",
    "concatenated = Concatenate(axis=-1)([lstm_user, lstm_activity, lstm_type, lstm_timestamp])\n",
    "\n",
    "# Output layers\n",
    "output_user = Dense(num_users, activation='softmax', name='output_user')(concatenated)\n",
    "output_activity = Dense(num_activities, activation='softmax', name='output_activity')(concatenated)\n",
    "output_type = Dense(num_types, activation='softmax', name='output_type')(concatenated)\n",
    "output_timestamp = Dense(1, activation='linear', name='output_timestamp')(concatenated)\n",
    "\n",
    "# Create and compile the model\n",
    "model = Model(inputs=[input_user, input_activity, input_type, input_timestamp], \n",
    "              outputs=[output_user, output_activity, output_type, output_timestamp])\n",
    "\n",
    "model.compile(optimizer='adam', \n",
    "              loss={'output_user': 'categorical_crossentropy', \n",
    "                    'output_activity': 'categorical_crossentropy', \n",
    "                    'output_type': 'categorical_crossentropy', \n",
    "                    'output_timestamp': 'mean_squared_error'},\n",
    "              metrics={'output_user': 'accuracy', \n",
    "                       'output_activity': 'accuracy', \n",
    "                       'output_type': 'accuracy', \n",
    "                       'output_timestamp': 'mean_absolute_error'})\n",
    "\n",
    "model.summary()"
   ]
  },
  {
   "cell_type": "markdown",
   "metadata": {},
   "source": [
    "# Data Splitting"
   ]
  },
  {
   "cell_type": "code",
   "execution_count": 26,
   "metadata": {},
   "outputs": [],
   "source": [
    "from sklearn.model_selection import train_test_split\n",
    "\n",
    "# Assuming the data is stored in variables named windows_user, windows_activity, windows_type, windows_timestamp\n",
    "# and their corresponding targets are targets_user, targets_activity, targets_type, targets_timestamp\n",
    "\n",
    "# Split data for user\n",
    "train_user, test_user, train_targets_user, test_targets_user = train_test_split(\n",
    "    windows_user, targets_user, test_size=0.3, random_state=42)\n",
    "\n",
    "# Split data for activity\n",
    "train_activity, test_activity, train_targets_activity, test_targets_activity = train_test_split(\n",
    "    windows_activity, targets_activity, test_size=0.3, random_state=42)\n",
    "\n",
    "# Split data for type\n",
    "train_type, test_type, train_targets_type, test_targets_type = train_test_split(\n",
    "    windows_type, targets_type, test_size=0.3, random_state=42)\n",
    "\n",
    "# Split data for timestamp\n",
    "train_timestamp, test_timestamp, train_targets_timestamp, test_targets_timestamp = train_test_split(\n",
    "    windows_timestamp, targets_timestamp, test_size=0.3, random_state=42)"
   ]
  },
  {
   "cell_type": "markdown",
   "metadata": {},
   "source": [
    "# Training"
   ]
  },
  {
   "cell_type": "code",
   "execution_count": 27,
   "metadata": {},
   "outputs": [],
   "source": [
    "from tensorflow.keras.callbacks import EarlyStopping\n",
    "from tensorflow.keras.callbacks import LearningRateScheduler\n",
    "\n",
    "# EarlyStopping callback\n",
    "early_stopping = EarlyStopping(monitor='val_loss', patience=3, restore_best_weights=True)\n",
    "\n",
    "def cyclic_lr(epoch, lr):\n",
    "    # Example function that modulates LR within a range for each epoch\n",
    "    # Customize this function based on your cyclic learning rate policy\n",
    "    max_lr = 0.01  # Maximum LR\n",
    "    base_lr = 0.001  # Base LR\n",
    "    step_size = 10  # Number of epochs for half a cycle\n",
    "    cycle = np.floor(1 + epoch / (2 * step_size))\n",
    "    x = np.abs(epoch / step_size - 2 * cycle + 1)\n",
    "    lr = base_lr + (max_lr - base_lr) * np.maximum(0, (1 - x))\n",
    "    return lr\n",
    "\n",
    "lr_scheduler = LearningRateScheduler(cyclic_lr)"
   ]
  },
  {
   "cell_type": "code",
   "execution_count": 28,
   "metadata": {},
   "outputs": [
    {
     "name": "stdout",
     "output_type": "stream",
     "text": [
      "Epoch 1/25\n",
      "538/538 [==============================] - 24s 16ms/step - loss: 6.3968 - output_user_loss: 4.3097 - output_activity_loss: 1.2757 - output_type_loss: 0.6374 - output_timestamp_loss: 0.1741 - output_user_accuracy: 0.1598 - output_activity_accuracy: 0.6539 - output_type_accuracy: 0.7628 - output_timestamp_mean_absolute_error: 0.2923 - val_loss: 4.4728 - val_output_user_loss: 3.7683 - val_output_activity_loss: 0.3875 - val_output_type_loss: 0.2302 - val_output_timestamp_loss: 0.0867 - val_output_user_accuracy: 0.2186 - val_output_activity_accuracy: 0.8847 - val_output_type_accuracy: 0.9148 - val_output_timestamp_mean_absolute_error: 0.2020 - lr: 0.0010\n",
      "Epoch 2/25\n",
      "538/538 [==============================] - 13s 25ms/step - loss: 3.8024 - output_user_loss: 3.1963 - output_activity_loss: 0.3175 - output_type_loss: 0.2079 - output_timestamp_loss: 0.0807 - output_user_accuracy: 0.3451 - output_activity_accuracy: 0.8794 - output_type_accuracy: 0.9081 - output_timestamp_mean_absolute_error: 0.1882 - val_loss: 3.1376 - val_output_user_loss: 2.5936 - val_output_activity_loss: 0.2805 - val_output_type_loss: 0.1876 - val_output_timestamp_loss: 0.0760 - val_output_user_accuracy: 0.4457 - val_output_activity_accuracy: 0.8854 - val_output_type_accuracy: 0.9141 - val_output_timestamp_mean_absolute_error: 0.1754 - lr: 0.0019\n",
      "Epoch 3/25\n",
      "538/538 [==============================] - 14s 27ms/step - loss: 2.4258 - output_user_loss: 1.8833 - output_activity_loss: 0.2758 - output_type_loss: 0.1929 - output_timestamp_loss: 0.0738 - output_user_accuracy: 0.5806 - output_activity_accuracy: 0.8806 - output_type_accuracy: 0.9100 - output_timestamp_mean_absolute_error: 0.1714 - val_loss: 1.9559 - val_output_user_loss: 1.4389 - val_output_activity_loss: 0.2639 - val_output_type_loss: 0.1838 - val_output_timestamp_loss: 0.0693 - val_output_user_accuracy: 0.6735 - val_output_activity_accuracy: 0.8798 - val_output_type_accuracy: 0.9128 - val_output_timestamp_mean_absolute_error: 0.1604 - lr: 0.0028\n",
      "Epoch 4/25\n",
      "538/538 [==============================] - 13s 24ms/step - loss: 1.6752 - output_user_loss: 1.1533 - output_activity_loss: 0.2629 - output_type_loss: 0.1879 - output_timestamp_loss: 0.0711 - output_user_accuracy: 0.7156 - output_activity_accuracy: 0.8820 - output_type_accuracy: 0.9108 - output_timestamp_mean_absolute_error: 0.1639 - val_loss: 1.5921 - val_output_user_loss: 1.0794 - val_output_activity_loss: 0.2541 - val_output_type_loss: 0.1808 - val_output_timestamp_loss: 0.0777 - val_output_user_accuracy: 0.7306 - val_output_activity_accuracy: 0.8874 - val_output_type_accuracy: 0.9167 - val_output_timestamp_mean_absolute_error: 0.1732 - lr: 0.0037\n",
      "Epoch 5/25\n",
      "538/538 [==============================] - 8s 15ms/step - loss: 1.4498 - output_user_loss: 0.9385 - output_activity_loss: 0.2566 - output_type_loss: 0.1844 - output_timestamp_loss: 0.0703 - output_user_accuracy: 0.7420 - output_activity_accuracy: 0.8828 - output_type_accuracy: 0.9115 - output_timestamp_mean_absolute_error: 0.1637 - val_loss: 1.4701 - val_output_user_loss: 0.9599 - val_output_activity_loss: 0.2574 - val_output_type_loss: 0.1823 - val_output_timestamp_loss: 0.0706 - val_output_user_accuracy: 0.7407 - val_output_activity_accuracy: 0.8827 - val_output_type_accuracy: 0.9134 - val_output_timestamp_mean_absolute_error: 0.1731 - lr: 0.0046\n",
      "Epoch 6/25\n",
      "538/538 [==============================] - 7s 14ms/step - loss: 1.3718 - output_user_loss: 0.8616 - output_activity_loss: 0.2557 - output_type_loss: 0.1851 - output_timestamp_loss: 0.0694 - output_user_accuracy: 0.7494 - output_activity_accuracy: 0.8822 - output_type_accuracy: 0.9105 - output_timestamp_mean_absolute_error: 0.1625 - val_loss: 1.4250 - val_output_user_loss: 0.9195 - val_output_activity_loss: 0.2548 - val_output_type_loss: 0.1792 - val_output_timestamp_loss: 0.0715 - val_output_user_accuracy: 0.7454 - val_output_activity_accuracy: 0.8917 - val_output_type_accuracy: 0.9149 - val_output_timestamp_mean_absolute_error: 0.1646 - lr: 0.0055\n",
      "Epoch 7/25\n",
      "538/538 [==============================] - 10s 18ms/step - loss: 1.3366 - output_user_loss: 0.8293 - output_activity_loss: 0.2548 - output_type_loss: 0.1848 - output_timestamp_loss: 0.0676 - output_user_accuracy: 0.7548 - output_activity_accuracy: 0.8813 - output_type_accuracy: 0.9101 - output_timestamp_mean_absolute_error: 0.1617 - val_loss: 1.3946 - val_output_user_loss: 0.8919 - val_output_activity_loss: 0.2538 - val_output_type_loss: 0.1808 - val_output_timestamp_loss: 0.0681 - val_output_user_accuracy: 0.7414 - val_output_activity_accuracy: 0.8839 - val_output_type_accuracy: 0.9079 - val_output_timestamp_mean_absolute_error: 0.1590 - lr: 0.0064\n",
      "Epoch 8/25\n",
      "538/538 [==============================] - 9s 16ms/step - loss: 1.3030 - output_user_loss: 0.7955 - output_activity_loss: 0.2552 - output_type_loss: 0.1853 - output_timestamp_loss: 0.0671 - output_user_accuracy: 0.7603 - output_activity_accuracy: 0.8803 - output_type_accuracy: 0.9096 - output_timestamp_mean_absolute_error: 0.1600 - val_loss: 1.3803 - val_output_user_loss: 0.8691 - val_output_activity_loss: 0.2626 - val_output_type_loss: 0.1833 - val_output_timestamp_loss: 0.0653 - val_output_user_accuracy: 0.7479 - val_output_activity_accuracy: 0.8872 - val_output_type_accuracy: 0.9173 - val_output_timestamp_mean_absolute_error: 0.1551 - lr: 0.0073\n",
      "Epoch 9/25\n",
      "538/538 [==============================] - 8s 15ms/step - loss: 1.2918 - output_user_loss: 0.7853 - output_activity_loss: 0.2554 - output_type_loss: 0.1842 - output_timestamp_loss: 0.0670 - output_user_accuracy: 0.7614 - output_activity_accuracy: 0.8813 - output_type_accuracy: 0.9115 - output_timestamp_mean_absolute_error: 0.1614 - val_loss: 1.4016 - val_output_user_loss: 0.8890 - val_output_activity_loss: 0.2616 - val_output_type_loss: 0.1818 - val_output_timestamp_loss: 0.0692 - val_output_user_accuracy: 0.7446 - val_output_activity_accuracy: 0.8709 - val_output_type_accuracy: 0.9125 - val_output_timestamp_mean_absolute_error: 0.1680 - lr: 0.0082\n",
      "Epoch 10/25\n",
      "538/538 [==============================] - 7s 13ms/step - loss: 1.2721 - output_user_loss: 0.7662 - output_activity_loss: 0.2544 - output_type_loss: 0.1849 - output_timestamp_loss: 0.0666 - output_user_accuracy: 0.7655 - output_activity_accuracy: 0.8801 - output_type_accuracy: 0.9097 - output_timestamp_mean_absolute_error: 0.1616 - val_loss: 1.4078 - val_output_user_loss: 0.8876 - val_output_activity_loss: 0.2632 - val_output_type_loss: 0.1845 - val_output_timestamp_loss: 0.0725 - val_output_user_accuracy: 0.7422 - val_output_activity_accuracy: 0.8788 - val_output_type_accuracy: 0.9100 - val_output_timestamp_mean_absolute_error: 0.1783 - lr: 0.0091\n",
      "Epoch 11/25\n",
      "538/538 [==============================] - 7s 13ms/step - loss: 1.2647 - output_user_loss: 0.7591 - output_activity_loss: 0.2553 - output_type_loss: 0.1857 - output_timestamp_loss: 0.0646 - output_user_accuracy: 0.7690 - output_activity_accuracy: 0.8824 - output_type_accuracy: 0.9095 - output_timestamp_mean_absolute_error: 0.1581 - val_loss: 1.4000 - val_output_user_loss: 0.9039 - val_output_activity_loss: 0.2574 - val_output_type_loss: 0.1780 - val_output_timestamp_loss: 0.0607 - val_output_user_accuracy: 0.7431 - val_output_activity_accuracy: 0.8880 - val_output_type_accuracy: 0.9180 - val_output_timestamp_mean_absolute_error: 0.1482 - lr: 0.0100\n",
      "Epoch 12/25\n",
      "538/538 [==============================] - 6s 10ms/step - loss: 1.2252 - output_user_loss: 0.7313 - output_activity_loss: 0.2498 - output_type_loss: 0.1823 - output_timestamp_loss: 0.0617 - output_user_accuracy: 0.7760 - output_activity_accuracy: 0.8830 - output_type_accuracy: 0.9119 - output_timestamp_mean_absolute_error: 0.1520 - val_loss: 1.3648 - val_output_user_loss: 0.8742 - val_output_activity_loss: 0.2531 - val_output_type_loss: 0.1806 - val_output_timestamp_loss: 0.0569 - val_output_user_accuracy: 0.7506 - val_output_activity_accuracy: 0.8859 - val_output_type_accuracy: 0.9143 - val_output_timestamp_mean_absolute_error: 0.1475 - lr: 0.0091\n",
      "Epoch 13/25\n",
      "538/538 [==============================] - 5s 9ms/step - loss: 1.1817 - output_user_loss: 0.6957 - output_activity_loss: 0.2463 - output_type_loss: 0.1802 - output_timestamp_loss: 0.0595 - output_user_accuracy: 0.7791 - output_activity_accuracy: 0.8842 - output_type_accuracy: 0.9121 - output_timestamp_mean_absolute_error: 0.1479 - val_loss: 1.3476 - val_output_user_loss: 0.8584 - val_output_activity_loss: 0.2538 - val_output_type_loss: 0.1796 - val_output_timestamp_loss: 0.0558 - val_output_user_accuracy: 0.7525 - val_output_activity_accuracy: 0.8832 - val_output_type_accuracy: 0.9144 - val_output_timestamp_mean_absolute_error: 0.1450 - lr: 0.0082\n",
      "Epoch 14/25\n",
      "538/538 [==============================] - 6s 11ms/step - loss: 1.1389 - output_user_loss: 0.6606 - output_activity_loss: 0.2426 - output_type_loss: 0.1785 - output_timestamp_loss: 0.0572 - output_user_accuracy: 0.7865 - output_activity_accuracy: 0.8843 - output_type_accuracy: 0.9132 - output_timestamp_mean_absolute_error: 0.1430 - val_loss: 1.3387 - val_output_user_loss: 0.8371 - val_output_activity_loss: 0.2562 - val_output_type_loss: 0.1835 - val_output_timestamp_loss: 0.0619 - val_output_user_accuracy: 0.7555 - val_output_activity_accuracy: 0.8886 - val_output_type_accuracy: 0.9166 - val_output_timestamp_mean_absolute_error: 0.1450 - lr: 0.0073\n",
      "Epoch 15/25\n",
      "538/538 [==============================] - 5s 10ms/step - loss: 1.1166 - output_user_loss: 0.6417 - output_activity_loss: 0.2413 - output_type_loss: 0.1765 - output_timestamp_loss: 0.0570 - output_user_accuracy: 0.7904 - output_activity_accuracy: 0.8868 - output_type_accuracy: 0.9141 - output_timestamp_mean_absolute_error: 0.1423 - val_loss: 1.3355 - val_output_user_loss: 0.8454 - val_output_activity_loss: 0.2560 - val_output_type_loss: 0.1814 - val_output_timestamp_loss: 0.0526 - val_output_user_accuracy: 0.7541 - val_output_activity_accuracy: 0.8868 - val_output_type_accuracy: 0.9141 - val_output_timestamp_mean_absolute_error: 0.1324 - lr: 0.0064\n",
      "Epoch 16/25\n",
      "538/538 [==============================] - 6s 11ms/step - loss: 1.0898 - output_user_loss: 0.6219 - output_activity_loss: 0.2378 - output_type_loss: 0.1753 - output_timestamp_loss: 0.0548 - output_user_accuracy: 0.7929 - output_activity_accuracy: 0.8868 - output_type_accuracy: 0.9147 - output_timestamp_mean_absolute_error: 0.1376 - val_loss: 1.3258 - val_output_user_loss: 0.8391 - val_output_activity_loss: 0.2525 - val_output_type_loss: 0.1790 - val_output_timestamp_loss: 0.0552 - val_output_user_accuracy: 0.7567 - val_output_activity_accuracy: 0.8874 - val_output_type_accuracy: 0.9134 - val_output_timestamp_mean_absolute_error: 0.1387 - lr: 0.0055\n",
      "Epoch 17/25\n",
      "538/538 [==============================] - 6s 11ms/step - loss: 1.0575 - output_user_loss: 0.5985 - output_activity_loss: 0.2327 - output_type_loss: 0.1723 - output_timestamp_loss: 0.0541 - output_user_accuracy: 0.8020 - output_activity_accuracy: 0.8901 - output_type_accuracy: 0.9160 - output_timestamp_mean_absolute_error: 0.1361 - val_loss: 1.3198 - val_output_user_loss: 0.8384 - val_output_activity_loss: 0.2525 - val_output_type_loss: 0.1786 - val_output_timestamp_loss: 0.0503 - val_output_user_accuracy: 0.7534 - val_output_activity_accuracy: 0.8837 - val_output_type_accuracy: 0.9140 - val_output_timestamp_mean_absolute_error: 0.1284 - lr: 0.0046\n",
      "Epoch 18/25\n",
      "538/538 [==============================] - 6s 11ms/step - loss: 1.0335 - output_user_loss: 0.5803 - output_activity_loss: 0.2304 - output_type_loss: 0.1704 - output_timestamp_loss: 0.0524 - output_user_accuracy: 0.8078 - output_activity_accuracy: 0.8920 - output_type_accuracy: 0.9180 - output_timestamp_mean_absolute_error: 0.1315 - val_loss: 1.3238 - val_output_user_loss: 0.8343 - val_output_activity_loss: 0.2564 - val_output_type_loss: 0.1824 - val_output_timestamp_loss: 0.0506 - val_output_user_accuracy: 0.7558 - val_output_activity_accuracy: 0.8858 - val_output_type_accuracy: 0.9154 - val_output_timestamp_mean_absolute_error: 0.1295 - lr: 0.0037\n",
      "Epoch 19/25\n",
      "538/538 [==============================] - 6s 11ms/step - loss: 1.0083 - output_user_loss: 0.5614 - output_activity_loss: 0.2266 - output_type_loss: 0.1686 - output_timestamp_loss: 0.0517 - output_user_accuracy: 0.8103 - output_activity_accuracy: 0.8933 - output_type_accuracy: 0.9191 - output_timestamp_mean_absolute_error: 0.1293 - val_loss: 1.3177 - val_output_user_loss: 0.8314 - val_output_activity_loss: 0.2533 - val_output_type_loss: 0.1808 - val_output_timestamp_loss: 0.0522 - val_output_user_accuracy: 0.7557 - val_output_activity_accuracy: 0.8884 - val_output_type_accuracy: 0.9153 - val_output_timestamp_mean_absolute_error: 0.1267 - lr: 0.0028\n",
      "Epoch 20/25\n",
      "538/538 [==============================] - 5s 9ms/step - loss: 0.9796 - output_user_loss: 0.5415 - output_activity_loss: 0.2223 - output_type_loss: 0.1661 - output_timestamp_loss: 0.0498 - output_user_accuracy: 0.8189 - output_activity_accuracy: 0.8946 - output_type_accuracy: 0.9201 - output_timestamp_mean_absolute_error: 0.1241 - val_loss: 1.3165 - val_output_user_loss: 0.8309 - val_output_activity_loss: 0.2546 - val_output_type_loss: 0.1817 - val_output_timestamp_loss: 0.0493 - val_output_user_accuracy: 0.7560 - val_output_activity_accuracy: 0.8884 - val_output_type_accuracy: 0.9154 - val_output_timestamp_mean_absolute_error: 0.1260 - lr: 0.0019\n",
      "Epoch 21/25\n",
      "538/538 [==============================] - 4s 8ms/step - loss: 0.9540 - output_user_loss: 0.5227 - output_activity_loss: 0.2185 - output_type_loss: 0.1637 - output_timestamp_loss: 0.0491 - output_user_accuracy: 0.8259 - output_activity_accuracy: 0.8963 - output_type_accuracy: 0.9216 - output_timestamp_mean_absolute_error: 0.1226 - val_loss: 1.3175 - val_output_user_loss: 0.8340 - val_output_activity_loss: 0.2544 - val_output_type_loss: 0.1816 - val_output_timestamp_loss: 0.0475 - val_output_user_accuracy: 0.7531 - val_output_activity_accuracy: 0.8858 - val_output_type_accuracy: 0.9132 - val_output_timestamp_mean_absolute_error: 0.1193 - lr: 0.0010\n",
      "Epoch 22/25\n",
      "538/538 [==============================] - 5s 9ms/step - loss: 0.9700 - output_user_loss: 0.5352 - output_activity_loss: 0.2204 - output_type_loss: 0.1644 - output_timestamp_loss: 0.0500 - output_user_accuracy: 0.8206 - output_activity_accuracy: 0.8968 - output_type_accuracy: 0.9209 - output_timestamp_mean_absolute_error: 0.1247 - val_loss: 1.3306 - val_output_user_loss: 0.8381 - val_output_activity_loss: 0.2572 - val_output_type_loss: 0.1847 - val_output_timestamp_loss: 0.0505 - val_output_user_accuracy: 0.7544 - val_output_activity_accuracy: 0.8877 - val_output_type_accuracy: 0.9117 - val_output_timestamp_mean_absolute_error: 0.1215 - lr: 0.0019\n",
      "Epoch 23/25\n",
      "538/538 [==============================] - 7s 13ms/step - loss: 0.9897 - output_user_loss: 0.5489 - output_activity_loss: 0.2234 - output_type_loss: 0.1662 - output_timestamp_loss: 0.0511 - output_user_accuracy: 0.8155 - output_activity_accuracy: 0.8941 - output_type_accuracy: 0.9198 - output_timestamp_mean_absolute_error: 0.1283 - val_loss: 1.3427 - val_output_user_loss: 0.8515 - val_output_activity_loss: 0.2581 - val_output_type_loss: 0.1839 - val_output_timestamp_loss: 0.0493 - val_output_user_accuracy: 0.7519 - val_output_activity_accuracy: 0.8870 - val_output_type_accuracy: 0.9134 - val_output_timestamp_mean_absolute_error: 0.1263 - lr: 0.0028\n",
      "Epoch 24/25\n",
      "538/538 [==============================] - 6s 11ms/step - loss: 1.0094 - output_user_loss: 0.5654 - output_activity_loss: 0.2250 - output_type_loss: 0.1668 - output_timestamp_loss: 0.0521 - output_user_accuracy: 0.8095 - output_activity_accuracy: 0.8946 - output_type_accuracy: 0.9199 - output_timestamp_mean_absolute_error: 0.1321 - val_loss: 1.3513 - val_output_user_loss: 0.8550 - val_output_activity_loss: 0.2615 - val_output_type_loss: 0.1842 - val_output_timestamp_loss: 0.0506 - val_output_user_accuracy: 0.7517 - val_output_activity_accuracy: 0.8839 - val_output_type_accuracy: 0.9137 - val_output_timestamp_mean_absolute_error: 0.1252 - lr: 0.0037\n",
      "Epoch 25/25\n",
      "538/538 [==============================] - 6s 11ms/step - loss: 1.0288 - output_user_loss: 0.5792 - output_activity_loss: 0.2276 - output_type_loss: 0.1689 - output_timestamp_loss: 0.0531 - output_user_accuracy: 0.8076 - output_activity_accuracy: 0.8910 - output_type_accuracy: 0.9179 - output_timestamp_mean_absolute_error: 0.1342 - val_loss: 1.3790 - val_output_user_loss: 0.8753 - val_output_activity_loss: 0.2633 - val_output_type_loss: 0.1864 - val_output_timestamp_loss: 0.0540 - val_output_user_accuracy: 0.7515 - val_output_activity_accuracy: 0.8832 - val_output_type_accuracy: 0.9141 - val_output_timestamp_mean_absolute_error: 0.1348 - lr: 0.0046\n"
     ]
    }
   ],
   "source": [
    "import numpy as np\n",
    "from tensorflow.keras.utils import to_categorical\n",
    "\n",
    "# Assuming num_users, num_activities, and num_types are defined as the number of unique categories for each attribute\n",
    "\n",
    "# Converting user, activity, and type targets to categorical format for softmax output\n",
    "train_targets_user_cat = to_categorical(train_targets_user, num_classes=num_users)\n",
    "test_targets_user_cat = to_categorical(test_targets_user, num_classes=num_users)\n",
    "\n",
    "train_targets_activity_cat = to_categorical(train_targets_activity, num_classes=num_activities)\n",
    "test_targets_activity_cat = to_categorical(test_targets_activity, num_classes=num_activities)\n",
    "\n",
    "train_targets_type_cat = to_categorical(train_targets_type, num_classes=num_types)\n",
    "test_targets_type_cat = to_categorical(test_targets_type, num_classes=num_types)\n",
    "\n",
    "# Assuming the timestamp targets don't need conversion as they are continuous\n",
    "\n",
    "history = model.fit([train_user, train_activity, train_type, train_timestamp], \n",
    "                    [train_targets_user_cat, train_targets_activity_cat, train_targets_type_cat, train_targets_timestamp],\n",
    "                    epochs=25,\n",
    "                    batch_size=64,\n",
    "                    validation_data=([test_user, test_activity, test_type, test_timestamp], \n",
    "                                     [test_targets_user_cat, test_targets_activity_cat, test_targets_type_cat, test_targets_timestamp]),\n",
    "                    verbose=1,\n",
    "                    callbacks=[lr_scheduler])  # Add other callbacks as needed"
   ]
  },
  {
   "cell_type": "code",
   "execution_count": 29,
   "metadata": {},
   "outputs": [
    {
     "name": "stdout",
     "output_type": "stream",
     "text": [
      "461/461 [==============================] - 2s 3ms/step - loss: 1.3790 - output_user_loss: 0.8753 - output_activity_loss: 0.2633 - output_type_loss: 0.1864 - output_timestamp_loss: 0.0540 - output_user_accuracy: 0.7515 - output_activity_accuracy: 0.8832 - output_type_accuracy: 0.9141 - output_timestamp_mean_absolute_error: 0.1348\n",
      "[1.3790110349655151, 0.8752849102020264, 0.26331740617752075, 0.1864219307899475, 0.053987275809049606, 0.7515443563461304, 0.883171558380127, 0.9141266942024231, 0.13484716415405273]\n"
     ]
    }
   ],
   "source": [
    "evaluation = model.evaluate(\n",
    "    [test_user, test_activity, test_type, test_timestamp],\n",
    "    [test_targets_user_cat, test_targets_activity_cat, test_targets_type_cat, test_targets_timestamp]\n",
    ")\n",
    "\n",
    "print(evaluation)"
   ]
  },
  {
   "cell_type": "markdown",
   "metadata": {},
   "source": [
    "# Anomaly Score Computation"
   ]
  },
  {
   "cell_type": "code",
   "execution_count": 30,
   "metadata": {},
   "outputs": [
    {
     "name": "stdout",
     "output_type": "stream",
     "text": [
      "1535/1535 [==============================] - 8s 4ms/step\n"
     ]
    }
   ],
   "source": [
    "# Generate predictions for all inputs\n",
    "predictions = model.predict([windows_user, windows_activity, windows_type, windows_timestamp])\n",
    "\n",
    "# Extract predictions for categorical attributes (softmax probabilities) and continuous attribute (regression)\n",
    "predictions_user = predictions[0]\n",
    "predictions_activity = predictions[1]\n",
    "predictions_type = predictions[2]\n",
    "predictions_timestamp = predictions[3]"
   ]
  },
  {
   "cell_type": "code",
   "execution_count": 31,
   "metadata": {},
   "outputs": [],
   "source": [
    "# Step 2: Compute Anomaly Scores for categorical variables (Resources and Activities)\n",
    "\n",
    "def compute_anomaly_scores(predictions, actuals):\n",
    "    # For categorical predictions, convert actuals to one-hot for comparison\n",
    "    actuals_one_hot = to_categorical(actuals, num_classes=predictions.shape[-1])\n",
    "    \n",
    "    max_predictions = np.max(predictions, axis=-1)\n",
    "    actual_predictions = np.sum(predictions * actuals_one_hot, axis=-1)  # Extract the probability of the actual class\n",
    "    \n",
    "    anomaly_scores = (max_predictions - actual_predictions) / max_predictions\n",
    "    \n",
    "    return anomaly_scores\n",
    "\n",
    "anomaly_scores_user = compute_anomaly_scores(predictions_user, targets_user)\n",
    "anomaly_scores_activity = compute_anomaly_scores(predictions_activity, targets_activity)\n",
    "anomaly_scores_type = compute_anomaly_scores(predictions_type, targets_type)"
   ]
  },
  {
   "cell_type": "code",
   "execution_count": 32,
   "metadata": {},
   "outputs": [],
   "source": [
    "def compute_anomaly_scores_continuous(predictions, actuals, normalization_factor):\n",
    "    \"\"\"\n",
    "    Compute anomaly scores for continuous attributes.\n",
    "    \n",
    "    Parameters:\n",
    "    - predictions: numpy array of predicted values.\n",
    "    - actuals: numpy array of actual values.\n",
    "    - normalization_factor: normalization factor (e.g., standard deviation of the attribute).\n",
    "    \n",
    "    Returns:\n",
    "    - numpy array of anomaly scores.\n",
    "    \"\"\"\n",
    "    # Calculate absolute differences\n",
    "    differences = np.abs(predictions - actuals)\n",
    "    \n",
    "    # Normalize the differences\n",
    "    anomaly_scores = differences / normalization_factor\n",
    "    \n",
    "    return anomaly_scores"
   ]
  },
  {
   "cell_type": "code",
   "execution_count": 33,
   "metadata": {},
   "outputs": [],
   "source": [
    "normalization_factor = np.std(targets_timestamp)       # Example normalization factor (standard deviation)\n",
    "anomaly_scores_timestamp = compute_anomaly_scores_continuous(predictions_timestamp, targets_timestamp, normalization_factor)"
   ]
  },
  {
   "cell_type": "code",
   "execution_count": 34,
   "metadata": {},
   "outputs": [],
   "source": [
    "import numpy as np\n",
    "\n",
    "def classify_cases(anomaly_scores_user, anomaly_scores_activity, anomaly_scores_type, anomaly_scores_timestamp, threshold=0.98):\n",
    "    # Ensure all inputs are numpy arrays of the same shape\n",
    "    anomaly_scores_user = np.array(anomaly_scores_user).flatten()\n",
    "    anomaly_scores_activity = np.array(anomaly_scores_activity).flatten()\n",
    "    anomaly_scores_type = np.array(anomaly_scores_type).flatten()\n",
    "    anomaly_scores_timestamp = np.array(anomaly_scores_timestamp).flatten()\n",
    "\n",
    "    # Check if all arrays have the same length\n",
    "    if not (len(anomaly_scores_user) == len(anomaly_scores_activity) == len(anomaly_scores_type) == len(anomaly_scores_timestamp)):\n",
    "        raise ValueError(\"All input anomaly scores must have the same length.\")\n",
    "\n",
    "    # Find the maximum anomaly score across all attributes for each case\n",
    "    max_scores = np.maximum.reduce([anomaly_scores_user, anomaly_scores_activity, anomaly_scores_type, anomaly_scores_timestamp])\n",
    "\n",
    "    # Classify cases as anomalous if the maximum anomaly score exceeds the threshold\n",
    "    anomalous_cases = max_scores > threshold\n",
    "    \n",
    "    return anomalous_cases\n",
    "\n",
    "# Now use the anomaly scores for user, activity, type, and timestamp in the classification\n",
    "anomalous_cases = classify_cases(anomaly_scores_user, anomaly_scores_activity, anomaly_scores_type, anomaly_scores_timestamp)"
   ]
  },
  {
   "cell_type": "markdown",
   "metadata": {},
   "source": [
    "# Mapping"
   ]
  },
  {
   "cell_type": "markdown",
   "metadata": {},
   "source": [
    "### True: anomaly, False: no anomaly"
   ]
  },
  {
   "cell_type": "code",
   "execution_count": 35,
   "metadata": {},
   "outputs": [
    {
     "data": {
      "text/html": [
       "<div>\n",
       "<style scoped>\n",
       "    .dataframe tbody tr th:only-of-type {\n",
       "        vertical-align: middle;\n",
       "    }\n",
       "\n",
       "    .dataframe tbody tr th {\n",
       "        vertical-align: top;\n",
       "    }\n",
       "\n",
       "    .dataframe thead th {\n",
       "        text-align: right;\n",
       "    }\n",
       "</style>\n",
       "<table border=\"1\" class=\"dataframe\">\n",
       "  <thead>\n",
       "    <tr style=\"text-align: right;\">\n",
       "      <th></th>\n",
       "      <th>case</th>\n",
       "      <th>predicted</th>\n",
       "    </tr>\n",
       "  </thead>\n",
       "  <tbody>\n",
       "    <tr>\n",
       "      <th>0</th>\n",
       "      <td>0</td>\n",
       "      <td>False</td>\n",
       "    </tr>\n",
       "    <tr>\n",
       "      <th>1</th>\n",
       "      <td>0</td>\n",
       "      <td>False</td>\n",
       "    </tr>\n",
       "    <tr>\n",
       "      <th>2</th>\n",
       "      <td>0</td>\n",
       "      <td>False</td>\n",
       "    </tr>\n",
       "    <tr>\n",
       "      <th>3</th>\n",
       "      <td>0</td>\n",
       "      <td>False</td>\n",
       "    </tr>\n",
       "    <tr>\n",
       "      <th>4</th>\n",
       "      <td>0</td>\n",
       "      <td>False</td>\n",
       "    </tr>\n",
       "    <tr>\n",
       "      <th>...</th>\n",
       "      <td>...</td>\n",
       "      <td>...</td>\n",
       "    </tr>\n",
       "    <tr>\n",
       "      <th>49096</th>\n",
       "      <td>3353</td>\n",
       "      <td>False</td>\n",
       "    </tr>\n",
       "    <tr>\n",
       "      <th>49097</th>\n",
       "      <td>3353</td>\n",
       "      <td>False</td>\n",
       "    </tr>\n",
       "    <tr>\n",
       "      <th>49098</th>\n",
       "      <td>3353</td>\n",
       "      <td>False</td>\n",
       "    </tr>\n",
       "    <tr>\n",
       "      <th>49099</th>\n",
       "      <td>3353</td>\n",
       "      <td>False</td>\n",
       "    </tr>\n",
       "    <tr>\n",
       "      <th>49100</th>\n",
       "      <td>3353</td>\n",
       "      <td>True</td>\n",
       "    </tr>\n",
       "  </tbody>\n",
       "</table>\n",
       "<p>49101 rows × 2 columns</p>\n",
       "</div>"
      ],
      "text/plain": [
       "       case  predicted\n",
       "0         0      False\n",
       "1         0      False\n",
       "2         0      False\n",
       "3         0      False\n",
       "4         0      False\n",
       "...     ...        ...\n",
       "49096  3353      False\n",
       "49097  3353      False\n",
       "49098  3353      False\n",
       "49099  3353      False\n",
       "49100  3353       True\n",
       "\n",
       "[49101 rows x 2 columns]"
      ]
     },
     "execution_count": 35,
     "metadata": {},
     "output_type": "execute_result"
    }
   ],
   "source": [
    "import pandas as pd\n",
    "\n",
    "# Create a DataFrame from the case_indices_array corresponding to case_resource\n",
    "mapping = pd.DataFrame({'case': case_indices})\n",
    "mapping['predicted'] = anomalous_cases\n",
    "mapping"
   ]
  },
  {
   "cell_type": "code",
   "execution_count": 36,
   "metadata": {},
   "outputs": [
    {
     "data": {
      "text/plain": [
       "case\n",
       "0       False\n",
       "1        True\n",
       "2       False\n",
       "3       False\n",
       "4       False\n",
       "        ...  \n",
       "3349    False\n",
       "3350    False\n",
       "3351    False\n",
       "3352     True\n",
       "3353     True\n",
       "Name: predicted, Length: 3354, dtype: bool"
      ]
     },
     "execution_count": 36,
     "metadata": {},
     "output_type": "execute_result"
    }
   ],
   "source": [
    "case_prediction = mapping.groupby('case')['predicted'].any()\n",
    "case_prediction"
   ]
  },
  {
   "cell_type": "markdown",
   "metadata": {},
   "source": [
    "# Ground Truth"
   ]
  },
  {
   "cell_type": "code",
   "execution_count": 37,
   "metadata": {},
   "outputs": [],
   "source": [
    "def generate_alignments_adjusted_tracecost_pkl(log, net, initial_marking, final_marking):\n",
    "    from pm4py.algo.conformance.alignments.petri_net import algorithm as alignments\n",
    "    from pm4py.algo.conformance.alignments.petri_net import variants\n",
    "    from pm4py.objects.petri_net.utils import align_utils\n",
    "    max_events=0\n",
    "    for trace in log:\n",
    "        counter=0\n",
    "        for event in trace:\n",
    "            counter+=1\n",
    "        if counter > max_events:\n",
    "            max_events=counter\n",
    "    parameters={}\n",
    "    parameters[alignments.Variants.VERSION_STATE_EQUATION_A_STAR.value.Parameters.PARAM_SYNC_COST_FUNCTION] = list(map(lambda i: .1*i, range(max_events*2)))\n",
    "    parameters[alignments.Variants.VERSION_STATE_EQUATION_A_STAR.value.Parameters.PARAM_TRACE_COST_FUNCTION]=list(map(lambda i: align_utils.STD_MODEL_LOG_MOVE_COST-.1*i, range(max_events*2)))\n",
    "    aligned_traces = alignments.apply_log(log, net, initial_marking, final_marking, variant=variants.state_equation_a_star, parameters=parameters)\n",
    "    return aligned_traces"
   ]
  },
  {
   "cell_type": "code",
   "execution_count": 38,
   "metadata": {},
   "outputs": [
    {
     "data": {
      "application/vnd.jupyter.widget-view+json": {
       "model_id": "01d912fc8e124d009d7b321fe35e7814",
       "version_major": 2,
       "version_minor": 0
      },
      "text/plain": [
       "aligning log, completed variants ::   0%|          | 0/295 [00:00<?, ?it/s]"
      ]
     },
     "metadata": {},
     "output_type": "display_data"
    }
   ],
   "source": [
    "import pm4py\n",
    "from pm4py.objects.log.importer.xes import importer as xes_importer\n",
    "from pm4py.objects.bpmn.importer import importer as bpmn_importer\n",
    "from pm4py.algo.conformance.alignments.petri_net import algorithm as alignments_petri\n",
    "\n",
    "# 2. Import the given BPMN model\n",
    "bpmn_graph = bpmn_importer.apply(\"../../data/model/MobisToBe.bpmn\")\n",
    "\n",
    "# 3. Convert the BPMN to a Petri net\n",
    "net, initial_marking, final_marking = pm4py.convert_to_petri_net(bpmn_graph)\n",
    "\n",
    "aligned_traces = generate_alignments_adjusted_tracecost_pkl(log, net, initial_marking, final_marking)"
   ]
  },
  {
   "cell_type": "code",
   "execution_count": 39,
   "metadata": {},
   "outputs": [],
   "source": [
    "def extract_conformance_status_by_fitness(aligned_traces):\n",
    "    conformance_status = []\n",
    "    for alignment in aligned_traces:\n",
    "        fitness = alignment['fitness']\n",
    "        # If the fitness is 1.0, the trace is conforming\n",
    "        if fitness == 1.0:\n",
    "            conformance_status.append(0)\n",
    "        else:\n",
    "            conformance_status.append(1)\n",
    "    return conformance_status\n",
    "\n",
    "# Get the conformance status list from the aligned traces\n",
    "conformance = extract_conformance_status_by_fitness(aligned_traces)"
   ]
  },
  {
   "cell_type": "code",
   "execution_count": 40,
   "metadata": {},
   "outputs": [
    {
     "data": {
      "text/html": [
       "<div>\n",
       "<style scoped>\n",
       "    .dataframe tbody tr th:only-of-type {\n",
       "        vertical-align: middle;\n",
       "    }\n",
       "\n",
       "    .dataframe tbody tr th {\n",
       "        vertical-align: top;\n",
       "    }\n",
       "\n",
       "    .dataframe thead th {\n",
       "        text-align: right;\n",
       "    }\n",
       "</style>\n",
       "<table border=\"1\" class=\"dataframe\">\n",
       "  <thead>\n",
       "    <tr style=\"text-align: right;\">\n",
       "      <th></th>\n",
       "      <th>conformity</th>\n",
       "      <th>predicted</th>\n",
       "    </tr>\n",
       "  </thead>\n",
       "  <tbody>\n",
       "    <tr>\n",
       "      <th>0</th>\n",
       "      <td>0</td>\n",
       "      <td>0</td>\n",
       "    </tr>\n",
       "    <tr>\n",
       "      <th>1</th>\n",
       "      <td>1</td>\n",
       "      <td>1</td>\n",
       "    </tr>\n",
       "    <tr>\n",
       "      <th>2</th>\n",
       "      <td>0</td>\n",
       "      <td>0</td>\n",
       "    </tr>\n",
       "    <tr>\n",
       "      <th>3</th>\n",
       "      <td>1</td>\n",
       "      <td>0</td>\n",
       "    </tr>\n",
       "    <tr>\n",
       "      <th>4</th>\n",
       "      <td>1</td>\n",
       "      <td>0</td>\n",
       "    </tr>\n",
       "    <tr>\n",
       "      <th>...</th>\n",
       "      <td>...</td>\n",
       "      <td>...</td>\n",
       "    </tr>\n",
       "    <tr>\n",
       "      <th>3349</th>\n",
       "      <td>0</td>\n",
       "      <td>0</td>\n",
       "    </tr>\n",
       "    <tr>\n",
       "      <th>3350</th>\n",
       "      <td>1</td>\n",
       "      <td>0</td>\n",
       "    </tr>\n",
       "    <tr>\n",
       "      <th>3351</th>\n",
       "      <td>0</td>\n",
       "      <td>0</td>\n",
       "    </tr>\n",
       "    <tr>\n",
       "      <th>3352</th>\n",
       "      <td>0</td>\n",
       "      <td>1</td>\n",
       "    </tr>\n",
       "    <tr>\n",
       "      <th>3353</th>\n",
       "      <td>0</td>\n",
       "      <td>1</td>\n",
       "    </tr>\n",
       "  </tbody>\n",
       "</table>\n",
       "<p>3354 rows × 2 columns</p>\n",
       "</div>"
      ],
      "text/plain": [
       "      conformity  predicted\n",
       "0              0          0\n",
       "1              1          1\n",
       "2              0          0\n",
       "3              1          0\n",
       "4              1          0\n",
       "...          ...        ...\n",
       "3349           0          0\n",
       "3350           1          0\n",
       "3351           0          0\n",
       "3352           0          1\n",
       "3353           0          1\n",
       "\n",
       "[3354 rows x 2 columns]"
      ]
     },
     "execution_count": 40,
     "metadata": {},
     "output_type": "execute_result"
    }
   ],
   "source": [
    "ground_truth = pd.DataFrame({'conformity': conformance})\n",
    "ground_truth['predicted'] = case_prediction\n",
    "\n",
    "# Convert False to 0 and True to 1\n",
    "ground_truth['predicted'] = [int(value) for value in ground_truth['predicted']]\n",
    "ground_truth"
   ]
  },
  {
   "cell_type": "markdown",
   "metadata": {},
   "source": [
    "# Evaluation"
   ]
  },
  {
   "cell_type": "code",
   "execution_count": 41,
   "metadata": {},
   "outputs": [],
   "source": [
    "# Calculating TP, TN, FP, FN\n",
    "TP = ((ground_truth['conformity'] == 1) & (ground_truth['predicted'] == 1)).sum()\n",
    "TN = ((ground_truth['conformity'] == 0) & (ground_truth['predicted'] == 0)).sum()\n",
    "FP = ((ground_truth['conformity'] == 0) & (ground_truth['predicted'] == 1)).sum()\n",
    "FN = ((ground_truth['conformity'] == 1) & (ground_truth['predicted'] == 0)).sum()"
   ]
  },
  {
   "cell_type": "code",
   "execution_count": 42,
   "metadata": {},
   "outputs": [
    {
     "name": "stdout",
     "output_type": "stream",
     "text": [
      "Precision Dev: 0.58\n"
     ]
    }
   ],
   "source": [
    "precision_dev = TP / (TP + FP)\n",
    "print(f\"Precision Dev: {precision_dev:.2f}\")"
   ]
  },
  {
   "cell_type": "code",
   "execution_count": 43,
   "metadata": {},
   "outputs": [
    {
     "name": "stdout",
     "output_type": "stream",
     "text": [
      "Recall Dev: 0.31\n"
     ]
    }
   ],
   "source": [
    "recall_dev = TP / (TP + FN)\n",
    "print(f\"Recall Dev: {recall_dev:.2f}\")"
   ]
  },
  {
   "cell_type": "code",
   "execution_count": 44,
   "metadata": {},
   "outputs": [
    {
     "name": "stdout",
     "output_type": "stream",
     "text": [
      "Precision No Dev: 0.53\n"
     ]
    }
   ],
   "source": [
    "precision_no_dev = TN / (TN + FN)\n",
    "print(f\"Precision No Dev: {precision_no_dev:.2f}\")"
   ]
  },
  {
   "cell_type": "code",
   "execution_count": 45,
   "metadata": {},
   "outputs": [
    {
     "name": "stdout",
     "output_type": "stream",
     "text": [
      "Recall No Dev: 0.78\n"
     ]
    }
   ],
   "source": [
    "recall_no_dev = TN / (TN + FP)\n",
    "print(f\"Recall No Dev: {recall_no_dev:.2f}\")"
   ]
  },
  {
   "cell_type": "code",
   "execution_count": 46,
   "metadata": {},
   "outputs": [
    {
     "name": "stdout",
     "output_type": "stream",
     "text": [
      "AUC-ROC: 0.54\n"
     ]
    }
   ],
   "source": [
    "from sklearn.metrics import roc_auc_score\n",
    "\n",
    "auc_roc = roc_auc_score(ground_truth['conformity'], ground_truth['predicted'])\n",
    "print(f\"AUC-ROC: {auc_roc:.2f}\")"
   ]
  }
 ],
 "metadata": {
  "kernelspec": {
   "display_name": "lstm",
   "language": "python",
   "name": "python3"
  },
  "language_info": {
   "codemirror_mode": {
    "name": "ipython",
    "version": 3
   },
   "file_extension": ".py",
   "mimetype": "text/x-python",
   "name": "python",
   "nbconvert_exporter": "python",
   "pygments_lexer": "ipython3",
   "version": "3.9.13"
  }
 },
 "nbformat": 4,
 "nbformat_minor": 2
}

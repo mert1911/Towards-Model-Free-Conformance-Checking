{
 "cells": [
  {
   "cell_type": "markdown",
   "id": "47f1af5c",
   "metadata": {},
   "source": [
    "# Import Event Log"
   ]
  },
  {
   "cell_type": "code",
   "execution_count": 1,
   "id": "cab9ba88",
   "metadata": {},
   "outputs": [
    {
     "name": "stderr",
     "output_type": "stream",
     "text": [
      "/opt/anaconda3/lib/python3.9/site-packages/pm4py/util/dt_parsing/parser.py:76: UserWarning: ISO8601 strings are not fully supported with strpfromiso for Python versions below 3.11\n",
      "  warnings.warn(\n"
     ]
    },
    {
     "data": {
      "application/vnd.jupyter.widget-view+json": {
       "model_id": "9a342fcac1494de38e67d349d51c1e59",
       "version_major": 2,
       "version_minor": 0
      },
      "text/plain": [
       "parsing log, completed traces ::   0%|          | 0/2099 [00:00<?, ?it/s]"
      ]
     },
     "metadata": {},
     "output_type": "display_data"
    },
    {
     "data": {
      "text/html": [
       "<div>\n",
       "<style scoped>\n",
       "    .dataframe tbody tr th:only-of-type {\n",
       "        vertical-align: middle;\n",
       "    }\n",
       "\n",
       "    .dataframe tbody tr th {\n",
       "        vertical-align: top;\n",
       "    }\n",
       "\n",
       "    .dataframe thead th {\n",
       "        text-align: right;\n",
       "    }\n",
       "</style>\n",
       "<table border=\"1\" class=\"dataframe\">\n",
       "  <thead>\n",
       "    <tr style=\"text-align: right;\">\n",
       "      <th></th>\n",
       "      <th>id</th>\n",
       "      <th>org:resource</th>\n",
       "      <th>concept:name</th>\n",
       "      <th>time:timestamp</th>\n",
       "      <th>org:role</th>\n",
       "      <th>case:Rfp_id</th>\n",
       "      <th>case:Permit travel permit number</th>\n",
       "      <th>case:Task</th>\n",
       "      <th>case:OrganizationalEntity</th>\n",
       "      <th>case:RequestedAmount</th>\n",
       "      <th>...</th>\n",
       "      <th>case:Permit ProjectNumber</th>\n",
       "      <th>case:Project</th>\n",
       "      <th>case:concept:name</th>\n",
       "      <th>case:Permit OrganizationalEntity</th>\n",
       "      <th>case:Permit RequestedBudget</th>\n",
       "      <th>case:Cost Type</th>\n",
       "      <th>case:Permit id</th>\n",
       "      <th>case:Permit ActivityNumber</th>\n",
       "      <th>case:RfpNumber</th>\n",
       "      <th>@@case_index</th>\n",
       "    </tr>\n",
       "  </thead>\n",
       "  <tbody>\n",
       "    <tr>\n",
       "      <th>0</th>\n",
       "      <td>st_step 73555_0</td>\n",
       "      <td>STAFF MEMBER</td>\n",
       "      <td>Permit SUBMITTED by EMPLOYEE</td>\n",
       "      <td>2017-01-09 13:48:43+00:00</td>\n",
       "      <td>EMPLOYEE</td>\n",
       "      <td>request for payment 73550</td>\n",
       "      <td>UNKNOWN</td>\n",
       "      <td>task 71977</td>\n",
       "      <td>organizational unit 65463</td>\n",
       "      <td>854.579838</td>\n",
       "      <td>...</td>\n",
       "      <td>UNKNOWN</td>\n",
       "      <td>project 503</td>\n",
       "      <td>request for payment 73550</td>\n",
       "      <td>organizational unit 65455</td>\n",
       "      <td>1979.272104</td>\n",
       "      <td>0</td>\n",
       "      <td>travel permit 73549</td>\n",
       "      <td>UNKNOWN</td>\n",
       "      <td>request for payment number 73551</td>\n",
       "      <td>0</td>\n",
       "    </tr>\n",
       "    <tr>\n",
       "      <th>1</th>\n",
       "      <td>st_step 73554_0</td>\n",
       "      <td>STAFF MEMBER</td>\n",
       "      <td>Permit FINAL_APPROVED by SUPERVISOR</td>\n",
       "      <td>2017-01-09 13:48:55+00:00</td>\n",
       "      <td>SUPERVISOR</td>\n",
       "      <td>request for payment 73550</td>\n",
       "      <td>UNKNOWN</td>\n",
       "      <td>task 71977</td>\n",
       "      <td>organizational unit 65463</td>\n",
       "      <td>854.579838</td>\n",
       "      <td>...</td>\n",
       "      <td>UNKNOWN</td>\n",
       "      <td>project 503</td>\n",
       "      <td>request for payment 73550</td>\n",
       "      <td>organizational unit 65455</td>\n",
       "      <td>1979.272104</td>\n",
       "      <td>0</td>\n",
       "      <td>travel permit 73549</td>\n",
       "      <td>UNKNOWN</td>\n",
       "      <td>request for payment number 73551</td>\n",
       "      <td>0</td>\n",
       "    </tr>\n",
       "    <tr>\n",
       "      <th>2</th>\n",
       "      <td>st_step 73558_0</td>\n",
       "      <td>STAFF MEMBER</td>\n",
       "      <td>Request For Payment SUBMITTED by EMPLOYEE</td>\n",
       "      <td>2017-01-12 10:40:27+00:00</td>\n",
       "      <td>EMPLOYEE</td>\n",
       "      <td>request for payment 73550</td>\n",
       "      <td>UNKNOWN</td>\n",
       "      <td>task 71977</td>\n",
       "      <td>organizational unit 65463</td>\n",
       "      <td>854.579838</td>\n",
       "      <td>...</td>\n",
       "      <td>UNKNOWN</td>\n",
       "      <td>project 503</td>\n",
       "      <td>request for payment 73550</td>\n",
       "      <td>organizational unit 65455</td>\n",
       "      <td>1979.272104</td>\n",
       "      <td>0</td>\n",
       "      <td>travel permit 73549</td>\n",
       "      <td>UNKNOWN</td>\n",
       "      <td>request for payment number 73551</td>\n",
       "      <td>0</td>\n",
       "    </tr>\n",
       "    <tr>\n",
       "      <th>3</th>\n",
       "      <td>st_step 73559_0</td>\n",
       "      <td>STAFF MEMBER</td>\n",
       "      <td>Request For Payment FINAL_APPROVED by SUPERVISOR</td>\n",
       "      <td>2017-01-12 10:41:59+00:00</td>\n",
       "      <td>SUPERVISOR</td>\n",
       "      <td>request for payment 73550</td>\n",
       "      <td>UNKNOWN</td>\n",
       "      <td>task 71977</td>\n",
       "      <td>organizational unit 65463</td>\n",
       "      <td>854.579838</td>\n",
       "      <td>...</td>\n",
       "      <td>UNKNOWN</td>\n",
       "      <td>project 503</td>\n",
       "      <td>request for payment 73550</td>\n",
       "      <td>organizational unit 65455</td>\n",
       "      <td>1979.272104</td>\n",
       "      <td>0</td>\n",
       "      <td>travel permit 73549</td>\n",
       "      <td>UNKNOWN</td>\n",
       "      <td>request for payment number 73551</td>\n",
       "      <td>0</td>\n",
       "    </tr>\n",
       "    <tr>\n",
       "      <th>4</th>\n",
       "      <td>st_step 73557_0</td>\n",
       "      <td>STAFF MEMBER</td>\n",
       "      <td>Request For Payment REJECTED by MISSING</td>\n",
       "      <td>2017-01-12 10:53:07+00:00</td>\n",
       "      <td>MISSING</td>\n",
       "      <td>request for payment 73550</td>\n",
       "      <td>UNKNOWN</td>\n",
       "      <td>task 71977</td>\n",
       "      <td>organizational unit 65463</td>\n",
       "      <td>854.579838</td>\n",
       "      <td>...</td>\n",
       "      <td>UNKNOWN</td>\n",
       "      <td>project 503</td>\n",
       "      <td>request for payment 73550</td>\n",
       "      <td>organizational unit 65455</td>\n",
       "      <td>1979.272104</td>\n",
       "      <td>0</td>\n",
       "      <td>travel permit 73549</td>\n",
       "      <td>UNKNOWN</td>\n",
       "      <td>request for payment number 73551</td>\n",
       "      <td>0</td>\n",
       "    </tr>\n",
       "    <tr>\n",
       "      <th>...</th>\n",
       "      <td>...</td>\n",
       "      <td>...</td>\n",
       "      <td>...</td>\n",
       "      <td>...</td>\n",
       "      <td>...</td>\n",
       "      <td>...</td>\n",
       "      <td>...</td>\n",
       "      <td>...</td>\n",
       "      <td>...</td>\n",
       "      <td>...</td>\n",
       "      <td>...</td>\n",
       "      <td>...</td>\n",
       "      <td>...</td>\n",
       "      <td>...</td>\n",
       "      <td>...</td>\n",
       "      <td>...</td>\n",
       "      <td>...</td>\n",
       "      <td>...</td>\n",
       "      <td>...</td>\n",
       "      <td>...</td>\n",
       "      <td>...</td>\n",
       "    </tr>\n",
       "    <tr>\n",
       "      <th>18241</th>\n",
       "      <td>st_step 186614_0</td>\n",
       "      <td>STAFF MEMBER</td>\n",
       "      <td>Request For Payment SUBMITTED by EMPLOYEE</td>\n",
       "      <td>2018-12-30 19:16:15+00:00</td>\n",
       "      <td>EMPLOYEE</td>\n",
       "      <td>request for payment 186612</td>\n",
       "      <td>UNKNOWN</td>\n",
       "      <td>UNKNOWN</td>\n",
       "      <td>organizational unit 65462</td>\n",
       "      <td>96.739075</td>\n",
       "      <td>...</td>\n",
       "      <td>UNKNOWN</td>\n",
       "      <td>project 147531</td>\n",
       "      <td>request for payment 186612</td>\n",
       "      <td>UNKNOWN</td>\n",
       "      <td>0.000000</td>\n",
       "      <td>0</td>\n",
       "      <td>UNKNOWN</td>\n",
       "      <td>UNKNOWN</td>\n",
       "      <td>request for payment number 186613</td>\n",
       "      <td>2098</td>\n",
       "    </tr>\n",
       "    <tr>\n",
       "      <th>18242</th>\n",
       "      <td>st_step 186616_0</td>\n",
       "      <td>STAFF MEMBER</td>\n",
       "      <td>Request For Payment APPROVED by ADMINISTRATION</td>\n",
       "      <td>2018-12-30 19:16:25+00:00</td>\n",
       "      <td>ADMINISTRATION</td>\n",
       "      <td>request for payment 186612</td>\n",
       "      <td>UNKNOWN</td>\n",
       "      <td>UNKNOWN</td>\n",
       "      <td>organizational unit 65462</td>\n",
       "      <td>96.739075</td>\n",
       "      <td>...</td>\n",
       "      <td>UNKNOWN</td>\n",
       "      <td>project 147531</td>\n",
       "      <td>request for payment 186612</td>\n",
       "      <td>UNKNOWN</td>\n",
       "      <td>0.000000</td>\n",
       "      <td>0</td>\n",
       "      <td>UNKNOWN</td>\n",
       "      <td>UNKNOWN</td>\n",
       "      <td>request for payment number 186613</td>\n",
       "      <td>2098</td>\n",
       "    </tr>\n",
       "    <tr>\n",
       "      <th>18243</th>\n",
       "      <td>st_step 186615_0</td>\n",
       "      <td>STAFF MEMBER</td>\n",
       "      <td>Request For Payment FINAL_APPROVED by SUPERVISOR</td>\n",
       "      <td>2019-01-14 14:09:11+00:00</td>\n",
       "      <td>SUPERVISOR</td>\n",
       "      <td>request for payment 186612</td>\n",
       "      <td>UNKNOWN</td>\n",
       "      <td>UNKNOWN</td>\n",
       "      <td>organizational unit 65462</td>\n",
       "      <td>96.739075</td>\n",
       "      <td>...</td>\n",
       "      <td>UNKNOWN</td>\n",
       "      <td>project 147531</td>\n",
       "      <td>request for payment 186612</td>\n",
       "      <td>UNKNOWN</td>\n",
       "      <td>0.000000</td>\n",
       "      <td>0</td>\n",
       "      <td>UNKNOWN</td>\n",
       "      <td>UNKNOWN</td>\n",
       "      <td>request for payment number 186613</td>\n",
       "      <td>2098</td>\n",
       "    </tr>\n",
       "    <tr>\n",
       "      <th>18244</th>\n",
       "      <td>rp_request for payment 186612_15</td>\n",
       "      <td>SYSTEM</td>\n",
       "      <td>Request Payment</td>\n",
       "      <td>2019-01-15 06:02:45+00:00</td>\n",
       "      <td>UNDEFINED</td>\n",
       "      <td>request for payment 186612</td>\n",
       "      <td>UNKNOWN</td>\n",
       "      <td>UNKNOWN</td>\n",
       "      <td>organizational unit 65462</td>\n",
       "      <td>96.739075</td>\n",
       "      <td>...</td>\n",
       "      <td>UNKNOWN</td>\n",
       "      <td>project 147531</td>\n",
       "      <td>request for payment 186612</td>\n",
       "      <td>UNKNOWN</td>\n",
       "      <td>0.000000</td>\n",
       "      <td>0</td>\n",
       "      <td>UNKNOWN</td>\n",
       "      <td>UNKNOWN</td>\n",
       "      <td>request for payment number 186613</td>\n",
       "      <td>2098</td>\n",
       "    </tr>\n",
       "    <tr>\n",
       "      <th>18245</th>\n",
       "      <td>rp_request for payment 186612_16</td>\n",
       "      <td>SYSTEM</td>\n",
       "      <td>Payment Handled</td>\n",
       "      <td>2019-01-17 16:31:44+00:00</td>\n",
       "      <td>UNDEFINED</td>\n",
       "      <td>request for payment 186612</td>\n",
       "      <td>UNKNOWN</td>\n",
       "      <td>UNKNOWN</td>\n",
       "      <td>organizational unit 65462</td>\n",
       "      <td>96.739075</td>\n",
       "      <td>...</td>\n",
       "      <td>UNKNOWN</td>\n",
       "      <td>project 147531</td>\n",
       "      <td>request for payment 186612</td>\n",
       "      <td>UNKNOWN</td>\n",
       "      <td>0.000000</td>\n",
       "      <td>0</td>\n",
       "      <td>UNKNOWN</td>\n",
       "      <td>UNKNOWN</td>\n",
       "      <td>request for payment number 186613</td>\n",
       "      <td>2098</td>\n",
       "    </tr>\n",
       "  </tbody>\n",
       "</table>\n",
       "<p>18246 rows × 23 columns</p>\n",
       "</div>"
      ],
      "text/plain": [
       "                                     id  org:resource  \\\n",
       "0                       st_step 73555_0  STAFF MEMBER   \n",
       "1                       st_step 73554_0  STAFF MEMBER   \n",
       "2                       st_step 73558_0  STAFF MEMBER   \n",
       "3                       st_step 73559_0  STAFF MEMBER   \n",
       "4                       st_step 73557_0  STAFF MEMBER   \n",
       "...                                 ...           ...   \n",
       "18241                  st_step 186614_0  STAFF MEMBER   \n",
       "18242                  st_step 186616_0  STAFF MEMBER   \n",
       "18243                  st_step 186615_0  STAFF MEMBER   \n",
       "18244  rp_request for payment 186612_15        SYSTEM   \n",
       "18245  rp_request for payment 186612_16        SYSTEM   \n",
       "\n",
       "                                           concept:name  \\\n",
       "0                          Permit SUBMITTED by EMPLOYEE   \n",
       "1                   Permit FINAL_APPROVED by SUPERVISOR   \n",
       "2             Request For Payment SUBMITTED by EMPLOYEE   \n",
       "3      Request For Payment FINAL_APPROVED by SUPERVISOR   \n",
       "4               Request For Payment REJECTED by MISSING   \n",
       "...                                                 ...   \n",
       "18241         Request For Payment SUBMITTED by EMPLOYEE   \n",
       "18242    Request For Payment APPROVED by ADMINISTRATION   \n",
       "18243  Request For Payment FINAL_APPROVED by SUPERVISOR   \n",
       "18244                                   Request Payment   \n",
       "18245                                   Payment Handled   \n",
       "\n",
       "                 time:timestamp        org:role                 case:Rfp_id  \\\n",
       "0     2017-01-09 13:48:43+00:00        EMPLOYEE   request for payment 73550   \n",
       "1     2017-01-09 13:48:55+00:00      SUPERVISOR   request for payment 73550   \n",
       "2     2017-01-12 10:40:27+00:00        EMPLOYEE   request for payment 73550   \n",
       "3     2017-01-12 10:41:59+00:00      SUPERVISOR   request for payment 73550   \n",
       "4     2017-01-12 10:53:07+00:00         MISSING   request for payment 73550   \n",
       "...                         ...             ...                         ...   \n",
       "18241 2018-12-30 19:16:15+00:00        EMPLOYEE  request for payment 186612   \n",
       "18242 2018-12-30 19:16:25+00:00  ADMINISTRATION  request for payment 186612   \n",
       "18243 2019-01-14 14:09:11+00:00      SUPERVISOR  request for payment 186612   \n",
       "18244 2019-01-15 06:02:45+00:00       UNDEFINED  request for payment 186612   \n",
       "18245 2019-01-17 16:31:44+00:00       UNDEFINED  request for payment 186612   \n",
       "\n",
       "      case:Permit travel permit number   case:Task  case:OrganizationalEntity  \\\n",
       "0                              UNKNOWN  task 71977  organizational unit 65463   \n",
       "1                              UNKNOWN  task 71977  organizational unit 65463   \n",
       "2                              UNKNOWN  task 71977  organizational unit 65463   \n",
       "3                              UNKNOWN  task 71977  organizational unit 65463   \n",
       "4                              UNKNOWN  task 71977  organizational unit 65463   \n",
       "...                                ...         ...                        ...   \n",
       "18241                          UNKNOWN     UNKNOWN  organizational unit 65462   \n",
       "18242                          UNKNOWN     UNKNOWN  organizational unit 65462   \n",
       "18243                          UNKNOWN     UNKNOWN  organizational unit 65462   \n",
       "18244                          UNKNOWN     UNKNOWN  organizational unit 65462   \n",
       "18245                          UNKNOWN     UNKNOWN  organizational unit 65462   \n",
       "\n",
       "       case:RequestedAmount  ... case:Permit ProjectNumber    case:Project  \\\n",
       "0                854.579838  ...                   UNKNOWN     project 503   \n",
       "1                854.579838  ...                   UNKNOWN     project 503   \n",
       "2                854.579838  ...                   UNKNOWN     project 503   \n",
       "3                854.579838  ...                   UNKNOWN     project 503   \n",
       "4                854.579838  ...                   UNKNOWN     project 503   \n",
       "...                     ...  ...                       ...             ...   \n",
       "18241             96.739075  ...                   UNKNOWN  project 147531   \n",
       "18242             96.739075  ...                   UNKNOWN  project 147531   \n",
       "18243             96.739075  ...                   UNKNOWN  project 147531   \n",
       "18244             96.739075  ...                   UNKNOWN  project 147531   \n",
       "18245             96.739075  ...                   UNKNOWN  project 147531   \n",
       "\n",
       "                case:concept:name case:Permit OrganizationalEntity  \\\n",
       "0       request for payment 73550        organizational unit 65455   \n",
       "1       request for payment 73550        organizational unit 65455   \n",
       "2       request for payment 73550        organizational unit 65455   \n",
       "3       request for payment 73550        organizational unit 65455   \n",
       "4       request for payment 73550        organizational unit 65455   \n",
       "...                           ...                              ...   \n",
       "18241  request for payment 186612                          UNKNOWN   \n",
       "18242  request for payment 186612                          UNKNOWN   \n",
       "18243  request for payment 186612                          UNKNOWN   \n",
       "18244  request for payment 186612                          UNKNOWN   \n",
       "18245  request for payment 186612                          UNKNOWN   \n",
       "\n",
       "      case:Permit RequestedBudget case:Cost Type       case:Permit id  \\\n",
       "0                     1979.272104              0  travel permit 73549   \n",
       "1                     1979.272104              0  travel permit 73549   \n",
       "2                     1979.272104              0  travel permit 73549   \n",
       "3                     1979.272104              0  travel permit 73549   \n",
       "4                     1979.272104              0  travel permit 73549   \n",
       "...                           ...            ...                  ...   \n",
       "18241                    0.000000              0              UNKNOWN   \n",
       "18242                    0.000000              0              UNKNOWN   \n",
       "18243                    0.000000              0              UNKNOWN   \n",
       "18244                    0.000000              0              UNKNOWN   \n",
       "18245                    0.000000              0              UNKNOWN   \n",
       "\n",
       "       case:Permit ActivityNumber                     case:RfpNumber  \\\n",
       "0                         UNKNOWN   request for payment number 73551   \n",
       "1                         UNKNOWN   request for payment number 73551   \n",
       "2                         UNKNOWN   request for payment number 73551   \n",
       "3                         UNKNOWN   request for payment number 73551   \n",
       "4                         UNKNOWN   request for payment number 73551   \n",
       "...                           ...                                ...   \n",
       "18241                     UNKNOWN  request for payment number 186613   \n",
       "18242                     UNKNOWN  request for payment number 186613   \n",
       "18243                     UNKNOWN  request for payment number 186613   \n",
       "18244                     UNKNOWN  request for payment number 186613   \n",
       "18245                     UNKNOWN  request for payment number 186613   \n",
       "\n",
       "      @@case_index  \n",
       "0                0  \n",
       "1                0  \n",
       "2                0  \n",
       "3                0  \n",
       "4                0  \n",
       "...            ...  \n",
       "18241         2098  \n",
       "18242         2098  \n",
       "18243         2098  \n",
       "18244         2098  \n",
       "18245         2098  \n",
       "\n",
       "[18246 rows x 23 columns]"
      ]
     },
     "execution_count": 1,
     "metadata": {},
     "output_type": "execute_result"
    }
   ],
   "source": [
    "import pandas as pd\n",
    "import numpy as np\n",
    "import pm4py\n",
    "from pm4py.objects.conversion.log import converter as log_converter\n",
    "\n",
    "if __name__ == \"__main__\":\n",
    "    # Read the XES file\n",
    "    dataframe_log = pm4py.read_xes('../../data/logs/PrepaidTravelCost.xes')\n",
    "\n",
    "    # If 'log' is already a DataFrame, add the @@case_index column directly\n",
    "    case_indices = {case_id: idx for idx, case_id in enumerate(dataframe_log['case:concept:name'].unique())}\n",
    "    dataframe_log['@@case_index'] = dataframe_log['case:concept:name'].map(case_indices)\n",
    "    \n",
    "     # Convert the dataframe to event log\n",
    "    log = log_converter.apply(dataframe_log)\n",
    "    \n",
    "dataframe_log"
   ]
  },
  {
   "cell_type": "markdown",
   "id": "ba199329",
   "metadata": {},
   "source": [
    "# Preprocessing"
   ]
  },
  {
   "cell_type": "code",
   "execution_count": 2,
   "id": "157dbb27",
   "metadata": {},
   "outputs": [],
   "source": [
    "from sklearn.preprocessing import MultiLabelBinarizer\n",
    "\n",
    "# Step 1: One-Hot Encoding of Activities\n",
    "mlb = MultiLabelBinarizer()\n",
    "traces = dataframe_log.groupby('@@case_index')['concept:name'].apply(list)\n",
    "one_hot_encoded = mlb.fit_transform(traces)"
   ]
  },
  {
   "cell_type": "code",
   "execution_count": 3,
   "id": "4f0daa72",
   "metadata": {},
   "outputs": [],
   "source": [
    "one_hot_encoding = np.array(one_hot_encoded.tolist())"
   ]
  },
  {
   "cell_type": "markdown",
   "id": "2171bf1e",
   "metadata": {},
   "source": [
    "# Input Traces"
   ]
  },
  {
   "cell_type": "code",
   "execution_count": 4,
   "id": "0029315f",
   "metadata": {},
   "outputs": [],
   "source": [
    "# Step 2: Group by case_index and concatenate the activities to form traces\n",
    "dataframe_log['trace'] = dataframe_log.groupby('@@case_index')['concept:name'].transform(lambda x: ', '.join(x))\n",
    "\n",
    "# Step 3: Count occurrences of each unique trace\n",
    "trace_counts = dataframe_log['trace'].value_counts()\n",
    "\n",
    "# Step 4: Convert to DataFrame and sort by occurrences\n",
    "trace_counts_df = trace_counts.reset_index()\n",
    "trace_counts_df.columns = ['Trace', 'Count']\n",
    "trace_counts_df = trace_counts_df.sort_values(by='Count', ascending=False)\n"
   ]
  },
  {
   "cell_type": "code",
   "execution_count": 5,
   "id": "2b7016de",
   "metadata": {},
   "outputs": [],
   "source": [
    "top_3_traces = trace_counts_df.head(20)\n",
    "\n",
    "trace1 = top_3_traces.iloc[0]['Trace']\n",
    "trace1 = [event.strip() for event in trace1.split(',')]\n",
    "\n",
    "trace2 = top_3_traces.iloc[1]['Trace']\n",
    "trace2 = [event.strip() for event in trace2.split(',')]\n",
    "\n",
    "trace3 = top_3_traces.iloc[2]['Trace']\n",
    "trace3 = [event.strip() for event in trace3.split(',')]\n",
    "\n",
    "trace4 = top_3_traces.iloc[3]['Trace']\n",
    "trace4 = [event.strip() for event in trace4.split(',')]\n",
    "\n",
    "trace5 = top_3_traces.iloc[4]['Trace']\n",
    "trace5 = [event.strip() for event in trace5.split(',')]\n",
    "\n",
    "trace6 = top_3_traces.iloc[5]['Trace']\n",
    "trace6 = [event.strip() for event in trace6.split(',')]\n",
    "\n",
    "trace7 = top_3_traces.iloc[6]['Trace']\n",
    "trace7 = [event.strip() for event in trace7.split(',')]\n",
    "\n",
    "trace8 = top_3_traces.iloc[7]['Trace']\n",
    "trace8 = [event.strip() for event in trace8.split(',')]\n",
    "\n",
    "trace9 = top_3_traces.iloc[8]['Trace']\n",
    "trace9 = [event.strip() for event in trace9.split(',')]\n",
    "\n",
    "trace10 = top_3_traces.iloc[9]['Trace']\n",
    "trace10 = [event.strip() for event in trace10.split(',')]\n",
    "\n",
    "trace11 = top_3_traces.iloc[10]['Trace']\n",
    "trace11 = [event.strip() for event in trace11.split(',')]\n",
    "\n",
    "trace12 = top_3_traces.iloc[11]['Trace']\n",
    "trace12 = [event.strip() for event in trace12.split(',')]\n",
    "\n",
    "trace13 = top_3_traces.iloc[12]['Trace']\n",
    "trace13 = [event.strip() for event in trace13.split(',')]\n",
    "\n",
    "trace14 = top_3_traces.iloc[13]['Trace']\n",
    "trace14 = [event.strip() for event in trace14.split(',')]\n",
    "\n",
    "trace15 = top_3_traces.iloc[14]['Trace']\n",
    "trace15 = [event.strip() for event in trace15.split(',')]"
   ]
  },
  {
   "cell_type": "code",
   "execution_count": 6,
   "id": "2d8f5dd4",
   "metadata": {},
   "outputs": [
    {
     "data": {
      "text/plain": [
       "['Permit SUBMITTED by EMPLOYEE',\n",
       " 'Permit APPROVED by ADMINISTRATION',\n",
       " 'Permit FINAL_APPROVED by SUPERVISOR',\n",
       " 'Request For Payment SUBMITTED by EMPLOYEE',\n",
       " 'Request For Payment APPROVED by ADMINISTRATION',\n",
       " 'Request For Payment FINAL_APPROVED by SUPERVISOR',\n",
       " 'Request Payment',\n",
       " 'Payment Handled']"
      ]
     },
     "execution_count": 6,
     "metadata": {},
     "output_type": "execute_result"
    }
   ],
   "source": [
    "trace1"
   ]
  },
  {
   "cell_type": "code",
   "execution_count": 7,
   "id": "802976a7",
   "metadata": {},
   "outputs": [
    {
     "data": {
      "text/plain": [
       "['Permit SUBMITTED by EMPLOYEE',\n",
       " 'Permit APPROVED by ADMINISTRATION',\n",
       " 'Permit APPROVED by BUDGET OWNER',\n",
       " 'Permit FINAL_APPROVED by SUPERVISOR',\n",
       " 'Request For Payment SUBMITTED by EMPLOYEE',\n",
       " 'Request For Payment APPROVED by ADMINISTRATION',\n",
       " 'Request For Payment APPROVED by BUDGET OWNER',\n",
       " 'Request For Payment FINAL_APPROVED by SUPERVISOR',\n",
       " 'Request Payment',\n",
       " 'Payment Handled']"
      ]
     },
     "execution_count": 7,
     "metadata": {},
     "output_type": "execute_result"
    }
   ],
   "source": [
    "trace2"
   ]
  },
  {
   "cell_type": "code",
   "execution_count": 8,
   "id": "505f5bc8",
   "metadata": {},
   "outputs": [
    {
     "data": {
      "text/plain": [
       "['Permit SUBMITTED by EMPLOYEE',\n",
       " 'Permit APPROVED by ADMINISTRATION',\n",
       " 'Permit APPROVED by SUPERVISOR',\n",
       " 'Permit FINAL_APPROVED by DIRECTOR',\n",
       " 'Request For Payment SUBMITTED by EMPLOYEE',\n",
       " 'Request For Payment APPROVED by ADMINISTRATION',\n",
       " 'Request For Payment FINAL_APPROVED by SUPERVISOR',\n",
       " 'Request Payment',\n",
       " 'Payment Handled']"
      ]
     },
     "execution_count": 8,
     "metadata": {},
     "output_type": "execute_result"
    }
   ],
   "source": [
    "trace3"
   ]
  },
  {
   "cell_type": "code",
   "execution_count": 9,
   "id": "ee60b122",
   "metadata": {},
   "outputs": [],
   "source": [
    "grouped = dataframe_log.groupby('@@case_index')['concept:name'].apply(list).reset_index(name='trace')"
   ]
  },
  {
   "cell_type": "code",
   "execution_count": 10,
   "id": "d3fc4290",
   "metadata": {},
   "outputs": [],
   "source": [
    "def is_happy_trace(row_trace):\n",
    "    predefined_traces = [trace1, trace2, trace3]\n",
    "    for trace in predefined_traces:\n",
    "        if row_trace == trace:\n",
    "            return 1\n",
    "    return 0"
   ]
  },
  {
   "cell_type": "code",
   "execution_count": 11,
   "id": "e286ba1c",
   "metadata": {},
   "outputs": [
    {
     "data": {
      "text/html": [
       "<div>\n",
       "<style scoped>\n",
       "    .dataframe tbody tr th:only-of-type {\n",
       "        vertical-align: middle;\n",
       "    }\n",
       "\n",
       "    .dataframe tbody tr th {\n",
       "        vertical-align: top;\n",
       "    }\n",
       "\n",
       "    .dataframe thead th {\n",
       "        text-align: right;\n",
       "    }\n",
       "</style>\n",
       "<table border=\"1\" class=\"dataframe\">\n",
       "  <thead>\n",
       "    <tr style=\"text-align: right;\">\n",
       "      <th></th>\n",
       "      <th>@@case_index</th>\n",
       "      <th>trace</th>\n",
       "      <th>happy</th>\n",
       "    </tr>\n",
       "  </thead>\n",
       "  <tbody>\n",
       "    <tr>\n",
       "      <th>0</th>\n",
       "      <td>0</td>\n",
       "      <td>[Permit SUBMITTED by EMPLOYEE, Permit FINAL_AP...</td>\n",
       "      <td>0</td>\n",
       "    </tr>\n",
       "    <tr>\n",
       "      <th>1</th>\n",
       "      <td>1</td>\n",
       "      <td>[Permit SUBMITTED by EMPLOYEE, Permit FINAL_AP...</td>\n",
       "      <td>0</td>\n",
       "    </tr>\n",
       "    <tr>\n",
       "      <th>2</th>\n",
       "      <td>2</td>\n",
       "      <td>[Permit SUBMITTED by EMPLOYEE, Permit APPROVED...</td>\n",
       "      <td>0</td>\n",
       "    </tr>\n",
       "    <tr>\n",
       "      <th>3</th>\n",
       "      <td>3</td>\n",
       "      <td>[Permit SUBMITTED by EMPLOYEE, Permit APPROVED...</td>\n",
       "      <td>0</td>\n",
       "    </tr>\n",
       "    <tr>\n",
       "      <th>4</th>\n",
       "      <td>4</td>\n",
       "      <td>[Request For Payment SUBMITTED by EMPLOYEE, Re...</td>\n",
       "      <td>0</td>\n",
       "    </tr>\n",
       "    <tr>\n",
       "      <th>...</th>\n",
       "      <td>...</td>\n",
       "      <td>...</td>\n",
       "      <td>...</td>\n",
       "    </tr>\n",
       "    <tr>\n",
       "      <th>2094</th>\n",
       "      <td>2094</td>\n",
       "      <td>[Request For Payment SUBMITTED by EMPLOYEE, Re...</td>\n",
       "      <td>0</td>\n",
       "    </tr>\n",
       "    <tr>\n",
       "      <th>2095</th>\n",
       "      <td>2095</td>\n",
       "      <td>[Permit SUBMITTED by EMPLOYEE, Permit APPROVED...</td>\n",
       "      <td>0</td>\n",
       "    </tr>\n",
       "    <tr>\n",
       "      <th>2096</th>\n",
       "      <td>2096</td>\n",
       "      <td>[Request For Payment SUBMITTED by EMPLOYEE, Re...</td>\n",
       "      <td>0</td>\n",
       "    </tr>\n",
       "    <tr>\n",
       "      <th>2097</th>\n",
       "      <td>2097</td>\n",
       "      <td>[Request For Payment SUBMITTED by EMPLOYEE, Re...</td>\n",
       "      <td>0</td>\n",
       "    </tr>\n",
       "    <tr>\n",
       "      <th>2098</th>\n",
       "      <td>2098</td>\n",
       "      <td>[Request For Payment SUBMITTED by EMPLOYEE, Re...</td>\n",
       "      <td>0</td>\n",
       "    </tr>\n",
       "  </tbody>\n",
       "</table>\n",
       "<p>2099 rows × 3 columns</p>\n",
       "</div>"
      ],
      "text/plain": [
       "      @@case_index                                              trace  happy\n",
       "0                0  [Permit SUBMITTED by EMPLOYEE, Permit FINAL_AP...      0\n",
       "1                1  [Permit SUBMITTED by EMPLOYEE, Permit FINAL_AP...      0\n",
       "2                2  [Permit SUBMITTED by EMPLOYEE, Permit APPROVED...      0\n",
       "3                3  [Permit SUBMITTED by EMPLOYEE, Permit APPROVED...      0\n",
       "4                4  [Request For Payment SUBMITTED by EMPLOYEE, Re...      0\n",
       "...            ...                                                ...    ...\n",
       "2094          2094  [Request For Payment SUBMITTED by EMPLOYEE, Re...      0\n",
       "2095          2095  [Permit SUBMITTED by EMPLOYEE, Permit APPROVED...      0\n",
       "2096          2096  [Request For Payment SUBMITTED by EMPLOYEE, Re...      0\n",
       "2097          2097  [Request For Payment SUBMITTED by EMPLOYEE, Re...      0\n",
       "2098          2098  [Request For Payment SUBMITTED by EMPLOYEE, Re...      0\n",
       "\n",
       "[2099 rows x 3 columns]"
      ]
     },
     "execution_count": 11,
     "metadata": {},
     "output_type": "execute_result"
    }
   ],
   "source": [
    "grouped['happy'] = grouped['trace'].apply(is_happy_trace)\n",
    "grouped"
   ]
  },
  {
   "cell_type": "code",
   "execution_count": 12,
   "id": "47f40179",
   "metadata": {},
   "outputs": [
    {
     "name": "stdout",
     "output_type": "stream",
     "text": [
      "Total Rows: 2099\n",
      "Count of 1s: 1006\n",
      "Percentage of 1s: 47.93%\n"
     ]
    }
   ],
   "source": [
    "# Assuming df is your dataframe and 'target_column' is the column of interest\n",
    "total_rows = len(grouped)\n",
    "count_of_ones = grouped['happy'].value_counts().get(1, 0)\n",
    "percentage_of_ones = (count_of_ones / total_rows) * 100\n",
    "\n",
    "print(f\"Total Rows: {total_rows}\")\n",
    "print(f\"Count of 1s: {count_of_ones}\")\n",
    "print(f\"Percentage of 1s: {percentage_of_ones:.2f}%\")"
   ]
  },
  {
   "cell_type": "code",
   "execution_count": 13,
   "id": "a9521ad8",
   "metadata": {},
   "outputs": [],
   "source": [
    "# Get indices of the happy traces in the results dataframe\n",
    "happy_trace_indices = grouped[grouped['happy'] == 1].index.tolist()\n",
    "\n",
    "# Extract the corresponding coordinates from the trace_representations array\n",
    "happy_trace_coordinates = one_hot_encoding[happy_trace_indices]\n",
    "\n",
    "# Extract unique coordinates\n",
    "unique_happy_trace_coordinates = np.unique(happy_trace_coordinates, axis=0)\n",
    "\n",
    "# Assuming the size of unique_happy_trace_coordinates is 3\n",
    "#happy_trace1, happy_trace2, happy_trace3 = unique_happy_trace_coordinates\n",
    "happy_trace1, happy_trace2, happy_trace3 = unique_happy_trace_coordinates"
   ]
  },
  {
   "cell_type": "markdown",
   "id": "2eb704ff",
   "metadata": {},
   "source": [
    "# Distance Measurement"
   ]
  },
  {
   "cell_type": "code",
   "execution_count": 14,
   "id": "ce6f9e52",
   "metadata": {},
   "outputs": [],
   "source": [
    "from scipy.spatial.distance import euclidean\n",
    "\n",
    "# Calculate the distances to each of the happy traces for every trace representation\n",
    "distances_to_happy_traces = []\n",
    "\n",
    "for trace_representation in one_hot_encoding:\n",
    "    distances = [\n",
    "        euclidean(trace_representation, happy_trace1),\n",
    "        euclidean(trace_representation, happy_trace2),\n",
    "        euclidean(trace_representation, happy_trace3)\n",
    "    ]\n",
    "    distances_to_happy_traces.append(distances)\n",
    "\n",
    "# Calculate the average distance to the happy traces for each trace representation\n",
    "avg_distances = [np.mean(distances) for distances in distances_to_happy_traces]\n",
    "\n",
    "# Save the distances in a variable\n",
    "avg_distances_var = np.array(avg_distances)"
   ]
  },
  {
   "cell_type": "markdown",
   "id": "419acf27",
   "metadata": {},
   "source": [
    "# Ground Truth"
   ]
  },
  {
   "cell_type": "code",
   "execution_count": 15,
   "id": "ad7a799a",
   "metadata": {},
   "outputs": [],
   "source": [
    "def generate_alignments_adjusted_tracecost_pkl(log, net, initial_marking, final_marking):\n",
    "    from pm4py.algo.conformance.alignments.petri_net import algorithm as alignments\n",
    "    from pm4py.algo.conformance.alignments.petri_net import variants\n",
    "    from pm4py.objects.petri_net.utils import align_utils\n",
    "    max_events=0\n",
    "    for trace in log:\n",
    "        counter=0\n",
    "        for event in trace:\n",
    "            counter+=1\n",
    "        if counter > max_events:\n",
    "            max_events=counter\n",
    "    parameters={}\n",
    "    parameters[alignments.Variants.VERSION_STATE_EQUATION_A_STAR.value.Parameters.PARAM_SYNC_COST_FUNCTION] = list(map(lambda i: .1*i, range(max_events*2)))\n",
    "    parameters[alignments.Variants.VERSION_STATE_EQUATION_A_STAR.value.Parameters.PARAM_TRACE_COST_FUNCTION]=list(map(lambda i: align_utils.STD_MODEL_LOG_MOVE_COST-.1*i, range(max_events*2)))\n",
    "    aligned_traces = alignments.apply_log(log, net, initial_marking, final_marking, variant=variants.state_equation_a_star, parameters=parameters)\n",
    "    return aligned_traces"
   ]
  },
  {
   "cell_type": "code",
   "execution_count": 16,
   "id": "75901bd4",
   "metadata": {},
   "outputs": [
    {
     "data": {
      "application/vnd.jupyter.widget-view+json": {
       "model_id": "732383b01ac54ecd84e83ccd57fffa14",
       "version_major": 2,
       "version_minor": 0
      },
      "text/plain": [
       "aligning log, completed variants ::   0%|          | 0/202 [00:00<?, ?it/s]"
      ]
     },
     "metadata": {},
     "output_type": "display_data"
    }
   ],
   "source": [
    "import pm4py\n",
    "from pm4py.objects.log.importer.xes import importer as xes_importer\n",
    "from pm4py.objects.bpmn.importer import importer as bpmn_importer\n",
    "from pm4py.algo.conformance.alignments.petri_net import algorithm as alignments_petri\n",
    "\n",
    "# 2. Import the given BPMN model\n",
    "bpmn_graph = bpmn_importer.apply(\"../../data/model/Model_PrepaidTravelCost.bpmn\")\n",
    "\n",
    "# 3. Convert the BPMN to a Petri net\n",
    "net, initial_marking, final_marking = pm4py.convert_to_petri_net(bpmn_graph)\n",
    "\n",
    "aligned_traces = generate_alignments_adjusted_tracecost_pkl(log, net, initial_marking, final_marking)"
   ]
  },
  {
   "cell_type": "code",
   "execution_count": 17,
   "id": "74f22d0b",
   "metadata": {},
   "outputs": [],
   "source": [
    "def extract_conformance_status_by_fitness(aligned_traces):\n",
    "    conformance_status = []\n",
    "    for alignment in aligned_traces:\n",
    "        fitness = alignment['fitness']\n",
    "        # If the fitness is 1.0, the trace is conforming\n",
    "        if fitness == 1.0:\n",
    "            conformance_status.append(1)\n",
    "        else:\n",
    "            conformance_status.append(0)\n",
    "    return conformance_status\n",
    "\n",
    "# Get the conformance status list from the aligned traces\n",
    "conformance = extract_conformance_status_by_fitness(aligned_traces)"
   ]
  },
  {
   "cell_type": "markdown",
   "id": "5041b2f3",
   "metadata": {},
   "source": [
    "# Results overview"
   ]
  },
  {
   "cell_type": "code",
   "execution_count": 18,
   "id": "6648d6d4",
   "metadata": {},
   "outputs": [
    {
     "data": {
      "text/html": [
       "<div>\n",
       "<style scoped>\n",
       "    .dataframe tbody tr th:only-of-type {\n",
       "        vertical-align: middle;\n",
       "    }\n",
       "\n",
       "    .dataframe tbody tr th {\n",
       "        vertical-align: top;\n",
       "    }\n",
       "\n",
       "    .dataframe thead th {\n",
       "        text-align: right;\n",
       "    }\n",
       "</style>\n",
       "<table border=\"1\" class=\"dataframe\">\n",
       "  <thead>\n",
       "    <tr style=\"text-align: right;\">\n",
       "      <th></th>\n",
       "      <th>trace</th>\n",
       "      <th>conform</th>\n",
       "      <th>distance</th>\n",
       "    </tr>\n",
       "  </thead>\n",
       "  <tbody>\n",
       "    <tr>\n",
       "      <th>0</th>\n",
       "      <td>[Permit SUBMITTED by EMPLOYEE, Permit FINAL_AP...</td>\n",
       "      <td>0</td>\n",
       "      <td>2.759306</td>\n",
       "    </tr>\n",
       "    <tr>\n",
       "      <th>1</th>\n",
       "      <td>[Permit SUBMITTED by EMPLOYEE, Permit FINAL_AP...</td>\n",
       "      <td>0</td>\n",
       "      <td>2.139203</td>\n",
       "    </tr>\n",
       "    <tr>\n",
       "      <th>2</th>\n",
       "      <td>[Permit SUBMITTED by EMPLOYEE, Permit APPROVED...</td>\n",
       "      <td>0</td>\n",
       "      <td>2.098678</td>\n",
       "    </tr>\n",
       "    <tr>\n",
       "      <th>3</th>\n",
       "      <td>[Permit SUBMITTED by EMPLOYEE, Permit APPROVED...</td>\n",
       "      <td>0</td>\n",
       "      <td>2.336656</td>\n",
       "    </tr>\n",
       "    <tr>\n",
       "      <th>4</th>\n",
       "      <td>[Request For Payment SUBMITTED by EMPLOYEE, Re...</td>\n",
       "      <td>0</td>\n",
       "      <td>2.824726</td>\n",
       "    </tr>\n",
       "    <tr>\n",
       "      <th>...</th>\n",
       "      <td>...</td>\n",
       "      <td>...</td>\n",
       "      <td>...</td>\n",
       "    </tr>\n",
       "    <tr>\n",
       "      <th>2094</th>\n",
       "      <td>[Request For Payment SUBMITTED by EMPLOYEE, Re...</td>\n",
       "      <td>0</td>\n",
       "      <td>2.078689</td>\n",
       "    </tr>\n",
       "    <tr>\n",
       "      <th>2095</th>\n",
       "      <td>[Permit SUBMITTED by EMPLOYEE, Permit APPROVED...</td>\n",
       "      <td>0</td>\n",
       "      <td>1.216761</td>\n",
       "    </tr>\n",
       "    <tr>\n",
       "      <th>2096</th>\n",
       "      <td>[Request For Payment SUBMITTED by EMPLOYEE, Re...</td>\n",
       "      <td>0</td>\n",
       "      <td>1.989373</td>\n",
       "    </tr>\n",
       "    <tr>\n",
       "      <th>2097</th>\n",
       "      <td>[Request For Payment SUBMITTED by EMPLOYEE, Re...</td>\n",
       "      <td>0</td>\n",
       "      <td>2.078689</td>\n",
       "    </tr>\n",
       "    <tr>\n",
       "      <th>2098</th>\n",
       "      <td>[Request For Payment SUBMITTED by EMPLOYEE, Re...</td>\n",
       "      <td>0</td>\n",
       "      <td>1.989373</td>\n",
       "    </tr>\n",
       "  </tbody>\n",
       "</table>\n",
       "<p>2099 rows × 3 columns</p>\n",
       "</div>"
      ],
      "text/plain": [
       "                                                  trace  conform  distance\n",
       "0     [Permit SUBMITTED by EMPLOYEE, Permit FINAL_AP...        0  2.759306\n",
       "1     [Permit SUBMITTED by EMPLOYEE, Permit FINAL_AP...        0  2.139203\n",
       "2     [Permit SUBMITTED by EMPLOYEE, Permit APPROVED...        0  2.098678\n",
       "3     [Permit SUBMITTED by EMPLOYEE, Permit APPROVED...        0  2.336656\n",
       "4     [Request For Payment SUBMITTED by EMPLOYEE, Re...        0  2.824726\n",
       "...                                                 ...      ...       ...\n",
       "2094  [Request For Payment SUBMITTED by EMPLOYEE, Re...        0  2.078689\n",
       "2095  [Permit SUBMITTED by EMPLOYEE, Permit APPROVED...        0  1.216761\n",
       "2096  [Request For Payment SUBMITTED by EMPLOYEE, Re...        0  1.989373\n",
       "2097  [Request For Payment SUBMITTED by EMPLOYEE, Re...        0  2.078689\n",
       "2098  [Request For Payment SUBMITTED by EMPLOYEE, Re...        0  1.989373\n",
       "\n",
       "[2099 rows x 3 columns]"
      ]
     },
     "execution_count": 18,
     "metadata": {},
     "output_type": "execute_result"
    }
   ],
   "source": [
    "results = pd.DataFrame(grouped['trace'])\n",
    "\n",
    "conformity_array = conformance\n",
    "results['conform'] = conformity_array\n",
    "\n",
    "results['distance'] = avg_distances_var\n",
    "\n",
    "results"
   ]
  },
  {
   "cell_type": "markdown",
   "id": "cd08b275",
   "metadata": {},
   "source": [
    "# (Check if input traces = conform)"
   ]
  },
  {
   "cell_type": "code",
   "execution_count": 19,
   "id": "1d591a61",
   "metadata": {},
   "outputs": [],
   "source": [
    "check = pd.DataFrame(results['conform'])\n",
    "check['happy'] = grouped['happy']"
   ]
  },
  {
   "cell_type": "code",
   "execution_count": 20,
   "id": "558a0ca2",
   "metadata": {},
   "outputs": [
    {
     "name": "stdout",
     "output_type": "stream",
     "text": [
      "Input Traces conform\n"
     ]
    }
   ],
   "source": [
    "# Check if there is any row where happy = 1 but conform = 0\n",
    "condition = (check['happy'] == 1) & (check['conform'] == 0)\n",
    "result = check[condition]\n",
    "\n",
    "# Check if the condition is met and print the result\n",
    "if not result.empty:\n",
    "    print(\"There is at least one non conform input trace\")\n",
    "    print(result)\n",
    "else:\n",
    "    print(\"Input Traces conform\")\n"
   ]
  },
  {
   "cell_type": "markdown",
   "id": "3fba7067",
   "metadata": {},
   "source": [
    "# Evaluation"
   ]
  },
  {
   "cell_type": "code",
   "execution_count": 21,
   "id": "364bd017",
   "metadata": {},
   "outputs": [
    {
     "data": {
      "image/png": "[encoded data removed]",
      "text/plain": [
       "<Figure size 640x480 with 1 Axes>"
      ]
     },
     "metadata": {},
     "output_type": "display_data"
    }
   ],
   "source": [
    "import matplotlib.pyplot as plt\n",
    "from sklearn.cluster import KMeans\n",
    "\n",
    "# Filter the DataFrame into conforming and non-conforming subsets\n",
    "conforming_distances = results[results['conform'] == 1]['distance']\n",
    "non_conforming_distances = results[results['conform'] == 0]['distance']\n",
    "\n",
    "# Determine common bin edges\n",
    "min_distance = min(results['distance'])\n",
    "max_distance = max(results['distance'])\n",
    "bin_edges = np.linspace(min_distance, max_distance, num=30)\n",
    "\n",
    "# Combine the data and reshape for k-means\n",
    "all_distances = results['distance']\n",
    "all_distances = np.array(all_distances)\n",
    "all_distances_reshaped = all_distances.reshape(-1, 1)\n",
    "\n",
    "# Apply k-means clustering\n",
    "kmeans = KMeans(n_clusters=2, random_state=0).fit(all_distances_reshaped)\n",
    "kmeans_labels = kmeans.labels_\n",
    "\n",
    "# Find the threshold as the average of the two cluster centers\n",
    "threshold_value = np.mean(kmeans.cluster_centers_)\n",
    "\n",
    "# Plot histograms and the threshold\n",
    "plt.hist(conforming_distances, bins=bin_edges, alpha=0.5, label='Conforming', color='green')\n",
    "plt.hist(non_conforming_distances, bins=bin_edges, alpha=0.5, label='Non-Conforming', color='red')\n",
    "plt.axvline(threshold_value, color='blue', linestyle='dashed', linewidth=1, label='Threshold')\n",
    "plt.xlabel('Distance')\n",
    "plt.ylabel('Frequency')\n",
    "plt.legend(loc='upper right')\n",
    "plt.title(f'Threshold at {threshold_value:.2f}')\n",
    "\n",
    "plt.savefig('Model_A_Threshold.png', dpi=300, bbox_inches='tight')\n",
    "\n",
    "plt.show()"
   ]
  },
  {
   "cell_type": "code",
   "execution_count": 22,
   "id": "4fd070e5",
   "metadata": {},
   "outputs": [],
   "source": [
    "true_positive = np.sum(results[results['conform'] == 1]['distance'] < threshold_value)\n",
    "true_negative = np.sum(results[results['conform'] == 0]['distance'] > threshold_value)\n",
    "false_positive = np.sum(results[results['conform'] == 0]['distance'] < threshold_value)\n",
    "false_negative = np.sum(results[results['conform'] == 1]['distance'] > threshold_value)"
   ]
  },
  {
   "cell_type": "code",
   "execution_count": 23,
   "id": "49e04a00",
   "metadata": {},
   "outputs": [
    {
     "name": "stdout",
     "output_type": "stream",
     "text": [
      "Accuracy: 0.860\n"
     ]
    }
   ],
   "source": [
    "# Calculate accuracy\n",
    "accuracy = (true_positive + true_negative) / (true_positive + true_negative + false_positive + false_negative)\n",
    "print(f\"Accuracy: {accuracy:.3f}\")"
   ]
  },
  {
   "cell_type": "code",
   "execution_count": 24,
   "id": "d2c99f41",
   "metadata": {},
   "outputs": [
    {
     "name": "stdout",
     "output_type": "stream",
     "text": [
      "F1: 0.876\n"
     ]
    }
   ],
   "source": [
    "# Calculate f1\n",
    "\n",
    "precision = true_positive / (true_positive + false_positive)\n",
    "recall = true_positive / (true_positive + false_negative)\n",
    "\n",
    "f1 = 2 * ((precision * recall) / (precision + recall))\n",
    "print(f\"F1: {f1:.3f}\")"
   ]
  },
  {
   "cell_type": "markdown",
   "id": "84517e62",
   "metadata": {},
   "source": [
    "# Dev (Non Conform Traces)"
   ]
  },
  {
   "cell_type": "code",
   "execution_count": 25,
   "id": "c2ee1358",
   "metadata": {},
   "outputs": [
    {
     "name": "stdout",
     "output_type": "stream",
     "text": [
      "Precision: 0.831\n"
     ]
    }
   ],
   "source": [
    "# Calculate precision\n",
    "precision = true_negative / (true_negative + false_negative)\n",
    "print(f\"Precision: {precision:.3f}\")"
   ]
  },
  {
   "cell_type": "code",
   "execution_count": 26,
   "id": "bae990e2",
   "metadata": {},
   "outputs": [
    {
     "name": "stdout",
     "output_type": "stream",
     "text": [
      "Recall: 0.849\n"
     ]
    }
   ],
   "source": [
    "# Calculate recall\n",
    "recall = true_negative / (true_negative + false_positive)\n",
    "print(f\"Recall: {recall:.3f}\")"
   ]
  },
  {
   "cell_type": "markdown",
   "id": "bad762a8",
   "metadata": {},
   "source": [
    "# No Dev (Conform Traces)"
   ]
  },
  {
   "cell_type": "code",
   "execution_count": 27,
   "id": "9bcb5eec",
   "metadata": {},
   "outputs": [
    {
     "name": "stdout",
     "output_type": "stream",
     "text": [
      "Precision: 0.883\n"
     ]
    }
   ],
   "source": [
    "# Calculate precision\n",
    "precision = true_positive / (true_positive + false_positive)\n",
    "print(f\"Precision: {precision:.3f}\")"
   ]
  },
  {
   "cell_type": "code",
   "execution_count": 28,
   "id": "bcd30d5a",
   "metadata": {},
   "outputs": [
    {
     "name": "stdout",
     "output_type": "stream",
     "text": [
      "Recall: 0.868\n"
     ]
    }
   ],
   "source": [
    "# Calculate recall\n",
    "recall = true_positive / (true_positive + false_negative)\n",
    "print(f\"Recall: {recall:.3f}\")"
   ]
  },
  {
   "cell_type": "markdown",
   "id": "a2a9c153",
   "metadata": {},
   "source": [
    "# AUC_ROC"
   ]
  },
  {
   "cell_type": "code",
   "execution_count": 29,
   "id": "b57c4018",
   "metadata": {},
   "outputs": [
    {
     "data": {
      "image/png": "[encoded data removed]",
      "text/plain": [
       "<Figure size 640x480 with 1 Axes>"
      ]
     },
     "metadata": {},
     "output_type": "display_data"
    },
    {
     "name": "stdout",
     "output_type": "stream",
     "text": [
      "ROC AUC: 0.886\n"
     ]
    }
   ],
   "source": [
    "# UPDATED\n",
    "\n",
    "import numpy as np\n",
    "from sklearn.metrics import roc_curve, roc_auc_score\n",
    "import matplotlib.pyplot as plt\n",
    "\n",
    "# Assuming 'results' is your DataFrame and 'distance' is the score to predict conformity\n",
    "\n",
    "# Inverting the 'distance' scores because higher scores indicate non-conformity\n",
    "# We invert the scores for ROC AUC calculation because roc_auc_score expects higher values\n",
    "# to indicate higher likelihood of the positive class\n",
    "inverted_scores = 1 - results['distance']\n",
    "\n",
    "# Calculate the ROC curve and AUC using inverted scores\n",
    "fpr, tpr, thresholds = roc_curve(results['conform'], inverted_scores, pos_label=1)\n",
    "roc_auc = roc_auc_score(results['conform'], inverted_scores)\n",
    "\n",
    "# Plot ROC curve\n",
    "plt.figure()\n",
    "plt.plot(fpr, tpr, color='orange', label=f'ROC curve (area = {roc_auc:0.2f})')\n",
    "plt.plot([0, 1], [0, 1], color='darkblue', linestyle='--')\n",
    "plt.xlabel('False Positive Rate')\n",
    "plt.ylabel('True Positive Rate')\n",
    "plt.title('Receiver Operating Characteristic (ROC) Curve')\n",
    "plt.legend(loc='lower right')\n",
    "plt.show()\n",
    "\n",
    "# Print the AUC\n",
    "print(f\"ROC AUC: {roc_auc:.3f}\")"
   ]
  },
  {
   "cell_type": "markdown",
   "id": "57efebf8",
   "metadata": {},
   "source": [
    "# Deviations"
   ]
  },
  {
   "cell_type": "markdown",
   "id": "d97e5f9a",
   "metadata": {},
   "source": [
    "### a) identify closest trace"
   ]
  },
  {
   "cell_type": "code",
   "execution_count": 30,
   "id": "3208061b",
   "metadata": {},
   "outputs": [
    {
     "data": {
      "application/vnd.jupyter.widget-view+json": {
       "model_id": "9275be76f8df43ffbbc6cb25f40d1830",
       "version_major": 2,
       "version_minor": 0
      },
      "text/plain": [
       "aligning log, completed variants ::   0%|          | 0/202 [00:00<?, ?it/s]"
      ]
     },
     "metadata": {},
     "output_type": "display_data"
    }
   ],
   "source": [
    "# INPUT TRACE 1\n",
    "\n",
    "\n",
    "\n",
    "import pm4py\n",
    "from pm4py.objects.log.importer.xes import importer as xes_importer\n",
    "from pm4py.objects.bpmn.importer import importer as bpmn_importer\n",
    "from pm4py.algo.conformance.alignments.petri_net import algorithm as alignments_petri\n",
    "\n",
    "# 2. Import the given BPMN model\n",
    "bpmn_graph = bpmn_importer.apply(\"../../data/input_traces/prepaid_trace1.bpmn\")\n",
    "\n",
    "# 3. Convert the BPMN to a Petri net\n",
    "net, initial_marking, final_marking = pm4py.convert_to_petri_net(bpmn_graph)\n",
    "\n",
    "aligned_input_trace1 = generate_alignments_adjusted_tracecost_pkl(log, net, initial_marking, final_marking)"
   ]
  },
  {
   "cell_type": "code",
   "execution_count": 31,
   "id": "044bbb39",
   "metadata": {},
   "outputs": [
    {
     "data": {
      "application/vnd.jupyter.widget-view+json": {
       "model_id": "aba3aaa610334bb2856e1e4c3d3e73bf",
       "version_major": 2,
       "version_minor": 0
      },
      "text/plain": [
       "aligning log, completed variants ::   0%|          | 0/202 [00:00<?, ?it/s]"
      ]
     },
     "metadata": {},
     "output_type": "display_data"
    }
   ],
   "source": [
    "# INPUT TRACE 2\n",
    "\n",
    "\n",
    "\n",
    "import pm4py\n",
    "from pm4py.objects.log.importer.xes import importer as xes_importer\n",
    "from pm4py.objects.bpmn.importer import importer as bpmn_importer\n",
    "from pm4py.algo.conformance.alignments.petri_net import algorithm as alignments_petri\n",
    "\n",
    "# 2. Import the given BPMN model\n",
    "bpmn_graph = bpmn_importer.apply(\"../../data/input_traces/prepaid_trace2.bpmn\")\n",
    "\n",
    "# 3. Convert the BPMN to a Petri net\n",
    "net, initial_marking, final_marking = pm4py.convert_to_petri_net(bpmn_graph)\n",
    "\n",
    "aligned_input_trace2 = generate_alignments_adjusted_tracecost_pkl(log, net, initial_marking, final_marking)"
   ]
  },
  {
   "cell_type": "code",
   "execution_count": 32,
   "id": "789c71ea",
   "metadata": {},
   "outputs": [
    {
     "data": {
      "application/vnd.jupyter.widget-view+json": {
       "model_id": "c78b84fcb0d24a5b91073ea5eefd7f00",
       "version_major": 2,
       "version_minor": 0
      },
      "text/plain": [
       "aligning log, completed variants ::   0%|          | 0/202 [00:00<?, ?it/s]"
      ]
     },
     "metadata": {},
     "output_type": "display_data"
    }
   ],
   "source": [
    "# INPUT TRACE 3\n",
    "\n",
    "\n",
    "\n",
    "import pm4py\n",
    "from pm4py.objects.log.importer.xes import importer as xes_importer\n",
    "from pm4py.objects.bpmn.importer import importer as bpmn_importer\n",
    "from pm4py.algo.conformance.alignments.petri_net import algorithm as alignments_petri\n",
    "\n",
    "# 2. Import the given BPMN model\n",
    "bpmn_graph = bpmn_importer.apply(\"../../data/input_traces/prepaid_trace3.bpmn\")\n",
    "\n",
    "# 3. Convert the BPMN to a Petri net\n",
    "net, initial_marking, final_marking = pm4py.convert_to_petri_net(bpmn_graph)\n",
    "\n",
    "aligned_input_trace3 = generate_alignments_adjusted_tracecost_pkl(log, net, initial_marking, final_marking)"
   ]
  },
  {
   "cell_type": "code",
   "execution_count": 33,
   "id": "cce0dafc",
   "metadata": {},
   "outputs": [],
   "source": [
    "# Calculate Euclidean distance\n",
    "def euclidean_distance(arr1, arr2):\n",
    "    return np.linalg.norm(arr1 - arr2)\n",
    "\n",
    "# Prepare a list to store the results\n",
    "distance = []\n",
    "\n",
    "# Iterate through each subarray in one_hot_encoding\n",
    "for subarray in one_hot_encoding:\n",
    "    dist_to_trace1 = euclidean_distance(subarray, happy_trace1)\n",
    "    dist_to_trace2 = euclidean_distance(subarray, happy_trace2)\n",
    "    dist_to_trace3 = euclidean_distance(subarray, happy_trace3)\n",
    "    \n",
    "    distances = [dist_to_trace1, dist_to_trace2, dist_to_trace3]\n",
    "    closest_trace_index = np.argmin(distances)\n",
    "    closest_trace = f'trace_{closest_trace_index + 1}'\n",
    "    \n",
    "    distance.append({\n",
    "        'Distance to Trace 1': dist_to_trace1,\n",
    "        'Distance to Trace 2': dist_to_trace2,\n",
    "        'Distance to Trace 3': dist_to_trace3,\n",
    "        'Closest Trace': closest_trace\n",
    "    })\n",
    "\n",
    "# Create DataFrame\n",
    "closest_distance = pd.DataFrame(distance)"
   ]
  },
  {
   "cell_type": "markdown",
   "id": "c43a7ef5",
   "metadata": {},
   "source": [
    "### b) identify deviations"
   ]
  },
  {
   "cell_type": "code",
   "execution_count": 34,
   "id": "9b5d563e",
   "metadata": {},
   "outputs": [],
   "source": [
    "# Initialize the merged list\n",
    "aligned_input_trace = []\n",
    "\n",
    "# Iterate through each row of the fitness dataframe\n",
    "for index, row in closest_distance.iterrows():\n",
    "    closest_trace = row['Closest Trace']\n",
    "    \n",
    "    # Append the corresponding alignment to the merged list based on the closest trace\n",
    "    if closest_trace == 'trace_1':\n",
    "        aligned_input_trace.append(aligned_input_trace1[index])\n",
    "    elif closest_trace == 'trace_2':\n",
    "        aligned_input_trace.append(aligned_input_trace2[index])\n",
    "    elif closest_trace == 'trace_3':\n",
    "        aligned_input_trace.append(aligned_input_trace3[index])"
   ]
  },
  {
   "cell_type": "code",
   "execution_count": 35,
   "id": "7c812dbd",
   "metadata": {},
   "outputs": [],
   "source": [
    "# Extract fitness values\n",
    "aligned_traces_fitness = [trace['fitness'] for trace in aligned_traces]\n",
    "aligned_input_traces_fitness = [trace['fitness'] for trace in aligned_input_trace]\n",
    "\n",
    "# Create DataFrame\n",
    "df_fitness = pd.DataFrame({\n",
    "    'ground_truth_fit': aligned_traces_fitness,\n",
    "    'predicted_fit': aligned_input_traces_fitness\n",
    "})"
   ]
  },
  {
   "cell_type": "markdown",
   "id": "8c3a1fd1",
   "metadata": {},
   "source": [
    "- The logic compares log and model moves in `aligned_traces` and `aligned_input_trace` at each corresponding outer index. It extracts moves from both traces and counts them as detected if they match in both content and presence, regardless of their inner positions within the alignment."
   ]
  },
  {
   "cell_type": "code",
   "execution_count": 36,
   "id": "d2f307d1",
   "metadata": {},
   "outputs": [],
   "source": [
    "# Find indices where 'predicted' column has value 1\n",
    "indices_to_keep = results[results['conform'] == 0].index.tolist()\n",
    "\n",
    "# Filter the lists to keep only the indices where 'predicted' is 1\n",
    "aligned_input_trace = [aligned_input_trace[i] for i in indices_to_keep]\n",
    "aligned_traces = [aligned_traces[i] for i in indices_to_keep]"
   ]
  },
  {
   "cell_type": "code",
   "execution_count": 37,
   "id": "c4d8be7d",
   "metadata": {},
   "outputs": [
    {
     "name": "stdout",
     "output_type": "stream",
     "text": [
      "Log Moves: TP=1084, FP=1156, FN=34, TN=6495\n",
      "Precision (Log Moves): 0.4839\n",
      "Recall (Log Moves): 0.9696\n",
      "F1 Score (Log Moves): 0.6456\n",
      "Log Move Percentage: 7.62%\n",
      "No Log Move Percentage: 92.38%\n",
      "\n",
      "Model Moves: TP=1414, FP=886, FN=145, TN=6495\n",
      "Precision (Model Moves): 0.6148\n",
      "Recall (Model Moves): 0.9070\n",
      "F1 Score (Model Moves): 0.7328\n",
      "Model Move Percentage: 10.63%\n",
      "No Model Move Percentage: 89.37%\n"
     ]
    }
   ],
   "source": [
    "# Function to extract log and model moves excluding (None, >>) and (>>, None)\n",
    "def extract_moves(alignment):\n",
    "    log_moves = [move for move in alignment if move[1] == '>>' and move[0] is not None]\n",
    "    model_moves = [move for move in alignment if move[0] == '>>' and move[1] is not None]\n",
    "    return log_moves, model_moves\n",
    "\n",
    "# Initialize counts for moves\n",
    "total_log_moves = 0\n",
    "total_no_log_moves = 0\n",
    "total_model_moves = 0\n",
    "total_no_model_moves = 0\n",
    "\n",
    "# Initialize counts for TP, FP, FN, TN\n",
    "tp_log_moves = 0\n",
    "fp_log_moves = 0\n",
    "fn_log_moves = 0\n",
    "tn_log_moves = 0\n",
    "\n",
    "tp_model_moves = 0\n",
    "fp_model_moves = 0\n",
    "fn_model_moves = 0\n",
    "tn_model_moves = 0\n",
    "\n",
    "# Iterate through aligned traces and count moves\n",
    "for i, aligned_trace in enumerate(aligned_traces):\n",
    "    log_moves_gt, model_moves_gt = extract_moves(aligned_trace['alignment'])\n",
    "    total_log_moves += len(log_moves_gt)\n",
    "    total_no_log_moves += sum(1 for move in aligned_trace['alignment'] if move[1] != '>>' or move[0] is None)\n",
    "    total_model_moves += len(model_moves_gt)\n",
    "    total_no_model_moves += sum(1 for move in aligned_trace['alignment'] if move[0] != '>>' or move[1] is None)\n",
    "    \n",
    "    if i < len(aligned_input_trace):\n",
    "        log_moves_input, model_moves_input = extract_moves(aligned_input_trace[i]['alignment'])\n",
    "        \n",
    "        # Calculate TP, FP, FN, TN for log moves\n",
    "        tp_log_moves += sum(1 for move in log_moves_gt if move in log_moves_input)\n",
    "        fn_log_moves += sum(1 for move in log_moves_gt if move not in log_moves_input)\n",
    "        fp_log_moves += sum(1 for move in log_moves_input if move not in log_moves_gt)\n",
    "        tn_log_moves += sum(1 for move in aligned_trace['alignment'] if move not in log_moves_gt and move not in log_moves_input and move[1] != '>>' and move[0] != '>>')\n",
    "        \n",
    "        # Calculate TP, FP, FN, TN for model moves\n",
    "        tp_model_moves += sum(1 for move in model_moves_gt if move in model_moves_input)\n",
    "        fn_model_moves += sum(1 for move in model_moves_gt if move not in model_moves_input)\n",
    "        fp_model_moves += sum(1 for move in model_moves_input if move not in model_moves_gt)\n",
    "        tn_model_moves += sum(1 for move in aligned_trace['alignment'] if move not in model_moves_gt and move not in model_moves_input and move[1] != '>>' and move[0] != '>>')\n",
    "\n",
    "# Calculate recall, precision, F1 score for log moves\n",
    "recall_log_moves = tp_log_moves / (tp_log_moves + fn_log_moves) if (tp_log_moves + fn_log_moves) > 0 else 0\n",
    "precision_log_moves = tp_log_moves / (tp_log_moves + fp_log_moves) if (tp_log_moves + fp_log_moves) > 0 else 0\n",
    "f1_score_log_moves = 2 * (precision_log_moves * recall_log_moves) / (precision_log_moves + recall_log_moves) if (precision_log_moves + recall_log_moves) > 0 else 0\n",
    "\n",
    "# Calculate recall, precision, F1 score for model moves\n",
    "recall_model_moves = tp_model_moves / (tp_model_moves + fn_model_moves) if (tp_model_moves + fn_model_moves) > 0 else 0\n",
    "precision_model_moves = tp_model_moves / (tp_model_moves + fp_model_moves) if (tp_model_moves + fp_model_moves) > 0 else 0\n",
    "f1_score_model_moves = 2 * (precision_model_moves * recall_model_moves) / (precision_model_moves + recall_model_moves) if (precision_model_moves + recall_model_moves) > 0 else 0\n",
    "\n",
    "# Calculate dataset balance for log moves\n",
    "log_move_percentage = (total_log_moves / (total_log_moves + total_no_log_moves)) * 100 if (total_log_moves + total_no_log_moves) > 0 else 0\n",
    "no_log_move_percentage = (total_no_log_moves / (total_log_moves + total_no_log_moves)) * 100 if (total_log_moves + total_no_log_moves) > 0 else 0\n",
    "\n",
    "# Calculate dataset balance for model moves\n",
    "model_move_percentage = (total_model_moves / (total_model_moves + total_no_model_moves)) * 100 if (total_model_moves + total_no_model_moves) > 0 else 0\n",
    "no_model_move_percentage = (total_no_model_moves / (total_model_moves + total_no_model_moves)) * 100 if (total_model_moves + total_no_model_moves) > 0 else 0\n",
    "\n",
    "# Print results for log moves\n",
    "print(f\"Log Moves: TP={tp_log_moves}, FP={fp_log_moves}, FN={fn_log_moves}, TN={tn_log_moves}\")\n",
    "print(f\"Precision (Log Moves): {precision_log_moves:.4f}\")\n",
    "print(f\"Recall (Log Moves): {recall_log_moves:.4f}\")\n",
    "print(f\"F1 Score (Log Moves): {f1_score_log_moves:.4f}\")\n",
    "print(f\"Log Move Percentage: {log_move_percentage:.2f}%\")\n",
    "print(f\"No Log Move Percentage: {no_log_move_percentage:.2f}%\")\n",
    "print(\"\")\n",
    "\n",
    "# Print results for model moves\n",
    "print(f\"Model Moves: TP={tp_model_moves}, FP={fp_model_moves}, FN={fn_model_moves}, TN={tn_model_moves}\")\n",
    "print(f\"Precision (Model Moves): {precision_model_moves:.4f}\")\n",
    "print(f\"Recall (Model Moves): {recall_model_moves:.4f}\")\n",
    "print(f\"F1 Score (Model Moves): {f1_score_model_moves:.4f}\")\n",
    "print(f\"Model Move Percentage: {model_move_percentage:.2f}%\")\n",
    "print(f\"No Model Move Percentage: {no_model_move_percentage:.2f}%\")"
   ]
  },
  {
   "cell_type": "code",
   "execution_count": 38,
   "id": "5e5f4b5b",
   "metadata": {},
   "outputs": [],
   "source": [
    "# Filter the other dataframe using the indices_to_keep\n",
    "df_fitness = df_fitness.loc[indices_to_keep]"
   ]
  },
  {
   "cell_type": "code",
   "execution_count": 39,
   "id": "986d9a51",
   "metadata": {},
   "outputs": [
    {
     "name": "stdout",
     "output_type": "stream",
     "text": [
      "The Mean Squared Error (MSE) is: 0.0030\n"
     ]
    }
   ],
   "source": [
    "from sklearn.metrics import mean_squared_error\n",
    "\n",
    "# Calculate MSE\n",
    "mse = mean_squared_error(df_fitness['ground_truth_fit'], df_fitness['predicted_fit'])\n",
    "\n",
    "# Print the MSE restricted to 4 decimal places\n",
    "print(f\"The Mean Squared Error (MSE) is: {mse:.4f}\")"
   ]
  }
 ],
 "metadata": {
  "kernelspec": {
   "display_name": "Python 3 (ipykernel)",
   "language": "python",
   "name": "python3"
  },
  "language_info": {
   "codemirror_mode": {
    "name": "ipython",
    "version": 3
   },
   "file_extension": ".py",
   "mimetype": "text/x-python",
   "name": "python",
   "nbconvert_exporter": "python",
   "pygments_lexer": "ipython3",
   "version": "3.9.13"
  }
 },
 "nbformat": 4,
 "nbformat_minor": 5
}
